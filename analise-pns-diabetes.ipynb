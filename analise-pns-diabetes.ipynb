{
 "cells": [
  {
   "cell_type": "raw",
   "metadata": {},
   "source": [
    "---\n",
    "title: \"Análise, PNS - DIABETES\"\n",
    "author: \"Diego Aguirre, Gabriel Rodrigues, Henrique Alves\"\n",
    "date: '2019'\n",
    "output:\n",
    "  html_document: default\n",
    "  pdf_document: default\n",
    "  word_document: default\n",
    "subtitle: Data Prep\n",
    "---"
   ]
  },
  {
   "cell_type": "code",
   "execution_count": 13,
   "metadata": {},
   "outputs": [
    {
     "name": "stderr",
     "output_type": "stream",
     "text": [
      "also installing the dependencies 'rlang', 'dplyr'\n",
      "\n",
      "Warning message:\n",
      "\"package 'dplyr' is in use and will not be installed\""
     ]
    },
    {
     "name": "stdout",
     "output_type": "stream",
     "text": [
      "package 'rlang' successfully unpacked and MD5 sums checked\n"
     ]
    },
    {
     "name": "stderr",
     "output_type": "stream",
     "text": [
      "Warning message:\n",
      "\"cannot remove prior installation of package 'rlang'\"Warning message in file.copy(savedcopy, lib, recursive = TRUE):\n",
      "\"problem copying C:\\Users\\Henrique\\Anaconda3\\Lib\\R\\library\\00LOCK\\rlang\\libs\\x64\\rlang.dll to C:\\Users\\Henrique\\Anaconda3\\Lib\\R\\library\\rlang\\libs\\x64\\rlang.dll: Permission denied\"Warning message:\n",
      "\"restored 'rlang'\""
     ]
    },
    {
     "name": "stdout",
     "output_type": "stream",
     "text": [
      "package 'tidyr' successfully unpacked and MD5 sums checked\n",
      "\n",
      "The downloaded binary packages are in\n",
      "\tC:\\Users\\Public\\Documents\\Wondershare\\CreatorTemp\\RtmponNWEJ\\downloaded_packages\n"
     ]
    }
   ],
   "source": [
    "install.packages(\"tidyr\")"
   ]
  },
  {
   "cell_type": "code",
   "execution_count": 2,
   "metadata": {
    "message": false,
    "tags": [
     "remove_input"
    ],
    "warning": false
   },
   "outputs": [
    {
     "name": "stderr",
     "output_type": "stream",
     "text": [
      "dummies-1.5.6 provided by Decision Patterns\n",
      "\n",
      "Warning message:\n",
      "\"package 'mlr' was built under R version 3.6.3\"Loading required package: ParamHelpers\n",
      "Warning message:\n",
      "\"package 'ParamHelpers' was built under R version 3.6.3\"'mlr' is in maintenance mode since July 2019. Future development\n",
      "efforts will go into its successor 'mlr3' (<https://mlr3.mlr-org.com>).\n",
      "Warning message:\n",
      "\"package 'caret' was built under R version 3.6.3\"Loading required package: lattice\n"
     ]
    },
    {
     "ename": "ERROR",
     "evalue": "Error: package or namespace load failed for 'caret' in loadNamespace(i, c(lib.loc, .libPaths()), versionCheck = vI[[i]]):\n namespace 'rlang' 0.3.4 is already loaded, but >= 0.4.0 is required\n",
     "output_type": "error",
     "traceback": [
      "Error: package or namespace load failed for 'caret' in loadNamespace(i, c(lib.loc, .libPaths()), versionCheck = vI[[i]]):\n namespace 'rlang' 0.3.4 is already loaded, but >= 0.4.0 is required\nTraceback:\n",
      "1. library(caret)",
      "2. tryCatch({\n .     attr(package, \"LibPath\") <- which.lib.loc\n .     ns <- loadNamespace(package, lib.loc)\n .     env <- attachNamespace(ns, pos = pos, deps, exclude, include.only)\n . }, error = function(e) {\n .     P <- if (!is.null(cc <- conditionCall(e))) \n .         paste(\" in\", deparse(cc)[1L])\n .     else \"\"\n .     msg <- gettextf(\"package or namespace load failed for %s%s:\\n %s\", \n .         sQuote(package), P, conditionMessage(e))\n .     if (logical.return) \n .         message(paste(\"Error:\", msg), domain = NA)\n .     else stop(msg, call. = FALSE, domain = NA)\n . })",
      "3. tryCatchList(expr, classes, parentenv, handlers)",
      "4. tryCatchOne(expr, names, parentenv, handlers[[1L]])",
      "5. value[[3L]](cond)",
      "6. stop(msg, call. = FALSE, domain = NA)"
     ]
    }
   ],
   "source": [
    "library(srvyr)\n",
    "library(ggplot2)\n",
    "library(ggpubr)\n",
    "library(dplyr)\n",
    "library(knitr)\n",
    "# library(tidyr)\n",
    "library(dummies)\n",
    "library(mlr)\n",
    "library(caret)\n",
    "library(AER)"
   ]
  },
  {
   "cell_type": "markdown",
   "metadata": {},
   "source": [
    "# Introdução\n",
    "\n",
    "## R Markdown\n",
    "\n",
    "## Leitura e preparação dos dados\n",
    "\n",
    "Os dados da Pesquisa Nacional de Saúde 2013 são disponibilizados pelo IBGE no seu site. \n",
    "\n",
    "**É importante lembrar que os dados relacionados a diabetes consideram pessoas com 18 anos ou mais**; por isso, o total de pessoas não é exatamente a população brasileira, isto é, perto de 200 milhões. mas é aproximadamente 143 milhões, com os dados de 2013."
   ]
  },
  {
   "cell_type": "code",
   "execution_count": 3,
   "metadata": {
    "lines_to_next_cell": 2,
    "message": false,
    "tags": [
     "remove_input"
    ],
    "warning": false
   },
   "outputs": [
    {
     "name": "stderr",
     "output_type": "stream",
     "text": [
      "Loading required package: grid\n",
      "Loading required package: Matrix\n",
      "Loading required package: survival\n",
      "\n",
      "Attaching package: 'survey'\n",
      "\n",
      "The following object is masked from 'package:graphics':\n",
      "\n",
      "    dotchart\n",
      "\n"
     ]
    }
   ],
   "source": [
    "\n",
    "#ajustar como os resutados serão mostrados\n",
    "options( survey.lonely.psu = \"adjust\" )\n",
    "\n",
    "library(survey)\n",
    "\n",
    "#importando a biblioteca.\n",
    "pns_design <- readRDS(file.path(path.expand( \"..\" ) ,\n",
    "                                \"databases\",\n",
    "                                \"2013 long questionnaire survey design.rds\" ))\n"
   ]
  },
  {
   "cell_type": "markdown",
   "metadata": {},
   "source": [
    "### Variáveis interessantes para análise\n",
    "\n",
    "Variáveis Demográficas e Pessoais:\n",
    "\n",
    "* `c006` - Sexo:\n",
    "    + `1` - masculino\n",
    "    + `2` - feminino\n",
    "* `c009` - Cor ou Raça\n",
    "   + `1` - Branca\n",
    "   + `2` - Preta\n",
    "   + `3` - Amarela\n",
    "   + `4` - Parda\n",
    "   + `5` - Indígena\n",
    "   + `9` - Ignorado\n",
    "* `d009` - curso mais avançado que cursou?\n",
    "   + `01` - Classe de alfabetização – CA \n",
    "   + `02` - Alfabetização de jovens e adultos\n",
    "   + `03` - Antigo primário (elementar)\n",
    "   + `04` - Antigo ginásio (médio 1º ciclo)\n",
    "   + `05` - Regular do ensino fundamental ou do 1º grau \n",
    "   + `06` - Educação de jovens e adultos (EJA) ou supletivo do ensino fundamental\n",
    "   + `07` - Antigo científico, clássico etc. (médio 2º ciclo)\n",
    "   + `08` - Regular do ensino médio ou do 2º grau\n",
    "   + `09` - Educação de jovens e adultos (EJA) ou supletivo do ensino médio\n",
    "   + `10` - Superior - graduação\n",
    "   + `11` - Mestrado\n",
    "   + `12` - Doutorado\n",
    "   + `  ` - Não aplicável\n",
    "* `w00103` - peso\n",
    "* `w00203` - altura\n",
    "\n",
    "Variáveis de Estilo de vida:\n",
    "\n",
    "* `p009` - quantos dias na semana o indivíduo come vegetais\n",
    "* `p018` - quantos dias na semana o indivíduo come frutas\n",
    "* `p020` - quantos dias na semana o indivíduo consome regrigerantes e sucos industriais\n",
    "* `p025` - quantos dias na semana o indivíduo come alimentos doces(bolos, tortas, chocolates...)\n",
    "* `p026` - quantos dias na semana o indivíduo substitui almoço ou janta por sanduiches, salgados ou pizzas.\n",
    "* `p028` - quantos dias na semana o indivíduo consome bebidas alcoolicas\n",
    "* `p035`  - quantos dias por semana costuma praticar exerc físico ou esporte\n",
    "* `w00103` - peso final (medido) (kg)\n",
    "* `w00203` - altura final (medido) (cm)"
   ]
  },
  {
   "cell_type": "markdown",
   "metadata": {},
   "source": [
    "Variáveis de Doenças Crônicas\n",
    "\n",
    "* `Q002`\t- Algum médico já lhe deu o diagnóstico de hipertensão arterial (pressão alta)?\n",
    "   + `1` - Sim\n",
    "   + `2` - Apenas durante a gravidez\n",
    "   + `3` - Não\n",
    "            Não aplicavel\n",
    "* `Q029`\t- \n",
    "   + `1` - Há menos de 6 meses\n",
    "   + `2` - Entre 6 meses  e menos de 1 ano\n",
    "   + `3` - Entre 1 ano e menos de 2 anos\n",
    "   + `4` - Entre 2 anos e menos de 3 anos\n",
    "   + `5` - Há 3 anos ou mais\n",
    "   + `6` - Nunca fez\n",
    "            Não aplicavel\n",
    "* `Q030`\t- Algum médico já lhe deu o diagnóstico de diabetes? (CLASSE A SER PREDITA)\n",
    "   + `1` - Sim\n",
    "   + `2` - Apenas durante a gravidez (só para mulheres)\n",
    "   + `3` - Não\n",
    "            Não aplicavel\n",
    "* `Q060`\t- Algum médico já lhe deu o diagnóstico de colesterol alto?\n",
    "   + `1` - Sim\n",
    "   + `2` - Não\n",
    "            Não aplicavel\n",
    "* `Q068`\t- Algum médico já lhe deu o diagnóstico de AVC (Acidente Vascular cerebral) ou derrame?\n",
    "   + `1` - Sim\n",
    "   + `2` - Não\n",
    "            Não aplicavel\n",
    "* `Q124`\t- Algum médico já lhe deu o diagnóstico de insuficiência renal crônica?\n",
    "   + `1` - Sim\n",
    "   + `2` - Não\n",
    "            Não aplicavel\n",
    "* `R039`\t-R39. Durante a sua vida, a sra já ficou grávida (mesmo que a gravidez não tenha chegado até o final)?\n",
    "   + `1` - Sim\n",
    "   + `2` - Não\n",
    "            Não aplicavel\n",
    "\n",
    "Variáveis de Identificação e controle\n",
    "\n",
    "V0001 - Unidade da Federação\n",
    "V0026\t- Tipo de situação censitária\n",
    "\n"
   ]
  },
  {
   "cell_type": "code",
   "execution_count": null,
   "metadata": {
    "message": false,
    "warning": false
   },
   "outputs": [],
   "source": [
    "#Utilizando o pacote `srvyr`\n",
    "library(srvyr)\n",
    "library(ggplot2)\n",
    "library(ggpubr)\n",
    "library(dplyr)\n",
    "library(knitr)\n",
    "library(tidyr)"
   ]
  },
  {
   "cell_type": "code",
   "execution_count": 4,
   "metadata": {
    "tags": [
     "remove_input"
    ]
   },
   "outputs": [],
   "source": [
    "#adiciona a sintaxe dplyr de manipulação de dados ao pacote survey\n",
    "pns_design_srvyr <- as_survey_design(pns_design)"
   ]
  },
  {
   "cell_type": "markdown",
   "metadata": {},
   "source": [
    "## Criação de variáveis adicionais"
   ]
  },
  {
   "cell_type": "markdown",
   "metadata": {},
   "source": [
    "### IMC -- Índice de Massa Corporal\n",
    "\n",
    "Ao invés de utilizarmos diretamente o peso como uma variável de comparação, vamos utilizar o Índice de Massa Corporal (IMC), definido como: \n",
    "\n",
    "$$\\mbox{IMC} = \\frac{\\mbox{peso}}{\\mbox{altura}^2}$$"
   ]
  },
  {
   "cell_type": "code",
   "execution_count": 5,
   "metadata": {
    "tags": [
     "remove_input"
    ]
   },
   "outputs": [],
   "source": [
    "pns_design_srvyr <- pns_design_srvyr %>% mutate(imc = w00103/(w00203/100*w00203/100)) "
   ]
  },
  {
   "cell_type": "markdown",
   "metadata": {},
   "source": [
    "Vamos considerar também as faixas do IMC definidas pela Organização Mundial da Saúde, conforme mostrado na tabela a seguir:\n",
    "\n",
    "Classificação        |  Faixa de Peso    |       Sintomas\n",
    "---------------------|-------------------|----------------------------------------------------\n",
    "Muito abaixo do peso |16 a 16,9 kg/m2    | Queda de cabelo, infertilidade, ausência menstrual\n",
    "Abaixo do peso       |17 a 18,4 kg/m2    | Fadiga, stress, ansiedade\n",
    "Peso normal          |18,5 a 24,9 kg/m2  | Menor risco de doenças cardíacas e vasculares\n",
    "Acima do peso        |25 a 29,9 kg/m2    | Fadiga, má circulação, varizes\n",
    "Obesidade Grau I     |30 a 34,9 kg/m2    | Diabetes, angina, infarto, aterosclerose\n",
    "Obesidade Grau II    |35 a 40 kg/m2      | Apneia do sono, falta de ar\n",
    "Obesidade Grau III   |maior que 40 kg/m2 | Refluxo, dificuldade para se mover, escaras, diabetes, infarto, AVC"
   ]
  },
  {
   "cell_type": "code",
   "execution_count": 6,
   "metadata": {
    "tags": [
     "remove_input"
    ]
   },
   "outputs": [],
   "source": [
    "pns_design_srvyr <- pns_design_srvyr %>% \n",
    "     mutate(imcclass = case_when(imc < 17.0 ~ \"1\",\n",
    "                                 imc >= 17.0 & imc < 18.5 ~ \"2\",\n",
    "                                 imc >= 18.5 & imc < 25.0 ~ \"3\",\n",
    "                                 imc >= 25.0 & imc < 30.0 ~ \"4\",\n",
    "                                 imc >= 30.0 & imc < 35.0 ~ \"5\",\n",
    "                                 imc >= 35.0 & imc < 40.0 ~ \"6\",\n",
    "                                 imc >= 40.0 ~ \"7\"\n",
    "                                 ))\n"
   ]
  },
  {
   "cell_type": "markdown",
   "metadata": {},
   "source": [
    "### Faixa etária\n",
    "\n",
    "Uma outra classificação interessante é por faixa etária. Temos uma classificação publicada pela Revista Exame no artigo de Novembro de 2016 baseado nos dados da PNAD 2015  [Um retrato do Brasil e do brasileiro, segundo o IBGE](https://exame.abril.com.br/brasil/um-retrato-do-brasil-e-do-brasileiro-segundo-o-ibge/)\n",
    "\n",
    "No artigo mencionado são considerados os seguintes grupos etários:\n",
    "\n",
    "Faixa   |   Classe Aqui\n",
    "--------|-----------------\n",
    "0--4    |  2\n",
    "5--9    |  7\n",
    "10--14  |  12\n",
    "15--19  |  18\n",
    "20--24  |  22\n",
    "25--39  |  32\n",
    "40--59  |  50\n",
    "60+     |  60"
   ]
  },
  {
   "cell_type": "code",
   "execution_count": 7,
   "metadata": {
    "lines_to_next_cell": 0,
    "tags": [
     "remove_input"
    ]
   },
   "outputs": [],
   "source": [
    "# Criando uma variavel de faixa etaria\n",
    "pns_design_srvyr <- pns_design_srvyr %>% mutate(idade = as.numeric(c008))\n",
    "pns_design_srvyr <- pns_design_srvyr %>% \n",
    "     mutate(fxetaria = case_when(idade <   5.0 ~ \"2\",\n",
    "                                 idade >=  5.0 & idade < 10.0 ~ \"7\",\n",
    "                                 idade >= 10.0 & idade < 15.0 ~ \"12\",\n",
    "                                 idade >= 15.0 & idade < 20.0 ~ \"18\",\n",
    "                                 idade >= 20.0 & idade < 25.0 ~ \"22\",\n",
    "                                 idade >= 25.0 & idade < 40.0 ~ \"32\",\n",
    "                                 idade >= 40.0 & idade < 60.0 ~ \"50\",\n",
    "                                 idade >= 60.0 ~ \"60\"))\n",
    "      "
   ]
  },
  {
   "cell_type": "markdown",
   "metadata": {},
   "source": [
    "## Tabulações\n",
    "\n",
    "### Prevalência de pessoas com diabetes\n",
    "\n",
    "Para verificarmos se nossas métricas estão corretas buscamos referência sobre a análise de diabetes pela PNS através de outras fontes:\n",
    "   \n",
    ">**No Brasil, conforme narra o artigo, dados recentes da Pesquisa Nacional em Saúde (PNS) de 2013 estimou a prevalência de Diabetes Mellitus em 6,2% dos participantes com 18 anos ou mais.**\n",
    "   \n",
    "Fiocruz:\n",
    "   https://portal.fiocruz.br/noticia/diabetes-pesquisa-avalia-os-fatores-associados-qualidade-de-vida\n",
    "\n",
    "A Fundação Oswaldo Cruz (Fiocruz) foi uma das responsáveis em parceria com o Instituto Brasileiro de Geografia e Estatística(IBGE) pela PNS. Esse valor demonstra a consistência das nossas análises como vemos no gráfico abaixo onde a taxa de diabéticos correspondeu ao do estudos publicados pela Fiocruz.\n",
    "   \n",
    "Utilizamos a variável `q030` que identifica se o participante já foi diagnosticado com Diabetes por algum médico. Os valores `não aplicável` demonstra as pessoas que nunca fizeram exames de sangue, definidas pela variável `q029` que pergunta quando foi a última vez que a pessoa fez exame de sangue. \n"
   ]
  },
  {
   "cell_type": "code",
   "execution_count": 84,
   "metadata": {
    "tags": [
     "remove_input"
    ]
   },
   "outputs": [
    {
     "data": {
      "image/png": "[encoded data removed]",
      "text/plain": [
       "plot without title"
      ]
     },
     "metadata": {},
     "output_type": "display_data"
    }
   ],
   "source": [
    "# q030 variável de diagnostico de diabetes\n",
    "tir <- survey::svytable(~ q030, pns_design_srvyr)\n",
    "tir.df <- as.data.frame(tir)\n",
    "tir.df$q030 <- c(\"Não Aplicável\", \"Diabético\", \"Diabete Gestacional\", \"Não Diabético\")\n",
    "tir.df$Freq <- tir.df$Freq / sum(tir.df$Freq) \n",
    "\n",
    "options(repr.plot.width = 5, repr.plot.height = 3, repr.plot.res = 100)    \n",
    "p <-ggplot(data=tir.df, aes(x=q030, y=Freq*100, fill = q030)) +\n",
    "  geom_bar(stat=\"identity\") +\n",
    "  geom_text(aes(label=round(Freq*100, digits = 1)), vjust=-0.5, color=\"black\", size=3.5)+ \n",
    "  labs_pubr() + theme_pubr()\n",
    "p\n"
   ]
  },
  {
   "cell_type": "markdown",
   "metadata": {},
   "source": [
    "### Porcentagem de Diagnóstico de Diabetes por sexo\n",
    "\n",
    "Realizando uma análise mais específica, obtivemos também consistência nos dados que dizem a respeita da taxa de diabéticos em relação ao sexo, como resultado obtivemos uma taxa de 5,4% para os homens e 7% para as mulheres. Para verificar a consistência dos dados utilizamos um artigo científico publicado na biblioteca virtual de saúde (SciELO).  \n",
    "   \n",
    "Para o cálculo utilizamos a variável `c006` que representa o sexo do entrevistado e a variável `q030` utilizada na análise anterior.\n",
    "   \n",
    "Artigo:\n",
    "   http://www.scielo.br/scielo.php?pid=s2237-96222015000200305&script=sci_abstract&tlng=pt\n",
    "   "
   ]
  },
  {
   "cell_type": "code",
   "execution_count": 71,
   "metadata": {
    "lines_to_next_cell": 0,
    "tags": [
     "remove_input"
    ]
   },
   "outputs": [
    {
     "data": {
      "image/png": "[encoded data removed]",
      "text/plain": [
       "plot without title"
      ]
     },
     "metadata": {},
     "output_type": "display_data"
    }
   ],
   "source": [
    "\n",
    "# c006 variavel do sexo do individuo\n",
    "\n",
    "diab_sexo <- survey::svytable(~ q030 + c006, pns_design_srvyr)\n",
    "diab_sexo.df <- as.data.frame(diab_sexo)\n",
    "\n",
    "\n",
    "diab_sexo.df[diab_sexo.df$c006 == \"masculino\",c(\"Freq\")] <- diab_sexo.df[diab_sexo.df$c006 == \"masculino\",c(\"Freq\")]/sum(diab_sexo.df[diab_sexo.df$c006 == \"masculino\",c(\"Freq\")] )\n",
    "                                                                                                         diab_sexo.df[diab_sexo.df$c006 == \"feminino\",c(\"Freq\")] <- diab_sexo.df[diab_sexo.df$c006 == \"feminino\",c(\"Freq\")]/sum(diab_sexo.df[diab_sexo.df$c006 == \"feminino\",c(\"Freq\")] )                                 \n",
    "                                                                                       \n",
    "diab_sexo.df$q030 <-  c(\"Não Aplicável\", \"Diabético\", \"Diabete Gestacional\", \"Não Diabético\", \"Não Aplicável\", \"Diabético\", \"Diabete Gestacional\", \"Não Diabético\")\n",
    "\n",
    "options(repr.plot.width = 5, repr.plot.height = 3)                                                                                              \n",
    "p1 <-ggplot(data=diab_sexo.df, aes(x=q030, y=Freq*100 ,fill=c006)) +\n",
    "  geom_bar(position=\"dodge\", stat=\"identity\") +\n",
    "  geom_text(aes(label=round(Freq*100, digits = 1)), position=position_dodge(width=0.9), vjust=-0.5, color=\"black\", size=2)+\n",
    "  theme_minimal()+\n",
    "  ggtitle(\"Porcentagem diabetes em relação ao sexo\") +\n",
    "  xlab(\"Categoria\") + ylab(\"Porcentagem %\") \n",
    "\n",
    "\n",
    "p1\n"
   ]
  },
  {
   "cell_type": "markdown",
   "metadata": {},
   "source": [
    "### Procentagem de diabéticos por Faixa Etária\n",
    "\n",
    "Analisando a população brasileira por faixa etária e considerando apenas pessoas com 60 anos ou mais, obtivemos uma taxa de 18,1% do total dessa população-alvo são diabéticos, utilizando como referência o atlas do IDF de 2017 que utiliza a população acima dos 65 anos de idade que contabiliza um total de 19% de diabéticos, chegamos a valores muito próximos.\n",
    "\n",
    "fonte:\n",
    "   https://www.diabetes.org.br/profissionais/images/2018/poster-atlas-idf-2017.pdf"
   ]
  },
  {
   "cell_type": "code",
   "execution_count": 72,
   "metadata": {
    "lines_to_next_cell": 0,
    "tags": [
     "remove_input"
    ]
   },
   "outputs": [
    {
     "data": {
      "image/png": "[encoded data removed]",
      "text/plain": [
       "plot without title"
      ]
     },
     "metadata": {},
     "output_type": "display_data"
    }
   ],
   "source": [
    "\n",
    "fxetaria_diab.df = as.data.frame(survey::svytable(~fxetaria + q030, pns_design_srvyr))\n",
    "\n",
    "grp <- group_by(fxetaria_diab.df, fxetaria) %>% summarise(freq = sum(Freq))\n",
    "\n",
    "fxetaria_diab.df <- fxetaria_diab.df[fxetaria_diab.df$q030 == \"1\",]\n",
    "\n",
    "fxetaria_diab.df$Freq <- fxetaria_diab.df$Freq/grp$freq\n",
    "\n",
    "fxetaria_diab.df <- fxetaria_diab.df[-2]\n",
    "\n",
    "options(repr.plot.width = 5, repr.plot.height = 3)\n",
    "p <- ggplot(data=fxetaria_diab.df, aes(x=fxetaria, y=Freq * 100, fill = fxetaria)) +     \n",
    "   geom_bar( stat = \"identity\",  position = \"dodge\")+  geom_text(aes(label=round(Freq*100, digits = 1)), \n",
    "   position=position_dodge(width=0.9), vjust=-0.5, color=\"black\", size=2)\n",
    "\n",
    "p\n"
   ]
  },
  {
   "cell_type": "markdown",
   "metadata": {},
   "source": [
    "### Frequência de Atividade Física\n",
    "\n",
    "Para permitir uma melhor análise da relação da atividade física com a diabetes, criamos uma nova variável que permita relacionar a frequência de modo direto, já que a variável original `m016` apresenta uma codificação não invertida."
   ]
  },
  {
   "cell_type": "markdown",
   "metadata": {},
   "source": [
    "Valor Original    |      Codificação Original         | Novo Valor    | Codificação Variável `freqativ`\n",
    "------------------|-----------------------------------|---------------|----------------------------------------\n",
    " 1                |  mais de uma vez por semana       |     5         |  mais de uma vez por semana\n",
    " 2                |  uma vez por semana               |     4         |  uma vez por semana\n",
    " 3                |  de 2 a 3 vezes por mês           |     3         |  de 2 a 3 vezes por mês\n",
    " 4                |  algumas vezes no ano             |     2         |  algumas vezes no ano\n",
    " 5                |  uma vez no ano                   |     1         |  uma vez no ano\n",
    " 6                |   nenhuma vez                     |     0         |  nenhuma vez"
   ]
  },
  {
   "cell_type": "code",
   "execution_count": 11,
   "metadata": {
    "tags": [
     "remove_input"
    ]
   },
   "outputs": [],
   "source": [
    "\n",
    "pns_design_srvyr <- pns_design_srvyr %>% mutate(freqativ = case_when(m016 == 6 ~ 0, # Nenhuma vez\n",
    "                                                                     m016 == 5 ~ 1, # Uma vez/ano\n",
    "                                                                     m016 == 4 ~ 2, # Algumas vezes/ano\n",
    "                                                                     m016 == 3 ~ 3, # 2-3 vezes/mes\n",
    "                                                                     m016 == 2 ~ 4, # Uma vez/semana\n",
    "                                                                     m016 == 1 ~ 5, # Mais de uma vez/semana\n",
    "                                                                     ))\n",
    "\n"
   ]
  },
  {
   "cell_type": "markdown",
   "metadata": {},
   "source": [
    "### Taxa de diabéticos por frequencia de atividade física\n",
    "\n",
    "   Um dos fatores preditores que podem indicar se uma pessoa é propensa ou não a desenvolver a diabetes é se ela pratica ou não atividade física. Mais de 80% dos diabéticos não praticam atividades físicas, mas vemos que há um aumento dos diabéticos que mantém uma frequencia de 1 vez por semana ou mais. \n",
    "   Como demonstrado no artigo abaixo, realizar atividades físicas é essencial para ajudar no bom controle da doença e garantir uma boa qualidade de vida. \n",
    "   \n",
    "Artigo:\n",
    "   https://www.diabetes.org.br/publico/meu-esporte-minha-vida/965-atividade-fisica-e-diabetes"
   ]
  },
  {
   "cell_type": "code",
   "execution_count": 68,
   "metadata": {
    "lines_to_next_cell": 2,
    "tags": [
     "remove_input"
    ]
   },
   "outputs": [
    {
     "data": {
      "image/png": "[encoded data removed]",
      "text/plain": [
       "plot without title"
      ]
     },
     "metadata": {},
     "output_type": "display_data"
    }
   ],
   "source": [
    "freq_diab <- survey::svytable(~ q030 + freqativ + fxetaria , pns_design_srvyr)\n",
    "freq_diab.df <- as.data.frame(freq_diab)\n",
    "\n",
    "freq_diab.df <- freq_diab.df[freq_diab.df$q030 == '1',]\n",
    "\n",
    "freq_diab.df$Freq <- freq_diab.df$Freq/sum(freq_diab.df$Freq)    \n",
    "\n",
    "options(repr.plot.width = 5, repr.plot.height = 3)\n",
    "g <- ggplot(data = freq_diab.df) + \n",
    "   geom_bar(aes(x = freqativ, y = Freq, fill=fxetaria ), stat = \"identity\") +\n",
    "   labs(x = \"Freq Ativ Fisica\",y = \"Pessoas %\", title = \"Frequencia de Ativ Fisica x Diabeticos\") \n",
    "g\n"
   ]
  },
  {
   "cell_type": "markdown",
   "metadata": {},
   "source": [
    "## Taxa de diabéticos por região e por situação censitária\n"
   ]
  },
  {
   "cell_type": "code",
   "execution_count": 13,
   "metadata": {
    "tags": [
     "remove_input"
    ]
   },
   "outputs": [
    {
     "data": {
      "text/html": [
       "<table>\n",
       "<thead><tr><th scope=col>Regiao</th><th scope=col>Freq_Urbano</th><th scope=col>Freq_Rural</th></tr></thead>\n",
       "<tbody>\n",
       "\t<tr><td>Norte       </td><td> 8519136    </td><td>2366831.9   </td></tr>\n",
       "\t<tr><td>Nordeste    </td><td>29696279    </td><td>9251295.4   </td></tr>\n",
       "\t<tr><td>Sudeste     </td><td>59677481    </td><td>4397201.2   </td></tr>\n",
       "\t<tr><td>Sul         </td><td>18410830    </td><td>3213833.5   </td></tr>\n",
       "\t<tr><td>Centro-Oeste</td><td> 9828695    </td><td> 946873.7   </td></tr>\n",
       "</tbody>\n",
       "</table>\n"
      ],
      "text/latex": [
       "\\begin{tabular}{r|lll}\n",
       " Regiao & Freq\\_Urbano & Freq\\_Rural\\\\\n",
       "\\hline\n",
       "\t Norte        &  8519136     & 2366831.9   \\\\\n",
       "\t Nordeste     & 29696279     & 9251295.4   \\\\\n",
       "\t Sudeste      & 59677481     & 4397201.2   \\\\\n",
       "\t Sul          & 18410830     & 3213833.5   \\\\\n",
       "\t Centro-Oeste &  9828695     &  946873.7   \\\\\n",
       "\\end{tabular}\n"
      ],
      "text/markdown": [
       "\n",
       "| Regiao | Freq_Urbano | Freq_Rural |\n",
       "|---|---|---|\n",
       "| Norte        |  8519136     | 2366831.9    |\n",
       "| Nordeste     | 29696279     | 9251295.4    |\n",
       "| Sudeste      | 59677481     | 4397201.2    |\n",
       "| Sul          | 18410830     | 3213833.5    |\n",
       "| Centro-Oeste |  9828695     |  946873.7    |\n",
       "\n"
      ],
      "text/plain": [
       "  Regiao       Freq_Urbano Freq_Rural\n",
       "1 Norte         8519136    2366831.9 \n",
       "2 Nordeste     29696279    9251295.4 \n",
       "3 Sudeste      59677481    4397201.2 \n",
       "4 Sul          18410830    3213833.5 \n",
       "5 Centro-Oeste  9828695     946873.7 "
      ]
     },
     "metadata": {},
     "output_type": "display_data"
    }
   ],
   "source": [
    "\n",
    "dist_populacao <- as.data.frame(survey::svytable(~region + v0026, pns_design_srvyr ))\n",
    "\n",
    "pop_aux1 <- dist_populacao[dist_populacao$v0026 == 1,]\n",
    "colnames(pop_aux1) <- c(\"Regiao\", \"Urbano\", \"Freq_Urbano\")\n",
    "\n",
    "pop_aux2 <- dist_populacao[dist_populacao$v0026 == 2,]\n",
    "colnames(pop_aux2) <- c(\"Regiao\", \"Rural\", \"Freq_Rural\")\n",
    "\n",
    "dist_populacao <- cbind(pop_aux1,pop_aux2[, c(\"Rural\", \"Freq_Rural\")])\n",
    "\n",
    "dist_populacao$total <- dist_populacao$Freq_Urbano + dist_populacao$Freq_Rural\n",
    "\n",
    "dist_populacao[,c(\"Regiao\", \"Freq_Urbano\", \"Freq_Rural\")]\n"
   ]
  },
  {
   "cell_type": "markdown",
   "metadata": {},
   "source": [
    "   Dos aproximadamente 146 milhões de brasileiros acima de 18 anos, cerca de 64 milhões(44%) estão no sudeste, isso implica que a quantidade de diabéticos nessa região vai muito maior do que as outras regiões como vemos no gráfico abaixo. Cerca de 49,7% dos diabéticos residem no sudeste brasileiro.\n"
   ]
  },
  {
   "cell_type": "code",
   "execution_count": 67,
   "metadata": {
    "tags": [
     "remove_input"
    ]
   },
   "outputs": [
    {
     "data": {
      "image/png": "[encoded data removed]",
      "text/plain": [
       "plot without title"
      ]
     },
     "metadata": {},
     "output_type": "display_data"
    }
   ],
   "source": [
    "#* `Q030`\t- Algum médico já lhe deu o diagnóstico de diabetes?\n",
    "#   + `1` - Sim\n",
    "#region\n",
    "diab_estados <- survey::svytable(~ q030 + region + v0026, pns_design_srvyr )\n",
    "diab_estados.df <- as.data.frame(diab_estados)\n",
    "\n",
    "diab_estados.df <- diab_estados.df[diab_estados.df$q030 == '1',]\n",
    "#diab_estados.df$Freq <- diab_estados.df$Freq / sum(diab_estados.df$Freq)\n",
    "\n",
    "diab_estados.df$v0026 = as.character(diab_estados.df$v0026)\n",
    "diab_estados.df$v0026[diab_estados.df$v0026 == 1]  = \"1 - Urbano\"\n",
    "diab_estados.df$v0026[diab_estados.df$v0026 == 2]  = \"2 - Rural\"\n",
    "\n",
    "options(repr.plot.width = 5, repr.plot.height = 3)\n",
    "p <-ggplot(data=diab_estados.df, aes(x=region, y=Freq/1000, fill=v0026)) +\n",
    "  geom_bar(stat=\"identity\") +\n",
    "  geom_text(aes(label=round(Freq/1000, digits = 1)), vjust=1, color=\"black\", size=2)\n",
    "p\n"
   ]
  },
  {
   "cell_type": "markdown",
   "metadata": {},
   "source": [
    "## Distribuição das taxas de diabéticos por estado\n",
    "\n",
    "   Como demonstrado no artigo acima as maiores taxas de diabéticos do Brasil estão em Mato Grosso do Sul, São Paulo e Rio Grande do Sul respectivamente. Esses dados correspondem com as taxas demonstrados no gráfico abaixo."
   ]
  },
  {
   "cell_type": "code",
   "execution_count": 74,
   "metadata": {
    "lines_to_next_cell": 0,
    "tags": [
     "remove_input"
    ]
   },
   "outputs": [
    {
     "data": {
      "image/png": "[encoded data removed]",
      "text/plain": [
       "plot without title"
      ]
     },
     "metadata": {},
     "output_type": "display_data"
    }
   ],
   "source": [
    "#* `Q030`\t- Algum médico já lhe deu o diagnóstico de diabetes?\n",
    "#   + `1` - Sim\n",
    "#   + V0001 - Unidade da Federação\n",
    "# install.packages(\"brazilmaps\")\n",
    "library(brazilmaps)\n",
    "mapa <- get_brmap(\"State\")\n",
    "\n",
    "diab_estados <- as.data.frame(survey::svytable(~ v0001 + q030 , pns_design_srvyr))\n",
    "qtd_estados = aggregate(diab_estados$Freq, by=list(Category=diab_estados$v0001), FUN=sum)\n",
    "\n",
    "diab_estados <- diab_estados[diab_estados$q030 == 1,]\n",
    "\n",
    "diab_estados$Porcent <- diab_estados$Freq / qtd_estados$x\n",
    "\n",
    "\n",
    "teste <- toupper(c(\"Rondônia\",\"Acre\",\"Amazonas\",\"Roraima\",\"Pará\",\"Amapá\",\"Tocantins\",\"Maranhão\",\"Piauí\",\"Ceará\",\n",
    "          \"Rio Grande do Norte\",\"Paraíba\",\"Pernambuco\",\"Alagoas\",\"Sergipe\",\"Bahia\",\"Minas Gerais\",\"Espírito Santo\",\"Rio de Janeiro\",\"São Paulo\",\"Paraná\",\"Santa Catarina\",\"Rio Grande do Sul\",\"Mato Grosso do Sul\",\n",
    "          \"Mato Grosso\",\"Goiás\",\"Distrito Federal\"))\n",
    "\n",
    "porc_est <- as.data.frame(teste)\n",
    "porc_est$Porc_Diabeticos <- diab_estados$Porcent * 100\n",
    "##\n",
    "##uf_map <- get_brmap(\"State\") %>% \n",
    "#  inner_join(porc_est, c(\"nome\" = \"teste\"))\n",
    "\n",
    "#uf_map %>% \n",
    "#  ggplot(aes(fill = Porcent)) +\n",
    "#  geom_sf() +\n",
    "#  scale_fill_continuous(low = \"lightblue\", high = \"darkblue\") \n",
    "\n",
    "options(repr.plot.width = 5, repr.plot.height = 5)\n",
    "plot_brmap(get_brmap(\"State\"), data_to_join = porc_est, join_by = c(\"nome\" = \"teste\"),\n",
    "var = \"Porc_Diabeticos\") + scale_fill_continuous(low = \"lightblue\", high = \"darkblue\") \n",
    "\n",
    "\n"
   ]
  },
  {
   "cell_type": "markdown",
   "metadata": {},
   "source": [
    "## Distribuição da idade de diagnóstico de Diabetes\n",
    "\n",
    "Temos o gráfico que demonstra a idade que as pessoas foram diagnosticadas com a doença. Acima dos 30 anos é que os diagnósticos são mais realizados e tendo seu pico próximo aos 50 anos. Como idade é um dos fatores preditivos, faz sentido que com o passar dos anos a quantidade de diagnósticos aumente."
   ]
  },
  {
   "cell_type": "code",
   "execution_count": 85,
   "metadata": {
    "lines_to_next_cell": 2,
    "tags": [
     "remove_input"
    ]
   },
   "outputs": [
    {
     "data": {
      "image/png": "[encoded data removed]",
      "text/plain": [
       "Plot with title \"Histogram of as.numeric(q031)\""
      ]
     },
     "metadata": {},
     "output_type": "display_data"
    }
   ],
   "source": [
    "survey::svyhist(~as.numeric(q031), subset(pns_design_srvyr, q030==1))\n",
    "options(repr.plot.width = 5, repr.plot.height = 3, repr.plot.res = 100)\n",
    "dens <- survey::svysmooth(~as.numeric(q031), subset(pns_design_srvyr, (q030==1) & (q030!=\" \")))"
   ]
  },
  {
   "cell_type": "markdown",
   "metadata": {},
   "source": [
    "## Distribuição da escolaridade no diagnóstico de Diabetes"
   ]
  },
  {
   "cell_type": "code",
   "execution_count": 18,
   "metadata": {
    "tags": [
     "remove_input"
    ]
   },
   "outputs": [],
   "source": [
    "\n",
    "pns_design_srvyr <- pns_design_srvyr %>% \n",
    "     mutate(fx_esc = case_when(d009 == \"  \" ~ \"0\",\n",
    "                               d009 == \"01\" | d009 == \"02\" | d009 == \"03\" | d009 == \"05\" |  d009 == \"06\"  ~ \"1\", # ensino fundamental\n",
    "                               d009 == \"04\" | d009 == \"07\" | d009 == \"08\" | d009 == \"09\" ~ \"2\", # ensino médio\n",
    "                               d009 == \"10\" ~ \"3\", # ensino superior\n",
    "                               d009 == \"11\" ~ \"4\", # mestrado\n",
    "                               d009 == \"12\" ~ \"5\" )) #doutorado\n",
    "\n"
   ]
  },
  {
   "cell_type": "code",
   "execution_count": 86,
   "metadata": {
    "lines_to_next_cell": 0,
    "tags": [
     "remove_input"
    ]
   },
   "outputs": [
    {
     "data": {
      "image/png": "[encoded data removed]",
      "text/plain": [
       "plot without title"
      ]
     },
     "metadata": {},
     "output_type": "display_data"
    }
   ],
   "source": [
    "\n",
    "diab_esc <- survey::svytable(~ q030 + fx_esc, pns_design_srvyr)\n",
    "diab_esc <- as.data.frame(diab_esc)\n",
    "diab_esc$porc = 0\n",
    "\n",
    "pop_esc = group_by(diab_esc, fx_esc) %>% summarise(freq = sum(Freq))\n",
    "\n",
    "diab_esc = diab_esc[diab_esc$q030 == \"1\", ]\n",
    "\n",
    "for (i in pop_esc$fx_esc){\n",
    "   diab_esc[diab_esc$q030 == \"1\" & diab_esc$fx_esc == i, c(\"porc\")] = diab_esc[diab_esc$q030 == \"1\" & diab_esc$fx_esc == i, ]$Freq / pop_esc[pop_esc$fx_esc == i,]$freq \n",
    "}\n",
    "\n",
    "options(repr.plot.width = 5, repr.plot.height = 3, repr.plot.res = 100)\n",
    "p <-ggplot(data=diab_esc, aes(x=fx_esc, y=porc )) +\n",
    "  geom_bar(stat=\"identity\") +\n",
    "  geom_text(aes(label=round(porc*100, digits = 1)), vjust=-0.5, color=\"black\", size=2)+ \n",
    "  labs_pubr() + theme_pubr()\n",
    "p\n"
   ]
  },
  {
   "cell_type": "code",
   "execution_count": 20,
   "metadata": {},
   "outputs": [],
   "source": [
    "#Separando a base de dados\n",
    "\n",
    "df = pns_design_srvyr[ ,c(\"c006\", \"c009\", \"fx_esc\", \"w00103\", \"w00203\", \"p009\", \"p018\", \"p020\", \"p025\", \"p026\", \"p028\", \"p035\", \"p050\", \"q002\", \"q029\", \"q060\", \"q068\", \"q124\",\"r039\", \"freqativ\", \"fxetaria\", \"idade\", \"imc\", \"q030\")]\n",
    "\n",
    "\n",
    "\n",
    "names(df$variables) = c(\"sexo_c006\",\"cor_raca_c009\", \"faixa_escolaridade\", \"peso_w00103\", \"altura_w00203\", \"come_verduras_p009\", \"come_frutas_p018\", \"refrigerante_suco_p020\", \"alimentos_doces_p025\", \"substitui_refeicoes_p026\", \"bebida_alcoolica_p028\", \"dias_semana_ativ_fisica_p035\", \"fumante_p050\", \"pressao_alta_q002\", \"exames_glicemia_q029\", \"colesterol_alto_q060\", \"avc_q068\", \"insuficiencia_renal_q124\", \"ja_ficou_gravida_r039\", \"freqativ\", \"fxetaria\", \"idade\", \"imc\", \"diagnostico_diabetes_q030\")\n",
    "\n",
    "#sexo_c006\n",
    "#fumante_p050\n",
    "#pressao_alta_q002\n",
    "#colesterol_alto_q060\n",
    "#avc_q068\n",
    "#insuficiencia_renal_q124"
   ]
  },
  {
   "cell_type": "markdown",
   "metadata": {},
   "source": [
    "## Data Prep\n",
    "\n",
    "Limpando pessoas que nunca fizeram exame de pressão alta, colesterol alto e diabetes:"
   ]
  },
  {
   "cell_type": "code",
   "execution_count": 21,
   "metadata": {
    "tags": [
     "remove_input"
    ]
   },
   "outputs": [],
   "source": [
    "\n",
    "df <- subset(df, diagnostico_diabetes_q030 != \" \" & diagnostico_diabetes_q030 != 2 & pressao_alta_q002 != \" \" & colesterol_alto_q060 != \" \")\n"
   ]
  },
  {
   "cell_type": "markdown",
   "metadata": {
    "lines_to_next_cell": 0
   },
   "source": [
    "### Preenchendo NAs\n",
    "\n",
    "* Variáveis d009, p028, p035 e r039 que eram NAs serão preenchidas com 0, já que demonstram uma ausência de seus valores."
   ]
  },
  {
   "cell_type": "code",
   "execution_count": 22,
   "metadata": {
    "lines_to_next_cell": 0,
    "tags": [
     "remove_input"
    ]
   },
   "outputs": [],
   "source": [
    "\n",
    "# pressao alta = q002\n",
    "\n",
    "df$variables$faixa_escolaridade = as.numeric(df$variables$faixa_escolaridade)\n",
    "df$variables[is.na(df$variables$faixa_escolaridade), c(\"faixa_escolaridade\")] = 0\n",
    "df$variables[is.na(df$variables$bebida_alcoolica_p028), c(\"bebida_alcoolica_p028\")] = 0\n",
    "df$variables[is.na(df$variables$dias_semana_ativ_fisica_p035), c(\"dias_semana_ativ_fisica_p035\")] = 0\n",
    "df$variables[df$variables$ja_ficou_gravida_r039 == \" \", c(\"ja_ficou_gravida_r039\")] = 0\n",
    "df$variables[df$variables$pressao_alta_q002 == \" \", c(\"pressao_alta_q002\")] = 0\n",
    "df$variables[df$variables$colesterol_alto_q060 == \" \", c(\"colesterol_alto_q060\")] = 0\n",
    "df$variables[df$variables$diagnostico_diabetes_q030 == \" \", c(\"diagnostico_diabetes_q030\")] = 0\n",
    "df$variables[df$variables$diagnostico_diabetes_q030 == \"2\", c(\"diagnostico_diabetes_q030\")] = 0\n",
    "df$variables[df$variables$diagnostico_diabetes_q030 == \"3\", c(\"diagnostico_diabetes_q030\")] = 0\n",
    "\n"
   ]
  },
  {
   "cell_type": "markdown",
   "metadata": {},
   "source": [
    "* Variável c006(peso), será preenchida com a média das pessoas separadas pelo sexo(c006) e pela faixa etária(fxetaria)."
   ]
  },
  {
   "cell_type": "code",
   "execution_count": 23,
   "metadata": {
    "tags": [
     "remove_input"
    ]
   },
   "outputs": [],
   "source": [
    "\n",
    "df$variables$sexo_c006 <- as.character(df$variables$sexo_c006) \n",
    "\n",
    "masc_18 = as.numeric(survey::svymean(~peso_w00103 ,subset(x = df, subset = fxetaria == 18 & sexo_c006 == \"masculino\"), na.rm=TRUE))\n",
    "masc_22 = as.numeric(survey::svymean(~peso_w00103 ,subset(x = df, subset = fxetaria == 22 & sexo_c006 == \"masculino\"), na.rm=TRUE))\n",
    "masc_32 = as.numeric(survey::svymean(~peso_w00103 ,subset(x = df, subset = fxetaria == 32 & sexo_c006 == \"masculino\"), na.rm=TRUE))\n",
    "masc_50 = as.numeric(survey::svymean(~peso_w00103 ,subset(x = df, subset = fxetaria == 50 & sexo_c006 == \"masculino\"), na.rm=TRUE))\n",
    "masc_60 = as.numeric(survey::svymean(~peso_w00103 ,subset(x = df, subset = fxetaria == 60 & sexo_c006 == \"masculino\"), na.rm=TRUE))\n",
    "\n",
    "\n",
    "femi_18 = as.numeric(survey::svymean(~peso_w00103 ,subset(x = df, subset = fxetaria == 18 & sexo_c006 == \"feminino\"), na.rm=TRUE))\n",
    "femi_22 = as.numeric(survey::svymean(~peso_w00103 ,subset(x = df, subset = fxetaria == 22 & sexo_c006 == \"feminino\"), na.rm=TRUE))\n",
    "femi_32 = as.numeric(survey::svymean(~peso_w00103 ,subset(x = df, subset = fxetaria == 32 & sexo_c006 == \"feminino\"), na.rm=TRUE))\n",
    "femi_50 = as.numeric(survey::svymean(~peso_w00103 ,subset(x = df, subset = fxetaria == 50 & sexo_c006 == \"feminino\"), na.rm=TRUE))\n",
    "femi_60 = as.numeric(survey::svymean(~peso_w00103 ,subset(x = df, subset = fxetaria == 60 & sexo_c006 == \"feminino\"), na.rm=TRUE))\n",
    "\n",
    "\n",
    "df$variables[df$variables$fxetaria == 18 & df$variables$sexo_c006 == \"masculino\" & is.na(df$variables$peso_w00103), c(\"peso_w00103\")] = round(masc_18, digits = 1)\n",
    "df$variables[df$variables$fxetaria == 22 & df$variables$sexo_c006 == \"masculino\" & is.na(df$variables$peso_w00103), c(\"peso_w00103\")] = round(masc_22, digits = 1)\n",
    "df$variables[df$variables$fxetaria == 32 & df$variables$sexo_c006 == \"masculino\" & is.na(df$variables$peso_w00103), c(\"peso_w00103\")] = round(masc_32, digits = 1)\n",
    "df$variables[df$variables$fxetaria == 50 & df$variables$sexo_c006 == \"masculino\" & is.na(df$variables$peso_w00103), c(\"peso_w00103\")] = round(masc_50, digits = 1)\n",
    "df$variables[df$variables$fxetaria == 60 & df$variables$sexo_c006 == \"masculino\" & is.na(df$variables$peso_w00103), c(\"peso_w00103\")] = round(masc_60, digits = 1)\n",
    "\n",
    "\n",
    "df$variables[df$variables$fxetaria == 18 & df$variables$sexo_c006 == \"feminino\" & is.na(df$variables$peso_w00103), c(\"peso_w00103\")] = round(femi_18, digits = 1)\n",
    "df$variables[df$variables$fxetaria == 22 & df$variables$sexo_c006 == \"feminino\" & is.na(df$variables$peso_w00103), c(\"peso_w00103\")] = round(femi_22, digits = 1)\n",
    "df$variables[df$variables$fxetaria == 32 & df$variables$sexo_c006 == \"feminino\" & is.na(df$variables$peso_w00103), c(\"peso_w00103\")] = round(femi_32, digits = 1)\n",
    "df$variables[df$variables$fxetaria == 50 & df$variables$sexo_c006 == \"feminino\" & is.na(df$variables$peso_w00103), c(\"peso_w00103\")] = round(femi_50, digits = 1)\n",
    "df$variables[df$variables$fxetaria == 60 & df$variables$sexo_c006 == \"feminino\" & is.na(df$variables$peso_w00103), c(\"peso_w00103\")] = round(femi_60, digits = 1)\n"
   ]
  },
  {
   "cell_type": "markdown",
   "metadata": {},
   "source": [
    "* Variável w00203(altura), será preenchida com a média das pessoas separadas pelo sexo(c006) e pela faixa etária(fxetaria)."
   ]
  },
  {
   "cell_type": "code",
   "execution_count": 24,
   "metadata": {
    "tags": [
     "remove_input"
    ]
   },
   "outputs": [],
   "source": [
    "\n",
    "\n",
    "masc_18 = as.numeric(survey::svymean(~altura_w00203 ,subset(x = df, subset = fxetaria == 18 & sexo_c006 == \"masculino\"), na.rm=TRUE))\n",
    "masc_22 = as.numeric(survey::svymean(~altura_w00203 ,subset(x = df, subset = fxetaria == 22 & sexo_c006 == \"masculino\"), na.rm=TRUE))\n",
    "masc_32 = as.numeric(survey::svymean(~altura_w00203 ,subset(x = df, subset = fxetaria == 32 & sexo_c006 == \"masculino\"), na.rm=TRUE))\n",
    "masc_50 = as.numeric(survey::svymean(~altura_w00203 ,subset(x = df, subset = fxetaria == 50 & sexo_c006 == \"masculino\"), na.rm=TRUE))\n",
    "masc_60 = as.numeric(survey::svymean(~altura_w00203 ,subset(x = df, subset = fxetaria == 60 & sexo_c006 == \"masculino\"), na.rm=TRUE))\n",
    "\n",
    "\n",
    "femi_18 = as.numeric(survey::svymean(~altura_w00203 ,subset(x = df, subset = fxetaria == 18 & sexo_c006 == \"feminino\"), na.rm=TRUE))\n",
    "femi_22 = as.numeric(survey::svymean(~altura_w00203 ,subset(x = df, subset = fxetaria == 22 & sexo_c006 == \"feminino\"), na.rm=TRUE))\n",
    "femi_32 = as.numeric(survey::svymean(~altura_w00203 ,subset(x = df, subset = fxetaria == 32 & sexo_c006 == \"feminino\"), na.rm=TRUE))\n",
    "femi_50 = as.numeric(survey::svymean(~altura_w00203 ,subset(x = df, subset = fxetaria == 50 & sexo_c006 == \"feminino\"), na.rm=TRUE))\n",
    "femi_60 = as.numeric(survey::svymean(~altura_w00203 ,subset(x = df, subset = fxetaria == 60 & sexo_c006 == \"feminino\"), na.rm=TRUE))\n",
    "\n",
    "\n",
    "df$variables[df$variables$fxetaria == 18 & df$variables$sexo_c006 == \"masculino\" & is.na(df$variables$altura_w00203), c(\"peso_w00103\")] = round(masc_18, digits = 1)\n",
    "df$variables[df$variables$fxetaria == 22 & df$variables$sexo_c006 == \"masculino\" & is.na(df$variables$altura_w00203), c(\"peso_w00103\")] = round(masc_22, digits = 1)\n",
    "df$variables[df$variables$fxetaria == 32 & df$variables$sexo_c006 == \"masculino\" & is.na(df$variables$altura_w00203), c(\"peso_w00103\")] = round(masc_32, digits = 1)\n",
    "df$variables[df$variables$fxetaria == 50 & df$variables$sexo_c006 == \"masculino\" & is.na(df$variables$altura_w00203), c(\"peso_w00103\")] = round(masc_50, digits = 1)\n",
    "df$variables[df$variables$fxetaria == 60 & df$variables$sexo_c006 == \"masculino\" & is.na(df$variables$altura_w00203), c(\"peso_w00103\")] = round(masc_60, digits = 1)\n",
    "\n",
    "\n",
    "df$variables[df$variables$fxetaria == 18 & df$variables$sexo_c006 == \"feminino\" & is.na(df$variables$altura_w00203), c(\"altura_w00203\")] = round(femi_18, digits = 1)\n",
    "df$variables[df$variables$fxetaria == 22 & df$variables$sexo_c006 == \"feminino\" & is.na(df$variables$altura_w00203), c(\"altura_w00203\")] = round(femi_22, digits = 1)\n",
    "df$variables[df$variables$fxetaria == 32 & df$variables$sexo_c006 == \"feminino\" & is.na(df$variables$altura_w00203), c(\"altura_w00203\")] = round(femi_32, digits = 1)\n",
    "df$variables[df$variables$fxetaria == 50 & df$variables$sexo_c006 == \"feminino\" & is.na(df$variables$altura_w00203), c(\"altura_w00203\")] = round(femi_50, digits = 1)\n",
    "df$variables[df$variables$fxetaria == 60 & df$variables$sexo_c006 == \"feminino\" & is.na(df$variables$altura_w00203), c(\"altura_w00203\")] = round(femi_60, digits = 1)\n",
    "\n",
    "df <- df %>% mutate(imc = peso_w00103/(altura_w00203/100* altura_w00203/100)) \n",
    "df$variables <- df$variables %>% mutate(imcclass = case_when(imc < 17.0 ~ \"1\",\n",
    "                                 imc >= 17.0 & imc < 18.5 ~ \"2\",\n",
    "                                 imc >= 18.5 & imc < 25.0 ~ \"3\",\n",
    "                                 imc >= 25.0 & imc < 30.0 ~ \"4\",\n",
    "                                 imc >= 30.0 & imc < 35.0 ~ \"5\",\n",
    "                                 imc >= 35.0 & imc < 40.0 ~ \"6\",\n",
    "                                 imc >= 40.0 ~ \"7\"\n",
    "                                 ))\n",
    "\n",
    "df$variables <- df$variables[,c(1:23, 25, 24)]"
   ]
  },
  {
   "cell_type": "markdown",
   "metadata": {},
   "source": [
    "### Inversão de valores de variáveis\n",
    "\n",
    "Para permitir e simplificar a análise a partir de um modelo alteraremos os valor de variáveis.\n",
    "\n",
    "`c006`, sexo:"
   ]
  },
  {
   "cell_type": "markdown",
   "metadata": {},
   "source": [
    "Valor Original    |      Codificação Original         | Novo Valor    | Codificação Variável `pressao_alta_q002`\n",
    "------------------|-----------------------------------|---------------|----------------------------------------\n",
    " masculino        |  1                                |     0         |  masculino\n",
    " femnino          |  2                                |     1         |  feminino\n",
    " "
   ]
  },
  {
   "cell_type": "code",
   "execution_count": 25,
   "metadata": {
    "tags": [
     "remove_input"
    ]
   },
   "outputs": [],
   "source": [
    "\n",
    "df$variables[df$variables$sexo_c006 == \"masculino\", c(\"sexo_c006\")] = 0\n",
    "df$variables[df$variables$sexo_c006 == \"feminino\", c(\"sexo_c006\")] = 1\n"
   ]
  },
  {
   "cell_type": "markdown",
   "metadata": {},
   "source": [
    "`q002`, pressão alta:"
   ]
  },
  {
   "cell_type": "markdown",
   "metadata": {},
   "source": [
    "Valor Original    |      Codificação Original         | Novo Valor    | Codificação Variável `pressao_alta_q002`\n",
    "------------------|-----------------------------------|---------------|----------------------------------------\n",
    " 1                |  sim                              |     1         |  sim\n",
    " 2                |  apenas na gravidez               |     1         |  sim\n",
    " 3                |  não                              |     0         |  não\n",
    " "
   ]
  },
  {
   "cell_type": "code",
   "execution_count": 26,
   "metadata": {
    "tags": [
     "remove_input"
    ]
   },
   "outputs": [],
   "source": [
    "\n",
    "df$variables[df$variables$pressao_alta_q002 == 2, c(\"pressao_alta_q002\")] = 1\n",
    "df$variables[df$variables$pressao_alta_q002 == 3, c(\"pressao_alta_q002\")] = 0\n"
   ]
  },
  {
   "cell_type": "markdown",
   "metadata": {},
   "source": [
    "`q060`, colesterol alto:"
   ]
  },
  {
   "cell_type": "markdown",
   "metadata": {},
   "source": [
    "Valor Original    |      Codificação Original         | Novo Valor    | Codificação Variável `colesterol_alto_q060`\n",
    "------------------|-----------------------------------|---------------|----------------------------------------\n",
    " 1                |  sim                              |     1         |  sim\n",
    " 2                |  não                              |     0         |  não\n",
    " "
   ]
  },
  {
   "cell_type": "code",
   "execution_count": 27,
   "metadata": {
    "lines_to_next_cell": 2,
    "tags": [
     "remove_input"
    ]
   },
   "outputs": [],
   "source": [
    "\n",
    "df$variables[df$variables$colesterol_alto_q060 == 2, c(\"colesterol_alto_q060\")] = 0\n"
   ]
  },
  {
   "cell_type": "markdown",
   "metadata": {},
   "source": [
    "`q124`, insuficiencia renal:"
   ]
  },
  {
   "cell_type": "markdown",
   "metadata": {},
   "source": [
    "Valor Original    |      Codificação Original    | Novo Valor    | Codificação Variável `insuficiencia_renal_q124`\n",
    "------------------|-----------------------------------|---------------|----------------------------------------\n",
    " 1                |  sim                              |     1         |  sim\n",
    " 2                |  não                              |     0         |  não\n",
    " "
   ]
  },
  {
   "cell_type": "code",
   "execution_count": 28,
   "metadata": {
    "tags": [
     "remove_input"
    ]
   },
   "outputs": [],
   "source": [
    "\n",
    "df$variables[df$variables$insuficiencia_renal_q124 == 2, c(\"insuficiencia_renal_q124\")] = 0\n"
   ]
  },
  {
   "cell_type": "markdown",
   "metadata": {},
   "source": [
    "`p050`, fumante:\n",
    "definição de fumante: http://pepsic.bvsalud.org/scielo.php?script=sci_arttext&pid=S1413-03942014000200015\n",
    "\n",
    "Valor Original    |      Codificação Original    | Novo Valor    | Codificação Variável `fumante_p050`\n",
    "------------------|-----------------------------------|---------------|----------------------------------------\n",
    " 1                |  sim, diariamente                  |     1         |  sim\n",
    " 2                |  sim, menos que diariamente        |     0         |  não\n",
    " 3                |  não fumo atualmente               |     0         |  não"
   ]
  },
  {
   "cell_type": "code",
   "execution_count": 29,
   "metadata": {
    "lines_to_next_cell": 0,
    "tags": [
     "remove_input"
    ]
   },
   "outputs": [],
   "source": [
    "\n",
    "df$variables[df$variables$fumante_p050 == 2 | df$variables$fumante_p050 == 3, c(\"fumante_p050\")] = 0\n"
   ]
  },
  {
   "cell_type": "markdown",
   "metadata": {},
   "source": []
  },
  {
   "cell_type": "markdown",
   "metadata": {},
   "source": [
    "`q068`, avc:\n",
    "\n",
    "Valor Original    |      Codificação Original    | Novo Valor    | Codificação Variável `ja_ficou_gravida_r039`\n",
    "------------------|------------------------------|---------------|----------------------------------------\n",
    " 1                |  sim                         |     1         |  sim\n",
    " 2                |  não                         |     0         |  não"
   ]
  },
  {
   "cell_type": "code",
   "execution_count": 30,
   "metadata": {
    "tags": [
     "remove_input"
    ]
   },
   "outputs": [],
   "source": [
    "\n",
    "df$variables[df$variables$avc_q068 == 2, c(\"avc_q068\")] = 0\n"
   ]
  },
  {
   "cell_type": "markdown",
   "metadata": {},
   "source": [
    "`q068`, gravidez:\n",
    "\n",
    "Valor Original    |      Codificação Original    | Novo Valor    | Codificação Variável `ja_ficou_gravida_r039`\n",
    "------------------|------------------------------|---------------|----------------------------------------\n",
    " 1                |  sim                         |     1         |  sim\n",
    " 2                |  não                         |     0         |  não"
   ]
  },
  {
   "cell_type": "code",
   "execution_count": 31,
   "metadata": {
    "tags": [
     "remove_input"
    ]
   },
   "outputs": [],
   "source": [
    "\n",
    "\n",
    "df$variables[df$variables$ja_ficou_gravida_r039 == 2, c(\"ja_ficou_gravida_r039\")] = 0\n"
   ]
  },
  {
   "cell_type": "markdown",
   "metadata": {},
   "source": [
    "# Decisão\n",
    "\n",
    "Definir remover os registros que tem como NA diagnóstico de colesterol alto q060, pressão alta q002 e diabetes q030."
   ]
  },
  {
   "cell_type": "code",
   "execution_count": 32,
   "metadata": {
    "lines_to_next_cell": 0,
    "tags": [
     "remove_input"
    ]
   },
   "outputs": [
    {
     "name": "stdout",
     "output_type": "stream",
     "text": [
      "[1] \"quantidade total de diabéticos: 8944235.6255329\"\n",
      "[1] \"perda de diabéticos: 0\"\n",
      "[1] \"porcentagem de perda de diabeticos: 0\"\n",
      "[1] \"\"\n",
      "[1] \"quantidade total : 121609040.326191\"\n",
      "[1] \"perda total: 0\"\n",
      "[1] \"porcentagem de perda total: 0\"\n"
     ]
    }
   ],
   "source": [
    "\n",
    "perda_t <- as.data.frame(survey::svytable(~pressao_alta_q002 + colesterol_alto_q060 + diagnostico_diabetes_q030 , df))\n",
    "\n",
    "print(paste0(\"quantidade total de diabéticos: \", sum(perda_t[perda_t$diagnostico_diabetes_q030 == 1, c(\"Freq\")])) )\n",
    "print(paste0(\"perda de diabéticos: \", sum(perda_t[perda_t$diagnostico_diabetes_q030 == 1 & (perda_t$pressao_alta_q002 == \" \" | perda_t$colesterol_alto_q060 == \" \"), c(\"Freq\")])) )\n",
    "print(paste0(\"porcentagem de perda de diabeticos: \", sum(perda_t[perda_t$diagnostico_diabetes_q030 == 1 & (perda_t$pressao_alta_q002 == \" \" | perda_t$colesterol_alto_q060 == \" \"), c(\"Freq\")]) / sum(perda_t[perda_t$diagnostico_diabetes_q030 == 1, c(\"Freq\")])  ))\n",
    "\n",
    "print(\"\")\n",
    "\n",
    "print(paste0(\"quantidade total : \", sum(perda_t$Freq)))\n",
    "print(paste0(\"perda total: \", sum(perda_t[ (perda_t$pressao_alta_q002 == \" \" | perda_t$colesterol_alto_q060 == \" \" | perda_t$diagnostico_diabetes_q030 == \" \"), c(\"Freq\")])) )\n",
    "print(paste0(\"porcentagem de perda total: \", sum(perda_t[(perda_t$pressao_alta_q002 == \" \" | perda_t$colesterol_alto_q060 == \" \" | perda_t$diagnostico_diabetes_q030 == \" \"), c(\"Freq\")]) / sum(perda_t$Freq)))\n"
   ]
  },
  {
   "cell_type": "markdown",
   "metadata": {},
   "source": [
    "\n"
   ]
  },
  {
   "cell_type": "markdown",
   "metadata": {},
   "source": [
    "# Criando as variáveis dummies\n",
    "\n",
    "Como todos as features utilizadas são categóricas precisamos transformá-las em dummies para utilização de um modelo de Regressão Logística. utilizaremos a biblioteca `dummies` para essa transormação."
   ]
  },
  {
   "cell_type": "code",
   "execution_count": 33,
   "metadata": {
    "tags": [
     "remove_input"
    ]
   },
   "outputs": [],
   "source": [
    "\n",
    "df$variables$exames_glicemia_q029 = NULL\n",
    "\n",
    "df_dummies = df[ ,c(\"faixa_escolaridade\")]\n",
    "\n",
    "# esc_dummies <- dummies::dummy(df$variables$escolaridade_d009, sep = \"_\",)\n",
    "# df_dummies$variables <- cbind(df_dummies$variables, esc_dummies)\n",
    "# df_dummies$variables <- df_dummies$variables[, -1]\n",
    "\n",
    "df_factor = df$variables %>% mutate_if(is.numeric, as.character)\n",
    "\n",
    "df_factor$sexo_c006 = as.numeric(df_factor$sexo_c006)\n",
    "df_factor$fumante_p050 = as.numeric(df_factor$fumante_p050)\n",
    "df_factor$pressao_alta_q002 = as.numeric(df_factor$pressao_alta_q002)\n",
    "df_factor$colesterol_alto_q060 = as.numeric(df_factor$colesterol_alto_q060)\n",
    "df_factor$avc_q068 = as.numeric(df_factor$avc_q068)\n",
    "df_factor$insuficiencia_renal_q124 = as.numeric(df_factor$insuficiencia_renal_q124)\n",
    "df_factor$ja_ficou_gravida_r039 = as.numeric(df_factor$ja_ficou_gravida_r039)\n",
    "\n",
    "\n",
    "\n",
    "df_factor$peso_w00103 <- as.numeric(df_factor$peso_w00103)\n",
    "df_factor$altura_w00203 <- NULL\n",
    "df_factor$idade <- NULL\n",
    "df_factor$imc <- NULL\n",
    "df_factor$peso_w00103 <- NULL\n",
    "\n",
    "df_factor = df_factor %>% mutate_if(is.character, as.factor)\n",
    "\n",
    "dummies_df <- mlr::createDummyFeatures(df_factor)\n",
    "\n",
    "df$variables = dummies_df\n"
   ]
  },
  {
   "cell_type": "markdown",
   "metadata": {},
   "source": [
    "# Removendo dummies desnecessários\n",
    "\n",
    "Para a criação de variáveis dummy, todos os fatores de cada variável foi tranformado em uma variável, assim o último fator criado de cada variável terá uma correlação perfeita com as demais variáveis, tendo um coeficiente indefinido."
   ]
  },
  {
   "cell_type": "code",
   "execution_count": 34,
   "metadata": {
    "tags": [
     "remove_input"
    ]
   },
   "outputs": [],
   "source": [
    "\n",
    "df$variables$diagnostico_diabetes_q030.0 = NULL\n",
    "df$variables$cor_raca_c009.9 = NULL\n",
    "df$variables$faixa_escolaridade.5 = NULL\n",
    "df$variables$come_verduras_p009.7 = NULL\n",
    "df$variables$come_frutas_p018.7 = NULL\n",
    "df$variables$refrigerante_suco_p020.7 = NULL\n",
    "df$variables$alimentos_doces_p025.7 = NULL\n",
    "df$variables$substitui_refeicoes_p026.7 = NULL\n",
    "df$variables$bebida_alcoolica_p028.7 = NULL\n",
    "df$variables$dias_semana_ativ_fisica_p035.7 = NULL\n",
    "df$variables$freqativ.5 = NULL\n",
    "df$variables$fxetaria.60 = NULL\n",
    "df$variables$imcclass.7 = NULL\n"
   ]
  },
  {
   "cell_type": "markdown",
   "metadata": {},
   "source": [
    "# Modelagem\n",
    "\n",
    "Como modelo utilizaremos a Regressão Logística para fazer uma análise descritiva do comportamento das variáveis em relação aos diabéticos. O modelo utilizado encontra-se no pacote `survey` com a função `svyglm`, usado para a criação de modelos lineares para dados estratificados.\n",
    "\n",
    "A família do modelo é a binomial(logit) onde teremos uma saída como uma porcentagem da pessoa pertencerem a classe de Diabéticos. "
   ]
  },
  {
   "cell_type": "code",
   "execution_count": 93,
   "metadata": {
    "lines_to_next_cell": 2,
    "tags": [
     "remove_input"
    ]
   },
   "outputs": [],
   "source": [
    "\n",
    "construir_modelo <- function(df){\n",
    "\n",
    "   nomes = names(df$variables[1:(length(df$variables) - 1)])\n",
    "   #fla <- paste(\"diagnostico_diabetes_q030.1 ~\", paste(nomes, collapse=\"+\"), \" -1\")\n",
    "   fla <- paste(\"diagnostico_diabetes_q030.1 ~\", paste(nomes, collapse=\"+\"))\n",
    "   \n",
    "   #gl <- survey::svyglm(as.formula(fla) , family = \"quasibinomial\", design=df)\n",
    "   gl <- survey::svyglm(as.formula(fla) , family = \"binomial\", design=df)\n",
    "   \n",
    "   return(gl)\n",
    "}\n",
    "   \n",
    "ordenar_pvalue <- function(model){\n",
    "   \n",
    "   df_model = data.frame(keyName=names(model$coefficients), value=model$coefficients, row.names=NULL)\n",
    "   df_model$COEFF_ABS = abs(df_model$value)\n",
    "   df_model$COEFF_ABS = abs(df_model$value)\n",
    "   \n",
    "   p <- coef(summary(model))[,4]\n",
    "   df_p = data.frame(keyName=names(p), value=p, row.names=NULL)\n",
    "   \n",
    "   df_model$p_value <- p\n",
    "   \n",
    "   df_model <- df_model[order(df_model$p_value),]\n",
    "   \n",
    "   return(df_model)\n",
    "   \n",
    "}\n"
   ]
  },
  {
   "cell_type": "markdown",
   "metadata": {},
   "source": [
    "### Primeiro modelo:"
   ]
  },
  {
   "cell_type": "code",
   "execution_count": 88,
   "metadata": {},
   "outputs": [
    {
     "name": "stderr",
     "output_type": "stream",
     "text": [
      "Warning message in eval(family$initialize):\n",
      "\"non-integer #successes in a binomial glm!\""
     ]
    },
    {
     "name": "stdout",
     "output_type": "stream",
     "text": [
      "\n",
      "Call:\n",
      "svyglm(formula = as.formula(fla), design = df, family = \"binomial\")\n",
      "\n",
      "Survey design:\n",
      "subset(df, diagnostico_diabetes_q030 != \" \" & diagnostico_diabetes_q030 != \n",
      "    2 & pressao_alta_q002 != \" \" & colesterol_alto_q060 != \" \")\n",
      "\n",
      "Coefficients:\n",
      "                                Estimate Std. Error t value Pr(>|t|)    \n",
      "(Intercept)                    -0.646408   1.159312  -0.558 0.577155    \n",
      "sexo_c006                      -0.171293   0.082744  -2.070 0.038486 *  \n",
      "fumante_p050                   -0.196768   0.117247  -1.678 0.093360 .  \n",
      "pressao_alta_q002               0.924637   0.074288  12.447  < 2e-16 ***\n",
      "colesterol_alto_q060            0.739389   0.074128   9.975  < 2e-16 ***\n",
      "avc_q068                        0.370584   0.144264   2.569 0.010232 *  \n",
      "insuficiencia_renal_q124        0.252671   0.177022   1.427 0.153538    \n",
      "ja_ficou_gravida_r039          -0.231973   0.109705  -2.115 0.034517 *  \n",
      "cor_raca_c009.1                -2.426599   1.002573  -2.420 0.015538 *  \n",
      "cor_raca_c009.2                -2.308419   1.008337  -2.289 0.022099 *  \n",
      "cor_raca_c009.3                -2.375656   1.055820  -2.250 0.024485 *  \n",
      "cor_raca_c009.4                -2.520600   1.002634  -2.514 0.011967 *  \n",
      "cor_raca_c009.5                -2.185084   1.063152  -2.055 0.039899 *  \n",
      "faixa_escolaridade.0            0.723334   0.434034   1.667 0.095665 .  \n",
      "faixa_escolaridade.1            0.681794   0.430389   1.584 0.113222    \n",
      "faixa_escolaridade.2            0.694334   0.431454   1.609 0.107612    \n",
      "faixa_escolaridade.3            0.449797   0.436128   1.031 0.302427    \n",
      "faixa_escolaridade.4            0.634863   0.653056   0.972 0.331023    \n",
      "come_verduras_p009.0           -0.032714   0.117880  -0.278 0.781389    \n",
      "come_verduras_p009.1            0.021451   0.120283   0.178 0.858467    \n",
      "come_verduras_p009.2            0.037344   0.103733   0.360 0.718861    \n",
      "come_verduras_p009.3            0.154369   0.107127   1.441 0.149644    \n",
      "come_verduras_p009.4           -0.134958   0.134115  -1.006 0.314321    \n",
      "come_verduras_p009.5            0.090018   0.148439   0.606 0.544253    \n",
      "come_verduras_p009.6           -0.122724   0.159207  -0.771 0.440832    \n",
      "come_frutas_p018.0             -0.480352   0.134576  -3.569 0.000361 ***\n",
      "come_frutas_p018.1             -0.374220   0.139679  -2.679 0.007403 ** \n",
      "come_frutas_p018.2             -0.340813   0.115619  -2.948 0.003215 ** \n",
      "come_frutas_p018.3             -0.263176   0.123074  -2.138 0.032532 *  \n",
      "come_frutas_p018.4             -0.170828   0.140290  -1.218 0.223399    \n",
      "come_frutas_p018.5             -0.166636   0.136940  -1.217 0.223714    \n",
      "come_frutas_p018.6             -0.240520   0.135468  -1.775 0.075877 .  \n",
      "refrigerante_suco_p020.0        0.120067   0.117087   1.025 0.305197    \n",
      "refrigerante_suco_p020.1        0.124525   0.128664   0.968 0.333173    \n",
      "refrigerante_suco_p020.2        0.032981   0.137931   0.239 0.811030    \n",
      "refrigerante_suco_p020.3        0.361388   0.180346   2.004 0.045135 *  \n",
      "refrigerante_suco_p020.4        0.145637   0.210348   0.692 0.488741    \n",
      "refrigerante_suco_p020.5        0.346595   0.265140   1.307 0.191195    \n",
      "refrigerante_suco_p020.6       -0.066592   0.214347  -0.311 0.756061    \n",
      "alimentos_doces_p025.0          1.414290   0.136431  10.366  < 2e-16 ***\n",
      "alimentos_doces_p025.1          0.571500   0.148199   3.856 0.000116 ***\n",
      "alimentos_doces_p025.2          0.373282   0.161750   2.308 0.021049 *  \n",
      "alimentos_doces_p025.3          0.009677   0.192143   0.050 0.959836    \n",
      "alimentos_doces_p025.4          0.313013   0.223546   1.400 0.161506    \n",
      "alimentos_doces_p025.5         -0.124135   0.226177  -0.549 0.583138    \n",
      "alimentos_doces_p025.6         -0.027345   0.273321  -0.100 0.920309    \n",
      "substitui_refeicoes_p026.0     -0.318986   0.168501  -1.893 0.058401 .  \n",
      "substitui_refeicoes_p026.1     -0.133910   0.186053  -0.720 0.471717    \n",
      "substitui_refeicoes_p026.2     -0.204717   0.210566  -0.972 0.330982    \n",
      "substitui_refeicoes_p026.3     -0.409182   0.246903  -1.657 0.097525 .  \n",
      "substitui_refeicoes_p026.4     -0.613545   0.340757  -1.801 0.071832 .  \n",
      "substitui_refeicoes_p026.5     -0.273257   0.407296  -0.671 0.502310    \n",
      "substitui_refeicoes_p026.6     -1.211722   0.422937  -2.865 0.004186 ** \n",
      "bebida_alcoolica_p028.0         0.344176   0.262142   1.313 0.189260    \n",
      "bebida_alcoolica_p028.1         0.038255   0.289206   0.132 0.894770    \n",
      "bebida_alcoolica_p028.2        -0.169677   0.293852  -0.577 0.563678    \n",
      "bebida_alcoolica_p028.3        -0.724749   0.370381  -1.957 0.050427 .  \n",
      "bebida_alcoolica_p028.4        -0.391613   0.516773  -0.758 0.448601    \n",
      "bebida_alcoolica_p028.5        -0.033028   0.487460  -0.068 0.945983    \n",
      "bebida_alcoolica_p028.6        -0.020461   0.601386  -0.034 0.972861    \n",
      "dias_semana_ativ_fisica_p035.0  0.056788   0.173668   0.327 0.743684    \n",
      "dias_semana_ativ_fisica_p035.1 -0.243260   0.257790  -0.944 0.345398    \n",
      "dias_semana_ativ_fisica_p035.2 -0.103759   0.243168  -0.427 0.669617    \n",
      "dias_semana_ativ_fisica_p035.3  0.082341   0.217151   0.379 0.704562    \n",
      "dias_semana_ativ_fisica_p035.4  0.019209   0.287377   0.067 0.946710    \n",
      "dias_semana_ativ_fisica_p035.5  0.026980   0.246984   0.109 0.913017    \n",
      "dias_semana_ativ_fisica_p035.6 -0.223647   0.408361  -0.548 0.583941    \n",
      "freqativ.0                      0.085433   0.150629   0.567 0.570620    \n",
      "freqativ.1                      0.369437   0.349689   1.056 0.290799    \n",
      "freqativ.2                     -0.070801   0.223280  -0.317 0.751183    \n",
      "freqativ.3                     -0.465848   0.319106  -1.460 0.144389    \n",
      "freqativ.4                      0.019279   0.292929   0.066 0.947527    \n",
      "fxetaria.18                    -2.827653   0.706362  -4.003 6.34e-05 ***\n",
      "fxetaria.22                    -2.033198   0.288002  -7.060 1.88e-12 ***\n",
      "fxetaria.32                    -1.757910   0.150195 -11.704  < 2e-16 ***\n",
      "fxetaria.50                    -0.598662   0.080649  -7.423 1.32e-13 ***\n",
      "imcclass.1                     -1.072505   0.522629  -2.052 0.040205 *  \n",
      "imcclass.2                     -0.616384   0.400755  -1.538 0.124093    \n",
      "imcclass.3                     -0.901397   0.191388  -4.710 2.54e-06 ***\n",
      "imcclass.4                     -0.660411   0.190227  -3.472 0.000521 ***\n",
      "imcclass.5                     -0.369920   0.194160  -1.905 0.056803 .  \n",
      "imcclass.6                     -0.213017   0.221808  -0.960 0.336913    \n",
      "---\n",
      "Signif. codes:  0 '***' 0.001 '**' 0.01 '*' 0.05 '.' 0.1 ' ' 1\n",
      "\n",
      "(Dispersion parameter for binomial family taken to be 0.9829433)\n",
      "\n",
      "Number of Fisher Scoring iterations: 7\n",
      "\n"
     ]
    }
   ],
   "source": [
    "modelb <- construir_modelo(df)\n",
    "\n",
    "print(summary(modelb))\n",
    "\n",
    "df_modelb = ordenar_pvalue(modelb)"
   ]
  },
  {
   "cell_type": "code",
   "execution_count": 91,
   "metadata": {},
   "outputs": [
    {
     "name": "stderr",
     "output_type": "stream",
     "text": [
      "Warning message in summary.glm(g):\n",
      "\"observations with zero weight not used for calculating dispersion\"Warning message in summary.glm(glm.object):\n",
      "\"observations with zero weight not used for calculating dispersion\""
     ]
    },
    {
     "name": "stdout",
     "output_type": "stream",
     "text": [
      "\n",
      "Call:\n",
      "svyglm(formula = as.formula(fla), design = df, family = \"quasibinomial\")\n",
      "\n",
      "Survey design:\n",
      "subset(df, diagnostico_diabetes_q030 != \" \" & diagnostico_diabetes_q030 != \n",
      "    2 & pressao_alta_q002 != \" \" & colesterol_alto_q060 != \" \")\n",
      "\n",
      "Coefficients:\n",
      "                                Estimate Std. Error t value Pr(>|t|)    \n",
      "(Intercept)                    -0.646408   1.159312  -0.558 0.577155    \n",
      "sexo_c006                      -0.171293   0.082744  -2.070 0.038486 *  \n",
      "fumante_p050                   -0.196768   0.117247  -1.678 0.093360 .  \n",
      "pressao_alta_q002               0.924637   0.074288  12.447  < 2e-16 ***\n",
      "colesterol_alto_q060            0.739389   0.074128   9.975  < 2e-16 ***\n",
      "avc_q068                        0.370584   0.144264   2.569 0.010232 *  \n",
      "insuficiencia_renal_q124        0.252671   0.177022   1.427 0.153538    \n",
      "ja_ficou_gravida_r039          -0.231973   0.109705  -2.115 0.034517 *  \n",
      "cor_raca_c009.1                -2.426599   1.002573  -2.420 0.015538 *  \n",
      "cor_raca_c009.2                -2.308419   1.008337  -2.289 0.022099 *  \n",
      "cor_raca_c009.3                -2.375656   1.055820  -2.250 0.024485 *  \n",
      "cor_raca_c009.4                -2.520600   1.002634  -2.514 0.011967 *  \n",
      "cor_raca_c009.5                -2.185084   1.063152  -2.055 0.039899 *  \n",
      "faixa_escolaridade.0            0.723334   0.434034   1.667 0.095665 .  \n",
      "faixa_escolaridade.1            0.681794   0.430389   1.584 0.113222    \n",
      "faixa_escolaridade.2            0.694334   0.431454   1.609 0.107612    \n",
      "faixa_escolaridade.3            0.449797   0.436128   1.031 0.302427    \n",
      "faixa_escolaridade.4            0.634863   0.653056   0.972 0.331023    \n",
      "come_verduras_p009.0           -0.032714   0.117880  -0.278 0.781389    \n",
      "come_verduras_p009.1            0.021451   0.120283   0.178 0.858467    \n",
      "come_verduras_p009.2            0.037344   0.103733   0.360 0.718861    \n",
      "come_verduras_p009.3            0.154369   0.107127   1.441 0.149644    \n",
      "come_verduras_p009.4           -0.134958   0.134115  -1.006 0.314321    \n",
      "come_verduras_p009.5            0.090018   0.148439   0.606 0.544253    \n",
      "come_verduras_p009.6           -0.122724   0.159207  -0.771 0.440832    \n",
      "come_frutas_p018.0             -0.480352   0.134576  -3.569 0.000361 ***\n",
      "come_frutas_p018.1             -0.374220   0.139679  -2.679 0.007403 ** \n",
      "come_frutas_p018.2             -0.340813   0.115619  -2.948 0.003215 ** \n",
      "come_frutas_p018.3             -0.263176   0.123074  -2.138 0.032532 *  \n",
      "come_frutas_p018.4             -0.170828   0.140290  -1.218 0.223399    \n",
      "come_frutas_p018.5             -0.166636   0.136940  -1.217 0.223714    \n",
      "come_frutas_p018.6             -0.240520   0.135468  -1.775 0.075877 .  \n",
      "refrigerante_suco_p020.0        0.120067   0.117087   1.025 0.305197    \n",
      "refrigerante_suco_p020.1        0.124525   0.128664   0.968 0.333173    \n",
      "refrigerante_suco_p020.2        0.032981   0.137931   0.239 0.811030    \n",
      "refrigerante_suco_p020.3        0.361388   0.180346   2.004 0.045135 *  \n",
      "refrigerante_suco_p020.4        0.145637   0.210348   0.692 0.488741    \n",
      "refrigerante_suco_p020.5        0.346595   0.265140   1.307 0.191195    \n",
      "refrigerante_suco_p020.6       -0.066592   0.214347  -0.311 0.756061    \n",
      "alimentos_doces_p025.0          1.414290   0.136431  10.366  < 2e-16 ***\n",
      "alimentos_doces_p025.1          0.571500   0.148199   3.856 0.000116 ***\n",
      "alimentos_doces_p025.2          0.373282   0.161750   2.308 0.021049 *  \n",
      "alimentos_doces_p025.3          0.009677   0.192143   0.050 0.959836    \n",
      "alimentos_doces_p025.4          0.313013   0.223546   1.400 0.161506    \n",
      "alimentos_doces_p025.5         -0.124135   0.226177  -0.549 0.583138    \n",
      "alimentos_doces_p025.6         -0.027345   0.273321  -0.100 0.920309    \n",
      "substitui_refeicoes_p026.0     -0.318986   0.168501  -1.893 0.058401 .  \n",
      "substitui_refeicoes_p026.1     -0.133910   0.186053  -0.720 0.471717    \n",
      "substitui_refeicoes_p026.2     -0.204717   0.210566  -0.972 0.330982    \n",
      "substitui_refeicoes_p026.3     -0.409182   0.246903  -1.657 0.097525 .  \n",
      "substitui_refeicoes_p026.4     -0.613545   0.340757  -1.801 0.071832 .  \n",
      "substitui_refeicoes_p026.5     -0.273257   0.407296  -0.671 0.502310    \n",
      "substitui_refeicoes_p026.6     -1.211722   0.422937  -2.865 0.004186 ** \n",
      "bebida_alcoolica_p028.0         0.344176   0.262142   1.313 0.189260    \n",
      "bebida_alcoolica_p028.1         0.038255   0.289206   0.132 0.894770    \n",
      "bebida_alcoolica_p028.2        -0.169677   0.293852  -0.577 0.563678    \n",
      "bebida_alcoolica_p028.3        -0.724749   0.370381  -1.957 0.050427 .  \n",
      "bebida_alcoolica_p028.4        -0.391613   0.516773  -0.758 0.448601    \n",
      "bebida_alcoolica_p028.5        -0.033028   0.487460  -0.068 0.945983    \n",
      "bebida_alcoolica_p028.6        -0.020461   0.601386  -0.034 0.972861    \n",
      "dias_semana_ativ_fisica_p035.0  0.056788   0.173668   0.327 0.743684    \n",
      "dias_semana_ativ_fisica_p035.1 -0.243260   0.257790  -0.944 0.345398    \n",
      "dias_semana_ativ_fisica_p035.2 -0.103759   0.243168  -0.427 0.669617    \n",
      "dias_semana_ativ_fisica_p035.3  0.082341   0.217151   0.379 0.704562    \n",
      "dias_semana_ativ_fisica_p035.4  0.019209   0.287377   0.067 0.946710    \n",
      "dias_semana_ativ_fisica_p035.5  0.026980   0.246984   0.109 0.913017    \n",
      "dias_semana_ativ_fisica_p035.6 -0.223647   0.408361  -0.548 0.583941    \n",
      "freqativ.0                      0.085433   0.150629   0.567 0.570620    \n",
      "freqativ.1                      0.369437   0.349689   1.056 0.290799    \n",
      "freqativ.2                     -0.070801   0.223280  -0.317 0.751183    \n",
      "freqativ.3                     -0.465848   0.319106  -1.460 0.144389    \n",
      "freqativ.4                      0.019279   0.292929   0.066 0.947527    \n",
      "fxetaria.18                    -2.827653   0.706362  -4.003 6.34e-05 ***\n",
      "fxetaria.22                    -2.033198   0.288002  -7.060 1.88e-12 ***\n",
      "fxetaria.32                    -1.757910   0.150195 -11.704  < 2e-16 ***\n",
      "fxetaria.50                    -0.598662   0.080649  -7.423 1.32e-13 ***\n",
      "imcclass.1                     -1.072505   0.522629  -2.052 0.040205 *  \n",
      "imcclass.2                     -0.616384   0.400755  -1.538 0.124093    \n",
      "imcclass.3                     -0.901397   0.191388  -4.710 2.54e-06 ***\n",
      "imcclass.4                     -0.660411   0.190227  -3.472 0.000521 ***\n",
      "imcclass.5                     -0.369920   0.194160  -1.905 0.056803 .  \n",
      "imcclass.6                     -0.213017   0.221808  -0.960 0.336913    \n",
      "---\n",
      "Signif. codes:  0 '***' 0.001 '**' 0.01 '*' 0.05 '.' 0.1 ' ' 1\n",
      "\n",
      "(Dispersion parameter for quasibinomial family taken to be 0.9829433)\n",
      "\n",
      "Number of Fisher Scoring iterations: 7\n",
      "\n"
     ]
    }
   ],
   "source": [
    "modelqb <- construir_modelo(df)\n",
    "\n",
    "print(summary(modelqb))\n",
    "\n",
    "df_modelqb = ordenar_pvalue(modelqb)"
   ]
  },
  {
   "cell_type": "markdown",
   "metadata": {},
   "source": [
    "Com esses dados criamos 2 modelos, um com a família binomial e outra com a família quasibinomial, e calculamos o teste do qui-quadrado para observar se nosso modelo está com superdispersão, indicando um viés sobre os dados.\n",
    "\n",
    "hipotese nula $\\phi=1$ \n",
    "\n",
    "hipotese alternativa $\\phi \\neq 1$"
   ]
  },
  {
   "cell_type": "code",
   "execution_count": 92,
   "metadata": {},
   "outputs": [
    {
     "data": {
      "text/html": [
       "0.811551615164847"
      ],
      "text/latex": [
       "0.811551615164847"
      ],
      "text/markdown": [
       "0.811551615164847"
      ],
      "text/plain": [
       "[1] 0.8115516"
      ]
     },
     "metadata": {},
     "output_type": "display_data"
    }
   ],
   "source": [
    "pchisq(summary(modelqb)$dispersion[1] * modelb$df.residual, modelb$df.residual, lower.tail = F)"
   ]
  },
  {
   "cell_type": "markdown",
   "metadata": {},
   "source": [
    "Variáveis que serão removidas por ter um p_value maior que 0.5"
   ]
  },
  {
   "cell_type": "code",
   "execution_count": 94,
   "metadata": {
    "tags": [
     "remove_input"
    ]
   },
   "outputs": [
    {
     "name": "stdout",
     "output_type": "stream",
     "text": [
      "                          keyName        value   COEFF_ABS   p_value\n",
      "52     substitui_refeicoes_p026.5 -0.273256652 0.273256652 0.5023098\n",
      "24           come_verduras_p009.5  0.090018364 0.090018364 0.5442526\n",
      "56        bebida_alcoolica_p028.2 -0.169676906 0.169676906 0.5636779\n",
      "68                     freqativ.0  0.085432846 0.085432846 0.5706200\n",
      "1                     (Intercept) -0.646408421 0.646408421 0.5771547\n",
      "45         alimentos_doces_p025.5 -0.124135047 0.124135047 0.5831382\n",
      "67 dias_semana_ativ_fisica_p035.6 -0.223647325 0.223647325 0.5839409\n",
      "63 dias_semana_ativ_fisica_p035.2 -0.103758895 0.103758895 0.6696171\n",
      "64 dias_semana_ativ_fisica_p035.3  0.082341386 0.082341386 0.7045616\n",
      "21           come_verduras_p009.2  0.037343792 0.037343792 0.7188612\n",
      "61 dias_semana_ativ_fisica_p035.0  0.056788458 0.056788458 0.7436843\n",
      "70                     freqativ.2 -0.070801407 0.070801407 0.7511828\n",
      "39       refrigerante_suco_p020.6 -0.066591780 0.066591780 0.7560614\n",
      "19           come_verduras_p009.0 -0.032714433 0.032714433 0.7813886\n",
      "35       refrigerante_suco_p020.2  0.032980710 0.032980710 0.8110297\n",
      "20           come_verduras_p009.1  0.021450532 0.021450532 0.8584670\n",
      "55        bebida_alcoolica_p028.1  0.038255459 0.038255459 0.8947697\n",
      "66 dias_semana_ativ_fisica_p035.5  0.026980219 0.026980219 0.9130172\n",
      "46         alimentos_doces_p025.6 -0.027345357 0.027345357 0.9203095\n",
      "59        bebida_alcoolica_p028.5 -0.033027753 0.033027753 0.9459833\n",
      "65 dias_semana_ativ_fisica_p035.4  0.019208816 0.019208816 0.9467101\n",
      "72                     freqativ.4  0.019279466 0.019279466 0.9475266\n",
      "43         alimentos_doces_p025.3  0.009676616 0.009676616 0.9598362\n",
      "60        bebida_alcoolica_p028.6 -0.020460614 0.020460614 0.9728605\n"
     ]
    }
   ],
   "source": [
    "print(df_modelqb[df_modelqb$p_value > 0.5, ])"
   ]
  },
  {
   "cell_type": "code",
   "execution_count": 95,
   "metadata": {},
   "outputs": [],
   "source": [
    "droplist1 <- df_modelb[df_modelb$p_value >= 0.5, 1] \n",
    "\n",
    "df2 = df\n",
    "df2$variables <- df2$variables[, !colnames(df2$variables) %in% droplist1]\n"
   ]
  },
  {
   "cell_type": "markdown",
   "metadata": {
    "lines_to_next_cell": 0
   },
   "source": [
    "### Segundo modelo:"
   ]
  },
  {
   "cell_type": "markdown",
   "metadata": {},
   "source": [
    "Sem as variáveis com p_value maior que 0.5 criamos mais um modelo."
   ]
  },
  {
   "cell_type": "code",
   "execution_count": 96,
   "metadata": {},
   "outputs": [
    {
     "name": "stderr",
     "output_type": "stream",
     "text": [
      "Warning message in eval(family$initialize):\n",
      "\"non-integer #successes in a binomial glm!\""
     ]
    },
    {
     "name": "stdout",
     "output_type": "stream",
     "text": [
      "\n",
      "Call:\n",
      "svyglm(formula = as.formula(fla), design = df, family = \"binomial\")\n",
      "\n",
      "Survey design:\n",
      "subset(df, diagnostico_diabetes_q030 != \" \" & diagnostico_diabetes_q030 != \n",
      "    2 & pressao_alta_q002 != \" \" & colesterol_alto_q060 != \" \")\n",
      "\n",
      "Coefficients:\n",
      "                               Estimate Std. Error t value Pr(>|t|)    \n",
      "(Intercept)                    -0.67687    1.11028  -0.610 0.542127    \n",
      "sexo_c006                      -0.16966    0.08204  -2.068 0.038680 *  \n",
      "fumante_p050                   -0.19011    0.11878  -1.600 0.109555    \n",
      "pressao_alta_q002               0.92662    0.07444  12.447  < 2e-16 ***\n",
      "colesterol_alto_q060            0.73403    0.07408   9.909  < 2e-16 ***\n",
      "avc_q068                        0.37645    0.14352   2.623 0.008739 ** \n",
      "insuficiencia_renal_q124        0.25506    0.17696   1.441 0.149544    \n",
      "ja_ficou_gravida_r039          -0.22585    0.10993  -2.054 0.039984 *  \n",
      "cor_raca_c009.1                -2.38658    0.99792  -2.392 0.016811 *  \n",
      "cor_raca_c009.2                -2.27061    1.00500  -2.259 0.023904 *  \n",
      "cor_raca_c009.3                -2.34991    1.05191  -2.234 0.025527 *  \n",
      "cor_raca_c009.4                -2.48285    0.99843  -2.487 0.012921 *  \n",
      "cor_raca_c009.5                -2.16144    1.06250  -2.034 0.041969 *  \n",
      "faixa_escolaridade.0            0.75177    0.42663   1.762 0.078107 .  \n",
      "faixa_escolaridade.1            0.71395    0.42268   1.689 0.091261 .  \n",
      "faixa_escolaridade.2            0.71982    0.42409   1.697 0.089690 .  \n",
      "faixa_escolaridade.3            0.45588    0.43023   1.060 0.289369    \n",
      "faixa_escolaridade.4            0.61831    0.64917   0.952 0.340898    \n",
      "come_verduras_p009.3            0.13791    0.09164   1.505 0.132387    \n",
      "come_verduras_p009.4           -0.15153    0.12321  -1.230 0.218835    \n",
      "come_verduras_p009.6           -0.14675    0.15166  -0.968 0.333247    \n",
      "come_frutas_p018.0             -0.47678    0.13235  -3.602 0.000318 ***\n",
      "come_frutas_p018.1             -0.36343    0.13771  -2.639 0.008338 ** \n",
      "come_frutas_p018.2             -0.32854    0.11335  -2.898 0.003767 ** \n",
      "come_frutas_p018.3             -0.25123    0.12083  -2.079 0.037648 *  \n",
      "come_frutas_p018.4             -0.16096    0.13858  -1.161 0.245500    \n",
      "come_frutas_p018.5             -0.15569    0.13539  -1.150 0.250239    \n",
      "come_frutas_p018.6             -0.23362    0.13456  -1.736 0.082594 .  \n",
      "refrigerante_suco_p020.0        0.10065    0.08954   1.124 0.261047    \n",
      "refrigerante_suco_p020.1        0.10808    0.10394   1.040 0.298461    \n",
      "refrigerante_suco_p020.3        0.34971    0.16704   2.094 0.036341 *  \n",
      "refrigerante_suco_p020.4        0.12906    0.19766   0.653 0.513811    \n",
      "refrigerante_suco_p020.5        0.34090    0.26241   1.299 0.193952    \n",
      "alimentos_doces_p025.0          1.42659    0.09895  14.418  < 2e-16 ***\n",
      "alimentos_doces_p025.1          0.58384    0.11354   5.142 2.81e-07 ***\n",
      "alimentos_doces_p025.2          0.38200    0.13333   2.865 0.004185 ** \n",
      "alimentos_doces_p025.4          0.32960    0.20842   1.581 0.113850    \n",
      "substitui_refeicoes_p026.0     -0.26240    0.15442  -1.699 0.089317 .  \n",
      "substitui_refeicoes_p026.1     -0.07750    0.17399  -0.445 0.656036    \n",
      "substitui_refeicoes_p026.2     -0.14934    0.19213  -0.777 0.437036    \n",
      "substitui_refeicoes_p026.3     -0.35078    0.24041  -1.459 0.144592    \n",
      "substitui_refeicoes_p026.4     -0.56247    0.32967  -1.706 0.088041 .  \n",
      "substitui_refeicoes_p026.6     -1.16629    0.41695  -2.797 0.005173 ** \n",
      "bebida_alcoolica_p028.0         0.38940    0.10424   3.736 0.000189 ***\n",
      "bebida_alcoolica_p028.3        -0.68474    0.28515  -2.401 0.016369 *  \n",
      "bebida_alcoolica_p028.4        -0.35220    0.45873  -0.768 0.442652    \n",
      "dias_semana_ativ_fisica_p035.1 -0.31417    0.17694  -1.776 0.075859 .  \n",
      "freqativ.1                      0.29600    0.31360   0.944 0.345274    \n",
      "freqativ.3                     -0.55813    0.29337  -1.902 0.057161 .  \n",
      "fxetaria.18                    -2.89252    0.70671  -4.093 4.32e-05 ***\n",
      "fxetaria.22                    -2.07377    0.28430  -7.294 3.43e-13 ***\n",
      "fxetaria.32                    -1.77934    0.14998 -11.864  < 2e-16 ***\n",
      "fxetaria.50                    -0.60555    0.08091  -7.485 8.33e-14 ***\n",
      "imcclass.1                     -1.07273    0.52385  -2.048 0.040629 *  \n",
      "imcclass.2                     -0.62264    0.40003  -1.556 0.119651    \n",
      "imcclass.3                     -0.90092    0.19096  -4.718 2.44e-06 ***\n",
      "imcclass.4                     -0.66090    0.19009  -3.477 0.000512 ***\n",
      "imcclass.5                     -0.37052    0.19360  -1.914 0.055691 .  \n",
      "imcclass.6                     -0.21755    0.22193  -0.980 0.326994    \n",
      "---\n",
      "Signif. codes:  0 '***' 0.001 '**' 0.01 '*' 0.05 '.' 0.1 ' ' 1\n",
      "\n",
      "(Dispersion parameter for binomial family taken to be 0.976537)\n",
      "\n",
      "Number of Fisher Scoring iterations: 7\n",
      "\n"
     ]
    }
   ],
   "source": [
    "model2 <- construir_modelo(df2)\n",
    "\n",
    "print(summary(model2))\n",
    "\n",
    "df_model2 = ordenar_pvalue(model2)"
   ]
  },
  {
   "cell_type": "markdown",
   "metadata": {},
   "source": [
    "Variáveis que serão removidas por ter um p_value maior que 0.5:"
   ]
  },
  {
   "cell_type": "code",
   "execution_count": 97,
   "metadata": {
    "tags": [
     "remove_input"
    ]
   },
   "outputs": [
    {
     "name": "stdout",
     "output_type": "stream",
     "text": [
      "                      keyName       value  COEFF_ABS   p_value\n",
      "32   refrigerante_suco_p020.4  0.12906475 0.12906475 0.5138110\n",
      "1                 (Intercept) -0.67687201 0.67687201 0.5421271\n",
      "39 substitui_refeicoes_p026.1 -0.07749705 0.07749705 0.6560357\n"
     ]
    }
   ],
   "source": [
    "print(df_model2[df_model2$p_value >= 0.5, ])"
   ]
  },
  {
   "cell_type": "code",
   "execution_count": 98,
   "metadata": {},
   "outputs": [],
   "source": [
    "droplist2 <- df_model2[df_model2$p_value >= 0.5, 1] \n",
    "\n",
    "df3 = df2\n",
    "df3$variables <- df3$variables[, !colnames(df3$variables) %in% droplist2]"
   ]
  },
  {
   "cell_type": "markdown",
   "metadata": {},
   "source": [
    "### Terceiro Modelo"
   ]
  },
  {
   "cell_type": "markdown",
   "metadata": {},
   "source": [
    "Sem as variáveis com p_value maior que 0.5 do segundo modelo criamos mais um modelo."
   ]
  },
  {
   "cell_type": "code",
   "execution_count": 99,
   "metadata": {},
   "outputs": [
    {
     "name": "stderr",
     "output_type": "stream",
     "text": [
      "Warning message in eval(family$initialize):\n",
      "\"non-integer #successes in a binomial glm!\""
     ]
    },
    {
     "name": "stdout",
     "output_type": "stream",
     "text": [
      "\n",
      "Call:\n",
      "svyglm(formula = as.formula(fla), design = df, family = \"binomial\")\n",
      "\n",
      "Survey design:\n",
      "subset(df, diagnostico_diabetes_q030 != \" \" & diagnostico_diabetes_q030 != \n",
      "    2 & pressao_alta_q002 != \" \" & colesterol_alto_q060 != \" \")\n",
      "\n",
      "Coefficients:\n",
      "                               Estimate Std. Error t value Pr(>|t|)    \n",
      "(Intercept)                    -0.71847    1.10371  -0.651 0.515104    \n",
      "sexo_c006                      -0.16873    0.08179  -2.063 0.039156 *  \n",
      "fumante_p050                   -0.18963    0.11919  -1.591 0.111672    \n",
      "pressao_alta_q002               0.92681    0.07445  12.449  < 2e-16 ***\n",
      "colesterol_alto_q060            0.73383    0.07410   9.903  < 2e-16 ***\n",
      "avc_q068                        0.37724    0.14338   2.631 0.008538 ** \n",
      "insuficiencia_renal_q124        0.25451    0.17696   1.438 0.150438    \n",
      "ja_ficou_gravida_r039          -0.22623    0.10975  -2.061 0.039328 *  \n",
      "cor_raca_c009.1                -2.38328    0.99634  -2.392 0.016789 *  \n",
      "cor_raca_c009.2                -2.26760    1.00343  -2.260 0.023871 *  \n",
      "cor_raca_c009.3                -2.35326    1.05036  -2.240 0.025103 *  \n",
      "cor_raca_c009.4                -2.47975    0.99686  -2.488 0.012892 *  \n",
      "cor_raca_c009.5                -2.15191    1.06303  -2.024 0.042986 *  \n",
      "faixa_escolaridade.0            0.74832    0.42682   1.753 0.079614 .  \n",
      "faixa_escolaridade.1            0.70998    0.42288   1.679 0.093225 .  \n",
      "faixa_escolaridade.2            0.71701    0.42425   1.690 0.091077 .  \n",
      "faixa_escolaridade.3            0.45310    0.43029   1.053 0.292379    \n",
      "faixa_escolaridade.4            0.61246    0.64996   0.942 0.346080    \n",
      "come_verduras_p009.3            0.13838    0.09176   1.508 0.131598    \n",
      "come_verduras_p009.4           -0.15224    0.12332  -1.234 0.217095    \n",
      "come_verduras_p009.6           -0.14636    0.15160  -0.965 0.334378    \n",
      "come_frutas_p018.0             -0.47563    0.13226  -3.596 0.000326 ***\n",
      "come_frutas_p018.1             -0.36250    0.13781  -2.630 0.008552 ** \n",
      "come_frutas_p018.2             -0.32736    0.11297  -2.898 0.003773 ** \n",
      "come_frutas_p018.3             -0.24938    0.12003  -2.078 0.037790 *  \n",
      "come_frutas_p018.4             -0.16029    0.13827  -1.159 0.246405    \n",
      "come_frutas_p018.5             -0.15450    0.13507  -1.144 0.252735    \n",
      "come_frutas_p018.6             -0.23461    0.13457  -1.743 0.081322 .  \n",
      "refrigerante_suco_p020.0        0.08482    0.08560   0.991 0.321817    \n",
      "refrigerante_suco_p020.1        0.09113    0.09961   0.915 0.360299    \n",
      "refrigerante_suco_p020.3        0.33284    0.16552   2.011 0.044394 *  \n",
      "refrigerante_suco_p020.5        0.32397    0.26036   1.244 0.213426    \n",
      "alimentos_doces_p025.0          1.42541    0.09903  14.393  < 2e-16 ***\n",
      "alimentos_doces_p025.1          0.58233    0.11411   5.103 3.45e-07 ***\n",
      "alimentos_doces_p025.2          0.38026    0.13297   2.860 0.004256 ** \n",
      "alimentos_doces_p025.4          0.33035    0.20852   1.584 0.113195    \n",
      "substitui_refeicoes_p026.0     -0.20645    0.08613  -2.397 0.016564 *  \n",
      "substitui_refeicoes_p026.2     -0.09223    0.13935  -0.662 0.508079    \n",
      "substitui_refeicoes_p026.3     -0.29489    0.19848  -1.486 0.137410    \n",
      "substitui_refeicoes_p026.4     -0.50440    0.29439  -1.713 0.086703 .  \n",
      "substitui_refeicoes_p026.6     -1.09799    0.39321  -2.792 0.005251 ** \n",
      "bebida_alcoolica_p028.0         0.38954    0.10413   3.741 0.000185 ***\n",
      "bebida_alcoolica_p028.3        -0.68368    0.28544  -2.395 0.016644 *  \n",
      "bebida_alcoolica_p028.4        -0.35392    0.45911  -0.771 0.440805    \n",
      "dias_semana_ativ_fisica_p035.1 -0.31357    0.17686  -1.773 0.076299 .  \n",
      "freqativ.1                      0.29322    0.31367   0.935 0.349932    \n",
      "freqativ.3                     -0.55638    0.29287  -1.900 0.057516 .  \n",
      "fxetaria.18                    -2.89108    0.70667  -4.091 4.36e-05 ***\n",
      "fxetaria.22                    -2.07282    0.28395  -7.300 3.29e-13 ***\n",
      "fxetaria.32                    -1.78114    0.15009 -11.867  < 2e-16 ***\n",
      "fxetaria.50                    -0.60665    0.08077  -7.511 6.81e-14 ***\n",
      "imcclass.1                     -1.07133    0.52366  -2.046 0.040818 *  \n",
      "imcclass.2                     -0.62223    0.40020  -1.555 0.120055    \n",
      "imcclass.3                     -0.89779    0.19130  -4.693 2.76e-06 ***\n",
      "imcclass.4                     -0.65894    0.19046  -3.460 0.000545 ***\n",
      "imcclass.5                     -0.36840    0.19403  -1.899 0.057664 .  \n",
      "imcclass.6                     -0.21358    0.22273  -0.959 0.337641    \n",
      "---\n",
      "Signif. codes:  0 '***' 0.001 '**' 0.01 '*' 0.05 '.' 0.1 ' ' 1\n",
      "\n",
      "(Dispersion parameter for binomial family taken to be 0.9757529)\n",
      "\n",
      "Number of Fisher Scoring iterations: 7\n",
      "\n"
     ]
    }
   ],
   "source": [
    "model3 <- construir_modelo(df3)\n",
    "\n",
    "print(summary(model3))\n",
    "\n",
    "df_model3 = ordenar_pvalue(model3)"
   ]
  },
  {
   "cell_type": "code",
   "execution_count": 100,
   "metadata": {
    "tags": [
     "remove_input"
    ]
   },
   "outputs": [
    {
     "name": "stdout",
     "output_type": "stream",
     "text": [
      "                      keyName       value  COEFF_ABS   p_value\n",
      "38 substitui_refeicoes_p026.2 -0.09223023 0.09223023 0.5080792\n",
      "1                 (Intercept) -0.71846553 0.71846553 0.5151038\n"
     ]
    }
   ],
   "source": [
    "print(df_model3[df_model3$p_value > 0.5, ])"
   ]
  },
  {
   "cell_type": "code",
   "execution_count": 101,
   "metadata": {},
   "outputs": [],
   "source": [
    "droplist3 <- df_model3[df_model3$p_value >= 0.5, 1] \n",
    "\n",
    "df4 = df3\n",
    "df4$variables <- df4$variables[, !colnames(df4$variables) %in% droplist3]"
   ]
  },
  {
   "cell_type": "markdown",
   "metadata": {},
   "source": [
    "### Quarto Modelo"
   ]
  },
  {
   "cell_type": "markdown",
   "metadata": {},
   "source": [
    "Ultimo modelo criado com todas as variáveis com um p_value menor que 0.5."
   ]
  },
  {
   "cell_type": "code",
   "execution_count": 102,
   "metadata": {},
   "outputs": [
    {
     "name": "stderr",
     "output_type": "stream",
     "text": [
      "Warning message in eval(family$initialize):\n",
      "\"non-integer #successes in a binomial glm!\""
     ]
    },
    {
     "name": "stdout",
     "output_type": "stream",
     "text": [
      "\n",
      "Call:\n",
      "svyglm(formula = as.formula(fla), design = df, family = \"binomial\")\n",
      "\n",
      "Survey design:\n",
      "subset(df, diagnostico_diabetes_q030 != \" \" & diagnostico_diabetes_q030 != \n",
      "    2 & pressao_alta_q002 != \" \" & colesterol_alto_q060 != \" \")\n",
      "\n",
      "Coefficients:\n",
      "                               Estimate Std. Error t value Pr(>|t|)    \n",
      "(Intercept)                    -0.74416    1.10323  -0.675 0.500005    \n",
      "sexo_c006                      -0.16891    0.08184  -2.064 0.039070 *  \n",
      "fumante_p050                   -0.19082    0.11931  -1.599 0.109786    \n",
      "pressao_alta_q002               0.92706    0.07440  12.460  < 2e-16 ***\n",
      "colesterol_alto_q060            0.73447    0.07420   9.899  < 2e-16 ***\n",
      "avc_q068                        0.37681    0.14350   2.626 0.008667 ** \n",
      "insuficiencia_renal_q124        0.25682    0.17698   1.451 0.146802    \n",
      "ja_ficou_gravida_r039          -0.22560    0.10981  -2.055 0.039973 *  \n",
      "cor_raca_c009.1                -2.38111    0.99664  -2.389 0.016921 *  \n",
      "cor_raca_c009.2                -2.26723    1.00379  -2.259 0.023943 *  \n",
      "cor_raca_c009.3                -2.34943    1.05058  -2.236 0.025372 *  \n",
      "cor_raca_c009.4                -2.47808    0.99717  -2.485 0.012981 *  \n",
      "cor_raca_c009.5                -2.14729    1.06346  -2.019 0.043520 *  \n",
      "faixa_escolaridade.0            0.74574    0.42593   1.751 0.080030 .  \n",
      "faixa_escolaridade.1            0.70881    0.42205   1.679 0.093124 .  \n",
      "faixa_escolaridade.2            0.71438    0.42332   1.688 0.091553 .  \n",
      "faixa_escolaridade.3            0.45108    0.42961   1.050 0.293773    \n",
      "faixa_escolaridade.4            0.59562    0.64905   0.918 0.358827    \n",
      "come_verduras_p009.3            0.13752    0.09184   1.497 0.134367    \n",
      "come_verduras_p009.4           -0.15368    0.12331  -1.246 0.212709    \n",
      "come_verduras_p009.6           -0.14785    0.15154  -0.976 0.329303    \n",
      "come_frutas_p018.0             -0.47762    0.13207  -3.616 0.000302 ***\n",
      "come_frutas_p018.1             -0.36457    0.13789  -2.644 0.008220 ** \n",
      "come_frutas_p018.2             -0.32993    0.11283  -2.924 0.003468 ** \n",
      "come_frutas_p018.3             -0.25061    0.12005  -2.088 0.036885 *  \n",
      "come_frutas_p018.4             -0.16084    0.13827  -1.163 0.244788    \n",
      "come_frutas_p018.5             -0.15732    0.13507  -1.165 0.244186    \n",
      "come_frutas_p018.6             -0.23649    0.13454  -1.758 0.078838 .  \n",
      "refrigerante_suco_p020.0        0.08731    0.08540   1.022 0.306665    \n",
      "refrigerante_suco_p020.1        0.09383    0.09942   0.944 0.345359    \n",
      "refrigerante_suco_p020.3        0.33285    0.16552   2.011 0.044374 *  \n",
      "refrigerante_suco_p020.5        0.32244    0.26026   1.239 0.215419    \n",
      "alimentos_doces_p025.0          1.42627    0.09910  14.393  < 2e-16 ***\n",
      "alimentos_doces_p025.1          0.58388    0.11415   5.115 3.25e-07 ***\n",
      "alimentos_doces_p025.2          0.38083    0.13308   2.862 0.004231 ** \n",
      "alimentos_doces_p025.4          0.32972    0.20843   1.582 0.113733    \n",
      "substitui_refeicoes_p026.0     -0.18220    0.07567  -2.408 0.016088 *  \n",
      "substitui_refeicoes_p026.3     -0.26950    0.19234  -1.401 0.161229    \n",
      "substitui_refeicoes_p026.4     -0.47876    0.29003  -1.651 0.098852 .  \n",
      "substitui_refeicoes_p026.6     -1.07311    0.39064  -2.747 0.006033 ** \n",
      "bebida_alcoolica_p028.0         0.38951    0.10415   3.740 0.000186 ***\n",
      "bebida_alcoolica_p028.3        -0.68325    0.28529  -2.395 0.016659 *  \n",
      "bebida_alcoolica_p028.4        -0.36308    0.45964  -0.790 0.429616    \n",
      "dias_semana_ativ_fisica_p035.1 -0.31054    0.17628  -1.762 0.078187 .  \n",
      "freqativ.1                      0.29339    0.31385   0.935 0.349929    \n",
      "freqativ.3                     -0.55466    0.29292  -1.894 0.058336 .  \n",
      "fxetaria.18                    -2.89584    0.70669  -4.098 4.23e-05 ***\n",
      "fxetaria.22                    -2.07710    0.28360  -7.324 2.76e-13 ***\n",
      "fxetaria.32                    -1.78284    0.15028 -11.864  < 2e-16 ***\n",
      "fxetaria.50                    -0.60718    0.08079  -7.516 6.59e-14 ***\n",
      "imcclass.1                     -1.06853    0.52394  -2.039 0.041457 *  \n",
      "imcclass.2                     -0.62027    0.40020  -1.550 0.121227    \n",
      "imcclass.3                     -0.89753    0.19119  -4.694 2.74e-06 ***\n",
      "imcclass.4                     -0.65890    0.19032  -3.462 0.000540 ***\n",
      "imcclass.5                     -0.36675    0.19399  -1.891 0.058731 .  \n",
      "imcclass.6                     -0.21250    0.22250  -0.955 0.339583    \n",
      "---\n",
      "Signif. codes:  0 '***' 0.001 '**' 0.01 '*' 0.05 '.' 0.1 ' ' 1\n",
      "\n",
      "(Dispersion parameter for binomial family taken to be 0.9758491)\n",
      "\n",
      "Number of Fisher Scoring iterations: 7\n",
      "\n"
     ]
    }
   ],
   "source": [
    "model4 <- construir_modelo(df4)\n",
    "\n",
    "print(summary(model4))\n",
    "\n",
    "df_model4 = ordenar_pvalue(model4)"
   ]
  },
  {
   "cell_type": "code",
   "execution_count": 105,
   "metadata": {
    "lines_to_next_cell": 0,
    "tags": [
     "remove_input"
    ]
   },
   "outputs": [
    {
     "name": "stdout",
     "output_type": "stream",
     "text": [
      "                          keyName       value  COEFF_ABS      p_value\n",
      "33         alimentos_doces_p025.0  1.42627214 1.42627214 4.039284e-46\n",
      "4               pressao_alta_q002  0.92706137 0.92706137 3.712778e-35\n",
      "49                    fxetaria.32 -1.78284216 1.78284216 4.555747e-32\n",
      "5            colesterol_alto_q060  0.73447316 0.73447316 6.594425e-23\n",
      "50                    fxetaria.50 -0.60717991 0.60717991 6.588536e-14\n",
      "48                    fxetaria.22 -2.07710135 2.07710135 2.759895e-13\n",
      "34         alimentos_doces_p025.1  0.58387819 0.58387819 3.248708e-07\n",
      "53                     imcclass.3 -0.89753412 0.89753412 2.740428e-06\n",
      "47                    fxetaria.18 -2.89583559 2.89583559 4.233205e-05\n",
      "41        bebida_alcoolica_p028.0  0.38950776 0.38950776 1.859804e-04\n",
      "22             come_frutas_p018.0 -0.47761799 0.47761799 3.015860e-04\n",
      "54                     imcclass.4 -0.65890418 0.65890418 5.400458e-04\n",
      "24             come_frutas_p018.2 -0.32992761 0.32992761 3.468477e-03\n",
      "35         alimentos_doces_p025.2  0.38082530 0.38082530 4.231324e-03\n",
      "40     substitui_refeicoes_p026.6 -1.07311169 1.07311169 6.033180e-03\n",
      "23             come_frutas_p018.1 -0.36456874 0.36456874 8.220230e-03\n",
      "6                        avc_q068  0.37680646 0.37680646 8.666864e-03\n",
      "12                cor_raca_c009.4 -2.47808090 2.47808090 1.298072e-02\n",
      "37     substitui_refeicoes_p026.0 -0.18219643 0.18219643 1.608788e-02\n",
      "42        bebida_alcoolica_p028.3 -0.68325066 0.68325066 1.665889e-02\n",
      "9                 cor_raca_c009.1 -2.38111398 2.38111398 1.692148e-02\n",
      "10                cor_raca_c009.2 -2.26723053 2.26723053 2.394327e-02\n",
      "11                cor_raca_c009.3 -2.34942808 2.34942808 2.537196e-02\n",
      "25             come_frutas_p018.3 -0.25060971 0.25060971 3.688470e-02\n",
      "2                       sexo_c006 -0.16891343 0.16891343 3.907037e-02\n",
      "8           ja_ficou_gravida_r039 -0.22560467 0.22560467 3.997292e-02\n",
      "51                     imcclass.1 -1.06853155 1.06853155 4.145738e-02\n",
      "13                cor_raca_c009.5 -2.14729325 2.14729325 4.352035e-02\n",
      "31       refrigerante_suco_p020.3  0.33285269 0.33285269 4.437390e-02\n",
      "46                     freqativ.3 -0.55465856 0.55465856 5.833556e-02\n",
      "55                     imcclass.5 -0.36675130 0.36675130 5.873147e-02\n",
      "44 dias_semana_ativ_fisica_p035.1 -0.31054061 0.31054061 7.818678e-02\n",
      "28             come_frutas_p018.6 -0.23648796 0.23648796 7.883768e-02\n",
      "14           faixa_escolaridade.0  0.74573921 0.74573921 8.002954e-02\n",
      "16           faixa_escolaridade.2  0.71437669 0.71437669 9.155284e-02\n",
      "15           faixa_escolaridade.1  0.70880531 0.70880531 9.312364e-02\n",
      "39     substitui_refeicoes_p026.4 -0.47876065 0.47876065 9.885161e-02\n",
      "3                    fumante_p050 -0.19082360 0.19082360 1.097857e-01\n",
      "36         alimentos_doces_p025.4  0.32971594 0.32971594 1.137329e-01\n",
      "52                     imcclass.2 -0.62027282 0.62027282 1.212269e-01\n",
      "19           come_verduras_p009.3  0.13751613 0.13751613 1.343671e-01\n",
      "7        insuficiencia_renal_q124  0.25682345 0.25682345 1.468019e-01\n",
      "38     substitui_refeicoes_p026.3 -0.26949833 0.26949833 1.612292e-01\n",
      "20           come_verduras_p009.4 -0.15368352 0.15368352 2.127092e-01\n",
      "32       refrigerante_suco_p020.5  0.32244354 0.32244354 2.154189e-01\n",
      "27             come_frutas_p018.5 -0.15731996 0.15731996 2.441863e-01\n",
      "26             come_frutas_p018.4 -0.16083525 0.16083525 2.447881e-01\n",
      "17           faixa_escolaridade.3  0.45108294 0.45108294 2.937731e-01\n",
      "29       refrigerante_suco_p020.0  0.08730952 0.08730952 3.066650e-01\n",
      "21           come_verduras_p009.6 -0.14784770 0.14784770 3.293033e-01\n",
      "56                     imcclass.6 -0.21250383 0.21250383 3.395826e-01\n",
      "30       refrigerante_suco_p020.1  0.09382516 0.09382516 3.453588e-01\n",
      "45                     freqativ.1  0.29338602 0.29338602 3.499288e-01\n",
      "18           faixa_escolaridade.4  0.59562144 0.59562144 3.588267e-01\n",
      "43        bebida_alcoolica_p028.4 -0.36307568 0.36307568 4.296158e-01\n",
      "1                     (Intercept) -0.74416167 0.74416167 5.000045e-01\n"
     ]
    }
   ],
   "source": [
    "print(df_model4)"
   ]
  },
  {
   "cell_type": "markdown",
   "metadata": {},
   "source": [
    "## Conclusão:\n",
    "\n",
    "Com os dados da PNS, feito em âmbito nacional, não é possível a criação de um modelo preditivo já que não temos os dados históricos das pessoas. \n",
    "\n",
    "Das variáveis utilizadas temos um modelo que demonstra o comportamento dos diabéticos no Brasil, observando como as pessoas estão se abstendo de hábitos considerados prejudiciais:\n",
    "\n",
    "* <b>Consumo de alimentos doces (p025), 0 vezes por semana:</b> essa foi a variável com menor p_value e tendo um coeficiente positivo, indicando que as pessoas diabética tem se abtendo do consumo de doces.\n",
    "* <b>Diagnóstico de Pressão alta(q002) e Colesterol alto(q060):</b> ambas variáveis têm coeficientes positivos e um dos menores p_values, um indicador do estilo de vida das pessoas diabéticas.\n",
    "* <b>alimentos_doces_p025.1</b>\n",
    "*\n",
    "*\n",
    "*\n"
   ]
  },
  {
   "cell_type": "code",
   "execution_count": null,
   "metadata": {},
   "outputs": [],
   "source": []
  }
 ],
 "metadata": {
  "jupytext": {
   "cell_metadata_filter": "tags,name,message,warning,-all",
   "main_language": "R",
   "notebook_metadata_filter": "-all"
  },
  "kernelspec": {
   "display_name": "R",
   "language": "R",
   "name": "ir"
  },
  "language_info": {
   "name": ""
  }
 },
 "nbformat": 4,
 "nbformat_minor": 4
}
