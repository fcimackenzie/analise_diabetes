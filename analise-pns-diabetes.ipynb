{
 "cells": [
  {
   "cell_type": "raw",
   "metadata": {},
   "source": [
    "---\n",
    "title: \"Análise, PNS - DIABETES\"\n",
    "author: \"Diego Aguirre, Gabriel Rodrigues, Henrique Alves\"\n",
    "date: '2019'\n",
    "output:\n",
    "  html_document: default\n",
    "  pdf_document: default\n",
    "  word_document: default\n",
    "subtitle: Data Prep\n",
    "---"
   ]
  },
  {
   "cell_type": "code",
   "execution_count": 13,
   "metadata": {},
   "outputs": [
    {
     "name": "stderr",
     "output_type": "stream",
     "text": [
      "also installing the dependencies 'rlang', 'dplyr'\n",
      "\n",
      "Warning message:\n",
      "\"package 'dplyr' is in use and will not be installed\""
     ]
    },
    {
     "name": "stdout",
     "output_type": "stream",
     "text": [
      "package 'rlang' successfully unpacked and MD5 sums checked\n"
     ]
    },
    {
     "name": "stderr",
     "output_type": "stream",
     "text": [
      "Warning message:\n",
      "\"cannot remove prior installation of package 'rlang'\"Warning message in file.copy(savedcopy, lib, recursive = TRUE):\n",
      "\"problem copying C:\\Users\\Henrique\\Anaconda3\\Lib\\R\\library\\00LOCK\\rlang\\libs\\x64\\rlang.dll to C:\\Users\\Henrique\\Anaconda3\\Lib\\R\\library\\rlang\\libs\\x64\\rlang.dll: Permission denied\"Warning message:\n",
      "\"restored 'rlang'\""
     ]
    },
    {
     "name": "stdout",
     "output_type": "stream",
     "text": [
      "package 'tidyr' successfully unpacked and MD5 sums checked\n",
      "\n",
      "The downloaded binary packages are in\n",
      "\tC:\\Users\\Public\\Documents\\Wondershare\\CreatorTemp\\RtmponNWEJ\\downloaded_packages\n"
     ]
    }
   ],
   "source": [
    "install.packages(\"tidyr\")"
   ]
  },
  {
   "cell_type": "code",
   "execution_count": 1,
   "metadata": {
    "message": false,
    "scrolled": true,
    "tags": [
     "remove_input"
    ],
    "warning": false
   },
   "outputs": [
    {
     "name": "stderr",
     "output_type": "stream",
     "text": [
      "Warning message:\n",
      "\"package 'srvyr' was built under R version 3.6.3\"\n",
      "Attaching package: 'srvyr'\n",
      "\n",
      "The following object is masked from 'package:stats':\n",
      "\n",
      "    filter\n",
      "\n",
      "Registered S3 methods overwritten by 'ggplot2':\n",
      "  method         from \n",
      "  [.quosures     rlang\n",
      "  c.quosures     rlang\n",
      "  print.quosures rlang\n",
      "Warning message:\n",
      "\"package 'ggpubr' was built under R version 3.6.3\"Loading required package: magrittr\n",
      "\n",
      "Attaching package: 'dplyr'\n",
      "\n",
      "The following objects are masked from 'package:stats':\n",
      "\n",
      "    filter, lag\n",
      "\n",
      "The following objects are masked from 'package:base':\n",
      "\n",
      "    intersect, setdiff, setequal, union\n",
      "\n",
      "dummies-1.5.6 provided by Decision Patterns\n",
      "\n",
      "Warning message:\n",
      "\"package 'mlr' was built under R version 3.6.3\"Loading required package: ParamHelpers\n",
      "Warning message:\n",
      "\"package 'ParamHelpers' was built under R version 3.6.3\"'mlr' is in maintenance mode since July 2019. Future development\n",
      "efforts will go into its successor 'mlr3' (<https://mlr3.mlr-org.com>).\n",
      "Warning message:\n",
      "\"package 'caret' was built under R version 3.6.3\"Loading required package: lattice\n"
     ]
    },
    {
     "ename": "ERROR",
     "evalue": "Error: package or namespace load failed for 'caret' in loadNamespace(i, c(lib.loc, .libPaths()), versionCheck = vI[[i]]):\n namespace 'rlang' 0.3.4 is already loaded, but >= 0.4.0 is required\n",
     "output_type": "error",
     "traceback": [
      "Error: package or namespace load failed for 'caret' in loadNamespace(i, c(lib.loc, .libPaths()), versionCheck = vI[[i]]):\n namespace 'rlang' 0.3.4 is already loaded, but >= 0.4.0 is required\nTraceback:\n",
      "1. library(caret)",
      "2. tryCatch({\n .     attr(package, \"LibPath\") <- which.lib.loc\n .     ns <- loadNamespace(package, lib.loc)\n .     env <- attachNamespace(ns, pos = pos, deps, exclude, include.only)\n . }, error = function(e) {\n .     P <- if (!is.null(cc <- conditionCall(e))) \n .         paste(\" in\", deparse(cc)[1L])\n .     else \"\"\n .     msg <- gettextf(\"package or namespace load failed for %s%s:\\n %s\", \n .         sQuote(package), P, conditionMessage(e))\n .     if (logical.return) \n .         message(paste(\"Error:\", msg), domain = NA)\n .     else stop(msg, call. = FALSE, domain = NA)\n . })",
      "3. tryCatchList(expr, classes, parentenv, handlers)",
      "4. tryCatchOne(expr, names, parentenv, handlers[[1L]])",
      "5. value[[3L]](cond)",
      "6. stop(msg, call. = FALSE, domain = NA)"
     ]
    }
   ],
   "source": [
    "library(srvyr)\n",
    "library(ggplot2)\n",
    "library(ggpubr)\n",
    "library(dplyr)\n",
    "library(knitr)\n",
    "# library(tidyr)\n",
    "library(dummies)\n",
    "library(mlr)\n",
    "library(caret)\n",
    "library(brazilmaps)\n",
    "library(AER)"
   ]
  },
  {
   "cell_type": "markdown",
   "metadata": {},
   "source": [
    "# Introdução\n",
    "\n",
    "## R Markdown\n",
    "\n",
    "## Leitura e preparação dos dados\n",
    "\n",
    "Os dados da Pesquisa Nacional de Saúde 2013 são disponibilizados pelo IBGE no seu site. \n",
    "\n",
    "**É importante lembrar que os dados relacionados a diabetes consideram pessoas com 18 anos ou mais**; por isso, o total de pessoas não é exatamente a população brasileira, isto é, perto de 200 milhões. mas é aproximadamente 143 milhões, com os dados de 2013."
   ]
  },
  {
   "cell_type": "code",
   "execution_count": 2,
   "metadata": {
    "lines_to_next_cell": 2,
    "message": false,
    "scrolled": true,
    "tags": [
     "remove_input"
    ],
    "warning": false
   },
   "outputs": [
    {
     "name": "stderr",
     "output_type": "stream",
     "text": [
      "Loading required package: grid\n",
      "Loading required package: Matrix\n",
      "Loading required package: survival\n",
      "\n",
      "Attaching package: 'survey'\n",
      "\n",
      "The following object is masked from 'package:graphics':\n",
      "\n",
      "    dotchart\n",
      "\n"
     ]
    }
   ],
   "source": [
    "#ajustar como os resutados serão mostrados\n",
    "options( survey.lonely.psu = \"adjust\" )\n",
    "\n",
    "library(survey)\n",
    "\n",
    "#importando a biblioteca.\n",
    "pns_design <- readRDS(file.path(path.expand( \"..\" ) ,\n",
    "                                \"databases\",\n",
    "                                \"2013 long questionnaire survey design.rds\" ))"
   ]
  },
  {
   "cell_type": "markdown",
   "metadata": {},
   "source": [
    "### Variáveis interessantes para análise\n",
    "\n",
    "Variáveis Demográficas e Pessoais:\n",
    "\n",
    "* `c006` - Sexo:\n",
    "    + `1` - masculino\n",
    "    + `2` - feminino\n",
    "* `c009` - Cor ou Raça\n",
    "   + `1` - Branca\n",
    "   + `2` - Preta\n",
    "   + `3` - Amarela\n",
    "   + `4` - Parda\n",
    "   + `5` - Indígena\n",
    "   + `9` - Ignorado\n",
    "* `d009` - curso mais avançado que cursou?\n",
    "   + `01` - Classe de alfabetização – CA \n",
    "   + `02` - Alfabetização de jovens e adultos\n",
    "   + `03` - Antigo primário (elementar)\n",
    "   + `04` - Antigo ginásio (médio 1º ciclo)\n",
    "   + `05` - Regular do ensino fundamental ou do 1º grau \n",
    "   + `06` - Educação de jovens e adultos (EJA) ou supletivo do ensino fundamental\n",
    "   + `07` - Antigo científico, clássico etc. (médio 2º ciclo)\n",
    "   + `08` - Regular do ensino médio ou do 2º grau\n",
    "   + `09` - Educação de jovens e adultos (EJA) ou supletivo do ensino médio\n",
    "   + `10` - Superior - graduação\n",
    "   + `11` - Mestrado\n",
    "   + `12` - Doutorado\n",
    "   + `  ` - Não aplicável\n",
    "\n",
    "Variáveis de Estilo de vida:\n",
    "\n",
    "* `p009` - quantos dias na semana o indivíduo come vegetais\n",
    "* `p018` - quantos dias na semana o indivíduo come frutas\n",
    "* `p020` - quantos dias na semana o indivíduo consome regrigerantes e sucos industriais\n",
    "* `p025` - quantos dias na semana o indivíduo come alimentos doces(bolos, tortas, chocolates...)\n",
    "* `p026` - quantos dias na semana o indivíduo substitui almoço ou janta por sanduiches, salgados ou pizzas.\n",
    "* `p028` - quantos dias na semana o indivíduo consome bebidas alcoolicas\n",
    "* `p035`  - quantos dias por semana costuma praticar exerc físico ou esporte\n",
    "* `w00103` - peso final (medido) (kg)\n",
    "* `w00203` - altura final (medido) (cm)"
   ]
  },
  {
   "cell_type": "markdown",
   "metadata": {},
   "source": [
    "Variáveis de Doenças Crônicas\n",
    "\n",
    "* `Q002`\t- Algum médico já lhe deu o diagnóstico de hipertensão arterial (pressão alta)?\n",
    "   + `1` - Sim\n",
    "   + `2` - Apenas durante a gravidez\n",
    "   + `3` - Não\n",
    "            Não aplicavel\n",
    "* `Q029`\t- Quando foi a última vez que o(a) Sr(a) fez exame de sangue para medir a glicemia, isto é, o açúcar no sangue?\n",
    "   + `1` - Há menos de 6 meses\n",
    "   + `2` - Entre 6 meses  e menos de 1 ano\n",
    "   + `3` - Entre 1 ano e menos de 2 anos\n",
    "   + `4` - Entre 2 anos e menos de 3 anos\n",
    "   + `5` - Há 3 anos ou mais\n",
    "   + `6` - Nunca fez\n",
    "            Não aplicavel\n",
    "* `Q030`\t- Algum médico já lhe deu o diagnóstico de diabetes? (CLASSE A SER PREDITA)\n",
    "   + `1` - Sim\n",
    "   + `2` - Apenas durante a gravidez (só para mulheres)\n",
    "   + `3` - Não\n",
    "            Não aplicavel\n",
    "* `Q031`\t- Que idade o(a) Sr(a) tinha no primeiro diagnóstico de diabetes? (0 =  Menos de 1 ano) (Branco = Não aplicável)\n",
    "* `Q060`\t- Algum médico já lhe deu o diagnóstico de colesterol alto?\n",
    "   + `1` - Sim\n",
    "   + `2` - Não\n",
    "            Não aplicavel\n",
    "* `Q068`\t- Algum médico já lhe deu o diagnóstico de AVC (Acidente Vascular cerebral) ou derrame?\n",
    "   + `1` - Sim\n",
    "   + `2` - Não\n",
    "            Não aplicavel\n",
    "* `Q124`\t- Algum médico já lhe deu o diagnóstico de insuficiência renal crônica?\n",
    "   + `1` - Sim\n",
    "   + `2` - Não\n",
    "            Não aplicavel\n",
    "* `R039`\t-R39. Durante a sua vida, a sra já ficou grávida (mesmo que a gravidez não tenha chegado até o final)?\n",
    "   + `1` - Sim\n",
    "   + `2` - Não\n",
    "            Não aplicavel\n",
    "\n",
    "Variáveis de Identificação e controle\n",
    "\n",
    "* `V0001`\t-V0001. Unidade da Federação\n",
    "* `V0026`\t-V0026. Tipo de situação censitária\n",
    "\n"
   ]
  },
  {
   "cell_type": "code",
   "execution_count": 3,
   "metadata": {
    "tags": [
     "remove_input"
    ]
   },
   "outputs": [],
   "source": [
    "#adiciona a sintaxe dplyr de manipulação de dados ao pacote survey\n",
    "pns_design_srvyr <- as_survey_design(pns_design)"
   ]
  },
  {
   "cell_type": "markdown",
   "metadata": {},
   "source": [
    "## Criação de variáveis adicionais"
   ]
  },
  {
   "cell_type": "markdown",
   "metadata": {},
   "source": [
    "### IMC -- Índice de Massa Corporal\n",
    "\n",
    "Ao invés de utilizarmos diretamente o peso como uma variável de comparação, vamos utilizar o Índice de Massa Corporal (IMC), definido como: \n",
    "\n",
    "$$\\mbox{IMC} = \\frac{\\mbox{peso}}{\\mbox{altura}^2}$$"
   ]
  },
  {
   "cell_type": "code",
   "execution_count": 4,
   "metadata": {
    "tags": [
     "remove_input"
    ]
   },
   "outputs": [],
   "source": [
    "pns_design_srvyr <- pns_design_srvyr %>% mutate(imc = w00103/(w00203/100*w00203/100)) "
   ]
  },
  {
   "cell_type": "markdown",
   "metadata": {},
   "source": [
    "Vamos considerar também as faixas do IMC definidas pela Organização Mundial da Saúde, conforme mostrado na tabela a seguir:\n",
    "\n",
    "Classificação        |  Faixa de Peso    |       Sintomas\n",
    "---------------------|-------------------|----------------------------------------------------\n",
    "Muito abaixo do peso |16 a 16,9 kg/m2    | Queda de cabelo, infertilidade, ausência menstrual\n",
    "Abaixo do peso       |17 a 18,4 kg/m2    | Fadiga, stress, ansiedade\n",
    "Peso normal          |18,5 a 24,9 kg/m2  | Menor risco de doenças cardíacas e vasculares\n",
    "Acima do peso        |25 a 29,9 kg/m2    | Fadiga, má circulação, varizes\n",
    "Obesidade Grau I     |30 a 34,9 kg/m2    | Diabetes, angina, infarto, aterosclerose\n",
    "Obesidade Grau II    |35 a 40 kg/m2      | Apneia do sono, falta de ar\n",
    "Obesidade Grau III   |maior que 40 kg/m2 | Refluxo, dificuldade para se mover, escaras, diabetes, infarto, AVC"
   ]
  },
  {
   "cell_type": "code",
   "execution_count": 5,
   "metadata": {
    "tags": [
     "remove_input"
    ]
   },
   "outputs": [],
   "source": [
    "pns_design_srvyr <- pns_design_srvyr %>% \n",
    "     mutate(imcclass = case_when(imc < 17.0 ~ \"1\",\n",
    "                                 imc >= 17.0 & imc < 18.5 ~ \"2\",\n",
    "                                 imc >= 18.5 & imc < 25.0 ~ \"3\",\n",
    "                                 imc >= 25.0 & imc < 30.0 ~ \"4\",\n",
    "                                 imc >= 30.0 & imc < 35.0 ~ \"5\",\n",
    "                                 imc >= 35.0 & imc < 40.0 ~ \"6\",\n",
    "                                 imc >= 40.0 ~ \"7\"\n",
    "                                 ))\n"
   ]
  },
  {
   "cell_type": "markdown",
   "metadata": {},
   "source": [
    "### Faixa etária\n",
    "\n",
    "Uma outra classificação interessante é por faixa etária. Temos uma classificação publicada pela Revista Exame no artigo de Novembro de 2016 baseado nos dados da PNAD 2015  [Um retrato do Brasil e do brasileiro, segundo o IBGE](https://exame.abril.com.br/brasil/um-retrato-do-brasil-e-do-brasileiro-segundo-o-ibge/)\n",
    "\n",
    "No artigo mencionado são considerados os seguintes grupos etários:\n",
    "\n",
    "Faixa   |   Classe Aqui\n",
    "--------|-----------------\n",
    "0--4    |  2\n",
    "5--9    |  7\n",
    "10--14  |  12\n",
    "15--19  |  18\n",
    "20--24  |  22\n",
    "25--39  |  32\n",
    "40--59  |  50\n",
    "60+     |  60"
   ]
  },
  {
   "cell_type": "code",
   "execution_count": 4,
   "metadata": {
    "lines_to_next_cell": 0,
    "tags": [
     "remove_input"
    ]
   },
   "outputs": [],
   "source": [
    "# Criando uma variavel de faixa etaria\n",
    "pns_design_srvyr <- pns_design_srvyr %>% mutate(idade = as.numeric(c008))\n",
    "pns_design_srvyr <- pns_design_srvyr %>% \n",
    "     mutate(fxetaria = case_when(idade <   5.0 ~ \"2\",\n",
    "                                 idade >=  5.0 & idade < 10.0 ~ \"7\",\n",
    "                                 idade >= 10.0 & idade < 15.0 ~ \"12\",\n",
    "                                 idade >= 15.0 & idade < 20.0 ~ \"18\",\n",
    "                                 idade >= 20.0 & idade < 25.0 ~ \"22\",\n",
    "                                 idade >= 25.0 & idade < 40.0 ~ \"32\",\n",
    "                                 idade >= 40.0 & idade < 60.0 ~ \"50\",\n",
    "                                 idade >= 60.0 ~ \"60\"))"
   ]
  },
  {
   "cell_type": "markdown",
   "metadata": {},
   "source": [
    "### Faixa de escolaridade\n",
    "\n",
    "Mais uma classificação que queremos observar é a Faixa de escolaridade da população. Então os dados foi organizado da seguinte forma:\n",
    "\n",
    "Faixa  | Nova Classe |   Classe Anterior\n",
    "------|--|-----------------\n",
    "0  | Não possui histórico escolar  |  Não Aplicável\n",
    "1  |  Concluiu até o ensino fundamental   |  Classe de alfabetização – CA , Alfabetização de jovens e adultos, Antigo primário (elementar), Regular do ensino fundamental ou do 1º grau, Educação de jovens e adultos (EJA) ou supletivo do ensino fundamental\n",
    "2  |  Concluiu até o ensino médio  |  Antigo ginásio (médio 1º ciclo), Antigo científico, clássico etc. (médio 2º ciclo), Regular do ensino médio ou do 2º grau, Educação de jovens e adultos (EJA) ou supletivo do ensino médio\n",
    "3  |  Superior - Graduação|  Superior - graduação\n",
    "4  | Mestrado |  Mestrado\n",
    "5  | Doutorado |  Doutorado"
   ]
  },
  {
   "cell_type": "code",
   "execution_count": 7,
   "metadata": {},
   "outputs": [],
   "source": [
    "# Criando uma variavel de faixa de escolaridade\n",
    "pns_design_srvyr <- pns_design_srvyr %>% \n",
    "     mutate(fx_esc = case_when(d009 == \"  \" ~ \"0\",\n",
    "                               d009 == \"01\" | d009 == \"02\" | d009 == \"03\" | d009 == \"05\" |  d009 == \"06\"  ~ \"1\", # ensino fundamental\n",
    "                               d009 == \"04\" | d009 == \"07\" | d009 == \"08\" | d009 == \"09\" ~ \"2\", # ensino médio\n",
    "                               d009 == \"10\" ~ \"3\", # ensino superior\n",
    "                               d009 == \"11\" ~ \"4\", # mestrado\n",
    "                               d009 == \"12\" ~ \"5\" )) #doutorado"
   ]
  },
  {
   "cell_type": "markdown",
   "metadata": {},
   "source": [
    "### Frequência de Atividade Física\n",
    "\n",
    "Para permitir uma melhor análise da relação da atividade física com a diabetes, criamos uma nova variável que permita relacionar a frequência de modo direto, já que a variável original `m016` apresenta uma codificação não invertida."
   ]
  },
  {
   "cell_type": "markdown",
   "metadata": {},
   "source": [
    "Valor Original    |      Codificação Original         | Novo Valor    | Codificação Variável `freqativ`\n",
    "------------------|-----------------------------------|---------------|----------------------------------------\n",
    " 1                |  mais de uma vez por semana       |     5         |  mais de uma vez por semana\n",
    " 2                |  uma vez por semana               |     4         |  uma vez por semana\n",
    " 3                |  de 2 a 3 vezes por mês           |     3         |  de 2 a 3 vezes por mês\n",
    " 4                |  algumas vezes no ano             |     2         |  algumas vezes no ano\n",
    " 5                |  uma vez no ano                   |     1         |  uma vez no ano\n",
    " 6                |   nenhuma vez                     |     0         |  nenhuma vez"
   ]
  },
  {
   "cell_type": "code",
   "execution_count": 8,
   "metadata": {
    "tags": [
     "remove_input"
    ]
   },
   "outputs": [],
   "source": [
    "\n",
    "pns_design_srvyr <- pns_design_srvyr %>% mutate(freqativ = case_when(m016 == 6 ~ 0, # Nenhuma vez\n",
    "                                                                     m016 == 5 ~ 1, # Uma vez/ano\n",
    "                                                                     m016 == 4 ~ 2, # Algumas vezes/ano\n",
    "                                                                     m016 == 3 ~ 3, # 2-3 vezes/mes\n",
    "                                                                     m016 == 2 ~ 4, # Uma vez/semana\n",
    "                                                                     m016 == 1 ~ 5, # Mais de uma vez/semana\n",
    "                                                                     ))\n",
    "\n"
   ]
  },
  {
   "cell_type": "markdown",
   "metadata": {},
   "source": [
    "## Tabulações\n",
    "\n",
    "### Prevalência de pessoas com diabetes\n",
    "\n",
    "Para verificarmos se nossas métricas estão corretas, buscamos referência sobre a análise de diabetes pela PNS através de outras fontes:\n",
    "   \n",
    ">**No Brasil, conforme narra o artigo, dados recentes da Pesquisa Nacional em Saúde (PNS) de 2013 estimou a prevalência de Diabetes Mellitus em 6,2% dos participantes com 18 anos ou mais.**\n",
    "   \n",
    "Fiocruz:\n",
    "   https://portal.fiocruz.br/noticia/diabetes-pesquisa-avalia-os-fatores-associados-qualidade-de-vida\n",
    "\n",
    "A Fundação Oswaldo Cruz (Fiocruz) foi uma das responsáveis em parceria com o Instituto Brasileiro de Geografia e Estatística(IBGE) pela PNS. Esse valor demonstra a consistência das nossas análises como vemos no gráfico abaixo onde a taxa de diabéticos correspondeu ao do estudos publicados pela Fiocruz.\n",
    "   \n",
    "Utilizamos a variável `q030` que identifica se o participante já foi diagnosticado com Diabetes por algum médico. Os valores `não aplicável` demonstra as pessoas que nunca fizeram exames de sangue, definidas pela variável `q029` que pergunta quando foi a última vez que a pessoa fez exame de sangue. \n"
   ]
  },
  {
   "cell_type": "code",
   "execution_count": 12,
   "metadata": {
    "tags": [
     "remove_input"
    ]
   },
   "outputs": [
    {
     "data": {
      "image/png": "[encoded data removed]",
      "text/plain": [
       "plot without title"
      ]
     },
     "metadata": {},
     "output_type": "display_data"
    }
   ],
   "source": [
    "# q030 variável de diagnostico de diabetes\n",
    "tir <- survey::svytable(~ q030, pns_design_srvyr)\n",
    "tir.df <- as.data.frame(tir)\n",
    "tir.df$q030 <- c(\"Não Aplicável\", \"Diabético\", \"Diabete Gestacional\", \"Não Diabético\")\n",
    "tir.df$Freq <- tir.df$Freq / sum(tir.df$Freq) \n",
    "\n",
    "options(repr.plot.width = 5, repr.plot.height = 3.6, repr.plot.res = 100)    \n",
    "p <-ggplot(data=tir.df, aes(x=q030, y=Freq*100, fill = q030)) +\n",
    "  geom_bar(stat=\"identity\") +\n",
    "  geom_text(aes(label=round(Freq*100, digits = 1)), vjust=-0.5, color=\"black\", size=3)+ \n",
    "  labs_pubr() + theme_pubr()\n",
    "p\n"
   ]
  },
  {
   "cell_type": "markdown",
   "metadata": {},
   "source": [
    "### Porcentagem de Diagnóstico de Diabetes por sexo\n",
    "\n",
    "Realizando uma análise mais específica, obtivemos também consistência nos dados que dizem a respeita da taxa de diabéticos em relação ao sexo, como resultado obtivemos uma taxa de 5,4% para os homens e 7% para as mulheres. Para verificar a consistência dos dados utilizamos um artigo científico publicado na biblioteca virtual de saúde (SciELO).  \n",
    "   \n",
    "Para o cálculo utilizamos a variável `c006` que representa o sexo do entrevistado e a variável `q030` utilizada na análise anterior.\n",
    "   \n",
    "Artigo:\n",
    "   http://www.scielo.br/scielo.php?pid=s2237-96222015000200305&script=sci_abstract&tlng=pt\n",
    "   "
   ]
  },
  {
   "cell_type": "code",
   "execution_count": 9,
   "metadata": {
    "lines_to_next_cell": 0,
    "tags": [
     "remove_input"
    ]
   },
   "outputs": [
    {
     "data": {
      "image/png": "[encoded data removed]",
      "text/plain": [
       "plot without title"
      ]
     },
     "metadata": {},
     "output_type": "display_data"
    }
   ],
   "source": [
    "\n",
    "# c006 variavel do sexo do individuo\n",
    "\n",
    "diab_sexo <- survey::svytable(~ q030 + c006, pns_design_srvyr)\n",
    "diab_sexo.df <- as.data.frame(diab_sexo)\n",
    "\n",
    "\n",
    "diab_sexo.df[diab_sexo.df$c006 == \"masculino\",c(\"Freq\")] <- diab_sexo.df[diab_sexo.df$c006 == \"masculino\",c(\"Freq\")]/sum(diab_sexo.df[diab_sexo.df$c006 == \"masculino\",c(\"Freq\")] )\n",
    "                                                                                                         diab_sexo.df[diab_sexo.df$c006 == \"feminino\",c(\"Freq\")] <- diab_sexo.df[diab_sexo.df$c006 == \"feminino\",c(\"Freq\")]/sum(diab_sexo.df[diab_sexo.df$c006 == \"feminino\",c(\"Freq\")] )                                 \n",
    "                                                                                       \n",
    "diab_sexo.df$q030 <-  c(\"Não Aplicável\", \"Diabético\", \"Diabete Gestacional\", \"Não Diabético\", \"Não Aplicável\", \"Diabético\", \"Diabete Gestacional\", \"Não Diabético\")\n",
    "\n",
    "options(repr.plot.width = 5, repr.plot.height = 4)                                                                                              \n",
    "p1 <-ggplot(data=diab_sexo.df, aes(x=q030, y=Freq*100 ,fill=c006)) +\n",
    "  geom_bar(position=\"dodge\", stat=\"identity\") +\n",
    "  geom_text(aes(label=round(Freq*100, digits = 1)), position=position_dodge(width=0.9), vjust=-0.5, color=\"black\", size=2.5)+\n",
    "  theme_minimal()+\n",
    "  ggtitle(\"Porcentagem diabetes em relação ao sexo\") +\n",
    "  xlab(\"Categoria\") + ylab(\"Porcentagem %\") \n",
    "\n",
    "\n",
    "p1\n"
   ]
  },
  {
   "cell_type": "markdown",
   "metadata": {},
   "source": [
    "### Procentagem de diabéticos por Faixa Etária\n",
    "\n",
    "Analisando a população brasileira por faixa etária e considerando apenas pessoas com 60 anos ou mais, obtivemos uma taxa de 18,1% do total dessa população-alvo com o diagnóstico de diabetes. Utilizando como referência o atlas do IDF de 2017 que utiliza a população acima dos 65 anos de idade que contabiliza um total de 19% de diabéticos, chegamos a valores muito próximos.\n",
    "\n",
    "fonte:\n",
    "   https://www.diabetes.org.br/profissionais/images/2018/poster-atlas-idf-2017.pdf"
   ]
  },
  {
   "cell_type": "code",
   "execution_count": 15,
   "metadata": {
    "lines_to_next_cell": 0,
    "tags": [
     "remove_input"
    ]
   },
   "outputs": [
    {
     "data": {
      "image/png": "[encoded data removed]",
      "text/plain": [
       "plot without title"
      ]
     },
     "metadata": {},
     "output_type": "display_data"
    }
   ],
   "source": [
    "\n",
    "fxetaria_diab.df = as.data.frame(survey::svytable(~fxetaria + q030, pns_design_srvyr))\n",
    "\n",
    "grp <- group_by(fxetaria_diab.df, fxetaria) %>% summarise(freq = sum(Freq))\n",
    "\n",
    "fxetaria_diab.df <- fxetaria_diab.df[fxetaria_diab.df$q030 == \"1\",]\n",
    "\n",
    "fxetaria_diab.df$Freq <- fxetaria_diab.df$Freq/grp$freq\n",
    "\n",
    "fxetaria_diab.df <- fxetaria_diab.df[-2]\n",
    "\n",
    "options(repr.plot.width = 5, repr.plot.height = 3)\n",
    "p <- ggplot(data=fxetaria_diab.df, aes(x=fxetaria, y=Freq * 100, fill = fxetaria)) +     \n",
    "   geom_bar( stat = \"identity\",  position = \"dodge\")+  geom_text(aes(label=round(Freq*100, digits = 1)), \n",
    "   position=position_dodge(width=0.9), vjust=-0.5, color=\"black\", size=2.5)\n",
    "\n",
    "p\n"
   ]
  },
  {
   "cell_type": "markdown",
   "metadata": {},
   "source": [
    "### Taxa de diabéticos por frequencia de atividade física\n",
    "\n",
    "   Um dos fatores preditores que podem indicar se uma pessoa é propensa ou não a desenvolver a diabetes é se ela pratica ou não atividade física. Mais de 80% dos diabéticos não praticam atividades físicas, mas vemos que há um aumento dos diabéticos que mantém uma frequencia de 1 vez por semana ou mais. \n",
    "   Como demonstrado no artigo abaixo, realizar atividades físicas é essencial para ajudar no bom controle da doença e garantir uma boa qualidade de vida. \n",
    "   \n",
    "Artigo:\n",
    "   https://www.diabetes.org.br/publico/meu-esporte-minha-vida/965-atividade-fisica-e-diabetes"
   ]
  },
  {
   "cell_type": "code",
   "execution_count": 17,
   "metadata": {
    "lines_to_next_cell": 2,
    "tags": [
     "remove_input"
    ]
   },
   "outputs": [
    {
     "data": {
      "image/png": "[encoded data removed]",
      "text/plain": [
       "plot without title"
      ]
     },
     "metadata": {},
     "output_type": "display_data"
    }
   ],
   "source": [
    "freq_diab <- survey::svytable(~ q030 + freqativ + fxetaria , pns_design_srvyr)\n",
    "freq_diab.df <- as.data.frame(freq_diab)\n",
    "\n",
    "freq_diab.df <- freq_diab.df[freq_diab.df$q030 == '1',]\n",
    "\n",
    "freq_diab.df$Freq <- freq_diab.df$Freq/sum(freq_diab.df$Freq)    \n",
    "\n",
    "options(repr.plot.width = 5, repr.plot.height = 3)\n",
    "g <- ggplot(data = freq_diab.df) + \n",
    "   geom_bar(aes(x = freqativ, y = Freq, fill=fxetaria ), stat = \"identity\") +\n",
    "   labs(x = \"Freq Ativ Fisica\",y = \"Pessoas %\", title = \"Frequencia de Ativ Fisica x Diabeticos\") \n",
    "g\n"
   ]
  },
  {
   "cell_type": "markdown",
   "metadata": {},
   "source": [
    "## Taxa de diabéticos por região e por situação censitária\n"
   ]
  },
  {
   "cell_type": "code",
   "execution_count": 18,
   "metadata": {
    "tags": [
     "remove_input"
    ]
   },
   "outputs": [
    {
     "data": {
      "text/html": [
       "<table>\n",
       "<thead><tr><th scope=col>Regiao</th><th scope=col>Freq_Urbano</th><th scope=col>Freq_Rural</th></tr></thead>\n",
       "<tbody>\n",
       "\t<tr><td>Norte       </td><td> 8519136    </td><td>2366831.9   </td></tr>\n",
       "\t<tr><td>Nordeste    </td><td>29696279    </td><td>9251295.4   </td></tr>\n",
       "\t<tr><td>Sudeste     </td><td>59677481    </td><td>4397201.2   </td></tr>\n",
       "\t<tr><td>Sul         </td><td>18410830    </td><td>3213833.5   </td></tr>\n",
       "\t<tr><td>Centro-Oeste</td><td> 9828695    </td><td> 946873.7   </td></tr>\n",
       "</tbody>\n",
       "</table>\n"
      ],
      "text/latex": [
       "\\begin{tabular}{r|lll}\n",
       " Regiao & Freq\\_Urbano & Freq\\_Rural\\\\\n",
       "\\hline\n",
       "\t Norte        &  8519136     & 2366831.9   \\\\\n",
       "\t Nordeste     & 29696279     & 9251295.4   \\\\\n",
       "\t Sudeste      & 59677481     & 4397201.2   \\\\\n",
       "\t Sul          & 18410830     & 3213833.5   \\\\\n",
       "\t Centro-Oeste &  9828695     &  946873.7   \\\\\n",
       "\\end{tabular}\n"
      ],
      "text/markdown": [
       "\n",
       "| Regiao | Freq_Urbano | Freq_Rural |\n",
       "|---|---|---|\n",
       "| Norte        |  8519136     | 2366831.9    |\n",
       "| Nordeste     | 29696279     | 9251295.4    |\n",
       "| Sudeste      | 59677481     | 4397201.2    |\n",
       "| Sul          | 18410830     | 3213833.5    |\n",
       "| Centro-Oeste |  9828695     |  946873.7    |\n",
       "\n"
      ],
      "text/plain": [
       "  Regiao       Freq_Urbano Freq_Rural\n",
       "1 Norte         8519136    2366831.9 \n",
       "2 Nordeste     29696279    9251295.4 \n",
       "3 Sudeste      59677481    4397201.2 \n",
       "4 Sul          18410830    3213833.5 \n",
       "5 Centro-Oeste  9828695     946873.7 "
      ]
     },
     "metadata": {},
     "output_type": "display_data"
    }
   ],
   "source": [
    "\n",
    "dist_populacao <- as.data.frame(survey::svytable(~region + v0026, pns_design_srvyr ))\n",
    "\n",
    "pop_aux1 <- dist_populacao[dist_populacao$v0026 == 1,]\n",
    "colnames(pop_aux1) <- c(\"Regiao\", \"Urbano\", \"Freq_Urbano\")\n",
    "\n",
    "pop_aux2 <- dist_populacao[dist_populacao$v0026 == 2,]\n",
    "colnames(pop_aux2) <- c(\"Regiao\", \"Rural\", \"Freq_Rural\")\n",
    "\n",
    "dist_populacao <- cbind(pop_aux1,pop_aux2[, c(\"Rural\", \"Freq_Rural\")])\n",
    "\n",
    "dist_populacao$total <- dist_populacao$Freq_Urbano + dist_populacao$Freq_Rural\n",
    "\n",
    "dist_populacao[,c(\"Regiao\", \"Freq_Urbano\", \"Freq_Rural\")]\n"
   ]
  },
  {
   "cell_type": "markdown",
   "metadata": {},
   "source": [
    "   Dos aproximadamente 146 milhões de brasileiros acima de 18 anos, cerca de 64 milhões(44%) estão no sudeste, isso implica que a quantidade de diabéticos nessa região vai muito maior do que as outras regiões como vemos no gráfico abaixo. Cerca de 49,7% dos diabéticos residem no sudeste brasileiro.\n"
   ]
  },
  {
   "cell_type": "code",
   "execution_count": 19,
   "metadata": {
    "tags": [
     "remove_input"
    ]
   },
   "outputs": [
    {
     "data": {
      "image/png": "[encoded data removed]",
      "text/plain": [
       "plot without title"
      ]
     },
     "metadata": {},
     "output_type": "display_data"
    }
   ],
   "source": [
    "#* `Q030`\t- Algum médico já lhe deu o diagnóstico de diabetes?\n",
    "#   + `1` - Sim\n",
    "#region\n",
    "diab_estados <- survey::svytable(~ q030 + region + v0026, pns_design_srvyr )\n",
    "diab_estados.df <- as.data.frame(diab_estados)\n",
    "\n",
    "diab_estados.df <- diab_estados.df[diab_estados.df$q030 == '1',]\n",
    "#diab_estados.df$Freq <- diab_estados.df$Freq / sum(diab_estados.df$Freq)\n",
    "\n",
    "diab_estados.df$v0026 = as.character(diab_estados.df$v0026)\n",
    "diab_estados.df$v0026[diab_estados.df$v0026 == 1]  = \"1 - Urbano\"\n",
    "diab_estados.df$v0026[diab_estados.df$v0026 == 2]  = \"2 - Rural\"\n",
    "\n",
    "options(repr.plot.width = 5, repr.plot.height = 4)\n",
    "p <-ggplot(data=diab_estados.df, aes(x=region, y=Freq/1000, fill=v0026)) +\n",
    "  geom_bar(stat=\"identity\") +\n",
    "  geom_text(aes(label=round(Freq/1000, digits = 1)), vjust=1, color=\"black\", size=3)\n",
    "p\n"
   ]
  },
  {
   "cell_type": "markdown",
   "metadata": {},
   "source": [
    "## Distribuição das taxas de diabéticos por estado\n",
    "\n",
    "ARTIGO\n",
    "\n",
    "   Como demonstrado no artigo acima as maiores taxas de diabéticos do Brasil estão em Mato Grosso do Sul, São Paulo e Rio Grande do Sul respectivamente. Esses dados correspondem com as taxas demonstrados no gráfico abaixo."
   ]
  },
  {
   "cell_type": "code",
   "execution_count": 6,
   "metadata": {
    "lines_to_next_cell": 0,
    "tags": [
     "remove_input"
    ]
   },
   "outputs": [
    {
     "data": {
      "image/png": "[encoded data removed]",
      "text/plain": [
       "plot without title"
      ]
     },
     "metadata": {},
     "output_type": "display_data"
    }
   ],
   "source": [
    "#* `Q030`\t- Algum médico já lhe deu o diagnóstico de diabetes?\n",
    "#   + `1` - Sim\n",
    "#   + V0001 - Unidade da Federação\n",
    "# install.packages(\"brazilmaps\")\n",
    "library(brazilmaps)\n",
    "mapa <- get_brmap(\"State\")\n",
    "\n",
    "diab_estados <- as.data.frame(survey::svytable(~ v0001 + q030 , pns_design_srvyr))\n",
    "qtd_estados = aggregate(diab_estados$Freq, by=list(Category=diab_estados$v0001), FUN=sum)\n",
    "\n",
    "diab_estados <- diab_estados[diab_estados$q030 == 1,]\n",
    "\n",
    "diab_estados$Porcent <- diab_estados$Freq / qtd_estados$x\n",
    "\n",
    "\n",
    "teste <- toupper(c(\"Rondônia\",\"Acre\",\"Amazonas\",\"Roraima\",\"Pará\",\"Amapá\",\"Tocantins\",\"Maranhão\",\"Piauí\",\"Ceará\",\n",
    "          \"Rio Grande do Norte\",\"Paraíba\",\"Pernambuco\",\"Alagoas\",\"Sergipe\",\"Bahia\",\"Minas Gerais\",\"Espírito Santo\",\"Rio de Janeiro\",\"São Paulo\",\"Paraná\",\"Santa Catarina\",\"Rio Grande do Sul\",\"Mato Grosso do Sul\",\n",
    "          \"Mato Grosso\",\"Goiás\",\"Distrito Federal\"))\n",
    "\n",
    "porc_est <- as.data.frame(teste)\n",
    "porc_est$Porc_Diabeticos <- diab_estados$Porcent * 100\n",
    "##\n",
    "##uf_map <- get_brmap(\"State\") %>% \n",
    "#  inner_join(porc_est, c(\"nome\" = \"teste\"))\n",
    "\n",
    "#uf_map %>% \n",
    "#  ggplot(aes(fill = Porcent)) +\n",
    "#  geom_sf() +\n",
    "#  scale_fill_continuous(low = \"lightblue\", high = \"darkblue\") \n",
    "\n",
    "options(repr.plot.width = 5, repr.plot.height = 5)\n",
    "plot_brmap(get_brmap(\"State\"), data_to_join = porc_est, join_by = c(\"nome\" = \"teste\"),\n",
    "var = \"Porc_Diabeticos\") + scale_fill_continuous(low = \"lightblue\", high = \"darkblue\") \n"
   ]
  },
  {
   "cell_type": "markdown",
   "metadata": {},
   "source": [
    "## Distribuição da idade de diagnóstico de Diabéticos\n",
    "\n",
    "Temos o gráfico que demonstra a idade que as pessoas foram diagnosticadas com a doença. Acima dos 30 anos é que os diagnósticos são mais realizados e tendo seu pico próximo aos 50 anos. Como idade é um dos fatores preditivos, faz sentido que com o passar dos anos a quantidade de diagnósticos aumente."
   ]
  },
  {
   "cell_type": "code",
   "execution_count": 24,
   "metadata": {},
   "outputs": [],
   "source": [
    "pns_design_srvyr$variables$q031 <- ifelse(pns_design_srvyr$variables$q031 == '00', pns_design_srvyr$variables$c008, pns_design_srvyr$variables$q031)"
   ]
  },
  {
   "cell_type": "code",
   "execution_count": 25,
   "metadata": {
    "lines_to_next_cell": 2,
    "tags": [
     "remove_input"
    ]
   },
   "outputs": [
    {
     "data": {
      "image/png": "[encoded data removed]",
      "text/plain": [
       "Plot with title \"Histogram of as.numeric(q031)\""
      ]
     },
     "metadata": {},
     "output_type": "display_data"
    }
   ],
   "source": [
    "survey::svyhist(~as.numeric(q031), subset(pns_design_srvyr, q030==1))\n",
    "options(repr.plot.width = 5, repr.plot.height = 5, repr.plot.res = 100)\n",
    "dens <- survey::svysmooth(~as.numeric(q031), subset(pns_design_srvyr, (q030==1) & (q030!=\" \")))"
   ]
  },
  {
   "cell_type": "markdown",
   "metadata": {},
   "source": [
    "## Distribuição da escolaridade no diagnóstico de Diabetes"
   ]
  },
  {
   "cell_type": "markdown",
   "metadata": {
    "tags": [
     "remove_input"
    ]
   },
   "source": [
    "Após realizadas as análises os maiores indices de diabéticos encontram-se em pessoas que não possuem escolaridade(Classe 0 - 6.6%) e nos que fizeram somente até o ensino fundamental(Classe 1 - 8.3%). As menores prevalências se encotram nas pessoas que possuem ensino superior(Classe 3 - 4%) e doutorado(Classe 5 - 4.2%).\n",
    "\n",
    "\n"
   ]
  },
  {
   "cell_type": "code",
   "execution_count": 26,
   "metadata": {
    "lines_to_next_cell": 0,
    "tags": [
     "remove_input"
    ]
   },
   "outputs": [
    {
     "data": {
      "image/png": "[encoded data removed]",
      "text/plain": [
       "plot without title"
      ]
     },
     "metadata": {},
     "output_type": "display_data"
    }
   ],
   "source": [
    "\n",
    "diab_esc <- survey::svytable(~ q030 + fx_esc, pns_design_srvyr)\n",
    "diab_esc <- as.data.frame(diab_esc)\n",
    "diab_esc$porc = 0\n",
    "\n",
    "pop_esc = group_by(diab_esc, fx_esc) %>% summarise(freq = sum(Freq))\n",
    "\n",
    "diab_esc = diab_esc[diab_esc$q030 == \"1\", ]\n",
    "\n",
    "for (i in pop_esc$fx_esc){\n",
    "   diab_esc[diab_esc$q030 == \"1\" & diab_esc$fx_esc == i, c(\"porc\")] = diab_esc[diab_esc$q030 == \"1\" & diab_esc$fx_esc == i, ]$Freq / pop_esc[pop_esc$fx_esc == i,]$freq \n",
    "}\n",
    "\n",
    "options(repr.plot.width = 5, repr.plot.height = 3, repr.plot.res = 100)\n",
    "p <-ggplot(data=diab_esc, aes(x=fx_esc, y=porc )) +\n",
    "  geom_bar(stat=\"identity\") +\n",
    "  geom_text(aes(label=round(porc*100, digits = 1)), vjust=-0.5, color=\"black\", size=3)+ \n",
    "  labs_pubr() + theme_pubr()\n",
    "p\n"
   ]
  },
  {
   "cell_type": "markdown",
   "metadata": {},
   "source": [
    "## Data Prep\n",
    "\n",
    "Limpando pessoas que nunca fizeram exame de pressão alta, colesterol alto e diabetes:"
   ]
  },
  {
   "cell_type": "code",
   "execution_count": 9,
   "metadata": {},
   "outputs": [],
   "source": [
    "#Separando a base de dados\n",
    "\n",
    "df = pns_design_srvyr[ ,c(\"c006\", \"c009\", \"fx_esc\", \"w00103\", \"w00203\", \"p009\", \"p018\", \"p020\", \"p025\", \"p026\", \"p028\", \"p035\", \"p050\", \"q002\", \"q029\", \"q060\", \"q068\", \"q124\",\"r039\", \"freqativ\", \"fxetaria\", \"idade\", \"imc\", \"q030\")]\n",
    "\n",
    "\n",
    "\n",
    "names(df$variables) = c(\"sexo_c006\",\"cor_raca_c009\", \"faixa_escolaridade\", \"peso_w00103\", \"altura_w00203\", \"come_verduras_p009\", \"come_frutas_p018\", \"refrigerante_suco_p020\", \"alimentos_doces_p025\", \"substitui_refeicoes_p026\", \"bebida_alcoolica_p028\", \"dias_semana_ativ_fisica_p035\", \"fumante_p050\", \"pressao_alta_q002\", \"exames_glicemia_q029\", \"colesterol_alto_q060\", \"avc_q068\", \"insuficiencia_renal_q124\", \"ja_ficou_gravida_r039\", \"freqativ\", \"fxetaria\", \"idade\", \"imc\", \"diagnostico_diabetes_q030\")\n",
    "\n",
    "#sexo_c006\n",
    "#fumante_p050\n",
    "#pressao_alta_q002\n",
    "#colesterol_alto_q060\n",
    "#avc_q068\n",
    "#insuficiencia_renal_q124"
   ]
  },
  {
   "cell_type": "code",
   "execution_count": 10,
   "metadata": {
    "tags": [
     "remove_input"
    ]
   },
   "outputs": [],
   "source": [
    "\n",
    "df <- subset(df, diagnostico_diabetes_q030 != \" \" & diagnostico_diabetes_q030 != 2 & pressao_alta_q002 != \" \" & colesterol_alto_q060 != \" \")\n"
   ]
  },
  {
   "cell_type": "markdown",
   "metadata": {
    "lines_to_next_cell": 0
   },
   "source": [
    "### Preenchendo NAs\n",
    "\n",
    "* Variáveis d009, p028, p035 e r039 que eram NAs serão preenchidas com 0, já que demonstram uma ausência de seus valores."
   ]
  },
  {
   "cell_type": "code",
   "execution_count": 11,
   "metadata": {
    "lines_to_next_cell": 0,
    "tags": [
     "remove_input"
    ]
   },
   "outputs": [],
   "source": [
    "\n",
    "# pressao alta = q002\n",
    "\n",
    "df$variables$faixa_escolaridade = as.numeric(df$variables$faixa_escolaridade)\n",
    "df$variables[is.na(df$variables$faixa_escolaridade), c(\"faixa_escolaridade\")] = 0\n",
    "df$variables[is.na(df$variables$bebida_alcoolica_p028), c(\"bebida_alcoolica_p028\")] = 0\n",
    "df$variables[is.na(df$variables$dias_semana_ativ_fisica_p035), c(\"dias_semana_ativ_fisica_p035\")] = 0\n",
    "df$variables[df$variables$ja_ficou_gravida_r039 == \" \", c(\"ja_ficou_gravida_r039\")] = 0\n",
    "df$variables[df$variables$pressao_alta_q002 == \" \", c(\"pressao_alta_q002\")] = 0\n",
    "df$variables[df$variables$colesterol_alto_q060 == \" \", c(\"colesterol_alto_q060\")] = 0\n",
    "df$variables[df$variables$diagnostico_diabetes_q030 == \" \", c(\"diagnostico_diabetes_q030\")] = 0\n",
    "df$variables[df$variables$diagnostico_diabetes_q030 == \"2\", c(\"diagnostico_diabetes_q030\")] = 0\n",
    "df$variables[df$variables$diagnostico_diabetes_q030 == \"3\", c(\"diagnostico_diabetes_q030\")] = 0\n",
    "\n"
   ]
  },
  {
   "cell_type": "markdown",
   "metadata": {},
   "source": [
    "* Variável c006(peso), será preenchida com a média das pessoas separadas pelo sexo(c006) e pela faixa etária(fxetaria)."
   ]
  },
  {
   "cell_type": "code",
   "execution_count": 12,
   "metadata": {
    "tags": [
     "remove_input"
    ]
   },
   "outputs": [],
   "source": [
    "\n",
    "df$variables$sexo_c006 <- as.character(df$variables$sexo_c006) \n",
    "\n",
    "masc_18 = as.numeric(survey::svymean(~peso_w00103 ,subset(x = df, subset = fxetaria == 18 & sexo_c006 == \"masculino\"), na.rm=TRUE))\n",
    "masc_22 = as.numeric(survey::svymean(~peso_w00103 ,subset(x = df, subset = fxetaria == 22 & sexo_c006 == \"masculino\"), na.rm=TRUE))\n",
    "masc_32 = as.numeric(survey::svymean(~peso_w00103 ,subset(x = df, subset = fxetaria == 32 & sexo_c006 == \"masculino\"), na.rm=TRUE))\n",
    "masc_50 = as.numeric(survey::svymean(~peso_w00103 ,subset(x = df, subset = fxetaria == 50 & sexo_c006 == \"masculino\"), na.rm=TRUE))\n",
    "masc_60 = as.numeric(survey::svymean(~peso_w00103 ,subset(x = df, subset = fxetaria == 60 & sexo_c006 == \"masculino\"), na.rm=TRUE))\n",
    "\n",
    "\n",
    "femi_18 = as.numeric(survey::svymean(~peso_w00103 ,subset(x = df, subset = fxetaria == 18 & sexo_c006 == \"feminino\"), na.rm=TRUE))\n",
    "femi_22 = as.numeric(survey::svymean(~peso_w00103 ,subset(x = df, subset = fxetaria == 22 & sexo_c006 == \"feminino\"), na.rm=TRUE))\n",
    "femi_32 = as.numeric(survey::svymean(~peso_w00103 ,subset(x = df, subset = fxetaria == 32 & sexo_c006 == \"feminino\"), na.rm=TRUE))\n",
    "femi_50 = as.numeric(survey::svymean(~peso_w00103 ,subset(x = df, subset = fxetaria == 50 & sexo_c006 == \"feminino\"), na.rm=TRUE))\n",
    "femi_60 = as.numeric(survey::svymean(~peso_w00103 ,subset(x = df, subset = fxetaria == 60 & sexo_c006 == \"feminino\"), na.rm=TRUE))\n",
    "\n",
    "\n",
    "df$variables[df$variables$fxetaria == 18 & df$variables$sexo_c006 == \"masculino\" & is.na(df$variables$peso_w00103), c(\"peso_w00103\")] = round(masc_18, digits = 1)\n",
    "df$variables[df$variables$fxetaria == 22 & df$variables$sexo_c006 == \"masculino\" & is.na(df$variables$peso_w00103), c(\"peso_w00103\")] = round(masc_22, digits = 1)\n",
    "df$variables[df$variables$fxetaria == 32 & df$variables$sexo_c006 == \"masculino\" & is.na(df$variables$peso_w00103), c(\"peso_w00103\")] = round(masc_32, digits = 1)\n",
    "df$variables[df$variables$fxetaria == 50 & df$variables$sexo_c006 == \"masculino\" & is.na(df$variables$peso_w00103), c(\"peso_w00103\")] = round(masc_50, digits = 1)\n",
    "df$variables[df$variables$fxetaria == 60 & df$variables$sexo_c006 == \"masculino\" & is.na(df$variables$peso_w00103), c(\"peso_w00103\")] = round(masc_60, digits = 1)\n",
    "\n",
    "\n",
    "df$variables[df$variables$fxetaria == 18 & df$variables$sexo_c006 == \"feminino\" & is.na(df$variables$peso_w00103), c(\"peso_w00103\")] = round(femi_18, digits = 1)\n",
    "df$variables[df$variables$fxetaria == 22 & df$variables$sexo_c006 == \"feminino\" & is.na(df$variables$peso_w00103), c(\"peso_w00103\")] = round(femi_22, digits = 1)\n",
    "df$variables[df$variables$fxetaria == 32 & df$variables$sexo_c006 == \"feminino\" & is.na(df$variables$peso_w00103), c(\"peso_w00103\")] = round(femi_32, digits = 1)\n",
    "df$variables[df$variables$fxetaria == 50 & df$variables$sexo_c006 == \"feminino\" & is.na(df$variables$peso_w00103), c(\"peso_w00103\")] = round(femi_50, digits = 1)\n",
    "df$variables[df$variables$fxetaria == 60 & df$variables$sexo_c006 == \"feminino\" & is.na(df$variables$peso_w00103), c(\"peso_w00103\")] = round(femi_60, digits = 1)\n"
   ]
  },
  {
   "cell_type": "markdown",
   "metadata": {},
   "source": [
    "* Variável w00203(altura), será preenchida com a média das pessoas separadas pelo sexo(c006) e pela faixa etária(fxetaria)."
   ]
  },
  {
   "cell_type": "code",
   "execution_count": 13,
   "metadata": {
    "tags": [
     "remove_input"
    ]
   },
   "outputs": [],
   "source": [
    "\n",
    "\n",
    "masc_18 = as.numeric(survey::svymean(~altura_w00203 ,subset(x = df, subset = fxetaria == 18 & sexo_c006 == \"masculino\"), na.rm=TRUE))\n",
    "masc_22 = as.numeric(survey::svymean(~altura_w00203 ,subset(x = df, subset = fxetaria == 22 & sexo_c006 == \"masculino\"), na.rm=TRUE))\n",
    "masc_32 = as.numeric(survey::svymean(~altura_w00203 ,subset(x = df, subset = fxetaria == 32 & sexo_c006 == \"masculino\"), na.rm=TRUE))\n",
    "masc_50 = as.numeric(survey::svymean(~altura_w00203 ,subset(x = df, subset = fxetaria == 50 & sexo_c006 == \"masculino\"), na.rm=TRUE))\n",
    "masc_60 = as.numeric(survey::svymean(~altura_w00203 ,subset(x = df, subset = fxetaria == 60 & sexo_c006 == \"masculino\"), na.rm=TRUE))\n",
    "\n",
    "\n",
    "femi_18 = as.numeric(survey::svymean(~altura_w00203 ,subset(x = df, subset = fxetaria == 18 & sexo_c006 == \"feminino\"), na.rm=TRUE))\n",
    "femi_22 = as.numeric(survey::svymean(~altura_w00203 ,subset(x = df, subset = fxetaria == 22 & sexo_c006 == \"feminino\"), na.rm=TRUE))\n",
    "femi_32 = as.numeric(survey::svymean(~altura_w00203 ,subset(x = df, subset = fxetaria == 32 & sexo_c006 == \"feminino\"), na.rm=TRUE))\n",
    "femi_50 = as.numeric(survey::svymean(~altura_w00203 ,subset(x = df, subset = fxetaria == 50 & sexo_c006 == \"feminino\"), na.rm=TRUE))\n",
    "femi_60 = as.numeric(survey::svymean(~altura_w00203 ,subset(x = df, subset = fxetaria == 60 & sexo_c006 == \"feminino\"), na.rm=TRUE))\n",
    "\n",
    "\n",
    "df$variables[df$variables$fxetaria == 18 & df$variables$sexo_c006 == \"masculino\" & is.na(df$variables$altura_w00203), c(\"peso_w00103\")] = round(masc_18, digits = 1)\n",
    "df$variables[df$variables$fxetaria == 22 & df$variables$sexo_c006 == \"masculino\" & is.na(df$variables$altura_w00203), c(\"peso_w00103\")] = round(masc_22, digits = 1)\n",
    "df$variables[df$variables$fxetaria == 32 & df$variables$sexo_c006 == \"masculino\" & is.na(df$variables$altura_w00203), c(\"peso_w00103\")] = round(masc_32, digits = 1)\n",
    "df$variables[df$variables$fxetaria == 50 & df$variables$sexo_c006 == \"masculino\" & is.na(df$variables$altura_w00203), c(\"peso_w00103\")] = round(masc_50, digits = 1)\n",
    "df$variables[df$variables$fxetaria == 60 & df$variables$sexo_c006 == \"masculino\" & is.na(df$variables$altura_w00203), c(\"peso_w00103\")] = round(masc_60, digits = 1)\n",
    "\n",
    "\n",
    "df$variables[df$variables$fxetaria == 18 & df$variables$sexo_c006 == \"feminino\" & is.na(df$variables$altura_w00203), c(\"altura_w00203\")] = round(femi_18, digits = 1)\n",
    "df$variables[df$variables$fxetaria == 22 & df$variables$sexo_c006 == \"feminino\" & is.na(df$variables$altura_w00203), c(\"altura_w00203\")] = round(femi_22, digits = 1)\n",
    "df$variables[df$variables$fxetaria == 32 & df$variables$sexo_c006 == \"feminino\" & is.na(df$variables$altura_w00203), c(\"altura_w00203\")] = round(femi_32, digits = 1)\n",
    "df$variables[df$variables$fxetaria == 50 & df$variables$sexo_c006 == \"feminino\" & is.na(df$variables$altura_w00203), c(\"altura_w00203\")] = round(femi_50, digits = 1)\n",
    "df$variables[df$variables$fxetaria == 60 & df$variables$sexo_c006 == \"feminino\" & is.na(df$variables$altura_w00203), c(\"altura_w00203\")] = round(femi_60, digits = 1)\n",
    "\n",
    "df <- df %>% mutate(imc = peso_w00103/(altura_w00203/100* altura_w00203/100)) \n",
    "df$variables <- df$variables %>% mutate(imcclass = case_when(imc < 17.0 ~ \"1\",\n",
    "                                 imc >= 17.0 & imc < 18.5 ~ \"2\",\n",
    "                                 imc >= 18.5 & imc < 25.0 ~ \"3\",\n",
    "                                 imc >= 25.0 & imc < 30.0 ~ \"4\",\n",
    "                                 imc >= 30.0 & imc < 35.0 ~ \"5\",\n",
    "                                 imc >= 35.0 & imc < 40.0 ~ \"6\",\n",
    "                                 imc >= 40.0 ~ \"7\"\n",
    "                                 ))\n",
    "\n",
    "df$variables <- df$variables[,c(1:23, 25, 24)]"
   ]
  },
  {
   "cell_type": "markdown",
   "metadata": {},
   "source": [
    "### Inversão de valores de variáveis\n",
    "\n",
    "Para permitir e simplificar a análise a partir de um modelo alteraremos os valor de variáveis.\n",
    "\n",
    "`c006`, sexo:"
   ]
  },
  {
   "cell_type": "markdown",
   "metadata": {},
   "source": [
    "Valor Original    |      Codificação Original         | Novo Valor    | Codificação Variável `pressao_alta_q002`\n",
    "------------------|-----------------------------------|---------------|----------------------------------------\n",
    " masculino        |  1                                |     0         |  masculino\n",
    " femnino          |  2                                |     1         |  feminino\n",
    " "
   ]
  },
  {
   "cell_type": "code",
   "execution_count": 14,
   "metadata": {
    "tags": [
     "remove_input"
    ]
   },
   "outputs": [],
   "source": [
    "\n",
    "df$variables[df$variables$sexo_c006 == \"masculino\", c(\"sexo_c006\")] = 0\n",
    "df$variables[df$variables$sexo_c006 == \"feminino\", c(\"sexo_c006\")] = 1\n"
   ]
  },
  {
   "cell_type": "markdown",
   "metadata": {},
   "source": [
    "`q002`, pressão alta:"
   ]
  },
  {
   "cell_type": "markdown",
   "metadata": {},
   "source": [
    "Valor Original    |      Codificação Original         | Novo Valor    | Codificação Variável `pressao_alta_q002`\n",
    "------------------|-----------------------------------|---------------|----------------------------------------\n",
    " 1                |  sim                              |     1         |  sim\n",
    " 2                |  apenas na gravidez               |     1         |  sim\n",
    " 3                |  não                              |     0         |  não\n",
    " "
   ]
  },
  {
   "cell_type": "code",
   "execution_count": 15,
   "metadata": {
    "tags": [
     "remove_input"
    ]
   },
   "outputs": [],
   "source": [
    "\n",
    "df$variables[df$variables$pressao_alta_q002 == 2, c(\"pressao_alta_q002\")] = 1\n",
    "df$variables[df$variables$pressao_alta_q002 == 3, c(\"pressao_alta_q002\")] = 0\n"
   ]
  },
  {
   "cell_type": "markdown",
   "metadata": {},
   "source": [
    "`q060`, colesterol alto:"
   ]
  },
  {
   "cell_type": "markdown",
   "metadata": {},
   "source": [
    "Valor Original    |      Codificação Original         | Novo Valor    | Codificação Variável `colesterol_alto_q060`\n",
    "------------------|-----------------------------------|---------------|----------------------------------------\n",
    " 1                |  sim                              |     1         |  sim\n",
    " 2                |  não                              |     0         |  não\n",
    " "
   ]
  },
  {
   "cell_type": "code",
   "execution_count": 16,
   "metadata": {
    "lines_to_next_cell": 2,
    "tags": [
     "remove_input"
    ]
   },
   "outputs": [],
   "source": [
    "\n",
    "df$variables[df$variables$colesterol_alto_q060 == 2, c(\"colesterol_alto_q060\")] = 0\n"
   ]
  },
  {
   "cell_type": "markdown",
   "metadata": {},
   "source": [
    "`q124`, insuficiencia renal:"
   ]
  },
  {
   "cell_type": "markdown",
   "metadata": {},
   "source": [
    "Valor Original    |      Codificação Original    | Novo Valor    | Codificação Variável `insuficiencia_renal_q124`\n",
    "------------------|-----------------------------------|---------------|----------------------------------------\n",
    " 1                |  sim                              |     1         |  sim\n",
    " 2                |  não                              |     0         |  não\n",
    " "
   ]
  },
  {
   "cell_type": "code",
   "execution_count": 17,
   "metadata": {
    "tags": [
     "remove_input"
    ]
   },
   "outputs": [],
   "source": [
    "\n",
    "df$variables[df$variables$insuficiencia_renal_q124 == 2, c(\"insuficiencia_renal_q124\")] = 0\n"
   ]
  },
  {
   "cell_type": "markdown",
   "metadata": {},
   "source": [
    "`p050`, fumante:\n",
    "definição de fumante: http://pepsic.bvsalud.org/scielo.php?script=sci_arttext&pid=S1413-03942014000200015\n",
    "\n",
    "Valor Original    |      Codificação Original    | Novo Valor    | Codificação Variável `fumante_p050`\n",
    "------------------|-----------------------------------|---------------|----------------------------------------\n",
    " 1                |  sim, diariamente                  |     1         |  sim\n",
    " 2                |  sim, menos que diariamente        |     0         |  não\n",
    " 3                |  não fumo atualmente               |     0         |  não"
   ]
  },
  {
   "cell_type": "code",
   "execution_count": 18,
   "metadata": {
    "lines_to_next_cell": 0,
    "tags": [
     "remove_input"
    ]
   },
   "outputs": [],
   "source": [
    "\n",
    "df$variables[df$variables$fumante_p050 == 2 | df$variables$fumante_p050 == 3, c(\"fumante_p050\")] = 0\n"
   ]
  },
  {
   "cell_type": "markdown",
   "metadata": {},
   "source": [
    "`q068`, avc:\n",
    "\n",
    "Valor Original    |      Codificação Original    | Novo Valor    | Codificação Variável `ja_ficou_gravida_r039`\n",
    "------------------|------------------------------|---------------|----------------------------------------\n",
    " 1                |  sim                         |     1         |  sim\n",
    " 2                |  não                         |     0         |  não"
   ]
  },
  {
   "cell_type": "code",
   "execution_count": 19,
   "metadata": {
    "tags": [
     "remove_input"
    ]
   },
   "outputs": [],
   "source": [
    "\n",
    "df$variables[df$variables$avc_q068 == 2, c(\"avc_q068\")] = 0\n"
   ]
  },
  {
   "cell_type": "markdown",
   "metadata": {},
   "source": [
    "`q068`, gravidez:\n",
    "\n",
    "Valor Original    |      Codificação Original    | Novo Valor    | Codificação Variável `ja_ficou_gravida_r039`\n",
    "------------------|------------------------------|---------------|----------------------------------------\n",
    " 1                |  sim                         |     1         |  sim\n",
    " 2                |  não                         |     0         |  não"
   ]
  },
  {
   "cell_type": "code",
   "execution_count": 20,
   "metadata": {
    "tags": [
     "remove_input"
    ]
   },
   "outputs": [],
   "source": [
    "df$variables[df$variables$ja_ficou_gravida_r039 == 2, c(\"ja_ficou_gravida_r039\")] = 0"
   ]
  },
  {
   "cell_type": "markdown",
   "metadata": {},
   "source": [
    "# Decisão\n",
    "\n",
    "Definir remover os registros que tem como NA diagnóstico de colesterol alto q060, pressão alta q002 e diabetes q030."
   ]
  },
  {
   "cell_type": "code",
   "execution_count": 34,
   "metadata": {
    "lines_to_next_cell": 0,
    "tags": [
     "remove_input"
    ]
   },
   "outputs": [
    {
     "name": "stdout",
     "output_type": "stream",
     "text": [
      "[1] \"quantidade total de diabéticos: 8944235.6255329\"\n",
      "[1] \"perda de diabéticos: 0\"\n",
      "[1] \"porcentagem de perda de diabeticos: 0\"\n",
      "[1] \"\"\n",
      "[1] \"quantidade total : 121609040.326191\"\n",
      "[1] \"perda total: 0\"\n",
      "[1] \"porcentagem de perda total: 0\"\n"
     ]
    }
   ],
   "source": [
    "\n",
    "perda_t <- as.data.frame(survey::svytable(~pressao_alta_q002 + colesterol_alto_q060 + diagnostico_diabetes_q030 , df))\n",
    "\n",
    "print(paste0(\"quantidade total de diabéticos: \", sum(perda_t[perda_t$diagnostico_diabetes_q030 == 1, c(\"Freq\")])) )\n",
    "print(paste0(\"perda de diabéticos: \", sum(perda_t[perda_t$diagnostico_diabetes_q030 == 1 & (perda_t$pressao_alta_q002 == \" \" | perda_t$colesterol_alto_q060 == \" \"), c(\"Freq\")])) )\n",
    "print(paste0(\"porcentagem de perda de diabeticos: \", sum(perda_t[perda_t$diagnostico_diabetes_q030 == 1 & (perda_t$pressao_alta_q002 == \" \" | perda_t$colesterol_alto_q060 == \" \"), c(\"Freq\")]) / sum(perda_t[perda_t$diagnostico_diabetes_q030 == 1, c(\"Freq\")])  ))\n",
    "\n",
    "print(\"\")\n",
    "\n",
    "print(paste0(\"quantidade total : \", sum(perda_t$Freq)))\n",
    "print(paste0(\"perda total: \", sum(perda_t[ (perda_t$pressao_alta_q002 == \" \" | perda_t$colesterol_alto_q060 == \" \" | perda_t$diagnostico_diabetes_q030 == \" \"), c(\"Freq\")])) )\n",
    "print(paste0(\"porcentagem de perda total: \", sum(perda_t[(perda_t$pressao_alta_q002 == \" \" | perda_t$colesterol_alto_q060 == \" \" | perda_t$diagnostico_diabetes_q030 == \" \"), c(\"Freq\")]) / sum(perda_t$Freq)))\n"
   ]
  },
  {
   "cell_type": "markdown",
   "metadata": {},
   "source": [
    "\n"
   ]
  },
  {
   "cell_type": "markdown",
   "metadata": {},
   "source": [
    "# Criando as variáveis dummies\n",
    "\n",
    "Como todos as features utilizadas são categóricas precisamos transformá-las em dummies para utilização de um modelo de Regressão Logística. utilizaremos a biblioteca `dummies` para essa transormação."
   ]
  },
  {
   "cell_type": "code",
   "execution_count": 21,
   "metadata": {
    "tags": [
     "remove_input"
    ]
   },
   "outputs": [],
   "source": [
    "df$variables$exames_glicemia_q029 = NULL\n",
    "\n",
    "df_dummies = df[ ,c(\"faixa_escolaridade\")]\n",
    "\n",
    "# esc_dummies <- dummies::dummy(df$variables$escolaridade_d009, sep = \"_\",)\n",
    "# df_dummies$variables <- cbind(df_dummies$variables, esc_dummies)\n",
    "# df_dummies$variables <- df_dummies$variables[, -1]\n",
    "\n",
    "df_factor = df$variables %>% mutate_if(is.numeric, as.character)\n",
    "\n",
    "df_factor$sexo_c006 = as.numeric(df_factor$sexo_c006)\n",
    "df_factor$fumante_p050 = as.numeric(df_factor$fumante_p050)\n",
    "df_factor$pressao_alta_q002 = as.numeric(df_factor$pressao_alta_q002)\n",
    "df_factor$colesterol_alto_q060 = as.numeric(df_factor$colesterol_alto_q060)\n",
    "df_factor$avc_q068 = as.numeric(df_factor$avc_q068)\n",
    "df_factor$insuficiencia_renal_q124 = as.numeric(df_factor$insuficiencia_renal_q124)\n",
    "df_factor$ja_ficou_gravida_r039 = as.numeric(df_factor$ja_ficou_gravida_r039)\n",
    "\n",
    "\n",
    "\n",
    "df_factor$peso_w00103 <- as.numeric(df_factor$peso_w00103)\n",
    "df_factor$altura_w00203 <- NULL\n",
    "df_factor$idade <- NULL\n",
    "df_factor$imc <- NULL\n",
    "df_factor$peso_w00103 <- NULL\n",
    "\n",
    "df_factor = df_factor %>% mutate_if(is.character, as.factor)\n",
    "\n",
    "dummies_df <- mlr::createDummyFeatures(df_factor)\n",
    "\n",
    "df$variables = dummies_df"
   ]
  },
  {
   "cell_type": "markdown",
   "metadata": {},
   "source": [
    "# Removendo dummies desnecessários\n",
    "\n",
    "Para a criação de variáveis dummy, todos os fatores de cada variável foi tranformado em uma variável, assim o último fator criado de cada variável terá uma correlação perfeita com as demais variáveis, tendo um coeficiente indefinido."
   ]
  },
  {
   "cell_type": "code",
   "execution_count": 22,
   "metadata": {
    "tags": [
     "remove_input"
    ]
   },
   "outputs": [],
   "source": [
    "df$variables$diagnostico_diabetes_q030.0 = NULL\n",
    "df$variables$cor_raca_c009.9 = NULL\n",
    "df$variables$faixa_escolaridade.5 = NULL\n",
    "df$variables$come_verduras_p009.7 = NULL\n",
    "df$variables$come_frutas_p018.7 = NULL\n",
    "df$variables$refrigerante_suco_p020.7 = NULL\n",
    "df$variables$alimentos_doces_p025.7 = NULL\n",
    "df$variables$substitui_refeicoes_p026.7 = NULL\n",
    "df$variables$bebida_alcoolica_p028.7 = NULL\n",
    "df$variables$dias_semana_ativ_fisica_p035.7 = NULL\n",
    "df$variables$freqativ.5 = NULL\n",
    "df$variables$fxetaria.60 = NULL\n",
    "df$variables$imcclass.7 = NULL"
   ]
  },
  {
   "cell_type": "markdown",
   "metadata": {},
   "source": [
    "# Modelagem\n",
    "\n",
    "Como modelo utilizaremos a Regressão Logística para fazer uma análise descritiva do comportamento das variáveis em relação aos diabéticos. O modelo utilizado encontra-se no pacote `survey` com a função `svyglm`, usado para a criação de modelos lineares para dados estratificados.\n",
    "\n",
    "A família do modelo é a binomial(logit) onde teremos uma saída como uma porcentagem da pessoa pertencerem a classe de Diabéticos.\n",
    "\n",
    "### Metodologia:\n",
    "\n",
    "Todas as variáveis dummies serão adicionadas para a criação do modelo e em seguida será feito suas análises. Na análise determinaremos quais variáveis tem relevância estatística para o modelo.\n",
    "\n",
    "#### Critérios de remoção:\n",
    "\n",
    "Variáveis com p_value maior que 0.05.\n",
    "\n",
    "#### Critérios de reagrupamento:\n",
    "\n",
    "Muitas variáveis dummy representam uma frequência baseada em dias na semana, então Consumo de alimentos doces representam 0, 1, 2, 3 ... dias na semana. Após a remoção veremos quais dessas classes permaneceram no modelo, e caso tenha uma sequência tenha permanecido trataremos da seguinte forma:\n",
    "\n",
    "* <b>1)</b> Se as classes que ficaram no modelo tenham coeficientes que indicam um aumento probabilistico, elas serão definidas como valor 1, e as que estão fora do modelo terão valor 0.\n",
    "* <b>2)</b> Se as classes que ficaram no modelo tenham coeficientes que indicam uma diminuição probabilística, elas serão definidas como valor 0, e as demais e as que estão fora do modelo terão valor 1.\n",
    "* <b>3)</b> Se somente uma classe ficou no modelo: \n",
    "    * se suas classes pares foram removidas no mesmo modelo: não será reorganizada.\n",
    "    * se suas classes pares foram removidas no modelo anterior: ela será utilizada como um threshold, e a nova classificação seguirá as regras 1 e 2.\n",
    "* <b>4)</b> Se as classes que ficaram no modelo forem intermediárias(ex.: 4 e 5), ou todas as classes permaneceram, a partir das tabulações e estudos anteriores, determinaremos qual será o threshold e aplicaremos as regras 1 e 2.\n",
    "\n",
    "** Obs: mesmo que os coeficientes das classes que ficaram no modelo sejam negativos, o impacto probabilistico será definido pela diminuição (chegando mais perto de 0) ou aumento (se afastando de 0) do valor de seus coeficientes. \n",
    "\n",
    "    "
   ]
  },
  {
   "cell_type": "code",
   "execution_count": 24,
   "metadata": {
    "lines_to_next_cell": 2,
    "tags": [
     "remove_input"
    ]
   },
   "outputs": [],
   "source": [
    "construir_modelo <- function(df){\n",
    "\n",
    "   nomes = names(df$variables[1:(length(df$variables) - 1)])\n",
    "   #fla <- paste(\"diagnostico_diabetes_q030.1 ~\", paste(nomes, collapse=\"+\"), \" -1\")\n",
    "   fla <- paste(\"diagnostico_diabetes_q030.1 ~\", paste(nomes, collapse=\"+\"))\n",
    "   \n",
    "   #gl <- survey::svyglm(as.formula(fla) , family = \"quasibinomial\", design=df)\n",
    "   gl <- survey::svyglm(as.formula(fla) , family = \"binomial\", design=df)\n",
    "   \n",
    "   return(gl)\n",
    "}\n",
    "   \n",
    "ordenar_pvalue <- function(model){\n",
    "   \n",
    "   df_model = data.frame(keyName=names(model$coefficients), value=model$coefficients, row.names=NULL)\n",
    "   df_model$COEFF_ABS = abs(df_model$value)\n",
    "   \n",
    "   p <- coef(summary(model))[,4]\n",
    "   df_p = data.frame(keyName=names(p), value=p, row.names=NULL)\n",
    "   \n",
    "   df_model$p_value <- p\n",
    "   \n",
    "   df_model <- df_model[order(df_model$COEFF_ABS),]\n",
    "   \n",
    "   return(df_model)\n",
    "   \n",
    "}\n"
   ]
  },
  {
   "cell_type": "markdown",
   "metadata": {},
   "source": [
    "### Primeiro modelo:"
   ]
  },
  {
   "cell_type": "code",
   "execution_count": 25,
   "metadata": {},
   "outputs": [
    {
     "name": "stderr",
     "output_type": "stream",
     "text": [
      "Warning message in eval(family$initialize):\n",
      "\"non-integer #successes in a binomial glm!\""
     ]
    },
    {
     "name": "stdout",
     "output_type": "stream",
     "text": [
      "\n",
      "Call:\n",
      "svyglm(formula = as.formula(fla), design = df, family = \"binomial\")\n",
      "\n",
      "Survey design:\n",
      "subset(df, diagnostico_diabetes_q030 != \" \" & diagnostico_diabetes_q030 != \n",
      "    2 & pressao_alta_q002 != \" \" & colesterol_alto_q060 != \" \")\n",
      "\n",
      "Coefficients:\n",
      "                                Estimate Std. Error t value Pr(>|t|)    \n",
      "(Intercept)                    -0.646408   1.159312  -0.558 0.577155    \n",
      "sexo_c006                      -0.171293   0.082744  -2.070 0.038486 *  \n",
      "fumante_p050                   -0.196768   0.117247  -1.678 0.093360 .  \n",
      "pressao_alta_q002               0.924637   0.074288  12.447  < 2e-16 ***\n",
      "colesterol_alto_q060            0.739389   0.074128   9.975  < 2e-16 ***\n",
      "avc_q068                        0.370584   0.144264   2.569 0.010232 *  \n",
      "insuficiencia_renal_q124        0.252671   0.177022   1.427 0.153538    \n",
      "ja_ficou_gravida_r039          -0.231973   0.109705  -2.115 0.034517 *  \n",
      "cor_raca_c009.1                -2.426599   1.002573  -2.420 0.015538 *  \n",
      "cor_raca_c009.2                -2.308419   1.008337  -2.289 0.022099 *  \n",
      "cor_raca_c009.3                -2.375656   1.055820  -2.250 0.024485 *  \n",
      "cor_raca_c009.4                -2.520600   1.002634  -2.514 0.011967 *  \n",
      "cor_raca_c009.5                -2.185084   1.063152  -2.055 0.039899 *  \n",
      "faixa_escolaridade.0            0.723334   0.434034   1.667 0.095665 .  \n",
      "faixa_escolaridade.1            0.681794   0.430389   1.584 0.113222    \n",
      "faixa_escolaridade.2            0.694334   0.431454   1.609 0.107612    \n",
      "faixa_escolaridade.3            0.449797   0.436128   1.031 0.302427    \n",
      "faixa_escolaridade.4            0.634863   0.653056   0.972 0.331023    \n",
      "come_verduras_p009.0           -0.032714   0.117880  -0.278 0.781389    \n",
      "come_verduras_p009.1            0.021451   0.120283   0.178 0.858467    \n",
      "come_verduras_p009.2            0.037344   0.103733   0.360 0.718861    \n",
      "come_verduras_p009.3            0.154369   0.107127   1.441 0.149644    \n",
      "come_verduras_p009.4           -0.134958   0.134115  -1.006 0.314321    \n",
      "come_verduras_p009.5            0.090018   0.148439   0.606 0.544253    \n",
      "come_verduras_p009.6           -0.122724   0.159207  -0.771 0.440832    \n",
      "come_frutas_p018.0             -0.480352   0.134576  -3.569 0.000361 ***\n",
      "come_frutas_p018.1             -0.374220   0.139679  -2.679 0.007403 ** \n",
      "come_frutas_p018.2             -0.340813   0.115619  -2.948 0.003215 ** \n",
      "come_frutas_p018.3             -0.263176   0.123074  -2.138 0.032532 *  \n",
      "come_frutas_p018.4             -0.170828   0.140290  -1.218 0.223399    \n",
      "come_frutas_p018.5             -0.166636   0.136940  -1.217 0.223714    \n",
      "come_frutas_p018.6             -0.240520   0.135468  -1.775 0.075877 .  \n",
      "refrigerante_suco_p020.0        0.120067   0.117087   1.025 0.305197    \n",
      "refrigerante_suco_p020.1        0.124525   0.128664   0.968 0.333173    \n",
      "refrigerante_suco_p020.2        0.032981   0.137931   0.239 0.811030    \n",
      "refrigerante_suco_p020.3        0.361388   0.180346   2.004 0.045135 *  \n",
      "refrigerante_suco_p020.4        0.145637   0.210348   0.692 0.488741    \n",
      "refrigerante_suco_p020.5        0.346595   0.265140   1.307 0.191195    \n",
      "refrigerante_suco_p020.6       -0.066592   0.214347  -0.311 0.756061    \n",
      "alimentos_doces_p025.0          1.414290   0.136431  10.366  < 2e-16 ***\n",
      "alimentos_doces_p025.1          0.571500   0.148199   3.856 0.000116 ***\n",
      "alimentos_doces_p025.2          0.373282   0.161750   2.308 0.021049 *  \n",
      "alimentos_doces_p025.3          0.009677   0.192143   0.050 0.959836    \n",
      "alimentos_doces_p025.4          0.313013   0.223546   1.400 0.161506    \n",
      "alimentos_doces_p025.5         -0.124135   0.226177  -0.549 0.583138    \n",
      "alimentos_doces_p025.6         -0.027345   0.273321  -0.100 0.920309    \n",
      "substitui_refeicoes_p026.0     -0.318986   0.168501  -1.893 0.058401 .  \n",
      "substitui_refeicoes_p026.1     -0.133910   0.186053  -0.720 0.471717    \n",
      "substitui_refeicoes_p026.2     -0.204717   0.210566  -0.972 0.330982    \n",
      "substitui_refeicoes_p026.3     -0.409182   0.246903  -1.657 0.097525 .  \n",
      "substitui_refeicoes_p026.4     -0.613545   0.340757  -1.801 0.071832 .  \n",
      "substitui_refeicoes_p026.5     -0.273257   0.407296  -0.671 0.502310    \n",
      "substitui_refeicoes_p026.6     -1.211722   0.422937  -2.865 0.004186 ** \n",
      "bebida_alcoolica_p028.0         0.344176   0.262142   1.313 0.189260    \n",
      "bebida_alcoolica_p028.1         0.038255   0.289206   0.132 0.894770    \n",
      "bebida_alcoolica_p028.2        -0.169677   0.293852  -0.577 0.563678    \n",
      "bebida_alcoolica_p028.3        -0.724749   0.370381  -1.957 0.050427 .  \n",
      "bebida_alcoolica_p028.4        -0.391613   0.516773  -0.758 0.448601    \n",
      "bebida_alcoolica_p028.5        -0.033028   0.487460  -0.068 0.945983    \n",
      "bebida_alcoolica_p028.6        -0.020461   0.601386  -0.034 0.972861    \n",
      "dias_semana_ativ_fisica_p035.0  0.056788   0.173668   0.327 0.743684    \n",
      "dias_semana_ativ_fisica_p035.1 -0.243260   0.257790  -0.944 0.345398    \n",
      "dias_semana_ativ_fisica_p035.2 -0.103759   0.243168  -0.427 0.669617    \n",
      "dias_semana_ativ_fisica_p035.3  0.082341   0.217151   0.379 0.704562    \n",
      "dias_semana_ativ_fisica_p035.4  0.019209   0.287377   0.067 0.946710    \n",
      "dias_semana_ativ_fisica_p035.5  0.026980   0.246984   0.109 0.913017    \n",
      "dias_semana_ativ_fisica_p035.6 -0.223647   0.408361  -0.548 0.583941    \n",
      "freqativ.0                      0.085433   0.150629   0.567 0.570620    \n",
      "freqativ.1                      0.369437   0.349689   1.056 0.290799    \n",
      "freqativ.2                     -0.070801   0.223280  -0.317 0.751183    \n",
      "freqativ.3                     -0.465848   0.319106  -1.460 0.144389    \n",
      "freqativ.4                      0.019279   0.292929   0.066 0.947527    \n",
      "fxetaria.18                    -2.827653   0.706362  -4.003 6.34e-05 ***\n",
      "fxetaria.22                    -2.033198   0.288002  -7.060 1.88e-12 ***\n",
      "fxetaria.32                    -1.757910   0.150195 -11.704  < 2e-16 ***\n",
      "fxetaria.50                    -0.598662   0.080649  -7.423 1.32e-13 ***\n",
      "imcclass.1                     -1.072505   0.522629  -2.052 0.040205 *  \n",
      "imcclass.2                     -0.616384   0.400755  -1.538 0.124093    \n",
      "imcclass.3                     -0.901397   0.191388  -4.710 2.54e-06 ***\n",
      "imcclass.4                     -0.660411   0.190227  -3.472 0.000521 ***\n",
      "imcclass.5                     -0.369920   0.194160  -1.905 0.056803 .  \n",
      "imcclass.6                     -0.213017   0.221808  -0.960 0.336913    \n",
      "---\n",
      "Signif. codes:  0 '***' 0.001 '**' 0.01 '*' 0.05 '.' 0.1 ' ' 1\n",
      "\n",
      "(Dispersion parameter for binomial family taken to be 0.9829433)\n",
      "\n",
      "Number of Fisher Scoring iterations: 7\n",
      "\n"
     ]
    }
   ],
   "source": [
    "modelb <- construir_modelo(df)\n",
    "\n",
    "print(summary(modelb))\n",
    "\n",
    "df_modelb = ordenar_pvalue(modelb)"
   ]
  },
  {
   "cell_type": "code",
   "execution_count": 52,
   "metadata": {},
   "outputs": [
    {
     "name": "stderr",
     "output_type": "stream",
     "text": [
      "Warning message in summary.glm(g):\n",
      "\"observations with zero weight not used for calculating dispersion\"Warning message in summary.glm(glm.object):\n",
      "\"observations with zero weight not used for calculating dispersion\""
     ]
    },
    {
     "name": "stdout",
     "output_type": "stream",
     "text": [
      "\n",
      "Call:\n",
      "svyglm(formula = as.formula(fla), design = df, family = \"quasibinomial\")\n",
      "\n",
      "Survey design:\n",
      "subset(df, diagnostico_diabetes_q030 != \" \" & diagnostico_diabetes_q030 != \n",
      "    2 & pressao_alta_q002 != \" \" & colesterol_alto_q060 != \" \")\n",
      "\n",
      "Coefficients:\n",
      "                                Estimate Std. Error t value Pr(>|t|)    \n",
      "(Intercept)                    -0.646408   1.159312  -0.558 0.577155    \n",
      "sexo_c006                      -0.171293   0.082744  -2.070 0.038486 *  \n",
      "fumante_p050                   -0.196768   0.117247  -1.678 0.093360 .  \n",
      "pressao_alta_q002               0.924637   0.074288  12.447  < 2e-16 ***\n",
      "colesterol_alto_q060            0.739389   0.074128   9.975  < 2e-16 ***\n",
      "avc_q068                        0.370584   0.144264   2.569 0.010232 *  \n",
      "insuficiencia_renal_q124        0.252671   0.177022   1.427 0.153538    \n",
      "ja_ficou_gravida_r039          -0.231973   0.109705  -2.115 0.034517 *  \n",
      "cor_raca_c009.1                -2.426599   1.002573  -2.420 0.015538 *  \n",
      "cor_raca_c009.2                -2.308419   1.008337  -2.289 0.022099 *  \n",
      "cor_raca_c009.3                -2.375656   1.055820  -2.250 0.024485 *  \n",
      "cor_raca_c009.4                -2.520600   1.002634  -2.514 0.011967 *  \n",
      "cor_raca_c009.5                -2.185084   1.063152  -2.055 0.039899 *  \n",
      "faixa_escolaridade.0            0.723334   0.434034   1.667 0.095665 .  \n",
      "faixa_escolaridade.1            0.681794   0.430389   1.584 0.113222    \n",
      "faixa_escolaridade.2            0.694334   0.431454   1.609 0.107612    \n",
      "faixa_escolaridade.3            0.449797   0.436128   1.031 0.302427    \n",
      "faixa_escolaridade.4            0.634863   0.653056   0.972 0.331023    \n",
      "come_verduras_p009.0           -0.032714   0.117880  -0.278 0.781389    \n",
      "come_verduras_p009.1            0.021451   0.120283   0.178 0.858467    \n",
      "come_verduras_p009.2            0.037344   0.103733   0.360 0.718861    \n",
      "come_verduras_p009.3            0.154369   0.107127   1.441 0.149644    \n",
      "come_verduras_p009.4           -0.134958   0.134115  -1.006 0.314321    \n",
      "come_verduras_p009.5            0.090018   0.148439   0.606 0.544253    \n",
      "come_verduras_p009.6           -0.122724   0.159207  -0.771 0.440832    \n",
      "come_frutas_p018.0             -0.480352   0.134576  -3.569 0.000361 ***\n",
      "come_frutas_p018.1             -0.374220   0.139679  -2.679 0.007403 ** \n",
      "come_frutas_p018.2             -0.340813   0.115619  -2.948 0.003215 ** \n",
      "come_frutas_p018.3             -0.263176   0.123074  -2.138 0.032532 *  \n",
      "come_frutas_p018.4             -0.170828   0.140290  -1.218 0.223399    \n",
      "come_frutas_p018.5             -0.166636   0.136940  -1.217 0.223714    \n",
      "come_frutas_p018.6             -0.240520   0.135468  -1.775 0.075877 .  \n",
      "refrigerante_suco_p020.0        0.120067   0.117087   1.025 0.305197    \n",
      "refrigerante_suco_p020.1        0.124525   0.128664   0.968 0.333173    \n",
      "refrigerante_suco_p020.2        0.032981   0.137931   0.239 0.811030    \n",
      "refrigerante_suco_p020.3        0.361388   0.180346   2.004 0.045135 *  \n",
      "refrigerante_suco_p020.4        0.145637   0.210348   0.692 0.488741    \n",
      "refrigerante_suco_p020.5        0.346595   0.265140   1.307 0.191195    \n",
      "refrigerante_suco_p020.6       -0.066592   0.214347  -0.311 0.756061    \n",
      "alimentos_doces_p025.0          1.414290   0.136431  10.366  < 2e-16 ***\n",
      "alimentos_doces_p025.1          0.571500   0.148199   3.856 0.000116 ***\n",
      "alimentos_doces_p025.2          0.373282   0.161750   2.308 0.021049 *  \n",
      "alimentos_doces_p025.3          0.009677   0.192143   0.050 0.959836    \n",
      "alimentos_doces_p025.4          0.313013   0.223546   1.400 0.161506    \n",
      "alimentos_doces_p025.5         -0.124135   0.226177  -0.549 0.583138    \n",
      "alimentos_doces_p025.6         -0.027345   0.273321  -0.100 0.920309    \n",
      "substitui_refeicoes_p026.0     -0.318986   0.168501  -1.893 0.058401 .  \n",
      "substitui_refeicoes_p026.1     -0.133910   0.186053  -0.720 0.471717    \n",
      "substitui_refeicoes_p026.2     -0.204717   0.210566  -0.972 0.330982    \n",
      "substitui_refeicoes_p026.3     -0.409182   0.246903  -1.657 0.097525 .  \n",
      "substitui_refeicoes_p026.4     -0.613545   0.340757  -1.801 0.071832 .  \n",
      "substitui_refeicoes_p026.5     -0.273257   0.407296  -0.671 0.502310    \n",
      "substitui_refeicoes_p026.6     -1.211722   0.422937  -2.865 0.004186 ** \n",
      "bebida_alcoolica_p028.0         0.344176   0.262142   1.313 0.189260    \n",
      "bebida_alcoolica_p028.1         0.038255   0.289206   0.132 0.894770    \n",
      "bebida_alcoolica_p028.2        -0.169677   0.293852  -0.577 0.563678    \n",
      "bebida_alcoolica_p028.3        -0.724749   0.370381  -1.957 0.050427 .  \n",
      "bebida_alcoolica_p028.4        -0.391613   0.516773  -0.758 0.448601    \n",
      "bebida_alcoolica_p028.5        -0.033028   0.487460  -0.068 0.945983    \n",
      "bebida_alcoolica_p028.6        -0.020461   0.601386  -0.034 0.972861    \n",
      "dias_semana_ativ_fisica_p035.0  0.056788   0.173668   0.327 0.743684    \n",
      "dias_semana_ativ_fisica_p035.1 -0.243260   0.257790  -0.944 0.345398    \n",
      "dias_semana_ativ_fisica_p035.2 -0.103759   0.243168  -0.427 0.669617    \n",
      "dias_semana_ativ_fisica_p035.3  0.082341   0.217151   0.379 0.704562    \n",
      "dias_semana_ativ_fisica_p035.4  0.019209   0.287377   0.067 0.946710    \n",
      "dias_semana_ativ_fisica_p035.5  0.026980   0.246984   0.109 0.913017    \n",
      "dias_semana_ativ_fisica_p035.6 -0.223647   0.408361  -0.548 0.583941    \n",
      "freqativ.0                      0.085433   0.150629   0.567 0.570620    \n",
      "freqativ.1                      0.369437   0.349689   1.056 0.290799    \n",
      "freqativ.2                     -0.070801   0.223280  -0.317 0.751183    \n",
      "freqativ.3                     -0.465848   0.319106  -1.460 0.144389    \n",
      "freqativ.4                      0.019279   0.292929   0.066 0.947527    \n",
      "fxetaria.18                    -2.827653   0.706362  -4.003 6.34e-05 ***\n",
      "fxetaria.22                    -2.033198   0.288002  -7.060 1.88e-12 ***\n",
      "fxetaria.32                    -1.757910   0.150195 -11.704  < 2e-16 ***\n",
      "fxetaria.50                    -0.598662   0.080649  -7.423 1.32e-13 ***\n",
      "imcclass.1                     -1.072505   0.522629  -2.052 0.040205 *  \n",
      "imcclass.2                     -0.616384   0.400755  -1.538 0.124093    \n",
      "imcclass.3                     -0.901397   0.191388  -4.710 2.54e-06 ***\n",
      "imcclass.4                     -0.660411   0.190227  -3.472 0.000521 ***\n",
      "imcclass.5                     -0.369920   0.194160  -1.905 0.056803 .  \n",
      "imcclass.6                     -0.213017   0.221808  -0.960 0.336913    \n",
      "---\n",
      "Signif. codes:  0 '***' 0.001 '**' 0.01 '*' 0.05 '.' 0.1 ' ' 1\n",
      "\n",
      "(Dispersion parameter for quasibinomial family taken to be 0.9829433)\n",
      "\n",
      "Number of Fisher Scoring iterations: 7\n",
      "\n"
     ]
    }
   ],
   "source": [
    "modelqb <- construir_modelo(df)\n",
    "\n",
    "print(summary(modelqb))\n",
    "\n",
    "df_modelqb = ordenar_pvalue(modelqb)"
   ]
  },
  {
   "cell_type": "markdown",
   "metadata": {},
   "source": [
    "Com esses dados criamos 2 modelos, um com a família binomial e outra com a família quasibinomial, e calculamos o teste do qui-quadrado para observar se nosso modelo está com superdispersão, indicando um viés sobre os dados.\n",
    "\n",
    "hipotese nula $\\phi=1$ \n",
    "\n",
    "hipotese alternativa $\\phi \\neq 1$"
   ]
  },
  {
   "cell_type": "code",
   "execution_count": 54,
   "metadata": {},
   "outputs": [
    {
     "data": {
      "text/html": [
       "0.811551615164847"
      ],
      "text/latex": [
       "0.811551615164847"
      ],
      "text/markdown": [
       "0.811551615164847"
      ],
      "text/plain": [
       "[1] 0.8115516"
      ]
     },
     "metadata": {},
     "output_type": "display_data"
    }
   ],
   "source": [
    "pchisq(summary(modelqb)$dispersion[1] * modelb$df.residual, modelb$df.residual, lower.tail = F)"
   ]
  },
  {
   "cell_type": "markdown",
   "metadata": {},
   "source": [
    "#### Variáveis com p_value maior que 0.05"
   ]
  },
  {
   "cell_type": "code",
   "execution_count": 26,
   "metadata": {
    "tags": [
     "remove_input"
    ]
   },
   "outputs": [
    {
     "data": {
      "text/html": [
       "<table>\n",
       "<thead><tr><th></th><th scope=col>keyName</th><th scope=col>value</th><th scope=col>COEFF_ABS</th><th scope=col>p_value</th></tr></thead>\n",
       "<tbody>\n",
       "\t<tr><th scope=row>1</th><td>(Intercept)                   </td><td>-0.646408421                  </td><td>0.646408421                   </td><td>0.57715474                    </td></tr>\n",
       "\t<tr><th scope=row>43</th><td>alimentos_doces_p025.3        </td><td> 0.009676616                  </td><td>0.009676616                   </td><td>0.95983622                    </td></tr>\n",
       "\t<tr><th scope=row>44</th><td>alimentos_doces_p025.4        </td><td> 0.313013307                  </td><td>0.313013307                   </td><td>0.16150626                    </td></tr>\n",
       "\t<tr><th scope=row>45</th><td>alimentos_doces_p025.5        </td><td>-0.124135047                  </td><td>0.124135047                   </td><td>0.58313819                    </td></tr>\n",
       "\t<tr><th scope=row>46</th><td>alimentos_doces_p025.6        </td><td>-0.027345357                  </td><td>0.027345357                   </td><td>0.92030946                    </td></tr>\n",
       "\t<tr><th scope=row>54</th><td>bebida_alcoolica_p028.0       </td><td> 0.344175699                  </td><td>0.344175699                   </td><td>0.18926005                    </td></tr>\n",
       "\t<tr><th scope=row>55</th><td>bebida_alcoolica_p028.1       </td><td> 0.038255459                  </td><td>0.038255459                   </td><td>0.89476968                    </td></tr>\n",
       "\t<tr><th scope=row>56</th><td>bebida_alcoolica_p028.2       </td><td>-0.169676906                  </td><td>0.169676906                   </td><td>0.56367787                    </td></tr>\n",
       "\t<tr><th scope=row>58</th><td>bebida_alcoolica_p028.4       </td><td>-0.391613460                  </td><td>0.391613460                   </td><td>0.44860059                    </td></tr>\n",
       "\t<tr><th scope=row>59</th><td>bebida_alcoolica_p028.5       </td><td>-0.033027753                  </td><td>0.033027753                   </td><td>0.94598335                    </td></tr>\n",
       "\t<tr><th scope=row>60</th><td>bebida_alcoolica_p028.6       </td><td>-0.020460614                  </td><td>0.020460614                   </td><td>0.97286052                    </td></tr>\n",
       "\t<tr><th scope=row>30</th><td>come_frutas_p018.4            </td><td>-0.170828011                  </td><td>0.170828011                   </td><td>0.22339942                    </td></tr>\n",
       "\t<tr><th scope=row>31</th><td>come_frutas_p018.5            </td><td>-0.166635622                  </td><td>0.166635622                   </td><td>0.22371412                    </td></tr>\n",
       "\t<tr><th scope=row>32</th><td>come_frutas_p018.6            </td><td>-0.240519794                  </td><td>0.240519794                   </td><td>0.07587724                    </td></tr>\n",
       "\t<tr><th scope=row>19</th><td>come_verduras_p009.0          </td><td>-0.032714433                  </td><td>0.032714433                   </td><td>0.78138863                    </td></tr>\n",
       "\t<tr><th scope=row>20</th><td>come_verduras_p009.1          </td><td> 0.021450532                  </td><td>0.021450532                   </td><td>0.85846704                    </td></tr>\n",
       "\t<tr><th scope=row>21</th><td>come_verduras_p009.2          </td><td> 0.037343792                  </td><td>0.037343792                   </td><td>0.71886120                    </td></tr>\n",
       "\t<tr><th scope=row>22</th><td>come_verduras_p009.3          </td><td> 0.154369331                  </td><td>0.154369331                   </td><td>0.14964449                    </td></tr>\n",
       "\t<tr><th scope=row>23</th><td>come_verduras_p009.4          </td><td>-0.134958413                  </td><td>0.134958413                   </td><td>0.31432093                    </td></tr>\n",
       "\t<tr><th scope=row>24</th><td>come_verduras_p009.5          </td><td> 0.090018364                  </td><td>0.090018364                   </td><td>0.54425263                    </td></tr>\n",
       "\t<tr><th scope=row>25</th><td>come_verduras_p009.6          </td><td>-0.122724223                  </td><td>0.122724223                   </td><td>0.44083247                    </td></tr>\n",
       "\t<tr><th scope=row>61</th><td>dias_semana_ativ_fisica_p035.0</td><td> 0.056788458                  </td><td>0.056788458                   </td><td>0.74368433                    </td></tr>\n",
       "\t<tr><th scope=row>62</th><td>dias_semana_ativ_fisica_p035.1</td><td>-0.243260018                  </td><td>0.243260018                   </td><td>0.34539790                    </td></tr>\n",
       "\t<tr><th scope=row>63</th><td>dias_semana_ativ_fisica_p035.2</td><td>-0.103758895                  </td><td>0.103758895                   </td><td>0.66961712                    </td></tr>\n",
       "\t<tr><th scope=row>64</th><td>dias_semana_ativ_fisica_p035.3</td><td> 0.082341386                  </td><td>0.082341386                   </td><td>0.70456160                    </td></tr>\n",
       "\t<tr><th scope=row>65</th><td>dias_semana_ativ_fisica_p035.4</td><td> 0.019208816                  </td><td>0.019208816                   </td><td>0.94671007                    </td></tr>\n",
       "\t<tr><th scope=row>66</th><td>dias_semana_ativ_fisica_p035.5</td><td> 0.026980219                  </td><td>0.026980219                   </td><td>0.91301725                    </td></tr>\n",
       "\t<tr><th scope=row>67</th><td>dias_semana_ativ_fisica_p035.6</td><td>-0.223647325                  </td><td>0.223647325                   </td><td>0.58394085                    </td></tr>\n",
       "\t<tr><th scope=row>14</th><td>faixa_escolaridade.0          </td><td> 0.723333918                  </td><td>0.723333918                   </td><td>0.09566489                    </td></tr>\n",
       "\t<tr><th scope=row>15</th><td>faixa_escolaridade.1          </td><td> 0.681793978                  </td><td>0.681793978                   </td><td>0.11322213                    </td></tr>\n",
       "\t<tr><th scope=row>16</th><td>faixa_escolaridade.2          </td><td> 0.694334324                  </td><td>0.694334324                   </td><td>0.10761167                    </td></tr>\n",
       "\t<tr><th scope=row>17</th><td>faixa_escolaridade.3          </td><td> 0.449797272                  </td><td>0.449797272                   </td><td>0.30242692                    </td></tr>\n",
       "\t<tr><th scope=row>18</th><td>faixa_escolaridade.4          </td><td> 0.634863349                  </td><td>0.634863349                   </td><td>0.33102341                    </td></tr>\n",
       "\t<tr><th scope=row>68</th><td>freqativ.0                    </td><td> 0.085432846                  </td><td>0.085432846                   </td><td>0.57061998                    </td></tr>\n",
       "\t<tr><th scope=row>69</th><td>freqativ.1                    </td><td> 0.369436703                  </td><td>0.369436703                   </td><td>0.29079941                    </td></tr>\n",
       "\t<tr><th scope=row>70</th><td>freqativ.2                    </td><td>-0.070801407                  </td><td>0.070801407                   </td><td>0.75118281                    </td></tr>\n",
       "\t<tr><th scope=row>71</th><td>freqativ.3                    </td><td>-0.465847740                  </td><td>0.465847740                   </td><td>0.14438933                    </td></tr>\n",
       "\t<tr><th scope=row>72</th><td>freqativ.4                    </td><td> 0.019279466                  </td><td>0.019279466                   </td><td>0.94752656                    </td></tr>\n",
       "\t<tr><th scope=row>3</th><td>fumante_p050                  </td><td>-0.196767887                  </td><td>0.196767887                   </td><td>0.09335981                    </td></tr>\n",
       "\t<tr><th scope=row>78</th><td>imcclass.2                    </td><td>-0.616384178                  </td><td>0.616384178                   </td><td>0.12409312                    </td></tr>\n",
       "\t<tr><th scope=row>82</th><td>imcclass.6                    </td><td>-0.213017285                  </td><td>0.213017285                   </td><td>0.33691251                    </td></tr>\n",
       "\t<tr><th scope=row>7</th><td>insuficiencia_renal_q124      </td><td> 0.252670893                  </td><td>0.252670893                   </td><td>0.15353833                    </td></tr>\n",
       "\t<tr><th scope=row>33</th><td>refrigerante_suco_p020.0      </td><td> 0.120066945                  </td><td>0.120066945                   </td><td>0.30519700                    </td></tr>\n",
       "\t<tr><th scope=row>34</th><td>refrigerante_suco_p020.1      </td><td> 0.124524665                  </td><td>0.124524665                   </td><td>0.33317281                    </td></tr>\n",
       "\t<tr><th scope=row>35</th><td>refrigerante_suco_p020.2      </td><td> 0.032980710                  </td><td>0.032980710                   </td><td>0.81102973                    </td></tr>\n",
       "\t<tr><th scope=row>37</th><td>refrigerante_suco_p020.4      </td><td> 0.145636668                  </td><td>0.145636668                   </td><td>0.48874059                    </td></tr>\n",
       "\t<tr><th scope=row>38</th><td>refrigerante_suco_p020.5      </td><td> 0.346595081                  </td><td>0.346595081                   </td><td>0.19119480                    </td></tr>\n",
       "\t<tr><th scope=row>39</th><td>refrigerante_suco_p020.6      </td><td>-0.066591780                  </td><td>0.066591780                   </td><td>0.75606144                    </td></tr>\n",
       "\t<tr><th scope=row>48</th><td>substitui_refeicoes_p026.1    </td><td>-0.133909910                  </td><td>0.133909910                   </td><td>0.47171660                    </td></tr>\n",
       "\t<tr><th scope=row>49</th><td>substitui_refeicoes_p026.2    </td><td>-0.204717484                  </td><td>0.204717484                   </td><td>0.33098217                    </td></tr>\n",
       "\t<tr><th scope=row>50</th><td>substitui_refeicoes_p026.3    </td><td>-0.409181860                  </td><td>0.409181860                   </td><td>0.09752548                    </td></tr>\n",
       "\t<tr><th scope=row>51</th><td>substitui_refeicoes_p026.4    </td><td>-0.613544983                  </td><td>0.613544983                   </td><td>0.07183241                    </td></tr>\n",
       "\t<tr><th scope=row>52</th><td>substitui_refeicoes_p026.5    </td><td>-0.273256652                  </td><td>0.273256652                   </td><td>0.50230981                    </td></tr>\n",
       "</tbody>\n",
       "</table>\n"
      ],
      "text/latex": [
       "\\begin{tabular}{r|llll}\n",
       "  & keyName & value & COEFF\\_ABS & p\\_value\\\\\n",
       "\\hline\n",
       "\t1 & (Intercept)                    & -0.646408421                   & 0.646408421                    & 0.57715474                    \\\\\n",
       "\t43 & alimentos\\_doces\\_p025.3         &  0.009676616                       & 0.009676616                        & 0.95983622                        \\\\\n",
       "\t44 & alimentos\\_doces\\_p025.4         &  0.313013307                       & 0.313013307                        & 0.16150626                        \\\\\n",
       "\t45 & alimentos\\_doces\\_p025.5         & -0.124135047                       & 0.124135047                        & 0.58313819                        \\\\\n",
       "\t46 & alimentos\\_doces\\_p025.6         & -0.027345357                       & 0.027345357                        & 0.92030946                        \\\\\n",
       "\t54 & bebida\\_alcoolica\\_p028.0        &  0.344175699                       & 0.344175699                        & 0.18926005                        \\\\\n",
       "\t55 & bebida\\_alcoolica\\_p028.1        &  0.038255459                       & 0.038255459                        & 0.89476968                        \\\\\n",
       "\t56 & bebida\\_alcoolica\\_p028.2        & -0.169676906                       & 0.169676906                        & 0.56367787                        \\\\\n",
       "\t58 & bebida\\_alcoolica\\_p028.4        & -0.391613460                       & 0.391613460                        & 0.44860059                        \\\\\n",
       "\t59 & bebida\\_alcoolica\\_p028.5        & -0.033027753                       & 0.033027753                        & 0.94598335                        \\\\\n",
       "\t60 & bebida\\_alcoolica\\_p028.6        & -0.020460614                       & 0.020460614                        & 0.97286052                        \\\\\n",
       "\t30 & come\\_frutas\\_p018.4             & -0.170828011                       & 0.170828011                        & 0.22339942                        \\\\\n",
       "\t31 & come\\_frutas\\_p018.5             & -0.166635622                       & 0.166635622                        & 0.22371412                        \\\\\n",
       "\t32 & come\\_frutas\\_p018.6             & -0.240519794                       & 0.240519794                        & 0.07587724                        \\\\\n",
       "\t19 & come\\_verduras\\_p009.0           & -0.032714433                       & 0.032714433                        & 0.78138863                        \\\\\n",
       "\t20 & come\\_verduras\\_p009.1           &  0.021450532                       & 0.021450532                        & 0.85846704                        \\\\\n",
       "\t21 & come\\_verduras\\_p009.2           &  0.037343792                       & 0.037343792                        & 0.71886120                        \\\\\n",
       "\t22 & come\\_verduras\\_p009.3           &  0.154369331                       & 0.154369331                        & 0.14964449                        \\\\\n",
       "\t23 & come\\_verduras\\_p009.4           & -0.134958413                       & 0.134958413                        & 0.31432093                        \\\\\n",
       "\t24 & come\\_verduras\\_p009.5           &  0.090018364                       & 0.090018364                        & 0.54425263                        \\\\\n",
       "\t25 & come\\_verduras\\_p009.6           & -0.122724223                       & 0.122724223                        & 0.44083247                        \\\\\n",
       "\t61 & dias\\_semana\\_ativ\\_fisica\\_p035.0 &  0.056788458                           & 0.056788458                            & 0.74368433                            \\\\\n",
       "\t62 & dias\\_semana\\_ativ\\_fisica\\_p035.1 & -0.243260018                           & 0.243260018                            & 0.34539790                            \\\\\n",
       "\t63 & dias\\_semana\\_ativ\\_fisica\\_p035.2 & -0.103758895                           & 0.103758895                            & 0.66961712                            \\\\\n",
       "\t64 & dias\\_semana\\_ativ\\_fisica\\_p035.3 &  0.082341386                           & 0.082341386                            & 0.70456160                            \\\\\n",
       "\t65 & dias\\_semana\\_ativ\\_fisica\\_p035.4 &  0.019208816                           & 0.019208816                            & 0.94671007                            \\\\\n",
       "\t66 & dias\\_semana\\_ativ\\_fisica\\_p035.5 &  0.026980219                           & 0.026980219                            & 0.91301725                            \\\\\n",
       "\t67 & dias\\_semana\\_ativ\\_fisica\\_p035.6 & -0.223647325                           & 0.223647325                            & 0.58394085                            \\\\\n",
       "\t14 & faixa\\_escolaridade.0           &  0.723333918                     & 0.723333918                      & 0.09566489                      \\\\\n",
       "\t15 & faixa\\_escolaridade.1           &  0.681793978                     & 0.681793978                      & 0.11322213                      \\\\\n",
       "\t16 & faixa\\_escolaridade.2           &  0.694334324                     & 0.694334324                      & 0.10761167                      \\\\\n",
       "\t17 & faixa\\_escolaridade.3           &  0.449797272                     & 0.449797272                      & 0.30242692                      \\\\\n",
       "\t18 & faixa\\_escolaridade.4           &  0.634863349                     & 0.634863349                      & 0.33102341                      \\\\\n",
       "\t68 & freqativ.0                     &  0.085432846                   & 0.085432846                    & 0.57061998                    \\\\\n",
       "\t69 & freqativ.1                     &  0.369436703                   & 0.369436703                    & 0.29079941                    \\\\\n",
       "\t70 & freqativ.2                     & -0.070801407                   & 0.070801407                    & 0.75118281                    \\\\\n",
       "\t71 & freqativ.3                     & -0.465847740                   & 0.465847740                    & 0.14438933                    \\\\\n",
       "\t72 & freqativ.4                     &  0.019279466                   & 0.019279466                    & 0.94752656                    \\\\\n",
       "\t3 & fumante\\_p050                   & -0.196767887                     & 0.196767887                      & 0.09335981                      \\\\\n",
       "\t78 & imcclass.2                     & -0.616384178                   & 0.616384178                    & 0.12409312                    \\\\\n",
       "\t82 & imcclass.6                     & -0.213017285                   & 0.213017285                    & 0.33691251                    \\\\\n",
       "\t7 & insuficiencia\\_renal\\_q124       &  0.252670893                       & 0.252670893                        & 0.15353833                        \\\\\n",
       "\t33 & refrigerante\\_suco\\_p020.0       &  0.120066945                       & 0.120066945                        & 0.30519700                        \\\\\n",
       "\t34 & refrigerante\\_suco\\_p020.1       &  0.124524665                       & 0.124524665                        & 0.33317281                        \\\\\n",
       "\t35 & refrigerante\\_suco\\_p020.2       &  0.032980710                       & 0.032980710                        & 0.81102973                        \\\\\n",
       "\t37 & refrigerante\\_suco\\_p020.4       &  0.145636668                       & 0.145636668                        & 0.48874059                        \\\\\n",
       "\t38 & refrigerante\\_suco\\_p020.5       &  0.346595081                       & 0.346595081                        & 0.19119480                        \\\\\n",
       "\t39 & refrigerante\\_suco\\_p020.6       & -0.066591780                       & 0.066591780                        & 0.75606144                        \\\\\n",
       "\t48 & substitui\\_refeicoes\\_p026.1     & -0.133909910                       & 0.133909910                        & 0.47171660                        \\\\\n",
       "\t49 & substitui\\_refeicoes\\_p026.2     & -0.204717484                       & 0.204717484                        & 0.33098217                        \\\\\n",
       "\t50 & substitui\\_refeicoes\\_p026.3     & -0.409181860                       & 0.409181860                        & 0.09752548                        \\\\\n",
       "\t51 & substitui\\_refeicoes\\_p026.4     & -0.613544983                       & 0.613544983                        & 0.07183241                        \\\\\n",
       "\t52 & substitui\\_refeicoes\\_p026.5     & -0.273256652                       & 0.273256652                        & 0.50230981                        \\\\\n",
       "\\end{tabular}\n"
      ],
      "text/markdown": [
       "\n",
       "| <!--/--> | keyName | value | COEFF_ABS | p_value |\n",
       "|---|---|---|---|---|\n",
       "| 1 | (Intercept)                    | -0.646408421                   | 0.646408421                    | 0.57715474                     |\n",
       "| 43 | alimentos_doces_p025.3         |  0.009676616                   | 0.009676616                    | 0.95983622                     |\n",
       "| 44 | alimentos_doces_p025.4         |  0.313013307                   | 0.313013307                    | 0.16150626                     |\n",
       "| 45 | alimentos_doces_p025.5         | -0.124135047                   | 0.124135047                    | 0.58313819                     |\n",
       "| 46 | alimentos_doces_p025.6         | -0.027345357                   | 0.027345357                    | 0.92030946                     |\n",
       "| 54 | bebida_alcoolica_p028.0        |  0.344175699                   | 0.344175699                    | 0.18926005                     |\n",
       "| 55 | bebida_alcoolica_p028.1        |  0.038255459                   | 0.038255459                    | 0.89476968                     |\n",
       "| 56 | bebida_alcoolica_p028.2        | -0.169676906                   | 0.169676906                    | 0.56367787                     |\n",
       "| 58 | bebida_alcoolica_p028.4        | -0.391613460                   | 0.391613460                    | 0.44860059                     |\n",
       "| 59 | bebida_alcoolica_p028.5        | -0.033027753                   | 0.033027753                    | 0.94598335                     |\n",
       "| 60 | bebida_alcoolica_p028.6        | -0.020460614                   | 0.020460614                    | 0.97286052                     |\n",
       "| 30 | come_frutas_p018.4             | -0.170828011                   | 0.170828011                    | 0.22339942                     |\n",
       "| 31 | come_frutas_p018.5             | -0.166635622                   | 0.166635622                    | 0.22371412                     |\n",
       "| 32 | come_frutas_p018.6             | -0.240519794                   | 0.240519794                    | 0.07587724                     |\n",
       "| 19 | come_verduras_p009.0           | -0.032714433                   | 0.032714433                    | 0.78138863                     |\n",
       "| 20 | come_verduras_p009.1           |  0.021450532                   | 0.021450532                    | 0.85846704                     |\n",
       "| 21 | come_verduras_p009.2           |  0.037343792                   | 0.037343792                    | 0.71886120                     |\n",
       "| 22 | come_verduras_p009.3           |  0.154369331                   | 0.154369331                    | 0.14964449                     |\n",
       "| 23 | come_verduras_p009.4           | -0.134958413                   | 0.134958413                    | 0.31432093                     |\n",
       "| 24 | come_verduras_p009.5           |  0.090018364                   | 0.090018364                    | 0.54425263                     |\n",
       "| 25 | come_verduras_p009.6           | -0.122724223                   | 0.122724223                    | 0.44083247                     |\n",
       "| 61 | dias_semana_ativ_fisica_p035.0 |  0.056788458                   | 0.056788458                    | 0.74368433                     |\n",
       "| 62 | dias_semana_ativ_fisica_p035.1 | -0.243260018                   | 0.243260018                    | 0.34539790                     |\n",
       "| 63 | dias_semana_ativ_fisica_p035.2 | -0.103758895                   | 0.103758895                    | 0.66961712                     |\n",
       "| 64 | dias_semana_ativ_fisica_p035.3 |  0.082341386                   | 0.082341386                    | 0.70456160                     |\n",
       "| 65 | dias_semana_ativ_fisica_p035.4 |  0.019208816                   | 0.019208816                    | 0.94671007                     |\n",
       "| 66 | dias_semana_ativ_fisica_p035.5 |  0.026980219                   | 0.026980219                    | 0.91301725                     |\n",
       "| 67 | dias_semana_ativ_fisica_p035.6 | -0.223647325                   | 0.223647325                    | 0.58394085                     |\n",
       "| 14 | faixa_escolaridade.0           |  0.723333918                   | 0.723333918                    | 0.09566489                     |\n",
       "| 15 | faixa_escolaridade.1           |  0.681793978                   | 0.681793978                    | 0.11322213                     |\n",
       "| 16 | faixa_escolaridade.2           |  0.694334324                   | 0.694334324                    | 0.10761167                     |\n",
       "| 17 | faixa_escolaridade.3           |  0.449797272                   | 0.449797272                    | 0.30242692                     |\n",
       "| 18 | faixa_escolaridade.4           |  0.634863349                   | 0.634863349                    | 0.33102341                     |\n",
       "| 68 | freqativ.0                     |  0.085432846                   | 0.085432846                    | 0.57061998                     |\n",
       "| 69 | freqativ.1                     |  0.369436703                   | 0.369436703                    | 0.29079941                     |\n",
       "| 70 | freqativ.2                     | -0.070801407                   | 0.070801407                    | 0.75118281                     |\n",
       "| 71 | freqativ.3                     | -0.465847740                   | 0.465847740                    | 0.14438933                     |\n",
       "| 72 | freqativ.4                     |  0.019279466                   | 0.019279466                    | 0.94752656                     |\n",
       "| 3 | fumante_p050                   | -0.196767887                   | 0.196767887                    | 0.09335981                     |\n",
       "| 78 | imcclass.2                     | -0.616384178                   | 0.616384178                    | 0.12409312                     |\n",
       "| 82 | imcclass.6                     | -0.213017285                   | 0.213017285                    | 0.33691251                     |\n",
       "| 7 | insuficiencia_renal_q124       |  0.252670893                   | 0.252670893                    | 0.15353833                     |\n",
       "| 33 | refrigerante_suco_p020.0       |  0.120066945                   | 0.120066945                    | 0.30519700                     |\n",
       "| 34 | refrigerante_suco_p020.1       |  0.124524665                   | 0.124524665                    | 0.33317281                     |\n",
       "| 35 | refrigerante_suco_p020.2       |  0.032980710                   | 0.032980710                    | 0.81102973                     |\n",
       "| 37 | refrigerante_suco_p020.4       |  0.145636668                   | 0.145636668                    | 0.48874059                     |\n",
       "| 38 | refrigerante_suco_p020.5       |  0.346595081                   | 0.346595081                    | 0.19119480                     |\n",
       "| 39 | refrigerante_suco_p020.6       | -0.066591780                   | 0.066591780                    | 0.75606144                     |\n",
       "| 48 | substitui_refeicoes_p026.1     | -0.133909910                   | 0.133909910                    | 0.47171660                     |\n",
       "| 49 | substitui_refeicoes_p026.2     | -0.204717484                   | 0.204717484                    | 0.33098217                     |\n",
       "| 50 | substitui_refeicoes_p026.3     | -0.409181860                   | 0.409181860                    | 0.09752548                     |\n",
       "| 51 | substitui_refeicoes_p026.4     | -0.613544983                   | 0.613544983                    | 0.07183241                     |\n",
       "| 52 | substitui_refeicoes_p026.5     | -0.273256652                   | 0.273256652                    | 0.50230981                     |\n",
       "\n"
      ],
      "text/plain": [
       "   keyName                        value        COEFF_ABS   p_value   \n",
       "1  (Intercept)                    -0.646408421 0.646408421 0.57715474\n",
       "43 alimentos_doces_p025.3          0.009676616 0.009676616 0.95983622\n",
       "44 alimentos_doces_p025.4          0.313013307 0.313013307 0.16150626\n",
       "45 alimentos_doces_p025.5         -0.124135047 0.124135047 0.58313819\n",
       "46 alimentos_doces_p025.6         -0.027345357 0.027345357 0.92030946\n",
       "54 bebida_alcoolica_p028.0         0.344175699 0.344175699 0.18926005\n",
       "55 bebida_alcoolica_p028.1         0.038255459 0.038255459 0.89476968\n",
       "56 bebida_alcoolica_p028.2        -0.169676906 0.169676906 0.56367787\n",
       "58 bebida_alcoolica_p028.4        -0.391613460 0.391613460 0.44860059\n",
       "59 bebida_alcoolica_p028.5        -0.033027753 0.033027753 0.94598335\n",
       "60 bebida_alcoolica_p028.6        -0.020460614 0.020460614 0.97286052\n",
       "30 come_frutas_p018.4             -0.170828011 0.170828011 0.22339942\n",
       "31 come_frutas_p018.5             -0.166635622 0.166635622 0.22371412\n",
       "32 come_frutas_p018.6             -0.240519794 0.240519794 0.07587724\n",
       "19 come_verduras_p009.0           -0.032714433 0.032714433 0.78138863\n",
       "20 come_verduras_p009.1            0.021450532 0.021450532 0.85846704\n",
       "21 come_verduras_p009.2            0.037343792 0.037343792 0.71886120\n",
       "22 come_verduras_p009.3            0.154369331 0.154369331 0.14964449\n",
       "23 come_verduras_p009.4           -0.134958413 0.134958413 0.31432093\n",
       "24 come_verduras_p009.5            0.090018364 0.090018364 0.54425263\n",
       "25 come_verduras_p009.6           -0.122724223 0.122724223 0.44083247\n",
       "61 dias_semana_ativ_fisica_p035.0  0.056788458 0.056788458 0.74368433\n",
       "62 dias_semana_ativ_fisica_p035.1 -0.243260018 0.243260018 0.34539790\n",
       "63 dias_semana_ativ_fisica_p035.2 -0.103758895 0.103758895 0.66961712\n",
       "64 dias_semana_ativ_fisica_p035.3  0.082341386 0.082341386 0.70456160\n",
       "65 dias_semana_ativ_fisica_p035.4  0.019208816 0.019208816 0.94671007\n",
       "66 dias_semana_ativ_fisica_p035.5  0.026980219 0.026980219 0.91301725\n",
       "67 dias_semana_ativ_fisica_p035.6 -0.223647325 0.223647325 0.58394085\n",
       "14 faixa_escolaridade.0            0.723333918 0.723333918 0.09566489\n",
       "15 faixa_escolaridade.1            0.681793978 0.681793978 0.11322213\n",
       "16 faixa_escolaridade.2            0.694334324 0.694334324 0.10761167\n",
       "17 faixa_escolaridade.3            0.449797272 0.449797272 0.30242692\n",
       "18 faixa_escolaridade.4            0.634863349 0.634863349 0.33102341\n",
       "68 freqativ.0                      0.085432846 0.085432846 0.57061998\n",
       "69 freqativ.1                      0.369436703 0.369436703 0.29079941\n",
       "70 freqativ.2                     -0.070801407 0.070801407 0.75118281\n",
       "71 freqativ.3                     -0.465847740 0.465847740 0.14438933\n",
       "72 freqativ.4                      0.019279466 0.019279466 0.94752656\n",
       "3  fumante_p050                   -0.196767887 0.196767887 0.09335981\n",
       "78 imcclass.2                     -0.616384178 0.616384178 0.12409312\n",
       "82 imcclass.6                     -0.213017285 0.213017285 0.33691251\n",
       "7  insuficiencia_renal_q124        0.252670893 0.252670893 0.15353833\n",
       "33 refrigerante_suco_p020.0        0.120066945 0.120066945 0.30519700\n",
       "34 refrigerante_suco_p020.1        0.124524665 0.124524665 0.33317281\n",
       "35 refrigerante_suco_p020.2        0.032980710 0.032980710 0.81102973\n",
       "37 refrigerante_suco_p020.4        0.145636668 0.145636668 0.48874059\n",
       "38 refrigerante_suco_p020.5        0.346595081 0.346595081 0.19119480\n",
       "39 refrigerante_suco_p020.6       -0.066591780 0.066591780 0.75606144\n",
       "48 substitui_refeicoes_p026.1     -0.133909910 0.133909910 0.47171660\n",
       "49 substitui_refeicoes_p026.2     -0.204717484 0.204717484 0.33098217\n",
       "50 substitui_refeicoes_p026.3     -0.409181860 0.409181860 0.09752548\n",
       "51 substitui_refeicoes_p026.4     -0.613544983 0.613544983 0.07183241\n",
       "52 substitui_refeicoes_p026.5     -0.273256652 0.273256652 0.50230981"
      ]
     },
     "metadata": {},
     "output_type": "display_data"
    }
   ],
   "source": [
    "df_modelb_r = df_modelb[df_modelb$p_value >= 0.06, ]\n",
    "df_modelb_r[order(df_modelb_r$keyName),]"
   ]
  },
  {
   "cell_type": "markdown",
   "metadata": {},
   "source": [
    "#### Variáveis que serão removidas\n",
    "\n",
    "* <b>Consumo de verduras(p009):</b> variável que será removida do modelo pela regra de remoção.\n",
    "\n",
    "* <b>Dias da semana de atividade física(p035):</b> variável que será removida do modelo por ter todas suas classes passando pela regra de remoção.\n",
    "\n",
    "* <b>Faixa de escolaridade(p035):</b> variável que será removida do modelo por ter todas suas classes passando pela regra de remoção.\n",
    "\n",
    "* <b>Frequência de atividade física:</b> variável que será removida do modelo por ter todas suas classes passando pela regra de remoção.\n",
    "\n",
    "* <b>Fumante(p050):</b> variável que será removida do modelo pela regra de remoção.\n",
    "\n",
    "* <b>Insuficiência Renal(q124):</b> variável que será removida do modelo pela regra de remoção.\n",
    "\n",
    "* <b>Consumo de Refrigerante e Suco industrializado(p020):</b> variável que será removida do modelo por ter todas suas classes passando pela regra de remoção.\n",
    "\n",
    "Outras variáveis terão somente algumas de suas classes removidas."
   ]
  },
  {
   "cell_type": "code",
   "execution_count": 27,
   "metadata": {},
   "outputs": [],
   "source": [
    "droplist1 <- df_modelb[df_modelb$p_value >= 0.06, 1] \n",
    "\n",
    "df2 = df\n",
    "df2$variables <- df2$variables[, !colnames(df2$variables) %in% droplist1]"
   ]
  },
  {
   "cell_type": "markdown",
   "metadata": {},
   "source": [
    "#### Variáveis reorganizadas"
   ]
  },
  {
   "cell_type": "markdown",
   "metadata": {},
   "source": [
    "Como o comportamento de algumas variáveis mostrou que algumas de suas classes em sequência teve importância para o modelo, elas serão reorganizadas para identificar essa diferenciação:\n",
    "\n",
    "* <b>Consumo de alimentos doces(p025):</b> dessa variável, apenas os consumos menores que 3 vezes por semanas estão contribuindo para o modelo, e por se adequar na primeira regra de reorganização, iremos alterar para a seguinte classificação:\n",
    "\n",
    "Variável    |      Classes anteriores    | Novas Classes    | \n",
    "------------------|-----------------------------------|---------------\n",
    "Consumo de alimentos doces(p025)| 0, 1, 2, 3, 4, 5, 6 e 7 vezes por semana | 1: <= 2 vezes por semana <br> 0: > 2 vezes por semana   \n"
   ]
  },
  {
   "cell_type": "code",
   "execution_count": 28,
   "metadata": {},
   "outputs": [],
   "source": [
    "drop_new = c('alimentos_doces_p025.0', 'alimentos_doces_p025.1', 'alimentos_doces_p025.2')\n",
    "df2$variables <- df2$variables[, !colnames(df2$variables) %in% drop_new]"
   ]
  },
  {
   "cell_type": "code",
   "execution_count": 29,
   "metadata": {},
   "outputs": [],
   "source": [
    "df2$variables$alimentos_doces_p025 = pns_design_srvyr$variables$p025\n",
    "df2 <- df2 %>% \n",
    "     mutate(alimentos_doces_p025 = case_when(alimentos_doces_p025 <= 2 ~ 1,\n",
    "                                             alimentos_doces_p025 > 2 ~ 0))"
   ]
  },
  {
   "cell_type": "markdown",
   "metadata": {},
   "source": [
    "* <b>Consumo de frutas(p009):</b> dessa variável, apenas o consumo menor que 4 vezes por semana contribui para o modelo, e por se adequar a regra de reorganização 2, terá a seguinte classificação>\n",
    "\n",
    "Variável    |      Classes anteriores    | Novas Classes    | \n",
    "------------------|-----------------------------------|---------------\n",
    "Consumo de Frutas(p009)| 0, 1, 2, 3, 4, 5, 6 e 7 vezes por semana | 1: >= 4 vezes por semana <br> 0: < 4 vezes por semana "
   ]
  },
  {
   "cell_type": "code",
   "execution_count": 30,
   "metadata": {},
   "outputs": [],
   "source": [
    "drop_new = c('come_frutas_p018.0', 'come_frutas_p018.1', 'come_frutas_p018.2', 'come_frutas_p018.3')\n",
    "df2$variables <- df2$variables[, !colnames(df2$variables) %in% drop_new]"
   ]
  },
  {
   "cell_type": "code",
   "execution_count": 31,
   "metadata": {},
   "outputs": [],
   "source": [
    "df2$variables$come_frutas_p018 = pns_design_srvyr$variables$p018\n",
    "df2 <- df2 %>% \n",
    "     mutate(come_frutas_p018 = case_when(come_frutas_p018 >= 4 ~ 1,\n",
    "                                             come_frutas_p018 < 4 ~ 0))"
   ]
  },
  {
   "cell_type": "markdown",
   "metadata": {},
   "source": [
    "* <b>Faixa Etária:</b> dessa variável, todas elas tiveram um resultado negativo. Com o uso da regra 4 de reorganização, e como mostrado nas tabulações a faixa etaria > 50 tem mais chance de ser diabético, então faremos a segunte transformação:\n",
    "\n",
    "Variável    |      Classes anteriores    | Novas Classes    | \n",
    "------------------|-----------------------------------|---------------\n",
    "Faixa Etária | 18, 22, 32, 50 e 60 | 1: > faixa etária de 50 <br> 0: <= faixa etária de 50"
   ]
  },
  {
   "cell_type": "code",
   "execution_count": 32,
   "metadata": {},
   "outputs": [],
   "source": [
    "drop_new = c(\"fxetaria.18\", \"fxetaria.22\", \"fxetaria.32\", \"fxetaria.50\")\n",
    "df2$variables <- df2$variables[, !colnames(df2$variables) %in% drop_new]"
   ]
  },
  {
   "cell_type": "code",
   "execution_count": 33,
   "metadata": {},
   "outputs": [],
   "source": [
    "df2$variables$fxetaria = pns_design_srvyr$variables$fxetaria\n",
    "df2 <- df2 %>% \n",
    "     mutate(fxetaria = case_when(fxetaria == \"60\" ~ 1,\n",
    "                                 fxetaria == \"50\" | fxetaria == \"32\" | fxetaria == \"28\" | fxetaria == \"12\" | fxetaria == \"7\" ~ 0))"
   ]
  },
  {
   "cell_type": "code",
   "execution_count": 34,
   "metadata": {},
   "outputs": [],
   "source": [
    "df2$variables = df2$variables[,c(c(1:18), c(20, 21, 22, 19))]"
   ]
  },
  {
   "cell_type": "markdown",
   "metadata": {
    "lines_to_next_cell": 0
   },
   "source": [
    "### Segundo modelo:"
   ]
  },
  {
   "cell_type": "markdown",
   "metadata": {},
   "source": [
    "Sem as variáveis com p_value maior que 0.05 e outras reorganizadas criamos mais um modelo."
   ]
  },
  {
   "cell_type": "code",
   "execution_count": 69,
   "metadata": {},
   "outputs": [
    {
     "name": "stderr",
     "output_type": "stream",
     "text": [
      "Warning message in eval(family$initialize):\n",
      "\"non-integer #successes in a binomial glm!\""
     ]
    },
    {
     "name": "stdout",
     "output_type": "stream",
     "text": [
      "\n",
      "Call:\n",
      "svyglm(formula = as.formula(fla), design = df, family = \"binomial\")\n",
      "\n",
      "Survey design:\n",
      "subset(df, diagnostico_diabetes_q030 != \" \" & diagnostico_diabetes_q030 != \n",
      "    2 & pressao_alta_q002 != \" \" & colesterol_alto_q060 != \" \")\n",
      "\n",
      "Coefficients:\n",
      "                           Estimate Std. Error t value Pr(>|t|)    \n",
      "(Intercept)                -1.11980    0.96789  -1.157 0.247347    \n",
      "sexo_c006                   0.03102    0.08169   0.380 0.704141    \n",
      "pressao_alta_q002           1.08735    0.07462  14.571  < 2e-16 ***\n",
      "colesterol_alto_q060        0.75320    0.07425  10.145  < 2e-16 ***\n",
      "avc_q068                    0.44383    0.14599   3.040 0.002376 ** \n",
      "ja_ficou_gravida_r039      -0.46644    0.10908  -4.276 1.94e-05 ***\n",
      "cor_raca_c009.1            -2.67984    0.95484  -2.807 0.005025 ** \n",
      "cor_raca_c009.2            -2.55789    0.96291  -2.656 0.007920 ** \n",
      "cor_raca_c009.3            -2.75431    1.01941  -2.702 0.006917 ** \n",
      "cor_raca_c009.4            -2.74934    0.95570  -2.877 0.004033 ** \n",
      "cor_raca_c009.5            -2.43639    1.02816  -2.370 0.017839 *  \n",
      "refrigerante_suco_p020.3    0.13101    0.16028   0.817 0.413737    \n",
      "substitui_refeicoes_p026.0  0.07000    0.06886   1.017 0.309377    \n",
      "substitui_refeicoes_p026.6 -1.12565    0.43789  -2.571 0.010178 *  \n",
      "bebida_alcoolica_p028.3    -1.00040    0.28202  -3.547 0.000393 ***\n",
      "imcclass.1                 -0.81470    0.48881  -1.667 0.095633 .  \n",
      "imcclass.3                 -0.73488    0.10838  -6.781 1.32e-11 ***\n",
      "imcclass.4                 -0.47352    0.10585  -4.473 7.86e-06 ***\n",
      "imcclass.5                 -0.19844    0.11523  -1.722 0.085103 .  \n",
      "alimentos_doces_p025        0.98795    0.08789  11.240  < 2e-16 ***\n",
      "come_frutas_p018            0.28482    0.07177   3.969 7.32e-05 ***\n",
      "fxetaria                    0.86463    0.08157  10.600  < 2e-16 ***\n",
      "---\n",
      "Signif. codes:  0 '***' 0.001 '**' 0.01 '*' 0.05 '.' 0.1 ' ' 1\n",
      "\n",
      "(Dispersion parameter for binomial family taken to be 0.82904)\n",
      "\n",
      "Number of Fisher Scoring iterations: 6\n",
      "\n"
     ]
    }
   ],
   "source": [
    "model2 <- construir_modelo(df2)\n",
    "\n",
    "print(summary(model2))\n",
    "\n",
    "df_model2 = ordenar_pvalue(model2)"
   ]
  },
  {
   "cell_type": "markdown",
   "metadata": {},
   "source": [
    "### Variáveis com p_value maior que 0.05:"
   ]
  },
  {
   "cell_type": "code",
   "execution_count": 70,
   "metadata": {
    "tags": [
     "remove_input"
    ]
   },
   "outputs": [
    {
     "data": {
      "text/html": [
       "<table>\n",
       "<thead><tr><th></th><th scope=col>keyName</th><th scope=col>value</th><th scope=col>COEFF_ABS</th><th scope=col>p_value</th></tr></thead>\n",
       "<tbody>\n",
       "\t<tr><th scope=row>2</th><td>sexo_c006                 </td><td> 0.03102081               </td><td>0.03102081                </td><td>0.70414052                </td></tr>\n",
       "\t<tr><th scope=row>13</th><td>substitui_refeicoes_p026.0</td><td> 0.07000150               </td><td>0.07000150                </td><td>0.30937666                </td></tr>\n",
       "\t<tr><th scope=row>12</th><td>refrigerante_suco_p020.3  </td><td> 0.13101075               </td><td>0.13101075                </td><td>0.41373661                </td></tr>\n",
       "\t<tr><th scope=row>19</th><td>imcclass.5                </td><td>-0.19844351               </td><td>0.19844351                </td><td>0.08510337                </td></tr>\n",
       "\t<tr><th scope=row>16</th><td>imcclass.1                </td><td>-0.81470061               </td><td>0.81470061                </td><td>0.09563261                </td></tr>\n",
       "\t<tr><th scope=row>1</th><td>(Intercept)               </td><td>-1.11979608               </td><td>1.11979608                </td><td>0.24734665                </td></tr>\n",
       "</tbody>\n",
       "</table>\n"
      ],
      "text/latex": [
       "\\begin{tabular}{r|llll}\n",
       "  & keyName & value & COEFF\\_ABS & p\\_value\\\\\n",
       "\\hline\n",
       "\t2 & sexo\\_c006                  &  0.03102081                  & 0.03102081                   & 0.70414052                  \\\\\n",
       "\t13 & substitui\\_refeicoes\\_p026.0 &  0.07000150                    & 0.07000150                     & 0.30937666                    \\\\\n",
       "\t12 & refrigerante\\_suco\\_p020.3   &  0.13101075                    & 0.13101075                     & 0.41373661                    \\\\\n",
       "\t19 & imcclass.5                 & -0.19844351                & 0.19844351                 & 0.08510337                \\\\\n",
       "\t16 & imcclass.1                 & -0.81470061                & 0.81470061                 & 0.09563261                \\\\\n",
       "\t1 & (Intercept)                & -1.11979608                & 1.11979608                 & 0.24734665                \\\\\n",
       "\\end{tabular}\n"
      ],
      "text/markdown": [
       "\n",
       "| <!--/--> | keyName | value | COEFF_ABS | p_value |\n",
       "|---|---|---|---|---|\n",
       "| 2 | sexo_c006                  |  0.03102081                | 0.03102081                 | 0.70414052                 |\n",
       "| 13 | substitui_refeicoes_p026.0 |  0.07000150                | 0.07000150                 | 0.30937666                 |\n",
       "| 12 | refrigerante_suco_p020.3   |  0.13101075                | 0.13101075                 | 0.41373661                 |\n",
       "| 19 | imcclass.5                 | -0.19844351                | 0.19844351                 | 0.08510337                 |\n",
       "| 16 | imcclass.1                 | -0.81470061                | 0.81470061                 | 0.09563261                 |\n",
       "| 1 | (Intercept)                | -1.11979608                | 1.11979608                 | 0.24734665                 |\n",
       "\n"
      ],
      "text/plain": [
       "   keyName                    value       COEFF_ABS  p_value   \n",
       "2  sexo_c006                   0.03102081 0.03102081 0.70414052\n",
       "13 substitui_refeicoes_p026.0  0.07000150 0.07000150 0.30937666\n",
       "12 refrigerante_suco_p020.3    0.13101075 0.13101075 0.41373661\n",
       "19 imcclass.5                 -0.19844351 0.19844351 0.08510337\n",
       "16 imcclass.1                 -0.81470061 0.81470061 0.09563261\n",
       "1  (Intercept)                -1.11979608 1.11979608 0.24734665"
      ]
     },
     "metadata": {},
     "output_type": "display_data"
    }
   ],
   "source": [
    "df_model2[df_model2$p_value >= 0.06, ]"
   ]
  },
  {
   "cell_type": "markdown",
   "metadata": {},
   "source": [
    "#### Variáveis que serão removidas\n",
    "\n",
    "* <b>Sexo(p006):</b> variável que será removida do modelo por ter todas suas classes com p_value > 0,05.\n",
    "\n",
    "Outras variáveis terão somente algums de suas classes removidas."
   ]
  },
  {
   "cell_type": "code",
   "execution_count": 171,
   "metadata": {},
   "outputs": [],
   "source": [
    "droplist2 <- df_model2[df_model2$p_value >= 0.06, 1] \n",
    "\n",
    "df3 = df2\n",
    "df3$variables <- df3$variables[, !colnames(df3$variables) %in% droplist2]"
   ]
  },
  {
   "cell_type": "markdown",
   "metadata": {},
   "source": [
    "#### Variáveis reorganizadas"
   ]
  },
  {
   "cell_type": "markdown",
   "metadata": {},
   "source": [
    "Como o comportamento de algumas variáveis mostrou que algumas de suas classes em sequência teve importância para o modelo, elas serão reorganizadas para identificar essa diferenciação:\n",
    "\n",
    "* <b>Consumo de bebidas alcoolicas(p028):</b> dessa variável, apenas os consumos de 3 vezes por semanas está contribuindo para o modelo e com a regra de reorganização 2 iremos alterar para a seguinte classificação:\n",
    "\n",
    "Variável    |      Classes anteriores    | Novas Classes    | \n",
    "------------------|-----------------------------------|---------------\n",
    "  bebida_alcoolica(p028) | 0, 1, 2, 3, 4, 5, 6 e 7 vezes por semana | 1: < 3 vezes por semana <br> 0: >= 3 vezes por semana  \n"
   ]
  },
  {
   "cell_type": "code",
   "execution_count": 172,
   "metadata": {},
   "outputs": [],
   "source": [
    "drop_new = c('bebida_alcoolica_p028.3')\n",
    "df3$variables <- df3$variables[, !colnames(df3$variables) %in% drop_new]"
   ]
  },
  {
   "cell_type": "code",
   "execution_count": 173,
   "metadata": {},
   "outputs": [],
   "source": [
    "df3$variables$bebida_alcoolica_p028 = pns_design_srvyr$variables$p028\n",
    "df3 <- df3 %>% \n",
    "     mutate(bebida_alcoolica_p028 = case_when(bebida_alcoolica_p028 < 3 ~ 1,\n",
    "                                             bebida_alcoolica_p028 >= 3 ~ 0,\n",
    "                                             is.na(bebida_alcoolica_p028) ~ 1 ))"
   ]
  },
  {
   "cell_type": "markdown",
   "metadata": {},
   "source": [
    "* <b>IMC</b> dessa variável, duas classes estão contribuindo para o modelo, pela regra número 4 de reorganização e pelos estudos médicos indicarem que a partir do IMC 4 as pessoas estão em um grupo de risco, iremos alterar para a seguinte classificação:\n",
    "\n",
    "Variável    |      Classes anteriores    | Novas Classes    | \n",
    "------------------|-----------------------------------|---------------\n",
    "  IMC | 1, 2, 3, 4, 5, 6 e 7 | 1 >= 4 <br> 0 < 4"
   ]
  },
  {
   "cell_type": "code",
   "execution_count": 174,
   "metadata": {},
   "outputs": [],
   "source": [
    "drop_new = c('imcclass.4', \"imcclass.3\")\n",
    "df3$variables <- df3$variables[, !colnames(df3$variables) %in% drop_new]"
   ]
  },
  {
   "cell_type": "code",
   "execution_count": 175,
   "metadata": {},
   "outputs": [],
   "source": [
    "df3$variables$imcclass = pns_design_srvyr$variables$imcclass\n",
    "df3 <- df3 %>% \n",
    "     mutate(imcclass = case_when(imcclass == \"4\" | imcclass == \"5\" | imcclass == \"6\" | imcclass == \"7\" ~ 1,\n",
    "                                 imcclass == \"1\" | imcclass == \"2\" | imcclass == \"3\" ~ 0,\n",
    "                                 is.na(imcclass) ~ 0))"
   ]
  },
  {
   "cell_type": "code",
   "execution_count": 176,
   "metadata": {},
   "outputs": [],
   "source": [
    "df3$variables = df3$variables[,c(c(1:13), c(15, 16, 14))]"
   ]
  },
  {
   "cell_type": "markdown",
   "metadata": {},
   "source": [
    "### Terceiro Modelo"
   ]
  },
  {
   "cell_type": "markdown",
   "metadata": {},
   "source": [
    "Sem as variáveis com p_value maior que 0.05 do segundo modelo criamos mais um modelo."
   ]
  },
  {
   "cell_type": "code",
   "execution_count": 177,
   "metadata": {},
   "outputs": [
    {
     "name": "stderr",
     "output_type": "stream",
     "text": [
      "Warning message in eval(family$initialize):\n",
      "\"non-integer #successes in a binomial glm!\""
     ]
    },
    {
     "name": "stdout",
     "output_type": "stream",
     "text": [
      "\n",
      "Call:\n",
      "svyglm(formula = as.formula(fla), design = df, family = \"binomial\")\n",
      "\n",
      "Survey design:\n",
      "subset(df, diagnostico_diabetes_q030 != \" \" & diagnostico_diabetes_q030 != \n",
      "    2 & pressao_alta_q002 != \" \" & colesterol_alto_q060 != \" \")\n",
      "\n",
      "Coefficients:\n",
      "                           Estimate Std. Error t value Pr(>|t|)    \n",
      "(Intercept)                -2.14273    0.96751  -2.215 0.026823 *  \n",
      "pressao_alta_q002           1.13080    0.07407  15.267  < 2e-16 ***\n",
      "colesterol_alto_q060        0.75129    0.07376  10.185  < 2e-16 ***\n",
      "avc_q068                    0.44849    0.14589   3.074 0.002121 ** \n",
      "ja_ficou_gravida_r039      -0.44231    0.10095  -4.382 1.20e-05 ***\n",
      "cor_raca_c009.1            -2.78670    0.94993  -2.934 0.003365 ** \n",
      "cor_raca_c009.2            -2.64105    0.95655  -2.761 0.005781 ** \n",
      "cor_raca_c009.3            -2.91332    1.01338  -2.875 0.004058 ** \n",
      "cor_raca_c009.4            -2.86171    0.95071  -3.010 0.002624 ** \n",
      "cor_raca_c009.5            -2.53570    1.02152  -2.482 0.013085 *  \n",
      "substitui_refeicoes_p026.6 -1.24306    0.44876  -2.770 0.005624 ** \n",
      "alimentos_doces_p025        0.99350    0.08714  11.401  < 2e-16 ***\n",
      "come_frutas_p018            0.27562    0.07363   3.744 0.000183 ***\n",
      "fxetaria                    0.85682    0.08018  10.687  < 2e-16 ***\n",
      "bebida_alcoolica_p028       0.47006    0.16331   2.878 0.004012 ** \n",
      "imcclass                    0.40656    0.06983   5.822 6.14e-09 ***\n",
      "---\n",
      "Signif. codes:  0 '***' 0.001 '**' 0.01 '*' 0.05 '.' 0.1 ' ' 1\n",
      "\n",
      "(Dispersion parameter for binomial family taken to be 0.828058)\n",
      "\n",
      "Number of Fisher Scoring iterations: 6\n",
      "\n"
     ]
    }
   ],
   "source": [
    "model3 <- construir_modelo(df3)\n",
    "\n",
    "print(summary(model3))\n",
    "\n",
    "df_model3 = ordenar_pvalue(model3)"
   ]
  },
  {
   "cell_type": "markdown",
   "metadata": {},
   "source": [
    "### Variáveis com p_value maior que 0.05:\n",
    "\n",
    "Nenhuma variável será removida."
   ]
  },
  {
   "cell_type": "code",
   "execution_count": 178,
   "metadata": {
    "tags": [
     "remove_input"
    ]
   },
   "outputs": [
    {
     "data": {
      "text/html": [
       "<table>\n",
       "<thead><tr><th scope=col>keyName</th><th scope=col>value</th><th scope=col>COEFF_ABS</th><th scope=col>p_value</th></tr></thead>\n",
       "<tbody>\n",
       "</tbody>\n",
       "</table>\n"
      ],
      "text/latex": [
       "\\begin{tabular}{r|llll}\n",
       " keyName & value & COEFF\\_ABS & p\\_value\\\\\n",
       "\\hline\n",
       "\\end{tabular}\n"
      ],
      "text/markdown": [
       "\n",
       "| keyName | value | COEFF_ABS | p_value |\n",
       "|---|---|---|---|\n",
       "\n"
      ],
      "text/plain": [
       "     keyName value COEFF_ABS p_value"
      ]
     },
     "metadata": {},
     "output_type": "display_data"
    }
   ],
   "source": [
    "df_model3[df_model3$p_value >= 0.06, ]"
   ]
  },
  {
   "cell_type": "code",
   "execution_count": 184,
   "metadata": {},
   "outputs": [],
   "source": [
    "droplist3 <- df_model3[df_model3$p_value >= 0.06, 1] \n",
    "\n",
    "df4 = df3\n",
    "df4$variables <- df4$variables[, !colnames(df4$variables) %in% droplist3]"
   ]
  },
  {
   "cell_type": "markdown",
   "metadata": {},
   "source": [
    "#### Variáveis reorganizadas\n",
    "\n",
    "* <b>Substitui refeições por lanche(p026):</b> dessa variável, apenas os consumos de 6 vezes por semanas está contribuindo para o modelo, e com a regra de reorganização 3, iremos alterar para a seguinte classificação:\n",
    "\n",
    "Variável    |      Classes anteriores    | Novas Classes    | \n",
    "------------------|-----------------------------------|---------------\n",
    "  substitui_refeicoes_p026(p026) | 0, 1, 2, 3, 4, 5, 6 e 7 vezes por semana | 1: < 6 vezes por semana <br> 0: > 6 vezes por semana  "
   ]
  },
  {
   "cell_type": "code",
   "execution_count": 185,
   "metadata": {},
   "outputs": [],
   "source": [
    "drop_new = c('substitui_refeicoes_p026.6')\n",
    "df3$variables <- df3$variables[, !colnames(df3$variables) %in% drop_new]"
   ]
  },
  {
   "cell_type": "code",
   "execution_count": 186,
   "metadata": {},
   "outputs": [],
   "source": [
    "df4$variables$substitui_refeicoes_p026 = pns_design_srvyr$variables$p026\n",
    "df4 <- df4 %>% \n",
    "     mutate(substitui_refeicoes_p026 = case_when(substitui_refeicoes_p026 < 6 ~ 1,\n",
    "                                 substitui_refeicoes_p026 >= 6 ~ 0))"
   ]
  },
  {
   "cell_type": "code",
   "execution_count": 189,
   "metadata": {},
   "outputs": [],
   "source": [
    "df4$variables = df4$variables[,c(c(1:14), c(16, 15))]"
   ]
  },
  {
   "cell_type": "markdown",
   "metadata": {},
   "source": [
    "### Quarto Modelo"
   ]
  },
  {
   "cell_type": "markdown",
   "metadata": {},
   "source": [
    "Ultimo modelo criado com todas as variáveis com um p_value menor que 0.05."
   ]
  },
  {
   "cell_type": "code",
   "execution_count": 191,
   "metadata": {},
   "outputs": [
    {
     "name": "stderr",
     "output_type": "stream",
     "text": [
      "Warning message in eval(family$initialize):\n",
      "\"non-integer #successes in a binomial glm!\""
     ]
    },
    {
     "name": "stdout",
     "output_type": "stream",
     "text": [
      "\n",
      "Call:\n",
      "svyglm(formula = as.formula(fla), design = df, family = \"binomial\")\n",
      "\n",
      "Survey design:\n",
      "subset(df, diagnostico_diabetes_q030 != \" \" & diagnostico_diabetes_q030 != \n",
      "    2 & pressao_alta_q002 != \" \" & colesterol_alto_q060 != \" \")\n",
      "\n",
      "Coefficients:\n",
      "                         Estimate Std. Error t value Pr(>|t|)    \n",
      "(Intercept)              -2.04979    0.98135  -2.089 0.036776 *  \n",
      "pressao_alta_q002         1.12734    0.07402  15.231  < 2e-16 ***\n",
      "colesterol_alto_q060      0.74925    0.07408  10.114  < 2e-16 ***\n",
      "avc_q068                  0.44717    0.14612   3.060 0.002221 ** \n",
      "ja_ficou_gravida_r039    -0.44546    0.10075  -4.421 9.99e-06 ***\n",
      "cor_raca_c009.1          -2.79949    0.95015  -2.946 0.003229 ** \n",
      "cor_raca_c009.2          -2.65014    0.95675  -2.770 0.005626 ** \n",
      "cor_raca_c009.3          -2.91757    1.01325  -2.879 0.004000 ** \n",
      "cor_raca_c009.4          -2.87095    0.95092  -3.019 0.002547 ** \n",
      "cor_raca_c009.5          -2.53896    1.02178  -2.485 0.012991 *  \n",
      "alimentos_doces_p025      1.00091    0.08809  11.362  < 2e-16 ***\n",
      "come_frutas_p018          0.27343    0.07331   3.730 0.000194 ***\n",
      "fxetaria                  0.85228    0.08034  10.609  < 2e-16 ***\n",
      "bebida_alcoolica_p028     0.46909    0.16302   2.878 0.004024 ** \n",
      "imcclass                  0.40336    0.07005   5.758 8.98e-09 ***\n",
      "substitui_refeicoes_p026 -0.08892    0.17110  -0.520 0.603285    \n",
      "---\n",
      "Signif. codes:  0 '***' 0.001 '**' 0.01 '*' 0.05 '.' 0.1 ' ' 1\n",
      "\n",
      "(Dispersion parameter for binomial family taken to be 0.8254211)\n",
      "\n",
      "Number of Fisher Scoring iterations: 6\n",
      "\n"
     ]
    }
   ],
   "source": [
    "model4 <- construir_modelo(df4)\n",
    "\n",
    "print(summary(model4))\n",
    "\n",
    "df_model4 = ordenar_pvalue(model4)"
   ]
  },
  {
   "cell_type": "markdown",
   "metadata": {},
   "source": [
    "### Variáveis com p_value maior que 0.05:"
   ]
  },
  {
   "cell_type": "code",
   "execution_count": 192,
   "metadata": {
    "tags": [
     "remove_input"
    ]
   },
   "outputs": [
    {
     "data": {
      "text/html": [
       "<table>\n",
       "<thead><tr><th></th><th scope=col>keyName</th><th scope=col>value</th><th scope=col>COEFF_ABS</th><th scope=col>p_value</th></tr></thead>\n",
       "<tbody>\n",
       "\t<tr><th scope=row>16</th><td>substitui_refeicoes_p026</td><td>-0.08892467             </td><td>0.08892467              </td><td>0.6032853               </td></tr>\n",
       "</tbody>\n",
       "</table>\n"
      ],
      "text/latex": [
       "\\begin{tabular}{r|llll}\n",
       "  & keyName & value & COEFF\\_ABS & p\\_value\\\\\n",
       "\\hline\n",
       "\t16 & substitui\\_refeicoes\\_p026 & -0.08892467                  & 0.08892467                   & 0.6032853                   \\\\\n",
       "\\end{tabular}\n"
      ],
      "text/markdown": [
       "\n",
       "| <!--/--> | keyName | value | COEFF_ABS | p_value |\n",
       "|---|---|---|---|---|\n",
       "| 16 | substitui_refeicoes_p026 | -0.08892467              | 0.08892467               | 0.6032853                |\n",
       "\n"
      ],
      "text/plain": [
       "   keyName                  value       COEFF_ABS  p_value  \n",
       "16 substitui_refeicoes_p026 -0.08892467 0.08892467 0.6032853"
      ]
     },
     "metadata": {},
     "output_type": "display_data"
    }
   ],
   "source": [
    "df_model4[df_model4$p_value >= 0.06, ]"
   ]
  },
  {
   "cell_type": "markdown",
   "metadata": {},
   "source": [
    "#### Variáveis que serão removidas\n",
    "\n",
    "* <b>substitui_refeicoes_p026:</b> variável reorganizada anteriormente, será removida do modelo por ter todas suas classes com p_value > 0,05.\n"
   ]
  },
  {
   "cell_type": "code",
   "execution_count": 193,
   "metadata": {},
   "outputs": [],
   "source": [
    "droplist4 <- df_model4[df_model4$p_value >= 0.06, 1] \n",
    "\n",
    "df5 = df4\n",
    "df5$variables <- df5$variables[, !colnames(df5$variables) %in% droplist4]"
   ]
  },
  {
   "cell_type": "markdown",
   "metadata": {},
   "source": [
    "### Quinto Modelo"
   ]
  },
  {
   "cell_type": "markdown",
   "metadata": {},
   "source": [
    "Quinto modelo criado com todas as variáveis com um p_value menor que 0.05."
   ]
  },
  {
   "cell_type": "code",
   "execution_count": 194,
   "metadata": {},
   "outputs": [
    {
     "name": "stderr",
     "output_type": "stream",
     "text": [
      "Warning message in eval(family$initialize):\n",
      "\"non-integer #successes in a binomial glm!\""
     ]
    },
    {
     "name": "stdout",
     "output_type": "stream",
     "text": [
      "\n",
      "Call:\n",
      "svyglm(formula = as.formula(fla), design = df, family = \"binomial\")\n",
      "\n",
      "Survey design:\n",
      "subset(df, diagnostico_diabetes_q030 != \" \" & diagnostico_diabetes_q030 != \n",
      "    2 & pressao_alta_q002 != \" \" & colesterol_alto_q060 != \" \")\n",
      "\n",
      "Coefficients:\n",
      "                      Estimate Std. Error t value Pr(>|t|)    \n",
      "(Intercept)           -2.13715    0.96764  -2.209 0.027243 *  \n",
      "pressao_alta_q002      1.12798    0.07393  15.258  < 2e-16 ***\n",
      "colesterol_alto_q060   0.74969    0.07411  10.116  < 2e-16 ***\n",
      "avc_q068               0.44613    0.14596   3.057 0.002249 ** \n",
      "ja_ficou_gravida_r039 -0.44474    0.10093  -4.407 1.07e-05 ***\n",
      "cor_raca_c009.1       -2.79422    0.95010  -2.941 0.003286 ** \n",
      "cor_raca_c009.2       -2.64746    0.95672  -2.767 0.005673 ** \n",
      "cor_raca_c009.3       -2.91398    1.01340  -2.875 0.004050 ** \n",
      "cor_raca_c009.4       -2.86769    0.95088  -3.016 0.002575 ** \n",
      "cor_raca_c009.5       -2.53673    1.02164  -2.483 0.013058 *  \n",
      "alimentos_doces_p025   0.99700    0.08717  11.437  < 2e-16 ***\n",
      "come_frutas_p018       0.27502    0.07360   3.737 0.000188 ***\n",
      "fxetaria               0.85311    0.08022  10.635  < 2e-16 ***\n",
      "bebida_alcoolica_p028  0.46864    0.16310   2.873 0.004077 ** \n",
      "imcclass               0.40383    0.07010   5.761 8.83e-09 ***\n",
      "---\n",
      "Signif. codes:  0 '***' 0.001 '**' 0.01 '*' 0.05 '.' 0.1 ' ' 1\n",
      "\n",
      "(Dispersion parameter for binomial family taken to be 0.8251198)\n",
      "\n",
      "Number of Fisher Scoring iterations: 6\n",
      "\n"
     ]
    }
   ],
   "source": [
    "model5 <- construir_modelo(df5)\n",
    "\n",
    "print(summary(model5))\n",
    "\n",
    "df_model5 = ordenar_pvalue(model5)"
   ]
  },
  {
   "cell_type": "markdown",
   "metadata": {},
   "source": [
    "#### Variáveis que ficaram no modelo:"
   ]
  },
  {
   "cell_type": "code",
   "execution_count": 196,
   "metadata": {},
   "outputs": [
    {
     "data": {
      "text/html": [
       "<table>\n",
       "<thead><tr><th></th><th scope=col>keyName</th><th scope=col>value</th><th scope=col>COEFF_ABS</th><th scope=col>p_value</th></tr></thead>\n",
       "<tbody>\n",
       "\t<tr><th scope=row>12</th><td>come_frutas_p018     </td><td> 0.2750179           </td><td>0.2750179            </td><td>1.884837e-04         </td></tr>\n",
       "\t<tr><th scope=row>15</th><td>imcclass             </td><td> 0.4038257           </td><td>0.4038257            </td><td>8.829543e-09         </td></tr>\n",
       "\t<tr><th scope=row>5</th><td>ja_ficou_gravida_r039</td><td>-0.4447364           </td><td>0.4447364            </td><td>1.070649e-05         </td></tr>\n",
       "\t<tr><th scope=row>4</th><td>avc_q068             </td><td> 0.4461331           </td><td>0.4461331            </td><td>2.249447e-03         </td></tr>\n",
       "\t<tr><th scope=row>14</th><td>bebida_alcoolica_p028</td><td> 0.4686398           </td><td>0.4686398            </td><td>4.076943e-03         </td></tr>\n",
       "\t<tr><th scope=row>3</th><td>colesterol_alto_q060 </td><td> 0.7496875           </td><td>0.7496875            </td><td>7.593754e-24         </td></tr>\n",
       "\t<tr><th scope=row>13</th><td>fxetaria             </td><td> 0.8531130           </td><td>0.8531130            </td><td>3.708668e-26         </td></tr>\n",
       "\t<tr><th scope=row>11</th><td>alimentos_doces_p025 </td><td> 0.9969975           </td><td>0.9969975            </td><td>5.993187e-30         </td></tr>\n",
       "\t<tr><th scope=row>2</th><td>pressao_alta_q002    </td><td> 1.1279780           </td><td>1.1279780            </td><td>1.660102e-51         </td></tr>\n",
       "\t<tr><th scope=row>1</th><td>(Intercept)          </td><td>-2.1371472           </td><td>2.1371472            </td><td>2.724251e-02         </td></tr>\n",
       "\t<tr><th scope=row>10</th><td>cor_raca_c009.5      </td><td>-2.5367309           </td><td>2.5367309            </td><td>1.305793e-02         </td></tr>\n",
       "\t<tr><th scope=row>7</th><td>cor_raca_c009.2      </td><td>-2.6474557           </td><td>2.6474557            </td><td>5.672733e-03         </td></tr>\n",
       "\t<tr><th scope=row>6</th><td>cor_raca_c009.1      </td><td>-2.7942161           </td><td>2.7942161            </td><td>3.285562e-03         </td></tr>\n",
       "\t<tr><th scope=row>9</th><td>cor_raca_c009.4      </td><td>-2.8676915           </td><td>2.8676915            </td><td>2.574667e-03         </td></tr>\n",
       "\t<tr><th scope=row>8</th><td>cor_raca_c009.3      </td><td>-2.9139774           </td><td>2.9139774            </td><td>4.050368e-03         </td></tr>\n",
       "</tbody>\n",
       "</table>\n"
      ],
      "text/latex": [
       "\\begin{tabular}{r|llll}\n",
       "  & keyName & value & COEFF\\_ABS & p\\_value\\\\\n",
       "\\hline\n",
       "\t12 & come\\_frutas\\_p018      &  0.2750179                & 0.2750179                 & 1.884837e-04             \\\\\n",
       "\t15 & imcclass              &  0.4038257            & 0.4038257             & 8.829543e-09         \\\\\n",
       "\t5 & ja\\_ficou\\_gravida\\_r039 & -0.4447364                  & 0.4447364                   & 1.070649e-05               \\\\\n",
       "\t4 & avc\\_q068              &  0.4461331              & 0.4461331               & 2.249447e-03           \\\\\n",
       "\t14 & bebida\\_alcoolica\\_p028 &  0.4686398                & 0.4686398                 & 4.076943e-03             \\\\\n",
       "\t3 & colesterol\\_alto\\_q060  &  0.7496875                & 0.7496875                 & 7.593754e-24             \\\\\n",
       "\t13 & fxetaria              &  0.8531130            & 0.8531130             & 3.708668e-26         \\\\\n",
       "\t11 & alimentos\\_doces\\_p025  &  0.9969975                & 0.9969975                 & 5.993187e-30             \\\\\n",
       "\t2 & pressao\\_alta\\_q002     &  1.1279780                & 1.1279780                 & 1.660102e-51             \\\\\n",
       "\t1 & (Intercept)           & -2.1371472            & 2.1371472             & 2.724251e-02         \\\\\n",
       "\t10 & cor\\_raca\\_c009.5       & -2.5367309                & 2.5367309                 & 1.305793e-02             \\\\\n",
       "\t7 & cor\\_raca\\_c009.2       & -2.6474557                & 2.6474557                 & 5.672733e-03             \\\\\n",
       "\t6 & cor\\_raca\\_c009.1       & -2.7942161                & 2.7942161                 & 3.285562e-03             \\\\\n",
       "\t9 & cor\\_raca\\_c009.4       & -2.8676915                & 2.8676915                 & 2.574667e-03             \\\\\n",
       "\t8 & cor\\_raca\\_c009.3       & -2.9139774                & 2.9139774                 & 4.050368e-03             \\\\\n",
       "\\end{tabular}\n"
      ],
      "text/markdown": [
       "\n",
       "| <!--/--> | keyName | value | COEFF_ABS | p_value |\n",
       "|---|---|---|---|---|\n",
       "| 12 | come_frutas_p018      |  0.2750179            | 0.2750179             | 1.884837e-04          |\n",
       "| 15 | imcclass              |  0.4038257            | 0.4038257             | 8.829543e-09          |\n",
       "| 5 | ja_ficou_gravida_r039 | -0.4447364            | 0.4447364             | 1.070649e-05          |\n",
       "| 4 | avc_q068              |  0.4461331            | 0.4461331             | 2.249447e-03          |\n",
       "| 14 | bebida_alcoolica_p028 |  0.4686398            | 0.4686398             | 4.076943e-03          |\n",
       "| 3 | colesterol_alto_q060  |  0.7496875            | 0.7496875             | 7.593754e-24          |\n",
       "| 13 | fxetaria              |  0.8531130            | 0.8531130             | 3.708668e-26          |\n",
       "| 11 | alimentos_doces_p025  |  0.9969975            | 0.9969975             | 5.993187e-30          |\n",
       "| 2 | pressao_alta_q002     |  1.1279780            | 1.1279780             | 1.660102e-51          |\n",
       "| 1 | (Intercept)           | -2.1371472            | 2.1371472             | 2.724251e-02          |\n",
       "| 10 | cor_raca_c009.5       | -2.5367309            | 2.5367309             | 1.305793e-02          |\n",
       "| 7 | cor_raca_c009.2       | -2.6474557            | 2.6474557             | 5.672733e-03          |\n",
       "| 6 | cor_raca_c009.1       | -2.7942161            | 2.7942161             | 3.285562e-03          |\n",
       "| 9 | cor_raca_c009.4       | -2.8676915            | 2.8676915             | 2.574667e-03          |\n",
       "| 8 | cor_raca_c009.3       | -2.9139774            | 2.9139774             | 4.050368e-03          |\n",
       "\n"
      ],
      "text/plain": [
       "   keyName               value      COEFF_ABS p_value     \n",
       "12 come_frutas_p018       0.2750179 0.2750179 1.884837e-04\n",
       "15 imcclass               0.4038257 0.4038257 8.829543e-09\n",
       "5  ja_ficou_gravida_r039 -0.4447364 0.4447364 1.070649e-05\n",
       "4  avc_q068               0.4461331 0.4461331 2.249447e-03\n",
       "14 bebida_alcoolica_p028  0.4686398 0.4686398 4.076943e-03\n",
       "3  colesterol_alto_q060   0.7496875 0.7496875 7.593754e-24\n",
       "13 fxetaria               0.8531130 0.8531130 3.708668e-26\n",
       "11 alimentos_doces_p025   0.9969975 0.9969975 5.993187e-30\n",
       "2  pressao_alta_q002      1.1279780 1.1279780 1.660102e-51\n",
       "1  (Intercept)           -2.1371472 2.1371472 2.724251e-02\n",
       "10 cor_raca_c009.5       -2.5367309 2.5367309 1.305793e-02\n",
       "7  cor_raca_c009.2       -2.6474557 2.6474557 5.672733e-03\n",
       "6  cor_raca_c009.1       -2.7942161 2.7942161 3.285562e-03\n",
       "9  cor_raca_c009.4       -2.8676915 2.8676915 2.574667e-03\n",
       "8  cor_raca_c009.3       -2.9139774 2.9139774 4.050368e-03"
      ]
     },
     "metadata": {},
     "output_type": "display_data"
    }
   ],
   "source": [
    "df_model5"
   ]
  },
  {
   "cell_type": "markdown",
   "metadata": {},
   "source": [
    "## Conclusão do modelo:\n",
    "\n",
    "Com os dados da PNS, feito em âmbito nacional, não é possível a criação de um modelo preditivo já que não temos os dados históricos das pessoas. \n",
    "\n",
    "Das variáveis utilizadas temos um modelo que demonstra o comportamento dos diabéticos no Brasil, observando como as pessoas estão se abstendo de hábitos considerados prejudiciais:\n",
    "\n",
    "* <b>Consumo de Frutas(p018):</b>  variável que indica o consumo de frutas por semana, ela foi reoganizada anteriormente para que o consumo maior ou igual a quatro vezes por semana ficasse com valor 1, e menor que 4 igual a 0. Seu coeficiente indica que os diabéticos tendem a consomir mais frutas, um sinal de um estilo de vida mais regrado.\n",
    "* <b>IMC:</b> variável que indica  índice de massa corporal para determinar se uma pessoa está com seu peso ideal. No modelo os valores 3(normal) e 4(sobrepeso) foram os únicos que ficaram dessa variável, então ela foi reorganizada para que valores acima ou igual a 4 seja 1 e abaixo seja 0. Com essa configuração o coeficiente ficou positivo, mostrando a tendência de pessoas diabéticas terem maior sobrepeso. \n",
    "* <b>Já ficou grávida(r039):</b> essa variável indica se uma mulher já ficou grávida, pela proporção de pessoas que ficaram grávidas e são diabéticas e não são diabéticas seu coeficiente mostrou essa tendência. ***** refazer análise\n",
    "* <b>Diagnóstico de AVC(q068):</b> variável que indica se uma pessoa já teve um AVC, tendo seu coeficiente positivo é um sinal de que os diabéticos também pode ter sofrido com esse problema.\n",
    "* <b>Consumo de Bebidas Alcoólicas(p028):</b> variável que indica o consumo de bebidas alcoólicas por semana. Ela foi reorganizada para que valores menores que 3 vezes por semana seja 1 e maiores ou iguais a 3 seja 0. Com o coeficiente positivo, as pessoas com diagnóstico de diabetes tendem a consumir menos bebidas alcoólicas, uma tendência junto a outros hábitos considerados prejudiciais.\n",
    "* <b>Colesterol Alto(q060):</b> variável que indica o diagnóstico de colesterol alto, sendo um problema decorrente da alimentação e o estilo de vida, e tendo um coeficiente positivo, é mais um ponto que pode ser indicador de diabéticos.\n",
    "* <b>Faixa Etária:</b> variável que indica a divisão da população pela idade, e foi reoganizada pela análise da proporção de diabéticos por esse valor e pelo aumento da probabilidade de ser diabético com o aumento da idade. Na nova classificação o valor 1 indica pessoas na faixa de 60+, e com o coeficiente positivo essa população mostrou estar em uma faixa de risco.\n",
    "* <b>Consumo de alimentos doces(p025):</b> variável de comportamento alimentar das pessoas, ela foi reorganizada para que valores menor ou igual a 2 vezes por semana fosse 1. Por ser um fator de constante atenção de suas vidas, os diabéticos tendem a consumir menos alimentos doces após seu diagnóstico. Pelo comportento da variável, o coeficiente ficou positivo e mostrou que os diabéticos tendem a comer menos doces.\n",
    "* <b>Pressão Alta(q002):</b> diagnóstico de hipertensão, uma doença que pode ser adquirida a partir de hábitos de vida do indivíduo e contém um coeficiente positivo, indicando uma maior probabilidade da pessoa ser diabética.\n",
    "* <b>Cor/Raça(c009):</b> variável indicando a cor das pessoas, com os coeficientes negativos elas não têm diferenças significantes entre elas. \n",
    "\n",
    "Com esse modelo conseguimos entender um padrão de vida das pessoas com diagnóstico de diabetes. Elas tentem a ter um comportamentos mais saudáveis em relação ao consumo de alimentos, principalmente os doces. Por essa doença estar ligada a comportamentos históricos não muito saudáveis, ver que indicadores de um estilo de vida menos prejudicial mostra que a população sabe do seu risco e as recomendações médicas estão sendo seguidas. \n",
    "\n",
    "### TODO\n",
    "\n",
    "* Plot de pessoas que já ficou grávida, dividido em diabeticos e nao diabeticos.\n",
    "* Definir o que fazer com a variável de cor/raça\n",
    "* Análise das pessoas que nunca fizeram exame de sangue e gerar uma estimativa das pessoas em risco de ter a doença. Fazer com base no algoritmo de conduta terapêutica no diabetes tipo 2: https://www.diabetes.org.br/publico/images/pdf/sbd_dm2_2019_2.pdf"
   ]
  },
  {
   "cell_type": "markdown",
   "metadata": {},
   "source": [
    "## Análise do grupo de risco"
   ]
  },
  {
   "cell_type": "code",
   "execution_count": 59,
   "metadata": {},
   "outputs": [],
   "source": [
    "df_analise = pns_design_srvyr[ ,c(\"w00203\", \"w00103\", \"idade\", \"c006\", \"q030\", \"q002\", \"p035\", \"q029\")]\n",
    "names(df_analise$variables) = c(\"altura_w00203\", \"peso_w00103\", \"idade_c008\", \"sexo_c006\", \"diag_diabetes_q030\", \"pressao_alta_q002\", \"ativ_fisica_p035\", \"exame_diab_q029\")\n",
    "df_analise = subset(df_analise, (!is.na(altura_w00203)))"
   ]
  },
  {
   "cell_type": "code",
   "execution_count": 60,
   "metadata": {},
   "outputs": [],
   "source": [
    "df_risco = read.csv(\"risco_diabetes.csv\")"
   ]
  },
  {
   "cell_type": "code",
   "execution_count": 61,
   "metadata": {},
   "outputs": [],
   "source": [
    "df_risco_show = df_risco\n",
    "df_risco_show = within(df_risco_show,  V1 <- paste(X1_maior.igual, X1_menor.igual, sep=\"-\"))\n",
    "df_risco_show = within(df_risco_show,  V2 <- paste(X2_maior.igual, X2_menor.igual, sep=\"-\"))\n",
    "df_risco_show = within(df_risco_show,  V3 <- paste(X3_maior.igual, \"+\",sep=\"\"))\n",
    "df_risco_show = df_risco_show[c(\"altura\", \"V1\", \"V2\", \"V3\")]"
   ]
  },
  {
   "cell_type": "code",
   "execution_count": 62,
   "metadata": {},
   "outputs": [
    {
     "data": {
      "text/html": [
       "<table>\n",
       "<thead><tr><th scope=col>altura</th><th scope=col>V1</th><th scope=col>V2</th><th scope=col>V3</th></tr></thead>\n",
       "<tbody>\n",
       "\t<tr><td>1.47   </td><td>54-64  </td><td>65-86  </td><td>87+    </td></tr>\n",
       "\t<tr><td>1.50   </td><td>56-67  </td><td>67-89  </td><td>90+    </td></tr>\n",
       "\t<tr><td>1.52   </td><td>58-69  </td><td>69-92  </td><td>93+    </td></tr>\n",
       "\t<tr><td>1.55   </td><td>60-71  </td><td>72-95  </td><td>96+    </td></tr>\n",
       "\t<tr><td>1.57   </td><td>62-74  </td><td>74-98  </td><td>99+    </td></tr>\n",
       "\t<tr><td>1.60   </td><td>64-76  </td><td>77-102 </td><td>102+   </td></tr>\n",
       "\t<tr><td>1.63   </td><td>66-78  </td><td>79-105 </td><td>105+   </td></tr>\n",
       "\t<tr><td>1.65   </td><td>68-81  </td><td>82-108 </td><td>109+   </td></tr>\n",
       "\t<tr><td>1.68   </td><td>70-84  </td><td>84-112 </td><td>112+   </td></tr>\n",
       "\t<tr><td>1.70   </td><td>72-86  </td><td>87-115 </td><td>116+   </td></tr>\n",
       "\t<tr><td>1.73   </td><td>74-89  </td><td>89-118 </td><td>119+   </td></tr>\n",
       "\t<tr><td>1.75   </td><td>77-92  </td><td>92-122 </td><td>122+   </td></tr>\n",
       "\t<tr><td>1.78   </td><td>79-94  </td><td>95-126 </td><td>126+   </td></tr>\n",
       "\t<tr><td>1.80   </td><td>81-97  </td><td>98-129 </td><td>130+   </td></tr>\n",
       "\t<tr><td>1.83   </td><td>83-100 </td><td>100-133</td><td>133+   </td></tr>\n",
       "\t<tr><td>1.85   </td><td>86-103 </td><td>103-137</td><td>137+   </td></tr>\n",
       "\t<tr><td>1.88   </td><td>88-105 </td><td>106-141</td><td>141+   </td></tr>\n",
       "\t<tr><td>1.91   </td><td>91-108 </td><td>109-144</td><td>144+   </td></tr>\n",
       "\t<tr><td>1.93   </td><td>93-111 </td><td>112-148</td><td>149+   </td></tr>\n",
       "</tbody>\n",
       "</table>\n"
      ],
      "text/latex": [
       "\\begin{tabular}{r|llll}\n",
       " altura & V1 & V2 & V3\\\\\n",
       "\\hline\n",
       "\t 1.47    & 54-64   & 65-86   & 87+    \\\\\n",
       "\t 1.50    & 56-67   & 67-89   & 90+    \\\\\n",
       "\t 1.52    & 58-69   & 69-92   & 93+    \\\\\n",
       "\t 1.55    & 60-71   & 72-95   & 96+    \\\\\n",
       "\t 1.57    & 62-74   & 74-98   & 99+    \\\\\n",
       "\t 1.60    & 64-76   & 77-102  & 102+   \\\\\n",
       "\t 1.63    & 66-78   & 79-105  & 105+   \\\\\n",
       "\t 1.65    & 68-81   & 82-108  & 109+   \\\\\n",
       "\t 1.68    & 70-84   & 84-112  & 112+   \\\\\n",
       "\t 1.70    & 72-86   & 87-115  & 116+   \\\\\n",
       "\t 1.73    & 74-89   & 89-118  & 119+   \\\\\n",
       "\t 1.75    & 77-92   & 92-122  & 122+   \\\\\n",
       "\t 1.78    & 79-94   & 95-126  & 126+   \\\\\n",
       "\t 1.80    & 81-97   & 98-129  & 130+   \\\\\n",
       "\t 1.83    & 83-100  & 100-133 & 133+   \\\\\n",
       "\t 1.85    & 86-103  & 103-137 & 137+   \\\\\n",
       "\t 1.88    & 88-105  & 106-141 & 141+   \\\\\n",
       "\t 1.91    & 91-108  & 109-144 & 144+   \\\\\n",
       "\t 1.93    & 93-111  & 112-148 & 149+   \\\\\n",
       "\\end{tabular}\n"
      ],
      "text/markdown": [
       "\n",
       "| altura | V1 | V2 | V3 |\n",
       "|---|---|---|---|\n",
       "| 1.47    | 54-64   | 65-86   | 87+     |\n",
       "| 1.50    | 56-67   | 67-89   | 90+     |\n",
       "| 1.52    | 58-69   | 69-92   | 93+     |\n",
       "| 1.55    | 60-71   | 72-95   | 96+     |\n",
       "| 1.57    | 62-74   | 74-98   | 99+     |\n",
       "| 1.60    | 64-76   | 77-102  | 102+    |\n",
       "| 1.63    | 66-78   | 79-105  | 105+    |\n",
       "| 1.65    | 68-81   | 82-108  | 109+    |\n",
       "| 1.68    | 70-84   | 84-112  | 112+    |\n",
       "| 1.70    | 72-86   | 87-115  | 116+    |\n",
       "| 1.73    | 74-89   | 89-118  | 119+    |\n",
       "| 1.75    | 77-92   | 92-122  | 122+    |\n",
       "| 1.78    | 79-94   | 95-126  | 126+    |\n",
       "| 1.80    | 81-97   | 98-129  | 130+    |\n",
       "| 1.83    | 83-100  | 100-133 | 133+    |\n",
       "| 1.85    | 86-103  | 103-137 | 137+    |\n",
       "| 1.88    | 88-105  | 106-141 | 141+    |\n",
       "| 1.91    | 91-108  | 109-144 | 144+    |\n",
       "| 1.93    | 93-111  | 112-148 | 149+    |\n",
       "\n"
      ],
      "text/plain": [
       "   altura V1     V2      V3  \n",
       "1  1.47   54-64  65-86   87+ \n",
       "2  1.50   56-67  67-89   90+ \n",
       "3  1.52   58-69  69-92   93+ \n",
       "4  1.55   60-71  72-95   96+ \n",
       "5  1.57   62-74  74-98   99+ \n",
       "6  1.60   64-76  77-102  102+\n",
       "7  1.63   66-78  79-105  105+\n",
       "8  1.65   68-81  82-108  109+\n",
       "9  1.68   70-84  84-112  112+\n",
       "10 1.70   72-86  87-115  116+\n",
       "11 1.73   74-89  89-118  119+\n",
       "12 1.75   77-92  92-122  122+\n",
       "13 1.78   79-94  95-126  126+\n",
       "14 1.80   81-97  98-129  130+\n",
       "15 1.83   83-100 100-133 133+\n",
       "16 1.85   86-103 103-137 137+\n",
       "17 1.88   88-105 106-141 141+\n",
       "18 1.91   91-108 109-144 144+\n",
       "19 1.93   93-111 112-148 149+"
      ]
     },
     "metadata": {},
     "output_type": "display_data"
    }
   ],
   "source": [
    "df_risco_show"
   ]
  },
  {
   "cell_type": "code",
   "execution_count": 63,
   "metadata": {},
   "outputs": [],
   "source": [
    "# W00203 altura\n",
    "# W00103 peso\n",
    "# 1 c008 idade\n",
    "# 2 c006 sexo\n",
    "# 3 q030 diagnostico diabetes - 2\n",
    "# 4 mãe ou pai com diabetes\n",
    "# 5 q002 pressão alta\n",
    "# 6 fisicamente ativos\n",
    "# 7 tabela"
   ]
  },
  {
   "cell_type": "markdown",
   "metadata": {},
   "source": [
    "* Q04601 Em algum dos atendimentos para diabetes, algum médico ou outro profissional de saúde lhe recomendou manter uma alimentação saudável (com frutas  vegetais)?\n",
    "* Q04603 Em algum dos atendimentos para diabetes, algum médico ou outro profissional de saúde lhe recomendou praticar atividade física regular?\n",
    "* Q04604 Em algum dos atendimentos para diabetes, algum médico ou outro profissional de saúde lhe recomendou não fumar?\n",
    "* Q04605 Em algum dos atendimentos para diabetes, algum médico ou outro profissional de saúde lhe recomendou não beber em excesso?"
   ]
  },
  {
   "cell_type": "code",
   "execution_count": 64,
   "metadata": {},
   "outputs": [
    {
     "data": {
      "text/html": [
       "<table>\n",
       "<thead><tr><th scope=col>diag_diabetes_q030</th><th scope=col>Freq</th></tr></thead>\n",
       "<tbody>\n",
       "\t<tr><td>         </td><td> 16752433</td></tr>\n",
       "\t<tr><td>1        </td><td>  9107957</td></tr>\n",
       "\t<tr><td>2        </td><td>   332557</td></tr>\n",
       "\t<tr><td>3        </td><td>118652344</td></tr>\n",
       "</tbody>\n",
       "</table>\n"
      ],
      "text/latex": [
       "\\begin{tabular}{r|ll}\n",
       " diag\\_diabetes\\_q030 & Freq\\\\\n",
       "\\hline\n",
       "\t           &  16752433\\\\\n",
       "\t 1         &   9107957\\\\\n",
       "\t 2         &    332557\\\\\n",
       "\t 3         & 118652344\\\\\n",
       "\\end{tabular}\n"
      ],
      "text/markdown": [
       "\n",
       "| diag_diabetes_q030 | Freq |\n",
       "|---|---|\n",
       "|           |  16752433 |\n",
       "| 1         |   9107957 |\n",
       "| 2         |    332557 |\n",
       "| 3         | 118652344 |\n",
       "\n"
      ],
      "text/plain": [
       "  diag_diabetes_q030 Freq     \n",
       "1                     16752433\n",
       "2 1                    9107957\n",
       "3 2                     332557\n",
       "4 3                  118652344"
      ]
     },
     "metadata": {},
     "output_type": "display_data"
    }
   ],
   "source": [
    "diab_tot <- as.data.frame(survey::svytable(~ diag_diabetes_q030, df_analise))\n",
    "diab_tot"
   ]
  },
  {
   "cell_type": "code",
   "execution_count": 65,
   "metadata": {},
   "outputs": [
    {
     "data": {
      "text/html": [
       "0.115657423992424"
      ],
      "text/latex": [
       "0.115657423992424"
      ],
      "text/markdown": [
       "0.115657423992424"
      ],
      "text/plain": [
       "[1] 0.1156574"
      ]
     },
     "metadata": {},
     "output_type": "display_data"
    }
   ],
   "source": [
    "#porcent\n",
    "diab_tot[diab_tot$diag_diabetes_q030 == \" \",\"Freq\"] / sum(diab_tot$Freq)"
   ]
  },
  {
   "cell_type": "code",
   "execution_count": 66,
   "metadata": {},
   "outputs": [],
   "source": [
    "df_risco$altura = df_risco$altura * 100"
   ]
  },
  {
   "cell_type": "code",
   "execution_count": 67,
   "metadata": {},
   "outputs": [
    {
     "data": {
      "text/html": [
       "<table>\n",
       "<thead><tr><th scope=col>altura</th><th scope=col>X1_maior.igual</th><th scope=col>X1_menor.igual</th><th scope=col>X2_maior.igual</th><th scope=col>X2_menor.igual</th><th scope=col>X3_maior.igual</th></tr></thead>\n",
       "<tbody>\n",
       "\t<tr><td>147</td><td>54 </td><td> 64</td><td> 65</td><td> 86</td><td> 87</td></tr>\n",
       "\t<tr><td>150</td><td>56 </td><td> 67</td><td> 67</td><td> 89</td><td> 90</td></tr>\n",
       "\t<tr><td>152</td><td>58 </td><td> 69</td><td> 69</td><td> 92</td><td> 93</td></tr>\n",
       "\t<tr><td>155</td><td>60 </td><td> 71</td><td> 72</td><td> 95</td><td> 96</td></tr>\n",
       "\t<tr><td>157</td><td>62 </td><td> 74</td><td> 74</td><td> 98</td><td> 99</td></tr>\n",
       "\t<tr><td>160</td><td>64 </td><td> 76</td><td> 77</td><td>102</td><td>102</td></tr>\n",
       "\t<tr><td>163</td><td>66 </td><td> 78</td><td> 79</td><td>105</td><td>105</td></tr>\n",
       "\t<tr><td>165</td><td>68 </td><td> 81</td><td> 82</td><td>108</td><td>109</td></tr>\n",
       "\t<tr><td>168</td><td>70 </td><td> 84</td><td> 84</td><td>112</td><td>112</td></tr>\n",
       "\t<tr><td>170</td><td>72 </td><td> 86</td><td> 87</td><td>115</td><td>116</td></tr>\n",
       "\t<tr><td>173</td><td>74 </td><td> 89</td><td> 89</td><td>118</td><td>119</td></tr>\n",
       "\t<tr><td>175</td><td>77 </td><td> 92</td><td> 92</td><td>122</td><td>122</td></tr>\n",
       "\t<tr><td>178</td><td>79 </td><td> 94</td><td> 95</td><td>126</td><td>126</td></tr>\n",
       "\t<tr><td>180</td><td>81 </td><td> 97</td><td> 98</td><td>129</td><td>130</td></tr>\n",
       "\t<tr><td>183</td><td>83 </td><td>100</td><td>100</td><td>133</td><td>133</td></tr>\n",
       "\t<tr><td>185</td><td>86 </td><td>103</td><td>103</td><td>137</td><td>137</td></tr>\n",
       "\t<tr><td>188</td><td>88 </td><td>105</td><td>106</td><td>141</td><td>141</td></tr>\n",
       "\t<tr><td>191</td><td>91 </td><td>108</td><td>109</td><td>144</td><td>144</td></tr>\n",
       "\t<tr><td>193</td><td>93 </td><td>111</td><td>112</td><td>148</td><td>149</td></tr>\n",
       "</tbody>\n",
       "</table>\n"
      ],
      "text/latex": [
       "\\begin{tabular}{r|llllll}\n",
       " altura & X1\\_maior.igual & X1\\_menor.igual & X2\\_maior.igual & X2\\_menor.igual & X3\\_maior.igual\\\\\n",
       "\\hline\n",
       "\t 147 & 54  &  64 &  65 &  86 &  87\\\\\n",
       "\t 150 & 56  &  67 &  67 &  89 &  90\\\\\n",
       "\t 152 & 58  &  69 &  69 &  92 &  93\\\\\n",
       "\t 155 & 60  &  71 &  72 &  95 &  96\\\\\n",
       "\t 157 & 62  &  74 &  74 &  98 &  99\\\\\n",
       "\t 160 & 64  &  76 &  77 & 102 & 102\\\\\n",
       "\t 163 & 66  &  78 &  79 & 105 & 105\\\\\n",
       "\t 165 & 68  &  81 &  82 & 108 & 109\\\\\n",
       "\t 168 & 70  &  84 &  84 & 112 & 112\\\\\n",
       "\t 170 & 72  &  86 &  87 & 115 & 116\\\\\n",
       "\t 173 & 74  &  89 &  89 & 118 & 119\\\\\n",
       "\t 175 & 77  &  92 &  92 & 122 & 122\\\\\n",
       "\t 178 & 79  &  94 &  95 & 126 & 126\\\\\n",
       "\t 180 & 81  &  97 &  98 & 129 & 130\\\\\n",
       "\t 183 & 83  & 100 & 100 & 133 & 133\\\\\n",
       "\t 185 & 86  & 103 & 103 & 137 & 137\\\\\n",
       "\t 188 & 88  & 105 & 106 & 141 & 141\\\\\n",
       "\t 191 & 91  & 108 & 109 & 144 & 144\\\\\n",
       "\t 193 & 93  & 111 & 112 & 148 & 149\\\\\n",
       "\\end{tabular}\n"
      ],
      "text/markdown": [
       "\n",
       "| altura | X1_maior.igual | X1_menor.igual | X2_maior.igual | X2_menor.igual | X3_maior.igual |\n",
       "|---|---|---|---|---|---|\n",
       "| 147 | 54  |  64 |  65 |  86 |  87 |\n",
       "| 150 | 56  |  67 |  67 |  89 |  90 |\n",
       "| 152 | 58  |  69 |  69 |  92 |  93 |\n",
       "| 155 | 60  |  71 |  72 |  95 |  96 |\n",
       "| 157 | 62  |  74 |  74 |  98 |  99 |\n",
       "| 160 | 64  |  76 |  77 | 102 | 102 |\n",
       "| 163 | 66  |  78 |  79 | 105 | 105 |\n",
       "| 165 | 68  |  81 |  82 | 108 | 109 |\n",
       "| 168 | 70  |  84 |  84 | 112 | 112 |\n",
       "| 170 | 72  |  86 |  87 | 115 | 116 |\n",
       "| 173 | 74  |  89 |  89 | 118 | 119 |\n",
       "| 175 | 77  |  92 |  92 | 122 | 122 |\n",
       "| 178 | 79  |  94 |  95 | 126 | 126 |\n",
       "| 180 | 81  |  97 |  98 | 129 | 130 |\n",
       "| 183 | 83  | 100 | 100 | 133 | 133 |\n",
       "| 185 | 86  | 103 | 103 | 137 | 137 |\n",
       "| 188 | 88  | 105 | 106 | 141 | 141 |\n",
       "| 191 | 91  | 108 | 109 | 144 | 144 |\n",
       "| 193 | 93  | 111 | 112 | 148 | 149 |\n",
       "\n"
      ],
      "text/plain": [
       "   altura X1_maior.igual X1_menor.igual X2_maior.igual X2_menor.igual\n",
       "1  147    54              64             65             86           \n",
       "2  150    56              67             67             89           \n",
       "3  152    58              69             69             92           \n",
       "4  155    60              71             72             95           \n",
       "5  157    62              74             74             98           \n",
       "6  160    64              76             77            102           \n",
       "7  163    66              78             79            105           \n",
       "8  165    68              81             82            108           \n",
       "9  168    70              84             84            112           \n",
       "10 170    72              86             87            115           \n",
       "11 173    74              89             89            118           \n",
       "12 175    77              92             92            122           \n",
       "13 178    79              94             95            126           \n",
       "14 180    81              97             98            129           \n",
       "15 183    83             100            100            133           \n",
       "16 185    86             103            103            137           \n",
       "17 188    88             105            106            141           \n",
       "18 191    91             108            109            144           \n",
       "19 193    93             111            112            148           \n",
       "   X3_maior.igual\n",
       "1   87           \n",
       "2   90           \n",
       "3   93           \n",
       "4   96           \n",
       "5   99           \n",
       "6  102           \n",
       "7  105           \n",
       "8  109           \n",
       "9  112           \n",
       "10 116           \n",
       "11 119           \n",
       "12 122           \n",
       "13 126           \n",
       "14 130           \n",
       "15 133           \n",
       "16 137           \n",
       "17 141           \n",
       "18 144           \n",
       "19 149           "
      ]
     },
     "metadata": {},
     "output_type": "display_data"
    }
   ],
   "source": [
    "df_risco"
   ]
  },
  {
   "cell_type": "code",
   "execution_count": 68,
   "metadata": {},
   "outputs": [],
   "source": [
    "pegar_altura_tab <- function(df){\n",
    "    \n",
    "    alt = as.numeric(df[\"altura_w00203\"])\n",
    "    \n",
    "    if (is.na(alt)){\n",
    "        return(0)\n",
    "    }\n",
    "    \n",
    "    n_alt = 0   \n",
    "    for (alt_tab in df_risco$altura){\n",
    "        if (alt <= alt_tab){\n",
    "            n_alt = alt_tab\n",
    "            break\n",
    "        }\n",
    "    }\n",
    "    if (n_alt == 0){\n",
    "        n_alt = 193\n",
    "    }\n",
    "   \n",
    "   return(n_alt)\n",
    "}"
   ]
  },
  {
   "cell_type": "code",
   "execution_count": 69,
   "metadata": {},
   "outputs": [],
   "source": [
    "df_analise$variables$altura_tab <- apply(df_analise$variables, 1, pegar_altura_tab)"
   ]
  },
  {
   "cell_type": "code",
   "execution_count": 70,
   "metadata": {},
   "outputs": [
    {
     "data": {
      "text/html": [
       "<table>\n",
       "<thead><tr><th scope=col>altura_w00203</th><th scope=col>peso_w00103</th><th scope=col>idade_c008</th><th scope=col>sexo_c006</th><th scope=col>diag_diabetes_q030</th><th scope=col>pressao_alta_q002</th><th scope=col>ativ_fisica_p035</th><th scope=col>exame_diab_q029</th><th scope=col>altura_tab</th></tr></thead>\n",
       "<tbody>\n",
       "\t<tr><td>162.0    </td><td>59.5     </td><td>35       </td><td>masculino</td><td>3        </td><td>3        </td><td>NA       </td><td>5        </td><td>163      </td></tr>\n",
       "\t<tr><td>169.0    </td><td>81.2     </td><td>42       </td><td>masculino</td><td>         </td><td>         </td><td> 1       </td><td>6        </td><td>170      </td></tr>\n",
       "\t<tr><td>170.0    </td><td>55.0     </td><td>32       </td><td>feminino </td><td>3        </td><td>3        </td><td>NA       </td><td>3        </td><td>170      </td></tr>\n",
       "\t<tr><td>   NA    </td><td>  NA     </td><td>27       </td><td>feminino </td><td>2        </td><td>2        </td><td>NA       </td><td>1        </td><td>  0      </td></tr>\n",
       "\t<tr><td>169.4    </td><td>78.0     </td><td>53       </td><td>masculino</td><td>3        </td><td>3        </td><td>NA       </td><td>5        </td><td>170      </td></tr>\n",
       "\t<tr><td>161.5    </td><td>66.8     </td><td>28       </td><td>feminino </td><td>3        </td><td>3        </td><td>NA       </td><td>3        </td><td>163      </td></tr>\n",
       "</tbody>\n",
       "</table>\n"
      ],
      "text/latex": [
       "\\begin{tabular}{r|lllllllll}\n",
       " altura\\_w00203 & peso\\_w00103 & idade\\_c008 & sexo\\_c006 & diag\\_diabetes\\_q030 & pressao\\_alta\\_q002 & ativ\\_fisica\\_p035 & exame\\_diab\\_q029 & altura\\_tab\\\\\n",
       "\\hline\n",
       "\t 162.0     & 59.5      & 35        & masculino & 3         & 3         & NA        & 5         & 163      \\\\\n",
       "\t 169.0     & 81.2      & 42        & masculino &           &           &  1        & 6         & 170      \\\\\n",
       "\t 170.0     & 55.0      & 32        & feminino  & 3         & 3         & NA        & 3         & 170      \\\\\n",
       "\t    NA     &   NA      & 27        & feminino  & 2         & 2         & NA        & 1         &   0      \\\\\n",
       "\t 169.4     & 78.0      & 53        & masculino & 3         & 3         & NA        & 5         & 170      \\\\\n",
       "\t 161.5     & 66.8      & 28        & feminino  & 3         & 3         & NA        & 3         & 163      \\\\\n",
       "\\end{tabular}\n"
      ],
      "text/markdown": [
       "\n",
       "| altura_w00203 | peso_w00103 | idade_c008 | sexo_c006 | diag_diabetes_q030 | pressao_alta_q002 | ativ_fisica_p035 | exame_diab_q029 | altura_tab |\n",
       "|---|---|---|---|---|---|---|---|---|\n",
       "| 162.0     | 59.5      | 35        | masculino | 3         | 3         | NA        | 5         | 163       |\n",
       "| 169.0     | 81.2      | 42        | masculino |           |           |  1        | 6         | 170       |\n",
       "| 170.0     | 55.0      | 32        | feminino  | 3         | 3         | NA        | 3         | 170       |\n",
       "|    NA     |   NA      | 27        | feminino  | 2         | 2         | NA        | 1         |   0       |\n",
       "| 169.4     | 78.0      | 53        | masculino | 3         | 3         | NA        | 5         | 170       |\n",
       "| 161.5     | 66.8      | 28        | feminino  | 3         | 3         | NA        | 3         | 163       |\n",
       "\n"
      ],
      "text/plain": [
       "  altura_w00203 peso_w00103 idade_c008 sexo_c006 diag_diabetes_q030\n",
       "1 162.0         59.5        35         masculino 3                 \n",
       "2 169.0         81.2        42         masculino                   \n",
       "3 170.0         55.0        32         feminino  3                 \n",
       "4    NA           NA        27         feminino  2                 \n",
       "5 169.4         78.0        53         masculino 3                 \n",
       "6 161.5         66.8        28         feminino  3                 \n",
       "  pressao_alta_q002 ativ_fisica_p035 exame_diab_q029 altura_tab\n",
       "1 3                 NA               5               163       \n",
       "2                    1               6               170       \n",
       "3 3                 NA               3               170       \n",
       "4 2                 NA               1                 0       \n",
       "5 3                 NA               5               170       \n",
       "6 3                 NA               3               163       "
      ]
     },
     "metadata": {},
     "output_type": "display_data"
    }
   ],
   "source": [
    "head(df_analise$variables)"
   ]
  },
  {
   "cell_type": "code",
   "execution_count": 71,
   "metadata": {},
   "outputs": [],
   "source": [
    "pegar_pontos_peso <- function(df){\n",
    "    \n",
    "    alt = as.numeric(df[\"altura_tab\"])\n",
    "    peso = as.numeric(df[\"peso_w00103\"])\n",
    "    \n",
    "    if (length(df_risco[df_risco$altura == alt, \"altura\"]) > 0){\n",
    "    \n",
    "        tab_risco = df_risco[df_risco$altura == alt, ]\n",
    "        \n",
    "        if((peso >= tab_risco[\"X1_maior.igual\"]) & (peso <= tab_risco[\"X1_menor.igual\"])){\n",
    "            return(1)\n",
    "        } else if((peso >= tab_risco[\"X2_maior.igual\"]) & (peso <= tab_risco[\"X2_menor.igual\"])){\n",
    "            return(2)\n",
    "        } else if((peso >= tab_risco[\"X3_maior.igual\"])){\n",
    "            return(3)\n",
    "        } else{\n",
    "            return(0)\n",
    "        }\n",
    "\n",
    "    } else{\n",
    "        return (0)\n",
    "    }\n",
    "\n",
    "}"
   ]
  },
  {
   "cell_type": "code",
   "execution_count": 72,
   "metadata": {},
   "outputs": [
    {
     "data": {
      "text/html": [
       "<table>\n",
       "<thead><tr><th scope=col>altura_w00203</th><th scope=col>peso_w00103</th><th scope=col>idade_c008</th><th scope=col>sexo_c006</th><th scope=col>diag_diabetes_q030</th><th scope=col>pressao_alta_q002</th><th scope=col>ativ_fisica_p035</th><th scope=col>exame_diab_q029</th><th scope=col>altura_tab</th></tr></thead>\n",
       "<tbody>\n",
       "\t<tr><td>162      </td><td>59.5     </td><td>35       </td><td>masculino</td><td>3        </td><td>3        </td><td>NA       </td><td>5        </td><td>163      </td></tr>\n",
       "</tbody>\n",
       "</table>\n"
      ],
      "text/latex": [
       "\\begin{tabular}{r|lllllllll}\n",
       " altura\\_w00203 & peso\\_w00103 & idade\\_c008 & sexo\\_c006 & diag\\_diabetes\\_q030 & pressao\\_alta\\_q002 & ativ\\_fisica\\_p035 & exame\\_diab\\_q029 & altura\\_tab\\\\\n",
       "\\hline\n",
       "\t 162       & 59.5      & 35        & masculino & 3         & 3         & NA        & 5         & 163      \\\\\n",
       "\\end{tabular}\n"
      ],
      "text/markdown": [
       "\n",
       "| altura_w00203 | peso_w00103 | idade_c008 | sexo_c006 | diag_diabetes_q030 | pressao_alta_q002 | ativ_fisica_p035 | exame_diab_q029 | altura_tab |\n",
       "|---|---|---|---|---|---|---|---|---|\n",
       "| 162       | 59.5      | 35        | masculino | 3         | 3         | NA        | 5         | 163       |\n",
       "\n"
      ],
      "text/plain": [
       "  altura_w00203 peso_w00103 idade_c008 sexo_c006 diag_diabetes_q030\n",
       "1 162           59.5        35         masculino 3                 \n",
       "  pressao_alta_q002 ativ_fisica_p035 exame_diab_q029 altura_tab\n",
       "1 3                 NA               5               163       "
      ]
     },
     "metadata": {},
     "output_type": "display_data"
    }
   ],
   "source": [
    "head(df_analise$variables, 1)"
   ]
  },
  {
   "cell_type": "code",
   "execution_count": 73,
   "metadata": {},
   "outputs": [
    {
     "data": {
      "text/html": [
       "0"
      ],
      "text/latex": [
       "0"
      ],
      "text/markdown": [
       "0"
      ],
      "text/plain": [
       "[1] 0"
      ]
     },
     "metadata": {},
     "output_type": "display_data"
    }
   ],
   "source": [
    "apply(head(df_analise$variables, 1),1, pegar_pontos_peso)"
   ]
  },
  {
   "cell_type": "code",
   "execution_count": 74,
   "metadata": {},
   "outputs": [],
   "source": [
    "df_analise$variables$pontos_alt_peso <- apply(df_analise$variables, 1, pegar_pontos_peso)"
   ]
  },
  {
   "cell_type": "code",
   "execution_count": 75,
   "metadata": {},
   "outputs": [],
   "source": [
    "df_analise <- df_analise %>% \n",
    "     mutate(pontos_idade = case_when(idade_c008 < 40 ~ 0,\n",
    "                                     idade_c008 <= 49 ~ 1,\n",
    "                                     idade_c008 <= 59 ~ 2,\n",
    "                                     idade_c008 >= 60 ~ 3,\n",
    "                                     TRUE ~ 0))"
   ]
  },
  {
   "cell_type": "code",
   "execution_count": 76,
   "metadata": {},
   "outputs": [
    {
     "data": {
      "text/html": [
       "<table>\n",
       "<thead><tr><th scope=col>altura_w00203</th><th scope=col>peso_w00103</th><th scope=col>idade_c008</th><th scope=col>sexo_c006</th><th scope=col>diag_diabetes_q030</th><th scope=col>pressao_alta_q002</th><th scope=col>ativ_fisica_p035</th><th scope=col>exame_diab_q029</th><th scope=col>altura_tab</th><th scope=col>pontos_alt_peso</th><th scope=col>pontos_idade</th></tr></thead>\n",
       "<tbody>\n",
       "\t<tr><td>162.0    </td><td>59.5     </td><td>35       </td><td>masculino</td><td>3        </td><td>3        </td><td>NA       </td><td>5        </td><td>163      </td><td>0        </td><td>0        </td></tr>\n",
       "\t<tr><td>169.0    </td><td>81.2     </td><td>42       </td><td>masculino</td><td>         </td><td>         </td><td> 1       </td><td>6        </td><td>170      </td><td>1        </td><td>1        </td></tr>\n",
       "\t<tr><td>170.0    </td><td>55.0     </td><td>32       </td><td>feminino </td><td>3        </td><td>3        </td><td>NA       </td><td>3        </td><td>170      </td><td>0        </td><td>0        </td></tr>\n",
       "\t<tr><td>   NA    </td><td>  NA     </td><td>27       </td><td>feminino </td><td>2        </td><td>2        </td><td>NA       </td><td>1        </td><td>  0      </td><td>0        </td><td>0        </td></tr>\n",
       "\t<tr><td>169.4    </td><td>78.0     </td><td>53       </td><td>masculino</td><td>3        </td><td>3        </td><td>NA       </td><td>5        </td><td>170      </td><td>1        </td><td>2        </td></tr>\n",
       "\t<tr><td>161.5    </td><td>66.8     </td><td>28       </td><td>feminino </td><td>3        </td><td>3        </td><td>NA       </td><td>3        </td><td>163      </td><td>1        </td><td>0        </td></tr>\n",
       "</tbody>\n",
       "</table>\n"
      ],
      "text/latex": [
       "\\begin{tabular}{r|lllllllllll}\n",
       " altura\\_w00203 & peso\\_w00103 & idade\\_c008 & sexo\\_c006 & diag\\_diabetes\\_q030 & pressao\\_alta\\_q002 & ativ\\_fisica\\_p035 & exame\\_diab\\_q029 & altura\\_tab & pontos\\_alt\\_peso & pontos\\_idade\\\\\n",
       "\\hline\n",
       "\t 162.0     & 59.5      & 35        & masculino & 3         & 3         & NA        & 5         & 163       & 0         & 0        \\\\\n",
       "\t 169.0     & 81.2      & 42        & masculino &           &           &  1        & 6         & 170       & 1         & 1        \\\\\n",
       "\t 170.0     & 55.0      & 32        & feminino  & 3         & 3         & NA        & 3         & 170       & 0         & 0        \\\\\n",
       "\t    NA     &   NA      & 27        & feminino  & 2         & 2         & NA        & 1         &   0       & 0         & 0        \\\\\n",
       "\t 169.4     & 78.0      & 53        & masculino & 3         & 3         & NA        & 5         & 170       & 1         & 2        \\\\\n",
       "\t 161.5     & 66.8      & 28        & feminino  & 3         & 3         & NA        & 3         & 163       & 1         & 0        \\\\\n",
       "\\end{tabular}\n"
      ],
      "text/markdown": [
       "\n",
       "| altura_w00203 | peso_w00103 | idade_c008 | sexo_c006 | diag_diabetes_q030 | pressao_alta_q002 | ativ_fisica_p035 | exame_diab_q029 | altura_tab | pontos_alt_peso | pontos_idade |\n",
       "|---|---|---|---|---|---|---|---|---|---|---|\n",
       "| 162.0     | 59.5      | 35        | masculino | 3         | 3         | NA        | 5         | 163       | 0         | 0         |\n",
       "| 169.0     | 81.2      | 42        | masculino |           |           |  1        | 6         | 170       | 1         | 1         |\n",
       "| 170.0     | 55.0      | 32        | feminino  | 3         | 3         | NA        | 3         | 170       | 0         | 0         |\n",
       "|    NA     |   NA      | 27        | feminino  | 2         | 2         | NA        | 1         |   0       | 0         | 0         |\n",
       "| 169.4     | 78.0      | 53        | masculino | 3         | 3         | NA        | 5         | 170       | 1         | 2         |\n",
       "| 161.5     | 66.8      | 28        | feminino  | 3         | 3         | NA        | 3         | 163       | 1         | 0         |\n",
       "\n"
      ],
      "text/plain": [
       "  altura_w00203 peso_w00103 idade_c008 sexo_c006 diag_diabetes_q030\n",
       "1 162.0         59.5        35         masculino 3                 \n",
       "2 169.0         81.2        42         masculino                   \n",
       "3 170.0         55.0        32         feminino  3                 \n",
       "4    NA           NA        27         feminino  2                 \n",
       "5 169.4         78.0        53         masculino 3                 \n",
       "6 161.5         66.8        28         feminino  3                 \n",
       "  pressao_alta_q002 ativ_fisica_p035 exame_diab_q029 altura_tab pontos_alt_peso\n",
       "1 3                 NA               5               163        0              \n",
       "2                    1               6               170        1              \n",
       "3 3                 NA               3               170        0              \n",
       "4 2                 NA               1                 0        0              \n",
       "5 3                 NA               5               170        1              \n",
       "6 3                 NA               3               163        1              \n",
       "  pontos_idade\n",
       "1 0           \n",
       "2 1           \n",
       "3 0           \n",
       "4 0           \n",
       "5 2           \n",
       "6 0           "
      ]
     },
     "metadata": {},
     "output_type": "display_data"
    }
   ],
   "source": [
    "head(df_analise$variables)"
   ]
  },
  {
   "cell_type": "code",
   "execution_count": 77,
   "metadata": {},
   "outputs": [],
   "source": [
    "df_analise <- df_analise %>% \n",
    "     mutate(pontos_sexo = case_when(sexo_c006 == \"masculino\" ~ 1,\n",
    "                                    TRUE ~ 0))"
   ]
  },
  {
   "cell_type": "code",
   "execution_count": 78,
   "metadata": {},
   "outputs": [
    {
     "data": {
      "text/html": [
       "<table>\n",
       "<thead><tr><th scope=col>altura_w00203</th><th scope=col>peso_w00103</th><th scope=col>idade_c008</th><th scope=col>sexo_c006</th><th scope=col>diag_diabetes_q030</th><th scope=col>pressao_alta_q002</th><th scope=col>ativ_fisica_p035</th><th scope=col>exame_diab_q029</th><th scope=col>altura_tab</th><th scope=col>pontos_alt_peso</th><th scope=col>pontos_idade</th><th scope=col>pontos_sexo</th></tr></thead>\n",
       "<tbody>\n",
       "\t<tr><td>162.0    </td><td>59.5     </td><td>35       </td><td>masculino</td><td>3        </td><td>3        </td><td>NA       </td><td>5        </td><td>163      </td><td>0        </td><td>0        </td><td>1        </td></tr>\n",
       "\t<tr><td>169.0    </td><td>81.2     </td><td>42       </td><td>masculino</td><td>         </td><td>         </td><td> 1       </td><td>6        </td><td>170      </td><td>1        </td><td>1        </td><td>1        </td></tr>\n",
       "\t<tr><td>170.0    </td><td>55.0     </td><td>32       </td><td>feminino </td><td>3        </td><td>3        </td><td>NA       </td><td>3        </td><td>170      </td><td>0        </td><td>0        </td><td>0        </td></tr>\n",
       "\t<tr><td>   NA    </td><td>  NA     </td><td>27       </td><td>feminino </td><td>2        </td><td>2        </td><td>NA       </td><td>1        </td><td>  0      </td><td>0        </td><td>0        </td><td>0        </td></tr>\n",
       "\t<tr><td>169.4    </td><td>78.0     </td><td>53       </td><td>masculino</td><td>3        </td><td>3        </td><td>NA       </td><td>5        </td><td>170      </td><td>1        </td><td>2        </td><td>1        </td></tr>\n",
       "\t<tr><td>161.5    </td><td>66.8     </td><td>28       </td><td>feminino </td><td>3        </td><td>3        </td><td>NA       </td><td>3        </td><td>163      </td><td>1        </td><td>0        </td><td>0        </td></tr>\n",
       "</tbody>\n",
       "</table>\n"
      ],
      "text/latex": [
       "\\begin{tabular}{r|llllllllllll}\n",
       " altura\\_w00203 & peso\\_w00103 & idade\\_c008 & sexo\\_c006 & diag\\_diabetes\\_q030 & pressao\\_alta\\_q002 & ativ\\_fisica\\_p035 & exame\\_diab\\_q029 & altura\\_tab & pontos\\_alt\\_peso & pontos\\_idade & pontos\\_sexo\\\\\n",
       "\\hline\n",
       "\t 162.0     & 59.5      & 35        & masculino & 3         & 3         & NA        & 5         & 163       & 0         & 0         & 1        \\\\\n",
       "\t 169.0     & 81.2      & 42        & masculino &           &           &  1        & 6         & 170       & 1         & 1         & 1        \\\\\n",
       "\t 170.0     & 55.0      & 32        & feminino  & 3         & 3         & NA        & 3         & 170       & 0         & 0         & 0        \\\\\n",
       "\t    NA     &   NA      & 27        & feminino  & 2         & 2         & NA        & 1         &   0       & 0         & 0         & 0        \\\\\n",
       "\t 169.4     & 78.0      & 53        & masculino & 3         & 3         & NA        & 5         & 170       & 1         & 2         & 1        \\\\\n",
       "\t 161.5     & 66.8      & 28        & feminino  & 3         & 3         & NA        & 3         & 163       & 1         & 0         & 0        \\\\\n",
       "\\end{tabular}\n"
      ],
      "text/markdown": [
       "\n",
       "| altura_w00203 | peso_w00103 | idade_c008 | sexo_c006 | diag_diabetes_q030 | pressao_alta_q002 | ativ_fisica_p035 | exame_diab_q029 | altura_tab | pontos_alt_peso | pontos_idade | pontos_sexo |\n",
       "|---|---|---|---|---|---|---|---|---|---|---|---|\n",
       "| 162.0     | 59.5      | 35        | masculino | 3         | 3         | NA        | 5         | 163       | 0         | 0         | 1         |\n",
       "| 169.0     | 81.2      | 42        | masculino |           |           |  1        | 6         | 170       | 1         | 1         | 1         |\n",
       "| 170.0     | 55.0      | 32        | feminino  | 3         | 3         | NA        | 3         | 170       | 0         | 0         | 0         |\n",
       "|    NA     |   NA      | 27        | feminino  | 2         | 2         | NA        | 1         |   0       | 0         | 0         | 0         |\n",
       "| 169.4     | 78.0      | 53        | masculino | 3         | 3         | NA        | 5         | 170       | 1         | 2         | 1         |\n",
       "| 161.5     | 66.8      | 28        | feminino  | 3         | 3         | NA        | 3         | 163       | 1         | 0         | 0         |\n",
       "\n"
      ],
      "text/plain": [
       "  altura_w00203 peso_w00103 idade_c008 sexo_c006 diag_diabetes_q030\n",
       "1 162.0         59.5        35         masculino 3                 \n",
       "2 169.0         81.2        42         masculino                   \n",
       "3 170.0         55.0        32         feminino  3                 \n",
       "4    NA           NA        27         feminino  2                 \n",
       "5 169.4         78.0        53         masculino 3                 \n",
       "6 161.5         66.8        28         feminino  3                 \n",
       "  pressao_alta_q002 ativ_fisica_p035 exame_diab_q029 altura_tab pontos_alt_peso\n",
       "1 3                 NA               5               163        0              \n",
       "2                    1               6               170        1              \n",
       "3 3                 NA               3               170        0              \n",
       "4 2                 NA               1                 0        0              \n",
       "5 3                 NA               5               170        1              \n",
       "6 3                 NA               3               163        1              \n",
       "  pontos_idade pontos_sexo\n",
       "1 0            1          \n",
       "2 1            1          \n",
       "3 0            0          \n",
       "4 0            0          \n",
       "5 2            1          \n",
       "6 0            0          "
      ]
     },
     "metadata": {},
     "output_type": "display_data"
    }
   ],
   "source": [
    "head(df_analise$variables)"
   ]
  },
  {
   "cell_type": "code",
   "execution_count": 79,
   "metadata": {},
   "outputs": [],
   "source": [
    "df_analise <- df_analise %>% \n",
    "     mutate(pontos_sgrav = case_when(diag_diabetes_q030 == \"2\" ~ 1,\n",
    "                                    TRUE ~ 0))"
   ]
  },
  {
   "cell_type": "code",
   "execution_count": 80,
   "metadata": {},
   "outputs": [
    {
     "data": {
      "text/html": [
       "<table>\n",
       "<thead><tr><th scope=col>altura_w00203</th><th scope=col>peso_w00103</th><th scope=col>idade_c008</th><th scope=col>sexo_c006</th><th scope=col>diag_diabetes_q030</th><th scope=col>pressao_alta_q002</th><th scope=col>ativ_fisica_p035</th><th scope=col>exame_diab_q029</th><th scope=col>altura_tab</th><th scope=col>pontos_alt_peso</th><th scope=col>pontos_idade</th><th scope=col>pontos_sexo</th><th scope=col>pontos_sgrav</th></tr></thead>\n",
       "<tbody>\n",
       "\t<tr><td>162.0    </td><td>59.5     </td><td>35       </td><td>masculino</td><td>3        </td><td>3        </td><td>NA       </td><td>5        </td><td>163      </td><td>0        </td><td>0        </td><td>1        </td><td>0        </td></tr>\n",
       "\t<tr><td>169.0    </td><td>81.2     </td><td>42       </td><td>masculino</td><td>         </td><td>         </td><td> 1       </td><td>6        </td><td>170      </td><td>1        </td><td>1        </td><td>1        </td><td>0        </td></tr>\n",
       "\t<tr><td>170.0    </td><td>55.0     </td><td>32       </td><td>feminino </td><td>3        </td><td>3        </td><td>NA       </td><td>3        </td><td>170      </td><td>0        </td><td>0        </td><td>0        </td><td>0        </td></tr>\n",
       "\t<tr><td>   NA    </td><td>  NA     </td><td>27       </td><td>feminino </td><td>2        </td><td>2        </td><td>NA       </td><td>1        </td><td>  0      </td><td>0        </td><td>0        </td><td>0        </td><td>1        </td></tr>\n",
       "\t<tr><td>169.4    </td><td>78.0     </td><td>53       </td><td>masculino</td><td>3        </td><td>3        </td><td>NA       </td><td>5        </td><td>170      </td><td>1        </td><td>2        </td><td>1        </td><td>0        </td></tr>\n",
       "\t<tr><td>161.5    </td><td>66.8     </td><td>28       </td><td>feminino </td><td>3        </td><td>3        </td><td>NA       </td><td>3        </td><td>163      </td><td>1        </td><td>0        </td><td>0        </td><td>0        </td></tr>\n",
       "</tbody>\n",
       "</table>\n"
      ],
      "text/latex": [
       "\\begin{tabular}{r|lllllllllllll}\n",
       " altura\\_w00203 & peso\\_w00103 & idade\\_c008 & sexo\\_c006 & diag\\_diabetes\\_q030 & pressao\\_alta\\_q002 & ativ\\_fisica\\_p035 & exame\\_diab\\_q029 & altura\\_tab & pontos\\_alt\\_peso & pontos\\_idade & pontos\\_sexo & pontos\\_sgrav\\\\\n",
       "\\hline\n",
       "\t 162.0     & 59.5      & 35        & masculino & 3         & 3         & NA        & 5         & 163       & 0         & 0         & 1         & 0        \\\\\n",
       "\t 169.0     & 81.2      & 42        & masculino &           &           &  1        & 6         & 170       & 1         & 1         & 1         & 0        \\\\\n",
       "\t 170.0     & 55.0      & 32        & feminino  & 3         & 3         & NA        & 3         & 170       & 0         & 0         & 0         & 0        \\\\\n",
       "\t    NA     &   NA      & 27        & feminino  & 2         & 2         & NA        & 1         &   0       & 0         & 0         & 0         & 1        \\\\\n",
       "\t 169.4     & 78.0      & 53        & masculino & 3         & 3         & NA        & 5         & 170       & 1         & 2         & 1         & 0        \\\\\n",
       "\t 161.5     & 66.8      & 28        & feminino  & 3         & 3         & NA        & 3         & 163       & 1         & 0         & 0         & 0        \\\\\n",
       "\\end{tabular}\n"
      ],
      "text/markdown": [
       "\n",
       "| altura_w00203 | peso_w00103 | idade_c008 | sexo_c006 | diag_diabetes_q030 | pressao_alta_q002 | ativ_fisica_p035 | exame_diab_q029 | altura_tab | pontos_alt_peso | pontos_idade | pontos_sexo | pontos_sgrav |\n",
       "|---|---|---|---|---|---|---|---|---|---|---|---|---|\n",
       "| 162.0     | 59.5      | 35        | masculino | 3         | 3         | NA        | 5         | 163       | 0         | 0         | 1         | 0         |\n",
       "| 169.0     | 81.2      | 42        | masculino |           |           |  1        | 6         | 170       | 1         | 1         | 1         | 0         |\n",
       "| 170.0     | 55.0      | 32        | feminino  | 3         | 3         | NA        | 3         | 170       | 0         | 0         | 0         | 0         |\n",
       "|    NA     |   NA      | 27        | feminino  | 2         | 2         | NA        | 1         |   0       | 0         | 0         | 0         | 1         |\n",
       "| 169.4     | 78.0      | 53        | masculino | 3         | 3         | NA        | 5         | 170       | 1         | 2         | 1         | 0         |\n",
       "| 161.5     | 66.8      | 28        | feminino  | 3         | 3         | NA        | 3         | 163       | 1         | 0         | 0         | 0         |\n",
       "\n"
      ],
      "text/plain": [
       "  altura_w00203 peso_w00103 idade_c008 sexo_c006 diag_diabetes_q030\n",
       "1 162.0         59.5        35         masculino 3                 \n",
       "2 169.0         81.2        42         masculino                   \n",
       "3 170.0         55.0        32         feminino  3                 \n",
       "4    NA           NA        27         feminino  2                 \n",
       "5 169.4         78.0        53         masculino 3                 \n",
       "6 161.5         66.8        28         feminino  3                 \n",
       "  pressao_alta_q002 ativ_fisica_p035 exame_diab_q029 altura_tab pontos_alt_peso\n",
       "1 3                 NA               5               163        0              \n",
       "2                    1               6               170        1              \n",
       "3 3                 NA               3               170        0              \n",
       "4 2                 NA               1                 0        0              \n",
       "5 3                 NA               5               170        1              \n",
       "6 3                 NA               3               163        1              \n",
       "  pontos_idade pontos_sexo pontos_sgrav\n",
       "1 0            1           0           \n",
       "2 1            1           0           \n",
       "3 0            0           0           \n",
       "4 0            0           1           \n",
       "5 2            1           0           \n",
       "6 0            0           0           "
      ]
     },
     "metadata": {},
     "output_type": "display_data"
    }
   ],
   "source": [
    "head(df_analise$variables)"
   ]
  },
  {
   "cell_type": "code",
   "execution_count": 81,
   "metadata": {},
   "outputs": [],
   "source": [
    "df_analise <- df_analise %>% \n",
    "     mutate(pontos_hipertensao = case_when(pressao_alta_q002 == \"1\" ~ 1,\n",
    "                               TRUE ~ 0))"
   ]
  },
  {
   "cell_type": "code",
   "execution_count": 82,
   "metadata": {},
   "outputs": [
    {
     "data": {
      "text/html": [
       "<table>\n",
       "<thead><tr><th scope=col>altura_w00203</th><th scope=col>peso_w00103</th><th scope=col>idade_c008</th><th scope=col>sexo_c006</th><th scope=col>diag_diabetes_q030</th><th scope=col>pressao_alta_q002</th><th scope=col>ativ_fisica_p035</th><th scope=col>exame_diab_q029</th><th scope=col>altura_tab</th><th scope=col>pontos_alt_peso</th><th scope=col>pontos_idade</th><th scope=col>pontos_sexo</th><th scope=col>pontos_sgrav</th><th scope=col>pontos_hipertensao</th></tr></thead>\n",
       "<tbody>\n",
       "\t<tr><td>162.0    </td><td>59.5     </td><td>35       </td><td>masculino</td><td>3        </td><td>3        </td><td>NA       </td><td>5        </td><td>163      </td><td>0        </td><td>0        </td><td>1        </td><td>0        </td><td>0        </td></tr>\n",
       "\t<tr><td>169.0    </td><td>81.2     </td><td>42       </td><td>masculino</td><td>         </td><td>         </td><td> 1       </td><td>6        </td><td>170      </td><td>1        </td><td>1        </td><td>1        </td><td>0        </td><td>0        </td></tr>\n",
       "\t<tr><td>170.0    </td><td>55.0     </td><td>32       </td><td>feminino </td><td>3        </td><td>3        </td><td>NA       </td><td>3        </td><td>170      </td><td>0        </td><td>0        </td><td>0        </td><td>0        </td><td>0        </td></tr>\n",
       "\t<tr><td>   NA    </td><td>  NA     </td><td>27       </td><td>feminino </td><td>2        </td><td>2        </td><td>NA       </td><td>1        </td><td>  0      </td><td>0        </td><td>0        </td><td>0        </td><td>1        </td><td>0        </td></tr>\n",
       "\t<tr><td>169.4    </td><td>78.0     </td><td>53       </td><td>masculino</td><td>3        </td><td>3        </td><td>NA       </td><td>5        </td><td>170      </td><td>1        </td><td>2        </td><td>1        </td><td>0        </td><td>0        </td></tr>\n",
       "\t<tr><td>161.5    </td><td>66.8     </td><td>28       </td><td>feminino </td><td>3        </td><td>3        </td><td>NA       </td><td>3        </td><td>163      </td><td>1        </td><td>0        </td><td>0        </td><td>0        </td><td>0        </td></tr>\n",
       "</tbody>\n",
       "</table>\n"
      ],
      "text/latex": [
       "\\begin{tabular}{r|llllllllllllll}\n",
       " altura\\_w00203 & peso\\_w00103 & idade\\_c008 & sexo\\_c006 & diag\\_diabetes\\_q030 & pressao\\_alta\\_q002 & ativ\\_fisica\\_p035 & exame\\_diab\\_q029 & altura\\_tab & pontos\\_alt\\_peso & pontos\\_idade & pontos\\_sexo & pontos\\_sgrav & pontos\\_hipertensao\\\\\n",
       "\\hline\n",
       "\t 162.0     & 59.5      & 35        & masculino & 3         & 3         & NA        & 5         & 163       & 0         & 0         & 1         & 0         & 0        \\\\\n",
       "\t 169.0     & 81.2      & 42        & masculino &           &           &  1        & 6         & 170       & 1         & 1         & 1         & 0         & 0        \\\\\n",
       "\t 170.0     & 55.0      & 32        & feminino  & 3         & 3         & NA        & 3         & 170       & 0         & 0         & 0         & 0         & 0        \\\\\n",
       "\t    NA     &   NA      & 27        & feminino  & 2         & 2         & NA        & 1         &   0       & 0         & 0         & 0         & 1         & 0        \\\\\n",
       "\t 169.4     & 78.0      & 53        & masculino & 3         & 3         & NA        & 5         & 170       & 1         & 2         & 1         & 0         & 0        \\\\\n",
       "\t 161.5     & 66.8      & 28        & feminino  & 3         & 3         & NA        & 3         & 163       & 1         & 0         & 0         & 0         & 0        \\\\\n",
       "\\end{tabular}\n"
      ],
      "text/markdown": [
       "\n",
       "| altura_w00203 | peso_w00103 | idade_c008 | sexo_c006 | diag_diabetes_q030 | pressao_alta_q002 | ativ_fisica_p035 | exame_diab_q029 | altura_tab | pontos_alt_peso | pontos_idade | pontos_sexo | pontos_sgrav | pontos_hipertensao |\n",
       "|---|---|---|---|---|---|---|---|---|---|---|---|---|---|\n",
       "| 162.0     | 59.5      | 35        | masculino | 3         | 3         | NA        | 5         | 163       | 0         | 0         | 1         | 0         | 0         |\n",
       "| 169.0     | 81.2      | 42        | masculino |           |           |  1        | 6         | 170       | 1         | 1         | 1         | 0         | 0         |\n",
       "| 170.0     | 55.0      | 32        | feminino  | 3         | 3         | NA        | 3         | 170       | 0         | 0         | 0         | 0         | 0         |\n",
       "|    NA     |   NA      | 27        | feminino  | 2         | 2         | NA        | 1         |   0       | 0         | 0         | 0         | 1         | 0         |\n",
       "| 169.4     | 78.0      | 53        | masculino | 3         | 3         | NA        | 5         | 170       | 1         | 2         | 1         | 0         | 0         |\n",
       "| 161.5     | 66.8      | 28        | feminino  | 3         | 3         | NA        | 3         | 163       | 1         | 0         | 0         | 0         | 0         |\n",
       "\n"
      ],
      "text/plain": [
       "  altura_w00203 peso_w00103 idade_c008 sexo_c006 diag_diabetes_q030\n",
       "1 162.0         59.5        35         masculino 3                 \n",
       "2 169.0         81.2        42         masculino                   \n",
       "3 170.0         55.0        32         feminino  3                 \n",
       "4    NA           NA        27         feminino  2                 \n",
       "5 169.4         78.0        53         masculino 3                 \n",
       "6 161.5         66.8        28         feminino  3                 \n",
       "  pressao_alta_q002 ativ_fisica_p035 exame_diab_q029 altura_tab pontos_alt_peso\n",
       "1 3                 NA               5               163        0              \n",
       "2                    1               6               170        1              \n",
       "3 3                 NA               3               170        0              \n",
       "4 2                 NA               1                 0        0              \n",
       "5 3                 NA               5               170        1              \n",
       "6 3                 NA               3               163        1              \n",
       "  pontos_idade pontos_sexo pontos_sgrav pontos_hipertensao\n",
       "1 0            1           0            0                 \n",
       "2 1            1           0            0                 \n",
       "3 0            0           0            0                 \n",
       "4 0            0           1            0                 \n",
       "5 2            1           0            0                 \n",
       "6 0            0           0            0                 "
      ]
     },
     "metadata": {},
     "output_type": "display_data"
    }
   ],
   "source": [
    "head(df_analise$variables)"
   ]
  },
  {
   "cell_type": "code",
   "execution_count": 83,
   "metadata": {},
   "outputs": [],
   "source": [
    "df_analise <- df_analise %>% \n",
    "     mutate(pontos_atv_fisica = case_when(ativ_fisica_p035 >= 2 ~ 0,\n",
    "                               TRUE ~ 1))"
   ]
  },
  {
   "cell_type": "code",
   "execution_count": 84,
   "metadata": {},
   "outputs": [
    {
     "data": {
      "text/html": [
       "<table>\n",
       "<thead><tr><th scope=col>altura_w00203</th><th scope=col>peso_w00103</th><th scope=col>idade_c008</th><th scope=col>sexo_c006</th><th scope=col>diag_diabetes_q030</th><th scope=col>pressao_alta_q002</th><th scope=col>ativ_fisica_p035</th><th scope=col>exame_diab_q029</th><th scope=col>altura_tab</th><th scope=col>pontos_alt_peso</th><th scope=col>pontos_idade</th><th scope=col>pontos_sexo</th><th scope=col>pontos_sgrav</th><th scope=col>pontos_hipertensao</th><th scope=col>pontos_atv_fisica</th></tr></thead>\n",
       "<tbody>\n",
       "\t<tr><td>162.0    </td><td>59.5     </td><td>35       </td><td>masculino</td><td>3        </td><td>3        </td><td>NA       </td><td>5        </td><td>163      </td><td>0        </td><td>0        </td><td>1        </td><td>0        </td><td>0        </td><td>1        </td></tr>\n",
       "\t<tr><td>169.0    </td><td>81.2     </td><td>42       </td><td>masculino</td><td>         </td><td>         </td><td> 1       </td><td>6        </td><td>170      </td><td>1        </td><td>1        </td><td>1        </td><td>0        </td><td>0        </td><td>1        </td></tr>\n",
       "\t<tr><td>170.0    </td><td>55.0     </td><td>32       </td><td>feminino </td><td>3        </td><td>3        </td><td>NA       </td><td>3        </td><td>170      </td><td>0        </td><td>0        </td><td>0        </td><td>0        </td><td>0        </td><td>1        </td></tr>\n",
       "\t<tr><td>   NA    </td><td>  NA     </td><td>27       </td><td>feminino </td><td>2        </td><td>2        </td><td>NA       </td><td>1        </td><td>  0      </td><td>0        </td><td>0        </td><td>0        </td><td>1        </td><td>0        </td><td>1        </td></tr>\n",
       "\t<tr><td>169.4    </td><td>78.0     </td><td>53       </td><td>masculino</td><td>3        </td><td>3        </td><td>NA       </td><td>5        </td><td>170      </td><td>1        </td><td>2        </td><td>1        </td><td>0        </td><td>0        </td><td>1        </td></tr>\n",
       "\t<tr><td>161.5    </td><td>66.8     </td><td>28       </td><td>feminino </td><td>3        </td><td>3        </td><td>NA       </td><td>3        </td><td>163      </td><td>1        </td><td>0        </td><td>0        </td><td>0        </td><td>0        </td><td>1        </td></tr>\n",
       "</tbody>\n",
       "</table>\n"
      ],
      "text/latex": [
       "\\begin{tabular}{r|lllllllllllllll}\n",
       " altura\\_w00203 & peso\\_w00103 & idade\\_c008 & sexo\\_c006 & diag\\_diabetes\\_q030 & pressao\\_alta\\_q002 & ativ\\_fisica\\_p035 & exame\\_diab\\_q029 & altura\\_tab & pontos\\_alt\\_peso & pontos\\_idade & pontos\\_sexo & pontos\\_sgrav & pontos\\_hipertensao & pontos\\_atv\\_fisica\\\\\n",
       "\\hline\n",
       "\t 162.0     & 59.5      & 35        & masculino & 3         & 3         & NA        & 5         & 163       & 0         & 0         & 1         & 0         & 0         & 1        \\\\\n",
       "\t 169.0     & 81.2      & 42        & masculino &           &           &  1        & 6         & 170       & 1         & 1         & 1         & 0         & 0         & 1        \\\\\n",
       "\t 170.0     & 55.0      & 32        & feminino  & 3         & 3         & NA        & 3         & 170       & 0         & 0         & 0         & 0         & 0         & 1        \\\\\n",
       "\t    NA     &   NA      & 27        & feminino  & 2         & 2         & NA        & 1         &   0       & 0         & 0         & 0         & 1         & 0         & 1        \\\\\n",
       "\t 169.4     & 78.0      & 53        & masculino & 3         & 3         & NA        & 5         & 170       & 1         & 2         & 1         & 0         & 0         & 1        \\\\\n",
       "\t 161.5     & 66.8      & 28        & feminino  & 3         & 3         & NA        & 3         & 163       & 1         & 0         & 0         & 0         & 0         & 1        \\\\\n",
       "\\end{tabular}\n"
      ],
      "text/markdown": [
       "\n",
       "| altura_w00203 | peso_w00103 | idade_c008 | sexo_c006 | diag_diabetes_q030 | pressao_alta_q002 | ativ_fisica_p035 | exame_diab_q029 | altura_tab | pontos_alt_peso | pontos_idade | pontos_sexo | pontos_sgrav | pontos_hipertensao | pontos_atv_fisica |\n",
       "|---|---|---|---|---|---|---|---|---|---|---|---|---|---|---|\n",
       "| 162.0     | 59.5      | 35        | masculino | 3         | 3         | NA        | 5         | 163       | 0         | 0         | 1         | 0         | 0         | 1         |\n",
       "| 169.0     | 81.2      | 42        | masculino |           |           |  1        | 6         | 170       | 1         | 1         | 1         | 0         | 0         | 1         |\n",
       "| 170.0     | 55.0      | 32        | feminino  | 3         | 3         | NA        | 3         | 170       | 0         | 0         | 0         | 0         | 0         | 1         |\n",
       "|    NA     |   NA      | 27        | feminino  | 2         | 2         | NA        | 1         |   0       | 0         | 0         | 0         | 1         | 0         | 1         |\n",
       "| 169.4     | 78.0      | 53        | masculino | 3         | 3         | NA        | 5         | 170       | 1         | 2         | 1         | 0         | 0         | 1         |\n",
       "| 161.5     | 66.8      | 28        | feminino  | 3         | 3         | NA        | 3         | 163       | 1         | 0         | 0         | 0         | 0         | 1         |\n",
       "\n"
      ],
      "text/plain": [
       "  altura_w00203 peso_w00103 idade_c008 sexo_c006 diag_diabetes_q030\n",
       "1 162.0         59.5        35         masculino 3                 \n",
       "2 169.0         81.2        42         masculino                   \n",
       "3 170.0         55.0        32         feminino  3                 \n",
       "4    NA           NA        27         feminino  2                 \n",
       "5 169.4         78.0        53         masculino 3                 \n",
       "6 161.5         66.8        28         feminino  3                 \n",
       "  pressao_alta_q002 ativ_fisica_p035 exame_diab_q029 altura_tab pontos_alt_peso\n",
       "1 3                 NA               5               163        0              \n",
       "2                    1               6               170        1              \n",
       "3 3                 NA               3               170        0              \n",
       "4 2                 NA               1                 0        0              \n",
       "5 3                 NA               5               170        1              \n",
       "6 3                 NA               3               163        1              \n",
       "  pontos_idade pontos_sexo pontos_sgrav pontos_hipertensao pontos_atv_fisica\n",
       "1 0            1           0            0                  1                \n",
       "2 1            1           0            0                  1                \n",
       "3 0            0           0            0                  1                \n",
       "4 0            0           1            0                  1                \n",
       "5 2            1           0            0                  1                \n",
       "6 0            0           0            0                  1                "
      ]
     },
     "metadata": {},
     "output_type": "display_data"
    }
   ],
   "source": [
    "head(df_analise$variables)"
   ]
  },
  {
   "cell_type": "code",
   "execution_count": 88,
   "metadata": {},
   "outputs": [],
   "source": [
    "df_analise <- df_analise %>% \n",
    "     mutate(pontos = pontos_idade + pontos_sexo + pontos_sgrav + pontos_hipertensao + pontos_atv_fisica + pontos_alt_peso)"
   ]
  },
  {
   "cell_type": "code",
   "execution_count": 89,
   "metadata": {},
   "outputs": [
    {
     "data": {
      "text/html": [
       "<table>\n",
       "<thead><tr><th scope=col>altura_w00203</th><th scope=col>peso_w00103</th><th scope=col>idade_c008</th><th scope=col>sexo_c006</th><th scope=col>diag_diabetes_q030</th><th scope=col>pressao_alta_q002</th><th scope=col>ativ_fisica_p035</th><th scope=col>exame_diab_q029</th><th scope=col>altura_tab</th><th scope=col>pontos_alt_peso</th><th scope=col>pontos_idade</th><th scope=col>pontos_sexo</th><th scope=col>pontos_sgrav</th><th scope=col>pontos_hipertensao</th><th scope=col>pontos_atv_fisica</th><th scope=col>pontos</th></tr></thead>\n",
       "<tbody>\n",
       "\t<tr><td>162.0    </td><td>59.5     </td><td>35       </td><td>masculino</td><td>3        </td><td>3        </td><td>NA       </td><td>5        </td><td>163      </td><td>0        </td><td>0        </td><td>1        </td><td>0        </td><td>0        </td><td>1        </td><td>2        </td></tr>\n",
       "\t<tr><td>169.0    </td><td>81.2     </td><td>42       </td><td>masculino</td><td>         </td><td>         </td><td> 1       </td><td>6        </td><td>170      </td><td>1        </td><td>1        </td><td>1        </td><td>0        </td><td>0        </td><td>1        </td><td>4        </td></tr>\n",
       "\t<tr><td>170.0    </td><td>55.0     </td><td>32       </td><td>feminino </td><td>3        </td><td>3        </td><td>NA       </td><td>3        </td><td>170      </td><td>0        </td><td>0        </td><td>0        </td><td>0        </td><td>0        </td><td>1        </td><td>1        </td></tr>\n",
       "\t<tr><td>   NA    </td><td>  NA     </td><td>27       </td><td>feminino </td><td>2        </td><td>2        </td><td>NA       </td><td>1        </td><td>  0      </td><td>0        </td><td>0        </td><td>0        </td><td>1        </td><td>0        </td><td>1        </td><td>2        </td></tr>\n",
       "\t<tr><td>169.4    </td><td>78.0     </td><td>53       </td><td>masculino</td><td>3        </td><td>3        </td><td>NA       </td><td>5        </td><td>170      </td><td>1        </td><td>2        </td><td>1        </td><td>0        </td><td>0        </td><td>1        </td><td>5        </td></tr>\n",
       "\t<tr><td>161.5    </td><td>66.8     </td><td>28       </td><td>feminino </td><td>3        </td><td>3        </td><td>NA       </td><td>3        </td><td>163      </td><td>1        </td><td>0        </td><td>0        </td><td>0        </td><td>0        </td><td>1        </td><td>2        </td></tr>\n",
       "</tbody>\n",
       "</table>\n"
      ],
      "text/latex": [
       "\\begin{tabular}{r|llllllllllllllll}\n",
       " altura\\_w00203 & peso\\_w00103 & idade\\_c008 & sexo\\_c006 & diag\\_diabetes\\_q030 & pressao\\_alta\\_q002 & ativ\\_fisica\\_p035 & exame\\_diab\\_q029 & altura\\_tab & pontos\\_alt\\_peso & pontos\\_idade & pontos\\_sexo & pontos\\_sgrav & pontos\\_hipertensao & pontos\\_atv\\_fisica & pontos\\\\\n",
       "\\hline\n",
       "\t 162.0     & 59.5      & 35        & masculino & 3         & 3         & NA        & 5         & 163       & 0         & 0         & 1         & 0         & 0         & 1         & 2        \\\\\n",
       "\t 169.0     & 81.2      & 42        & masculino &           &           &  1        & 6         & 170       & 1         & 1         & 1         & 0         & 0         & 1         & 4        \\\\\n",
       "\t 170.0     & 55.0      & 32        & feminino  & 3         & 3         & NA        & 3         & 170       & 0         & 0         & 0         & 0         & 0         & 1         & 1        \\\\\n",
       "\t    NA     &   NA      & 27        & feminino  & 2         & 2         & NA        & 1         &   0       & 0         & 0         & 0         & 1         & 0         & 1         & 2        \\\\\n",
       "\t 169.4     & 78.0      & 53        & masculino & 3         & 3         & NA        & 5         & 170       & 1         & 2         & 1         & 0         & 0         & 1         & 5        \\\\\n",
       "\t 161.5     & 66.8      & 28        & feminino  & 3         & 3         & NA        & 3         & 163       & 1         & 0         & 0         & 0         & 0         & 1         & 2        \\\\\n",
       "\\end{tabular}\n"
      ],
      "text/markdown": [
       "\n",
       "| altura_w00203 | peso_w00103 | idade_c008 | sexo_c006 | diag_diabetes_q030 | pressao_alta_q002 | ativ_fisica_p035 | exame_diab_q029 | altura_tab | pontos_alt_peso | pontos_idade | pontos_sexo | pontos_sgrav | pontos_hipertensao | pontos_atv_fisica | pontos |\n",
       "|---|---|---|---|---|---|---|---|---|---|---|---|---|---|---|---|\n",
       "| 162.0     | 59.5      | 35        | masculino | 3         | 3         | NA        | 5         | 163       | 0         | 0         | 1         | 0         | 0         | 1         | 2         |\n",
       "| 169.0     | 81.2      | 42        | masculino |           |           |  1        | 6         | 170       | 1         | 1         | 1         | 0         | 0         | 1         | 4         |\n",
       "| 170.0     | 55.0      | 32        | feminino  | 3         | 3         | NA        | 3         | 170       | 0         | 0         | 0         | 0         | 0         | 1         | 1         |\n",
       "|    NA     |   NA      | 27        | feminino  | 2         | 2         | NA        | 1         |   0       | 0         | 0         | 0         | 1         | 0         | 1         | 2         |\n",
       "| 169.4     | 78.0      | 53        | masculino | 3         | 3         | NA        | 5         | 170       | 1         | 2         | 1         | 0         | 0         | 1         | 5         |\n",
       "| 161.5     | 66.8      | 28        | feminino  | 3         | 3         | NA        | 3         | 163       | 1         | 0         | 0         | 0         | 0         | 1         | 2         |\n",
       "\n"
      ],
      "text/plain": [
       "  altura_w00203 peso_w00103 idade_c008 sexo_c006 diag_diabetes_q030\n",
       "1 162.0         59.5        35         masculino 3                 \n",
       "2 169.0         81.2        42         masculino                   \n",
       "3 170.0         55.0        32         feminino  3                 \n",
       "4    NA           NA        27         feminino  2                 \n",
       "5 169.4         78.0        53         masculino 3                 \n",
       "6 161.5         66.8        28         feminino  3                 \n",
       "  pressao_alta_q002 ativ_fisica_p035 exame_diab_q029 altura_tab pontos_alt_peso\n",
       "1 3                 NA               5               163        0              \n",
       "2                    1               6               170        1              \n",
       "3 3                 NA               3               170        0              \n",
       "4 2                 NA               1                 0        0              \n",
       "5 3                 NA               5               170        1              \n",
       "6 3                 NA               3               163        1              \n",
       "  pontos_idade pontos_sexo pontos_sgrav pontos_hipertensao pontos_atv_fisica\n",
       "1 0            1           0            0                  1                \n",
       "2 1            1           0            0                  1                \n",
       "3 0            0           0            0                  1                \n",
       "4 0            0           1            0                  1                \n",
       "5 2            1           0            0                  1                \n",
       "6 0            0           0            0                  1                \n",
       "  pontos\n",
       "1 2     \n",
       "2 4     \n",
       "3 1     \n",
       "4 2     \n",
       "5 5     \n",
       "6 2     "
      ]
     },
     "metadata": {},
     "output_type": "display_data"
    }
   ],
   "source": [
    "head(df_analise$variables)"
   ]
  },
  {
   "cell_type": "code",
   "execution_count": null,
   "metadata": {},
   "outputs": [],
   "source": []
  },
  {
   "cell_type": "code",
   "execution_count": 91,
   "metadata": {},
   "outputs": [
    {
     "data": {
      "text/html": [
       "<table>\n",
       "<thead><tr><th scope=col>pontos</th><th scope=col>Freq</th></tr></thead>\n",
       "<tbody>\n",
       "\t<tr><td>0         </td><td> 463338.22</td></tr>\n",
       "\t<tr><td>1         </td><td>3489643.94</td></tr>\n",
       "\t<tr><td>2         </td><td>5003181.31</td></tr>\n",
       "\t<tr><td>3         </td><td>3407465.16</td></tr>\n",
       "\t<tr><td>4         </td><td>2149214.84</td></tr>\n",
       "\t<tr><td>5         </td><td>1496645.92</td></tr>\n",
       "\t<tr><td>6         </td><td> 611047.81</td></tr>\n",
       "\t<tr><td>7         </td><td> 118100.09</td></tr>\n",
       "\t<tr><td>8         </td><td>  13795.96</td></tr>\n",
       "\t<tr><td>9         </td><td>      0.00</td></tr>\n",
       "</tbody>\n",
       "</table>\n"
      ],
      "text/latex": [
       "\\begin{tabular}{r|ll}\n",
       " pontos & Freq\\\\\n",
       "\\hline\n",
       "\t 0          &  463338.22\\\\\n",
       "\t 1          & 3489643.94\\\\\n",
       "\t 2          & 5003181.31\\\\\n",
       "\t 3          & 3407465.16\\\\\n",
       "\t 4          & 2149214.84\\\\\n",
       "\t 5          & 1496645.92\\\\\n",
       "\t 6          &  611047.81\\\\\n",
       "\t 7          &  118100.09\\\\\n",
       "\t 8          &   13795.96\\\\\n",
       "\t 9          &       0.00\\\\\n",
       "\\end{tabular}\n"
      ],
      "text/markdown": [
       "\n",
       "| pontos | Freq |\n",
       "|---|---|\n",
       "| 0          |  463338.22 |\n",
       "| 1          | 3489643.94 |\n",
       "| 2          | 5003181.31 |\n",
       "| 3          | 3407465.16 |\n",
       "| 4          | 2149214.84 |\n",
       "| 5          | 1496645.92 |\n",
       "| 6          |  611047.81 |\n",
       "| 7          |  118100.09 |\n",
       "| 8          |   13795.96 |\n",
       "| 9          |       0.00 |\n",
       "\n"
      ],
      "text/plain": [
       "   pontos Freq      \n",
       "1  0       463338.22\n",
       "2  1      3489643.94\n",
       "3  2      5003181.31\n",
       "4  3      3407465.16\n",
       "5  4      2149214.84\n",
       "6  5      1496645.92\n",
       "7  6       611047.81\n",
       "8  7       118100.09\n",
       "9  8        13795.96\n",
       "10 9            0.00"
      ]
     },
     "metadata": {},
     "output_type": "display_data"
    }
   ],
   "source": [
    "diab_tot <- as.data.frame(survey::svytable(~ pontos, subset(df_analise, diag_diabetes_q030==\" \")))\n",
    "diab_tot"
   ]
  },
  {
   "cell_type": "markdown",
   "metadata": {},
   "source": [
    "#### Total de pessoas sem exames"
   ]
  },
  {
   "cell_type": "code",
   "execution_count": 102,
   "metadata": {},
   "outputs": [
    {
     "data": {
      "text/html": [
       "16752433.2626118"
      ],
      "text/latex": [
       "16752433.2626118"
      ],
      "text/markdown": [
       "16752433.2626118"
      ],
      "text/plain": [
       "[1] 16752433"
      ]
     },
     "metadata": {},
     "output_type": "display_data"
    }
   ],
   "source": [
    "tot = sum(diab_tot$Freq)\n",
    "tot"
   ]
  },
  {
   "cell_type": "code",
   "execution_count": 98,
   "metadata": {},
   "outputs": [],
   "source": [
    "diab_tot$pontos = as.character(diab_tot$pontos)"
   ]
  },
  {
   "cell_type": "markdown",
   "metadata": {},
   "source": [
    "#### Total de pessoas sem exames com > 4 pontos"
   ]
  },
  {
   "cell_type": "code",
   "execution_count": 103,
   "metadata": {},
   "outputs": [
    {
     "data": {
      "text/html": [
       "2239589.78658239"
      ],
      "text/latex": [
       "2239589.78658239"
      ],
      "text/markdown": [
       "2239589.78658239"
      ],
      "text/plain": [
       "[1] 2239590"
      ]
     },
     "metadata": {},
     "output_type": "display_data"
    }
   ],
   "source": [
    "tot_5 = sum(diab_tot[diab_tot$pontos >= 5, \"Freq\"])\n",
    "tot_5"
   ]
  },
  {
   "cell_type": "markdown",
   "metadata": {},
   "source": [
    "#### Porcentagem de pessoas sem exames com > 4 pontos"
   ]
  },
  {
   "cell_type": "code",
   "execution_count": 104,
   "metadata": {},
   "outputs": [
    {
     "data": {
      "text/html": [
       "0.133687432235932"
      ],
      "text/latex": [
       "0.133687432235932"
      ],
      "text/markdown": [
       "0.133687432235932"
      ],
      "text/plain": [
       "[1] 0.1336874"
      ]
     },
     "metadata": {},
     "output_type": "display_data"
    }
   ],
   "source": [
    "tot_5 / tot"
   ]
  },
  {
   "cell_type": "code",
   "execution_count": null,
   "metadata": {},
   "outputs": [],
   "source": []
  }
 ],
 "metadata": {
  "jupytext": {
   "cell_metadata_filter": "tags,name,message,warning,-all",
   "main_language": "R",
   "notebook_metadata_filter": "-all"
  },
  "kernelspec": {
   "display_name": "R",
   "language": "R",
   "name": "ir"
  },
  "language_info": {
   "name": ""
  }
 },
 "nbformat": 4,
 "nbformat_minor": 4
}
