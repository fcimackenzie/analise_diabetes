{
 "cells": [
  {
   "cell_type": "raw",
   "metadata": {},
   "source": [
    "---\n",
    "title: \"Análise, PNS - DIABETES\"\n",
    "author: \"Diego Aguirre, Gabriel Rodrigues, Henrique Alves\"\n",
    "date: '2019'\n",
    "output:\n",
    "  html_document: default\n",
    "  pdf_document: default\n",
    "  word_document: default\n",
    "subtitle: Data Prep\n",
    "---"
   ]
  },
  {
   "cell_type": "code",
   "execution_count": 13,
   "metadata": {},
   "outputs": [
    {
     "name": "stderr",
     "output_type": "stream",
     "text": [
      "also installing the dependencies 'rlang', 'dplyr'\n",
      "\n",
      "Warning message:\n",
      "\"package 'dplyr' is in use and will not be installed\""
     ]
    },
    {
     "name": "stdout",
     "output_type": "stream",
     "text": [
      "package 'rlang' successfully unpacked and MD5 sums checked\n"
     ]
    },
    {
     "name": "stderr",
     "output_type": "stream",
     "text": [
      "Warning message:\n",
      "\"cannot remove prior installation of package 'rlang'\"Warning message in file.copy(savedcopy, lib, recursive = TRUE):\n",
      "\"problem copying C:\\Users\\Henrique\\Anaconda3\\Lib\\R\\library\\00LOCK\\rlang\\libs\\x64\\rlang.dll to C:\\Users\\Henrique\\Anaconda3\\Lib\\R\\library\\rlang\\libs\\x64\\rlang.dll: Permission denied\"Warning message:\n",
      "\"restored 'rlang'\""
     ]
    },
    {
     "name": "stdout",
     "output_type": "stream",
     "text": [
      "package 'tidyr' successfully unpacked and MD5 sums checked\n",
      "\n",
      "The downloaded binary packages are in\n",
      "\tC:\\Users\\Public\\Documents\\Wondershare\\CreatorTemp\\RtmponNWEJ\\downloaded_packages\n"
     ]
    }
   ],
   "source": [
    "install.packages(\"tidyr\")"
   ]
  },
  {
   "cell_type": "code",
   "execution_count": 4,
   "metadata": {
    "message": false,
    "scrolled": true,
    "tags": [
     "remove_input"
    ],
    "warning": false
   },
   "outputs": [
    {
     "name": "stderr",
     "output_type": "stream",
     "text": [
      "Warning message:\n",
      "\"package 'srvyr' was built under R version 3.6.3\"\n",
      "Attaching package: 'srvyr'\n",
      "\n",
      "The following object is masked from 'package:stats':\n",
      "\n",
      "    filter\n",
      "\n",
      "Registered S3 methods overwritten by 'ggplot2':\n",
      "  method         from \n",
      "  [.quosures     rlang\n",
      "  c.quosures     rlang\n",
      "  print.quosures rlang\n",
      "Warning message:\n",
      "\"package 'ggpubr' was built under R version 3.6.3\"Loading required package: magrittr\n",
      "\n",
      "Attaching package: 'dplyr'\n",
      "\n",
      "The following objects are masked from 'package:stats':\n",
      "\n",
      "    filter, lag\n",
      "\n",
      "The following objects are masked from 'package:base':\n",
      "\n",
      "    intersect, setdiff, setequal, union\n",
      "\n",
      "dummies-1.5.6 provided by Decision Patterns\n",
      "\n",
      "Warning message:\n",
      "\"package 'mlr' was built under R version 3.6.3\"Loading required package: ParamHelpers\n",
      "Warning message:\n",
      "\"package 'ParamHelpers' was built under R version 3.6.3\"'mlr' is in maintenance mode since July 2019. Future development\n",
      "efforts will go into its successor 'mlr3' (<https://mlr3.mlr-org.com>).\n",
      "Warning message:\n",
      "\"package 'caret' was built under R version 3.6.3\"Loading required package: lattice\n"
     ]
    },
    {
     "ename": "ERROR",
     "evalue": "Error: package or namespace load failed for 'caret' in loadNamespace(i, c(lib.loc, .libPaths()), versionCheck = vI[[i]]):\n namespace 'rlang' 0.3.4 is already loaded, but >= 0.4.0 is required\n",
     "output_type": "error",
     "traceback": [
      "Error: package or namespace load failed for 'caret' in loadNamespace(i, c(lib.loc, .libPaths()), versionCheck = vI[[i]]):\n namespace 'rlang' 0.3.4 is already loaded, but >= 0.4.0 is required\nTraceback:\n",
      "1. library(caret)",
      "2. tryCatch({\n .     attr(package, \"LibPath\") <- which.lib.loc\n .     ns <- loadNamespace(package, lib.loc)\n .     env <- attachNamespace(ns, pos = pos, deps, exclude, include.only)\n . }, error = function(e) {\n .     P <- if (!is.null(cc <- conditionCall(e))) \n .         paste(\" in\", deparse(cc)[1L])\n .     else \"\"\n .     msg <- gettextf(\"package or namespace load failed for %s%s:\\n %s\", \n .         sQuote(package), P, conditionMessage(e))\n .     if (logical.return) \n .         message(paste(\"Error:\", msg), domain = NA)\n .     else stop(msg, call. = FALSE, domain = NA)\n . })",
      "3. tryCatchList(expr, classes, parentenv, handlers)",
      "4. tryCatchOne(expr, names, parentenv, handlers[[1L]])",
      "5. value[[3L]](cond)",
      "6. stop(msg, call. = FALSE, domain = NA)"
     ]
    }
   ],
   "source": [
    "library(srvyr)\n",
    "library(ggplot2)\n",
    "library(ggpubr)\n",
    "library(dplyr)\n",
    "library(knitr)\n",
    "# library(tidyr)\n",
    "library(dummies)\n",
    "library(mlr)\n",
    "library(caret)\n",
    "library(brazilmaps)\n",
    "library(AER)"
   ]
  },
  {
   "cell_type": "markdown",
   "metadata": {},
   "source": [
    "# Introdução\n",
    "\n",
    "## R Markdown\n",
    "\n",
    "## Leitura e preparação dos dados\n",
    "\n",
    "Os dados da Pesquisa Nacional de Saúde 2013 são disponibilizados pelo IBGE no seu site. \n",
    "\n",
    "**É importante lembrar que os dados relacionados a diabetes consideram pessoas com 18 anos ou mais**; por isso, o total de pessoas não é exatamente a população brasileira, isto é, perto de 200 milhões. mas é aproximadamente 143 milhões, com os dados de 2013."
   ]
  },
  {
   "cell_type": "code",
   "execution_count": 5,
   "metadata": {
    "lines_to_next_cell": 2,
    "message": false,
    "scrolled": true,
    "tags": [
     "remove_input"
    ],
    "warning": false
   },
   "outputs": [],
   "source": [
    "#ajustar como os resutados serão mostrados\n",
    "options( survey.lonely.psu = \"adjust\" )\n",
    "\n",
    "library(survey)\n",
    "\n",
    "#importando a biblioteca.\n",
    "pns_design <- readRDS(file.path(path.expand( \"..\" ) ,\n",
    "                                \"databases\",\n",
    "                                \"2013 long questionnaire survey design.rds\" ))"
   ]
  },
  {
   "cell_type": "markdown",
   "metadata": {},
   "source": [
    "### Variáveis interessantes para análise\n",
    "\n",
    "Variáveis Demográficas e Pessoais:\n",
    "\n",
    "* `c006` - Sexo:\n",
    "    + `1` - masculino\n",
    "    + `2` - feminino\n",
    "* `c009` - Cor ou Raça\n",
    "   + `1` - Branca\n",
    "   + `2` - Preta\n",
    "   + `3` - Amarela\n",
    "   + `4` - Parda\n",
    "   + `5` - Indígena\n",
    "   + `9` - Ignorado\n",
    "* `d009` - curso mais avançado que cursou?\n",
    "   + `01` - Classe de alfabetização – CA \n",
    "   + `02` - Alfabetização de jovens e adultos\n",
    "   + `03` - Antigo primário (elementar)\n",
    "   + `04` - Antigo ginásio (médio 1º ciclo)\n",
    "   + `05` - Regular do ensino fundamental ou do 1º grau \n",
    "   + `06` - Educação de jovens e adultos (EJA) ou supletivo do ensino fundamental\n",
    "   + `07` - Antigo científico, clássico etc. (médio 2º ciclo)\n",
    "   + `08` - Regular do ensino médio ou do 2º grau\n",
    "   + `09` - Educação de jovens e adultos (EJA) ou supletivo do ensino médio\n",
    "   + `10` - Superior - graduação\n",
    "   + `11` - Mestrado\n",
    "   + `12` - Doutorado\n",
    "   + `  ` - Não aplicável\n",
    "\n",
    "Variáveis de Estilo de vida:\n",
    "\n",
    "* `p009` - quantos dias na semana o indivíduo come vegetais\n",
    "* `p018` - quantos dias na semana o indivíduo come frutas\n",
    "* `p020` - quantos dias na semana o indivíduo consome regrigerantes e sucos industriais\n",
    "* `p025` - quantos dias na semana o indivíduo come alimentos doces(bolos, tortas, chocolates...)\n",
    "* `p026` - quantos dias na semana o indivíduo substitui almoço ou janta por sanduiches, salgados ou pizzas.\n",
    "* `p028` - quantos dias na semana o indivíduo consome bebidas alcoolicas\n",
    "* `p035`  - quantos dias por semana costuma praticar exerc físico ou esporte\n",
    "* `w00103` - peso final (medido) (kg)\n",
    "* `w00203` - altura final (medido) (cm)"
   ]
  },
  {
   "cell_type": "markdown",
   "metadata": {},
   "source": [
    "Variáveis de Doenças Crônicas\n",
    "\n",
    "* `Q002`\t- Algum médico já lhe deu o diagnóstico de hipertensão arterial (pressão alta)?\n",
    "   + `1` - Sim\n",
    "   + `2` - Apenas durante a gravidez\n",
    "   + `3` - Não\n",
    "            Não aplicavel\n",
    "* `Q029`\t- Quando foi a última vez que o(a) Sr(a) fez exame de sangue para medir a glicemia, isto é, o açúcar no sangue?\n",
    "   + `1` - Há menos de 6 meses\n",
    "   + `2` - Entre 6 meses  e menos de 1 ano\n",
    "   + `3` - Entre 1 ano e menos de 2 anos\n",
    "   + `4` - Entre 2 anos e menos de 3 anos\n",
    "   + `5` - Há 3 anos ou mais\n",
    "   + `6` - Nunca fez\n",
    "            Não aplicavel\n",
    "* `Q030`\t- Algum médico já lhe deu o diagnóstico de diabetes? (CLASSE A SER PREDITA)\n",
    "   + `1` - Sim\n",
    "   + `2` - Apenas durante a gravidez (só para mulheres)\n",
    "   + `3` - Não\n",
    "            Não aplicavel\n",
    "* `Q031`\t- Que idade o(a) Sr(a) tinha no primeiro diagnóstico de diabetes? (0 =  Menos de 1 ano) (Branco = Não aplicável)\n",
    "* `Q060`\t- Algum médico já lhe deu o diagnóstico de colesterol alto?\n",
    "   + `1` - Sim\n",
    "   + `2` - Não\n",
    "            Não aplicavel\n",
    "* `Q068`\t- Algum médico já lhe deu o diagnóstico de AVC (Acidente Vascular cerebral) ou derrame?\n",
    "   + `1` - Sim\n",
    "   + `2` - Não\n",
    "            Não aplicavel\n",
    "* `Q124`\t- Algum médico já lhe deu o diagnóstico de insuficiência renal crônica?\n",
    "   + `1` - Sim\n",
    "   + `2` - Não\n",
    "            Não aplicavel\n",
    "* `R039`\t-R39. Durante a sua vida, a sra já ficou grávida (mesmo que a gravidez não tenha chegado até o final)?\n",
    "   + `1` - Sim\n",
    "   + `2` - Não\n",
    "            Não aplicavel\n",
    "\n",
    "Variáveis de Identificação e controle\n",
    "\n",
    "* `V0001`\t-V0001. Unidade da Federação\n",
    "* `V0026`\t-V0026. Tipo de situação censitária\n",
    "\n"
   ]
  },
  {
   "cell_type": "code",
   "execution_count": 6,
   "metadata": {
    "tags": [
     "remove_input"
    ]
   },
   "outputs": [],
   "source": [
    "#adiciona a sintaxe dplyr de manipulação de dados ao pacote survey\n",
    "pns_design_srvyr <- as_survey_design(pns_design)"
   ]
  },
  {
   "cell_type": "markdown",
   "metadata": {},
   "source": [
    "## Criação de variáveis adicionais"
   ]
  },
  {
   "cell_type": "markdown",
   "metadata": {},
   "source": [
    "### IMC -- Índice de Massa Corporal\n",
    "\n",
    "Ao invés de utilizarmos diretamente o peso como uma variável de comparação, vamos utilizar o Índice de Massa Corporal (IMC), definido como: \n",
    "\n",
    "$$\\mbox{IMC} = \\frac{\\mbox{peso}}{\\mbox{altura}^2}$$"
   ]
  },
  {
   "cell_type": "code",
   "execution_count": 7,
   "metadata": {
    "tags": [
     "remove_input"
    ]
   },
   "outputs": [],
   "source": [
    "pns_design_srvyr <- pns_design_srvyr %>% mutate(imc = w00103/(w00203/100*w00203/100)) "
   ]
  },
  {
   "cell_type": "markdown",
   "metadata": {},
   "source": [
    "Vamos considerar também as faixas do IMC definidas pela Organização Mundial da Saúde, conforme mostrado na tabela a seguir:\n",
    "\n",
    "Classificação        |  Faixa de Peso    |       Sintomas\n",
    "---------------------|-------------------|----------------------------------------------------\n",
    "Muito abaixo do peso |16 a 16,9 kg/m2    | Queda de cabelo, infertilidade, ausência menstrual\n",
    "Abaixo do peso       |17 a 18,4 kg/m2    | Fadiga, stress, ansiedade\n",
    "Peso normal          |18,5 a 24,9 kg/m2  | Menor risco de doenças cardíacas e vasculares\n",
    "Acima do peso        |25 a 29,9 kg/m2    | Fadiga, má circulação, varizes\n",
    "Obesidade Grau I     |30 a 34,9 kg/m2    | Diabetes, angina, infarto, aterosclerose\n",
    "Obesidade Grau II    |35 a 40 kg/m2      | Apneia do sono, falta de ar\n",
    "Obesidade Grau III   |maior que 40 kg/m2 | Refluxo, dificuldade para se mover, escaras, diabetes, infarto, AVC"
   ]
  },
  {
   "cell_type": "code",
   "execution_count": 8,
   "metadata": {
    "tags": [
     "remove_input"
    ]
   },
   "outputs": [],
   "source": [
    "pns_design_srvyr <- pns_design_srvyr %>% \n",
    "     mutate(imcclass = case_when(imc < 17.0 ~ \"1\",\n",
    "                                 imc >= 17.0 & imc < 18.5 ~ \"2\",\n",
    "                                 imc >= 18.5 & imc < 25.0 ~ \"3\",\n",
    "                                 imc >= 25.0 & imc < 30.0 ~ \"4\",\n",
    "                                 imc >= 30.0 & imc < 35.0 ~ \"5\",\n",
    "                                 imc >= 35.0 & imc < 40.0 ~ \"6\",\n",
    "                                 imc >= 40.0 ~ \"7\"\n",
    "                                 ))\n"
   ]
  },
  {
   "cell_type": "code",
   "execution_count": 9,
   "metadata": {},
   "outputs": [],
   "source": [
    "pns_design_srvyr <- pns_design_srvyr%>% mutate(imcclass = case_when(imc < 17.0 ~ \"1\",\n",
    "                                 imc >= 17.0 & imc < 18.5 ~ \"2\",\n",
    "                                 imc >= 18.5 & imc < 25.0 ~ \"3\",\n",
    "                                 imc >= 25.0 & imc < 30.0 ~ \"4\",\n",
    "                                 imc >= 30.0 & imc < 35.0 ~ \"5\",\n",
    "                                 imc >= 35.0 & imc < 40.0 ~ \"6\",\n",
    "                                 imc >= 40.0 ~ \"7\",\n",
    "                                 TRUE ~ \"Nenhum\"\n",
    "                                 ))"
   ]
  },
  {
   "cell_type": "markdown",
   "metadata": {},
   "source": [
    "### Faixa etária\n",
    "\n",
    "Uma outra classificação interessante é por faixa etária. Temos uma classificação publicada pela Revista Exame no artigo de Novembro de 2016 baseado nos dados da PNAD 2015  [Um retrato do Brasil e do brasileiro, segundo o IBGE](https://exame.abril.com.br/brasil/um-retrato-do-brasil-e-do-brasileiro-segundo-o-ibge/)\n",
    "\n",
    "No artigo mencionado são considerados os seguintes grupos etários:\n",
    "\n",
    "Faixa   |   Classe Aqui\n",
    "--------|-----------------\n",
    "0--4    |  2\n",
    "5--9    |  7\n",
    "10--14  |  12\n",
    "15--19  |  18\n",
    "20--24  |  22\n",
    "25--39  |  32\n",
    "40--59  |  50\n",
    "60+     |  60"
   ]
  },
  {
   "cell_type": "code",
   "execution_count": 10,
   "metadata": {
    "lines_to_next_cell": 0,
    "tags": [
     "remove_input"
    ]
   },
   "outputs": [],
   "source": [
    "# Criando uma variavel de faixa etaria\n",
    "pns_design_srvyr <- pns_design_srvyr %>% mutate(idade = as.numeric(c008))\n",
    "pns_design_srvyr <- pns_design_srvyr %>% \n",
    "     mutate(fxetaria = case_when(idade <   5.0 ~ \"2\",\n",
    "                                 idade >=  5.0 & idade < 10.0 ~ \"7\",\n",
    "                                 idade >= 10.0 & idade < 15.0 ~ \"12\",\n",
    "                                 idade >= 15.0 & idade < 20.0 ~ \"18\",\n",
    "                                 idade >= 20.0 & idade < 25.0 ~ \"22\",\n",
    "                                 idade >= 25.0 & idade < 40.0 ~ \"32\",\n",
    "                                 idade >= 40.0 & idade < 60.0 ~ \"50\",\n",
    "                                 idade >= 60.0 ~ \"60\"))"
   ]
  },
  {
   "cell_type": "markdown",
   "metadata": {},
   "source": [
    "### Faixa de escolaridade\n",
    "\n",
    "Mais uma classificação que queremos observar é a Faixa de escolaridade da população. Então os dados foi organizado da seguinte forma:\n",
    "\n",
    "Faixa  | Nova Classe |   Classe Anterior\n",
    "------|--|-----------------\n",
    "0  | Não possui histórico escolar  |  Não Aplicável\n",
    "1  |  Concluiu até o ensino fundamental   |  Classe de alfabetização – CA , Alfabetização de jovens e adultos, Antigo primário (elementar), Regular do ensino fundamental ou do 1º grau, Educação de jovens e adultos (EJA) ou supletivo do ensino fundamental\n",
    "2  |  Concluiu até o ensino médio  |  Antigo ginásio (médio 1º ciclo), Antigo científico, clássico etc. (médio 2º ciclo), Regular do ensino médio ou do 2º grau, Educação de jovens e adultos (EJA) ou supletivo do ensino médio\n",
    "3  |  Superior - Graduação|  Superior - graduação\n",
    "4  | Mestrado |  Mestrado\n",
    "5  | Doutorado |  Doutorado"
   ]
  },
  {
   "cell_type": "code",
   "execution_count": 11,
   "metadata": {},
   "outputs": [],
   "source": [
    "# Criando uma variavel de faixa de escolaridade\n",
    "pns_design_srvyr <- pns_design_srvyr %>% \n",
    "     mutate(fx_esc = case_when(d009 == \"  \" ~ \"0\",\n",
    "                               d009 == \"01\" | d009 == \"02\" | d009 == \"03\" | d009 == \"05\" |  d009 == \"06\"  ~ \"1\", # ensino fundamental\n",
    "                               d009 == \"04\" | d009 == \"07\" | d009 == \"08\" | d009 == \"09\" ~ \"2\", # ensino médio\n",
    "                               d009 == \"10\" ~ \"3\", # ensino superior\n",
    "                               d009 == \"11\" ~ \"4\", # mestrado\n",
    "                               d009 == \"12\" ~ \"5\" )) #doutorado"
   ]
  },
  {
   "cell_type": "markdown",
   "metadata": {},
   "source": [
    "### Frequência de Atividade Física\n",
    "\n",
    "Para permitir uma melhor análise da relação da atividade física com a diabetes, criamos uma nova variável que permita relacionar a frequência de modo direto, já que a variável original `m016` apresenta uma codificação não invertida."
   ]
  },
  {
   "cell_type": "markdown",
   "metadata": {},
   "source": [
    "Valor Original    |      Codificação Original         | Novo Valor    | Codificação Variável `freqativ`\n",
    "------------------|-----------------------------------|---------------|----------------------------------------\n",
    " 1                |  mais de uma vez por semana       |     5         |  mais de uma vez por semana\n",
    " 2                |  uma vez por semana               |     4         |  uma vez por semana\n",
    " 3                |  de 2 a 3 vezes por mês           |     3         |  de 2 a 3 vezes por mês\n",
    " 4                |  algumas vezes no ano             |     2         |  algumas vezes no ano\n",
    " 5                |  uma vez no ano                   |     1         |  uma vez no ano\n",
    " 6                |   nenhuma vez                     |     0         |  nenhuma vez"
   ]
  },
  {
   "cell_type": "code",
   "execution_count": 12,
   "metadata": {
    "tags": [
     "remove_input"
    ]
   },
   "outputs": [],
   "source": [
    "\n",
    "pns_design_srvyr <- pns_design_srvyr %>% mutate(freqativ = case_when(m016 == 6 ~ 0, # Nenhuma vez\n",
    "                                                                     m016 == 5 ~ 1, # Uma vez/ano\n",
    "                                                                     m016 == 4 ~ 2, # Algumas vezes/ano\n",
    "                                                                     m016 == 3 ~ 3, # 2-3 vezes/mes\n",
    "                                                                     m016 == 2 ~ 4, # Uma vez/semana\n",
    "                                                                     m016 == 1 ~ 5, # Mais de uma vez/semana\n",
    "                                                                     ))\n",
    "\n"
   ]
  },
  {
   "cell_type": "markdown",
   "metadata": {},
   "source": [
    "## Tabulações\n",
    "\n",
    "### Prevalência de pessoas com diabetes\n",
    "\n",
    "Para verificarmos se nossas métricas estão corretas, buscamos referência sobre a análise de diabetes pela PNS através de outras fontes:\n",
    "   \n",
    ">**No Brasil, conforme narra o artigo, dados recentes da Pesquisa Nacional em Saúde (PNS) de 2013 estimou a prevalência de Diabetes Mellitus em 6,2% dos participantes com 18 anos ou mais.**\n",
    "   \n",
    "Fiocruz:\n",
    "   https://portal.fiocruz.br/noticia/diabetes-pesquisa-avalia-os-fatores-associados-qualidade-de-vida\n",
    "\n",
    "A Fundação Oswaldo Cruz (Fiocruz) foi uma das responsáveis em parceria com o Instituto Brasileiro de Geografia e Estatística(IBGE) pela PNS. Esse valor demonstra a consistência das nossas análises como vemos no gráfico abaixo onde a taxa de diabéticos correspondeu ao do estudos publicados pela Fiocruz.\n",
    "   \n",
    "Utilizamos a variável `q030` que identifica se o participante já foi diagnosticado com Diabetes por algum médico. Os valores `não aplicável` demonstra as pessoas que nunca fizeram exames de sangue, definidas pela variável `q029` que pergunta quando foi a última vez que a pessoa fez exame de sangue. \n"
   ]
  },
  {
   "cell_type": "code",
   "execution_count": 81,
   "metadata": {
    "tags": [
     "remove_input"
    ]
   },
   "outputs": [
    {
     "data": {
      "image/png": "[encoded data removed]",
      "text/plain": [
       "plot without title"
      ]
     },
     "metadata": {},
     "output_type": "display_data"
    }
   ],
   "source": [
    "# q030 variável de diagnostico de diabetes\n",
    "tir <- survey::svytable(~ q030, pns_design_srvyr)\n",
    "tir.df <- as.data.frame(tir)\n",
    "tir.df$q030 <- c(\"Não Aplicável\", \"Diabético\", \"Diabete Gestacional\", \"Não Diabético\")\n",
    "tir.df$Freq <- tir.df$Freq / sum(tir.df$Freq) \n",
    "\n",
    "options(repr.plot.width = 6, repr.plot.height = 2, repr.plot.res = 100)    \n",
    "p <-ggplot(data=tir.df, aes(x=q030, y=Freq*100)) +\n",
    "  geom_bar(stat=\"identity\", fill=\"steelblue\")+\n",
    "  scale_fill_brewer(palette=\"Blues\")+\n",
    "  coord_flip() +\n",
    "  geom_text(aes(label=round(Freq*100, digits = 1)), hjust=-0.1, color=\"black\", size=3)+ \n",
    "  theme_minimal() +\n",
    "  xlab(NULL) +\n",
    "  theme(axis.text=element_text(size=10)) + \n",
    "  ylab(\"Percentual (%)\") \n",
    " \n",
    "ggsave(\"imagem1.png\",width = 6, height = 2.5, ,dpi = 300)\n",
    "p\n"
   ]
  },
  {
   "cell_type": "markdown",
   "metadata": {},
   "source": [
    "### Porcentagem de Diagnóstico de Diabetes por sexo\n",
    "\n",
    "Realizando uma análise mais específica, obtivemos também consistência nos dados que dizem a respeita da taxa de diabéticos em relação ao sexo, como resultado obtivemos uma taxa de 5,4% para os homens e 7% para as mulheres. Para verificar a consistência dos dados utilizamos um artigo científico publicado na biblioteca virtual de saúde (SciELO).  \n",
    "   \n",
    "Para o cálculo utilizamos a variável `c006` que representa o sexo do entrevistado e a variável `q030` utilizada na análise anterior.\n",
    "   \n",
    "Artigo:\n",
    "   http://www.scielo.br/scielo.php?pid=s2237-96222015000200305&script=sci_abstract&tlng=pt\n",
    "   "
   ]
  },
  {
   "cell_type": "code",
   "execution_count": 70,
   "metadata": {
    "lines_to_next_cell": 0,
    "tags": [
     "remove_input"
    ]
   },
   "outputs": [
    {
     "data": {
      "image/png": "[encoded data removed]",
      "text/plain": [
       "plot without title"
      ]
     },
     "metadata": {},
     "output_type": "display_data"
    }
   ],
   "source": [
    "\n",
    "# c006 variavel do sexo do individuo\n",
    "\n",
    "diab_sexo <- survey::svytable(~ q030 + c006, pns_design_srvyr)\n",
    "diab_sexo.df <- as.data.frame(diab_sexo)\n",
    "\n",
    "\n",
    "diab_sexo.df[diab_sexo.df$c006 == \"masculino\",c(\"Freq\")] <- diab_sexo.df[diab_sexo.df$c006 == \"masculino\",c(\"Freq\")]/sum(diab_sexo.df[diab_sexo.df$c006 == \"masculino\",c(\"Freq\")] )\n",
    "                                                                                                         diab_sexo.df[diab_sexo.df$c006 == \"feminino\",c(\"Freq\")] <- diab_sexo.df[diab_sexo.df$c006 == \"feminino\",c(\"Freq\")]/sum(diab_sexo.df[diab_sexo.df$c006 == \"feminino\",c(\"Freq\")] )                                 \n",
    "                                                                                       \n",
    "diab_sexo.df$q030 <-  c(\"Não Aplicável\", \"Diabético\", \"Diabete Gestacional\", \"Não Diabético\", \"Não Aplicável\", \"Diabético\", \"Diabete Gestacional\", \"Não Diabético\")\n",
    "\n",
    "options(repr.plot.width = 7, repr.plot.height = 4)                                                                                              \n",
    "p1 <-ggplot(data=diab_sexo.df, aes(x=q030, y=Freq*100 ,fill=c006)) +\n",
    "  geom_bar(position=\"dodge\", stat=\"identity\") +\n",
    "  coord_flip() +\n",
    "  geom_text(aes(label=round(Freq*100, digits = 1)), position=position_dodge(width=0.9), hjust=-0.03, color=\"black\", size=2.4)+\n",
    "  theme_minimal()+\n",
    "  xlab(\"Categoria\") + ylab(\"Prevalência %\") + \n",
    "  xlab(NULL) +\n",
    "  theme(axis.text=element_text(size=10))\n",
    "\n",
    "ggsave(\"imagem2.png\",width = 7, height = 4, ,dpi = 200)\n",
    "\n",
    "p1\n"
   ]
  },
  {
   "cell_type": "code",
   "execution_count": 128,
   "metadata": {},
   "outputs": [
    {
     "data": {
      "text/html": [
       "<table>\n",
       "<thead><tr><th scope=col>q030</th><th scope=col>c006</th><th scope=col>Freq</th></tr></thead>\n",
       "<tbody>\n",
       "\t<tr><td>Não Aplicável      </td><td>masculino          </td><td>0.157569296        </td></tr>\n",
       "\t<tr><td>Diabético          </td><td>masculino          </td><td>0.053519412        </td></tr>\n",
       "\t<tr><td>Diabete Gestacional</td><td>masculino          </td><td>0.000000000        </td></tr>\n",
       "\t<tr><td>Não Diabético      </td><td>masculino          </td><td>0.788911292        </td></tr>\n",
       "\t<tr><td>Não Aplicável      </td><td>feminino           </td><td>0.077517213        </td></tr>\n",
       "\t<tr><td>Diabético          </td><td>feminino           </td><td>0.070204455        </td></tr>\n",
       "\t<tr><td>Diabete Gestacional</td><td>feminino           </td><td>0.004956262        </td></tr>\n",
       "\t<tr><td>Não Diabético      </td><td>feminino           </td><td>0.847322071        </td></tr>\n",
       "</tbody>\n",
       "</table>\n"
      ],
      "text/latex": [
       "\\begin{tabular}{r|lll}\n",
       " q030 & c006 & Freq\\\\\n",
       "\\hline\n",
       "\t Não Aplicável       & masculino           & 0.157569296        \\\\\n",
       "\t Diabético           & masculino           & 0.053519412        \\\\\n",
       "\t Diabete Gestacional & masculino           & 0.000000000        \\\\\n",
       "\t Não Diabético       & masculino           & 0.788911292        \\\\\n",
       "\t Não Aplicável       & feminino            & 0.077517213        \\\\\n",
       "\t Diabético           & feminino            & 0.070204455        \\\\\n",
       "\t Diabete Gestacional & feminino            & 0.004956262        \\\\\n",
       "\t Não Diabético       & feminino            & 0.847322071        \\\\\n",
       "\\end{tabular}\n"
      ],
      "text/markdown": [
       "\n",
       "| q030 | c006 | Freq |\n",
       "|---|---|---|\n",
       "| Não Aplicável       | masculino           | 0.157569296         |\n",
       "| Diabético           | masculino           | 0.053519412         |\n",
       "| Diabete Gestacional | masculino           | 0.000000000         |\n",
       "| Não Diabético       | masculino           | 0.788911292         |\n",
       "| Não Aplicável       | feminino            | 0.077517213         |\n",
       "| Diabético           | feminino            | 0.070204455         |\n",
       "| Diabete Gestacional | feminino            | 0.004956262         |\n",
       "| Não Diabético       | feminino            | 0.847322071         |\n",
       "\n"
      ],
      "text/plain": [
       "  q030                c006      Freq       \n",
       "1 Não Aplicável       masculino 0.157569296\n",
       "2 Diabético           masculino 0.053519412\n",
       "3 Diabete Gestacional masculino 0.000000000\n",
       "4 Não Diabético       masculino 0.788911292\n",
       "5 Não Aplicável       feminino  0.077517213\n",
       "6 Diabético           feminino  0.070204455\n",
       "7 Diabete Gestacional feminino  0.004956262\n",
       "8 Não Diabético       feminino  0.847322071"
      ]
     },
     "metadata": {},
     "output_type": "display_data"
    }
   ],
   "source": [
    "diab_sexo.df"
   ]
  },
  {
   "cell_type": "markdown",
   "metadata": {},
   "source": [
    "### Procentagem de diabéticos por Faixa Etária\n",
    "\n",
    "Analisando a população brasileira por faixa etária e considerando apenas pessoas com 60 anos ou mais, obtivemos uma taxa de 18,1% do total dessa população-alvo com o diagnóstico de diabetes. Utilizando como referência o atlas do IDF de 2017 que utiliza a população acima dos 65 anos de idade que contabiliza um total de 19% de diabéticos, chegamos a valores muito próximos.\n",
    "\n",
    "fonte:\n",
    "   https://www.diabetes.org.br/profissionais/images/2018/poster-atlas-idf-2017.pdf"
   ]
  },
  {
   "cell_type": "code",
   "execution_count": 76,
   "metadata": {
    "lines_to_next_cell": 0,
    "tags": [
     "remove_input"
    ]
   },
   "outputs": [
    {
     "data": {
      "image/png": "[encoded data removed]",
      "text/plain": [
       "plot without title"
      ]
     },
     "metadata": {},
     "output_type": "display_data"
    }
   ],
   "source": [
    "\n",
    "fxetaria_diab.df = as.data.frame(survey::svytable(~fxetaria + q030, pns_design_srvyr))\n",
    "\n",
    "grp <- group_by(fxetaria_diab.df, fxetaria) %>% summarise(freq = sum(Freq))\n",
    "\n",
    "fxetaria_diab.df <- fxetaria_diab.df[fxetaria_diab.df$q030 == \"1\",]\n",
    "\n",
    "fxetaria_diab.df$Freq <- fxetaria_diab.df$Freq/grp$freq\n",
    "\n",
    "fxetaria_diab.df <- fxetaria_diab.df[-2]\n",
    "\n",
    "options(repr.plot.width = 5, repr.plot.height = 3.5)\n",
    "p <- ggplot(data=fxetaria_diab.df, aes(x=fxetaria, y=Freq * 100, fill = fxetaria)) +     \n",
    "   geom_bar( stat = \"identity\",  position = \"dodge\", fill=\"steelblue\")+\n",
    "  scale_fill_brewer(palette=\"Blues\")+  \n",
    "   geom_text(aes(label=round(Freq*100, digits = 1)), \n",
    "   position=position_dodge(width=0.9), vjust=-0.4, color=\"black\", size=3) +\n",
    "   xlab(\"Faixas Etárias\") + ylab(\"Prevalência (%)\") + \n",
    "   theme_minimal()+\n",
    "   theme(axis.text=element_text(size=10))+ \n",
    "\n",
    "ggsave(\"imagem3.png\",width = 5, height = 3, ,dpi = 200)\n",
    "p\n"
   ]
  },
  {
   "cell_type": "markdown",
   "metadata": {},
   "source": [
    "### Taxa de diabéticos por frequencia de atividade física\n",
    "\n",
    "   Um dos fatores preditores que podem indicar se uma pessoa é propensa ou não a desenvolver a diabetes é se ela pratica ou não atividade física. Mais de 80% dos diabéticos não praticam atividades físicas, mas vemos que há um aumento dos diabéticos que mantém uma frequencia de 1 vez por semana ou mais. \n",
    "   Como demonstrado no artigo abaixo, realizar atividades físicas é essencial para ajudar no bom controle da doença e garantir uma boa qualidade de vida. \n",
    "   \n",
    "Artigo:\n",
    "   https://www.diabetes.org.br/publico/meu-esporte-minha-vida/965-atividade-fisica-e-diabetes"
   ]
  },
  {
   "cell_type": "code",
   "execution_count": 12,
   "metadata": {},
   "outputs": [
    {
     "ename": "ERROR",
     "evalue": "Error in eval(expr, envir, enclos): objeto 'freq_diab.df' não encontrado\n",
     "output_type": "error",
     "traceback": [
      "Error in eval(expr, envir, enclos): objeto 'freq_diab.df' não encontrado\nTraceback:\n"
     ]
    }
   ],
   "source": [
    "freq_diab.df"
   ]
  },
  {
   "cell_type": "code",
   "execution_count": 72,
   "metadata": {
    "lines_to_next_cell": 2,
    "tags": [
     "remove_input"
    ]
   },
   "outputs": [
    {
     "data": {
      "image/png": "[encoded data removed]",
      "text/plain": [
       "plot without title"
      ]
     },
     "metadata": {},
     "output_type": "display_data"
    }
   ],
   "source": [
    "freq_diab <- survey::svytable(~ q030 + p035 , pns_design_srvyr)\n",
    "freq_diab.df <- as.data.frame(freq_diab)\n",
    "\n",
    "freq_diab.df <- freq_diab.df[freq_diab.df$q030 == '1',]\n",
    "\n",
    "freq_diab.df$Freq <- freq_diab.df$Freq/sum(freq_diab.df$Freq)    \n",
    "\n",
    "old_df = freq_diab.df\n",
    "old_df$q030 = \"Diabético\"\n",
    "\n",
    "options(repr.plot.width = 5, repr.plot.height = 3)\n",
    "\n",
    "g <-ggplot(data=freq_diab.df, aes(x=p035, y=Freq )) +\n",
    "  geom_bar(stat=\"identity\", fill=\"steelblue\")+\n",
    "  scale_fill_brewer(palette=\"Blues\")+ \n",
    "  geom_text(aes(label=round(Freq*100, digits = 1)), vjust=-0.3, color=\"black\", size=3)+ \n",
    "  theme_minimal()+ \n",
    "  ggtitle(\"Frequência de Atividade Física entre os Diabéticos\")+\n",
    "  xlab(\"Dias da Semana\") + ylab(\"Prevalência (%)\") \n",
    "\n",
    "g\n"
   ]
  },
  {
   "cell_type": "code",
   "execution_count": null,
   "metadata": {},
   "outputs": [],
   "source": []
  },
  {
   "cell_type": "code",
   "execution_count": 73,
   "metadata": {},
   "outputs": [
    {
     "name": "stdout",
     "output_type": "stream",
     "text": [
      "# A tibble: 8 x 3\n",
      "  p035    Freq q030         \n",
      "  <fct>  <dbl> <chr>        \n",
      "1 0     0.0335 Não diabético\n",
      "2 1     0.196  Não diabético\n",
      "3 2     0.184  Não diabético\n",
      "4 3     0.209  Não diabético\n",
      "5 4     0.0759 Não diabético\n",
      "6 5     0.150  Não diabético\n",
      "7 6     0.0463 Não diabético\n",
      "8 7     0.105  Não diabético\n"
     ]
    },
    {
     "data": {
      "image/png": "[encoded data removed]",
      "text/plain": [
       "plot without title"
      ]
     },
     "metadata": {},
     "output_type": "display_data"
    }
   ],
   "source": [
    "freq_diab <- survey::svytable(~ q030 + p035 , pns_design_srvyr)\n",
    "freq_diab.df <- as.data.frame(freq_diab)\n",
    "\n",
    "freq_diab.df <- freq_diab.df[freq_diab.df$q030 != '1',]\n",
    "\n",
    "freq_diab.df$Freq <- freq_diab.df$Freq/sum(freq_diab.df$Freq)\n",
    "\n",
    "\n",
    "new_df = freq_diab.df %>% \n",
    "  group_by(p035) %>% \n",
    "  summarise(Freq = sum(Freq))\n",
    "\n",
    "new_df$q030 = \"Não diabético\"\n",
    "print(new_df)\n",
    "\n",
    "options(repr.plot.width = 5, repr.plot.height = 3)\n",
    "\n",
    "g <-ggplot(data=new_df, aes(x=p035, y=Freq )) +\n",
    "  geom_bar(stat=\"identity\", fill=\"steelblue\")+\n",
    "  scale_fill_brewer(palette=\"Blues\")+ \n",
    "  geom_text(aes(label=round(Freq*100, digits = 1)), vjust=-0.3, color=\"black\", size=3)+ \n",
    "  theme_minimal()+ \n",
    "  ggtitle(\"Frequência de Atividade Física entre os Diabéticos\")+\n",
    "  xlab(\"Dias da Semana\") + ylab(\"Prevalência (%)\") \n",
    "\n",
    "g"
   ]
  },
  {
   "cell_type": "code",
   "execution_count": 74,
   "metadata": {},
   "outputs": [],
   "source": [
    "atv = rbind(old_df, new_df[c(\"q030\", \"p035\", \"Freq\")])"
   ]
  },
  {
   "cell_type": "code",
   "execution_count": 75,
   "metadata": {},
   "outputs": [
    {
     "data": {
      "image/png": "[encoded data removed]",
      "text/plain": [
       "plot without title"
      ]
     },
     "metadata": {},
     "output_type": "display_data"
    }
   ],
   "source": [
    "options(repr.plot.width = 7, repr.plot.height = 4)                                                                                              \n",
    "p1 <-ggplot(data=atv, aes(x=p035, y=Freq*100 ,fill=q030)) +\n",
    "  geom_bar(position=\"dodge\", stat=\"identity\") +\n",
    "  geom_text(aes(label=round(Freq*100, digits = 1)), position=position_dodge(width=0.9), vjust=-0.5, color=\"black\", size=3)+\n",
    "  theme_minimal()+\n",
    "  xlab(\"Quantidade de dias da semana que praticam exercícios\") + ylab(\"Percentual %\") +\n",
    "  theme(axis.text=element_text(size=10))\n",
    "\n",
    "ggsave(\"imagem4.png\",width = 7, height = 4, ,dpi = 200)\n",
    "\n",
    "p1"
   ]
  },
  {
   "cell_type": "code",
   "execution_count": 133,
   "metadata": {},
   "outputs": [],
   "source": [
    "freq_diab <- survey::svytable(~ q030 + p035 , pns_design_srvyr)\n",
    "freq_diab.df <- as.data.frame(freq_diab)"
   ]
  },
  {
   "cell_type": "code",
   "execution_count": 132,
   "metadata": {},
   "outputs": [
    {
     "data": {
      "text/html": [
       "<table>\n",
       "<thead><tr><th></th><th scope=col>q030</th><th scope=col>p035</th><th scope=col>Freq</th></tr></thead>\n",
       "<tbody>\n",
       "\t<tr><th scope=row>2</th><td>1         </td><td>0         </td><td>0.04154847</td></tr>\n",
       "\t<tr><th scope=row>6</th><td>1         </td><td>1         </td><td>0.08944052</td></tr>\n",
       "\t<tr><th scope=row>10</th><td>1         </td><td>2         </td><td>0.16040679</td></tr>\n",
       "\t<tr><th scope=row>14</th><td>1         </td><td>3         </td><td>0.26184978</td></tr>\n",
       "\t<tr><th scope=row>18</th><td>1         </td><td>4         </td><td>0.08089239</td></tr>\n",
       "\t<tr><th scope=row>22</th><td>1         </td><td>5         </td><td>0.16937302</td></tr>\n",
       "\t<tr><th scope=row>26</th><td>1         </td><td>6         </td><td>0.04011371</td></tr>\n",
       "\t<tr><th scope=row>30</th><td>1         </td><td>7         </td><td>0.15637530</td></tr>\n",
       "</tbody>\n",
       "</table>\n"
      ],
      "text/latex": [
       "\\begin{tabular}{r|lll}\n",
       "  & q030 & p035 & Freq\\\\\n",
       "\\hline\n",
       "\t2 & 1          & 0          & 0.04154847\\\\\n",
       "\t6 & 1          & 1          & 0.08944052\\\\\n",
       "\t10 & 1          & 2          & 0.16040679\\\\\n",
       "\t14 & 1          & 3          & 0.26184978\\\\\n",
       "\t18 & 1          & 4          & 0.08089239\\\\\n",
       "\t22 & 1          & 5          & 0.16937302\\\\\n",
       "\t26 & 1          & 6          & 0.04011371\\\\\n",
       "\t30 & 1          & 7          & 0.15637530\\\\\n",
       "\\end{tabular}\n"
      ],
      "text/markdown": [
       "\n",
       "| <!--/--> | q030 | p035 | Freq |\n",
       "|---|---|---|---|\n",
       "| 2 | 1          | 0          | 0.04154847 |\n",
       "| 6 | 1          | 1          | 0.08944052 |\n",
       "| 10 | 1          | 2          | 0.16040679 |\n",
       "| 14 | 1          | 3          | 0.26184978 |\n",
       "| 18 | 1          | 4          | 0.08089239 |\n",
       "| 22 | 1          | 5          | 0.16937302 |\n",
       "| 26 | 1          | 6          | 0.04011371 |\n",
       "| 30 | 1          | 7          | 0.15637530 |\n",
       "\n"
      ],
      "text/plain": [
       "   q030 p035 Freq      \n",
       "2  1    0    0.04154847\n",
       "6  1    1    0.08944052\n",
       "10 1    2    0.16040679\n",
       "14 1    3    0.26184978\n",
       "18 1    4    0.08089239\n",
       "22 1    5    0.16937302\n",
       "26 1    6    0.04011371\n",
       "30 1    7    0.15637530"
      ]
     },
     "metadata": {},
     "output_type": "display_data"
    }
   ],
   "source": [
    "freq_diab.df"
   ]
  },
  {
   "cell_type": "markdown",
   "metadata": {},
   "source": [
    "## Taxa de diabéticos por região e por situação censitária\n"
   ]
  },
  {
   "cell_type": "code",
   "execution_count": 12,
   "metadata": {
    "tags": [
     "remove_input"
    ]
   },
   "outputs": [
    {
     "data": {
      "text/html": [
       "<table>\n",
       "<thead><tr><th scope=col>Regiao</th><th scope=col>Freq_Urbano</th><th scope=col>Freq_Rural</th><th scope=col>total</th><th scope=col>total_porc</th></tr></thead>\n",
       "<tbody>\n",
       "\t<tr><td>Norte       </td><td> 8519136    </td><td>2366831.9   </td><td>10885968    </td><td>0.07440423  </td></tr>\n",
       "\t<tr><td>Nordeste    </td><td>29696279    </td><td>9251295.4   </td><td>38947575    </td><td>0.26620180  </td></tr>\n",
       "\t<tr><td>Sudeste     </td><td>59677481    </td><td>4397201.2   </td><td>64074682    </td><td>0.43794243  </td></tr>\n",
       "\t<tr><td>Sul         </td><td>18410830    </td><td>3213833.5   </td><td>21624664    </td><td>0.14780187  </td></tr>\n",
       "\t<tr><td>Centro-Oeste</td><td> 9828695    </td><td> 946873.7   </td><td>10775569    </td><td>0.07364967  </td></tr>\n",
       "</tbody>\n",
       "</table>\n"
      ],
      "text/latex": [
       "\\begin{tabular}{r|lllll}\n",
       " Regiao & Freq\\_Urbano & Freq\\_Rural & total & total\\_porc\\\\\n",
       "\\hline\n",
       "\t Norte        &  8519136     & 2366831.9    & 10885968     & 0.07440423  \\\\\n",
       "\t Nordeste     & 29696279     & 9251295.4    & 38947575     & 0.26620180  \\\\\n",
       "\t Sudeste      & 59677481     & 4397201.2    & 64074682     & 0.43794243  \\\\\n",
       "\t Sul          & 18410830     & 3213833.5    & 21624664     & 0.14780187  \\\\\n",
       "\t Centro-Oeste &  9828695     &  946873.7    & 10775569     & 0.07364967  \\\\\n",
       "\\end{tabular}\n"
      ],
      "text/markdown": [
       "\n",
       "| Regiao | Freq_Urbano | Freq_Rural | total | total_porc |\n",
       "|---|---|---|---|---|\n",
       "| Norte        |  8519136     | 2366831.9    | 10885968     | 0.07440423   |\n",
       "| Nordeste     | 29696279     | 9251295.4    | 38947575     | 0.26620180   |\n",
       "| Sudeste      | 59677481     | 4397201.2    | 64074682     | 0.43794243   |\n",
       "| Sul          | 18410830     | 3213833.5    | 21624664     | 0.14780187   |\n",
       "| Centro-Oeste |  9828695     |  946873.7    | 10775569     | 0.07364967   |\n",
       "\n"
      ],
      "text/plain": [
       "  Regiao       Freq_Urbano Freq_Rural total    total_porc\n",
       "1 Norte         8519136    2366831.9  10885968 0.07440423\n",
       "2 Nordeste     29696279    9251295.4  38947575 0.26620180\n",
       "3 Sudeste      59677481    4397201.2  64074682 0.43794243\n",
       "4 Sul          18410830    3213833.5  21624664 0.14780187\n",
       "5 Centro-Oeste  9828695     946873.7  10775569 0.07364967"
      ]
     },
     "metadata": {},
     "output_type": "display_data"
    }
   ],
   "source": [
    "\n",
    "dist_populacao <- as.data.frame(survey::svytable(~region + v0026, pns_design_srvyr ))\n",
    "\n",
    "pop_aux1 <- dist_populacao[dist_populacao$v0026 == 1,]\n",
    "colnames(pop_aux1) <- c(\"Regiao\", \"Urbano\", \"Freq_Urbano\")\n",
    "\n",
    "pop_aux2 <- dist_populacao[dist_populacao$v0026 == 2,]\n",
    "colnames(pop_aux2) <- c(\"Regiao\", \"Rural\", \"Freq_Rural\")\n",
    "\n",
    "dist_populacao <- cbind(pop_aux1,pop_aux2[, c(\"Rural\", \"Freq_Rural\")])\n",
    "\n",
    "dist_populacao$total <- dist_populacao$Freq_Urbano + dist_populacao$Freq_Rural\n",
    "dist_populacao$total_porc <-  dist_populacao$total / sum(dist_populacao$total)\n",
    "\n",
    "\n",
    "dist_populacao[,c(\"Regiao\", \"Freq_Urbano\", \"Freq_Rural\", \"total\", \"total_porc\")]\n"
   ]
  },
  {
   "cell_type": "markdown",
   "metadata": {},
   "source": [
    "   Dos aproximadamente 146 milhões de brasileiros acima de 18 anos, cerca de 64 milhões(44%) estão no sudeste, isso implica que a quantidade de diabéticos nessa região vai muito maior do que as outras regiões como vemos no gráfico abaixo. Cerca de 49,7% dos diabéticos residem no sudeste brasileiro.\n"
   ]
  },
  {
   "cell_type": "code",
   "execution_count": 19,
   "metadata": {
    "tags": [
     "remove_input"
    ]
   },
   "outputs": [
    {
     "data": {
      "image/png": "[encoded data removed]",
      "text/plain": [
       "plot without title"
      ]
     },
     "metadata": {},
     "output_type": "display_data"
    }
   ],
   "source": [
    "#* `Q030`\t- Algum médico já lhe deu o diagnóstico de diabetes?\n",
    "#   + `1` - Sim\n",
    "#region\n",
    "diab_estados <- survey::svytable(~ q030 + region + v0026, pns_design_srvyr )\n",
    "diab_estados.df <- as.data.frame(diab_estados)\n",
    "\n",
    "diab_estados.df <- diab_estados.df[diab_estados.df$q030 == '1',]\n",
    "#diab_estados.df$Freq <- diab_estados.df$Freq / sum(diab_estados.df$Freq)\n",
    "\n",
    "diab_estados.df$v0026 = as.character(diab_estados.df$v0026)\n",
    "diab_estados.df$v0026[diab_estados.df$v0026 == 1]  = \"1 - Urbano\"\n",
    "diab_estados.df$v0026[diab_estados.df$v0026 == 2]  = \"2 - Rural\"\n",
    "\n",
    "options(repr.plot.width = 5, repr.plot.height = 4)\n",
    "p <-ggplot(data=diab_estados.df, aes(x=region, y=Freq/1000, fill=v0026)) +\n",
    "  geom_bar(stat=\"identity\") +\n",
    "  geom_text(aes(label=round(Freq/1000, digits = 1)), vjust=1, color=\"black\", size=3)\n",
    "\n",
    "p"
   ]
  },
  {
   "cell_type": "markdown",
   "metadata": {},
   "source": [
    "## Distribuição das taxas de diabéticos por estado\n",
    "\n",
    "ARTIGO\n",
    "\n",
    "   Como demonstrado no artigo acima as maiores taxas de diabéticos do Brasil estão em Mato Grosso do Sul, São Paulo e Rio Grande do Sul respectivamente. Esses dados correspondem com as taxas demonstrados no gráfico abaixo."
   ]
  },
  {
   "cell_type": "code",
   "execution_count": 27,
   "metadata": {
    "lines_to_next_cell": 0,
    "tags": [
     "remove_input"
    ]
   },
   "outputs": [
    {
     "name": "stderr",
     "output_type": "stream",
     "text": [
      "Saving 6.67 x 6.67 in image\n"
     ]
    },
    {
     "data": {
      "image/png": "[encoded data removed]",
      "text/plain": [
       "plot without title"
      ]
     },
     "metadata": {},
     "output_type": "display_data"
    }
   ],
   "source": [
    "#* `Q030`\t- Algum médico já lhe deu o diagnóstico de diabetes?\n",
    "#   + `1` - Sim\n",
    "#   + V0001 - Unidade da Federação\n",
    "# install.packages(\"brazilmaps\")\n",
    "library(brazilmaps)\n",
    "mapa <- get_brmap(\"State\")\n",
    "\n",
    "diab_estados <- as.data.frame(survey::svytable(~ v0001 + q030 , pns_design_srvyr))\n",
    "qtd_estados = aggregate(diab_estados$Freq, by=list(Category=diab_estados$v0001), FUN=sum)\n",
    "\n",
    "diab_estados <- diab_estados[diab_estados$q030 == 1,]\n",
    "\n",
    "diab_estados$Porcent <- diab_estados$Freq / qtd_estados$x\n",
    "\n",
    "\n",
    "teste <- toupper(c(\"Rondônia\",\"Acre\",\"Amazonas\",\"Roraima\",\"Pará\",\"Amapá\",\"Tocantins\",\"Maranhão\",\"Piauí\",\"Ceará\",\n",
    "          \"Rio Grande do Norte\",\"Paraíba\",\"Pernambuco\",\"Alagoas\",\"Sergipe\",\"Bahia\",\"Minas Gerais\",\"Espírito Santo\",\"Rio de Janeiro\",\"São Paulo\",\"Paraná\",\"Santa Catarina\",\"Rio Grande do Sul\",\"Mato Grosso do Sul\",\n",
    "          \"Mato Grosso\",\"Goiás\",\"Distrito Federal\"))\n",
    "\n",
    "porc_est <- as.data.frame(teste)\n",
    "porc_est$Porc_Diabeticos <- diab_estados$Porcent * 100\n",
    "##\n",
    "##uf_map <- get_brmap(\"State\") %>% \n",
    "#  inner_join(porc_est, c(\"nome\" = \"teste\"))\n",
    "\n",
    "#uf_map %>% \n",
    "#  ggplot(aes(fill = Porcent)) +\n",
    "#  geom_sf() +\n",
    "#  scale_fill_continuous(low = \"lightblue\", high = \"darkblue\") \n",
    "\n",
    "options(repr.plot.width = 5, repr.plot.height = 5)\n",
    "p = plot_brmap(get_brmap(\"State\"), data_to_join = porc_est, join_by = c(\"nome\" = \"teste\"),\n",
    "    var = \"Porc_Diabeticos\") + scale_fill_continuous(low = \"lightblue\", high = \"darkblue\") \n",
    "\n",
    "p = p + ggtitle(\"Prevalência de diabéticos por estado\")\n",
    "\n",
    "ggsave(\"brasil.png\")\n",
    "\n",
    "p"
   ]
  },
  {
   "cell_type": "code",
   "execution_count": 28,
   "metadata": {},
   "outputs": [],
   "source": [
    "diab_estados <- as.data.frame(survey::svytable(~ v0001 + q030 , pns_design_srvyr))\n",
    "qtd_estados = aggregate(diab_estados$Freq, by=list(Category=diab_estados$v0001), FUN=sum)"
   ]
  },
  {
   "cell_type": "code",
   "execution_count": 29,
   "metadata": {},
   "outputs": [],
   "source": [
    "sub_estados <- diab_estados[diab_estados$q030 == \" \",]\n",
    "sub_estados$porcent <- sub_estados$Freq / qtd_estados$x"
   ]
  },
  {
   "cell_type": "code",
   "execution_count": null,
   "metadata": {},
   "outputs": [],
   "source": []
  },
  {
   "cell_type": "code",
   "execution_count": null,
   "metadata": {},
   "outputs": [],
   "source": []
  },
  {
   "cell_type": "code",
   "execution_count": 30,
   "metadata": {},
   "outputs": [],
   "source": [
    "porc_est$porc_sub = sub_estados$porcent * 100"
   ]
  },
  {
   "cell_type": "code",
   "execution_count": 31,
   "metadata": {},
   "outputs": [
    {
     "data": {
      "text/html": [
       "<table>\n",
       "<thead><tr><th scope=col>teste</th><th scope=col>Porc_Diabeticos</th><th scope=col>porc_sub</th></tr></thead>\n",
       "<tbody>\n",
       "\t<tr><td>RONDÔNIA           </td><td>4.998701           </td><td>16.449307          </td></tr>\n",
       "\t<tr><td>ACRE               </td><td>3.273332           </td><td>24.684074          </td></tr>\n",
       "\t<tr><td>AMAZONAS           </td><td>4.589478           </td><td>15.645227          </td></tr>\n",
       "\t<tr><td>RORAIMA            </td><td>4.040760           </td><td>22.669306          </td></tr>\n",
       "\t<tr><td>PARÁ               </td><td>3.776008           </td><td>19.081605          </td></tr>\n",
       "\t<tr><td>AMAPÁ              </td><td>5.029108           </td><td>15.858841          </td></tr>\n",
       "\t<tr><td>TOCANTINS          </td><td>5.354333           </td><td>19.086782          </td></tr>\n",
       "\t<tr><td>MARANHÃO           </td><td>5.362623           </td><td>25.863423          </td></tr>\n",
       "\t<tr><td>PIAUÍ              </td><td>4.988397           </td><td>17.843489          </td></tr>\n",
       "\t<tr><td>CEARÁ              </td><td>4.917648           </td><td>20.885510          </td></tr>\n",
       "\t<tr><td>RIO GRANDE DO NORTE</td><td>5.587874           </td><td>10.040250          </td></tr>\n",
       "\t<tr><td>PARAÍBA            </td><td>4.479311           </td><td> 9.868979          </td></tr>\n",
       "\t<tr><td>PERNAMBUCO         </td><td>6.202491           </td><td>11.245200          </td></tr>\n",
       "\t<tr><td>ALAGOAS            </td><td>6.818276           </td><td>12.985499          </td></tr>\n",
       "\t<tr><td>SERGIPE            </td><td>6.016042           </td><td> 8.586574          </td></tr>\n",
       "\t<tr><td>BAHIA              </td><td>4.973447           </td><td>11.103543          </td></tr>\n",
       "\t<tr><td>MINAS GERAIS       </td><td>6.382455           </td><td>11.279110          </td></tr>\n",
       "\t<tr><td>ESPÍRITO SANTO     </td><td>6.094210           </td><td> 6.661391          </td></tr>\n",
       "\t<tr><td>RIO DE JANEIRO     </td><td>6.399979           </td><td> 5.229680          </td></tr>\n",
       "\t<tr><td>SÃO PAULO          </td><td>7.733775           </td><td> 7.373465          </td></tr>\n",
       "\t<tr><td>PARANÁ             </td><td>5.746695           </td><td>12.354554          </td></tr>\n",
       "\t<tr><td>SANTA CATARINA     </td><td>5.515616           </td><td>12.604370          </td></tr>\n",
       "\t<tr><td>RIO GRANDE DO SUL  </td><td>7.029163           </td><td>12.066375          </td></tr>\n",
       "\t<tr><td>MATO GROSSO DO SUL </td><td>7.805675           </td><td>14.240715          </td></tr>\n",
       "\t<tr><td>MATO GROSSO        </td><td>6.186547           </td><td>17.607579          </td></tr>\n",
       "\t<tr><td>GOIÁS              </td><td>6.389606           </td><td>14.314006          </td></tr>\n",
       "\t<tr><td>DISTRITO FEDERAL   </td><td>5.750301           </td><td> 8.537364          </td></tr>\n",
       "</tbody>\n",
       "</table>\n"
      ],
      "text/latex": [
       "\\begin{tabular}{r|lll}\n",
       " teste & Porc\\_Diabeticos & porc\\_sub\\\\\n",
       "\\hline\n",
       "\t RONDÔNIA            & 4.998701            & 16.449307          \\\\\n",
       "\t ACRE                & 3.273332            & 24.684074          \\\\\n",
       "\t AMAZONAS            & 4.589478            & 15.645227          \\\\\n",
       "\t RORAIMA             & 4.040760            & 22.669306          \\\\\n",
       "\t PARÁ                & 3.776008            & 19.081605          \\\\\n",
       "\t AMAPÁ               & 5.029108            & 15.858841          \\\\\n",
       "\t TOCANTINS           & 5.354333            & 19.086782          \\\\\n",
       "\t MARANHÃO            & 5.362623            & 25.863423          \\\\\n",
       "\t PIAUÍ               & 4.988397            & 17.843489          \\\\\n",
       "\t CEARÁ               & 4.917648            & 20.885510          \\\\\n",
       "\t RIO GRANDE DO NORTE & 5.587874            & 10.040250          \\\\\n",
       "\t PARAÍBA             & 4.479311            &  9.868979          \\\\\n",
       "\t PERNAMBUCO          & 6.202491            & 11.245200          \\\\\n",
       "\t ALAGOAS             & 6.818276            & 12.985499          \\\\\n",
       "\t SERGIPE             & 6.016042            &  8.586574          \\\\\n",
       "\t BAHIA               & 4.973447            & 11.103543          \\\\\n",
       "\t MINAS GERAIS        & 6.382455            & 11.279110          \\\\\n",
       "\t ESPÍRITO SANTO      & 6.094210            &  6.661391          \\\\\n",
       "\t RIO DE JANEIRO      & 6.399979            &  5.229680          \\\\\n",
       "\t SÃO PAULO           & 7.733775            &  7.373465          \\\\\n",
       "\t PARANÁ              & 5.746695            & 12.354554          \\\\\n",
       "\t SANTA CATARINA      & 5.515616            & 12.604370          \\\\\n",
       "\t RIO GRANDE DO SUL   & 7.029163            & 12.066375          \\\\\n",
       "\t MATO GROSSO DO SUL  & 7.805675            & 14.240715          \\\\\n",
       "\t MATO GROSSO         & 6.186547            & 17.607579          \\\\\n",
       "\t GOIÁS               & 6.389606            & 14.314006          \\\\\n",
       "\t DISTRITO FEDERAL    & 5.750301            &  8.537364          \\\\\n",
       "\\end{tabular}\n"
      ],
      "text/markdown": [
       "\n",
       "| teste | Porc_Diabeticos | porc_sub |\n",
       "|---|---|---|\n",
       "| RONDÔNIA            | 4.998701            | 16.449307           |\n",
       "| ACRE                | 3.273332            | 24.684074           |\n",
       "| AMAZONAS            | 4.589478            | 15.645227           |\n",
       "| RORAIMA             | 4.040760            | 22.669306           |\n",
       "| PARÁ                | 3.776008            | 19.081605           |\n",
       "| AMAPÁ               | 5.029108            | 15.858841           |\n",
       "| TOCANTINS           | 5.354333            | 19.086782           |\n",
       "| MARANHÃO            | 5.362623            | 25.863423           |\n",
       "| PIAUÍ               | 4.988397            | 17.843489           |\n",
       "| CEARÁ               | 4.917648            | 20.885510           |\n",
       "| RIO GRANDE DO NORTE | 5.587874            | 10.040250           |\n",
       "| PARAÍBA             | 4.479311            |  9.868979           |\n",
       "| PERNAMBUCO          | 6.202491            | 11.245200           |\n",
       "| ALAGOAS             | 6.818276            | 12.985499           |\n",
       "| SERGIPE             | 6.016042            |  8.586574           |\n",
       "| BAHIA               | 4.973447            | 11.103543           |\n",
       "| MINAS GERAIS        | 6.382455            | 11.279110           |\n",
       "| ESPÍRITO SANTO      | 6.094210            |  6.661391           |\n",
       "| RIO DE JANEIRO      | 6.399979            |  5.229680           |\n",
       "| SÃO PAULO           | 7.733775            |  7.373465           |\n",
       "| PARANÁ              | 5.746695            | 12.354554           |\n",
       "| SANTA CATARINA      | 5.515616            | 12.604370           |\n",
       "| RIO GRANDE DO SUL   | 7.029163            | 12.066375           |\n",
       "| MATO GROSSO DO SUL  | 7.805675            | 14.240715           |\n",
       "| MATO GROSSO         | 6.186547            | 17.607579           |\n",
       "| GOIÁS               | 6.389606            | 14.314006           |\n",
       "| DISTRITO FEDERAL    | 5.750301            |  8.537364           |\n",
       "\n"
      ],
      "text/plain": [
       "   teste               Porc_Diabeticos porc_sub \n",
       "1  RONDÔNIA            4.998701        16.449307\n",
       "2  ACRE                3.273332        24.684074\n",
       "3  AMAZONAS            4.589478        15.645227\n",
       "4  RORAIMA             4.040760        22.669306\n",
       "5  PARÁ                3.776008        19.081605\n",
       "6  AMAPÁ               5.029108        15.858841\n",
       "7  TOCANTINS           5.354333        19.086782\n",
       "8  MARANHÃO            5.362623        25.863423\n",
       "9  PIAUÍ               4.988397        17.843489\n",
       "10 CEARÁ               4.917648        20.885510\n",
       "11 RIO GRANDE DO NORTE 5.587874        10.040250\n",
       "12 PARAÍBA             4.479311         9.868979\n",
       "13 PERNAMBUCO          6.202491        11.245200\n",
       "14 ALAGOAS             6.818276        12.985499\n",
       "15 SERGIPE             6.016042         8.586574\n",
       "16 BAHIA               4.973447        11.103543\n",
       "17 MINAS GERAIS        6.382455        11.279110\n",
       "18 ESPÍRITO SANTO      6.094210         6.661391\n",
       "19 RIO DE JANEIRO      6.399979         5.229680\n",
       "20 SÃO PAULO           7.733775         7.373465\n",
       "21 PARANÁ              5.746695        12.354554\n",
       "22 SANTA CATARINA      5.515616        12.604370\n",
       "23 RIO GRANDE DO SUL   7.029163        12.066375\n",
       "24 MATO GROSSO DO SUL  7.805675        14.240715\n",
       "25 MATO GROSSO         6.186547        17.607579\n",
       "26 GOIÁS               6.389606        14.314006\n",
       "27 DISTRITO FEDERAL    5.750301         8.537364"
      ]
     },
     "metadata": {},
     "output_type": "display_data"
    }
   ],
   "source": [
    "porc_est"
   ]
  },
  {
   "cell_type": "code",
   "execution_count": 32,
   "metadata": {},
   "outputs": [],
   "source": [
    "porc_est = arrange(porc_est, desc(Porc_Diabeticos))"
   ]
  },
  {
   "cell_type": "code",
   "execution_count": 33,
   "metadata": {},
   "outputs": [],
   "source": [
    "names(porc_est) = c(\"estados\", \"% diabéticos\", \"% sem exame\")"
   ]
  },
  {
   "cell_type": "code",
   "execution_count": 34,
   "metadata": {},
   "outputs": [],
   "source": [
    "porc_est[\"% diabéticos\"] = round(porc_est[\"% diabéticos\"], 2)\n",
    "porc_est[\"% sem exame\"] = round(porc_est[\"% sem exame\"], 2)"
   ]
  },
  {
   "cell_type": "code",
   "execution_count": 35,
   "metadata": {},
   "outputs": [
    {
     "data": {
      "text/html": [
       "<table>\n",
       "<thead><tr><th scope=col>estados</th><th scope=col>% diabéticos</th><th scope=col>% sem exame</th></tr></thead>\n",
       "<tbody>\n",
       "\t<tr><td>MATO GROSSO DO SUL </td><td>7.81               </td><td>14.24              </td></tr>\n",
       "\t<tr><td>SÃO PAULO          </td><td>7.73               </td><td> 7.37              </td></tr>\n",
       "\t<tr><td>RIO GRANDE DO SUL  </td><td>7.03               </td><td>12.07              </td></tr>\n",
       "\t<tr><td>ALAGOAS            </td><td>6.82               </td><td>12.99              </td></tr>\n",
       "\t<tr><td>RIO DE JANEIRO     </td><td>6.40               </td><td> 5.23              </td></tr>\n",
       "\t<tr><td>GOIÁS              </td><td>6.39               </td><td>14.31              </td></tr>\n",
       "\t<tr><td>MINAS GERAIS       </td><td>6.38               </td><td>11.28              </td></tr>\n",
       "\t<tr><td>PERNAMBUCO         </td><td>6.20               </td><td>11.25              </td></tr>\n",
       "\t<tr><td>MATO GROSSO        </td><td>6.19               </td><td>17.61              </td></tr>\n",
       "\t<tr><td>ESPÍRITO SANTO     </td><td>6.09               </td><td> 6.66              </td></tr>\n",
       "\t<tr><td>SERGIPE            </td><td>6.02               </td><td> 8.59              </td></tr>\n",
       "\t<tr><td>DISTRITO FEDERAL   </td><td>5.75               </td><td> 8.54              </td></tr>\n",
       "\t<tr><td>PARANÁ             </td><td>5.75               </td><td>12.35              </td></tr>\n",
       "\t<tr><td>RIO GRANDE DO NORTE</td><td>5.59               </td><td>10.04              </td></tr>\n",
       "\t<tr><td>SANTA CATARINA     </td><td>5.52               </td><td>12.60              </td></tr>\n",
       "\t<tr><td>MARANHÃO           </td><td>5.36               </td><td>25.86              </td></tr>\n",
       "\t<tr><td>TOCANTINS          </td><td>5.35               </td><td>19.09              </td></tr>\n",
       "\t<tr><td>AMAPÁ              </td><td>5.03               </td><td>15.86              </td></tr>\n",
       "\t<tr><td>RONDÔNIA           </td><td>5.00               </td><td>16.45              </td></tr>\n",
       "\t<tr><td>PIAUÍ              </td><td>4.99               </td><td>17.84              </td></tr>\n",
       "\t<tr><td>BAHIA              </td><td>4.97               </td><td>11.10              </td></tr>\n",
       "\t<tr><td>CEARÁ              </td><td>4.92               </td><td>20.89              </td></tr>\n",
       "\t<tr><td>AMAZONAS           </td><td>4.59               </td><td>15.65              </td></tr>\n",
       "\t<tr><td>PARAÍBA            </td><td>4.48               </td><td> 9.87              </td></tr>\n",
       "\t<tr><td>RORAIMA            </td><td>4.04               </td><td>22.67              </td></tr>\n",
       "\t<tr><td>PARÁ               </td><td>3.78               </td><td>19.08              </td></tr>\n",
       "\t<tr><td>ACRE               </td><td>3.27               </td><td>24.68              </td></tr>\n",
       "</tbody>\n",
       "</table>\n"
      ],
      "text/latex": [
       "\\begin{tabular}{r|lll}\n",
       " estados & \\% diabéticos & \\% sem exame\\\\\n",
       "\\hline\n",
       "\t MATO GROSSO DO SUL  & 7.81                & 14.24              \\\\\n",
       "\t SÃO PAULO           & 7.73                &  7.37              \\\\\n",
       "\t RIO GRANDE DO SUL   & 7.03                & 12.07              \\\\\n",
       "\t ALAGOAS             & 6.82                & 12.99              \\\\\n",
       "\t RIO DE JANEIRO      & 6.40                &  5.23              \\\\\n",
       "\t GOIÁS               & 6.39                & 14.31              \\\\\n",
       "\t MINAS GERAIS        & 6.38                & 11.28              \\\\\n",
       "\t PERNAMBUCO          & 6.20                & 11.25              \\\\\n",
       "\t MATO GROSSO         & 6.19                & 17.61              \\\\\n",
       "\t ESPÍRITO SANTO      & 6.09                &  6.66              \\\\\n",
       "\t SERGIPE             & 6.02                &  8.59              \\\\\n",
       "\t DISTRITO FEDERAL    & 5.75                &  8.54              \\\\\n",
       "\t PARANÁ              & 5.75                & 12.35              \\\\\n",
       "\t RIO GRANDE DO NORTE & 5.59                & 10.04              \\\\\n",
       "\t SANTA CATARINA      & 5.52                & 12.60              \\\\\n",
       "\t MARANHÃO            & 5.36                & 25.86              \\\\\n",
       "\t TOCANTINS           & 5.35                & 19.09              \\\\\n",
       "\t AMAPÁ               & 5.03                & 15.86              \\\\\n",
       "\t RONDÔNIA            & 5.00                & 16.45              \\\\\n",
       "\t PIAUÍ               & 4.99                & 17.84              \\\\\n",
       "\t BAHIA               & 4.97                & 11.10              \\\\\n",
       "\t CEARÁ               & 4.92                & 20.89              \\\\\n",
       "\t AMAZONAS            & 4.59                & 15.65              \\\\\n",
       "\t PARAÍBA             & 4.48                &  9.87              \\\\\n",
       "\t RORAIMA             & 4.04                & 22.67              \\\\\n",
       "\t PARÁ                & 3.78                & 19.08              \\\\\n",
       "\t ACRE                & 3.27                & 24.68              \\\\\n",
       "\\end{tabular}\n"
      ],
      "text/markdown": [
       "\n",
       "| estados | % diabéticos | % sem exame |\n",
       "|---|---|---|\n",
       "| MATO GROSSO DO SUL  | 7.81                | 14.24               |\n",
       "| SÃO PAULO           | 7.73                |  7.37               |\n",
       "| RIO GRANDE DO SUL   | 7.03                | 12.07               |\n",
       "| ALAGOAS             | 6.82                | 12.99               |\n",
       "| RIO DE JANEIRO      | 6.40                |  5.23               |\n",
       "| GOIÁS               | 6.39                | 14.31               |\n",
       "| MINAS GERAIS        | 6.38                | 11.28               |\n",
       "| PERNAMBUCO          | 6.20                | 11.25               |\n",
       "| MATO GROSSO         | 6.19                | 17.61               |\n",
       "| ESPÍRITO SANTO      | 6.09                |  6.66               |\n",
       "| SERGIPE             | 6.02                |  8.59               |\n",
       "| DISTRITO FEDERAL    | 5.75                |  8.54               |\n",
       "| PARANÁ              | 5.75                | 12.35               |\n",
       "| RIO GRANDE DO NORTE | 5.59                | 10.04               |\n",
       "| SANTA CATARINA      | 5.52                | 12.60               |\n",
       "| MARANHÃO            | 5.36                | 25.86               |\n",
       "| TOCANTINS           | 5.35                | 19.09               |\n",
       "| AMAPÁ               | 5.03                | 15.86               |\n",
       "| RONDÔNIA            | 5.00                | 16.45               |\n",
       "| PIAUÍ               | 4.99                | 17.84               |\n",
       "| BAHIA               | 4.97                | 11.10               |\n",
       "| CEARÁ               | 4.92                | 20.89               |\n",
       "| AMAZONAS            | 4.59                | 15.65               |\n",
       "| PARAÍBA             | 4.48                |  9.87               |\n",
       "| RORAIMA             | 4.04                | 22.67               |\n",
       "| PARÁ                | 3.78                | 19.08               |\n",
       "| ACRE                | 3.27                | 24.68               |\n",
       "\n"
      ],
      "text/plain": [
       "   estados             % diabéticos % sem exame\n",
       "1  MATO GROSSO DO SUL  7.81         14.24      \n",
       "2  SÃO PAULO           7.73          7.37      \n",
       "3  RIO GRANDE DO SUL   7.03         12.07      \n",
       "4  ALAGOAS             6.82         12.99      \n",
       "5  RIO DE JANEIRO      6.40          5.23      \n",
       "6  GOIÁS               6.39         14.31      \n",
       "7  MINAS GERAIS        6.38         11.28      \n",
       "8  PERNAMBUCO          6.20         11.25      \n",
       "9  MATO GROSSO         6.19         17.61      \n",
       "10 ESPÍRITO SANTO      6.09          6.66      \n",
       "11 SERGIPE             6.02          8.59      \n",
       "12 DISTRITO FEDERAL    5.75          8.54      \n",
       "13 PARANÁ              5.75         12.35      \n",
       "14 RIO GRANDE DO NORTE 5.59         10.04      \n",
       "15 SANTA CATARINA      5.52         12.60      \n",
       "16 MARANHÃO            5.36         25.86      \n",
       "17 TOCANTINS           5.35         19.09      \n",
       "18 AMAPÁ               5.03         15.86      \n",
       "19 RONDÔNIA            5.00         16.45      \n",
       "20 PIAUÍ               4.99         17.84      \n",
       "21 BAHIA               4.97         11.10      \n",
       "22 CEARÁ               4.92         20.89      \n",
       "23 AMAZONAS            4.59         15.65      \n",
       "24 PARAÍBA             4.48          9.87      \n",
       "25 RORAIMA             4.04         22.67      \n",
       "26 PARÁ                3.78         19.08      \n",
       "27 ACRE                3.27         24.68      "
      ]
     },
     "metadata": {},
     "output_type": "display_data"
    }
   ],
   "source": [
    "porc_est"
   ]
  },
  {
   "cell_type": "code",
   "execution_count": 37,
   "metadata": {},
   "outputs": [
    {
     "data": {
      "text/html": [
       "<table>\n",
       "<thead><tr><th scope=col>v0001</th><th scope=col>q030</th><th scope=col>Freq</th><th scope=col>porcent</th></tr></thead>\n",
       "<tbody>\n",
       "\t<tr><td>11        </td><td>          </td><td> 195722.78</td><td>0.16449307</td></tr>\n",
       "\t<tr><td>12        </td><td>          </td><td> 118370.97</td><td>0.24684074</td></tr>\n",
       "\t<tr><td>13        </td><td>          </td><td> 357126.61</td><td>0.15645227</td></tr>\n",
       "\t<tr><td>14        </td><td>          </td><td>  62588.23</td><td>0.22669306</td></tr>\n",
       "\t<tr><td>15        </td><td>          </td><td> 995414.53</td><td>0.19081605</td></tr>\n",
       "\t<tr><td>16        </td><td>          </td><td>  71932.09</td><td>0.15858841</td></tr>\n",
       "\t<tr><td>17        </td><td>          </td><td> 188506.16</td><td>0.19086782</td></tr>\n",
       "\t<tr><td>21        </td><td>          </td><td>1131556.91</td><td>0.25863423</td></tr>\n",
       "\t<tr><td>22        </td><td>          </td><td> 394900.12</td><td>0.17843489</td></tr>\n",
       "\t<tr><td>23        </td><td>          </td><td>1299722.45</td><td>0.20885510</td></tr>\n",
       "\t<tr><td>24        </td><td>          </td><td> 242539.83</td><td>0.10040250</td></tr>\n",
       "\t<tr><td>25        </td><td>          </td><td> 274144.84</td><td>0.09868979</td></tr>\n",
       "\t<tr><td>26        </td><td>          </td><td> 729357.75</td><td>0.11245200</td></tr>\n",
       "\t<tr><td>27        </td><td>          </td><td> 293006.16</td><td>0.12985499</td></tr>\n",
       "\t<tr><td>28        </td><td>          </td><td> 131545.95</td><td>0.08586574</td></tr>\n",
       "\t<tr><td>29        </td><td>          </td><td>1184566.16</td><td>0.11103543</td></tr>\n",
       "\t<tr><td>31        </td><td>          </td><td>1730456.82</td><td>0.11279110</td></tr>\n",
       "\t<tr><td>32        </td><td>          </td><td> 186231.70</td><td>0.06661391</td></tr>\n",
       "\t<tr><td>33        </td><td>          </td><td> 666660.42</td><td>0.05229680</td></tr>\n",
       "\t<tr><td>35        </td><td>          </td><td>2447195.55</td><td>0.07373465</td></tr>\n",
       "\t<tr><td>41        </td><td>          </td><td> 993226.54</td><td>0.12354554</td></tr>\n",
       "\t<tr><td>42        </td><td>          </td><td> 636702.29</td><td>0.12604370</td></tr>\n",
       "\t<tr><td>43        </td><td>          </td><td>1029728.47</td><td>0.12066375</td></tr>\n",
       "\t<tr><td>50        </td><td>          </td><td> 252147.48</td><td>0.14240715</td></tr>\n",
       "\t<tr><td>51        </td><td>          </td><td> 399820.65</td><td>0.17607579</td></tr>\n",
       "\t<tr><td>52        </td><td>          </td><td> 669615.13</td><td>0.14314006</td></tr>\n",
       "\t<tr><td>53        </td><td>          </td><td> 175544.23</td><td>0.08537364</td></tr>\n",
       "</tbody>\n",
       "</table>\n"
      ],
      "text/latex": [
       "\\begin{tabular}{r|llll}\n",
       " v0001 & q030 & Freq & porcent\\\\\n",
       "\\hline\n",
       "\t 11         &            &  195722.78 & 0.16449307\\\\\n",
       "\t 12         &            &  118370.97 & 0.24684074\\\\\n",
       "\t 13         &            &  357126.61 & 0.15645227\\\\\n",
       "\t 14         &            &   62588.23 & 0.22669306\\\\\n",
       "\t 15         &            &  995414.53 & 0.19081605\\\\\n",
       "\t 16         &            &   71932.09 & 0.15858841\\\\\n",
       "\t 17         &            &  188506.16 & 0.19086782\\\\\n",
       "\t 21         &            & 1131556.91 & 0.25863423\\\\\n",
       "\t 22         &            &  394900.12 & 0.17843489\\\\\n",
       "\t 23         &            & 1299722.45 & 0.20885510\\\\\n",
       "\t 24         &            &  242539.83 & 0.10040250\\\\\n",
       "\t 25         &            &  274144.84 & 0.09868979\\\\\n",
       "\t 26         &            &  729357.75 & 0.11245200\\\\\n",
       "\t 27         &            &  293006.16 & 0.12985499\\\\\n",
       "\t 28         &            &  131545.95 & 0.08586574\\\\\n",
       "\t 29         &            & 1184566.16 & 0.11103543\\\\\n",
       "\t 31         &            & 1730456.82 & 0.11279110\\\\\n",
       "\t 32         &            &  186231.70 & 0.06661391\\\\\n",
       "\t 33         &            &  666660.42 & 0.05229680\\\\\n",
       "\t 35         &            & 2447195.55 & 0.07373465\\\\\n",
       "\t 41         &            &  993226.54 & 0.12354554\\\\\n",
       "\t 42         &            &  636702.29 & 0.12604370\\\\\n",
       "\t 43         &            & 1029728.47 & 0.12066375\\\\\n",
       "\t 50         &            &  252147.48 & 0.14240715\\\\\n",
       "\t 51         &            &  399820.65 & 0.17607579\\\\\n",
       "\t 52         &            &  669615.13 & 0.14314006\\\\\n",
       "\t 53         &            &  175544.23 & 0.08537364\\\\\n",
       "\\end{tabular}\n"
      ],
      "text/markdown": [
       "\n",
       "| v0001 | q030 | Freq | porcent |\n",
       "|---|---|---|---|\n",
       "| 11         |            |  195722.78 | 0.16449307 |\n",
       "| 12         |            |  118370.97 | 0.24684074 |\n",
       "| 13         |            |  357126.61 | 0.15645227 |\n",
       "| 14         |            |   62588.23 | 0.22669306 |\n",
       "| 15         |            |  995414.53 | 0.19081605 |\n",
       "| 16         |            |   71932.09 | 0.15858841 |\n",
       "| 17         |            |  188506.16 | 0.19086782 |\n",
       "| 21         |            | 1131556.91 | 0.25863423 |\n",
       "| 22         |            |  394900.12 | 0.17843489 |\n",
       "| 23         |            | 1299722.45 | 0.20885510 |\n",
       "| 24         |            |  242539.83 | 0.10040250 |\n",
       "| 25         |            |  274144.84 | 0.09868979 |\n",
       "| 26         |            |  729357.75 | 0.11245200 |\n",
       "| 27         |            |  293006.16 | 0.12985499 |\n",
       "| 28         |            |  131545.95 | 0.08586574 |\n",
       "| 29         |            | 1184566.16 | 0.11103543 |\n",
       "| 31         |            | 1730456.82 | 0.11279110 |\n",
       "| 32         |            |  186231.70 | 0.06661391 |\n",
       "| 33         |            |  666660.42 | 0.05229680 |\n",
       "| 35         |            | 2447195.55 | 0.07373465 |\n",
       "| 41         |            |  993226.54 | 0.12354554 |\n",
       "| 42         |            |  636702.29 | 0.12604370 |\n",
       "| 43         |            | 1029728.47 | 0.12066375 |\n",
       "| 50         |            |  252147.48 | 0.14240715 |\n",
       "| 51         |            |  399820.65 | 0.17607579 |\n",
       "| 52         |            |  669615.13 | 0.14314006 |\n",
       "| 53         |            |  175544.23 | 0.08537364 |\n",
       "\n"
      ],
      "text/plain": [
       "   v0001 q030 Freq       porcent   \n",
       "1  11          195722.78 0.16449307\n",
       "2  12          118370.97 0.24684074\n",
       "3  13          357126.61 0.15645227\n",
       "4  14           62588.23 0.22669306\n",
       "5  15          995414.53 0.19081605\n",
       "6  16           71932.09 0.15858841\n",
       "7  17          188506.16 0.19086782\n",
       "8  21         1131556.91 0.25863423\n",
       "9  22          394900.12 0.17843489\n",
       "10 23         1299722.45 0.20885510\n",
       "11 24          242539.83 0.10040250\n",
       "12 25          274144.84 0.09868979\n",
       "13 26          729357.75 0.11245200\n",
       "14 27          293006.16 0.12985499\n",
       "15 28          131545.95 0.08586574\n",
       "16 29         1184566.16 0.11103543\n",
       "17 31         1730456.82 0.11279110\n",
       "18 32          186231.70 0.06661391\n",
       "19 33          666660.42 0.05229680\n",
       "20 35         2447195.55 0.07373465\n",
       "21 41          993226.54 0.12354554\n",
       "22 42          636702.29 0.12604370\n",
       "23 43         1029728.47 0.12066375\n",
       "24 50          252147.48 0.14240715\n",
       "25 51          399820.65 0.17607579\n",
       "26 52          669615.13 0.14314006\n",
       "27 53          175544.23 0.08537364"
      ]
     },
     "metadata": {},
     "output_type": "display_data"
    }
   ],
   "source": [
    "sub_estados"
   ]
  },
  {
   "cell_type": "code",
   "execution_count": 38,
   "metadata": {},
   "outputs": [
    {
     "data": {
      "text/html": [
       "<table>\n",
       "<thead><tr><th scope=col>Category</th><th scope=col>x</th></tr></thead>\n",
       "<tbody>\n",
       "\t<tr><td>11        </td><td> 1189854.3</td></tr>\n",
       "\t<tr><td>12        </td><td>  479543.9</td></tr>\n",
       "\t<tr><td>13        </td><td> 2282655.4</td></tr>\n",
       "\t<tr><td>14        </td><td>  276092.4</td></tr>\n",
       "\t<tr><td>15        </td><td> 5216618.5</td></tr>\n",
       "\t<tr><td>16        </td><td>  453577.2</td></tr>\n",
       "\t<tr><td>17        </td><td>  987626.7</td></tr>\n",
       "\t<tr><td>21        </td><td> 4375124.3</td></tr>\n",
       "\t<tr><td>22        </td><td> 2213132.9</td></tr>\n",
       "\t<tr><td>23        </td><td> 6223082.2</td></tr>\n",
       "\t<tr><td>24        </td><td> 2415675.1</td></tr>\n",
       "\t<tr><td>25        </td><td> 2777844.2</td></tr>\n",
       "\t<tr><td>26        </td><td> 6485947.2</td></tr>\n",
       "\t<tr><td>27        </td><td> 2256410.4</td></tr>\n",
       "\t<tr><td>28        </td><td> 1531995.8</td></tr>\n",
       "\t<tr><td>29        </td><td>10668362.4</td></tr>\n",
       "\t<tr><td>31        </td><td>15342139.8</td></tr>\n",
       "\t<tr><td>32        </td><td> 2795688.0</td></tr>\n",
       "\t<tr><td>33        </td><td>12747633.7</td></tr>\n",
       "\t<tr><td>35        </td><td>33189220.7</td></tr>\n",
       "\t<tr><td>41        </td><td> 8039355.6</td></tr>\n",
       "\t<tr><td>42        </td><td> 5051440.6</td></tr>\n",
       "\t<tr><td>43        </td><td> 8533867.7</td></tr>\n",
       "\t<tr><td>50        </td><td> 1770609.6</td></tr>\n",
       "\t<tr><td>51        </td><td> 2270730.4</td></tr>\n",
       "\t<tr><td>52        </td><td> 4678041.3</td></tr>\n",
       "\t<tr><td>53        </td><td> 2056187.8</td></tr>\n",
       "</tbody>\n",
       "</table>\n"
      ],
      "text/latex": [
       "\\begin{tabular}{r|ll}\n",
       " Category & x\\\\\n",
       "\\hline\n",
       "\t 11         &  1189854.3\\\\\n",
       "\t 12         &   479543.9\\\\\n",
       "\t 13         &  2282655.4\\\\\n",
       "\t 14         &   276092.4\\\\\n",
       "\t 15         &  5216618.5\\\\\n",
       "\t 16         &   453577.2\\\\\n",
       "\t 17         &   987626.7\\\\\n",
       "\t 21         &  4375124.3\\\\\n",
       "\t 22         &  2213132.9\\\\\n",
       "\t 23         &  6223082.2\\\\\n",
       "\t 24         &  2415675.1\\\\\n",
       "\t 25         &  2777844.2\\\\\n",
       "\t 26         &  6485947.2\\\\\n",
       "\t 27         &  2256410.4\\\\\n",
       "\t 28         &  1531995.8\\\\\n",
       "\t 29         & 10668362.4\\\\\n",
       "\t 31         & 15342139.8\\\\\n",
       "\t 32         &  2795688.0\\\\\n",
       "\t 33         & 12747633.7\\\\\n",
       "\t 35         & 33189220.7\\\\\n",
       "\t 41         &  8039355.6\\\\\n",
       "\t 42         &  5051440.6\\\\\n",
       "\t 43         &  8533867.7\\\\\n",
       "\t 50         &  1770609.6\\\\\n",
       "\t 51         &  2270730.4\\\\\n",
       "\t 52         &  4678041.3\\\\\n",
       "\t 53         &  2056187.8\\\\\n",
       "\\end{tabular}\n"
      ],
      "text/markdown": [
       "\n",
       "| Category | x |\n",
       "|---|---|\n",
       "| 11         |  1189854.3 |\n",
       "| 12         |   479543.9 |\n",
       "| 13         |  2282655.4 |\n",
       "| 14         |   276092.4 |\n",
       "| 15         |  5216618.5 |\n",
       "| 16         |   453577.2 |\n",
       "| 17         |   987626.7 |\n",
       "| 21         |  4375124.3 |\n",
       "| 22         |  2213132.9 |\n",
       "| 23         |  6223082.2 |\n",
       "| 24         |  2415675.1 |\n",
       "| 25         |  2777844.2 |\n",
       "| 26         |  6485947.2 |\n",
       "| 27         |  2256410.4 |\n",
       "| 28         |  1531995.8 |\n",
       "| 29         | 10668362.4 |\n",
       "| 31         | 15342139.8 |\n",
       "| 32         |  2795688.0 |\n",
       "| 33         | 12747633.7 |\n",
       "| 35         | 33189220.7 |\n",
       "| 41         |  8039355.6 |\n",
       "| 42         |  5051440.6 |\n",
       "| 43         |  8533867.7 |\n",
       "| 50         |  1770609.6 |\n",
       "| 51         |  2270730.4 |\n",
       "| 52         |  4678041.3 |\n",
       "| 53         |  2056187.8 |\n",
       "\n"
      ],
      "text/plain": [
       "   Category x         \n",
       "1  11        1189854.3\n",
       "2  12         479543.9\n",
       "3  13        2282655.4\n",
       "4  14         276092.4\n",
       "5  15        5216618.5\n",
       "6  16         453577.2\n",
       "7  17         987626.7\n",
       "8  21        4375124.3\n",
       "9  22        2213132.9\n",
       "10 23        6223082.2\n",
       "11 24        2415675.1\n",
       "12 25        2777844.2\n",
       "13 26        6485947.2\n",
       "14 27        2256410.4\n",
       "15 28        1531995.8\n",
       "16 29       10668362.4\n",
       "17 31       15342139.8\n",
       "18 32        2795688.0\n",
       "19 33       12747633.7\n",
       "20 35       33189220.7\n",
       "21 41        8039355.6\n",
       "22 42        5051440.6\n",
       "23 43        8533867.7\n",
       "24 50        1770609.6\n",
       "25 51        2270730.4\n",
       "26 52        4678041.3\n",
       "27 53        2056187.8"
      ]
     },
     "metadata": {},
     "output_type": "display_data"
    }
   ],
   "source": [
    "qtd_estados"
   ]
  },
  {
   "cell_type": "markdown",
   "metadata": {},
   "source": [
    "## Distribuição da idade de diagnóstico de Diabéticos\n",
    "\n",
    "Temos o gráfico que demonstra a idade que as pessoas foram diagnosticadas com a doença. Acima dos 30 anos é que os diagnósticos são mais realizados e tendo seu pico próximo aos 50 anos. Como idade é um dos fatores preditivos, faz sentido que com o passar dos anos a quantidade de diagnósticos aumente."
   ]
  },
  {
   "cell_type": "code",
   "execution_count": 49,
   "metadata": {},
   "outputs": [],
   "source": [
    "pns_design_srvyr$variables$q031 <- ifelse(pns_design_srvyr$variables$q031 == '00', pns_design_srvyr$variables$c008, pns_design_srvyr$variables$q031)"
   ]
  },
  {
   "cell_type": "code",
   "execution_count": 81,
   "metadata": {
    "scrolled": true
   },
   "outputs": [
    {
     "data": {
      "text/html": [
       "<ol class=list-inline>\n",
       "\t<li>'03'</li>\n",
       "\t<li>'03'</li>\n",
       "\t<li>'03'</li>\n",
       "\t<li>'03'</li>\n",
       "\t<li>'03'</li>\n",
       "\t<li>'03'</li>\n",
       "\t<li>'03'</li>\n",
       "\t<li>'03'</li>\n",
       "</ol>\n"
      ],
      "text/latex": [
       "\\begin{enumerate*}\n",
       "\\item '03'\n",
       "\\item '03'\n",
       "\\item '03'\n",
       "\\item '03'\n",
       "\\item '03'\n",
       "\\item '03'\n",
       "\\item '03'\n",
       "\\item '03'\n",
       "\\end{enumerate*}\n"
      ],
      "text/markdown": [
       "1. '03'\n",
       "2. '03'\n",
       "3. '03'\n",
       "4. '03'\n",
       "5. '03'\n",
       "6. '03'\n",
       "7. '03'\n",
       "8. '03'\n",
       "\n",
       "\n"
      ],
      "text/plain": [
       "[1] \"03\" \"03\" \"03\" \"03\" \"03\" \"03\" \"03\" \"03\""
      ]
     },
     "metadata": {},
     "output_type": "display_data"
    }
   ],
   "source": [
    "pns_design_srvyr$variables$q031[pns_design_srvyr$variables$q031=='03']"
   ]
  },
  {
   "cell_type": "code",
   "execution_count": 19,
   "metadata": {
    "lines_to_next_cell": 2,
    "tags": [
     "remove_input"
    ]
   },
   "outputs": [
    {
     "data": {
      "image/png": "[encoded data removed]",
      "text/plain": [
       "Plot with title \"Histograma da idade de dagnóstico\""
      ]
     },
     "metadata": {},
     "output_type": "display_data"
    }
   ],
   "source": [
    "options(repr.plot.width = 8, repr.plot.height = 5)\n",
    "survey::svyhist(~as.numeric(q031), subset(pns_design_srvyr, q030==1), main=\"Histograma da idade de dagnóstico\",\n",
    "                col=\"blue\", breaks = 30, prob=TRUE)\n",
    "ggsave(\"imagem6.png\",width = 6, height = 2.5, ,dpi = 200)"
   ]
  },
  {
   "cell_type": "markdown",
   "metadata": {},
   "source": [
    "## Distribuição da escolaridade no diagnóstico de Diabetes"
   ]
  },
  {
   "cell_type": "markdown",
   "metadata": {
    "tags": [
     "remove_input"
    ]
   },
   "source": [
    "Após realizadas as análises os maiores indices de diabéticos encontram-se em pessoas que não possuem escolaridade(Classe 0 - 6.6%) e nos que fizeram somente até o ensino fundamental(Classe 1 - 8.3%). As menores prevalências se encotram nas pessoas que possuem ensino superior(Classe 3 - 4%) e doutorado(Classe 5 - 4.2%).\n",
    "\n",
    "\n"
   ]
  },
  {
   "cell_type": "code",
   "execution_count": 34,
   "metadata": {
    "lines_to_next_cell": 0,
    "tags": [
     "remove_input"
    ]
   },
   "outputs": [
    {
     "data": {
      "image/png": "[encoded data removed]",
      "text/plain": [
       "plot without title"
      ]
     },
     "metadata": {},
     "output_type": "display_data"
    }
   ],
   "source": [
    "\n",
    "diab_esc <- survey::svytable(~ q030 + fx_esc, pns_design_srvyr)\n",
    "diab_esc <- as.data.frame(diab_esc)\n",
    "diab_esc$porc = 0\n",
    "\n",
    "pop_esc = group_by(diab_esc, fx_esc) %>% summarise(freq = sum(Freq))\n",
    "\n",
    "diab_esc = diab_esc[diab_esc$q030 == \"1\", ]\n",
    "\n",
    "for (i in pop_esc$fx_esc){\n",
    "   diab_esc[diab_esc$q030 == \"1\" & diab_esc$fx_esc == i, c(\"porc\")] = diab_esc[diab_esc$q030 == \"1\" & diab_esc$fx_esc == i, ]$Freq / pop_esc[pop_esc$fx_esc == i,]$freq \n",
    "}\n",
    "\n",
    "options(repr.plot.width = 8, repr.plot.height = 5, repr.plot.res = 100)\n",
    "p <-ggplot(data=diab_esc, aes(x=fx_esc, y=porc )) +\n",
    "  geom_bar(stat=\"identity\", fill=\"steelblue\")+\n",
    "  scale_fill_brewer(palette=\"Blues\")+ \n",
    "  geom_text(aes(label=round(porc*100, digits = 1)), vjust=-0.3, color=\"black\", size=5)+ \n",
    "  theme_minimal()+\n",
    "    theme(text = element_text(size=15)) +\n",
    "  xlab(\"Idade de diagnóstico\") + ylab(\"Frequência\") \n",
    " \n",
    "ggsave(\"imagem7.png\",width = 8, height = 5, ,dpi = 200)\n",
    "p\n"
   ]
  },
  {
   "cell_type": "markdown",
   "metadata": {},
   "source": [
    "### Variável já ficou gravida(r039)"
   ]
  },
  {
   "cell_type": "code",
   "execution_count": 113,
   "metadata": {},
   "outputs": [
    {
     "data": {
      "text/html": [
       "<table>\n",
       "<thead><tr><th scope=col>q030</th><th scope=col>r039</th><th scope=col>c006</th><th scope=col>Freq</th></tr></thead>\n",
       "<tbody>\n",
       "\t<tr><td>           </td><td>           </td><td>masculino  </td><td>10859119.62</td></tr>\n",
       "\t<tr><td>1          </td><td>           </td><td>masculino  </td><td> 3688368.96</td></tr>\n",
       "\t<tr><td>2          </td><td>           </td><td>masculino  </td><td>       0.00</td></tr>\n",
       "\t<tr><td>3          </td><td>           </td><td>masculino  </td><td>54368981.24</td></tr>\n",
       "\t<tr><td>           </td><td>1          </td><td>masculino  </td><td>       0.00</td></tr>\n",
       "\t<tr><td>1          </td><td>1          </td><td>masculino  </td><td>       0.00</td></tr>\n",
       "\t<tr><td>2          </td><td>1          </td><td>masculino  </td><td>       0.00</td></tr>\n",
       "\t<tr><td>3          </td><td>1          </td><td>masculino  </td><td>       0.00</td></tr>\n",
       "\t<tr><td>           </td><td>2          </td><td>masculino  </td><td>       0.00</td></tr>\n",
       "\t<tr><td>1          </td><td>2          </td><td>masculino  </td><td>       0.00</td></tr>\n",
       "\t<tr><td>2          </td><td>2          </td><td>masculino  </td><td>       0.00</td></tr>\n",
       "\t<tr><td>3          </td><td>2          </td><td>masculino  </td><td>       0.00</td></tr>\n",
       "\t<tr><td>           </td><td>           </td><td>feminino   </td><td> 1086063.15</td></tr>\n",
       "\t<tr><td>1          </td><td>           </td><td>feminino   </td><td> 4252172.57</td></tr>\n",
       "\t<tr><td>2          </td><td>           </td><td>feminino   </td><td>   22395.46</td></tr>\n",
       "\t<tr><td>3          </td><td>           </td><td>feminino   </td><td>21887837.44</td></tr>\n",
       "\t<tr><td>           </td><td>1          </td><td>feminino   </td><td> 2793692.61</td></tr>\n",
       "\t<tr><td>1          </td><td>1          </td><td>feminino   </td><td>  997224.64</td></tr>\n",
       "\t<tr><td>2          </td><td>1          </td><td>feminino   </td><td>  361179.50</td></tr>\n",
       "\t<tr><td>3          </td><td>1          </td><td>feminino   </td><td>30553754.99</td></tr>\n",
       "\t<tr><td>           </td><td>2          </td><td>feminino   </td><td> 2119455.44</td></tr>\n",
       "\t<tr><td>1          </td><td>2          </td><td>feminino   </td><td>  183865.14</td></tr>\n",
       "\t<tr><td>2          </td><td>2          </td><td>feminino   </td><td>       0.00</td></tr>\n",
       "\t<tr><td>3          </td><td>2          </td><td>feminino   </td><td>13134347.34</td></tr>\n",
       "</tbody>\n",
       "</table>\n"
      ],
      "text/latex": [
       "\\begin{tabular}{r|llll}\n",
       " q030 & r039 & c006 & Freq\\\\\n",
       "\\hline\n",
       "\t             &             & masculino   & 10859119.62\\\\\n",
       "\t 1           &             & masculino   &  3688368.96\\\\\n",
       "\t 2           &             & masculino   &        0.00\\\\\n",
       "\t 3           &             & masculino   & 54368981.24\\\\\n",
       "\t             & 1           & masculino   &        0.00\\\\\n",
       "\t 1           & 1           & masculino   &        0.00\\\\\n",
       "\t 2           & 1           & masculino   &        0.00\\\\\n",
       "\t 3           & 1           & masculino   &        0.00\\\\\n",
       "\t             & 2           & masculino   &        0.00\\\\\n",
       "\t 1           & 2           & masculino   &        0.00\\\\\n",
       "\t 2           & 2           & masculino   &        0.00\\\\\n",
       "\t 3           & 2           & masculino   &        0.00\\\\\n",
       "\t             &             & feminino    &  1086063.15\\\\\n",
       "\t 1           &             & feminino    &  4252172.57\\\\\n",
       "\t 2           &             & feminino    &    22395.46\\\\\n",
       "\t 3           &             & feminino    & 21887837.44\\\\\n",
       "\t             & 1           & feminino    &  2793692.61\\\\\n",
       "\t 1           & 1           & feminino    &   997224.64\\\\\n",
       "\t 2           & 1           & feminino    &   361179.50\\\\\n",
       "\t 3           & 1           & feminino    & 30553754.99\\\\\n",
       "\t             & 2           & feminino    &  2119455.44\\\\\n",
       "\t 1           & 2           & feminino    &   183865.14\\\\\n",
       "\t 2           & 2           & feminino    &        0.00\\\\\n",
       "\t 3           & 2           & feminino    & 13134347.34\\\\\n",
       "\\end{tabular}\n"
      ],
      "text/markdown": [
       "\n",
       "| q030 | r039 | c006 | Freq |\n",
       "|---|---|---|---|\n",
       "|             |             | masculino   | 10859119.62 |\n",
       "| 1           |             | masculino   |  3688368.96 |\n",
       "| 2           |             | masculino   |        0.00 |\n",
       "| 3           |             | masculino   | 54368981.24 |\n",
       "|             | 1           | masculino   |        0.00 |\n",
       "| 1           | 1           | masculino   |        0.00 |\n",
       "| 2           | 1           | masculino   |        0.00 |\n",
       "| 3           | 1           | masculino   |        0.00 |\n",
       "|             | 2           | masculino   |        0.00 |\n",
       "| 1           | 2           | masculino   |        0.00 |\n",
       "| 2           | 2           | masculino   |        0.00 |\n",
       "| 3           | 2           | masculino   |        0.00 |\n",
       "|             |             | feminino    |  1086063.15 |\n",
       "| 1           |             | feminino    |  4252172.57 |\n",
       "| 2           |             | feminino    |    22395.46 |\n",
       "| 3           |             | feminino    | 21887837.44 |\n",
       "|             | 1           | feminino    |  2793692.61 |\n",
       "| 1           | 1           | feminino    |   997224.64 |\n",
       "| 2           | 1           | feminino    |   361179.50 |\n",
       "| 3           | 1           | feminino    | 30553754.99 |\n",
       "|             | 2           | feminino    |  2119455.44 |\n",
       "| 1           | 2           | feminino    |   183865.14 |\n",
       "| 2           | 2           | feminino    |        0.00 |\n",
       "| 3           | 2           | feminino    | 13134347.34 |\n",
       "\n"
      ],
      "text/plain": [
       "   q030 r039 c006      Freq       \n",
       "1            masculino 10859119.62\n",
       "2  1         masculino  3688368.96\n",
       "3  2         masculino        0.00\n",
       "4  3         masculino 54368981.24\n",
       "5       1    masculino        0.00\n",
       "6  1    1    masculino        0.00\n",
       "7  2    1    masculino        0.00\n",
       "8  3    1    masculino        0.00\n",
       "9       2    masculino        0.00\n",
       "10 1    2    masculino        0.00\n",
       "11 2    2    masculino        0.00\n",
       "12 3    2    masculino        0.00\n",
       "13           feminino   1086063.15\n",
       "14 1         feminino   4252172.57\n",
       "15 2         feminino     22395.46\n",
       "16 3         feminino  21887837.44\n",
       "17      1    feminino   2793692.61\n",
       "18 1    1    feminino    997224.64\n",
       "19 2    1    feminino    361179.50\n",
       "20 3    1    feminino  30553754.99\n",
       "21      2    feminino   2119455.44\n",
       "22 1    2    feminino    183865.14\n",
       "23 2    2    feminino         0.00\n",
       "24 3    2    feminino  13134347.34"
      ]
     },
     "metadata": {},
     "output_type": "display_data"
    }
   ],
   "source": [
    "gravid <- as.data.frame(survey::svytable(~ q030 + r039 + c006, pns_design_srvyr))\n",
    "gravid"
   ]
  },
  {
   "cell_type": "code",
   "execution_count": 114,
   "metadata": {},
   "outputs": [
    {
     "data": {
      "text/html": [
       "146308458.121465"
      ],
      "text/latex": [
       "146308458.121465"
      ],
      "text/markdown": [
       "146308458.121465"
      ],
      "text/plain": [
       "[1] 146308458"
      ]
     },
     "metadata": {},
     "output_type": "display_data"
    }
   ],
   "source": [
    "sum(gravid$Freq)"
   ]
  },
  {
   "cell_type": "code",
   "execution_count": 53,
   "metadata": {},
   "outputs": [],
   "source": [
    "tot_gravid = sum(gravid[gravid$r039 == \"1\", c(\"Freq\")])\n",
    "\n",
    "diab_gravid = gravid[gravid$r039 == \"1\" & gravid$q030 == \"1\", c(\"Freq\")]\n",
    "prop_diab_gravid = diab_gravid / tot_gravid\n",
    "\n",
    "n_gravid = (tot_gravid - diab_gravid) / tot_gravid\n",
    "\n",
    "tot_nao_gravid = sum(gravid[gravid$r039 == \"2\", c(\"Freq\")])\n",
    "\n",
    "diab_nao_gravid = gravid[gravid$r039 == \"2\" & gravid$q030 == \"1\", c(\"Freq\")]\n",
    "prop_diab_nao_gravid = diab_nao_gravid / tot_nao_gravid\n",
    "\n",
    "nao_gravid = (tot_nao_gravid - diab_nao_gravid) / tot_nao_gravid"
   ]
  },
  {
   "cell_type": "code",
   "execution_count": 93,
   "metadata": {},
   "outputs": [],
   "source": [
    "df_gravid = data.frame(c(\"Diabétes/Grávidas\", \"Não Diabétes/Grávidas\", \"Diabétes/Não Grávidas\", \"Não Diabétes/Não Grávidas\"),\n",
    "                       c(1, 1, 2, 2),\n",
    "                       c(prop_diab_gravid, n_gravid, prop_diab_nao_gravid, nao_gravid), \n",
    "                       c(diab_gravid, (tot_gravid - diab_gravid), diab_nao_gravid, (tot_nao_gravid - diab_nao_gravid)))\n",
    "names(df_gravid) = c(\"Classe\", \"Cod\", \"Porcent\", \"Qtd\")"
   ]
  },
  {
   "cell_type": "code",
   "execution_count": 94,
   "metadata": {},
   "outputs": [
    {
     "data": {
      "text/html": [
       "<table>\n",
       "<thead><tr><th scope=col>Classe</th><th scope=col>Cod</th><th scope=col>Porcent</th><th scope=col>Qtd</th></tr></thead>\n",
       "<tbody>\n",
       "\t<tr><td>Diabétes/Grávidas        </td><td>1                        </td><td>0.02873362               </td><td>  997224.6               </td></tr>\n",
       "\t<tr><td>Não Diabétes/Grávidas    </td><td>1                        </td><td>0.97126638               </td><td>33708627.1               </td></tr>\n",
       "\t<tr><td>Diabétes/Não Grávidas    </td><td>2                        </td><td>0.01191016               </td><td>  183865.1               </td></tr>\n",
       "\t<tr><td>Não Diabétes/Não Grávidas</td><td>2                        </td><td>0.98808984               </td><td>15253802.8               </td></tr>\n",
       "</tbody>\n",
       "</table>\n"
      ],
      "text/latex": [
       "\\begin{tabular}{r|llll}\n",
       " Classe & Cod & Porcent & Qtd\\\\\n",
       "\\hline\n",
       "\t Diabétes/Grávidas         & 1                         & 0.02873362                &   997224.6               \\\\\n",
       "\t Não Diabétes/Grávidas     & 1                         & 0.97126638                & 33708627.1               \\\\\n",
       "\t Diabétes/Não Grávidas     & 2                         & 0.01191016                &   183865.1               \\\\\n",
       "\t Não Diabétes/Não Grávidas & 2                         & 0.98808984                & 15253802.8               \\\\\n",
       "\\end{tabular}\n"
      ],
      "text/markdown": [
       "\n",
       "| Classe | Cod | Porcent | Qtd |\n",
       "|---|---|---|---|\n",
       "| Diabétes/Grávidas         | 1                         | 0.02873362                |   997224.6                |\n",
       "| Não Diabétes/Grávidas     | 1                         | 0.97126638                | 33708627.1                |\n",
       "| Diabétes/Não Grávidas     | 2                         | 0.01191016                |   183865.1                |\n",
       "| Não Diabétes/Não Grávidas | 2                         | 0.98808984                | 15253802.8                |\n",
       "\n"
      ],
      "text/plain": [
       "  Classe                    Cod Porcent    Qtd       \n",
       "1 Diabétes/Grávidas         1   0.02873362   997224.6\n",
       "2 Não Diabétes/Grávidas     1   0.97126638 33708627.1\n",
       "3 Diabétes/Não Grávidas     2   0.01191016   183865.1\n",
       "4 Não Diabétes/Não Grávidas 2   0.98808984 15253802.8"
      ]
     },
     "metadata": {},
     "output_type": "display_data"
    }
   ],
   "source": [
    "df_gravid"
   ]
  },
  {
   "cell_type": "markdown",
   "metadata": {},
   "source": [
    "## Data Prep\n",
    "\n",
    "Limpando pessoas que nunca fizeram exame de pressão alta, colesterol alto e diabetes:"
   ]
  },
  {
   "cell_type": "code",
   "execution_count": 45,
   "metadata": {},
   "outputs": [],
   "source": [
    "#Separando a base de dados\n",
    "\n",
    "df = pns_design_srvyr[ ,c(\"c006\", \"c009\", \"fx_esc\", \"w00103\", \"w00203\", \"p009\", \"p018\", \"p020\", \"p025\", \"p026\", \"p028\", \"p035\", \"p050\", \"q002\", \"q029\", \"q060\", \"q068\", \"q124\", \"freqativ\", \"fxetaria\", \"idade\", \"imc\", \"q030\")]\n",
    "\n",
    "names(df$variables) = c(\"sexo_c006\",\"cor_raca_c009\", \"faixa_escolaridade\", \"peso_w00103\", \"altura_w00203\", \"come_verduras_p009\", \"come_frutas_p018\", \"refrigerante_suco_p020\", \"alimentos_doces_p025\", \"substitui_refeicoes_p026\", \"bebida_alcoolica_p028\", \"dias_semana_ativ_fisica_p035\", \"fumante_p050\", \"pressao_alta_q002\", \"exames_glicemia_q029\", \"colesterol_alto_q060\", \"avc_q068\", \"insuficiencia_renal_q124\", \"freqativ\", \"fxetaria\", \"idade\", \"imc\", \"diagnostico_diabetes_q030\")\n",
    "\n",
    "#sexo_c006\n",
    "#fumante_p050\n",
    "#pressao_alta_q002\n",
    "#colesterol_alto_q060\n",
    "#avc_q068\n",
    "#insuficiencia_renal_q124"
   ]
  },
  {
   "cell_type": "code",
   "execution_count": 46,
   "metadata": {
    "tags": [
     "remove_input"
    ]
   },
   "outputs": [],
   "source": [
    "df <- subset(df, diagnostico_diabetes_q030 != \" \" & diagnostico_diabetes_q030 != 2 & pressao_alta_q002 != \" \" & colesterol_alto_q060 != \" \")"
   ]
  },
  {
   "cell_type": "code",
   "execution_count": 47,
   "metadata": {},
   "outputs": [
    {
     "data": {
      "text/html": [
       "<table>\n",
       "<thead><tr><th scope=col>diagnostico_diabetes_q030</th><th scope=col>Freq</th></tr></thead>\n",
       "<tbody>\n",
       "\t<tr><td>         </td><td>        0</td></tr>\n",
       "\t<tr><td>1        </td><td>  8944236</td></tr>\n",
       "\t<tr><td>2        </td><td>        0</td></tr>\n",
       "\t<tr><td>3        </td><td>112664805</td></tr>\n",
       "</tbody>\n",
       "</table>\n"
      ],
      "text/latex": [
       "\\begin{tabular}{r|ll}\n",
       " diagnostico\\_diabetes\\_q030 & Freq\\\\\n",
       "\\hline\n",
       "\t           &         0\\\\\n",
       "\t 1         &   8944236\\\\\n",
       "\t 2         &         0\\\\\n",
       "\t 3         & 112664805\\\\\n",
       "\\end{tabular}\n"
      ],
      "text/markdown": [
       "\n",
       "| diagnostico_diabetes_q030 | Freq |\n",
       "|---|---|\n",
       "|           |         0 |\n",
       "| 1         |   8944236 |\n",
       "| 2         |         0 |\n",
       "| 3         | 112664805 |\n",
       "\n"
      ],
      "text/plain": [
       "  diagnostico_diabetes_q030 Freq     \n",
       "1                                   0\n",
       "2 1                           8944236\n",
       "3 2                                 0\n",
       "4 3                         112664805"
      ]
     },
     "metadata": {},
     "output_type": "display_data"
    }
   ],
   "source": [
    "verificacao <- as.data.frame(survey::svytable(~ diagnostico_diabetes_q030 , df))\n",
    "verificacao"
   ]
  },
  {
   "cell_type": "code",
   "execution_count": 48,
   "metadata": {},
   "outputs": [
    {
     "data": {
      "text/html": [
       "121609040.326191"
      ],
      "text/latex": [
       "121609040.326191"
      ],
      "text/markdown": [
       "121609040.326191"
      ],
      "text/plain": [
       "[1] 121609040"
      ]
     },
     "metadata": {},
     "output_type": "display_data"
    }
   ],
   "source": [
    "sum(verificacao$Freq)"
   ]
  },
  {
   "cell_type": "markdown",
   "metadata": {
    "lines_to_next_cell": 0
   },
   "source": [
    "### Preenchendo NAs\n",
    "\n",
    "* Variáveis d009, p028, p035 e r039 que eram NAs serão preenchidas com 0, já que demonstram uma ausência de seus valores."
   ]
  },
  {
   "cell_type": "code",
   "execution_count": 49,
   "metadata": {
    "lines_to_next_cell": 0,
    "tags": [
     "remove_input"
    ]
   },
   "outputs": [],
   "source": [
    "\n",
    "# pressao alta = q002\n",
    "\n",
    "df$variables$faixa_escolaridade = as.numeric(df$variables$faixa_escolaridade)\n",
    "df$variables[is.na(df$variables$faixa_escolaridade), c(\"faixa_escolaridade\")] = 0\n",
    "df$variables[is.na(df$variables$bebida_alcoolica_p028), c(\"bebida_alcoolica_p028\")] = 0\n",
    "df$variables[is.na(df$variables$dias_semana_ativ_fisica_p035), c(\"dias_semana_ativ_fisica_p035\")] = 0\n",
    "df$variables[df$variables$pressao_alta_q002 == \" \", c(\"pressao_alta_q002\")] = 0\n",
    "df$variables[df$variables$colesterol_alto_q060 == \" \", c(\"colesterol_alto_q060\")] = 0\n",
    "df$variables[df$variables$diagnostico_diabetes_q030 == \" \", c(\"diagnostico_diabetes_q030\")] = 0\n",
    "df$variables[df$variables$diagnostico_diabetes_q030 == \"2\", c(\"diagnostico_diabetes_q030\")] = 0\n",
    "df$variables[df$variables$diagnostico_diabetes_q030 == \"3\", c(\"diagnostico_diabetes_q030\")] = 0\n",
    "\n"
   ]
  },
  {
   "cell_type": "code",
   "execution_count": 50,
   "metadata": {},
   "outputs": [
    {
     "data": {
      "text/html": [
       "<table>\n",
       "<thead><tr><th scope=col>peso_w00103</th><th scope=col>Freq</th></tr></thead>\n",
       "<tbody>\n",
       "\t<tr><td>30        </td><td> 3327.0135</td></tr>\n",
       "\t<tr><td>30.4      </td><td>  478.3419</td></tr>\n",
       "\t<tr><td>30.9      </td><td> 6563.4772</td></tr>\n",
       "\t<tr><td>31        </td><td>    0.0000</td></tr>\n",
       "\t<tr><td>31.3      </td><td>  611.6762</td></tr>\n",
       "\t<tr><td>31.6      </td><td>  868.4755</td></tr>\n",
       "\t<tr><td>31.9      </td><td>  262.0292</td></tr>\n",
       "\t<tr><td>32        </td><td> 3210.1522</td></tr>\n",
       "\t<tr><td>32.1      </td><td>  364.1282</td></tr>\n",
       "\t<tr><td>32.4      </td><td>    0.0000</td></tr>\n",
       "\t<tr><td>32.5      </td><td>  861.5417</td></tr>\n",
       "\t<tr><td>33        </td><td> 1086.8888</td></tr>\n",
       "\t<tr><td>33.1      </td><td>  553.0495</td></tr>\n",
       "\t<tr><td>33.3      </td><td> 2917.8762</td></tr>\n",
       "\t<tr><td>33.4      </td><td> 2346.3508</td></tr>\n",
       "\t<tr><td>33.5      </td><td> 5040.5610</td></tr>\n",
       "\t<tr><td>33.6      </td><td>    0.0000</td></tr>\n",
       "\t<tr><td>33.7      </td><td>  616.2642</td></tr>\n",
       "\t<tr><td>33.8      </td><td> 1244.0659</td></tr>\n",
       "\t<tr><td>33.9      </td><td> 1902.6954</td></tr>\n",
       "\t<tr><td>34        </td><td> 3379.7963</td></tr>\n",
       "\t<tr><td>34.1      </td><td>  218.0542</td></tr>\n",
       "\t<tr><td>34.2      </td><td>  246.0643</td></tr>\n",
       "\t<tr><td>34.3      </td><td> 8580.5921</td></tr>\n",
       "\t<tr><td>34.4      </td><td>  810.9268</td></tr>\n",
       "\t<tr><td>34.5      </td><td>  670.3991</td></tr>\n",
       "\t<tr><td>34.6      </td><td>21148.9841</td></tr>\n",
       "\t<tr><td>34.7      </td><td> 1706.4402</td></tr>\n",
       "\t<tr><td>34.9      </td><td> 8427.5923</td></tr>\n",
       "\t<tr><td>35        </td><td> 1821.0735</td></tr>\n",
       "\t<tr><td>...</td><td>...</td></tr>\n",
       "\t<tr><td>146.2     </td><td>  808.0311</td></tr>\n",
       "\t<tr><td>148.1     </td><td> 1090.3027</td></tr>\n",
       "\t<tr><td>148.2     </td><td>  966.4525</td></tr>\n",
       "\t<tr><td>148.5     </td><td>  283.1375</td></tr>\n",
       "\t<tr><td>149.5     </td><td> 1314.7388</td></tr>\n",
       "\t<tr><td>150       </td><td>  528.5574</td></tr>\n",
       "\t<tr><td>150.3     </td><td>  590.4431</td></tr>\n",
       "\t<tr><td>151.2     </td><td> 3481.5682</td></tr>\n",
       "\t<tr><td>151.3     </td><td> 3630.1939</td></tr>\n",
       "\t<tr><td>152       </td><td> 3130.4475</td></tr>\n",
       "\t<tr><td>152.4     </td><td> 1428.0251</td></tr>\n",
       "\t<tr><td>152.9     </td><td>    0.0000</td></tr>\n",
       "\t<tr><td>153.2     </td><td> 1550.1698</td></tr>\n",
       "\t<tr><td>153.5     </td><td> 1537.6114</td></tr>\n",
       "\t<tr><td>154.3     </td><td> 8776.6979</td></tr>\n",
       "\t<tr><td>154.8     </td><td> 1909.3095</td></tr>\n",
       "\t<tr><td>156.4     </td><td>  848.1210</td></tr>\n",
       "\t<tr><td>156.5     </td><td>  489.8482</td></tr>\n",
       "\t<tr><td>157.4     </td><td>  372.7866</td></tr>\n",
       "\t<tr><td>160       </td><td> 3096.0437</td></tr>\n",
       "\t<tr><td>160.1     </td><td> 3761.7457</td></tr>\n",
       "\t<tr><td>163.4     </td><td>10735.0989</td></tr>\n",
       "\t<tr><td>164.7     </td><td> 2615.1904</td></tr>\n",
       "\t<tr><td>165       </td><td> 4145.9464</td></tr>\n",
       "\t<tr><td>167       </td><td>  739.5229</td></tr>\n",
       "\t<tr><td>167.8     </td><td> 1157.1036</td></tr>\n",
       "\t<tr><td>171.7     </td><td> 4340.3678</td></tr>\n",
       "\t<tr><td>174       </td><td>  295.2215</td></tr>\n",
       "\t<tr><td>178       </td><td> 3165.2153</td></tr>\n",
       "\t<tr><td>179       </td><td> 1427.0125</td></tr>\n",
       "</tbody>\n",
       "</table>\n"
      ],
      "text/latex": [
       "\\begin{tabular}{r|ll}\n",
       " peso\\_w00103 & Freq\\\\\n",
       "\\hline\n",
       "\t 30         &  3327.0135\\\\\n",
       "\t 30.4       &   478.3419\\\\\n",
       "\t 30.9       &  6563.4772\\\\\n",
       "\t 31         &     0.0000\\\\\n",
       "\t 31.3       &   611.6762\\\\\n",
       "\t 31.6       &   868.4755\\\\\n",
       "\t 31.9       &   262.0292\\\\\n",
       "\t 32         &  3210.1522\\\\\n",
       "\t 32.1       &   364.1282\\\\\n",
       "\t 32.4       &     0.0000\\\\\n",
       "\t 32.5       &   861.5417\\\\\n",
       "\t 33         &  1086.8888\\\\\n",
       "\t 33.1       &   553.0495\\\\\n",
       "\t 33.3       &  2917.8762\\\\\n",
       "\t 33.4       &  2346.3508\\\\\n",
       "\t 33.5       &  5040.5610\\\\\n",
       "\t 33.6       &     0.0000\\\\\n",
       "\t 33.7       &   616.2642\\\\\n",
       "\t 33.8       &  1244.0659\\\\\n",
       "\t 33.9       &  1902.6954\\\\\n",
       "\t 34         &  3379.7963\\\\\n",
       "\t 34.1       &   218.0542\\\\\n",
       "\t 34.2       &   246.0643\\\\\n",
       "\t 34.3       &  8580.5921\\\\\n",
       "\t 34.4       &   810.9268\\\\\n",
       "\t 34.5       &   670.3991\\\\\n",
       "\t 34.6       & 21148.9841\\\\\n",
       "\t 34.7       &  1706.4402\\\\\n",
       "\t 34.9       &  8427.5923\\\\\n",
       "\t 35         &  1821.0735\\\\\n",
       "\t ... & ...\\\\\n",
       "\t 146.2      &   808.0311\\\\\n",
       "\t 148.1      &  1090.3027\\\\\n",
       "\t 148.2      &   966.4525\\\\\n",
       "\t 148.5      &   283.1375\\\\\n",
       "\t 149.5      &  1314.7388\\\\\n",
       "\t 150        &   528.5574\\\\\n",
       "\t 150.3      &   590.4431\\\\\n",
       "\t 151.2      &  3481.5682\\\\\n",
       "\t 151.3      &  3630.1939\\\\\n",
       "\t 152        &  3130.4475\\\\\n",
       "\t 152.4      &  1428.0251\\\\\n",
       "\t 152.9      &     0.0000\\\\\n",
       "\t 153.2      &  1550.1698\\\\\n",
       "\t 153.5      &  1537.6114\\\\\n",
       "\t 154.3      &  8776.6979\\\\\n",
       "\t 154.8      &  1909.3095\\\\\n",
       "\t 156.4      &   848.1210\\\\\n",
       "\t 156.5      &   489.8482\\\\\n",
       "\t 157.4      &   372.7866\\\\\n",
       "\t 160        &  3096.0437\\\\\n",
       "\t 160.1      &  3761.7457\\\\\n",
       "\t 163.4      & 10735.0989\\\\\n",
       "\t 164.7      &  2615.1904\\\\\n",
       "\t 165        &  4145.9464\\\\\n",
       "\t 167        &   739.5229\\\\\n",
       "\t 167.8      &  1157.1036\\\\\n",
       "\t 171.7      &  4340.3678\\\\\n",
       "\t 174        &   295.2215\\\\\n",
       "\t 178        &  3165.2153\\\\\n",
       "\t 179        &  1427.0125\\\\\n",
       "\\end{tabular}\n"
      ],
      "text/markdown": [
       "\n",
       "| peso_w00103 | Freq |\n",
       "|---|---|\n",
       "| 30         |  3327.0135 |\n",
       "| 30.4       |   478.3419 |\n",
       "| 30.9       |  6563.4772 |\n",
       "| 31         |     0.0000 |\n",
       "| 31.3       |   611.6762 |\n",
       "| 31.6       |   868.4755 |\n",
       "| 31.9       |   262.0292 |\n",
       "| 32         |  3210.1522 |\n",
       "| 32.1       |   364.1282 |\n",
       "| 32.4       |     0.0000 |\n",
       "| 32.5       |   861.5417 |\n",
       "| 33         |  1086.8888 |\n",
       "| 33.1       |   553.0495 |\n",
       "| 33.3       |  2917.8762 |\n",
       "| 33.4       |  2346.3508 |\n",
       "| 33.5       |  5040.5610 |\n",
       "| 33.6       |     0.0000 |\n",
       "| 33.7       |   616.2642 |\n",
       "| 33.8       |  1244.0659 |\n",
       "| 33.9       |  1902.6954 |\n",
       "| 34         |  3379.7963 |\n",
       "| 34.1       |   218.0542 |\n",
       "| 34.2       |   246.0643 |\n",
       "| 34.3       |  8580.5921 |\n",
       "| 34.4       |   810.9268 |\n",
       "| 34.5       |   670.3991 |\n",
       "| 34.6       | 21148.9841 |\n",
       "| 34.7       |  1706.4402 |\n",
       "| 34.9       |  8427.5923 |\n",
       "| 35         |  1821.0735 |\n",
       "| ... | ... |\n",
       "| 146.2      |   808.0311 |\n",
       "| 148.1      |  1090.3027 |\n",
       "| 148.2      |   966.4525 |\n",
       "| 148.5      |   283.1375 |\n",
       "| 149.5      |  1314.7388 |\n",
       "| 150        |   528.5574 |\n",
       "| 150.3      |   590.4431 |\n",
       "| 151.2      |  3481.5682 |\n",
       "| 151.3      |  3630.1939 |\n",
       "| 152        |  3130.4475 |\n",
       "| 152.4      |  1428.0251 |\n",
       "| 152.9      |     0.0000 |\n",
       "| 153.2      |  1550.1698 |\n",
       "| 153.5      |  1537.6114 |\n",
       "| 154.3      |  8776.6979 |\n",
       "| 154.8      |  1909.3095 |\n",
       "| 156.4      |   848.1210 |\n",
       "| 156.5      |   489.8482 |\n",
       "| 157.4      |   372.7866 |\n",
       "| 160        |  3096.0437 |\n",
       "| 160.1      |  3761.7457 |\n",
       "| 163.4      | 10735.0989 |\n",
       "| 164.7      |  2615.1904 |\n",
       "| 165        |  4145.9464 |\n",
       "| 167        |   739.5229 |\n",
       "| 167.8      |  1157.1036 |\n",
       "| 171.7      |  4340.3678 |\n",
       "| 174        |   295.2215 |\n",
       "| 178        |  3165.2153 |\n",
       "| 179        |  1427.0125 |\n",
       "\n"
      ],
      "text/plain": [
       "     peso_w00103 Freq      \n",
       "1    30           3327.0135\n",
       "2    30.4          478.3419\n",
       "3    30.9         6563.4772\n",
       "4    31              0.0000\n",
       "5    31.3          611.6762\n",
       "6    31.6          868.4755\n",
       "7    31.9          262.0292\n",
       "8    32           3210.1522\n",
       "9    32.1          364.1282\n",
       "10   32.4            0.0000\n",
       "11   32.5          861.5417\n",
       "12   33           1086.8888\n",
       "13   33.1          553.0495\n",
       "14   33.3         2917.8762\n",
       "15   33.4         2346.3508\n",
       "16   33.5         5040.5610\n",
       "17   33.6            0.0000\n",
       "18   33.7          616.2642\n",
       "19   33.8         1244.0659\n",
       "20   33.9         1902.6954\n",
       "21   34           3379.7963\n",
       "22   34.1          218.0542\n",
       "23   34.2          246.0643\n",
       "24   34.3         8580.5921\n",
       "25   34.4          810.9268\n",
       "26   34.5          670.3991\n",
       "27   34.6        21148.9841\n",
       "28   34.7         1706.4402\n",
       "29   34.9         8427.5923\n",
       "30   35           1821.0735\n",
       "...  ...         ...       \n",
       "1032 146.2         808.0311\n",
       "1033 148.1        1090.3027\n",
       "1034 148.2         966.4525\n",
       "1035 148.5         283.1375\n",
       "1036 149.5        1314.7388\n",
       "1037 150           528.5574\n",
       "1038 150.3         590.4431\n",
       "1039 151.2        3481.5682\n",
       "1040 151.3        3630.1939\n",
       "1041 152          3130.4475\n",
       "1042 152.4        1428.0251\n",
       "1043 152.9           0.0000\n",
       "1044 153.2        1550.1698\n",
       "1045 153.5        1537.6114\n",
       "1046 154.3        8776.6979\n",
       "1047 154.8        1909.3095\n",
       "1048 156.4         848.1210\n",
       "1049 156.5         489.8482\n",
       "1050 157.4         372.7866\n",
       "1051 160          3096.0437\n",
       "1052 160.1        3761.7457\n",
       "1053 163.4       10735.0989\n",
       "1054 164.7        2615.1904\n",
       "1055 165          4145.9464\n",
       "1056 167           739.5229\n",
       "1057 167.8        1157.1036\n",
       "1058 171.7        4340.3678\n",
       "1059 174           295.2215\n",
       "1060 178          3165.2153\n",
       "1061 179          1427.0125"
      ]
     },
     "metadata": {},
     "output_type": "display_data"
    }
   ],
   "source": [
    "verificacao <- as.data.frame(survey::svytable(~ peso_w00103 , df))\n",
    "verificacao"
   ]
  },
  {
   "cell_type": "code",
   "execution_count": 51,
   "metadata": {},
   "outputs": [],
   "source": [
    "df <- df %>% mutate(imc = peso_w00103/(altura_w00203/100* altura_w00203/100)) \n",
    "df$variables <- df$variables %>% mutate(imcclass = case_when(imc < 17.0 ~ \"1\",\n",
    "                                 imc >= 17.0 & imc < 18.5 ~ \"2\",\n",
    "                                 imc >= 18.5 & imc < 25.0 ~ \"3\",\n",
    "                                 imc >= 25.0 & imc < 30.0 ~ \"4\",\n",
    "                                 imc >= 30.0 & imc < 35.0 ~ \"5\",\n",
    "                                 imc >= 35.0 & imc < 40.0 ~ \"6\",\n",
    "                                 imc >= 40.0 ~ \"7\",\n",
    "                                 TRUE ~ \"Nenhum\"\n",
    "                                 ))"
   ]
  },
  {
   "cell_type": "code",
   "execution_count": 52,
   "metadata": {},
   "outputs": [
    {
     "data": {
      "text/html": [
       "<table>\n",
       "<thead><tr><th scope=col>imcclass</th><th scope=col>Freq</th></tr></thead>\n",
       "<tbody>\n",
       "\t<tr><td>1         </td><td>  746606.9</td></tr>\n",
       "\t<tr><td>2         </td><td> 1909634.7</td></tr>\n",
       "\t<tr><td>3         </td><td>45994125.3</td></tr>\n",
       "\t<tr><td>4         </td><td>44548213.3</td></tr>\n",
       "\t<tr><td>5         </td><td>19237744.2</td></tr>\n",
       "\t<tr><td>6         </td><td> 5720274.5</td></tr>\n",
       "\t<tr><td>7         </td><td> 2212148.9</td></tr>\n",
       "\t<tr><td>Nenhum    </td><td> 1240292.5</td></tr>\n",
       "</tbody>\n",
       "</table>\n"
      ],
      "text/latex": [
       "\\begin{tabular}{r|ll}\n",
       " imcclass & Freq\\\\\n",
       "\\hline\n",
       "\t 1          &   746606.9\\\\\n",
       "\t 2          &  1909634.7\\\\\n",
       "\t 3          & 45994125.3\\\\\n",
       "\t 4          & 44548213.3\\\\\n",
       "\t 5          & 19237744.2\\\\\n",
       "\t 6          &  5720274.5\\\\\n",
       "\t 7          &  2212148.9\\\\\n",
       "\t Nenhum     &  1240292.5\\\\\n",
       "\\end{tabular}\n"
      ],
      "text/markdown": [
       "\n",
       "| imcclass | Freq |\n",
       "|---|---|\n",
       "| 1          |   746606.9 |\n",
       "| 2          |  1909634.7 |\n",
       "| 3          | 45994125.3 |\n",
       "| 4          | 44548213.3 |\n",
       "| 5          | 19237744.2 |\n",
       "| 6          |  5720274.5 |\n",
       "| 7          |  2212148.9 |\n",
       "| Nenhum     |  1240292.5 |\n",
       "\n"
      ],
      "text/plain": [
       "  imcclass Freq      \n",
       "1 1          746606.9\n",
       "2 2         1909634.7\n",
       "3 3        45994125.3\n",
       "4 4        44548213.3\n",
       "5 5        19237744.2\n",
       "6 6         5720274.5\n",
       "7 7         2212148.9\n",
       "8 Nenhum    1240292.5"
      ]
     },
     "metadata": {},
     "output_type": "display_data"
    }
   ],
   "source": [
    "verificacao <- as.data.frame(survey::svytable(~ imcclass , df))\n",
    "verificacao"
   ]
  },
  {
   "cell_type": "markdown",
   "metadata": {},
   "source": [
    "* Variável c006(peso), será preenchida com a média das pessoas separadas pelo sexo(c006) e pela faixa etária(fxetaria)."
   ]
  },
  {
   "cell_type": "code",
   "execution_count": 53,
   "metadata": {
    "tags": [
     "remove_input"
    ]
   },
   "outputs": [],
   "source": [
    "\n",
    "df$variables$sexo_c006 <- as.character(df$variables$sexo_c006) \n",
    "\n",
    "masc_18 = as.numeric(survey::svymean(~peso_w00103 ,subset(x = df, subset = fxetaria == 18 & sexo_c006 == \"masculino\"), na.rm=TRUE))\n",
    "masc_22 = as.numeric(survey::svymean(~peso_w00103 ,subset(x = df, subset = fxetaria == 22 & sexo_c006 == \"masculino\"), na.rm=TRUE))\n",
    "masc_32 = as.numeric(survey::svymean(~peso_w00103 ,subset(x = df, subset = fxetaria == 32 & sexo_c006 == \"masculino\"), na.rm=TRUE))\n",
    "masc_50 = as.numeric(survey::svymean(~peso_w00103 ,subset(x = df, subset = fxetaria == 50 & sexo_c006 == \"masculino\"), na.rm=TRUE))\n",
    "masc_60 = as.numeric(survey::svymean(~peso_w00103 ,subset(x = df, subset = fxetaria == 60 & sexo_c006 == \"masculino\"), na.rm=TRUE))\n",
    "\n",
    "\n",
    "femi_18 = as.numeric(survey::svymean(~peso_w00103 ,subset(x = df, subset = fxetaria == 18 & sexo_c006 == \"feminino\"), na.rm=TRUE))\n",
    "femi_22 = as.numeric(survey::svymean(~peso_w00103 ,subset(x = df, subset = fxetaria == 22 & sexo_c006 == \"feminino\"), na.rm=TRUE))\n",
    "femi_32 = as.numeric(survey::svymean(~peso_w00103 ,subset(x = df, subset = fxetaria == 32 & sexo_c006 == \"feminino\"), na.rm=TRUE))\n",
    "femi_50 = as.numeric(survey::svymean(~peso_w00103 ,subset(x = df, subset = fxetaria == 50 & sexo_c006 == \"feminino\"), na.rm=TRUE))\n",
    "femi_60 = as.numeric(survey::svymean(~peso_w00103 ,subset(x = df, subset = fxetaria == 60 & sexo_c006 == \"feminino\"), na.rm=TRUE))\n",
    "\n",
    "\n",
    "df$variables[df$variables$fxetaria == 18 & df$variables$sexo_c006 == \"masculino\" & is.na(df$variables$peso_w00103), c(\"peso_w00103\")] = round(masc_18, digits = 1)\n",
    "df$variables[df$variables$fxetaria == 22 & df$variables$sexo_c006 == \"masculino\" & is.na(df$variables$peso_w00103), c(\"peso_w00103\")] = round(masc_22, digits = 1)\n",
    "df$variables[df$variables$fxetaria == 32 & df$variables$sexo_c006 == \"masculino\" & is.na(df$variables$peso_w00103), c(\"peso_w00103\")] = round(masc_32, digits = 1)\n",
    "df$variables[df$variables$fxetaria == 50 & df$variables$sexo_c006 == \"masculino\" & is.na(df$variables$peso_w00103), c(\"peso_w00103\")] = round(masc_50, digits = 1)\n",
    "df$variables[df$variables$fxetaria == 60 & df$variables$sexo_c006 == \"masculino\" & is.na(df$variables$peso_w00103), c(\"peso_w00103\")] = round(masc_60, digits = 1)\n",
    "\n",
    "\n",
    "df$variables[df$variables$fxetaria == 18 & df$variables$sexo_c006 == \"feminino\" & is.na(df$variables$peso_w00103), c(\"peso_w00103\")] = round(femi_18, digits = 1)\n",
    "df$variables[df$variables$fxetaria == 22 & df$variables$sexo_c006 == \"feminino\" & is.na(df$variables$peso_w00103), c(\"peso_w00103\")] = round(femi_22, digits = 1)\n",
    "df$variables[df$variables$fxetaria == 32 & df$variables$sexo_c006 == \"feminino\" & is.na(df$variables$peso_w00103), c(\"peso_w00103\")] = round(femi_32, digits = 1)\n",
    "df$variables[df$variables$fxetaria == 50 & df$variables$sexo_c006 == \"feminino\" & is.na(df$variables$peso_w00103), c(\"peso_w00103\")] = round(femi_50, digits = 1)\n",
    "df$variables[df$variables$fxetaria == 60 & df$variables$sexo_c006 == \"feminino\" & is.na(df$variables$peso_w00103), c(\"peso_w00103\")] = round(femi_60, digits = 1)\n"
   ]
  },
  {
   "cell_type": "markdown",
   "metadata": {},
   "source": [
    "* Variável w00203(altura), será preenchida com a média das pessoas separadas pelo sexo(c006) e pela faixa etária(fxetaria)."
   ]
  },
  {
   "cell_type": "code",
   "execution_count": 54,
   "metadata": {
    "tags": [
     "remove_input"
    ]
   },
   "outputs": [],
   "source": [
    "\n",
    "\n",
    "masc_18 = as.numeric(survey::svymean(~altura_w00203 ,subset(x = df, subset = fxetaria == 18 & sexo_c006 == \"masculino\"), na.rm=TRUE))\n",
    "masc_22 = as.numeric(survey::svymean(~altura_w00203 ,subset(x = df, subset = fxetaria == 22 & sexo_c006 == \"masculino\"), na.rm=TRUE))\n",
    "masc_32 = as.numeric(survey::svymean(~altura_w00203 ,subset(x = df, subset = fxetaria == 32 & sexo_c006 == \"masculino\"), na.rm=TRUE))\n",
    "masc_50 = as.numeric(survey::svymean(~altura_w00203 ,subset(x = df, subset = fxetaria == 50 & sexo_c006 == \"masculino\"), na.rm=TRUE))\n",
    "masc_60 = as.numeric(survey::svymean(~altura_w00203 ,subset(x = df, subset = fxetaria == 60 & sexo_c006 == \"masculino\"), na.rm=TRUE))\n",
    "\n",
    "\n",
    "femi_18 = as.numeric(survey::svymean(~altura_w00203 ,subset(x = df, subset = fxetaria == 18 & sexo_c006 == \"feminino\"), na.rm=TRUE))\n",
    "femi_22 = as.numeric(survey::svymean(~altura_w00203 ,subset(x = df, subset = fxetaria == 22 & sexo_c006 == \"feminino\"), na.rm=TRUE))\n",
    "femi_32 = as.numeric(survey::svymean(~altura_w00203 ,subset(x = df, subset = fxetaria == 32 & sexo_c006 == \"feminino\"), na.rm=TRUE))\n",
    "femi_50 = as.numeric(survey::svymean(~altura_w00203 ,subset(x = df, subset = fxetaria == 50 & sexo_c006 == \"feminino\"), na.rm=TRUE))\n",
    "femi_60 = as.numeric(survey::svymean(~altura_w00203 ,subset(x = df, subset = fxetaria == 60 & sexo_c006 == \"feminino\"), na.rm=TRUE))\n",
    "\n",
    "\n",
    "df$variables[df$variables$fxetaria == 18 & df$variables$sexo_c006 == \"masculino\" & is.na(df$variables$altura_w00203), c(\"peso_w00103\")] = round(masc_18, digits = 1)\n",
    "df$variables[df$variables$fxetaria == 22 & df$variables$sexo_c006 == \"masculino\" & is.na(df$variables$altura_w00203), c(\"peso_w00103\")] = round(masc_22, digits = 1)\n",
    "df$variables[df$variables$fxetaria == 32 & df$variables$sexo_c006 == \"masculino\" & is.na(df$variables$altura_w00203), c(\"peso_w00103\")] = round(masc_32, digits = 1)\n",
    "df$variables[df$variables$fxetaria == 50 & df$variables$sexo_c006 == \"masculino\" & is.na(df$variables$altura_w00203), c(\"peso_w00103\")] = round(masc_50, digits = 1)\n",
    "df$variables[df$variables$fxetaria == 60 & df$variables$sexo_c006 == \"masculino\" & is.na(df$variables$altura_w00203), c(\"peso_w00103\")] = round(masc_60, digits = 1)\n",
    "\n",
    "\n",
    "df$variables[df$variables$fxetaria == 18 & df$variables$sexo_c006 == \"feminino\" & is.na(df$variables$altura_w00203), c(\"altura_w00203\")] = round(femi_18, digits = 1)\n",
    "df$variables[df$variables$fxetaria == 22 & df$variables$sexo_c006 == \"feminino\" & is.na(df$variables$altura_w00203), c(\"altura_w00203\")] = round(femi_22, digits = 1)\n",
    "df$variables[df$variables$fxetaria == 32 & df$variables$sexo_c006 == \"feminino\" & is.na(df$variables$altura_w00203), c(\"altura_w00203\")] = round(femi_32, digits = 1)\n",
    "df$variables[df$variables$fxetaria == 50 & df$variables$sexo_c006 == \"feminino\" & is.na(df$variables$altura_w00203), c(\"altura_w00203\")] = round(femi_50, digits = 1)\n",
    "df$variables[df$variables$fxetaria == 60 & df$variables$sexo_c006 == \"feminino\" & is.na(df$variables$altura_w00203), c(\"altura_w00203\")] = round(femi_60, digits = 1)\n",
    "\n",
    "df <- df %>% mutate(imc = peso_w00103/(altura_w00203/100* altura_w00203/100)) \n",
    "df$variables <- df$variables %>% mutate(imcclass = case_when(imc < 17.0 ~ \"1\",\n",
    "                                 imc >= 17.0 & imc < 18.5 ~ \"2\",\n",
    "                                 imc >= 18.5 & imc < 25.0 ~ \"3\",\n",
    "                                 imc >= 25.0 & imc < 30.0 ~ \"4\",\n",
    "                                 imc >= 30.0 & imc < 35.0 ~ \"5\",\n",
    "                                 imc >= 35.0 & imc < 40.0 ~ \"6\",\n",
    "                                 imc >= 40.0 ~ \"7\",\n",
    "                                 TRUE ~ \"Nenhum\"\n",
    "                                 ))"
   ]
  },
  {
   "cell_type": "code",
   "execution_count": 55,
   "metadata": {},
   "outputs": [
    {
     "data": {
      "text/html": [
       "<table>\n",
       "<thead><tr><th scope=col>imcclass</th><th scope=col>Freq</th></tr></thead>\n",
       "<tbody>\n",
       "\t<tr><td>1         </td><td>  746606.9</td></tr>\n",
       "\t<tr><td>2         </td><td> 1909634.7</td></tr>\n",
       "\t<tr><td>3         </td><td>46390401.7</td></tr>\n",
       "\t<tr><td>4         </td><td>45392229.4</td></tr>\n",
       "\t<tr><td>5         </td><td>19237744.2</td></tr>\n",
       "\t<tr><td>6         </td><td> 5720274.5</td></tr>\n",
       "\t<tr><td>7         </td><td> 2212148.9</td></tr>\n",
       "</tbody>\n",
       "</table>\n"
      ],
      "text/latex": [
       "\\begin{tabular}{r|ll}\n",
       " imcclass & Freq\\\\\n",
       "\\hline\n",
       "\t 1          &   746606.9\\\\\n",
       "\t 2          &  1909634.7\\\\\n",
       "\t 3          & 46390401.7\\\\\n",
       "\t 4          & 45392229.4\\\\\n",
       "\t 5          & 19237744.2\\\\\n",
       "\t 6          &  5720274.5\\\\\n",
       "\t 7          &  2212148.9\\\\\n",
       "\\end{tabular}\n"
      ],
      "text/markdown": [
       "\n",
       "| imcclass | Freq |\n",
       "|---|---|\n",
       "| 1          |   746606.9 |\n",
       "| 2          |  1909634.7 |\n",
       "| 3          | 46390401.7 |\n",
       "| 4          | 45392229.4 |\n",
       "| 5          | 19237744.2 |\n",
       "| 6          |  5720274.5 |\n",
       "| 7          |  2212148.9 |\n",
       "\n"
      ],
      "text/plain": [
       "  imcclass Freq      \n",
       "1 1          746606.9\n",
       "2 2         1909634.7\n",
       "3 3        46390401.7\n",
       "4 4        45392229.4\n",
       "5 5        19237744.2\n",
       "6 6         5720274.5\n",
       "7 7         2212148.9"
      ]
     },
     "metadata": {},
     "output_type": "display_data"
    }
   ],
   "source": [
    "verificacao <- as.data.frame(survey::svytable(~ imcclass , df))\n",
    "verificacao"
   ]
  },
  {
   "cell_type": "code",
   "execution_count": 56,
   "metadata": {},
   "outputs": [],
   "source": [
    "df$variables <- df$variables[,c(1:22, 24, 23)]"
   ]
  },
  {
   "cell_type": "code",
   "execution_count": 57,
   "metadata": {},
   "outputs": [
    {
     "data": {
      "text/html": [
       "<table>\n",
       "<thead><tr><th scope=col>sexo_c006</th><th scope=col>cor_raca_c009</th><th scope=col>faixa_escolaridade</th><th scope=col>peso_w00103</th><th scope=col>altura_w00203</th><th scope=col>come_verduras_p009</th><th scope=col>come_frutas_p018</th><th scope=col>refrigerante_suco_p020</th><th scope=col>alimentos_doces_p025</th><th scope=col>substitui_refeicoes_p026</th><th scope=col>...</th><th scope=col>exames_glicemia_q029</th><th scope=col>colesterol_alto_q060</th><th scope=col>avc_q068</th><th scope=col>insuficiencia_renal_q124</th><th scope=col>freqativ</th><th scope=col>fxetaria</th><th scope=col>idade</th><th scope=col>imc</th><th scope=col>imcclass</th><th scope=col>diagnostico_diabetes_q030</th></tr></thead>\n",
       "<tbody>\n",
       "\t<tr><td>masculino</td><td>2        </td><td>1        </td><td>59.5     </td><td>162.0    </td><td>3        </td><td>3        </td><td>3        </td><td>0        </td><td>0        </td><td>...      </td><td>5        </td><td>2        </td><td>2        </td><td>2        </td><td>0        </td><td>32       </td><td>35       </td><td>22.67185 </td><td>3        </td><td>0        </td></tr>\n",
       "\t<tr><td>masculino</td><td>4        </td><td>1        </td><td>81.2     </td><td>169.0    </td><td>2        </td><td>2        </td><td>4        </td><td>0        </td><td>0        </td><td>...      </td><td>6        </td><td>0        </td><td>2        </td><td>2        </td><td>3        </td><td>50       </td><td>42       </td><td>28.43038 </td><td>4        </td><td>0        </td></tr>\n",
       "\t<tr><td>feminino </td><td>2        </td><td>2        </td><td>55.0     </td><td>170.0    </td><td>3        </td><td>4        </td><td>4        </td><td>0        </td><td>0        </td><td>...      </td><td>3        </td><td>2        </td><td>2        </td><td>2        </td><td>0        </td><td>32       </td><td>32       </td><td>19.03114 </td><td>3        </td><td>0        </td></tr>\n",
       "\t<tr><td>feminino </td><td>1        </td><td>1        </td><td>68.3     </td><td>160.2    </td><td>2        </td><td>3        </td><td>2        </td><td>0        </td><td>0        </td><td>...      </td><td>1        </td><td>2        </td><td>2        </td><td>2        </td><td>0        </td><td>32       </td><td>27       </td><td>26.61311 </td><td>4        </td><td>0        </td></tr>\n",
       "\t<tr><td>masculino</td><td>2        </td><td>1        </td><td>78.0     </td><td>169.4    </td><td>3        </td><td>3        </td><td>3        </td><td>2        </td><td>0        </td><td>...      </td><td>5        </td><td>2        </td><td>2        </td><td>2        </td><td>0        </td><td>50       </td><td>53       </td><td>27.18115 </td><td>4        </td><td>0        </td></tr>\n",
       "\t<tr><td>feminino </td><td>4        </td><td>0        </td><td>66.8     </td><td>161.5    </td><td>3        </td><td>4        </td><td>3        </td><td>1        </td><td>3        </td><td>...      </td><td>3        </td><td>2        </td><td>2        </td><td>2        </td><td>0        </td><td>32       </td><td>28       </td><td>25.61129 </td><td>4        </td><td>0        </td></tr>\n",
       "</tbody>\n",
       "</table>\n"
      ],
      "text/latex": [
       "\\begin{tabular}{r|llllllllllllllllllllllll}\n",
       " sexo\\_c006 & cor\\_raca\\_c009 & faixa\\_escolaridade & peso\\_w00103 & altura\\_w00203 & come\\_verduras\\_p009 & come\\_frutas\\_p018 & refrigerante\\_suco\\_p020 & alimentos\\_doces\\_p025 & substitui\\_refeicoes\\_p026 & ... & exames\\_glicemia\\_q029 & colesterol\\_alto\\_q060 & avc\\_q068 & insuficiencia\\_renal\\_q124 & freqativ & fxetaria & idade & imc & imcclass & diagnostico\\_diabetes\\_q030\\\\\n",
       "\\hline\n",
       "\t masculino & 2         & 1         & 59.5      & 162.0     & 3         & 3         & 3         & 0         & 0         & ...       & 5         & 2         & 2         & 2         & 0         & 32        & 35        & 22.67185  & 3         & 0        \\\\\n",
       "\t masculino & 4         & 1         & 81.2      & 169.0     & 2         & 2         & 4         & 0         & 0         & ...       & 6         & 0         & 2         & 2         & 3         & 50        & 42        & 28.43038  & 4         & 0        \\\\\n",
       "\t feminino  & 2         & 2         & 55.0      & 170.0     & 3         & 4         & 4         & 0         & 0         & ...       & 3         & 2         & 2         & 2         & 0         & 32        & 32        & 19.03114  & 3         & 0        \\\\\n",
       "\t feminino  & 1         & 1         & 68.3      & 160.2     & 2         & 3         & 2         & 0         & 0         & ...       & 1         & 2         & 2         & 2         & 0         & 32        & 27        & 26.61311  & 4         & 0        \\\\\n",
       "\t masculino & 2         & 1         & 78.0      & 169.4     & 3         & 3         & 3         & 2         & 0         & ...       & 5         & 2         & 2         & 2         & 0         & 50        & 53        & 27.18115  & 4         & 0        \\\\\n",
       "\t feminino  & 4         & 0         & 66.8      & 161.5     & 3         & 4         & 3         & 1         & 3         & ...       & 3         & 2         & 2         & 2         & 0         & 32        & 28        & 25.61129  & 4         & 0        \\\\\n",
       "\\end{tabular}\n"
      ],
      "text/markdown": [
       "\n",
       "| sexo_c006 | cor_raca_c009 | faixa_escolaridade | peso_w00103 | altura_w00203 | come_verduras_p009 | come_frutas_p018 | refrigerante_suco_p020 | alimentos_doces_p025 | substitui_refeicoes_p026 | ... | exames_glicemia_q029 | colesterol_alto_q060 | avc_q068 | insuficiencia_renal_q124 | freqativ | fxetaria | idade | imc | imcclass | diagnostico_diabetes_q030 |\n",
       "|---|---|---|---|---|---|---|---|---|---|---|---|---|---|---|---|---|---|---|---|---|\n",
       "| masculino | 2         | 1         | 59.5      | 162.0     | 3         | 3         | 3         | 0         | 0         | ...       | 5         | 2         | 2         | 2         | 0         | 32        | 35        | 22.67185  | 3         | 0         |\n",
       "| masculino | 4         | 1         | 81.2      | 169.0     | 2         | 2         | 4         | 0         | 0         | ...       | 6         | 0         | 2         | 2         | 3         | 50        | 42        | 28.43038  | 4         | 0         |\n",
       "| feminino  | 2         | 2         | 55.0      | 170.0     | 3         | 4         | 4         | 0         | 0         | ...       | 3         | 2         | 2         | 2         | 0         | 32        | 32        | 19.03114  | 3         | 0         |\n",
       "| feminino  | 1         | 1         | 68.3      | 160.2     | 2         | 3         | 2         | 0         | 0         | ...       | 1         | 2         | 2         | 2         | 0         | 32        | 27        | 26.61311  | 4         | 0         |\n",
       "| masculino | 2         | 1         | 78.0      | 169.4     | 3         | 3         | 3         | 2         | 0         | ...       | 5         | 2         | 2         | 2         | 0         | 50        | 53        | 27.18115  | 4         | 0         |\n",
       "| feminino  | 4         | 0         | 66.8      | 161.5     | 3         | 4         | 3         | 1         | 3         | ...       | 3         | 2         | 2         | 2         | 0         | 32        | 28        | 25.61129  | 4         | 0         |\n",
       "\n"
      ],
      "text/plain": [
       "  sexo_c006 cor_raca_c009 faixa_escolaridade peso_w00103 altura_w00203\n",
       "1 masculino 2             1                  59.5        162.0        \n",
       "2 masculino 4             1                  81.2        169.0        \n",
       "3 feminino  2             2                  55.0        170.0        \n",
       "4 feminino  1             1                  68.3        160.2        \n",
       "5 masculino 2             1                  78.0        169.4        \n",
       "6 feminino  4             0                  66.8        161.5        \n",
       "  come_verduras_p009 come_frutas_p018 refrigerante_suco_p020\n",
       "1 3                  3                3                     \n",
       "2 2                  2                4                     \n",
       "3 3                  4                4                     \n",
       "4 2                  3                2                     \n",
       "5 3                  3                3                     \n",
       "6 3                  4                3                     \n",
       "  alimentos_doces_p025 substitui_refeicoes_p026 ... exames_glicemia_q029\n",
       "1 0                    0                        ... 5                   \n",
       "2 0                    0                        ... 6                   \n",
       "3 0                    0                        ... 3                   \n",
       "4 0                    0                        ... 1                   \n",
       "5 2                    0                        ... 5                   \n",
       "6 1                    3                        ... 3                   \n",
       "  colesterol_alto_q060 avc_q068 insuficiencia_renal_q124 freqativ fxetaria\n",
       "1 2                    2        2                        0        32      \n",
       "2 0                    2        2                        3        50      \n",
       "3 2                    2        2                        0        32      \n",
       "4 2                    2        2                        0        32      \n",
       "5 2                    2        2                        0        50      \n",
       "6 2                    2        2                        0        32      \n",
       "  idade imc      imcclass diagnostico_diabetes_q030\n",
       "1 35    22.67185 3        0                        \n",
       "2 42    28.43038 4        0                        \n",
       "3 32    19.03114 3        0                        \n",
       "4 27    26.61311 4        0                        \n",
       "5 53    27.18115 4        0                        \n",
       "6 28    25.61129 4        0                        "
      ]
     },
     "metadata": {},
     "output_type": "display_data"
    }
   ],
   "source": [
    "head(df$variables)"
   ]
  },
  {
   "cell_type": "markdown",
   "metadata": {},
   "source": [
    "### Inversão de valores de variáveis\n",
    "\n",
    "Para permitir e simplificar a análise a partir de um modelo alteraremos os valor de variáveis.\n",
    "\n",
    "`c006`, sexo:"
   ]
  },
  {
   "cell_type": "markdown",
   "metadata": {},
   "source": [
    "Valor Original    |      Codificação Original         | Novo Valor    | Codificação Variável `sexo_c006`\n",
    "------------------|-----------------------------------|---------------|----------------------------------------\n",
    " masculino        |  1                                |     0         |  masculino\n",
    " femnino          |  2                                |     1         |  feminino\n",
    " "
   ]
  },
  {
   "cell_type": "code",
   "execution_count": 58,
   "metadata": {
    "tags": [
     "remove_input"
    ]
   },
   "outputs": [],
   "source": [
    "\n",
    "df$variables[df$variables$sexo_c006 == \"masculino\", c(\"sexo_c006\")] = 0\n",
    "df$variables[df$variables$sexo_c006 == \"feminino\", c(\"sexo_c006\")] = 1\n"
   ]
  },
  {
   "cell_type": "markdown",
   "metadata": {},
   "source": [
    "`q002`, pressão alta:"
   ]
  },
  {
   "cell_type": "markdown",
   "metadata": {},
   "source": [
    "Valor Original    |      Codificação Original         | Novo Valor    | Codificação Variável `pressao_alta_q002`\n",
    "------------------|-----------------------------------|---------------|----------------------------------------\n",
    " 1                |  sim                              |     1         |  sim\n",
    " 2                |  apenas na gravidez               |     1         |  sim\n",
    " 3                |  não                              |     0         |  não\n",
    " "
   ]
  },
  {
   "cell_type": "code",
   "execution_count": 59,
   "metadata": {
    "tags": [
     "remove_input"
    ]
   },
   "outputs": [],
   "source": [
    "\n",
    "df$variables[df$variables$pressao_alta_q002 == 2, c(\"pressao_alta_q002\")] = 1\n",
    "df$variables[df$variables$pressao_alta_q002 == 3, c(\"pressao_alta_q002\")] = 0\n"
   ]
  },
  {
   "cell_type": "markdown",
   "metadata": {},
   "source": [
    "`q060`, colesterol alto:"
   ]
  },
  {
   "cell_type": "markdown",
   "metadata": {},
   "source": [
    "Valor Original    |      Codificação Original         | Novo Valor    | Codificação Variável `colesterol_alto_q060`\n",
    "------------------|-----------------------------------|---------------|----------------------------------------\n",
    " 1                |  sim                              |     1         |  sim\n",
    " 2                |  não                              |     0         |  não\n",
    " "
   ]
  },
  {
   "cell_type": "code",
   "execution_count": 60,
   "metadata": {
    "lines_to_next_cell": 2,
    "tags": [
     "remove_input"
    ]
   },
   "outputs": [],
   "source": [
    "\n",
    "df$variables[df$variables$colesterol_alto_q060 == 2, c(\"colesterol_alto_q060\")] = 0\n"
   ]
  },
  {
   "cell_type": "markdown",
   "metadata": {},
   "source": [
    "`q124`, insuficiencia renal:"
   ]
  },
  {
   "cell_type": "markdown",
   "metadata": {},
   "source": [
    "Valor Original    |      Codificação Original    | Novo Valor    | Codificação Variável `insuficiencia_renal_q124`\n",
    "------------------|-----------------------------------|---------------|----------------------------------------\n",
    " 1                |  sim                              |     1         |  sim\n",
    " 2                |  não                              |     0         |  não\n",
    " "
   ]
  },
  {
   "cell_type": "code",
   "execution_count": 61,
   "metadata": {
    "tags": [
     "remove_input"
    ]
   },
   "outputs": [],
   "source": [
    "\n",
    "df$variables[df$variables$insuficiencia_renal_q124 == 2, c(\"insuficiencia_renal_q124\")] = 0\n"
   ]
  },
  {
   "cell_type": "markdown",
   "metadata": {},
   "source": [
    "`p050`, fumante:\n",
    "definição de fumante: http://pepsic.bvsalud.org/scielo.php?script=sci_arttext&pid=S1413-03942014000200015\n",
    "\n",
    "Valor Original    |      Codificação Original    | Novo Valor    | Codificação Variável `fumante_p050`\n",
    "------------------|-----------------------------------|---------------|----------------------------------------\n",
    " 1                |  sim, diariamente                  |     1         |  sim\n",
    " 2                |  sim, menos que diariamente        |     0         |  não\n",
    " 3                |  não fumo atualmente               |     0         |  não"
   ]
  },
  {
   "cell_type": "code",
   "execution_count": 62,
   "metadata": {
    "lines_to_next_cell": 0,
    "tags": [
     "remove_input"
    ]
   },
   "outputs": [],
   "source": [
    "\n",
    "df$variables[df$variables$fumante_p050 == 2 | df$variables$fumante_p050 == 3, c(\"fumante_p050\")] = 0\n"
   ]
  },
  {
   "cell_type": "markdown",
   "metadata": {},
   "source": [
    "`q068`, avc:\n",
    "\n",
    "Valor Original    |      Codificação Original    | Novo Valor    | Codificação Variável `avc_q068`\n",
    "------------------|------------------------------|---------------|----------------------------------------\n",
    " 1                |  sim                         |     1         |  sim\n",
    " 2                |  não                         |     0         |  não"
   ]
  },
  {
   "cell_type": "code",
   "execution_count": 63,
   "metadata": {
    "tags": [
     "remove_input"
    ]
   },
   "outputs": [],
   "source": [
    "\n",
    "df$variables[df$variables$avc_q068 == 2, c(\"avc_q068\")] = 0\n"
   ]
  },
  {
   "cell_type": "markdown",
   "metadata": {},
   "source": [
    "# Decisão\n",
    "\n",
    "Definir remover os registros que tem como NA diagnóstico de colesterol alto q060, pressão alta q002 e diabetes q030."
   ]
  },
  {
   "cell_type": "code",
   "execution_count": 64,
   "metadata": {
    "lines_to_next_cell": 0,
    "tags": [
     "remove_input"
    ]
   },
   "outputs": [
    {
     "name": "stdout",
     "output_type": "stream",
     "text": [
      "[1] \"quantidade total de diabéticos: 8944235.6255329\"\n",
      "[1] \"perda de diabéticos: 0\"\n",
      "[1] \"porcentagem de perda de diabeticos: 0\"\n",
      "[1] \"\"\n",
      "[1] \"quantidade total : 121609040.326191\"\n",
      "[1] \"perda total: 0\"\n",
      "[1] \"porcentagem de perda total: 0\"\n"
     ]
    }
   ],
   "source": [
    "\n",
    "perda_t <- as.data.frame(survey::svytable(~pressao_alta_q002 + colesterol_alto_q060 + diagnostico_diabetes_q030 , df))\n",
    "\n",
    "print(paste0(\"quantidade total de diabéticos: \", sum(perda_t[perda_t$diagnostico_diabetes_q030 == 1, c(\"Freq\")])) )\n",
    "print(paste0(\"perda de diabéticos: \", sum(perda_t[perda_t$diagnostico_diabetes_q030 == 1 & (perda_t$pressao_alta_q002 == \" \" | perda_t$colesterol_alto_q060 == \" \"), c(\"Freq\")])) )\n",
    "print(paste0(\"porcentagem de perda de diabeticos: \", sum(perda_t[perda_t$diagnostico_diabetes_q030 == 1 & (perda_t$pressao_alta_q002 == \" \" | perda_t$colesterol_alto_q060 == \" \"), c(\"Freq\")]) / sum(perda_t[perda_t$diagnostico_diabetes_q030 == 1, c(\"Freq\")])  ))\n",
    "\n",
    "print(\"\")\n",
    "\n",
    "print(paste0(\"quantidade total : \", sum(perda_t$Freq)))\n",
    "print(paste0(\"perda total: \", sum(perda_t[ (perda_t$pressao_alta_q002 == \" \" | perda_t$colesterol_alto_q060 == \" \" | perda_t$diagnostico_diabetes_q030 == \" \"), c(\"Freq\")])) )\n",
    "print(paste0(\"porcentagem de perda total: \", sum(perda_t[(perda_t$pressao_alta_q002 == \" \" | perda_t$colesterol_alto_q060 == \" \" | perda_t$diagnostico_diabetes_q030 == \" \"), c(\"Freq\")]) / sum(perda_t$Freq)))\n"
   ]
  },
  {
   "cell_type": "markdown",
   "metadata": {},
   "source": [
    "\n"
   ]
  },
  {
   "cell_type": "markdown",
   "metadata": {},
   "source": [
    "# Criando as variáveis dummies\n",
    "\n",
    "Como todos as features utilizadas são categóricas precisamos transformá-las em dummies para utilização de um modelo de Regressão Logística. utilizaremos a biblioteca `dummies` para essa transormação."
   ]
  },
  {
   "cell_type": "code",
   "execution_count": 65,
   "metadata": {
    "tags": [
     "remove_input"
    ]
   },
   "outputs": [],
   "source": [
    "df$variables$exames_glicemia_q029 = NULL\n",
    "\n",
    "df_dummies = df[ ,c(\"faixa_escolaridade\")]\n",
    "\n",
    "# esc_dummies <- dummies::dummy(df$variables$escolaridade_d009, sep = \"_\",)\n",
    "# df_dummies$variables <- cbind(df_dummies$variables, esc_dummies)\n",
    "# df_dummies$variables <- df_dummies$variables[, -1]\n",
    "\n",
    "df_factor = df$variables %>% mutate_if(is.numeric, as.character)\n",
    "\n",
    "df_factor$sexo_c006 = as.numeric(df_factor$sexo_c006)\n",
    "df_factor$fumante_p050 = as.numeric(df_factor$fumante_p050)\n",
    "df_factor$pressao_alta_q002 = as.numeric(df_factor$pressao_alta_q002)\n",
    "df_factor$colesterol_alto_q060 = as.numeric(df_factor$colesterol_alto_q060)\n",
    "df_factor$avc_q068 = as.numeric(df_factor$avc_q068)\n",
    "df_factor$insuficiencia_renal_q124 = as.numeric(df_factor$insuficiencia_renal_q124)\n",
    "\n",
    "\n",
    "\n",
    "df_factor$peso_w00103 <- as.numeric(df_factor$peso_w00103)\n",
    "df_factor$altura_w00203 <- NULL\n",
    "df_factor$idade <- NULL\n",
    "df_factor$imc <- NULL\n",
    "df_factor$peso_w00103 <- NULL\n",
    "\n",
    "df_factor = df_factor %>% mutate_if(is.character, as.factor)\n",
    "\n",
    "dummies_df <- mlr::createDummyFeatures(df_factor)\n",
    "\n",
    "df$variables = dummies_df"
   ]
  },
  {
   "cell_type": "markdown",
   "metadata": {},
   "source": [
    "# Removendo dummies desnecessários\n",
    "\n",
    "Para a criação de variáveis dummy, todos os fatores de cada variável foi tranformado em uma variável, assim o último fator criado de cada variável terá uma correlação perfeita com as demais variáveis, tendo um coeficiente indefinido."
   ]
  },
  {
   "cell_type": "code",
   "execution_count": 66,
   "metadata": {
    "tags": [
     "remove_input"
    ]
   },
   "outputs": [],
   "source": [
    "df$variables$diagnostico_diabetes_q030.0 = NULL\n",
    "df$variables$cor_raca_c009.9 = NULL\n",
    "df$variables$faixa_escolaridade.5 = NULL\n",
    "df$variables$come_verduras_p009.7 = NULL\n",
    "df$variables$come_frutas_p018.7 = NULL\n",
    "df$variables$refrigerante_suco_p020.7 = NULL\n",
    "df$variables$alimentos_doces_p025.7 = NULL\n",
    "df$variables$substitui_refeicoes_p026.7 = NULL\n",
    "df$variables$bebida_alcoolica_p028.7 = NULL\n",
    "df$variables$dias_semana_ativ_fisica_p035.7 = NULL\n",
    "df$variables$freqativ.5 = NULL\n",
    "df$variables$fxetaria.60 = NULL\n",
    "df$variables$imcclass.7 = NULL"
   ]
  },
  {
   "cell_type": "markdown",
   "metadata": {},
   "source": [
    "# Modelagem\n",
    "\n",
    "Como modelo utilizaremos a Regressão Logística para fazer uma análise descritiva do comportamento das variáveis em relação aos diabéticos. O modelo utilizado encontra-se no pacote `survey` com a função `svyglm`, usado para a criação de modelos lineares para dados estratificados.\n",
    "\n",
    "A família do modelo é a binomial(logit) onde teremos uma saída como uma porcentagem da pessoa pertencerem a classe de Diabéticos.\n",
    "\n",
    "### Metodologia:\n",
    "\n",
    "Todas as variáveis dummies serão adicionadas para a criação do modelo e em seguida será feito suas análises. Na análise determinaremos quais variáveis tem relevância estatística para o modelo.\n",
    "\n",
    "#### Critérios de remoção:\n",
    "\n",
    "Variáveis com p_value maior que 0.05.\n",
    "\n",
    "#### Critérios de reagrupamento:\n",
    "\n",
    "Muitas variáveis dummy representam uma frequência baseada em dias na semana, então Consumo de alimentos doces representam 0, 1, 2, 3 ... dias na semana. Após a remoção veremos quais dessas classes permaneceram no modelo, e caso tenha uma sequência tenha permanecido trataremos da seguinte forma:\n",
    "\n",
    "* <b>1)</b> Se as classes que ficaram no modelo tenham coeficientes que indicam um aumento probabilistico, elas serão definidas como valor 1, e as que estão fora do modelo terão valor 0.\n",
    "* <b>2)</b> Se as classes que ficaram no modelo tenham coeficientes que indicam uma diminuição probabilística, elas serão definidas como valor 0, e as demais e as que estão fora do modelo terão valor 1.\n",
    "* <b>3)</b> Se somente uma classe ficou no modelo: \n",
    "    * se suas classes pares foram removidas no mesmo modelo: não será reorganizada.\n",
    "    * se suas classes pares foram removidas no modelo anterior: ela será utilizada como um threshold, e a nova classificação seguirá as regras 1 e 2.\n",
    "* <b>4)</b> Se as classes que ficaram no modelo forem intermediárias(ex.: 4 e 5), ou todas as classes permaneceram, a partir das tabulações e estudos anteriores, determinaremos qual será o threshold e aplicaremos as regras 1 e 2.\n",
    "\n",
    "** Obs: mesmo que os coeficientes das classes que ficaram no modelo sejam negativos, o impacto probabilistico será definido pela diminuição (chegando mais perto de 0) ou aumento (se afastando de 0) do valor de seus coeficientes. \n",
    "\n",
    "    "
   ]
  },
  {
   "cell_type": "code",
   "execution_count": 67,
   "metadata": {
    "lines_to_next_cell": 2,
    "tags": [
     "remove_input"
    ]
   },
   "outputs": [],
   "source": [
    "construir_modelo <- function(df){\n",
    "\n",
    "   nomes = names(df$variables[1:(length(df$variables) - 1)])\n",
    "   #fla <- paste(\"diagnostico_diabetes_q030.1 ~\", paste(nomes, collapse=\"+\"), \" -1\")\n",
    "   fla <- paste(\"diagnostico_diabetes_q030.1 ~\", paste(nomes, collapse=\"+\"))\n",
    "   \n",
    "   #gl <- survey::svyglm(as.formula(fla) , family = \"quasibinomial\", design=df)\n",
    "   gl <- survey::svyglm(as.formula(fla) , family = \"binomial\", design=df)\n",
    "   \n",
    "   return(gl)\n",
    "}\n",
    "   \n",
    "ordenar_pvalue <- function(model){\n",
    "   \n",
    "   df_model = data.frame(keyName=names(model$coefficients), value=model$coefficients, row.names=NULL)\n",
    "   df_model$COEFF_ABS = abs(df_model$value)\n",
    "   \n",
    "   p <- coef(summary(model))[,4]\n",
    "   df_p = data.frame(keyName=names(p), value=p, row.names=NULL)\n",
    "   \n",
    "   df_model$p_value <- p\n",
    "   \n",
    "   df_model <- df_model[order(df_model$COEFF_ABS),]\n",
    "   \n",
    "   return(df_model)\n",
    "   \n",
    "}\n"
   ]
  },
  {
   "cell_type": "markdown",
   "metadata": {},
   "source": [
    "### Primeiro modelo:"
   ]
  },
  {
   "cell_type": "code",
   "execution_count": 68,
   "metadata": {},
   "outputs": [
    {
     "name": "stderr",
     "output_type": "stream",
     "text": [
      "Warning message in eval(family$initialize):\n",
      "\"non-integer #successes in a binomial glm!\""
     ]
    },
    {
     "name": "stdout",
     "output_type": "stream",
     "text": [
      "\n",
      "Call:\n",
      "svyglm(formula = as.formula(fla), design = df, family = \"binomial\")\n",
      "\n",
      "Survey design:\n",
      "subset(df, diagnostico_diabetes_q030 != \" \" & diagnostico_diabetes_q030 != \n",
      "    2 & pressao_alta_q002 != \" \" & colesterol_alto_q060 != \" \")\n",
      "\n",
      "Coefficients:\n",
      "                               Estimate Std. Error t value Pr(>|t|)    \n",
      "(Intercept)                    -0.61737    1.16858  -0.528 0.597311    \n",
      "sexo_c006                      -0.22870    0.07780  -2.940 0.003299 ** \n",
      "fumante_p050                   -0.19593    0.11717  -1.672 0.094544 .  \n",
      "pressao_alta_q002               0.93097    0.07453  12.492  < 2e-16 ***\n",
      "colesterol_alto_q060            0.74780    0.07385  10.127  < 2e-16 ***\n",
      "avc_q068                        0.37018    0.14493   2.554 0.010670 *  \n",
      "insuficiencia_renal_q124        0.24760    0.17704   1.399 0.162013    \n",
      "cor_raca_c009.1                -2.44327    1.01458  -2.408 0.016066 *  \n",
      "cor_raca_c009.2                -2.32507    1.02031  -2.279 0.022718 *  \n",
      "cor_raca_c009.3                -2.39517    1.06683  -2.245 0.024800 *  \n",
      "cor_raca_c009.4                -2.54168    1.01468  -2.505 0.012278 *  \n",
      "cor_raca_c009.5                -2.19166    1.07390  -2.041 0.041315 *  \n",
      "faixa_escolaridade.0            0.73544    0.43195   1.703 0.088698 .  \n",
      "faixa_escolaridade.1            0.68760    0.42836   1.605 0.108508    \n",
      "faixa_escolaridade.2            0.70112    0.42941   1.633 0.102582    \n",
      "faixa_escolaridade.3            0.45798    0.43414   1.055 0.291512    \n",
      "faixa_escolaridade.4            0.64144    0.64750   0.991 0.321900    \n",
      "come_verduras_p009.0           -0.03491    0.11798  -0.296 0.767295    \n",
      "come_verduras_p009.1            0.01823    0.11995   0.152 0.879208    \n",
      "come_verduras_p009.2            0.03630    0.10368   0.350 0.726280    \n",
      "come_verduras_p009.3            0.14995    0.10743   1.396 0.162814    \n",
      "come_verduras_p009.4           -0.13246    0.13416  -0.987 0.323543    \n",
      "come_verduras_p009.5            0.08531    0.14885   0.573 0.566595    \n",
      "come_verduras_p009.6           -0.12137    0.15913  -0.763 0.445665    \n",
      "come_frutas_p018.0             -0.48265    0.13436  -3.592 0.000331 ***\n",
      "come_frutas_p018.1             -0.37843    0.13971  -2.709 0.006775 ** \n",
      "come_frutas_p018.2             -0.34095    0.11557  -2.950 0.003189 ** \n",
      "come_frutas_p018.3             -0.26699    0.12272  -2.176 0.029632 *  \n",
      "come_frutas_p018.4             -0.17505    0.13969  -1.253 0.210214    \n",
      "come_frutas_p018.5             -0.16416    0.13694  -1.199 0.230679    \n",
      "come_frutas_p018.6             -0.23983    0.13561  -1.769 0.077027 .  \n",
      "refrigerante_suco_p020.0        0.12722    0.11687   1.089 0.276420    \n",
      "refrigerante_suco_p020.1        0.12428    0.12881   0.965 0.334678    \n",
      "refrigerante_suco_p020.2        0.03537    0.13804   0.256 0.797752    \n",
      "refrigerante_suco_p020.3        0.36734    0.17992   2.042 0.041232 *  \n",
      "refrigerante_suco_p020.4        0.14498    0.21106   0.687 0.492180    \n",
      "refrigerante_suco_p020.5        0.34878    0.26523   1.315 0.188569    \n",
      "refrigerante_suco_p020.6       -0.07049    0.21542  -0.327 0.743497    \n",
      "alimentos_doces_p025.0          1.41903    0.13639  10.404  < 2e-16 ***\n",
      "alimentos_doces_p025.1          0.57405    0.14806   3.877 0.000107 ***\n",
      "alimentos_doces_p025.2          0.37584    0.16173   2.324 0.020173 *  \n",
      "alimentos_doces_p025.3          0.01544    0.19249   0.080 0.936059    \n",
      "alimentos_doces_p025.4          0.32028    0.22334   1.434 0.151613    \n",
      "alimentos_doces_p025.5         -0.11393    0.22709  -0.502 0.615912    \n",
      "alimentos_doces_p025.6         -0.02224    0.27429  -0.081 0.935381    \n",
      "substitui_refeicoes_p026.0     -0.31939    0.16836  -1.897 0.057878 .  \n",
      "substitui_refeicoes_p026.1     -0.13897    0.18567  -0.748 0.454219    \n",
      "substitui_refeicoes_p026.2     -0.20629    0.21051  -0.980 0.327135    \n",
      "substitui_refeicoes_p026.3     -0.41025    0.24629  -1.666 0.095819 .  \n",
      "substitui_refeicoes_p026.4     -0.62013    0.33959  -1.826 0.067886 .  \n",
      "substitui_refeicoes_p026.5     -0.27511    0.40458  -0.680 0.496540    \n",
      "substitui_refeicoes_p026.6     -1.21669    0.42276  -2.878 0.004019 ** \n",
      "bebida_alcoolica_p028.0         0.34611    0.26247   1.319 0.187339    \n",
      "bebida_alcoolica_p028.1         0.03948    0.28943   0.136 0.891517    \n",
      "bebida_alcoolica_p028.2        -0.16649    0.29385  -0.567 0.571021    \n",
      "bebida_alcoolica_p028.3        -0.72209    0.37112  -1.946 0.051743 .  \n",
      "bebida_alcoolica_p028.4        -0.38007    0.51717  -0.735 0.462428    \n",
      "bebida_alcoolica_p028.5        -0.02989    0.49117  -0.061 0.951481    \n",
      "bebida_alcoolica_p028.6        -0.01205    0.60126  -0.020 0.984018    \n",
      "dias_semana_ativ_fisica_p035.0  0.06206    0.17321   0.358 0.720140    \n",
      "dias_semana_ativ_fisica_p035.1 -0.22707    0.25767  -0.881 0.378231    \n",
      "dias_semana_ativ_fisica_p035.2 -0.09644    0.24221  -0.398 0.690519    \n",
      "dias_semana_ativ_fisica_p035.3  0.08681    0.21679   0.400 0.688862    \n",
      "dias_semana_ativ_fisica_p035.4  0.02441    0.28789   0.085 0.932424    \n",
      "dias_semana_ativ_fisica_p035.5  0.02007    0.24672   0.081 0.935166    \n",
      "dias_semana_ativ_fisica_p035.6 -0.22067    0.40565  -0.544 0.586473    \n",
      "freqativ.0                      0.07836    0.15036   0.521 0.602292    \n",
      "freqativ.1                      0.36526    0.34739   1.051 0.293107    \n",
      "freqativ.2                     -0.07026    0.22324  -0.315 0.752961    \n",
      "freqativ.3                     -0.46122    0.31864  -1.447 0.147828    \n",
      "freqativ.4                      0.02387    0.29252   0.082 0.934962    \n",
      "fxetaria.18                    -2.86264    0.70556  -4.057 5.04e-05 ***\n",
      "fxetaria.22                    -2.09090    0.28720  -7.280 3.81e-13 ***\n",
      "fxetaria.32                    -1.85459    0.13539 -13.699  < 2e-16 ***\n",
      "fxetaria.50                    -0.64975    0.07586  -8.565  < 2e-16 ***\n",
      "imcclass.1                     -1.05395    0.52414  -2.011 0.044394 *  \n",
      "imcclass.2                     -0.60408    0.40256  -1.501 0.133516    \n",
      "imcclass.3                     -0.89845    0.19103  -4.703 2.62e-06 ***\n",
      "imcclass.4                     -0.65686    0.18983  -3.460 0.000544 ***\n",
      "imcclass.5                     -0.36545    0.19386  -1.885 0.059469 .  \n",
      "imcclass.6                     -0.20613    0.22175  -0.930 0.352648    \n",
      "---\n",
      "Signif. codes:  0 '***' 0.001 '**' 0.01 '*' 0.05 '.' 0.1 ' ' 1\n",
      "\n",
      "(Dispersion parameter for binomial family taken to be 0.9823528)\n",
      "\n",
      "Number of Fisher Scoring iterations: 7\n",
      "\n"
     ]
    }
   ],
   "source": [
    "modelb <- construir_modelo(df)\n",
    "\n",
    "print(summary(modelb))\n",
    "\n",
    "df_modelb = ordenar_pvalue(modelb)"
   ]
  },
  {
   "cell_type": "code",
   "execution_count": 67,
   "metadata": {},
   "outputs": [
    {
     "data": {
      "text/html": [
       "<ol class=list-inline>\n",
       "\t<li>bebida_alcoolica_p028.6</li>\n",
       "\t<li>alimentos_doces_p025.3</li>\n",
       "\t<li>come_verduras_p009.1</li>\n",
       "\t<li>dias_semana_ativ_fisica_p035.5</li>\n",
       "\t<li>alimentos_doces_p025.6</li>\n",
       "\t<li>freqativ.4</li>\n",
       "\t<li>dias_semana_ativ_fisica_p035.4</li>\n",
       "\t<li>bebida_alcoolica_p028.5</li>\n",
       "\t<li>come_verduras_p009.0</li>\n",
       "\t<li>refrigerante_suco_p020.2</li>\n",
       "\t<li>come_verduras_p009.2</li>\n",
       "\t<li>bebida_alcoolica_p028.1</li>\n",
       "\t<li>dias_semana_ativ_fisica_p035.0</li>\n",
       "\t<li>freqativ.2</li>\n",
       "\t<li>refrigerante_suco_p020.6</li>\n",
       "\t<li>freqativ.0</li>\n",
       "\t<li>come_verduras_p009.5</li>\n",
       "\t<li>dias_semana_ativ_fisica_p035.3</li>\n",
       "\t<li>dias_semana_ativ_fisica_p035.2</li>\n",
       "\t<li>alimentos_doces_p025.5</li>\n",
       "\t<li>come_verduras_p009.6</li>\n",
       "\t<li>refrigerante_suco_p020.1</li>\n",
       "\t<li>refrigerante_suco_p020.0</li>\n",
       "\t<li>come_verduras_p009.4</li>\n",
       "\t<li>substitui_refeicoes_p026.1</li>\n",
       "\t<li>refrigerante_suco_p020.4</li>\n",
       "\t<li>come_verduras_p009.3</li>\n",
       "\t<li>come_frutas_p018.5</li>\n",
       "\t<li>bebida_alcoolica_p028.2</li>\n",
       "\t<li>come_frutas_p018.4</li>\n",
       "\t<li>fumante_p050</li>\n",
       "\t<li>imcclass.6</li>\n",
       "\t<li>substitui_refeicoes_p026.2</li>\n",
       "\t<li>dias_semana_ativ_fisica_p035.6</li>\n",
       "\t<li>dias_semana_ativ_fisica_p035.1</li>\n",
       "\t<li>sexo_c006</li>\n",
       "\t<li>come_frutas_p018.6</li>\n",
       "\t<li>insuficiencia_renal_q124</li>\n",
       "\t<li>come_frutas_p018.3</li>\n",
       "\t<li>substitui_refeicoes_p026.5</li>\n",
       "\t<li>substitui_refeicoes_p026.0</li>\n",
       "\t<li>alimentos_doces_p025.4</li>\n",
       "\t<li>come_frutas_p018.2</li>\n",
       "\t<li>bebida_alcoolica_p028.0</li>\n",
       "\t<li>refrigerante_suco_p020.5</li>\n",
       "\t<li>freqativ.1</li>\n",
       "\t<li>imcclass.5</li>\n",
       "\t<li>refrigerante_suco_p020.3</li>\n",
       "\t<li>avc_q068</li>\n",
       "\t<li>alimentos_doces_p025.2</li>\n",
       "\t<li>come_frutas_p018.1</li>\n",
       "\t<li>bebida_alcoolica_p028.4</li>\n",
       "\t<li>substitui_refeicoes_p026.3</li>\n",
       "\t<li>faixa_escolaridade.3</li>\n",
       "\t<li>freqativ.3</li>\n",
       "\t<li>come_frutas_p018.0</li>\n",
       "\t<li>alimentos_doces_p025.1</li>\n",
       "\t<li>imcclass.2</li>\n",
       "\t<li>(Intercept)</li>\n",
       "\t<li>substitui_refeicoes_p026.4</li>\n",
       "\t<li>faixa_escolaridade.4</li>\n",
       "\t<li>fxetaria.50</li>\n",
       "\t<li>imcclass.4</li>\n",
       "\t<li>faixa_escolaridade.1</li>\n",
       "\t<li>faixa_escolaridade.2</li>\n",
       "\t<li>bebida_alcoolica_p028.3</li>\n",
       "\t<li>faixa_escolaridade.0</li>\n",
       "\t<li>colesterol_alto_q060</li>\n",
       "\t<li>imcclass.3</li>\n",
       "\t<li>pressao_alta_q002</li>\n",
       "\t<li>imcclass.1</li>\n",
       "\t<li>substitui_refeicoes_p026.6</li>\n",
       "\t<li>alimentos_doces_p025.0</li>\n",
       "\t<li>fxetaria.32</li>\n",
       "\t<li>fxetaria.22</li>\n",
       "\t<li>cor_raca_c009.5</li>\n",
       "\t<li>cor_raca_c009.2</li>\n",
       "\t<li>cor_raca_c009.3</li>\n",
       "\t<li>cor_raca_c009.1</li>\n",
       "\t<li>cor_raca_c009.4</li>\n",
       "\t<li>fxetaria.18</li>\n",
       "</ol>\n",
       "\n",
       "<details>\n",
       "\t<summary style=display:list-item;cursor:pointer>\n",
       "\t\t<strong>Levels</strong>:\n",
       "\t</summary>\n",
       "\t<ol class=list-inline>\n",
       "\t\t<li>'(Intercept)'</li>\n",
       "\t\t<li>'alimentos_doces_p025.0'</li>\n",
       "\t\t<li>'alimentos_doces_p025.1'</li>\n",
       "\t\t<li>'alimentos_doces_p025.2'</li>\n",
       "\t\t<li>'alimentos_doces_p025.3'</li>\n",
       "\t\t<li>'alimentos_doces_p025.4'</li>\n",
       "\t\t<li>'alimentos_doces_p025.5'</li>\n",
       "\t\t<li>'alimentos_doces_p025.6'</li>\n",
       "\t\t<li>'avc_q068'</li>\n",
       "\t\t<li>'bebida_alcoolica_p028.0'</li>\n",
       "\t\t<li>'bebida_alcoolica_p028.1'</li>\n",
       "\t\t<li>'bebida_alcoolica_p028.2'</li>\n",
       "\t\t<li>'bebida_alcoolica_p028.3'</li>\n",
       "\t\t<li>'bebida_alcoolica_p028.4'</li>\n",
       "\t\t<li>'bebida_alcoolica_p028.5'</li>\n",
       "\t\t<li>'bebida_alcoolica_p028.6'</li>\n",
       "\t\t<li>'colesterol_alto_q060'</li>\n",
       "\t\t<li>'come_frutas_p018.0'</li>\n",
       "\t\t<li>'come_frutas_p018.1'</li>\n",
       "\t\t<li>'come_frutas_p018.2'</li>\n",
       "\t\t<li>'come_frutas_p018.3'</li>\n",
       "\t\t<li>'come_frutas_p018.4'</li>\n",
       "\t\t<li>'come_frutas_p018.5'</li>\n",
       "\t\t<li>'come_frutas_p018.6'</li>\n",
       "\t\t<li>'come_verduras_p009.0'</li>\n",
       "\t\t<li>'come_verduras_p009.1'</li>\n",
       "\t\t<li>'come_verduras_p009.2'</li>\n",
       "\t\t<li>'come_verduras_p009.3'</li>\n",
       "\t\t<li>'come_verduras_p009.4'</li>\n",
       "\t\t<li>'come_verduras_p009.5'</li>\n",
       "\t\t<li>'come_verduras_p009.6'</li>\n",
       "\t\t<li>'cor_raca_c009.1'</li>\n",
       "\t\t<li>'cor_raca_c009.2'</li>\n",
       "\t\t<li>'cor_raca_c009.3'</li>\n",
       "\t\t<li>'cor_raca_c009.4'</li>\n",
       "\t\t<li>'cor_raca_c009.5'</li>\n",
       "\t\t<li>'dias_semana_ativ_fisica_p035.0'</li>\n",
       "\t\t<li>'dias_semana_ativ_fisica_p035.1'</li>\n",
       "\t\t<li>'dias_semana_ativ_fisica_p035.2'</li>\n",
       "\t\t<li>'dias_semana_ativ_fisica_p035.3'</li>\n",
       "\t\t<li>'dias_semana_ativ_fisica_p035.4'</li>\n",
       "\t\t<li>'dias_semana_ativ_fisica_p035.5'</li>\n",
       "\t\t<li>'dias_semana_ativ_fisica_p035.6'</li>\n",
       "\t\t<li>'faixa_escolaridade.0'</li>\n",
       "\t\t<li>'faixa_escolaridade.1'</li>\n",
       "\t\t<li>'faixa_escolaridade.2'</li>\n",
       "\t\t<li>'faixa_escolaridade.3'</li>\n",
       "\t\t<li>'faixa_escolaridade.4'</li>\n",
       "\t\t<li>'freqativ.0'</li>\n",
       "\t\t<li>'freqativ.1'</li>\n",
       "\t\t<li>'freqativ.2'</li>\n",
       "\t\t<li>'freqativ.3'</li>\n",
       "\t\t<li>'freqativ.4'</li>\n",
       "\t\t<li>'fumante_p050'</li>\n",
       "\t\t<li>'fxetaria.18'</li>\n",
       "\t\t<li>'fxetaria.22'</li>\n",
       "\t\t<li>'fxetaria.32'</li>\n",
       "\t\t<li>'fxetaria.50'</li>\n",
       "\t\t<li>'imcclass.1'</li>\n",
       "\t\t<li>'imcclass.2'</li>\n",
       "\t\t<li>'imcclass.3'</li>\n",
       "\t\t<li>'imcclass.4'</li>\n",
       "\t\t<li>'imcclass.5'</li>\n",
       "\t\t<li>'imcclass.6'</li>\n",
       "\t\t<li>'insuficiencia_renal_q124'</li>\n",
       "\t\t<li>'pressao_alta_q002'</li>\n",
       "\t\t<li>'refrigerante_suco_p020.0'</li>\n",
       "\t\t<li>'refrigerante_suco_p020.1'</li>\n",
       "\t\t<li>'refrigerante_suco_p020.2'</li>\n",
       "\t\t<li>'refrigerante_suco_p020.3'</li>\n",
       "\t\t<li>'refrigerante_suco_p020.4'</li>\n",
       "\t\t<li>'refrigerante_suco_p020.5'</li>\n",
       "\t\t<li>'refrigerante_suco_p020.6'</li>\n",
       "\t\t<li>'sexo_c006'</li>\n",
       "\t\t<li>'substitui_refeicoes_p026.0'</li>\n",
       "\t\t<li>'substitui_refeicoes_p026.1'</li>\n",
       "\t\t<li>'substitui_refeicoes_p026.2'</li>\n",
       "\t\t<li>'substitui_refeicoes_p026.3'</li>\n",
       "\t\t<li>'substitui_refeicoes_p026.4'</li>\n",
       "\t\t<li>'substitui_refeicoes_p026.5'</li>\n",
       "\t\t<li>'substitui_refeicoes_p026.6'</li>\n",
       "\t</ol>\n",
       "</details>"
      ],
      "text/latex": [
       "\\begin{enumerate*}\n",
       "\\item bebida\\_alcoolica\\_p028.6\n",
       "\\item alimentos\\_doces\\_p025.3\n",
       "\\item come\\_verduras\\_p009.1\n",
       "\\item dias\\_semana\\_ativ\\_fisica\\_p035.5\n",
       "\\item alimentos\\_doces\\_p025.6\n",
       "\\item freqativ.4\n",
       "\\item dias\\_semana\\_ativ\\_fisica\\_p035.4\n",
       "\\item bebida\\_alcoolica\\_p028.5\n",
       "\\item come\\_verduras\\_p009.0\n",
       "\\item refrigerante\\_suco\\_p020.2\n",
       "\\item come\\_verduras\\_p009.2\n",
       "\\item bebida\\_alcoolica\\_p028.1\n",
       "\\item dias\\_semana\\_ativ\\_fisica\\_p035.0\n",
       "\\item freqativ.2\n",
       "\\item refrigerante\\_suco\\_p020.6\n",
       "\\item freqativ.0\n",
       "\\item come\\_verduras\\_p009.5\n",
       "\\item dias\\_semana\\_ativ\\_fisica\\_p035.3\n",
       "\\item dias\\_semana\\_ativ\\_fisica\\_p035.2\n",
       "\\item alimentos\\_doces\\_p025.5\n",
       "\\item come\\_verduras\\_p009.6\n",
       "\\item refrigerante\\_suco\\_p020.1\n",
       "\\item refrigerante\\_suco\\_p020.0\n",
       "\\item come\\_verduras\\_p009.4\n",
       "\\item substitui\\_refeicoes\\_p026.1\n",
       "\\item refrigerante\\_suco\\_p020.4\n",
       "\\item come\\_verduras\\_p009.3\n",
       "\\item come\\_frutas\\_p018.5\n",
       "\\item bebida\\_alcoolica\\_p028.2\n",
       "\\item come\\_frutas\\_p018.4\n",
       "\\item fumante\\_p050\n",
       "\\item imcclass.6\n",
       "\\item substitui\\_refeicoes\\_p026.2\n",
       "\\item dias\\_semana\\_ativ\\_fisica\\_p035.6\n",
       "\\item dias\\_semana\\_ativ\\_fisica\\_p035.1\n",
       "\\item sexo\\_c006\n",
       "\\item come\\_frutas\\_p018.6\n",
       "\\item insuficiencia\\_renal\\_q124\n",
       "\\item come\\_frutas\\_p018.3\n",
       "\\item substitui\\_refeicoes\\_p026.5\n",
       "\\item substitui\\_refeicoes\\_p026.0\n",
       "\\item alimentos\\_doces\\_p025.4\n",
       "\\item come\\_frutas\\_p018.2\n",
       "\\item bebida\\_alcoolica\\_p028.0\n",
       "\\item refrigerante\\_suco\\_p020.5\n",
       "\\item freqativ.1\n",
       "\\item imcclass.5\n",
       "\\item refrigerante\\_suco\\_p020.3\n",
       "\\item avc\\_q068\n",
       "\\item alimentos\\_doces\\_p025.2\n",
       "\\item come\\_frutas\\_p018.1\n",
       "\\item bebida\\_alcoolica\\_p028.4\n",
       "\\item substitui\\_refeicoes\\_p026.3\n",
       "\\item faixa\\_escolaridade.3\n",
       "\\item freqativ.3\n",
       "\\item come\\_frutas\\_p018.0\n",
       "\\item alimentos\\_doces\\_p025.1\n",
       "\\item imcclass.2\n",
       "\\item (Intercept)\n",
       "\\item substitui\\_refeicoes\\_p026.4\n",
       "\\item faixa\\_escolaridade.4\n",
       "\\item fxetaria.50\n",
       "\\item imcclass.4\n",
       "\\item faixa\\_escolaridade.1\n",
       "\\item faixa\\_escolaridade.2\n",
       "\\item bebida\\_alcoolica\\_p028.3\n",
       "\\item faixa\\_escolaridade.0\n",
       "\\item colesterol\\_alto\\_q060\n",
       "\\item imcclass.3\n",
       "\\item pressao\\_alta\\_q002\n",
       "\\item imcclass.1\n",
       "\\item substitui\\_refeicoes\\_p026.6\n",
       "\\item alimentos\\_doces\\_p025.0\n",
       "\\item fxetaria.32\n",
       "\\item fxetaria.22\n",
       "\\item cor\\_raca\\_c009.5\n",
       "\\item cor\\_raca\\_c009.2\n",
       "\\item cor\\_raca\\_c009.3\n",
       "\\item cor\\_raca\\_c009.1\n",
       "\\item cor\\_raca\\_c009.4\n",
       "\\item fxetaria.18\n",
       "\\end{enumerate*}\n",
       "\n",
       "\\emph{Levels}: \\begin{enumerate*}\n",
       "\\item '(Intercept)'\n",
       "\\item 'alimentos\\_doces\\_p025.0'\n",
       "\\item 'alimentos\\_doces\\_p025.1'\n",
       "\\item 'alimentos\\_doces\\_p025.2'\n",
       "\\item 'alimentos\\_doces\\_p025.3'\n",
       "\\item 'alimentos\\_doces\\_p025.4'\n",
       "\\item 'alimentos\\_doces\\_p025.5'\n",
       "\\item 'alimentos\\_doces\\_p025.6'\n",
       "\\item 'avc\\_q068'\n",
       "\\item 'bebida\\_alcoolica\\_p028.0'\n",
       "\\item 'bebida\\_alcoolica\\_p028.1'\n",
       "\\item 'bebida\\_alcoolica\\_p028.2'\n",
       "\\item 'bebida\\_alcoolica\\_p028.3'\n",
       "\\item 'bebida\\_alcoolica\\_p028.4'\n",
       "\\item 'bebida\\_alcoolica\\_p028.5'\n",
       "\\item 'bebida\\_alcoolica\\_p028.6'\n",
       "\\item 'colesterol\\_alto\\_q060'\n",
       "\\item 'come\\_frutas\\_p018.0'\n",
       "\\item 'come\\_frutas\\_p018.1'\n",
       "\\item 'come\\_frutas\\_p018.2'\n",
       "\\item 'come\\_frutas\\_p018.3'\n",
       "\\item 'come\\_frutas\\_p018.4'\n",
       "\\item 'come\\_frutas\\_p018.5'\n",
       "\\item 'come\\_frutas\\_p018.6'\n",
       "\\item 'come\\_verduras\\_p009.0'\n",
       "\\item 'come\\_verduras\\_p009.1'\n",
       "\\item 'come\\_verduras\\_p009.2'\n",
       "\\item 'come\\_verduras\\_p009.3'\n",
       "\\item 'come\\_verduras\\_p009.4'\n",
       "\\item 'come\\_verduras\\_p009.5'\n",
       "\\item 'come\\_verduras\\_p009.6'\n",
       "\\item 'cor\\_raca\\_c009.1'\n",
       "\\item 'cor\\_raca\\_c009.2'\n",
       "\\item 'cor\\_raca\\_c009.3'\n",
       "\\item 'cor\\_raca\\_c009.4'\n",
       "\\item 'cor\\_raca\\_c009.5'\n",
       "\\item 'dias\\_semana\\_ativ\\_fisica\\_p035.0'\n",
       "\\item 'dias\\_semana\\_ativ\\_fisica\\_p035.1'\n",
       "\\item 'dias\\_semana\\_ativ\\_fisica\\_p035.2'\n",
       "\\item 'dias\\_semana\\_ativ\\_fisica\\_p035.3'\n",
       "\\item 'dias\\_semana\\_ativ\\_fisica\\_p035.4'\n",
       "\\item 'dias\\_semana\\_ativ\\_fisica\\_p035.5'\n",
       "\\item 'dias\\_semana\\_ativ\\_fisica\\_p035.6'\n",
       "\\item 'faixa\\_escolaridade.0'\n",
       "\\item 'faixa\\_escolaridade.1'\n",
       "\\item 'faixa\\_escolaridade.2'\n",
       "\\item 'faixa\\_escolaridade.3'\n",
       "\\item 'faixa\\_escolaridade.4'\n",
       "\\item 'freqativ.0'\n",
       "\\item 'freqativ.1'\n",
       "\\item 'freqativ.2'\n",
       "\\item 'freqativ.3'\n",
       "\\item 'freqativ.4'\n",
       "\\item 'fumante\\_p050'\n",
       "\\item 'fxetaria.18'\n",
       "\\item 'fxetaria.22'\n",
       "\\item 'fxetaria.32'\n",
       "\\item 'fxetaria.50'\n",
       "\\item 'imcclass.1'\n",
       "\\item 'imcclass.2'\n",
       "\\item 'imcclass.3'\n",
       "\\item 'imcclass.4'\n",
       "\\item 'imcclass.5'\n",
       "\\item 'imcclass.6'\n",
       "\\item 'insuficiencia\\_renal\\_q124'\n",
       "\\item 'pressao\\_alta\\_q002'\n",
       "\\item 'refrigerante\\_suco\\_p020.0'\n",
       "\\item 'refrigerante\\_suco\\_p020.1'\n",
       "\\item 'refrigerante\\_suco\\_p020.2'\n",
       "\\item 'refrigerante\\_suco\\_p020.3'\n",
       "\\item 'refrigerante\\_suco\\_p020.4'\n",
       "\\item 'refrigerante\\_suco\\_p020.5'\n",
       "\\item 'refrigerante\\_suco\\_p020.6'\n",
       "\\item 'sexo\\_c006'\n",
       "\\item 'substitui\\_refeicoes\\_p026.0'\n",
       "\\item 'substitui\\_refeicoes\\_p026.1'\n",
       "\\item 'substitui\\_refeicoes\\_p026.2'\n",
       "\\item 'substitui\\_refeicoes\\_p026.3'\n",
       "\\item 'substitui\\_refeicoes\\_p026.4'\n",
       "\\item 'substitui\\_refeicoes\\_p026.5'\n",
       "\\item 'substitui\\_refeicoes\\_p026.6'\n",
       "\\end{enumerate*}\n"
      ],
      "text/markdown": [
       "1. bebida_alcoolica_p028.6\n",
       "2. alimentos_doces_p025.3\n",
       "3. come_verduras_p009.1\n",
       "4. dias_semana_ativ_fisica_p035.5\n",
       "5. alimentos_doces_p025.6\n",
       "6. freqativ.4\n",
       "7. dias_semana_ativ_fisica_p035.4\n",
       "8. bebida_alcoolica_p028.5\n",
       "9. come_verduras_p009.0\n",
       "10. refrigerante_suco_p020.2\n",
       "11. come_verduras_p009.2\n",
       "12. bebida_alcoolica_p028.1\n",
       "13. dias_semana_ativ_fisica_p035.0\n",
       "14. freqativ.2\n",
       "15. refrigerante_suco_p020.6\n",
       "16. freqativ.0\n",
       "17. come_verduras_p009.5\n",
       "18. dias_semana_ativ_fisica_p035.3\n",
       "19. dias_semana_ativ_fisica_p035.2\n",
       "20. alimentos_doces_p025.5\n",
       "21. come_verduras_p009.6\n",
       "22. refrigerante_suco_p020.1\n",
       "23. refrigerante_suco_p020.0\n",
       "24. come_verduras_p009.4\n",
       "25. substitui_refeicoes_p026.1\n",
       "26. refrigerante_suco_p020.4\n",
       "27. come_verduras_p009.3\n",
       "28. come_frutas_p018.5\n",
       "29. bebida_alcoolica_p028.2\n",
       "30. come_frutas_p018.4\n",
       "31. fumante_p050\n",
       "32. imcclass.6\n",
       "33. substitui_refeicoes_p026.2\n",
       "34. dias_semana_ativ_fisica_p035.6\n",
       "35. dias_semana_ativ_fisica_p035.1\n",
       "36. sexo_c006\n",
       "37. come_frutas_p018.6\n",
       "38. insuficiencia_renal_q124\n",
       "39. come_frutas_p018.3\n",
       "40. substitui_refeicoes_p026.5\n",
       "41. substitui_refeicoes_p026.0\n",
       "42. alimentos_doces_p025.4\n",
       "43. come_frutas_p018.2\n",
       "44. bebida_alcoolica_p028.0\n",
       "45. refrigerante_suco_p020.5\n",
       "46. freqativ.1\n",
       "47. imcclass.5\n",
       "48. refrigerante_suco_p020.3\n",
       "49. avc_q068\n",
       "50. alimentos_doces_p025.2\n",
       "51. come_frutas_p018.1\n",
       "52. bebida_alcoolica_p028.4\n",
       "53. substitui_refeicoes_p026.3\n",
       "54. faixa_escolaridade.3\n",
       "55. freqativ.3\n",
       "56. come_frutas_p018.0\n",
       "57. alimentos_doces_p025.1\n",
       "58. imcclass.2\n",
       "59. (Intercept)\n",
       "60. substitui_refeicoes_p026.4\n",
       "61. faixa_escolaridade.4\n",
       "62. fxetaria.50\n",
       "63. imcclass.4\n",
       "64. faixa_escolaridade.1\n",
       "65. faixa_escolaridade.2\n",
       "66. bebida_alcoolica_p028.3\n",
       "67. faixa_escolaridade.0\n",
       "68. colesterol_alto_q060\n",
       "69. imcclass.3\n",
       "70. pressao_alta_q002\n",
       "71. imcclass.1\n",
       "72. substitui_refeicoes_p026.6\n",
       "73. alimentos_doces_p025.0\n",
       "74. fxetaria.32\n",
       "75. fxetaria.22\n",
       "76. cor_raca_c009.5\n",
       "77. cor_raca_c009.2\n",
       "78. cor_raca_c009.3\n",
       "79. cor_raca_c009.1\n",
       "80. cor_raca_c009.4\n",
       "81. fxetaria.18\n",
       "\n",
       "\n",
       "\n",
       "**Levels**: 1. '(Intercept)'\n",
       "2. 'alimentos_doces_p025.0'\n",
       "3. 'alimentos_doces_p025.1'\n",
       "4. 'alimentos_doces_p025.2'\n",
       "5. 'alimentos_doces_p025.3'\n",
       "6. 'alimentos_doces_p025.4'\n",
       "7. 'alimentos_doces_p025.5'\n",
       "8. 'alimentos_doces_p025.6'\n",
       "9. 'avc_q068'\n",
       "10. 'bebida_alcoolica_p028.0'\n",
       "11. 'bebida_alcoolica_p028.1'\n",
       "12. 'bebida_alcoolica_p028.2'\n",
       "13. 'bebida_alcoolica_p028.3'\n",
       "14. 'bebida_alcoolica_p028.4'\n",
       "15. 'bebida_alcoolica_p028.5'\n",
       "16. 'bebida_alcoolica_p028.6'\n",
       "17. 'colesterol_alto_q060'\n",
       "18. 'come_frutas_p018.0'\n",
       "19. 'come_frutas_p018.1'\n",
       "20. 'come_frutas_p018.2'\n",
       "21. 'come_frutas_p018.3'\n",
       "22. 'come_frutas_p018.4'\n",
       "23. 'come_frutas_p018.5'\n",
       "24. 'come_frutas_p018.6'\n",
       "25. 'come_verduras_p009.0'\n",
       "26. 'come_verduras_p009.1'\n",
       "27. 'come_verduras_p009.2'\n",
       "28. 'come_verduras_p009.3'\n",
       "29. 'come_verduras_p009.4'\n",
       "30. 'come_verduras_p009.5'\n",
       "31. 'come_verduras_p009.6'\n",
       "32. 'cor_raca_c009.1'\n",
       "33. 'cor_raca_c009.2'\n",
       "34. 'cor_raca_c009.3'\n",
       "35. 'cor_raca_c009.4'\n",
       "36. 'cor_raca_c009.5'\n",
       "37. 'dias_semana_ativ_fisica_p035.0'\n",
       "38. 'dias_semana_ativ_fisica_p035.1'\n",
       "39. 'dias_semana_ativ_fisica_p035.2'\n",
       "40. 'dias_semana_ativ_fisica_p035.3'\n",
       "41. 'dias_semana_ativ_fisica_p035.4'\n",
       "42. 'dias_semana_ativ_fisica_p035.5'\n",
       "43. 'dias_semana_ativ_fisica_p035.6'\n",
       "44. 'faixa_escolaridade.0'\n",
       "45. 'faixa_escolaridade.1'\n",
       "46. 'faixa_escolaridade.2'\n",
       "47. 'faixa_escolaridade.3'\n",
       "48. 'faixa_escolaridade.4'\n",
       "49. 'freqativ.0'\n",
       "50. 'freqativ.1'\n",
       "51. 'freqativ.2'\n",
       "52. 'freqativ.3'\n",
       "53. 'freqativ.4'\n",
       "54. 'fumante_p050'\n",
       "55. 'fxetaria.18'\n",
       "56. 'fxetaria.22'\n",
       "57. 'fxetaria.32'\n",
       "58. 'fxetaria.50'\n",
       "59. 'imcclass.1'\n",
       "60. 'imcclass.2'\n",
       "61. 'imcclass.3'\n",
       "62. 'imcclass.4'\n",
       "63. 'imcclass.5'\n",
       "64. 'imcclass.6'\n",
       "65. 'insuficiencia_renal_q124'\n",
       "66. 'pressao_alta_q002'\n",
       "67. 'refrigerante_suco_p020.0'\n",
       "68. 'refrigerante_suco_p020.1'\n",
       "69. 'refrigerante_suco_p020.2'\n",
       "70. 'refrigerante_suco_p020.3'\n",
       "71. 'refrigerante_suco_p020.4'\n",
       "72. 'refrigerante_suco_p020.5'\n",
       "73. 'refrigerante_suco_p020.6'\n",
       "74. 'sexo_c006'\n",
       "75. 'substitui_refeicoes_p026.0'\n",
       "76. 'substitui_refeicoes_p026.1'\n",
       "77. 'substitui_refeicoes_p026.2'\n",
       "78. 'substitui_refeicoes_p026.3'\n",
       "79. 'substitui_refeicoes_p026.4'\n",
       "80. 'substitui_refeicoes_p026.5'\n",
       "81. 'substitui_refeicoes_p026.6'\n",
       "\n",
       "\n"
      ],
      "text/plain": [
       " [1] bebida_alcoolica_p028.6        alimentos_doces_p025.3        \n",
       " [3] come_verduras_p009.1           dias_semana_ativ_fisica_p035.5\n",
       " [5] alimentos_doces_p025.6         freqativ.4                    \n",
       " [7] dias_semana_ativ_fisica_p035.4 bebida_alcoolica_p028.5       \n",
       " [9] come_verduras_p009.0           refrigerante_suco_p020.2      \n",
       "[11] come_verduras_p009.2           bebida_alcoolica_p028.1       \n",
       "[13] dias_semana_ativ_fisica_p035.0 freqativ.2                    \n",
       "[15] refrigerante_suco_p020.6       freqativ.0                    \n",
       "[17] come_verduras_p009.5           dias_semana_ativ_fisica_p035.3\n",
       "[19] dias_semana_ativ_fisica_p035.2 alimentos_doces_p025.5        \n",
       "[21] come_verduras_p009.6           refrigerante_suco_p020.1      \n",
       "[23] refrigerante_suco_p020.0       come_verduras_p009.4          \n",
       "[25] substitui_refeicoes_p026.1     refrigerante_suco_p020.4      \n",
       "[27] come_verduras_p009.3           come_frutas_p018.5            \n",
       "[29] bebida_alcoolica_p028.2        come_frutas_p018.4            \n",
       "[31] fumante_p050                   imcclass.6                    \n",
       "[33] substitui_refeicoes_p026.2     dias_semana_ativ_fisica_p035.6\n",
       "[35] dias_semana_ativ_fisica_p035.1 sexo_c006                     \n",
       "[37] come_frutas_p018.6             insuficiencia_renal_q124      \n",
       "[39] come_frutas_p018.3             substitui_refeicoes_p026.5    \n",
       "[41] substitui_refeicoes_p026.0     alimentos_doces_p025.4        \n",
       "[43] come_frutas_p018.2             bebida_alcoolica_p028.0       \n",
       "[45] refrigerante_suco_p020.5       freqativ.1                    \n",
       "[47] imcclass.5                     refrigerante_suco_p020.3      \n",
       "[49] avc_q068                       alimentos_doces_p025.2        \n",
       "[51] come_frutas_p018.1             bebida_alcoolica_p028.4       \n",
       "[53] substitui_refeicoes_p026.3     faixa_escolaridade.3          \n",
       "[55] freqativ.3                     come_frutas_p018.0            \n",
       "[57] alimentos_doces_p025.1         imcclass.2                    \n",
       "[59] (Intercept)                    substitui_refeicoes_p026.4    \n",
       "[61] faixa_escolaridade.4           fxetaria.50                   \n",
       "[63] imcclass.4                     faixa_escolaridade.1          \n",
       "[65] faixa_escolaridade.2           bebida_alcoolica_p028.3       \n",
       "[67] faixa_escolaridade.0           colesterol_alto_q060          \n",
       "[69] imcclass.3                     pressao_alta_q002             \n",
       "[71] imcclass.1                     substitui_refeicoes_p026.6    \n",
       "[73] alimentos_doces_p025.0         fxetaria.32                   \n",
       "[75] fxetaria.22                    cor_raca_c009.5               \n",
       "[77] cor_raca_c009.2                cor_raca_c009.3               \n",
       "[79] cor_raca_c009.1                cor_raca_c009.4               \n",
       "[81] fxetaria.18                   \n",
       "81 Levels: (Intercept) alimentos_doces_p025.0 ... substitui_refeicoes_p026.6"
      ]
     },
     "metadata": {},
     "output_type": "display_data"
    }
   ],
   "source": [
    "df_modelb$keyName"
   ]
  },
  {
   "cell_type": "code",
   "execution_count": 118,
   "metadata": {},
   "outputs": [
    {
     "name": "stderr",
     "output_type": "stream",
     "text": [
      "Warning message in summary.glm(g):\n",
      "\"observations with zero weight not used for calculating dispersion\"Warning message in summary.glm(glm.object):\n",
      "\"observations with zero weight not used for calculating dispersion\""
     ]
    },
    {
     "name": "stdout",
     "output_type": "stream",
     "text": [
      "\n",
      "Call:\n",
      "svyglm(formula = as.formula(fla), design = df, family = \"quasibinomial\")\n",
      "\n",
      "Survey design:\n",
      "subset(df, diagnostico_diabetes_q030 != \" \" & diagnostico_diabetes_q030 != \n",
      "    2 & pressao_alta_q002 != \" \" & colesterol_alto_q060 != \" \")\n",
      "\n",
      "Coefficients:\n",
      "                               Estimate Std. Error t value Pr(>|t|)    \n",
      "(Intercept)                    -0.61737    1.16858  -0.528 0.597311    \n",
      "sexo_c006                      -0.22870    0.07780  -2.940 0.003299 ** \n",
      "fumante_p050                   -0.19593    0.11717  -1.672 0.094544 .  \n",
      "pressao_alta_q002               0.93097    0.07453  12.492  < 2e-16 ***\n",
      "colesterol_alto_q060            0.74780    0.07385  10.127  < 2e-16 ***\n",
      "avc_q068                        0.37018    0.14493   2.554 0.010670 *  \n",
      "insuficiencia_renal_q124        0.24760    0.17704   1.399 0.162013    \n",
      "cor_raca_c009.1                -2.44327    1.01458  -2.408 0.016066 *  \n",
      "cor_raca_c009.2                -2.32507    1.02031  -2.279 0.022718 *  \n",
      "cor_raca_c009.3                -2.39517    1.06683  -2.245 0.024800 *  \n",
      "cor_raca_c009.4                -2.54168    1.01468  -2.505 0.012278 *  \n",
      "cor_raca_c009.5                -2.19166    1.07390  -2.041 0.041315 *  \n",
      "faixa_escolaridade.0            0.73544    0.43195   1.703 0.088698 .  \n",
      "faixa_escolaridade.1            0.68760    0.42836   1.605 0.108508    \n",
      "faixa_escolaridade.2            0.70112    0.42941   1.633 0.102582    \n",
      "faixa_escolaridade.3            0.45798    0.43414   1.055 0.291512    \n",
      "faixa_escolaridade.4            0.64144    0.64750   0.991 0.321900    \n",
      "come_verduras_p009.0           -0.03491    0.11798  -0.296 0.767295    \n",
      "come_verduras_p009.1            0.01823    0.11995   0.152 0.879208    \n",
      "come_verduras_p009.2            0.03630    0.10368   0.350 0.726280    \n",
      "come_verduras_p009.3            0.14995    0.10743   1.396 0.162814    \n",
      "come_verduras_p009.4           -0.13246    0.13416  -0.987 0.323543    \n",
      "come_verduras_p009.5            0.08531    0.14885   0.573 0.566595    \n",
      "come_verduras_p009.6           -0.12137    0.15913  -0.763 0.445665    \n",
      "come_frutas_p018.0             -0.48265    0.13436  -3.592 0.000331 ***\n",
      "come_frutas_p018.1             -0.37843    0.13971  -2.709 0.006775 ** \n",
      "come_frutas_p018.2             -0.34095    0.11557  -2.950 0.003189 ** \n",
      "come_frutas_p018.3             -0.26699    0.12272  -2.176 0.029632 *  \n",
      "come_frutas_p018.4             -0.17505    0.13969  -1.253 0.210214    \n",
      "come_frutas_p018.5             -0.16416    0.13694  -1.199 0.230679    \n",
      "come_frutas_p018.6             -0.23983    0.13561  -1.769 0.077027 .  \n",
      "refrigerante_suco_p020.0        0.12722    0.11687   1.089 0.276420    \n",
      "refrigerante_suco_p020.1        0.12428    0.12881   0.965 0.334678    \n",
      "refrigerante_suco_p020.2        0.03537    0.13804   0.256 0.797752    \n",
      "refrigerante_suco_p020.3        0.36734    0.17992   2.042 0.041232 *  \n",
      "refrigerante_suco_p020.4        0.14498    0.21106   0.687 0.492180    \n",
      "refrigerante_suco_p020.5        0.34878    0.26523   1.315 0.188569    \n",
      "refrigerante_suco_p020.6       -0.07049    0.21542  -0.327 0.743497    \n",
      "alimentos_doces_p025.0          1.41903    0.13639  10.404  < 2e-16 ***\n",
      "alimentos_doces_p025.1          0.57405    0.14806   3.877 0.000107 ***\n",
      "alimentos_doces_p025.2          0.37584    0.16173   2.324 0.020173 *  \n",
      "alimentos_doces_p025.3          0.01544    0.19249   0.080 0.936059    \n",
      "alimentos_doces_p025.4          0.32028    0.22334   1.434 0.151613    \n",
      "alimentos_doces_p025.5         -0.11393    0.22709  -0.502 0.615912    \n",
      "alimentos_doces_p025.6         -0.02224    0.27429  -0.081 0.935381    \n",
      "substitui_refeicoes_p026.0     -0.31939    0.16836  -1.897 0.057878 .  \n",
      "substitui_refeicoes_p026.1     -0.13897    0.18567  -0.748 0.454219    \n",
      "substitui_refeicoes_p026.2     -0.20629    0.21051  -0.980 0.327135    \n",
      "substitui_refeicoes_p026.3     -0.41025    0.24629  -1.666 0.095819 .  \n",
      "substitui_refeicoes_p026.4     -0.62013    0.33959  -1.826 0.067886 .  \n",
      "substitui_refeicoes_p026.5     -0.27511    0.40458  -0.680 0.496540    \n",
      "substitui_refeicoes_p026.6     -1.21669    0.42276  -2.878 0.004019 ** \n",
      "bebida_alcoolica_p028.0         0.34611    0.26247   1.319 0.187339    \n",
      "bebida_alcoolica_p028.1         0.03948    0.28943   0.136 0.891517    \n",
      "bebida_alcoolica_p028.2        -0.16649    0.29385  -0.567 0.571021    \n",
      "bebida_alcoolica_p028.3        -0.72209    0.37112  -1.946 0.051743 .  \n",
      "bebida_alcoolica_p028.4        -0.38007    0.51717  -0.735 0.462428    \n",
      "bebida_alcoolica_p028.5        -0.02989    0.49117  -0.061 0.951481    \n",
      "bebida_alcoolica_p028.6        -0.01205    0.60126  -0.020 0.984018    \n",
      "dias_semana_ativ_fisica_p035.0  0.06206    0.17321   0.358 0.720140    \n",
      "dias_semana_ativ_fisica_p035.1 -0.22707    0.25767  -0.881 0.378231    \n",
      "dias_semana_ativ_fisica_p035.2 -0.09644    0.24221  -0.398 0.690519    \n",
      "dias_semana_ativ_fisica_p035.3  0.08681    0.21679   0.400 0.688862    \n",
      "dias_semana_ativ_fisica_p035.4  0.02441    0.28789   0.085 0.932424    \n",
      "dias_semana_ativ_fisica_p035.5  0.02007    0.24672   0.081 0.935166    \n",
      "dias_semana_ativ_fisica_p035.6 -0.22067    0.40565  -0.544 0.586473    \n",
      "freqativ.0                      0.07836    0.15036   0.521 0.602292    \n",
      "freqativ.1                      0.36526    0.34739   1.051 0.293107    \n",
      "freqativ.2                     -0.07026    0.22324  -0.315 0.752961    \n",
      "freqativ.3                     -0.46122    0.31864  -1.447 0.147828    \n",
      "freqativ.4                      0.02387    0.29252   0.082 0.934962    \n",
      "fxetaria.18                    -2.86264    0.70556  -4.057 5.04e-05 ***\n",
      "fxetaria.22                    -2.09090    0.28720  -7.280 3.81e-13 ***\n",
      "fxetaria.32                    -1.85459    0.13539 -13.699  < 2e-16 ***\n",
      "fxetaria.50                    -0.64975    0.07586  -8.565  < 2e-16 ***\n",
      "imcclass.1                     -1.05395    0.52414  -2.011 0.044394 *  \n",
      "imcclass.2                     -0.60408    0.40256  -1.501 0.133516    \n",
      "imcclass.3                     -0.89845    0.19103  -4.703 2.62e-06 ***\n",
      "imcclass.4                     -0.65686    0.18983  -3.460 0.000544 ***\n",
      "imcclass.5                     -0.36545    0.19386  -1.885 0.059469 .  \n",
      "imcclass.6                     -0.20613    0.22175  -0.930 0.352648    \n",
      "---\n",
      "Signif. codes:  0 '***' 0.001 '**' 0.01 '*' 0.05 '.' 0.1 ' ' 1\n",
      "\n",
      "(Dispersion parameter for quasibinomial family taken to be 0.9823528)\n",
      "\n",
      "Number of Fisher Scoring iterations: 7\n",
      "\n"
     ]
    }
   ],
   "source": [
    "modelqb <- construir_modelo(df)\n",
    "\n",
    "print(summary(modelqb))\n",
    "\n",
    "df_modelqb = ordenar_pvalue(modelqb)"
   ]
  },
  {
   "cell_type": "code",
   "execution_count": 119,
   "metadata": {},
   "outputs": [
    {
     "data": {
      "text/html": [
       "0.982352799472206"
      ],
      "text/latex": [
       "0.982352799472206"
      ],
      "text/markdown": [
       "0.982352799472206"
      ],
      "text/plain": [
       "[1] 0.9823528"
      ]
     },
     "metadata": {},
     "output_type": "display_data"
    }
   ],
   "source": [
    "summary(modelqb)$dispersion[1]"
   ]
  },
  {
   "cell_type": "code",
   "execution_count": 124,
   "metadata": {},
   "outputs": [
    {
     "data": {
      "text/html": [
       "4.50150487397582"
      ],
      "text/latex": [
       "4.50150487397582"
      ],
      "text/markdown": [
       "4.50150487397582"
      ],
      "text/plain": [
       "[1] 4.501505"
      ]
     },
     "metadata": {},
     "output_type": "display_data"
    }
   ],
   "source": [
    "deviance(modelb)/df.residual(modelb)"
   ]
  },
  {
   "cell_type": "code",
   "execution_count": 123,
   "metadata": {},
   "outputs": [
    {
     "data": {
      "text/html": [
       "0.819828091864368"
      ],
      "text/latex": [
       "0.819828091864368"
      ],
      "text/markdown": [
       "0.819828091864368"
      ],
      "text/plain": [
       "[1] 0.8198281"
      ]
     },
     "metadata": {},
     "output_type": "display_data"
    }
   ],
   "source": [
    "pchisq(summary(modelqb)$dispersion[1] * modelb$df.residual, modelb$df.residual, lower.tail = F)"
   ]
  },
  {
   "cell_type": "markdown",
   "metadata": {},
   "source": [
    "Com esses dados criamos 2 modelos, um com a família binomial e outra com a família quasibinomial, e calculamos o teste do qui-quadrado para observar se nosso modelo está com superdispersão, indicando um viés sobre os dados.\n",
    "\n",
    "hipotese nula $\\phi=1$ \n",
    "\n",
    "hipotese alternativa $\\phi \\neq 1$"
   ]
  },
  {
   "cell_type": "code",
   "execution_count": 41,
   "metadata": {},
   "outputs": [
    {
     "data": {
      "text/html": [
       "0.819828091864368"
      ],
      "text/latex": [
       "0.819828091864368"
      ],
      "text/markdown": [
       "0.819828091864368"
      ],
      "text/plain": [
       "[1] 0.8198281"
      ]
     },
     "metadata": {},
     "output_type": "display_data"
    }
   ],
   "source": [
    "pchisq(summary(modelqb)$dispersion[1] * modelb$df.residual, modelb$df.residual, lower.tail = F)"
   ]
  },
  {
   "cell_type": "markdown",
   "metadata": {},
   "source": [
    "#### Variáveis com p_value maior que 0.05"
   ]
  },
  {
   "cell_type": "code",
   "execution_count": 69,
   "metadata": {
    "tags": [
     "remove_input"
    ]
   },
   "outputs": [
    {
     "data": {
      "text/html": [
       "<table>\n",
       "<thead><tr><th></th><th scope=col>keyName</th><th scope=col>value</th><th scope=col>COEFF_ABS</th><th scope=col>p_value</th></tr></thead>\n",
       "<tbody>\n",
       "\t<tr><th scope=row>1</th><td>(Intercept)                   </td><td>-0.61736656                   </td><td>0.61736656                    </td><td>0.59731059                    </td></tr>\n",
       "\t<tr><th scope=row>42</th><td>alimentos_doces_p025.3        </td><td> 0.01544274                   </td><td>0.01544274                    </td><td>0.93605914                    </td></tr>\n",
       "\t<tr><th scope=row>43</th><td>alimentos_doces_p025.4        </td><td> 0.32028326                   </td><td>0.32028326                    </td><td>0.15161272                    </td></tr>\n",
       "\t<tr><th scope=row>44</th><td>alimentos_doces_p025.5        </td><td>-0.11392700                   </td><td>0.11392700                    </td><td>0.61591235                    </td></tr>\n",
       "\t<tr><th scope=row>45</th><td>alimentos_doces_p025.6        </td><td>-0.02223966                   </td><td>0.02223966                    </td><td>0.93538120                    </td></tr>\n",
       "\t<tr><th scope=row>53</th><td>bebida_alcoolica_p028.0       </td><td> 0.34610514                   </td><td>0.34610514                    </td><td>0.18733931                    </td></tr>\n",
       "\t<tr><th scope=row>54</th><td>bebida_alcoolica_p028.1       </td><td> 0.03947647                   </td><td>0.03947647                    </td><td>0.89151668                    </td></tr>\n",
       "\t<tr><th scope=row>55</th><td>bebida_alcoolica_p028.2       </td><td>-0.16649088                   </td><td>0.16649088                    </td><td>0.57102097                    </td></tr>\n",
       "\t<tr><th scope=row>57</th><td>bebida_alcoolica_p028.4       </td><td>-0.38007214                   </td><td>0.38007214                    </td><td>0.46242770                    </td></tr>\n",
       "\t<tr><th scope=row>58</th><td>bebida_alcoolica_p028.5       </td><td>-0.02988763                   </td><td>0.02988763                    </td><td>0.95148150                    </td></tr>\n",
       "\t<tr><th scope=row>59</th><td>bebida_alcoolica_p028.6       </td><td>-0.01204517                   </td><td>0.01204517                    </td><td>0.98401767                    </td></tr>\n",
       "\t<tr><th scope=row>29</th><td>come_frutas_p018.4            </td><td>-0.17505363                   </td><td>0.17505363                    </td><td>0.21021436                    </td></tr>\n",
       "\t<tr><th scope=row>30</th><td>come_frutas_p018.5            </td><td>-0.16416137                   </td><td>0.16416137                    </td><td>0.23067932                    </td></tr>\n",
       "\t<tr><th scope=row>31</th><td>come_frutas_p018.6            </td><td>-0.23982526                   </td><td>0.23982526                    </td><td>0.07702703                    </td></tr>\n",
       "\t<tr><th scope=row>18</th><td>come_verduras_p009.0          </td><td>-0.03491384                   </td><td>0.03491384                    </td><td>0.76729477                    </td></tr>\n",
       "\t<tr><th scope=row>19</th><td>come_verduras_p009.1          </td><td> 0.01822984                   </td><td>0.01822984                    </td><td>0.87920775                    </td></tr>\n",
       "\t<tr><th scope=row>20</th><td>come_verduras_p009.2          </td><td> 0.03629852                   </td><td>0.03629852                    </td><td>0.72627950                    </td></tr>\n",
       "\t<tr><th scope=row>21</th><td>come_verduras_p009.3          </td><td> 0.14995130                   </td><td>0.14995130                    </td><td>0.16281371                    </td></tr>\n",
       "\t<tr><th scope=row>22</th><td>come_verduras_p009.4          </td><td>-0.13245702                   </td><td>0.13245702                    </td><td>0.32354321                    </td></tr>\n",
       "\t<tr><th scope=row>23</th><td>come_verduras_p009.5          </td><td> 0.08530770                   </td><td>0.08530770                    </td><td>0.56659529                    </td></tr>\n",
       "\t<tr><th scope=row>24</th><td>come_verduras_p009.6          </td><td>-0.12137368                   </td><td>0.12137368                    </td><td>0.44566480                    </td></tr>\n",
       "\t<tr><th scope=row>60</th><td>dias_semana_ativ_fisica_p035.0</td><td> 0.06205930                   </td><td>0.06205930                    </td><td>0.72013989                    </td></tr>\n",
       "\t<tr><th scope=row>61</th><td>dias_semana_ativ_fisica_p035.1</td><td>-0.22706889                   </td><td>0.22706889                    </td><td>0.37823145                    </td></tr>\n",
       "\t<tr><th scope=row>62</th><td>dias_semana_ativ_fisica_p035.2</td><td>-0.09644214                   </td><td>0.09644214                    </td><td>0.69051884                    </td></tr>\n",
       "\t<tr><th scope=row>63</th><td>dias_semana_ativ_fisica_p035.3</td><td> 0.08680629                   </td><td>0.08680629                    </td><td>0.68886174                    </td></tr>\n",
       "\t<tr><th scope=row>64</th><td>dias_semana_ativ_fisica_p035.4</td><td> 0.02441315                   </td><td>0.02441315                    </td><td>0.93242436                    </td></tr>\n",
       "\t<tr><th scope=row>65</th><td>dias_semana_ativ_fisica_p035.5</td><td> 0.02007071                   </td><td>0.02007071                    </td><td>0.93516622                    </td></tr>\n",
       "\t<tr><th scope=row>66</th><td>dias_semana_ativ_fisica_p035.6</td><td>-0.22066555                   </td><td>0.22066555                    </td><td>0.58647335                    </td></tr>\n",
       "\t<tr><th scope=row>13</th><td>faixa_escolaridade.0          </td><td> 0.73543691                   </td><td>0.73543691                    </td><td>0.08869796                    </td></tr>\n",
       "\t<tr><th scope=row>14</th><td>faixa_escolaridade.1          </td><td> 0.68760113                   </td><td>0.68760113                    </td><td>0.10850784                    </td></tr>\n",
       "\t<tr><th scope=row>15</th><td>faixa_escolaridade.2          </td><td> 0.70111674                   </td><td>0.70111674                    </td><td>0.10258194                    </td></tr>\n",
       "\t<tr><th scope=row>16</th><td>faixa_escolaridade.3          </td><td> 0.45798207                   </td><td>0.45798207                    </td><td>0.29151203                    </td></tr>\n",
       "\t<tr><th scope=row>17</th><td>faixa_escolaridade.4          </td><td> 0.64144279                   </td><td>0.64144279                    </td><td>0.32189970                    </td></tr>\n",
       "\t<tr><th scope=row>67</th><td>freqativ.0                    </td><td> 0.07836008                   </td><td>0.07836008                    </td><td>0.60229201                    </td></tr>\n",
       "\t<tr><th scope=row>68</th><td>freqativ.1                    </td><td> 0.36525620                   </td><td>0.36525620                    </td><td>0.29310720                    </td></tr>\n",
       "\t<tr><th scope=row>69</th><td>freqativ.2                    </td><td>-0.07026499                   </td><td>0.07026499                    </td><td>0.75296072                    </td></tr>\n",
       "\t<tr><th scope=row>70</th><td>freqativ.3                    </td><td>-0.46122422                   </td><td>0.46122422                    </td><td>0.14782751                    </td></tr>\n",
       "\t<tr><th scope=row>71</th><td>freqativ.4                    </td><td> 0.02387224                   </td><td>0.02387224                    </td><td>0.93496162                    </td></tr>\n",
       "\t<tr><th scope=row>3</th><td>fumante_p050                  </td><td>-0.19593489                   </td><td>0.19593489                    </td><td>0.09454431                    </td></tr>\n",
       "\t<tr><th scope=row>77</th><td>imcclass.2                    </td><td>-0.60407767                   </td><td>0.60407767                    </td><td>0.13351593                    </td></tr>\n",
       "\t<tr><th scope=row>81</th><td>imcclass.6                    </td><td>-0.20612943                   </td><td>0.20612943                    </td><td>0.35264792                    </td></tr>\n",
       "\t<tr><th scope=row>7</th><td>insuficiencia_renal_q124      </td><td> 0.24759812                   </td><td>0.24759812                    </td><td>0.16201264                    </td></tr>\n",
       "\t<tr><th scope=row>32</th><td>refrigerante_suco_p020.0      </td><td> 0.12721878                   </td><td>0.12721878                    </td><td>0.27642004                    </td></tr>\n",
       "\t<tr><th scope=row>33</th><td>refrigerante_suco_p020.1      </td><td> 0.12427588                   </td><td>0.12427588                    </td><td>0.33467796                    </td></tr>\n",
       "\t<tr><th scope=row>34</th><td>refrigerante_suco_p020.2      </td><td> 0.03537466                   </td><td>0.03537466                    </td><td>0.79775224                    </td></tr>\n",
       "\t<tr><th scope=row>36</th><td>refrigerante_suco_p020.4      </td><td> 0.14497857                   </td><td>0.14497857                    </td><td>0.49217997                    </td></tr>\n",
       "\t<tr><th scope=row>37</th><td>refrigerante_suco_p020.5      </td><td> 0.34877664                   </td><td>0.34877664                    </td><td>0.18856867                    </td></tr>\n",
       "\t<tr><th scope=row>38</th><td>refrigerante_suco_p020.6      </td><td>-0.07049363                   </td><td>0.07049363                    </td><td>0.74349736                    </td></tr>\n",
       "\t<tr><th scope=row>47</th><td>substitui_refeicoes_p026.1    </td><td>-0.13896908                   </td><td>0.13896908                    </td><td>0.45421894                    </td></tr>\n",
       "\t<tr><th scope=row>48</th><td>substitui_refeicoes_p026.2    </td><td>-0.20629309                   </td><td>0.20629309                    </td><td>0.32713512                    </td></tr>\n",
       "\t<tr><th scope=row>49</th><td>substitui_refeicoes_p026.3    </td><td>-0.41025398                   </td><td>0.41025398                    </td><td>0.09581904                    </td></tr>\n",
       "\t<tr><th scope=row>50</th><td>substitui_refeicoes_p026.4    </td><td>-0.62012704                   </td><td>0.62012704                    </td><td>0.06788612                    </td></tr>\n",
       "\t<tr><th scope=row>51</th><td>substitui_refeicoes_p026.5    </td><td>-0.27511292                   </td><td>0.27511292                    </td><td>0.49654008                    </td></tr>\n",
       "</tbody>\n",
       "</table>\n"
      ],
      "text/latex": [
       "\\begin{tabular}{r|llll}\n",
       "  & keyName & value & COEFF\\_ABS & p\\_value\\\\\n",
       "\\hline\n",
       "\t1 & (Intercept)                    & -0.61736656                    & 0.61736656                     & 0.59731059                    \\\\\n",
       "\t42 & alimentos\\_doces\\_p025.3         &  0.01544274                        & 0.01544274                         & 0.93605914                        \\\\\n",
       "\t43 & alimentos\\_doces\\_p025.4         &  0.32028326                        & 0.32028326                         & 0.15161272                        \\\\\n",
       "\t44 & alimentos\\_doces\\_p025.5         & -0.11392700                        & 0.11392700                         & 0.61591235                        \\\\\n",
       "\t45 & alimentos\\_doces\\_p025.6         & -0.02223966                        & 0.02223966                         & 0.93538120                        \\\\\n",
       "\t53 & bebida\\_alcoolica\\_p028.0        &  0.34610514                        & 0.34610514                         & 0.18733931                        \\\\\n",
       "\t54 & bebida\\_alcoolica\\_p028.1        &  0.03947647                        & 0.03947647                         & 0.89151668                        \\\\\n",
       "\t55 & bebida\\_alcoolica\\_p028.2        & -0.16649088                        & 0.16649088                         & 0.57102097                        \\\\\n",
       "\t57 & bebida\\_alcoolica\\_p028.4        & -0.38007214                        & 0.38007214                         & 0.46242770                        \\\\\n",
       "\t58 & bebida\\_alcoolica\\_p028.5        & -0.02988763                        & 0.02988763                         & 0.95148150                        \\\\\n",
       "\t59 & bebida\\_alcoolica\\_p028.6        & -0.01204517                        & 0.01204517                         & 0.98401767                        \\\\\n",
       "\t29 & come\\_frutas\\_p018.4             & -0.17505363                        & 0.17505363                         & 0.21021436                        \\\\\n",
       "\t30 & come\\_frutas\\_p018.5             & -0.16416137                        & 0.16416137                         & 0.23067932                        \\\\\n",
       "\t31 & come\\_frutas\\_p018.6             & -0.23982526                        & 0.23982526                         & 0.07702703                        \\\\\n",
       "\t18 & come\\_verduras\\_p009.0           & -0.03491384                        & 0.03491384                         & 0.76729477                        \\\\\n",
       "\t19 & come\\_verduras\\_p009.1           &  0.01822984                        & 0.01822984                         & 0.87920775                        \\\\\n",
       "\t20 & come\\_verduras\\_p009.2           &  0.03629852                        & 0.03629852                         & 0.72627950                        \\\\\n",
       "\t21 & come\\_verduras\\_p009.3           &  0.14995130                        & 0.14995130                         & 0.16281371                        \\\\\n",
       "\t22 & come\\_verduras\\_p009.4           & -0.13245702                        & 0.13245702                         & 0.32354321                        \\\\\n",
       "\t23 & come\\_verduras\\_p009.5           &  0.08530770                        & 0.08530770                         & 0.56659529                        \\\\\n",
       "\t24 & come\\_verduras\\_p009.6           & -0.12137368                        & 0.12137368                         & 0.44566480                        \\\\\n",
       "\t60 & dias\\_semana\\_ativ\\_fisica\\_p035.0 &  0.06205930                            & 0.06205930                             & 0.72013989                            \\\\\n",
       "\t61 & dias\\_semana\\_ativ\\_fisica\\_p035.1 & -0.22706889                            & 0.22706889                             & 0.37823145                            \\\\\n",
       "\t62 & dias\\_semana\\_ativ\\_fisica\\_p035.2 & -0.09644214                            & 0.09644214                             & 0.69051884                            \\\\\n",
       "\t63 & dias\\_semana\\_ativ\\_fisica\\_p035.3 &  0.08680629                            & 0.08680629                             & 0.68886174                            \\\\\n",
       "\t64 & dias\\_semana\\_ativ\\_fisica\\_p035.4 &  0.02441315                            & 0.02441315                             & 0.93242436                            \\\\\n",
       "\t65 & dias\\_semana\\_ativ\\_fisica\\_p035.5 &  0.02007071                            & 0.02007071                             & 0.93516622                            \\\\\n",
       "\t66 & dias\\_semana\\_ativ\\_fisica\\_p035.6 & -0.22066555                            & 0.22066555                             & 0.58647335                            \\\\\n",
       "\t13 & faixa\\_escolaridade.0           &  0.73543691                      & 0.73543691                       & 0.08869796                      \\\\\n",
       "\t14 & faixa\\_escolaridade.1           &  0.68760113                      & 0.68760113                       & 0.10850784                      \\\\\n",
       "\t15 & faixa\\_escolaridade.2           &  0.70111674                      & 0.70111674                       & 0.10258194                      \\\\\n",
       "\t16 & faixa\\_escolaridade.3           &  0.45798207                      & 0.45798207                       & 0.29151203                      \\\\\n",
       "\t17 & faixa\\_escolaridade.4           &  0.64144279                      & 0.64144279                       & 0.32189970                      \\\\\n",
       "\t67 & freqativ.0                     &  0.07836008                    & 0.07836008                     & 0.60229201                    \\\\\n",
       "\t68 & freqativ.1                     &  0.36525620                    & 0.36525620                     & 0.29310720                    \\\\\n",
       "\t69 & freqativ.2                     & -0.07026499                    & 0.07026499                     & 0.75296072                    \\\\\n",
       "\t70 & freqativ.3                     & -0.46122422                    & 0.46122422                     & 0.14782751                    \\\\\n",
       "\t71 & freqativ.4                     &  0.02387224                    & 0.02387224                     & 0.93496162                    \\\\\n",
       "\t3 & fumante\\_p050                   & -0.19593489                      & 0.19593489                       & 0.09454431                      \\\\\n",
       "\t77 & imcclass.2                     & -0.60407767                    & 0.60407767                     & 0.13351593                    \\\\\n",
       "\t81 & imcclass.6                     & -0.20612943                    & 0.20612943                     & 0.35264792                    \\\\\n",
       "\t7 & insuficiencia\\_renal\\_q124       &  0.24759812                        & 0.24759812                         & 0.16201264                        \\\\\n",
       "\t32 & refrigerante\\_suco\\_p020.0       &  0.12721878                        & 0.12721878                         & 0.27642004                        \\\\\n",
       "\t33 & refrigerante\\_suco\\_p020.1       &  0.12427588                        & 0.12427588                         & 0.33467796                        \\\\\n",
       "\t34 & refrigerante\\_suco\\_p020.2       &  0.03537466                        & 0.03537466                         & 0.79775224                        \\\\\n",
       "\t36 & refrigerante\\_suco\\_p020.4       &  0.14497857                        & 0.14497857                         & 0.49217997                        \\\\\n",
       "\t37 & refrigerante\\_suco\\_p020.5       &  0.34877664                        & 0.34877664                         & 0.18856867                        \\\\\n",
       "\t38 & refrigerante\\_suco\\_p020.6       & -0.07049363                        & 0.07049363                         & 0.74349736                        \\\\\n",
       "\t47 & substitui\\_refeicoes\\_p026.1     & -0.13896908                        & 0.13896908                         & 0.45421894                        \\\\\n",
       "\t48 & substitui\\_refeicoes\\_p026.2     & -0.20629309                        & 0.20629309                         & 0.32713512                        \\\\\n",
       "\t49 & substitui\\_refeicoes\\_p026.3     & -0.41025398                        & 0.41025398                         & 0.09581904                        \\\\\n",
       "\t50 & substitui\\_refeicoes\\_p026.4     & -0.62012704                        & 0.62012704                         & 0.06788612                        \\\\\n",
       "\t51 & substitui\\_refeicoes\\_p026.5     & -0.27511292                        & 0.27511292                         & 0.49654008                        \\\\\n",
       "\\end{tabular}\n"
      ],
      "text/markdown": [
       "\n",
       "| <!--/--> | keyName | value | COEFF_ABS | p_value |\n",
       "|---|---|---|---|---|\n",
       "| 1 | (Intercept)                    | -0.61736656                    | 0.61736656                     | 0.59731059                     |\n",
       "| 42 | alimentos_doces_p025.3         |  0.01544274                    | 0.01544274                     | 0.93605914                     |\n",
       "| 43 | alimentos_doces_p025.4         |  0.32028326                    | 0.32028326                     | 0.15161272                     |\n",
       "| 44 | alimentos_doces_p025.5         | -0.11392700                    | 0.11392700                     | 0.61591235                     |\n",
       "| 45 | alimentos_doces_p025.6         | -0.02223966                    | 0.02223966                     | 0.93538120                     |\n",
       "| 53 | bebida_alcoolica_p028.0        |  0.34610514                    | 0.34610514                     | 0.18733931                     |\n",
       "| 54 | bebida_alcoolica_p028.1        |  0.03947647                    | 0.03947647                     | 0.89151668                     |\n",
       "| 55 | bebida_alcoolica_p028.2        | -0.16649088                    | 0.16649088                     | 0.57102097                     |\n",
       "| 57 | bebida_alcoolica_p028.4        | -0.38007214                    | 0.38007214                     | 0.46242770                     |\n",
       "| 58 | bebida_alcoolica_p028.5        | -0.02988763                    | 0.02988763                     | 0.95148150                     |\n",
       "| 59 | bebida_alcoolica_p028.6        | -0.01204517                    | 0.01204517                     | 0.98401767                     |\n",
       "| 29 | come_frutas_p018.4             | -0.17505363                    | 0.17505363                     | 0.21021436                     |\n",
       "| 30 | come_frutas_p018.5             | -0.16416137                    | 0.16416137                     | 0.23067932                     |\n",
       "| 31 | come_frutas_p018.6             | -0.23982526                    | 0.23982526                     | 0.07702703                     |\n",
       "| 18 | come_verduras_p009.0           | -0.03491384                    | 0.03491384                     | 0.76729477                     |\n",
       "| 19 | come_verduras_p009.1           |  0.01822984                    | 0.01822984                     | 0.87920775                     |\n",
       "| 20 | come_verduras_p009.2           |  0.03629852                    | 0.03629852                     | 0.72627950                     |\n",
       "| 21 | come_verduras_p009.3           |  0.14995130                    | 0.14995130                     | 0.16281371                     |\n",
       "| 22 | come_verduras_p009.4           | -0.13245702                    | 0.13245702                     | 0.32354321                     |\n",
       "| 23 | come_verduras_p009.5           |  0.08530770                    | 0.08530770                     | 0.56659529                     |\n",
       "| 24 | come_verduras_p009.6           | -0.12137368                    | 0.12137368                     | 0.44566480                     |\n",
       "| 60 | dias_semana_ativ_fisica_p035.0 |  0.06205930                    | 0.06205930                     | 0.72013989                     |\n",
       "| 61 | dias_semana_ativ_fisica_p035.1 | -0.22706889                    | 0.22706889                     | 0.37823145                     |\n",
       "| 62 | dias_semana_ativ_fisica_p035.2 | -0.09644214                    | 0.09644214                     | 0.69051884                     |\n",
       "| 63 | dias_semana_ativ_fisica_p035.3 |  0.08680629                    | 0.08680629                     | 0.68886174                     |\n",
       "| 64 | dias_semana_ativ_fisica_p035.4 |  0.02441315                    | 0.02441315                     | 0.93242436                     |\n",
       "| 65 | dias_semana_ativ_fisica_p035.5 |  0.02007071                    | 0.02007071                     | 0.93516622                     |\n",
       "| 66 | dias_semana_ativ_fisica_p035.6 | -0.22066555                    | 0.22066555                     | 0.58647335                     |\n",
       "| 13 | faixa_escolaridade.0           |  0.73543691                    | 0.73543691                     | 0.08869796                     |\n",
       "| 14 | faixa_escolaridade.1           |  0.68760113                    | 0.68760113                     | 0.10850784                     |\n",
       "| 15 | faixa_escolaridade.2           |  0.70111674                    | 0.70111674                     | 0.10258194                     |\n",
       "| 16 | faixa_escolaridade.3           |  0.45798207                    | 0.45798207                     | 0.29151203                     |\n",
       "| 17 | faixa_escolaridade.4           |  0.64144279                    | 0.64144279                     | 0.32189970                     |\n",
       "| 67 | freqativ.0                     |  0.07836008                    | 0.07836008                     | 0.60229201                     |\n",
       "| 68 | freqativ.1                     |  0.36525620                    | 0.36525620                     | 0.29310720                     |\n",
       "| 69 | freqativ.2                     | -0.07026499                    | 0.07026499                     | 0.75296072                     |\n",
       "| 70 | freqativ.3                     | -0.46122422                    | 0.46122422                     | 0.14782751                     |\n",
       "| 71 | freqativ.4                     |  0.02387224                    | 0.02387224                     | 0.93496162                     |\n",
       "| 3 | fumante_p050                   | -0.19593489                    | 0.19593489                     | 0.09454431                     |\n",
       "| 77 | imcclass.2                     | -0.60407767                    | 0.60407767                     | 0.13351593                     |\n",
       "| 81 | imcclass.6                     | -0.20612943                    | 0.20612943                     | 0.35264792                     |\n",
       "| 7 | insuficiencia_renal_q124       |  0.24759812                    | 0.24759812                     | 0.16201264                     |\n",
       "| 32 | refrigerante_suco_p020.0       |  0.12721878                    | 0.12721878                     | 0.27642004                     |\n",
       "| 33 | refrigerante_suco_p020.1       |  0.12427588                    | 0.12427588                     | 0.33467796                     |\n",
       "| 34 | refrigerante_suco_p020.2       |  0.03537466                    | 0.03537466                     | 0.79775224                     |\n",
       "| 36 | refrigerante_suco_p020.4       |  0.14497857                    | 0.14497857                     | 0.49217997                     |\n",
       "| 37 | refrigerante_suco_p020.5       |  0.34877664                    | 0.34877664                     | 0.18856867                     |\n",
       "| 38 | refrigerante_suco_p020.6       | -0.07049363                    | 0.07049363                     | 0.74349736                     |\n",
       "| 47 | substitui_refeicoes_p026.1     | -0.13896908                    | 0.13896908                     | 0.45421894                     |\n",
       "| 48 | substitui_refeicoes_p026.2     | -0.20629309                    | 0.20629309                     | 0.32713512                     |\n",
       "| 49 | substitui_refeicoes_p026.3     | -0.41025398                    | 0.41025398                     | 0.09581904                     |\n",
       "| 50 | substitui_refeicoes_p026.4     | -0.62012704                    | 0.62012704                     | 0.06788612                     |\n",
       "| 51 | substitui_refeicoes_p026.5     | -0.27511292                    | 0.27511292                     | 0.49654008                     |\n",
       "\n"
      ],
      "text/plain": [
       "   keyName                        value       COEFF_ABS  p_value   \n",
       "1  (Intercept)                    -0.61736656 0.61736656 0.59731059\n",
       "42 alimentos_doces_p025.3          0.01544274 0.01544274 0.93605914\n",
       "43 alimentos_doces_p025.4          0.32028326 0.32028326 0.15161272\n",
       "44 alimentos_doces_p025.5         -0.11392700 0.11392700 0.61591235\n",
       "45 alimentos_doces_p025.6         -0.02223966 0.02223966 0.93538120\n",
       "53 bebida_alcoolica_p028.0         0.34610514 0.34610514 0.18733931\n",
       "54 bebida_alcoolica_p028.1         0.03947647 0.03947647 0.89151668\n",
       "55 bebida_alcoolica_p028.2        -0.16649088 0.16649088 0.57102097\n",
       "57 bebida_alcoolica_p028.4        -0.38007214 0.38007214 0.46242770\n",
       "58 bebida_alcoolica_p028.5        -0.02988763 0.02988763 0.95148150\n",
       "59 bebida_alcoolica_p028.6        -0.01204517 0.01204517 0.98401767\n",
       "29 come_frutas_p018.4             -0.17505363 0.17505363 0.21021436\n",
       "30 come_frutas_p018.5             -0.16416137 0.16416137 0.23067932\n",
       "31 come_frutas_p018.6             -0.23982526 0.23982526 0.07702703\n",
       "18 come_verduras_p009.0           -0.03491384 0.03491384 0.76729477\n",
       "19 come_verduras_p009.1            0.01822984 0.01822984 0.87920775\n",
       "20 come_verduras_p009.2            0.03629852 0.03629852 0.72627950\n",
       "21 come_verduras_p009.3            0.14995130 0.14995130 0.16281371\n",
       "22 come_verduras_p009.4           -0.13245702 0.13245702 0.32354321\n",
       "23 come_verduras_p009.5            0.08530770 0.08530770 0.56659529\n",
       "24 come_verduras_p009.6           -0.12137368 0.12137368 0.44566480\n",
       "60 dias_semana_ativ_fisica_p035.0  0.06205930 0.06205930 0.72013989\n",
       "61 dias_semana_ativ_fisica_p035.1 -0.22706889 0.22706889 0.37823145\n",
       "62 dias_semana_ativ_fisica_p035.2 -0.09644214 0.09644214 0.69051884\n",
       "63 dias_semana_ativ_fisica_p035.3  0.08680629 0.08680629 0.68886174\n",
       "64 dias_semana_ativ_fisica_p035.4  0.02441315 0.02441315 0.93242436\n",
       "65 dias_semana_ativ_fisica_p035.5  0.02007071 0.02007071 0.93516622\n",
       "66 dias_semana_ativ_fisica_p035.6 -0.22066555 0.22066555 0.58647335\n",
       "13 faixa_escolaridade.0            0.73543691 0.73543691 0.08869796\n",
       "14 faixa_escolaridade.1            0.68760113 0.68760113 0.10850784\n",
       "15 faixa_escolaridade.2            0.70111674 0.70111674 0.10258194\n",
       "16 faixa_escolaridade.3            0.45798207 0.45798207 0.29151203\n",
       "17 faixa_escolaridade.4            0.64144279 0.64144279 0.32189970\n",
       "67 freqativ.0                      0.07836008 0.07836008 0.60229201\n",
       "68 freqativ.1                      0.36525620 0.36525620 0.29310720\n",
       "69 freqativ.2                     -0.07026499 0.07026499 0.75296072\n",
       "70 freqativ.3                     -0.46122422 0.46122422 0.14782751\n",
       "71 freqativ.4                      0.02387224 0.02387224 0.93496162\n",
       "3  fumante_p050                   -0.19593489 0.19593489 0.09454431\n",
       "77 imcclass.2                     -0.60407767 0.60407767 0.13351593\n",
       "81 imcclass.6                     -0.20612943 0.20612943 0.35264792\n",
       "7  insuficiencia_renal_q124        0.24759812 0.24759812 0.16201264\n",
       "32 refrigerante_suco_p020.0        0.12721878 0.12721878 0.27642004\n",
       "33 refrigerante_suco_p020.1        0.12427588 0.12427588 0.33467796\n",
       "34 refrigerante_suco_p020.2        0.03537466 0.03537466 0.79775224\n",
       "36 refrigerante_suco_p020.4        0.14497857 0.14497857 0.49217997\n",
       "37 refrigerante_suco_p020.5        0.34877664 0.34877664 0.18856867\n",
       "38 refrigerante_suco_p020.6       -0.07049363 0.07049363 0.74349736\n",
       "47 substitui_refeicoes_p026.1     -0.13896908 0.13896908 0.45421894\n",
       "48 substitui_refeicoes_p026.2     -0.20629309 0.20629309 0.32713512\n",
       "49 substitui_refeicoes_p026.3     -0.41025398 0.41025398 0.09581904\n",
       "50 substitui_refeicoes_p026.4     -0.62012704 0.62012704 0.06788612\n",
       "51 substitui_refeicoes_p026.5     -0.27511292 0.27511292 0.49654008"
      ]
     },
     "metadata": {},
     "output_type": "display_data"
    }
   ],
   "source": [
    "df_modelb_r = df_modelb[df_modelb$p_value >= 0.06, ]\n",
    "df_modelb_r[order(df_modelb_r$keyName),]"
   ]
  },
  {
   "cell_type": "markdown",
   "metadata": {},
   "source": [
    "#### Variáveis que serão removidas\n",
    "\n",
    "* <b>Consumo de verduras(p009):</b> variável que será removida do modelo pela regra de remoção.\n",
    "\n",
    "* <b>Dias da semana de atividade física(p035):</b> variável que será removida do modelo por ter todas suas classes passando pela regra de remoção.\n",
    "\n",
    "* <b>Faixa de escolaridade(p035):</b> variável que será removida do modelo por ter todas suas classes passando pela regra de remoção.\n",
    "\n",
    "* <b>Frequência de atividade física:</b> variável que será removida do modelo por ter todas suas classes passando pela regra de remoção.\n",
    "\n",
    "* <b>Fumante(p050):</b> variável que será removida do modelo pela regra de remoção.\n",
    "\n",
    "* <b>Insuficiência Renal(q124):</b> variável que será removida do modelo pela regra de remoção.\n",
    "\n",
    "* <b>Consumo de Refrigerante e Suco industrializado(p020):</b> variável que será removida do modelo por ter todas suas classes passando pela regra de remoção.\n",
    "\n",
    "Outras variáveis terão somente algumas de suas classes removidas."
   ]
  },
  {
   "cell_type": "code",
   "execution_count": 72,
   "metadata": {},
   "outputs": [],
   "source": [
    "droplist1 <- df_modelb[df_modelb$p_value >= 0.06, 1] \n",
    "\n",
    "df2 = df\n",
    "df2$variables <- df2$variables[, !colnames(df2$variables) %in% droplist1]"
   ]
  },
  {
   "cell_type": "markdown",
   "metadata": {},
   "source": [
    "#### Variáveis reorganizadas"
   ]
  },
  {
   "cell_type": "markdown",
   "metadata": {},
   "source": [
    "Como o comportamento de algumas variáveis mostrou que algumas de suas classes em sequência teve importância para o modelo, elas serão reorganizadas para identificar essa diferenciação:\n",
    "\n",
    "* <b>Consumo de alimentos doces(p025):</b> dessa variável, apenas os consumos menores que 3 vezes por semanas estão contribuindo para o modelo, e por se adequar na primeira regra de reorganização, iremos alterar para a seguinte classificação:\n",
    "\n",
    "Variável    |      Classes anteriores    | Novas Classes    | \n",
    "------------------|-----------------------------------|---------------\n",
    "Consumo de alimentos doces(p025)| 0, 1, 2, 3, 4, 5, 6 e 7 vezes por semana | 1: <= 2 vezes por semana <br> 0: > 2 vezes por semana   \n"
   ]
  },
  {
   "cell_type": "code",
   "execution_count": 73,
   "metadata": {},
   "outputs": [],
   "source": [
    "drop_new = c('alimentos_doces_p025.0', 'alimentos_doces_p025.1', 'alimentos_doces_p025.2')\n",
    "df2$variables <- df2$variables[, !colnames(df2$variables) %in% drop_new]"
   ]
  },
  {
   "cell_type": "code",
   "execution_count": 74,
   "metadata": {},
   "outputs": [],
   "source": [
    "df2$variables$alimentos_doces_p025_baixo = pns_design_srvyr$variables$p025\n",
    "df2 <- df2 %>% \n",
    "     mutate(alimentos_doces_p025_baixo = case_when(alimentos_doces_p025_baixo <= 2 ~ 1,\n",
    "                                             alimentos_doces_p025_baixo > 2 ~ 0))"
   ]
  },
  {
   "cell_type": "markdown",
   "metadata": {},
   "source": [
    "* <b>Consumo de frutas(p009):</b> dessa variável, apenas o consumo menor que 4 vezes por semana contribui para o modelo, e por se adequar a regra de reorganização 2, terá a seguinte classificação>\n",
    "\n",
    "Variável    |      Classes anteriores    | Novas Classes    | \n",
    "------------------|-----------------------------------|---------------\n",
    "Consumo de Frutas(p009)| 0, 1, 2, 3, 4, 5, 6 e 7 vezes por semana | 1: >= 4 vezes por semana <br> 0: < 4 vezes por semana "
   ]
  },
  {
   "cell_type": "code",
   "execution_count": 75,
   "metadata": {},
   "outputs": [],
   "source": [
    "drop_new = c('come_frutas_p018.0', 'come_frutas_p018.1', 'come_frutas_p018.2', 'come_frutas_p018.3')\n",
    "df2$variables <- df2$variables[, !colnames(df2$variables) %in% drop_new]"
   ]
  },
  {
   "cell_type": "code",
   "execution_count": 76,
   "metadata": {},
   "outputs": [],
   "source": [
    "df2$variables$come_frutas_p018_alto = pns_design_srvyr$variables$p018\n",
    "df2 <- df2 %>% \n",
    "     mutate(come_frutas_p018_alto = case_when(come_frutas_p018_alto >= 4 ~ 1,\n",
    "                                             come_frutas_p018_alto < 4 ~ 0))"
   ]
  },
  {
   "cell_type": "markdown",
   "metadata": {},
   "source": [
    "* <b>Faixa Etária:</b> dessa variável, todas elas tiveram um resultado negativo. Com o uso da regra 4 de reorganização, e como mostrado nas tabulações a faixa etaria > 50 tem mais chance de ser diabético, então faremos a segunte transformação:\n",
    "\n",
    "Variável    |      Classes anteriores    | Novas Classes    | \n",
    "------------------|-----------------------------------|---------------\n",
    "Faixa Etária | 18, 22, 32, 50 e 60 | 1: > faixa etária de 50 <br> 0: <= faixa etária de 50"
   ]
  },
  {
   "cell_type": "code",
   "execution_count": 77,
   "metadata": {},
   "outputs": [],
   "source": [
    "drop_new = c(\"fxetaria.18\", \"fxetaria.22\", \"fxetaria.32\", \"fxetaria.50\")\n",
    "df2$variables <- df2$variables[, !colnames(df2$variables) %in% drop_new]"
   ]
  },
  {
   "cell_type": "code",
   "execution_count": 78,
   "metadata": {},
   "outputs": [],
   "source": [
    "df2$variables$fxetaria_idoso = pns_design_srvyr$variables$fxetaria\n",
    "df2 <- df2 %>% \n",
    "     mutate(fxetaria_idoso = case_when(fxetaria_idoso == \"60\" ~ 1,\n",
    "                                 fxetaria_idoso == \"50\" | fxetaria_idoso == \"32\" | fxetaria_idoso == \"28\" | fxetaria_idoso == \"12\" | fxetaria_idoso == \"7\" ~ 0))"
   ]
  },
  {
   "cell_type": "code",
   "execution_count": 79,
   "metadata": {},
   "outputs": [],
   "source": [
    "df2$variables = df2$variables[,c(c(1:17), c(19, 20, 21, 18))]"
   ]
  },
  {
   "cell_type": "code",
   "execution_count": 80,
   "metadata": {},
   "outputs": [
    {
     "data": {
      "text/html": [
       "<ol class=list-inline>\n",
       "\t<li>'sexo_c006'</li>\n",
       "\t<li>'pressao_alta_q002'</li>\n",
       "\t<li>'colesterol_alto_q060'</li>\n",
       "\t<li>'avc_q068'</li>\n",
       "\t<li>'cor_raca_c009.1'</li>\n",
       "\t<li>'cor_raca_c009.2'</li>\n",
       "\t<li>'cor_raca_c009.3'</li>\n",
       "\t<li>'cor_raca_c009.4'</li>\n",
       "\t<li>'cor_raca_c009.5'</li>\n",
       "\t<li>'refrigerante_suco_p020.3'</li>\n",
       "\t<li>'substitui_refeicoes_p026.0'</li>\n",
       "\t<li>'substitui_refeicoes_p026.6'</li>\n",
       "\t<li>'bebida_alcoolica_p028.3'</li>\n",
       "\t<li>'imcclass.1'</li>\n",
       "\t<li>'imcclass.3'</li>\n",
       "\t<li>'imcclass.4'</li>\n",
       "\t<li>'imcclass.5'</li>\n",
       "\t<li>'alimentos_doces_p025_baixo'</li>\n",
       "\t<li>'come_frutas_p018_alto'</li>\n",
       "\t<li>'fxetaria_idoso'</li>\n",
       "\t<li>'diagnostico_diabetes_q030.1'</li>\n",
       "</ol>\n"
      ],
      "text/latex": [
       "\\begin{enumerate*}\n",
       "\\item 'sexo\\_c006'\n",
       "\\item 'pressao\\_alta\\_q002'\n",
       "\\item 'colesterol\\_alto\\_q060'\n",
       "\\item 'avc\\_q068'\n",
       "\\item 'cor\\_raca\\_c009.1'\n",
       "\\item 'cor\\_raca\\_c009.2'\n",
       "\\item 'cor\\_raca\\_c009.3'\n",
       "\\item 'cor\\_raca\\_c009.4'\n",
       "\\item 'cor\\_raca\\_c009.5'\n",
       "\\item 'refrigerante\\_suco\\_p020.3'\n",
       "\\item 'substitui\\_refeicoes\\_p026.0'\n",
       "\\item 'substitui\\_refeicoes\\_p026.6'\n",
       "\\item 'bebida\\_alcoolica\\_p028.3'\n",
       "\\item 'imcclass.1'\n",
       "\\item 'imcclass.3'\n",
       "\\item 'imcclass.4'\n",
       "\\item 'imcclass.5'\n",
       "\\item 'alimentos\\_doces\\_p025\\_baixo'\n",
       "\\item 'come\\_frutas\\_p018\\_alto'\n",
       "\\item 'fxetaria\\_idoso'\n",
       "\\item 'diagnostico\\_diabetes\\_q030.1'\n",
       "\\end{enumerate*}\n"
      ],
      "text/markdown": [
       "1. 'sexo_c006'\n",
       "2. 'pressao_alta_q002'\n",
       "3. 'colesterol_alto_q060'\n",
       "4. 'avc_q068'\n",
       "5. 'cor_raca_c009.1'\n",
       "6. 'cor_raca_c009.2'\n",
       "7. 'cor_raca_c009.3'\n",
       "8. 'cor_raca_c009.4'\n",
       "9. 'cor_raca_c009.5'\n",
       "10. 'refrigerante_suco_p020.3'\n",
       "11. 'substitui_refeicoes_p026.0'\n",
       "12. 'substitui_refeicoes_p026.6'\n",
       "13. 'bebida_alcoolica_p028.3'\n",
       "14. 'imcclass.1'\n",
       "15. 'imcclass.3'\n",
       "16. 'imcclass.4'\n",
       "17. 'imcclass.5'\n",
       "18. 'alimentos_doces_p025_baixo'\n",
       "19. 'come_frutas_p018_alto'\n",
       "20. 'fxetaria_idoso'\n",
       "21. 'diagnostico_diabetes_q030.1'\n",
       "\n",
       "\n"
      ],
      "text/plain": [
       " [1] \"sexo_c006\"                   \"pressao_alta_q002\"          \n",
       " [3] \"colesterol_alto_q060\"        \"avc_q068\"                   \n",
       " [5] \"cor_raca_c009.1\"             \"cor_raca_c009.2\"            \n",
       " [7] \"cor_raca_c009.3\"             \"cor_raca_c009.4\"            \n",
       " [9] \"cor_raca_c009.5\"             \"refrigerante_suco_p020.3\"   \n",
       "[11] \"substitui_refeicoes_p026.0\"  \"substitui_refeicoes_p026.6\" \n",
       "[13] \"bebida_alcoolica_p028.3\"     \"imcclass.1\"                 \n",
       "[15] \"imcclass.3\"                  \"imcclass.4\"                 \n",
       "[17] \"imcclass.5\"                  \"alimentos_doces_p025_baixo\" \n",
       "[19] \"come_frutas_p018_alto\"       \"fxetaria_idoso\"             \n",
       "[21] \"diagnostico_diabetes_q030.1\""
      ]
     },
     "metadata": {},
     "output_type": "display_data"
    }
   ],
   "source": [
    "names(df2$variables)"
   ]
  },
  {
   "cell_type": "markdown",
   "metadata": {
    "lines_to_next_cell": 0
   },
   "source": [
    "### Segundo modelo:"
   ]
  },
  {
   "cell_type": "markdown",
   "metadata": {},
   "source": [
    "Sem as variáveis com p_value maior que 0.05 e outras reorganizadas criamos mais um modelo."
   ]
  },
  {
   "cell_type": "code",
   "execution_count": 81,
   "metadata": {},
   "outputs": [
    {
     "name": "stderr",
     "output_type": "stream",
     "text": [
      "Warning message in eval(family$initialize):\n",
      "\"non-integer #successes in a binomial glm!\""
     ]
    },
    {
     "name": "stdout",
     "output_type": "stream",
     "text": [
      "\n",
      "Call:\n",
      "svyglm(formula = as.formula(fla), design = df, family = \"binomial\")\n",
      "\n",
      "Survey design:\n",
      "subset(df, diagnostico_diabetes_q030 != \" \" & diagnostico_diabetes_q030 != \n",
      "    2 & pressao_alta_q002 != \" \" & colesterol_alto_q060 != \" \")\n",
      "\n",
      "Coefficients:\n",
      "                           Estimate Std. Error t value Pr(>|t|)    \n",
      "(Intercept)                -1.14355    0.98712  -1.158 0.246722    \n",
      "sexo_c006                  -0.09413    0.07522  -1.251 0.210860    \n",
      "pressao_alta_q002           1.10187    0.07502  14.687  < 2e-16 ***\n",
      "colesterol_alto_q060        0.77603    0.07347  10.563  < 2e-16 ***\n",
      "avc_q068                    0.44401    0.14775   3.005 0.002667 ** \n",
      "cor_raca_c009.1            -2.73147    0.97429  -2.804 0.005072 ** \n",
      "cor_raca_c009.2            -2.60864    0.98215  -2.656 0.007929 ** \n",
      "cor_raca_c009.3            -2.81335    1.03692  -2.713 0.006685 ** \n",
      "cor_raca_c009.4            -2.81499    0.97517  -2.887 0.003909 ** \n",
      "cor_raca_c009.5            -2.47404    1.04364  -2.371 0.017794 *  \n",
      "refrigerante_suco_p020.3    0.13680    0.15938   0.858 0.390739    \n",
      "substitui_refeicoes_p026.0  0.07801    0.06907   1.129 0.258757    \n",
      "substitui_refeicoes_p026.6 -1.12921    0.43618  -2.589 0.009656 ** \n",
      "bebida_alcoolica_p028.3    -0.99883    0.28547  -3.499 0.000471 ***\n",
      "imcclass.1                 -0.78406    0.48938  -1.602 0.109183    \n",
      "imcclass.3                 -0.73840    0.10773  -6.854 7.98e-12 ***\n",
      "imcclass.4                 -0.47672    0.10542  -4.522 6.25e-06 ***\n",
      "imcclass.5                 -0.19858    0.11487  -1.729 0.083900 .  \n",
      "alimentos_doces_p025_baixo  0.99086    0.08807  11.250  < 2e-16 ***\n",
      "come_frutas_p018_alto       0.29416    0.07147   4.116 3.91e-05 ***\n",
      "fxetaria_idoso              0.98993    0.07409  13.361  < 2e-16 ***\n",
      "---\n",
      "Signif. codes:  0 '***' 0.001 '**' 0.01 '*' 0.05 '.' 0.1 ' ' 1\n",
      "\n",
      "(Dispersion parameter for binomial family taken to be 0.8247498)\n",
      "\n",
      "Number of Fisher Scoring iterations: 6\n",
      "\n"
     ]
    }
   ],
   "source": [
    "model2 <- construir_modelo(df2)\n",
    "\n",
    "print(summary(model2))\n",
    "\n",
    "df_model2 = ordenar_pvalue(model2)"
   ]
  },
  {
   "cell_type": "markdown",
   "metadata": {},
   "source": [
    "### Variáveis com p_value maior que 0.05:"
   ]
  },
  {
   "cell_type": "code",
   "execution_count": 82,
   "metadata": {
    "tags": [
     "remove_input"
    ]
   },
   "outputs": [
    {
     "data": {
      "text/html": [
       "<table>\n",
       "<thead><tr><th></th><th scope=col>keyName</th><th scope=col>value</th><th scope=col>COEFF_ABS</th><th scope=col>p_value</th></tr></thead>\n",
       "<tbody>\n",
       "\t<tr><th scope=row>12</th><td>substitui_refeicoes_p026.0</td><td> 0.07800604               </td><td>0.07800604                </td><td>0.25875736                </td></tr>\n",
       "\t<tr><th scope=row>2</th><td>sexo_c006                 </td><td>-0.09412965               </td><td>0.09412965                </td><td>0.21086046                </td></tr>\n",
       "\t<tr><th scope=row>11</th><td>refrigerante_suco_p020.3  </td><td> 0.13680218               </td><td>0.13680218                </td><td>0.39073870                </td></tr>\n",
       "\t<tr><th scope=row>18</th><td>imcclass.5                </td><td>-0.19858087               </td><td>0.19858087                </td><td>0.08389958                </td></tr>\n",
       "\t<tr><th scope=row>15</th><td>imcclass.1                </td><td>-0.78405633               </td><td>0.78405633                </td><td>0.10918285                </td></tr>\n",
       "\t<tr><th scope=row>1</th><td>(Intercept)               </td><td>-1.14354983               </td><td>1.14354983                </td><td>0.24672212                </td></tr>\n",
       "</tbody>\n",
       "</table>\n"
      ],
      "text/latex": [
       "\\begin{tabular}{r|llll}\n",
       "  & keyName & value & COEFF\\_ABS & p\\_value\\\\\n",
       "\\hline\n",
       "\t12 & substitui\\_refeicoes\\_p026.0 &  0.07800604                    & 0.07800604                     & 0.25875736                    \\\\\n",
       "\t2 & sexo\\_c006                  & -0.09412965                  & 0.09412965                   & 0.21086046                  \\\\\n",
       "\t11 & refrigerante\\_suco\\_p020.3   &  0.13680218                    & 0.13680218                     & 0.39073870                    \\\\\n",
       "\t18 & imcclass.5                 & -0.19858087                & 0.19858087                 & 0.08389958                \\\\\n",
       "\t15 & imcclass.1                 & -0.78405633                & 0.78405633                 & 0.10918285                \\\\\n",
       "\t1 & (Intercept)                & -1.14354983                & 1.14354983                 & 0.24672212                \\\\\n",
       "\\end{tabular}\n"
      ],
      "text/markdown": [
       "\n",
       "| <!--/--> | keyName | value | COEFF_ABS | p_value |\n",
       "|---|---|---|---|---|\n",
       "| 12 | substitui_refeicoes_p026.0 |  0.07800604                | 0.07800604                 | 0.25875736                 |\n",
       "| 2 | sexo_c006                  | -0.09412965                | 0.09412965                 | 0.21086046                 |\n",
       "| 11 | refrigerante_suco_p020.3   |  0.13680218                | 0.13680218                 | 0.39073870                 |\n",
       "| 18 | imcclass.5                 | -0.19858087                | 0.19858087                 | 0.08389958                 |\n",
       "| 15 | imcclass.1                 | -0.78405633                | 0.78405633                 | 0.10918285                 |\n",
       "| 1 | (Intercept)                | -1.14354983                | 1.14354983                 | 0.24672212                 |\n",
       "\n"
      ],
      "text/plain": [
       "   keyName                    value       COEFF_ABS  p_value   \n",
       "12 substitui_refeicoes_p026.0  0.07800604 0.07800604 0.25875736\n",
       "2  sexo_c006                  -0.09412965 0.09412965 0.21086046\n",
       "11 refrigerante_suco_p020.3    0.13680218 0.13680218 0.39073870\n",
       "18 imcclass.5                 -0.19858087 0.19858087 0.08389958\n",
       "15 imcclass.1                 -0.78405633 0.78405633 0.10918285\n",
       "1  (Intercept)                -1.14354983 1.14354983 0.24672212"
      ]
     },
     "metadata": {},
     "output_type": "display_data"
    }
   ],
   "source": [
    "df_model2[df_model2$p_value >= 0.06, ]"
   ]
  },
  {
   "cell_type": "markdown",
   "metadata": {},
   "source": [
    "#### Variáveis que serão removidas\n",
    "\n",
    "* <b>Sexo(p006):</b> variável que será removida do modelo por ter todas suas classes com p_value > 0,05.\n",
    "\n",
    "Outras variáveis terão somente algums de suas classes removidas."
   ]
  },
  {
   "cell_type": "code",
   "execution_count": 83,
   "metadata": {},
   "outputs": [],
   "source": [
    "droplist2 <- df_model2[df_model2$p_value >= 0.06, 1] \n",
    "\n",
    "df3 = df2\n",
    "df3$variables <- df3$variables[, !colnames(df3$variables) %in% droplist2]"
   ]
  },
  {
   "cell_type": "markdown",
   "metadata": {},
   "source": [
    "#### Variáveis reorganizadas"
   ]
  },
  {
   "cell_type": "markdown",
   "metadata": {},
   "source": [
    "Como o comportamento de algumas variáveis mostrou que algumas de suas classes em sequência teve importância para o modelo, elas serão reorganizadas para identificar essa diferenciação:\n",
    "\n",
    "* <b>Consumo de bebidas alcoolicas(p028):</b> dessa variável, apenas os consumos de 3 vezes por semanas está contribuindo para o modelo e com a regra de reorganização 2 iremos alterar para a seguinte classificação:\n",
    "\n",
    "Variável    |      Classes anteriores    | Novas Classes    | \n",
    "------------------|-----------------------------------|---------------\n",
    "  bebida_alcoolica(p028) | 0, 1, 2, 3, 4, 5, 6 e 7 vezes por semana | 1: < 3 vezes por semana <br> 0: >= 3 vezes por semana  \n"
   ]
  },
  {
   "cell_type": "code",
   "execution_count": 84,
   "metadata": {},
   "outputs": [],
   "source": [
    "drop_new = c('bebida_alcoolica_p028.3')\n",
    "df3$variables <- df3$variables[, !colnames(df3$variables) %in% drop_new]"
   ]
  },
  {
   "cell_type": "code",
   "execution_count": 85,
   "metadata": {},
   "outputs": [],
   "source": [
    "df3$variables$bebida_alcoolica_p028_baixo = pns_design_srvyr$variables$p028\n",
    "df3 <- df3 %>% \n",
    "     mutate(bebida_alcoolica_p028_baixo = case_when(bebida_alcoolica_p028_baixo < 3 ~ 1,\n",
    "                                             bebida_alcoolica_p028_baixo >= 3 ~ 0,\n",
    "                                             is.na(bebida_alcoolica_p028_baixo) ~ 1 ))"
   ]
  },
  {
   "cell_type": "markdown",
   "metadata": {},
   "source": [
    "* <b>IMC</b> dessa variável, duas classes estão contribuindo para o modelo, pela regra número 4 de reorganização e pelos estudos médicos indicarem que a partir do IMC 4 as pessoas estão em um grupo de risco, iremos alterar para a seguinte classificação:\n",
    "\n",
    "Variável    |      Classes anteriores    | Novas Classes    | \n",
    "------------------|-----------------------------------|---------------\n",
    "  IMC | 1, 2, 3, 4, 5, 6 e 7 | 1 >= 4 <br> 0 < 4"
   ]
  },
  {
   "cell_type": "code",
   "execution_count": 86,
   "metadata": {},
   "outputs": [],
   "source": [
    "drop_new = c('imcclass.4', \"imcclass.3\")\n",
    "df3$variables <- df3$variables[, !colnames(df3$variables) %in% drop_new]"
   ]
  },
  {
   "cell_type": "code",
   "execution_count": 87,
   "metadata": {},
   "outputs": [],
   "source": [
    "df3$variables$imc_sobrepeso = pns_design_srvyr$variables$imcclass\n",
    "df3 <- df3 %>% \n",
    "     mutate(imc_sobrepeso = case_when(imc_sobrepeso == \"4\" | imc_sobrepeso == \"5\" | imc_sobrepeso == \"6\" | imc_sobrepeso == \"7\" ~ 1,\n",
    "                                 imc_sobrepeso == \"1\" | imc_sobrepeso == \"2\" | imc_sobrepeso == \"3\" ~ 0,\n",
    "                                 is.na(imc_sobrepeso) ~ 0))"
   ]
  },
  {
   "cell_type": "code",
   "execution_count": 88,
   "metadata": {},
   "outputs": [],
   "source": [
    "df3$variables = df3$variables[,c(c(1:12), c(14, 15, 13))]"
   ]
  },
  {
   "cell_type": "code",
   "execution_count": 89,
   "metadata": {},
   "outputs": [
    {
     "data": {
      "text/html": [
       "<ol class=list-inline>\n",
       "\t<li>'pressao_alta_q002'</li>\n",
       "\t<li>'colesterol_alto_q060'</li>\n",
       "\t<li>'avc_q068'</li>\n",
       "\t<li>'cor_raca_c009.1'</li>\n",
       "\t<li>'cor_raca_c009.2'</li>\n",
       "\t<li>'cor_raca_c009.3'</li>\n",
       "\t<li>'cor_raca_c009.4'</li>\n",
       "\t<li>'cor_raca_c009.5'</li>\n",
       "\t<li>'substitui_refeicoes_p026.6'</li>\n",
       "\t<li>'alimentos_doces_p025_baixo'</li>\n",
       "\t<li>'come_frutas_p018_alto'</li>\n",
       "\t<li>'fxetaria_idoso'</li>\n",
       "\t<li>'bebida_alcoolica_p028_baixo'</li>\n",
       "\t<li>'imc_sobrepeso'</li>\n",
       "\t<li>'diagnostico_diabetes_q030.1'</li>\n",
       "</ol>\n"
      ],
      "text/latex": [
       "\\begin{enumerate*}\n",
       "\\item 'pressao\\_alta\\_q002'\n",
       "\\item 'colesterol\\_alto\\_q060'\n",
       "\\item 'avc\\_q068'\n",
       "\\item 'cor\\_raca\\_c009.1'\n",
       "\\item 'cor\\_raca\\_c009.2'\n",
       "\\item 'cor\\_raca\\_c009.3'\n",
       "\\item 'cor\\_raca\\_c009.4'\n",
       "\\item 'cor\\_raca\\_c009.5'\n",
       "\\item 'substitui\\_refeicoes\\_p026.6'\n",
       "\\item 'alimentos\\_doces\\_p025\\_baixo'\n",
       "\\item 'come\\_frutas\\_p018\\_alto'\n",
       "\\item 'fxetaria\\_idoso'\n",
       "\\item 'bebida\\_alcoolica\\_p028\\_baixo'\n",
       "\\item 'imc\\_sobrepeso'\n",
       "\\item 'diagnostico\\_diabetes\\_q030.1'\n",
       "\\end{enumerate*}\n"
      ],
      "text/markdown": [
       "1. 'pressao_alta_q002'\n",
       "2. 'colesterol_alto_q060'\n",
       "3. 'avc_q068'\n",
       "4. 'cor_raca_c009.1'\n",
       "5. 'cor_raca_c009.2'\n",
       "6. 'cor_raca_c009.3'\n",
       "7. 'cor_raca_c009.4'\n",
       "8. 'cor_raca_c009.5'\n",
       "9. 'substitui_refeicoes_p026.6'\n",
       "10. 'alimentos_doces_p025_baixo'\n",
       "11. 'come_frutas_p018_alto'\n",
       "12. 'fxetaria_idoso'\n",
       "13. 'bebida_alcoolica_p028_baixo'\n",
       "14. 'imc_sobrepeso'\n",
       "15. 'diagnostico_diabetes_q030.1'\n",
       "\n",
       "\n"
      ],
      "text/plain": [
       " [1] \"pressao_alta_q002\"           \"colesterol_alto_q060\"       \n",
       " [3] \"avc_q068\"                    \"cor_raca_c009.1\"            \n",
       " [5] \"cor_raca_c009.2\"             \"cor_raca_c009.3\"            \n",
       " [7] \"cor_raca_c009.4\"             \"cor_raca_c009.5\"            \n",
       " [9] \"substitui_refeicoes_p026.6\"  \"alimentos_doces_p025_baixo\" \n",
       "[11] \"come_frutas_p018_alto\"       \"fxetaria_idoso\"             \n",
       "[13] \"bebida_alcoolica_p028_baixo\" \"imc_sobrepeso\"              \n",
       "[15] \"diagnostico_diabetes_q030.1\""
      ]
     },
     "metadata": {},
     "output_type": "display_data"
    }
   ],
   "source": [
    "names(df3$variables)"
   ]
  },
  {
   "cell_type": "markdown",
   "metadata": {},
   "source": [
    "### Terceiro Modelo"
   ]
  },
  {
   "cell_type": "markdown",
   "metadata": {},
   "source": [
    "Sem as variáveis com p_value maior que 0.05 do segundo modelo criamos mais um modelo."
   ]
  },
  {
   "cell_type": "code",
   "execution_count": 107,
   "metadata": {},
   "outputs": [
    {
     "name": "stderr",
     "output_type": "stream",
     "text": [
      "Warning message in eval(family$initialize):\n",
      "\"non-integer #successes in a binomial glm!\""
     ]
    },
    {
     "name": "stdout",
     "output_type": "stream",
     "text": [
      "\n",
      "Call:\n",
      "svyglm(formula = as.formula(fla), design = df, family = \"binomial\")\n",
      "\n",
      "Survey design:\n",
      "subset(df, diagnostico_diabetes_q030 != \" \" & diagnostico_diabetes_q030 != \n",
      "    2 & pressao_alta_q002 != \" \" & colesterol_alto_q060 != \" \")\n",
      "\n",
      "Coefficients:\n",
      "                            Estimate Std. Error t value Pr(>|t|)    \n",
      "(Intercept)                 -2.17691    0.96971  -2.245 0.024814 *  \n",
      "pressao_alta_q002            1.13147    0.07413  15.264  < 2e-16 ***\n",
      "colesterol_alto_q060         0.76273    0.07373  10.345  < 2e-16 ***\n",
      "avc_q068                     0.45811    0.14647   3.128 0.001772 ** \n",
      "cor_raca_c009.1             -2.81873    0.95206  -2.961 0.003083 ** \n",
      "cor_raca_c009.2             -2.67418    0.95867  -2.789 0.005298 ** \n",
      "cor_raca_c009.3             -2.94515    1.01561  -2.900 0.003748 ** \n",
      "cor_raca_c009.4             -2.90565    0.95287  -3.049 0.002304 ** \n",
      "cor_raca_c009.5             -2.56005    1.02152  -2.506 0.012235 *  \n",
      "alimentos_doces_p025_baixo   0.99673    0.08749  11.392  < 2e-16 ***\n",
      "come_frutas_p018_alto        0.27446    0.07396   3.711 0.000208 ***\n",
      "fxetaria_idoso               0.96882    0.07444  13.014  < 2e-16 ***\n",
      "bebida_alcoolica_p028_baixo  0.41537    0.16253   2.556 0.010627 *  \n",
      "imc_sobrepeso                0.39974    0.07019   5.695  1.3e-08 ***\n",
      "---\n",
      "Signif. codes:  0 '***' 0.001 '**' 0.01 '*' 0.05 '.' 0.1 ' ' 1\n",
      "\n",
      "(Dispersion parameter for binomial family taken to be 0.8148912)\n",
      "\n",
      "Number of Fisher Scoring iterations: 6\n",
      "\n"
     ]
    }
   ],
   "source": [
    "model3 <- construir_modelo(df3)\n",
    "\n",
    "print(summary(model3))\n",
    "\n",
    "df_model3 = ordenar_pvalue(model3)"
   ]
  },
  {
   "cell_type": "markdown",
   "metadata": {},
   "source": [
    "### Variáveis com p_value maior que 0.05:\n",
    "\n",
    "Nenhuma variável será removida."
   ]
  },
  {
   "cell_type": "code",
   "execution_count": 108,
   "metadata": {
    "tags": [
     "remove_input"
    ]
   },
   "outputs": [
    {
     "data": {
      "text/html": [
       "<table>\n",
       "<thead><tr><th scope=col>keyName</th><th scope=col>value</th><th scope=col>COEFF_ABS</th><th scope=col>p_value</th></tr></thead>\n",
       "<tbody>\n",
       "</tbody>\n",
       "</table>\n"
      ],
      "text/latex": [
       "\\begin{tabular}{r|llll}\n",
       " keyName & value & COEFF\\_ABS & p\\_value\\\\\n",
       "\\hline\n",
       "\\end{tabular}\n"
      ],
      "text/markdown": [
       "\n",
       "| keyName | value | COEFF_ABS | p_value |\n",
       "|---|---|---|---|\n",
       "\n"
      ],
      "text/plain": [
       "     keyName value COEFF_ABS p_value"
      ]
     },
     "metadata": {},
     "output_type": "display_data"
    }
   ],
   "source": [
    "df_model3[df_model3$p_value >= 0.06, ]"
   ]
  },
  {
   "cell_type": "code",
   "execution_count": 109,
   "metadata": {},
   "outputs": [],
   "source": [
    "droplist3 <- df_model3[df_model3$p_value >= 0.06, 1] \n",
    "\n",
    "df4 = df3\n",
    "df4$variables <- df4$variables[, !colnames(df4$variables) %in% droplist3]"
   ]
  },
  {
   "cell_type": "markdown",
   "metadata": {},
   "source": [
    "#### Variáveis reorganizadas\n",
    "\n",
    "* <b>Substitui refeições por lanche(p026):</b> dessa variável, apenas os consumos de 6 vezes por semanas está contribuindo para o modelo, e com a regra de reorganização 3, iremos alterar para a seguinte classificação:\n",
    "\n",
    "Variável    |      Classes anteriores    | Novas Classes    | \n",
    "------------------|-----------------------------------|---------------\n",
    "  substitui_refeicoes_p026(p026) | 0, 1, 2, 3, 4, 5, 6 e 7 vezes por semana | 1: < 6 vezes por semana <br> 0: > 6 vezes por semana  "
   ]
  },
  {
   "cell_type": "code",
   "execution_count": 110,
   "metadata": {},
   "outputs": [],
   "source": [
    "drop_new = c('substitui_refeicoes_p026.6')\n",
    "df4$variables <- df4$variables[, !colnames(df4$variables) %in% drop_new]"
   ]
  },
  {
   "cell_type": "code",
   "execution_count": 111,
   "metadata": {},
   "outputs": [],
   "source": [
    "df4$variables$substitui_refeicoes_p026_menor6 = pns_design_srvyr$variables$p026\n",
    "df4 <- df4 %>% \n",
    "     mutate(substitui_refeicoes_p026_menor6 = case_when(substitui_refeicoes_p026_menor6 < 6 ~ 1,\n",
    "                                 substitui_refeicoes_p026_menor6 >= 6 ~ 0))"
   ]
  },
  {
   "cell_type": "code",
   "execution_count": 114,
   "metadata": {},
   "outputs": [],
   "source": [
    "df4$variables = df4$variables[,c(c(1:13), c(15, 14))]"
   ]
  },
  {
   "cell_type": "code",
   "execution_count": 115,
   "metadata": {},
   "outputs": [
    {
     "data": {
      "text/html": [
       "<ol class=list-inline>\n",
       "\t<li>'pressao_alta_q002'</li>\n",
       "\t<li>'colesterol_alto_q060'</li>\n",
       "\t<li>'avc_q068'</li>\n",
       "\t<li>'cor_raca_c009.1'</li>\n",
       "\t<li>'cor_raca_c009.2'</li>\n",
       "\t<li>'cor_raca_c009.3'</li>\n",
       "\t<li>'cor_raca_c009.4'</li>\n",
       "\t<li>'cor_raca_c009.5'</li>\n",
       "\t<li>'alimentos_doces_p025_baixo'</li>\n",
       "\t<li>'come_frutas_p018_alto'</li>\n",
       "\t<li>'fxetaria_idoso'</li>\n",
       "\t<li>'bebida_alcoolica_p028_baixo'</li>\n",
       "\t<li>'imc_sobrepeso'</li>\n",
       "\t<li>'substitui_refeicoes_p026_menor6'</li>\n",
       "\t<li>'diagnostico_diabetes_q030.1'</li>\n",
       "</ol>\n"
      ],
      "text/latex": [
       "\\begin{enumerate*}\n",
       "\\item 'pressao\\_alta\\_q002'\n",
       "\\item 'colesterol\\_alto\\_q060'\n",
       "\\item 'avc\\_q068'\n",
       "\\item 'cor\\_raca\\_c009.1'\n",
       "\\item 'cor\\_raca\\_c009.2'\n",
       "\\item 'cor\\_raca\\_c009.3'\n",
       "\\item 'cor\\_raca\\_c009.4'\n",
       "\\item 'cor\\_raca\\_c009.5'\n",
       "\\item 'alimentos\\_doces\\_p025\\_baixo'\n",
       "\\item 'come\\_frutas\\_p018\\_alto'\n",
       "\\item 'fxetaria\\_idoso'\n",
       "\\item 'bebida\\_alcoolica\\_p028\\_baixo'\n",
       "\\item 'imc\\_sobrepeso'\n",
       "\\item 'substitui\\_refeicoes\\_p026\\_menor6'\n",
       "\\item 'diagnostico\\_diabetes\\_q030.1'\n",
       "\\end{enumerate*}\n"
      ],
      "text/markdown": [
       "1. 'pressao_alta_q002'\n",
       "2. 'colesterol_alto_q060'\n",
       "3. 'avc_q068'\n",
       "4. 'cor_raca_c009.1'\n",
       "5. 'cor_raca_c009.2'\n",
       "6. 'cor_raca_c009.3'\n",
       "7. 'cor_raca_c009.4'\n",
       "8. 'cor_raca_c009.5'\n",
       "9. 'alimentos_doces_p025_baixo'\n",
       "10. 'come_frutas_p018_alto'\n",
       "11. 'fxetaria_idoso'\n",
       "12. 'bebida_alcoolica_p028_baixo'\n",
       "13. 'imc_sobrepeso'\n",
       "14. 'substitui_refeicoes_p026_menor6'\n",
       "15. 'diagnostico_diabetes_q030.1'\n",
       "\n",
       "\n"
      ],
      "text/plain": [
       " [1] \"pressao_alta_q002\"               \"colesterol_alto_q060\"           \n",
       " [3] \"avc_q068\"                        \"cor_raca_c009.1\"                \n",
       " [5] \"cor_raca_c009.2\"                 \"cor_raca_c009.3\"                \n",
       " [7] \"cor_raca_c009.4\"                 \"cor_raca_c009.5\"                \n",
       " [9] \"alimentos_doces_p025_baixo\"      \"come_frutas_p018_alto\"          \n",
       "[11] \"fxetaria_idoso\"                  \"bebida_alcoolica_p028_baixo\"    \n",
       "[13] \"imc_sobrepeso\"                   \"substitui_refeicoes_p026_menor6\"\n",
       "[15] \"diagnostico_diabetes_q030.1\"    "
      ]
     },
     "metadata": {},
     "output_type": "display_data"
    }
   ],
   "source": [
    "names(df4$variables)"
   ]
  },
  {
   "cell_type": "markdown",
   "metadata": {},
   "source": [
    "### Quarto Modelo"
   ]
  },
  {
   "cell_type": "markdown",
   "metadata": {},
   "source": [
    "Ultimo modelo criado com todas as variáveis com um p_value menor que 0.05."
   ]
  },
  {
   "cell_type": "code",
   "execution_count": 116,
   "metadata": {},
   "outputs": [
    {
     "name": "stderr",
     "output_type": "stream",
     "text": [
      "Warning message in eval(family$initialize):\n",
      "\"non-integer #successes in a binomial glm!\""
     ]
    },
    {
     "name": "stdout",
     "output_type": "stream",
     "text": [
      "\n",
      "Call:\n",
      "svyglm(formula = as.formula(fla), design = df, family = \"binomial\")\n",
      "\n",
      "Survey design:\n",
      "subset(df, diagnostico_diabetes_q030 != \" \" & diagnostico_diabetes_q030 != \n",
      "    2 & pressao_alta_q002 != \" \" & colesterol_alto_q060 != \" \")\n",
      "\n",
      "Coefficients:\n",
      "                                Estimate Std. Error t value Pr(>|t|)    \n",
      "(Intercept)                     -2.09487    0.98363  -2.130 0.033237 *  \n",
      "pressao_alta_q002                1.13088    0.07422  15.238  < 2e-16 ***\n",
      "colesterol_alto_q060             0.76232    0.07370  10.343  < 2e-16 ***\n",
      "avc_q068                         0.45911    0.14662   3.131 0.001750 ** \n",
      "cor_raca_c009.1                 -2.82371    0.95208  -2.966 0.003032 ** \n",
      "cor_raca_c009.2                 -2.67676    0.95867  -2.792 0.005254 ** \n",
      "cor_raca_c009.3                 -2.94845    1.01543  -2.904 0.003703 ** \n",
      "cor_raca_c009.4                 -2.90881    0.95288  -3.053 0.002279 ** \n",
      "cor_raca_c009.5                 -2.56211    1.02162  -2.508 0.012175 *  \n",
      "alimentos_doces_p025_baixo       1.00034    0.08836  11.321  < 2e-16 ***\n",
      "come_frutas_p018_alto            0.27292    0.07366   3.705 0.000214 ***\n",
      "fxetaria_idoso                   0.96824    0.07456  12.986  < 2e-16 ***\n",
      "bebida_alcoolica_p028_baixo      0.41570    0.16245   2.559 0.010527 *  \n",
      "imc_sobrepeso                    0.39933    0.07014   5.693 1.31e-08 ***\n",
      "substitui_refeicoes_p026_menor6 -0.08351    0.17115  -0.488 0.625618    \n",
      "---\n",
      "Signif. codes:  0 '***' 0.001 '**' 0.01 '*' 0.05 '.' 0.1 ' ' 1\n",
      "\n",
      "(Dispersion parameter for binomial family taken to be 0.8150728)\n",
      "\n",
      "Number of Fisher Scoring iterations: 6\n",
      "\n"
     ]
    }
   ],
   "source": [
    "model4 <- construir_modelo(df4)\n",
    "\n",
    "print(summary(model4))\n",
    "\n",
    "df_model4 = ordenar_pvalue(model4)"
   ]
  },
  {
   "cell_type": "markdown",
   "metadata": {},
   "source": [
    "### Variáveis com p_value maior que 0.05:"
   ]
  },
  {
   "cell_type": "code",
   "execution_count": 120,
   "metadata": {
    "tags": [
     "remove_input"
    ]
   },
   "outputs": [
    {
     "data": {
      "text/html": [
       "<table>\n",
       "<thead><tr><th></th><th scope=col>keyName</th><th scope=col>value</th><th scope=col>COEFF_ABS</th><th scope=col>p_value</th></tr></thead>\n",
       "<tbody>\n",
       "\t<tr><th scope=row>15</th><td>substitui_refeicoes_p026_menor6</td><td>-0.08350878                    </td><td>0.08350878                     </td><td>0.6256179                      </td></tr>\n",
       "</tbody>\n",
       "</table>\n"
      ],
      "text/latex": [
       "\\begin{tabular}{r|llll}\n",
       "  & keyName & value & COEFF\\_ABS & p\\_value\\\\\n",
       "\\hline\n",
       "\t15 & substitui\\_refeicoes\\_p026\\_menor6 & -0.08350878                           & 0.08350878                            & 0.6256179                            \\\\\n",
       "\\end{tabular}\n"
      ],
      "text/markdown": [
       "\n",
       "| <!--/--> | keyName | value | COEFF_ABS | p_value |\n",
       "|---|---|---|---|---|\n",
       "| 15 | substitui_refeicoes_p026_menor6 | -0.08350878                     | 0.08350878                      | 0.6256179                       |\n",
       "\n"
      ],
      "text/plain": [
       "   keyName                         value       COEFF_ABS  p_value  \n",
       "15 substitui_refeicoes_p026_menor6 -0.08350878 0.08350878 0.6256179"
      ]
     },
     "metadata": {},
     "output_type": "display_data"
    }
   ],
   "source": [
    "df_model4[df_model4$p_value >= 0.06, ]"
   ]
  },
  {
   "cell_type": "markdown",
   "metadata": {},
   "source": [
    "#### Variáveis que serão removidas\n",
    "\n",
    "* <b>substitui_refeicoes_p026:</b> variável reorganizada anteriormente, será removida do modelo por ter todas suas classes com p_value > 0,05.\n"
   ]
  },
  {
   "cell_type": "code",
   "execution_count": 121,
   "metadata": {},
   "outputs": [],
   "source": [
    "droplist4 <- df_model4[df_model4$p_value >= 0.06, 1] \n",
    "\n",
    "df5 = df4\n",
    "df5$variables <- df5$variables[, !colnames(df5$variables) %in% droplist4]"
   ]
  },
  {
   "cell_type": "code",
   "execution_count": 122,
   "metadata": {},
   "outputs": [
    {
     "data": {
      "text/html": [
       "<table>\n",
       "<thead><tr><th></th><th scope=col>2.5 %</th><th scope=col>97.5 %</th></tr></thead>\n",
       "<tbody>\n",
       "\t<tr><th scope=row>(Intercept)</th><td>-4.02274094</td><td>-0.1670002 </td></tr>\n",
       "\t<tr><th scope=row>pressao_alta_q002</th><td> 0.98541394</td><td> 1.2763362 </td></tr>\n",
       "\t<tr><th scope=row>colesterol_alto_q060</th><td> 0.61786186</td><td> 0.9067713 </td></tr>\n",
       "\t<tr><th scope=row>avc_q068</th><td> 0.17174055</td><td> 0.7464825 </td></tr>\n",
       "\t<tr><th scope=row>cor_raca_c009.1</th><td>-4.68975364</td><td>-0.9576672 </td></tr>\n",
       "\t<tr><th scope=row>cor_raca_c009.2</th><td>-4.55571056</td><td>-0.7977997 </td></tr>\n",
       "\t<tr><th scope=row>cor_raca_c009.3</th><td>-4.93865703</td><td>-0.9582352 </td></tr>\n",
       "\t<tr><th scope=row>cor_raca_c009.4</th><td>-4.77642616</td><td>-1.0411952 </td></tr>\n",
       "\t<tr><th scope=row>cor_raca_c009.5</th><td>-4.56445790</td><td>-0.5597626 </td></tr>\n",
       "\t<tr><th scope=row>alimentos_doces_p025_baixo</th><td> 0.82715469</td><td> 1.1735325 </td></tr>\n",
       "\t<tr><th scope=row>come_frutas_p018_alto</th><td> 0.12854072</td><td> 0.4172998 </td></tr>\n",
       "\t<tr><th scope=row>fxetaria_idoso</th><td> 0.82210609</td><td> 1.1143649 </td></tr>\n",
       "\t<tr><th scope=row>bebida_alcoolica_p028_baixo</th><td> 0.09729834</td><td> 0.7341057 </td></tr>\n",
       "\t<tr><th scope=row>imc_sobrepeso</th><td> 0.26184674</td><td> 0.5368065 </td></tr>\n",
       "\t<tr><th scope=row>substitui_refeicoes_p026_menor6</th><td>-0.41895373</td><td> 0.2519362 </td></tr>\n",
       "</tbody>\n",
       "</table>\n"
      ],
      "text/latex": [
       "\\begin{tabular}{r|ll}\n",
       "  & 2.5 \\% & 97.5 \\%\\\\\n",
       "\\hline\n",
       "\t(Intercept) & -4.02274094 & -0.1670002 \\\\\n",
       "\tpressao\\_alta\\_q002 &  0.98541394 &  1.2763362 \\\\\n",
       "\tcolesterol\\_alto\\_q060 &  0.61786186 &  0.9067713 \\\\\n",
       "\tavc\\_q068 &  0.17174055 &  0.7464825 \\\\\n",
       "\tcor\\_raca\\_c009.1 & -4.68975364 & -0.9576672 \\\\\n",
       "\tcor\\_raca\\_c009.2 & -4.55571056 & -0.7977997 \\\\\n",
       "\tcor\\_raca\\_c009.3 & -4.93865703 & -0.9582352 \\\\\n",
       "\tcor\\_raca\\_c009.4 & -4.77642616 & -1.0411952 \\\\\n",
       "\tcor\\_raca\\_c009.5 & -4.56445790 & -0.5597626 \\\\\n",
       "\talimentos\\_doces\\_p025\\_baixo &  0.82715469 &  1.1735325 \\\\\n",
       "\tcome\\_frutas\\_p018\\_alto &  0.12854072 &  0.4172998 \\\\\n",
       "\tfxetaria\\_idoso &  0.82210609 &  1.1143649 \\\\\n",
       "\tbebida\\_alcoolica\\_p028\\_baixo &  0.09729834 &  0.7341057 \\\\\n",
       "\timc\\_sobrepeso &  0.26184674 &  0.5368065 \\\\\n",
       "\tsubstitui\\_refeicoes\\_p026\\_menor6 & -0.41895373 &  0.2519362 \\\\\n",
       "\\end{tabular}\n"
      ],
      "text/markdown": [
       "\n",
       "| <!--/--> | 2.5 % | 97.5 % |\n",
       "|---|---|---|\n",
       "| (Intercept) | -4.02274094 | -0.1670002  |\n",
       "| pressao_alta_q002 |  0.98541394 |  1.2763362  |\n",
       "| colesterol_alto_q060 |  0.61786186 |  0.9067713  |\n",
       "| avc_q068 |  0.17174055 |  0.7464825  |\n",
       "| cor_raca_c009.1 | -4.68975364 | -0.9576672  |\n",
       "| cor_raca_c009.2 | -4.55571056 | -0.7977997  |\n",
       "| cor_raca_c009.3 | -4.93865703 | -0.9582352  |\n",
       "| cor_raca_c009.4 | -4.77642616 | -1.0411952  |\n",
       "| cor_raca_c009.5 | -4.56445790 | -0.5597626  |\n",
       "| alimentos_doces_p025_baixo |  0.82715469 |  1.1735325  |\n",
       "| come_frutas_p018_alto |  0.12854072 |  0.4172998  |\n",
       "| fxetaria_idoso |  0.82210609 |  1.1143649  |\n",
       "| bebida_alcoolica_p028_baixo |  0.09729834 |  0.7341057  |\n",
       "| imc_sobrepeso |  0.26184674 |  0.5368065  |\n",
       "| substitui_refeicoes_p026_menor6 | -0.41895373 |  0.2519362  |\n",
       "\n"
      ],
      "text/plain": [
       "                                2.5 %       97.5 %    \n",
       "(Intercept)                     -4.02274094 -0.1670002\n",
       "pressao_alta_q002                0.98541394  1.2763362\n",
       "colesterol_alto_q060             0.61786186  0.9067713\n",
       "avc_q068                         0.17174055  0.7464825\n",
       "cor_raca_c009.1                 -4.68975364 -0.9576672\n",
       "cor_raca_c009.2                 -4.55571056 -0.7977997\n",
       "cor_raca_c009.3                 -4.93865703 -0.9582352\n",
       "cor_raca_c009.4                 -4.77642616 -1.0411952\n",
       "cor_raca_c009.5                 -4.56445790 -0.5597626\n",
       "alimentos_doces_p025_baixo       0.82715469  1.1735325\n",
       "come_frutas_p018_alto            0.12854072  0.4172998\n",
       "fxetaria_idoso                   0.82210609  1.1143649\n",
       "bebida_alcoolica_p028_baixo      0.09729834  0.7341057\n",
       "imc_sobrepeso                    0.26184674  0.5368065\n",
       "substitui_refeicoes_p026_menor6 -0.41895373  0.2519362"
      ]
     },
     "metadata": {},
     "output_type": "display_data"
    }
   ],
   "source": [
    "confint(model4)"
   ]
  },
  {
   "cell_type": "code",
   "execution_count": 123,
   "metadata": {},
   "outputs": [],
   "source": [
    "drop_new = c('cor_raca_c009.1', 'cor_raca_c009.2', 'cor_raca_c009.3', 'cor_raca_c009.4', 'cor_raca_c009.5')\n",
    "df5$variables <- df5$variables[, !colnames(df5$variables) %in% drop_new]"
   ]
  },
  {
   "cell_type": "markdown",
   "metadata": {},
   "source": [
    "### Quinto Modelo"
   ]
  },
  {
   "cell_type": "markdown",
   "metadata": {},
   "source": [
    "Quinto modelo criado com todas as variáveis com um p_value menor que 0.05."
   ]
  },
  {
   "cell_type": "code",
   "execution_count": 124,
   "metadata": {},
   "outputs": [
    {
     "name": "stderr",
     "output_type": "stream",
     "text": [
      "Warning message in eval(family$initialize):\n",
      "\"non-integer #successes in a binomial glm!\""
     ]
    },
    {
     "name": "stdout",
     "output_type": "stream",
     "text": [
      "\n",
      "Call:\n",
      "svyglm(formula = as.formula(fla), design = df, family = \"binomial\")\n",
      "\n",
      "Survey design:\n",
      "subset(df, diagnostico_diabetes_q030 != \" \" & diagnostico_diabetes_q030 != \n",
      "    2 & pressao_alta_q002 != \" \" & colesterol_alto_q060 != \" \")\n",
      "\n",
      "Coefficients:\n",
      "                            Estimate Std. Error t value Pr(>|t|)    \n",
      "(Intercept)                 -5.00273    0.18618 -26.871  < 2e-16 ***\n",
      "pressao_alta_q002            1.13382    0.07435  15.249  < 2e-16 ***\n",
      "colesterol_alto_q060         0.75753    0.07402  10.234  < 2e-16 ***\n",
      "avc_q068                     0.45510    0.14680   3.100  0.00194 ** \n",
      "alimentos_doces_p025_baixo   0.99297    0.08725  11.381  < 2e-16 ***\n",
      "come_frutas_p018_alto        0.27748    0.07376   3.762  0.00017 ***\n",
      "fxetaria_idoso               0.97297    0.07414  13.124  < 2e-16 ***\n",
      "bebida_alcoolica_p028_baixo  0.40280    0.16121   2.499  0.01250 *  \n",
      "imc_sobrepeso                0.40028    0.07011   5.709  1.2e-08 ***\n",
      "---\n",
      "Signif. codes:  0 '***' 0.001 '**' 0.01 '*' 0.05 '.' 0.1 ' ' 1\n",
      "\n",
      "(Dispersion parameter for binomial family taken to be 0.8114033)\n",
      "\n",
      "Number of Fisher Scoring iterations: 6\n",
      "\n"
     ]
    }
   ],
   "source": [
    "model5 <- construir_modelo(df5)\n",
    "\n",
    "print(summary(model5))\n",
    "\n",
    "df_model5 = ordenar_pvalue(model5)"
   ]
  },
  {
   "cell_type": "code",
   "execution_count": 125,
   "metadata": {},
   "outputs": [
    {
     "data": {
      "text/html": [
       "<dl class=dl-horizontal>\n",
       "\t<dt>(Intercept)</dt>\n",
       "\t\t<dd>0.00671959246536387</dd>\n",
       "\t<dt>pressao_alta_q002</dt>\n",
       "\t\t<dd>3.10749345616183</dd>\n",
       "\t<dt>colesterol_alto_q060</dt>\n",
       "\t\t<dd>2.13300561458035</dd>\n",
       "\t<dt>avc_q068</dt>\n",
       "\t\t<dd>1.57633241344036</dd>\n",
       "\t<dt>alimentos_doces_p025_baixo</dt>\n",
       "\t\t<dd>2.69923009478957</dd>\n",
       "\t<dt>come_frutas_p018_alto</dt>\n",
       "\t\t<dd>1.3197996373623</dd>\n",
       "\t<dt>fxetaria_idoso</dt>\n",
       "\t\t<dd>2.64578691113921</dd>\n",
       "\t<dt>bebida_alcoolica_p028_baixo</dt>\n",
       "\t\t<dd>1.49601037119045</dd>\n",
       "\t<dt>imc_sobrepeso</dt>\n",
       "\t\t<dd>1.49223675080894</dd>\n",
       "</dl>\n"
      ],
      "text/latex": [
       "\\begin{description*}\n",
       "\\item[(Intercept)] 0.00671959246536387\n",
       "\\item[pressao\\textbackslash{}\\_alta\\textbackslash{}\\_q002] 3.10749345616183\n",
       "\\item[colesterol\\textbackslash{}\\_alto\\textbackslash{}\\_q060] 2.13300561458035\n",
       "\\item[avc\\textbackslash{}\\_q068] 1.57633241344036\n",
       "\\item[alimentos\\textbackslash{}\\_doces\\textbackslash{}\\_p025\\textbackslash{}\\_baixo] 2.69923009478957\n",
       "\\item[come\\textbackslash{}\\_frutas\\textbackslash{}\\_p018\\textbackslash{}\\_alto] 1.3197996373623\n",
       "\\item[fxetaria\\textbackslash{}\\_idoso] 2.64578691113921\n",
       "\\item[bebida\\textbackslash{}\\_alcoolica\\textbackslash{}\\_p028\\textbackslash{}\\_baixo] 1.49601037119045\n",
       "\\item[imc\\textbackslash{}\\_sobrepeso] 1.49223675080894\n",
       "\\end{description*}\n"
      ],
      "text/markdown": [
       "(Intercept)\n",
       ":   0.00671959246536387pressao_alta_q002\n",
       ":   3.10749345616183colesterol_alto_q060\n",
       ":   2.13300561458035avc_q068\n",
       ":   1.57633241344036alimentos_doces_p025_baixo\n",
       ":   2.69923009478957come_frutas_p018_alto\n",
       ":   1.3197996373623fxetaria_idoso\n",
       ":   2.64578691113921bebida_alcoolica_p028_baixo\n",
       ":   1.49601037119045imc_sobrepeso\n",
       ":   1.49223675080894\n",
       "\n"
      ],
      "text/plain": [
       "                (Intercept)           pressao_alta_q002 \n",
       "                0.006719592                 3.107493456 \n",
       "       colesterol_alto_q060                    avc_q068 \n",
       "                2.133005615                 1.576332413 \n",
       " alimentos_doces_p025_baixo       come_frutas_p018_alto \n",
       "                2.699230095                 1.319799637 \n",
       "             fxetaria_idoso bebida_alcoolica_p028_baixo \n",
       "                2.645786911                 1.496010371 \n",
       "              imc_sobrepeso \n",
       "                1.492236751 "
      ]
     },
     "metadata": {},
     "output_type": "display_data"
    }
   ],
   "source": [
    "exp(coef(model5))"
   ]
  },
  {
   "cell_type": "markdown",
   "metadata": {},
   "source": [
    "#### Variáveis que ficaram no modelo:"
   ]
  },
  {
   "cell_type": "code",
   "execution_count": 126,
   "metadata": {},
   "outputs": [
    {
     "data": {
      "text/html": [
       "<table>\n",
       "<thead><tr><th></th><th scope=col>keyName</th><th scope=col>value</th><th scope=col>COEFF_ABS</th><th scope=col>p_value</th></tr></thead>\n",
       "<tbody>\n",
       "\t<tr><th scope=row>6</th><td>come_frutas_p018_alto      </td><td> 0.2774799                 </td><td>0.2774799                  </td><td> 1.702583e-04              </td></tr>\n",
       "\t<tr><th scope=row>9</th><td>imc_sobrepeso              </td><td> 0.4002762                 </td><td>0.4002762                  </td><td> 1.195454e-08              </td></tr>\n",
       "\t<tr><th scope=row>8</th><td>bebida_alcoolica_p028_baixo</td><td> 0.4028018                 </td><td>0.4028018                  </td><td> 1.249705e-02              </td></tr>\n",
       "\t<tr><th scope=row>4</th><td>avc_q068                   </td><td> 0.4551009                 </td><td>0.4551009                  </td><td> 1.944095e-03              </td></tr>\n",
       "\t<tr><th scope=row>3</th><td>colesterol_alto_q060       </td><td> 0.7575321                 </td><td>0.7575321                  </td><td> 2.325405e-24              </td></tr>\n",
       "\t<tr><th scope=row>7</th><td>fxetaria_idoso             </td><td> 0.9729685                 </td><td>0.9729685                  </td><td> 9.268475e-39              </td></tr>\n",
       "\t<tr><th scope=row>5</th><td>alimentos_doces_p025_baixo </td><td> 0.9929666                 </td><td>0.9929666                  </td><td> 1.119818e-29              </td></tr>\n",
       "\t<tr><th scope=row>2</th><td>pressao_alta_q002          </td><td> 1.1338164                 </td><td>1.1338164                  </td><td> 1.898035e-51              </td></tr>\n",
       "\t<tr><th scope=row>1</th><td>(Intercept)                </td><td>-5.0027278                 </td><td>5.0027278                  </td><td>1.804742e-149              </td></tr>\n",
       "</tbody>\n",
       "</table>\n"
      ],
      "text/latex": [
       "\\begin{tabular}{r|llll}\n",
       "  & keyName & value & COEFF\\_ABS & p\\_value\\\\\n",
       "\\hline\n",
       "\t6 & come\\_frutas\\_p018\\_alto       &  0.2774799                        & 0.2774799                         &  1.702583e-04                    \\\\\n",
       "\t9 & imc\\_sobrepeso               &  0.4002762                    & 0.4002762                     &  1.195454e-08                \\\\\n",
       "\t8 & bebida\\_alcoolica\\_p028\\_baixo &  0.4028018                        & 0.4028018                         &  1.249705e-02                    \\\\\n",
       "\t4 & avc\\_q068                    &  0.4551009                    & 0.4551009                     &  1.944095e-03                \\\\\n",
       "\t3 & colesterol\\_alto\\_q060        &  0.7575321                      & 0.7575321                       &  2.325405e-24                  \\\\\n",
       "\t7 & fxetaria\\_idoso              &  0.9729685                    & 0.9729685                     &  9.268475e-39                \\\\\n",
       "\t5 & alimentos\\_doces\\_p025\\_baixo  &  0.9929666                        & 0.9929666                         &  1.119818e-29                    \\\\\n",
       "\t2 & pressao\\_alta\\_q002           &  1.1338164                      & 1.1338164                       &  1.898035e-51                  \\\\\n",
       "\t1 & (Intercept)                 & -5.0027278                  & 5.0027278                   & 1.804742e-149              \\\\\n",
       "\\end{tabular}\n"
      ],
      "text/markdown": [
       "\n",
       "| <!--/--> | keyName | value | COEFF_ABS | p_value |\n",
       "|---|---|---|---|---|\n",
       "| 6 | come_frutas_p018_alto       |  0.2774799                  | 0.2774799                   |  1.702583e-04               |\n",
       "| 9 | imc_sobrepeso               |  0.4002762                  | 0.4002762                   |  1.195454e-08               |\n",
       "| 8 | bebida_alcoolica_p028_baixo |  0.4028018                  | 0.4028018                   |  1.249705e-02               |\n",
       "| 4 | avc_q068                    |  0.4551009                  | 0.4551009                   |  1.944095e-03               |\n",
       "| 3 | colesterol_alto_q060        |  0.7575321                  | 0.7575321                   |  2.325405e-24               |\n",
       "| 7 | fxetaria_idoso              |  0.9729685                  | 0.9729685                   |  9.268475e-39               |\n",
       "| 5 | alimentos_doces_p025_baixo  |  0.9929666                  | 0.9929666                   |  1.119818e-29               |\n",
       "| 2 | pressao_alta_q002           |  1.1338164                  | 1.1338164                   |  1.898035e-51               |\n",
       "| 1 | (Intercept)                 | -5.0027278                  | 5.0027278                   | 1.804742e-149               |\n",
       "\n"
      ],
      "text/plain": [
       "  keyName                     value      COEFF_ABS p_value      \n",
       "6 come_frutas_p018_alto        0.2774799 0.2774799  1.702583e-04\n",
       "9 imc_sobrepeso                0.4002762 0.4002762  1.195454e-08\n",
       "8 bebida_alcoolica_p028_baixo  0.4028018 0.4028018  1.249705e-02\n",
       "4 avc_q068                     0.4551009 0.4551009  1.944095e-03\n",
       "3 colesterol_alto_q060         0.7575321 0.7575321  2.325405e-24\n",
       "7 fxetaria_idoso               0.9729685 0.9729685  9.268475e-39\n",
       "5 alimentos_doces_p025_baixo   0.9929666 0.9929666  1.119818e-29\n",
       "2 pressao_alta_q002            1.1338164 1.1338164  1.898035e-51\n",
       "1 (Intercept)                 -5.0027278 5.0027278 1.804742e-149"
      ]
     },
     "metadata": {},
     "output_type": "display_data"
    }
   ],
   "source": [
    "df_model5"
   ]
  },
  {
   "cell_type": "markdown",
   "metadata": {},
   "source": [
    "## Conclusão do modelo:\n",
    "\n",
    "Com os dados da PNS, feito em âmbito nacional, não é possível a criação de um modelo preditivo já que não temos os dados históricos das pessoas. \n",
    "\n",
    "Das variáveis utilizadas temos um modelo que demonstra o comportamento dos diabéticos no Brasil, observando como as pessoas estão se abstendo de hábitos considerados prejudiciais:\n",
    "\n",
    "* <b>Consumo de Frutas(p018):</b>  variável que indica o consumo de frutas por semana, ela foi reoganizada anteriormente para que o consumo maior ou igual a quatro vezes por semana ficasse com valor 1, e menor que 4 igual a 0. Seu coeficiente indica que os diabéticos tendem a consomir mais frutas, um sinal de um estilo de vida mais regrado.\n",
    "* <b>IMC:</b> variável que indica  índice de massa corporal para determinar se uma pessoa está com seu peso ideal. No modelo os valores 3(normal) e 4(sobrepeso) foram os únicos que ficaram dessa variável, então ela foi reorganizada para que valores acima ou igual a 4 seja 1 e abaixo seja 0. Com essa configuração o coeficiente ficou positivo, mostrando a tendência de pessoas diabéticas terem maior sobrepeso. \n",
    "* <b>Diagnóstico de AVC(q068):</b> variável que indica se uma pessoa já teve um AVC, tendo seu coeficiente positivo é um sinal de que os diabéticos também pode ter sofrido com esse problema.\n",
    "* <b>Consumo de Bebidas Alcoólicas(p028):</b> variável que indica o consumo de bebidas alcoólicas por semana. Ela foi reorganizada para que valores menores que 3 vezes por semana seja 1 e maiores ou iguais a 3 seja 0. Com o coeficiente positivo, as pessoas com diagnóstico de diabetes tendem a consumir menos bebidas alcoólicas, uma tendência junto a outros hábitos considerados prejudiciais.\n",
    "* <b>Colesterol Alto(q060):</b> variável que indica o diagnóstico de colesterol alto, sendo um problema decorrente da alimentação e o estilo de vida, e tendo um coeficiente positivo, é mais um ponto que pode ser indicador de diabéticos.\n",
    "* <b>Faixa Etária:</b> variável que indica a divisão da população pela idade, e foi reoganizada pela análise da proporção de diabéticos por esse valor e pelo aumento da probabilidade de ser diabético com o aumento da idade. Na nova classificação o valor 1 indica pessoas na faixa de 60+, e com o coeficiente positivo essa população mostrou estar em uma faixa de risco.\n",
    "* <b>Consumo de alimentos doces(p025):</b> variável de comportamento alimentar das pessoas, ela foi reorganizada para que valores menor ou igual a 2 vezes por semana fosse 1. Por ser um fator de constante atenção de suas vidas, os diabéticos tendem a consumir menos alimentos doces após seu diagnóstico. Pelo comportento da variável, o coeficiente ficou positivo e mostrou que os diabéticos tendem a comer menos doces.\n",
    "* <b>Pressão Alta(q002):</b> diagnóstico de hipertensão, uma doença que pode ser adquirida a partir de hábitos de vida do indivíduo e contém um coeficiente positivo, indicando uma maior probabilidade da pessoa ser diabética.\n",
    "* <b>Cor/Raça(c009):</b> variável indicando a cor das pessoas, com os coeficientes negativos elas não têm diferenças significantes entre elas. \n",
    "\n",
    "Com esse modelo conseguimos entender um padrão de vida das pessoas com diagnóstico de diabetes. Elas tentem a ter um comportamentos mais saudáveis em relação ao consumo de alimentos, principalmente os doces. Por essa doença estar ligada a comportamentos históricos não muito saudáveis, ver que indicadores de um estilo de vida menos prejudicial mostra que a população sabe do seu risco e as recomendações médicas estão sendo seguidas. \n",
    "\n",
    "### TODO\n",
    "\n",
    "* Plot de pessoas que já ficou grávida, dividido em diabeticos e nao diabeticos.\n",
    "* Definir o que fazer com a variável de cor/raça\n",
    "* Análise das pessoas que nunca fizeram exame de sangue e gerar uma estimativa das pessoas em risco de ter a doença. Fazer com base no algoritmo de conduta terapêutica no diabetes tipo 2: https://www.diabetes.org.br/publico/images/pdf/sbd_dm2_2019_2.pdf\n",
    "\n",
    "\n",
    "Obs: Na primeira versão do modelo tinhamos colocado a variável r039(indicada se a pessoa já ficou grávida). Como o resultado do coeficiente negativo não batia com os estudos que realizamos sobre o tema, fizemos uma análise de como a essa população estava se comportando com o diagnóstico de diabetes. No tópico de tabulações 'Variável já ficou gravida(r039)', temos algumas tabelas que indicam as pessoas que já ficaram grávidas e sua taxa de diabéticos, que são de cerca de 3%, nas pessoas que nunca ficaram grávida a taxa de diabéticos é de menos que 2%. Com a taxa de diabéticos no sexo feminino sendo de 7% esses números indicam uma subnotificação das pessoas que já ficaram grávida. Ao olhar no questionário existe uma regra para que essa pergunta seja respondida, que são mulheres com menos de 50 anos, criando um viez muito grande sobre seu resultado, não correspondendo com a totalidade da população feminina. Com isso temos essa versão do modelo sem a variável r039."
   ]
  },
  {
   "cell_type": "markdown",
   "metadata": {},
   "source": [
    "* Q04601 Em algum dos atendimentos para diabetes, algum médico ou outro profissional de saúde lhe recomendou manter uma alimentação saudável (com frutas  vegetais)?\n",
    "* Q04603 Em algum dos atendimentos para diabetes, algum médico ou outro profissional de saúde lhe recomendou praticar atividade física regular?\n",
    "* Q04604 Em algum dos atendimentos para diabetes, algum médico ou outro profissional de saúde lhe recomendou não fumar?\n",
    "* Q04605 Em algum dos atendimentos para diabetes, algum médico ou outro profissional de saúde lhe recomendou não beber em excesso?"
   ]
  },
  {
   "cell_type": "markdown",
   "metadata": {},
   "source": [
    "## Análise do grupo de risco"
   ]
  },
  {
   "cell_type": "markdown",
   "metadata": {},
   "source": [
    "* Análise das pessoas que nunca fizeram exame de sangue e gerar uma estimativa das pessoas em risco de ter a doença. Fazer com base no algoritmo de conduta terapêutica no diabetes tipo 2: https://www.diabetes.org.br/publico/images/pdf/sbd_dm2_2019_2.pdf\n",
    "\n",
    "Desse algoritmo, atribuiremos os pontos apresentados na página 10. De todas as variáveis utilizadas, somente a pergunta 4. \"Você tem mãe, pai, um irmão ou uma irmã com diabetes?\" não foi possível ser preenchida com a PNS."
   ]
  },
  {
   "cell_type": "code",
   "execution_count": 12,
   "metadata": {},
   "outputs": [],
   "source": [
    "df_analise = pns_design_srvyr[ ,c(\"c006\", \"fxetaria\", \"imcclass\", \"v0001\", \"w00203\", \"w00103\", \"idade\", \"c006\", \"q030\", \"q002\", \"p035\", \"q029\")]\n",
    "names(df_analise$variables) = c(\"genero_c006\", \"fxetaria\", \"imcclass\", \"estados_v0001\", \"altura_w00203\", \"peso_w00103\", \"idade_c008\", \"sexo_c006\", \"diag_diabetes_q030\", \"pressao_alta_q002\", \"ativ_fisica_p035\", \"exame_diab_q029\")\n",
    "df_analise = subset(df_analise, (!is.na(altura_w00203)))"
   ]
  },
  {
   "cell_type": "code",
   "execution_count": 13,
   "metadata": {},
   "outputs": [],
   "source": [
    "df_risco = read.csv(\"risco_diabetes.csv\")"
   ]
  },
  {
   "cell_type": "code",
   "execution_count": 14,
   "metadata": {},
   "outputs": [],
   "source": [
    "df_risco_show = df_risco\n",
    "df_risco_show = within(df_risco_show,  V1 <- paste(X1_maior.igual, X1_menor.igual, sep=\"-\"))\n",
    "df_risco_show = within(df_risco_show,  V2 <- paste(X2_maior.igual, X2_menor.igual, sep=\"-\"))\n",
    "df_risco_show = within(df_risco_show,  V3 <- paste(X3_maior.igual, \"+\",sep=\"\"))\n",
    "df_risco_show = df_risco_show[c(\"altura\", \"V1\", \"V2\", \"V3\")]"
   ]
  },
  {
   "cell_type": "markdown",
   "metadata": {},
   "source": [
    "Tabela do Conduta terapêutica no Diabetes:"
   ]
  },
  {
   "cell_type": "code",
   "execution_count": 15,
   "metadata": {},
   "outputs": [
    {
     "data": {
      "text/html": [
       "<table>\n",
       "<thead><tr><th scope=col>altura</th><th scope=col>V1</th><th scope=col>V2</th><th scope=col>V3</th></tr></thead>\n",
       "<tbody>\n",
       "\t<tr><td>1.47   </td><td>54-64  </td><td>65-86  </td><td>87+    </td></tr>\n",
       "\t<tr><td>1.50   </td><td>56-67  </td><td>67-89  </td><td>90+    </td></tr>\n",
       "\t<tr><td>1.52   </td><td>58-69  </td><td>69-92  </td><td>93+    </td></tr>\n",
       "\t<tr><td>1.55   </td><td>60-71  </td><td>72-95  </td><td>96+    </td></tr>\n",
       "\t<tr><td>1.57   </td><td>62-74  </td><td>74-98  </td><td>99+    </td></tr>\n",
       "\t<tr><td>1.60   </td><td>64-76  </td><td>77-102 </td><td>102+   </td></tr>\n",
       "\t<tr><td>1.63   </td><td>66-78  </td><td>79-105 </td><td>105+   </td></tr>\n",
       "\t<tr><td>1.65   </td><td>68-81  </td><td>82-108 </td><td>109+   </td></tr>\n",
       "\t<tr><td>1.68   </td><td>70-84  </td><td>84-112 </td><td>112+   </td></tr>\n",
       "\t<tr><td>1.70   </td><td>72-86  </td><td>87-115 </td><td>116+   </td></tr>\n",
       "\t<tr><td>1.73   </td><td>74-89  </td><td>89-118 </td><td>119+   </td></tr>\n",
       "\t<tr><td>1.75   </td><td>77-92  </td><td>92-122 </td><td>122+   </td></tr>\n",
       "\t<tr><td>1.78   </td><td>79-94  </td><td>95-126 </td><td>126+   </td></tr>\n",
       "\t<tr><td>1.80   </td><td>81-97  </td><td>98-129 </td><td>130+   </td></tr>\n",
       "\t<tr><td>1.83   </td><td>83-100 </td><td>100-133</td><td>133+   </td></tr>\n",
       "\t<tr><td>1.85   </td><td>86-103 </td><td>103-137</td><td>137+   </td></tr>\n",
       "\t<tr><td>1.88   </td><td>88-105 </td><td>106-141</td><td>141+   </td></tr>\n",
       "\t<tr><td>1.91   </td><td>91-108 </td><td>109-144</td><td>144+   </td></tr>\n",
       "\t<tr><td>1.93   </td><td>93-111 </td><td>112-148</td><td>149+   </td></tr>\n",
       "</tbody>\n",
       "</table>\n"
      ],
      "text/latex": [
       "\\begin{tabular}{r|llll}\n",
       " altura & V1 & V2 & V3\\\\\n",
       "\\hline\n",
       "\t 1.47    & 54-64   & 65-86   & 87+    \\\\\n",
       "\t 1.50    & 56-67   & 67-89   & 90+    \\\\\n",
       "\t 1.52    & 58-69   & 69-92   & 93+    \\\\\n",
       "\t 1.55    & 60-71   & 72-95   & 96+    \\\\\n",
       "\t 1.57    & 62-74   & 74-98   & 99+    \\\\\n",
       "\t 1.60    & 64-76   & 77-102  & 102+   \\\\\n",
       "\t 1.63    & 66-78   & 79-105  & 105+   \\\\\n",
       "\t 1.65    & 68-81   & 82-108  & 109+   \\\\\n",
       "\t 1.68    & 70-84   & 84-112  & 112+   \\\\\n",
       "\t 1.70    & 72-86   & 87-115  & 116+   \\\\\n",
       "\t 1.73    & 74-89   & 89-118  & 119+   \\\\\n",
       "\t 1.75    & 77-92   & 92-122  & 122+   \\\\\n",
       "\t 1.78    & 79-94   & 95-126  & 126+   \\\\\n",
       "\t 1.80    & 81-97   & 98-129  & 130+   \\\\\n",
       "\t 1.83    & 83-100  & 100-133 & 133+   \\\\\n",
       "\t 1.85    & 86-103  & 103-137 & 137+   \\\\\n",
       "\t 1.88    & 88-105  & 106-141 & 141+   \\\\\n",
       "\t 1.91    & 91-108  & 109-144 & 144+   \\\\\n",
       "\t 1.93    & 93-111  & 112-148 & 149+   \\\\\n",
       "\\end{tabular}\n"
      ],
      "text/markdown": [
       "\n",
       "| altura | V1 | V2 | V3 |\n",
       "|---|---|---|---|\n",
       "| 1.47    | 54-64   | 65-86   | 87+     |\n",
       "| 1.50    | 56-67   | 67-89   | 90+     |\n",
       "| 1.52    | 58-69   | 69-92   | 93+     |\n",
       "| 1.55    | 60-71   | 72-95   | 96+     |\n",
       "| 1.57    | 62-74   | 74-98   | 99+     |\n",
       "| 1.60    | 64-76   | 77-102  | 102+    |\n",
       "| 1.63    | 66-78   | 79-105  | 105+    |\n",
       "| 1.65    | 68-81   | 82-108  | 109+    |\n",
       "| 1.68    | 70-84   | 84-112  | 112+    |\n",
       "| 1.70    | 72-86   | 87-115  | 116+    |\n",
       "| 1.73    | 74-89   | 89-118  | 119+    |\n",
       "| 1.75    | 77-92   | 92-122  | 122+    |\n",
       "| 1.78    | 79-94   | 95-126  | 126+    |\n",
       "| 1.80    | 81-97   | 98-129  | 130+    |\n",
       "| 1.83    | 83-100  | 100-133 | 133+    |\n",
       "| 1.85    | 86-103  | 103-137 | 137+    |\n",
       "| 1.88    | 88-105  | 106-141 | 141+    |\n",
       "| 1.91    | 91-108  | 109-144 | 144+    |\n",
       "| 1.93    | 93-111  | 112-148 | 149+    |\n",
       "\n"
      ],
      "text/plain": [
       "   altura V1     V2      V3  \n",
       "1  1.47   54-64  65-86   87+ \n",
       "2  1.50   56-67  67-89   90+ \n",
       "3  1.52   58-69  69-92   93+ \n",
       "4  1.55   60-71  72-95   96+ \n",
       "5  1.57   62-74  74-98   99+ \n",
       "6  1.60   64-76  77-102  102+\n",
       "7  1.63   66-78  79-105  105+\n",
       "8  1.65   68-81  82-108  109+\n",
       "9  1.68   70-84  84-112  112+\n",
       "10 1.70   72-86  87-115  116+\n",
       "11 1.73   74-89  89-118  119+\n",
       "12 1.75   77-92  92-122  122+\n",
       "13 1.78   79-94  95-126  126+\n",
       "14 1.80   81-97  98-129  130+\n",
       "15 1.83   83-100 100-133 133+\n",
       "16 1.85   86-103 103-137 137+\n",
       "17 1.88   88-105 106-141 141+\n",
       "18 1.91   91-108 109-144 144+\n",
       "19 1.93   93-111 112-148 149+"
      ]
     },
     "metadata": {},
     "output_type": "display_data"
    }
   ],
   "source": [
    "df_risco_show"
   ]
  },
  {
   "cell_type": "code",
   "execution_count": 16,
   "metadata": {},
   "outputs": [],
   "source": [
    "# W00203 altura\n",
    "# W00103 peso\n",
    "# 1 c008 idade\n",
    "# 2 c006 sexo\n",
    "# 3 q030 diagnostico diabetes - 2\n",
    "# 4 mãe ou pai com diabetes\n",
    "# 5 q002 pressão alta\n",
    "# 6 fisicamente ativos\n",
    "# 7 tabela"
   ]
  },
  {
   "cell_type": "code",
   "execution_count": 17,
   "metadata": {},
   "outputs": [
    {
     "data": {
      "text/html": [
       "<table>\n",
       "<thead><tr><th scope=col>diag_diabetes_q030</th><th scope=col>Freq</th></tr></thead>\n",
       "<tbody>\n",
       "\t<tr><td>         </td><td> 16752433</td></tr>\n",
       "\t<tr><td>1        </td><td>  9107957</td></tr>\n",
       "\t<tr><td>2        </td><td>   332557</td></tr>\n",
       "\t<tr><td>3        </td><td>118652344</td></tr>\n",
       "</tbody>\n",
       "</table>\n"
      ],
      "text/latex": [
       "\\begin{tabular}{r|ll}\n",
       " diag\\_diabetes\\_q030 & Freq\\\\\n",
       "\\hline\n",
       "\t           &  16752433\\\\\n",
       "\t 1         &   9107957\\\\\n",
       "\t 2         &    332557\\\\\n",
       "\t 3         & 118652344\\\\\n",
       "\\end{tabular}\n"
      ],
      "text/markdown": [
       "\n",
       "| diag_diabetes_q030 | Freq |\n",
       "|---|---|\n",
       "|           |  16752433 |\n",
       "| 1         |   9107957 |\n",
       "| 2         |    332557 |\n",
       "| 3         | 118652344 |\n",
       "\n"
      ],
      "text/plain": [
       "  diag_diabetes_q030 Freq     \n",
       "1                     16752433\n",
       "2 1                    9107957\n",
       "3 2                     332557\n",
       "4 3                  118652344"
      ]
     },
     "metadata": {},
     "output_type": "display_data"
    }
   ],
   "source": [
    "diab_tot <- as.data.frame(survey::svytable(~ diag_diabetes_q030, df_analise))\n",
    "diab_tot"
   ]
  },
  {
   "cell_type": "markdown",
   "metadata": {},
   "source": [
    "Quantidade de pessoas que nunca fizeram exame de sangue:"
   ]
  },
  {
   "cell_type": "code",
   "execution_count": 18,
   "metadata": {},
   "outputs": [
    {
     "data": {
      "text/html": [
       "0.115657423992424"
      ],
      "text/latex": [
       "0.115657423992424"
      ],
      "text/markdown": [
       "0.115657423992424"
      ],
      "text/plain": [
       "[1] 0.1156574"
      ]
     },
     "metadata": {},
     "output_type": "display_data"
    }
   ],
   "source": [
    "#porcent\n",
    "diab_tot[diab_tot$diag_diabetes_q030 == \" \",\"Freq\"] / sum(diab_tot$Freq)"
   ]
  },
  {
   "cell_type": "markdown",
   "metadata": {},
   "source": [
    "Computando os pontos:"
   ]
  },
  {
   "cell_type": "code",
   "execution_count": 19,
   "metadata": {},
   "outputs": [],
   "source": [
    "df_risco$altura = df_risco$altura * 100"
   ]
  },
  {
   "cell_type": "code",
   "execution_count": 20,
   "metadata": {},
   "outputs": [],
   "source": [
    "pegar_altura_tab <- function(df){\n",
    "    \n",
    "    alt = as.numeric(df[\"altura_w00203\"])\n",
    "    \n",
    "    if (is.na(alt)){\n",
    "        return(0)\n",
    "    }\n",
    "    \n",
    "    n_alt = 0   \n",
    "    for (alt_tab in df_risco$altura){\n",
    "        if (alt <= alt_tab){\n",
    "            n_alt = alt_tab\n",
    "            break\n",
    "        }\n",
    "    }\n",
    "    if (n_alt == 0){\n",
    "        n_alt = 193\n",
    "    }\n",
    "   \n",
    "   return(n_alt)\n",
    "}"
   ]
  },
  {
   "cell_type": "markdown",
   "metadata": {},
   "source": [
    "Normalizar a altura:"
   ]
  },
  {
   "cell_type": "code",
   "execution_count": 21,
   "metadata": {},
   "outputs": [],
   "source": [
    "df_analise$variables$altura_tab <- apply(df_analise$variables, 1, pegar_altura_tab)"
   ]
  },
  {
   "cell_type": "code",
   "execution_count": 22,
   "metadata": {},
   "outputs": [
    {
     "data": {
      "text/html": [
       "<table>\n",
       "<thead><tr><th scope=col>genero_c006</th><th scope=col>fxetaria</th><th scope=col>imcclass</th><th scope=col>estados_v0001</th><th scope=col>altura_w00203</th><th scope=col>peso_w00103</th><th scope=col>idade_c008</th><th scope=col>sexo_c006</th><th scope=col>diag_diabetes_q030</th><th scope=col>pressao_alta_q002</th><th scope=col>ativ_fisica_p035</th><th scope=col>exame_diab_q029</th><th scope=col>altura_tab</th></tr></thead>\n",
       "<tbody>\n",
       "\t<tr><td>masculino</td><td>32       </td><td>3        </td><td>11       </td><td>162.0    </td><td>59.5     </td><td>35       </td><td>masculino</td><td>3        </td><td>3        </td><td>NA       </td><td>5        </td><td>163      </td></tr>\n",
       "\t<tr><td>masculino</td><td>50       </td><td>4        </td><td>11       </td><td>169.0    </td><td>81.2     </td><td>42       </td><td>masculino</td><td>         </td><td>         </td><td> 1       </td><td>6        </td><td>170      </td></tr>\n",
       "\t<tr><td>feminino </td><td>32       </td><td>3        </td><td>11       </td><td>170.0    </td><td>55.0     </td><td>32       </td><td>feminino </td><td>3        </td><td>3        </td><td>NA       </td><td>3        </td><td>170      </td></tr>\n",
       "\t<tr><td>feminino </td><td>32       </td><td>Nenhum   </td><td>11       </td><td>   NA    </td><td>  NA     </td><td>27       </td><td>feminino </td><td>2        </td><td>2        </td><td>NA       </td><td>1        </td><td>  0      </td></tr>\n",
       "\t<tr><td>masculino</td><td>50       </td><td>4        </td><td>11       </td><td>169.4    </td><td>78.0     </td><td>53       </td><td>masculino</td><td>3        </td><td>3        </td><td>NA       </td><td>5        </td><td>170      </td></tr>\n",
       "\t<tr><td>feminino </td><td>32       </td><td>4        </td><td>11       </td><td>161.5    </td><td>66.8     </td><td>28       </td><td>feminino </td><td>3        </td><td>3        </td><td>NA       </td><td>3        </td><td>163      </td></tr>\n",
       "</tbody>\n",
       "</table>\n"
      ],
      "text/latex": [
       "\\begin{tabular}{r|lllllllllllll}\n",
       " genero\\_c006 & fxetaria & imcclass & estados\\_v0001 & altura\\_w00203 & peso\\_w00103 & idade\\_c008 & sexo\\_c006 & diag\\_diabetes\\_q030 & pressao\\_alta\\_q002 & ativ\\_fisica\\_p035 & exame\\_diab\\_q029 & altura\\_tab\\\\\n",
       "\\hline\n",
       "\t masculino & 32        & 3         & 11        & 162.0     & 59.5      & 35        & masculino & 3         & 3         & NA        & 5         & 163      \\\\\n",
       "\t masculino & 50        & 4         & 11        & 169.0     & 81.2      & 42        & masculino &           &           &  1        & 6         & 170      \\\\\n",
       "\t feminino  & 32        & 3         & 11        & 170.0     & 55.0      & 32        & feminino  & 3         & 3         & NA        & 3         & 170      \\\\\n",
       "\t feminino  & 32        & Nenhum    & 11        &    NA     &   NA      & 27        & feminino  & 2         & 2         & NA        & 1         &   0      \\\\\n",
       "\t masculino & 50        & 4         & 11        & 169.4     & 78.0      & 53        & masculino & 3         & 3         & NA        & 5         & 170      \\\\\n",
       "\t feminino  & 32        & 4         & 11        & 161.5     & 66.8      & 28        & feminino  & 3         & 3         & NA        & 3         & 163      \\\\\n",
       "\\end{tabular}\n"
      ],
      "text/markdown": [
       "\n",
       "| genero_c006 | fxetaria | imcclass | estados_v0001 | altura_w00203 | peso_w00103 | idade_c008 | sexo_c006 | diag_diabetes_q030 | pressao_alta_q002 | ativ_fisica_p035 | exame_diab_q029 | altura_tab |\n",
       "|---|---|---|---|---|---|---|---|---|---|---|---|---|\n",
       "| masculino | 32        | 3         | 11        | 162.0     | 59.5      | 35        | masculino | 3         | 3         | NA        | 5         | 163       |\n",
       "| masculino | 50        | 4         | 11        | 169.0     | 81.2      | 42        | masculino |           |           |  1        | 6         | 170       |\n",
       "| feminino  | 32        | 3         | 11        | 170.0     | 55.0      | 32        | feminino  | 3         | 3         | NA        | 3         | 170       |\n",
       "| feminino  | 32        | Nenhum    | 11        |    NA     |   NA      | 27        | feminino  | 2         | 2         | NA        | 1         |   0       |\n",
       "| masculino | 50        | 4         | 11        | 169.4     | 78.0      | 53        | masculino | 3         | 3         | NA        | 5         | 170       |\n",
       "| feminino  | 32        | 4         | 11        | 161.5     | 66.8      | 28        | feminino  | 3         | 3         | NA        | 3         | 163       |\n",
       "\n"
      ],
      "text/plain": [
       "  genero_c006 fxetaria imcclass estados_v0001 altura_w00203 peso_w00103\n",
       "1 masculino   32       3        11            162.0         59.5       \n",
       "2 masculino   50       4        11            169.0         81.2       \n",
       "3 feminino    32       3        11            170.0         55.0       \n",
       "4 feminino    32       Nenhum   11               NA           NA       \n",
       "5 masculino   50       4        11            169.4         78.0       \n",
       "6 feminino    32       4        11            161.5         66.8       \n",
       "  idade_c008 sexo_c006 diag_diabetes_q030 pressao_alta_q002 ativ_fisica_p035\n",
       "1 35         masculino 3                  3                 NA              \n",
       "2 42         masculino                                       1              \n",
       "3 32         feminino  3                  3                 NA              \n",
       "4 27         feminino  2                  2                 NA              \n",
       "5 53         masculino 3                  3                 NA              \n",
       "6 28         feminino  3                  3                 NA              \n",
       "  exame_diab_q029 altura_tab\n",
       "1 5               163       \n",
       "2 6               170       \n",
       "3 3               170       \n",
       "4 1                 0       \n",
       "5 5               170       \n",
       "6 3               163       "
      ]
     },
     "metadata": {},
     "output_type": "display_data"
    }
   ],
   "source": [
    "head(df_analise$variables)"
   ]
  },
  {
   "cell_type": "markdown",
   "metadata": {},
   "source": [
    "#### Atribuir pontos pela tabela de peso e altura:"
   ]
  },
  {
   "cell_type": "code",
   "execution_count": 23,
   "metadata": {},
   "outputs": [],
   "source": [
    "pegar_pontos_peso <- function(df){\n",
    "    \n",
    "    alt = as.numeric(df[\"altura_tab\"])\n",
    "    peso = as.numeric(df[\"peso_w00103\"])\n",
    "    \n",
    "    if (length(df_risco[df_risco$altura == alt, \"altura\"]) > 0){\n",
    "    \n",
    "        tab_risco = df_risco[df_risco$altura == alt, ]\n",
    "        \n",
    "        if((peso >= tab_risco[\"X1_maior.igual\"]) & (peso <= tab_risco[\"X1_menor.igual\"])){\n",
    "            return(1)\n",
    "        } else if((peso >= tab_risco[\"X2_maior.igual\"]) & (peso <= tab_risco[\"X2_menor.igual\"])){\n",
    "            return(2)\n",
    "        } else if((peso >= tab_risco[\"X3_maior.igual\"])){\n",
    "            return(3)\n",
    "        } else{\n",
    "            return(0)\n",
    "        }\n",
    "\n",
    "    } else{\n",
    "        return (0)\n",
    "    }\n",
    "\n",
    "}"
   ]
  },
  {
   "cell_type": "code",
   "execution_count": 24,
   "metadata": {},
   "outputs": [
    {
     "data": {
      "text/html": [
       "<table>\n",
       "<thead><tr><th scope=col>genero_c006</th><th scope=col>fxetaria</th><th scope=col>imcclass</th><th scope=col>estados_v0001</th><th scope=col>altura_w00203</th><th scope=col>peso_w00103</th><th scope=col>idade_c008</th><th scope=col>sexo_c006</th><th scope=col>diag_diabetes_q030</th><th scope=col>pressao_alta_q002</th><th scope=col>ativ_fisica_p035</th><th scope=col>exame_diab_q029</th><th scope=col>altura_tab</th></tr></thead>\n",
       "<tbody>\n",
       "\t<tr><td>masculino</td><td>32       </td><td>3        </td><td>11       </td><td>162      </td><td>59.5     </td><td>35       </td><td>masculino</td><td>3        </td><td>3        </td><td>NA       </td><td>5        </td><td>163      </td></tr>\n",
       "</tbody>\n",
       "</table>\n"
      ],
      "text/latex": [
       "\\begin{tabular}{r|lllllllllllll}\n",
       " genero\\_c006 & fxetaria & imcclass & estados\\_v0001 & altura\\_w00203 & peso\\_w00103 & idade\\_c008 & sexo\\_c006 & diag\\_diabetes\\_q030 & pressao\\_alta\\_q002 & ativ\\_fisica\\_p035 & exame\\_diab\\_q029 & altura\\_tab\\\\\n",
       "\\hline\n",
       "\t masculino & 32        & 3         & 11        & 162       & 59.5      & 35        & masculino & 3         & 3         & NA        & 5         & 163      \\\\\n",
       "\\end{tabular}\n"
      ],
      "text/markdown": [
       "\n",
       "| genero_c006 | fxetaria | imcclass | estados_v0001 | altura_w00203 | peso_w00103 | idade_c008 | sexo_c006 | diag_diabetes_q030 | pressao_alta_q002 | ativ_fisica_p035 | exame_diab_q029 | altura_tab |\n",
       "|---|---|---|---|---|---|---|---|---|---|---|---|---|\n",
       "| masculino | 32        | 3         | 11        | 162       | 59.5      | 35        | masculino | 3         | 3         | NA        | 5         | 163       |\n",
       "\n"
      ],
      "text/plain": [
       "  genero_c006 fxetaria imcclass estados_v0001 altura_w00203 peso_w00103\n",
       "1 masculino   32       3        11            162           59.5       \n",
       "  idade_c008 sexo_c006 diag_diabetes_q030 pressao_alta_q002 ativ_fisica_p035\n",
       "1 35         masculino 3                  3                 NA              \n",
       "  exame_diab_q029 altura_tab\n",
       "1 5               163       "
      ]
     },
     "metadata": {},
     "output_type": "display_data"
    }
   ],
   "source": [
    "head(df_analise$variables, 1)"
   ]
  },
  {
   "cell_type": "code",
   "execution_count": 25,
   "metadata": {},
   "outputs": [
    {
     "data": {
      "text/html": [
       "0"
      ],
      "text/latex": [
       "0"
      ],
      "text/markdown": [
       "0"
      ],
      "text/plain": [
       "[1] 0"
      ]
     },
     "metadata": {},
     "output_type": "display_data"
    }
   ],
   "source": [
    "apply(head(df_analise$variables, 1),1, pegar_pontos_peso)"
   ]
  },
  {
   "cell_type": "code",
   "execution_count": 26,
   "metadata": {},
   "outputs": [],
   "source": [
    "df_analise$variables$pontos_alt_peso <- apply(df_analise$variables, 1, pegar_pontos_peso)"
   ]
  },
  {
   "cell_type": "markdown",
   "metadata": {},
   "source": [
    "#### Atribuir pontos pela idade"
   ]
  },
  {
   "cell_type": "code",
   "execution_count": 27,
   "metadata": {},
   "outputs": [],
   "source": [
    "df_analise <- df_analise %>% \n",
    "     mutate(pontos_idade = case_when(idade_c008 < 40 ~ 0,\n",
    "                                     idade_c008 <= 49 ~ 1,\n",
    "                                     idade_c008 <= 59 ~ 2,\n",
    "                                     idade_c008 >= 60 ~ 3,\n",
    "                                     TRUE ~ 0))"
   ]
  },
  {
   "cell_type": "code",
   "execution_count": 28,
   "metadata": {},
   "outputs": [
    {
     "data": {
      "text/html": [
       "<table>\n",
       "<thead><tr><th scope=col>genero_c006</th><th scope=col>fxetaria</th><th scope=col>imcclass</th><th scope=col>estados_v0001</th><th scope=col>altura_w00203</th><th scope=col>peso_w00103</th><th scope=col>idade_c008</th><th scope=col>sexo_c006</th><th scope=col>diag_diabetes_q030</th><th scope=col>pressao_alta_q002</th><th scope=col>ativ_fisica_p035</th><th scope=col>exame_diab_q029</th><th scope=col>altura_tab</th><th scope=col>pontos_alt_peso</th><th scope=col>pontos_idade</th></tr></thead>\n",
       "<tbody>\n",
       "\t<tr><td>masculino</td><td>32       </td><td>3        </td><td>11       </td><td>162.0    </td><td>59.5     </td><td>35       </td><td>masculino</td><td>3        </td><td>3        </td><td>NA       </td><td>5        </td><td>163      </td><td>0        </td><td>0        </td></tr>\n",
       "\t<tr><td>masculino</td><td>50       </td><td>4        </td><td>11       </td><td>169.0    </td><td>81.2     </td><td>42       </td><td>masculino</td><td>         </td><td>         </td><td> 1       </td><td>6        </td><td>170      </td><td>1        </td><td>1        </td></tr>\n",
       "\t<tr><td>feminino </td><td>32       </td><td>3        </td><td>11       </td><td>170.0    </td><td>55.0     </td><td>32       </td><td>feminino </td><td>3        </td><td>3        </td><td>NA       </td><td>3        </td><td>170      </td><td>0        </td><td>0        </td></tr>\n",
       "\t<tr><td>feminino </td><td>32       </td><td>Nenhum   </td><td>11       </td><td>   NA    </td><td>  NA     </td><td>27       </td><td>feminino </td><td>2        </td><td>2        </td><td>NA       </td><td>1        </td><td>  0      </td><td>0        </td><td>0        </td></tr>\n",
       "\t<tr><td>masculino</td><td>50       </td><td>4        </td><td>11       </td><td>169.4    </td><td>78.0     </td><td>53       </td><td>masculino</td><td>3        </td><td>3        </td><td>NA       </td><td>5        </td><td>170      </td><td>1        </td><td>2        </td></tr>\n",
       "\t<tr><td>feminino </td><td>32       </td><td>4        </td><td>11       </td><td>161.5    </td><td>66.8     </td><td>28       </td><td>feminino </td><td>3        </td><td>3        </td><td>NA       </td><td>3        </td><td>163      </td><td>1        </td><td>0        </td></tr>\n",
       "</tbody>\n",
       "</table>\n"
      ],
      "text/latex": [
       "\\begin{tabular}{r|lllllllllllllll}\n",
       " genero\\_c006 & fxetaria & imcclass & estados\\_v0001 & altura\\_w00203 & peso\\_w00103 & idade\\_c008 & sexo\\_c006 & diag\\_diabetes\\_q030 & pressao\\_alta\\_q002 & ativ\\_fisica\\_p035 & exame\\_diab\\_q029 & altura\\_tab & pontos\\_alt\\_peso & pontos\\_idade\\\\\n",
       "\\hline\n",
       "\t masculino & 32        & 3         & 11        & 162.0     & 59.5      & 35        & masculino & 3         & 3         & NA        & 5         & 163       & 0         & 0        \\\\\n",
       "\t masculino & 50        & 4         & 11        & 169.0     & 81.2      & 42        & masculino &           &           &  1        & 6         & 170       & 1         & 1        \\\\\n",
       "\t feminino  & 32        & 3         & 11        & 170.0     & 55.0      & 32        & feminino  & 3         & 3         & NA        & 3         & 170       & 0         & 0        \\\\\n",
       "\t feminino  & 32        & Nenhum    & 11        &    NA     &   NA      & 27        & feminino  & 2         & 2         & NA        & 1         &   0       & 0         & 0        \\\\\n",
       "\t masculino & 50        & 4         & 11        & 169.4     & 78.0      & 53        & masculino & 3         & 3         & NA        & 5         & 170       & 1         & 2        \\\\\n",
       "\t feminino  & 32        & 4         & 11        & 161.5     & 66.8      & 28        & feminino  & 3         & 3         & NA        & 3         & 163       & 1         & 0        \\\\\n",
       "\\end{tabular}\n"
      ],
      "text/markdown": [
       "\n",
       "| genero_c006 | fxetaria | imcclass | estados_v0001 | altura_w00203 | peso_w00103 | idade_c008 | sexo_c006 | diag_diabetes_q030 | pressao_alta_q002 | ativ_fisica_p035 | exame_diab_q029 | altura_tab | pontos_alt_peso | pontos_idade |\n",
       "|---|---|---|---|---|---|---|---|---|---|---|---|---|---|---|\n",
       "| masculino | 32        | 3         | 11        | 162.0     | 59.5      | 35        | masculino | 3         | 3         | NA        | 5         | 163       | 0         | 0         |\n",
       "| masculino | 50        | 4         | 11        | 169.0     | 81.2      | 42        | masculino |           |           |  1        | 6         | 170       | 1         | 1         |\n",
       "| feminino  | 32        | 3         | 11        | 170.0     | 55.0      | 32        | feminino  | 3         | 3         | NA        | 3         | 170       | 0         | 0         |\n",
       "| feminino  | 32        | Nenhum    | 11        |    NA     |   NA      | 27        | feminino  | 2         | 2         | NA        | 1         |   0       | 0         | 0         |\n",
       "| masculino | 50        | 4         | 11        | 169.4     | 78.0      | 53        | masculino | 3         | 3         | NA        | 5         | 170       | 1         | 2         |\n",
       "| feminino  | 32        | 4         | 11        | 161.5     | 66.8      | 28        | feminino  | 3         | 3         | NA        | 3         | 163       | 1         | 0         |\n",
       "\n"
      ],
      "text/plain": [
       "  genero_c006 fxetaria imcclass estados_v0001 altura_w00203 peso_w00103\n",
       "1 masculino   32       3        11            162.0         59.5       \n",
       "2 masculino   50       4        11            169.0         81.2       \n",
       "3 feminino    32       3        11            170.0         55.0       \n",
       "4 feminino    32       Nenhum   11               NA           NA       \n",
       "5 masculino   50       4        11            169.4         78.0       \n",
       "6 feminino    32       4        11            161.5         66.8       \n",
       "  idade_c008 sexo_c006 diag_diabetes_q030 pressao_alta_q002 ativ_fisica_p035\n",
       "1 35         masculino 3                  3                 NA              \n",
       "2 42         masculino                                       1              \n",
       "3 32         feminino  3                  3                 NA              \n",
       "4 27         feminino  2                  2                 NA              \n",
       "5 53         masculino 3                  3                 NA              \n",
       "6 28         feminino  3                  3                 NA              \n",
       "  exame_diab_q029 altura_tab pontos_alt_peso pontos_idade\n",
       "1 5               163        0               0           \n",
       "2 6               170        1               1           \n",
       "3 3               170        0               0           \n",
       "4 1                 0        0               0           \n",
       "5 5               170        1               2           \n",
       "6 3               163        1               0           "
      ]
     },
     "metadata": {},
     "output_type": "display_data"
    }
   ],
   "source": [
    "head(df_analise$variables)"
   ]
  },
  {
   "cell_type": "markdown",
   "metadata": {},
   "source": [
    "#### Atribuir pontos pelo sexo"
   ]
  },
  {
   "cell_type": "code",
   "execution_count": 29,
   "metadata": {},
   "outputs": [],
   "source": [
    "df_analise <- df_analise %>% \n",
    "     mutate(pontos_sexo = case_when(sexo_c006 == \"masculino\" ~ 1,\n",
    "                                    TRUE ~ 0))"
   ]
  },
  {
   "cell_type": "code",
   "execution_count": 30,
   "metadata": {},
   "outputs": [
    {
     "data": {
      "text/html": [
       "<table>\n",
       "<thead><tr><th scope=col>genero_c006</th><th scope=col>fxetaria</th><th scope=col>imcclass</th><th scope=col>estados_v0001</th><th scope=col>altura_w00203</th><th scope=col>peso_w00103</th><th scope=col>idade_c008</th><th scope=col>sexo_c006</th><th scope=col>diag_diabetes_q030</th><th scope=col>pressao_alta_q002</th><th scope=col>ativ_fisica_p035</th><th scope=col>exame_diab_q029</th><th scope=col>altura_tab</th><th scope=col>pontos_alt_peso</th><th scope=col>pontos_idade</th><th scope=col>pontos_sexo</th></tr></thead>\n",
       "<tbody>\n",
       "\t<tr><td>masculino</td><td>32       </td><td>3        </td><td>11       </td><td>162.0    </td><td>59.5     </td><td>35       </td><td>masculino</td><td>3        </td><td>3        </td><td>NA       </td><td>5        </td><td>163      </td><td>0        </td><td>0        </td><td>1        </td></tr>\n",
       "\t<tr><td>masculino</td><td>50       </td><td>4        </td><td>11       </td><td>169.0    </td><td>81.2     </td><td>42       </td><td>masculino</td><td>         </td><td>         </td><td> 1       </td><td>6        </td><td>170      </td><td>1        </td><td>1        </td><td>1        </td></tr>\n",
       "\t<tr><td>feminino </td><td>32       </td><td>3        </td><td>11       </td><td>170.0    </td><td>55.0     </td><td>32       </td><td>feminino </td><td>3        </td><td>3        </td><td>NA       </td><td>3        </td><td>170      </td><td>0        </td><td>0        </td><td>0        </td></tr>\n",
       "\t<tr><td>feminino </td><td>32       </td><td>Nenhum   </td><td>11       </td><td>   NA    </td><td>  NA     </td><td>27       </td><td>feminino </td><td>2        </td><td>2        </td><td>NA       </td><td>1        </td><td>  0      </td><td>0        </td><td>0        </td><td>0        </td></tr>\n",
       "\t<tr><td>masculino</td><td>50       </td><td>4        </td><td>11       </td><td>169.4    </td><td>78.0     </td><td>53       </td><td>masculino</td><td>3        </td><td>3        </td><td>NA       </td><td>5        </td><td>170      </td><td>1        </td><td>2        </td><td>1        </td></tr>\n",
       "\t<tr><td>feminino </td><td>32       </td><td>4        </td><td>11       </td><td>161.5    </td><td>66.8     </td><td>28       </td><td>feminino </td><td>3        </td><td>3        </td><td>NA       </td><td>3        </td><td>163      </td><td>1        </td><td>0        </td><td>0        </td></tr>\n",
       "</tbody>\n",
       "</table>\n"
      ],
      "text/latex": [
       "\\begin{tabular}{r|llllllllllllllll}\n",
       " genero\\_c006 & fxetaria & imcclass & estados\\_v0001 & altura\\_w00203 & peso\\_w00103 & idade\\_c008 & sexo\\_c006 & diag\\_diabetes\\_q030 & pressao\\_alta\\_q002 & ativ\\_fisica\\_p035 & exame\\_diab\\_q029 & altura\\_tab & pontos\\_alt\\_peso & pontos\\_idade & pontos\\_sexo\\\\\n",
       "\\hline\n",
       "\t masculino & 32        & 3         & 11        & 162.0     & 59.5      & 35        & masculino & 3         & 3         & NA        & 5         & 163       & 0         & 0         & 1        \\\\\n",
       "\t masculino & 50        & 4         & 11        & 169.0     & 81.2      & 42        & masculino &           &           &  1        & 6         & 170       & 1         & 1         & 1        \\\\\n",
       "\t feminino  & 32        & 3         & 11        & 170.0     & 55.0      & 32        & feminino  & 3         & 3         & NA        & 3         & 170       & 0         & 0         & 0        \\\\\n",
       "\t feminino  & 32        & Nenhum    & 11        &    NA     &   NA      & 27        & feminino  & 2         & 2         & NA        & 1         &   0       & 0         & 0         & 0        \\\\\n",
       "\t masculino & 50        & 4         & 11        & 169.4     & 78.0      & 53        & masculino & 3         & 3         & NA        & 5         & 170       & 1         & 2         & 1        \\\\\n",
       "\t feminino  & 32        & 4         & 11        & 161.5     & 66.8      & 28        & feminino  & 3         & 3         & NA        & 3         & 163       & 1         & 0         & 0        \\\\\n",
       "\\end{tabular}\n"
      ],
      "text/markdown": [
       "\n",
       "| genero_c006 | fxetaria | imcclass | estados_v0001 | altura_w00203 | peso_w00103 | idade_c008 | sexo_c006 | diag_diabetes_q030 | pressao_alta_q002 | ativ_fisica_p035 | exame_diab_q029 | altura_tab | pontos_alt_peso | pontos_idade | pontos_sexo |\n",
       "|---|---|---|---|---|---|---|---|---|---|---|---|---|---|---|---|\n",
       "| masculino | 32        | 3         | 11        | 162.0     | 59.5      | 35        | masculino | 3         | 3         | NA        | 5         | 163       | 0         | 0         | 1         |\n",
       "| masculino | 50        | 4         | 11        | 169.0     | 81.2      | 42        | masculino |           |           |  1        | 6         | 170       | 1         | 1         | 1         |\n",
       "| feminino  | 32        | 3         | 11        | 170.0     | 55.0      | 32        | feminino  | 3         | 3         | NA        | 3         | 170       | 0         | 0         | 0         |\n",
       "| feminino  | 32        | Nenhum    | 11        |    NA     |   NA      | 27        | feminino  | 2         | 2         | NA        | 1         |   0       | 0         | 0         | 0         |\n",
       "| masculino | 50        | 4         | 11        | 169.4     | 78.0      | 53        | masculino | 3         | 3         | NA        | 5         | 170       | 1         | 2         | 1         |\n",
       "| feminino  | 32        | 4         | 11        | 161.5     | 66.8      | 28        | feminino  | 3         | 3         | NA        | 3         | 163       | 1         | 0         | 0         |\n",
       "\n"
      ],
      "text/plain": [
       "  genero_c006 fxetaria imcclass estados_v0001 altura_w00203 peso_w00103\n",
       "1 masculino   32       3        11            162.0         59.5       \n",
       "2 masculino   50       4        11            169.0         81.2       \n",
       "3 feminino    32       3        11            170.0         55.0       \n",
       "4 feminino    32       Nenhum   11               NA           NA       \n",
       "5 masculino   50       4        11            169.4         78.0       \n",
       "6 feminino    32       4        11            161.5         66.8       \n",
       "  idade_c008 sexo_c006 diag_diabetes_q030 pressao_alta_q002 ativ_fisica_p035\n",
       "1 35         masculino 3                  3                 NA              \n",
       "2 42         masculino                                       1              \n",
       "3 32         feminino  3                  3                 NA              \n",
       "4 27         feminino  2                  2                 NA              \n",
       "5 53         masculino 3                  3                 NA              \n",
       "6 28         feminino  3                  3                 NA              \n",
       "  exame_diab_q029 altura_tab pontos_alt_peso pontos_idade pontos_sexo\n",
       "1 5               163        0               0            1          \n",
       "2 6               170        1               1            1          \n",
       "3 3               170        0               0            0          \n",
       "4 1                 0        0               0            0          \n",
       "5 5               170        1               2            1          \n",
       "6 3               163        1               0            0          "
      ]
     },
     "metadata": {},
     "output_type": "display_data"
    }
   ],
   "source": [
    "head(df_analise$variables)"
   ]
  },
  {
   "cell_type": "markdown",
   "metadata": {},
   "source": [
    "#### Atribuir peso pelo diagnóstico de diabetes gestacional"
   ]
  },
  {
   "cell_type": "code",
   "execution_count": 31,
   "metadata": {},
   "outputs": [],
   "source": [
    "df_analise <- df_analise %>% \n",
    "     mutate(pontos_sgrav = case_when(diag_diabetes_q030 == \"2\" ~ 1,\n",
    "                                    TRUE ~ 0))"
   ]
  },
  {
   "cell_type": "code",
   "execution_count": 32,
   "metadata": {},
   "outputs": [
    {
     "data": {
      "text/html": [
       "<table>\n",
       "<thead><tr><th scope=col>genero_c006</th><th scope=col>fxetaria</th><th scope=col>imcclass</th><th scope=col>estados_v0001</th><th scope=col>altura_w00203</th><th scope=col>peso_w00103</th><th scope=col>idade_c008</th><th scope=col>sexo_c006</th><th scope=col>diag_diabetes_q030</th><th scope=col>pressao_alta_q002</th><th scope=col>ativ_fisica_p035</th><th scope=col>exame_diab_q029</th><th scope=col>altura_tab</th><th scope=col>pontos_alt_peso</th><th scope=col>pontos_idade</th><th scope=col>pontos_sexo</th><th scope=col>pontos_sgrav</th></tr></thead>\n",
       "<tbody>\n",
       "\t<tr><td>masculino</td><td>32       </td><td>3        </td><td>11       </td><td>162.0    </td><td>59.5     </td><td>35       </td><td>masculino</td><td>3        </td><td>3        </td><td>NA       </td><td>5        </td><td>163      </td><td>0        </td><td>0        </td><td>1        </td><td>0        </td></tr>\n",
       "\t<tr><td>masculino</td><td>50       </td><td>4        </td><td>11       </td><td>169.0    </td><td>81.2     </td><td>42       </td><td>masculino</td><td>         </td><td>         </td><td> 1       </td><td>6        </td><td>170      </td><td>1        </td><td>1        </td><td>1        </td><td>0        </td></tr>\n",
       "\t<tr><td>feminino </td><td>32       </td><td>3        </td><td>11       </td><td>170.0    </td><td>55.0     </td><td>32       </td><td>feminino </td><td>3        </td><td>3        </td><td>NA       </td><td>3        </td><td>170      </td><td>0        </td><td>0        </td><td>0        </td><td>0        </td></tr>\n",
       "\t<tr><td>feminino </td><td>32       </td><td>Nenhum   </td><td>11       </td><td>   NA    </td><td>  NA     </td><td>27       </td><td>feminino </td><td>2        </td><td>2        </td><td>NA       </td><td>1        </td><td>  0      </td><td>0        </td><td>0        </td><td>0        </td><td>1        </td></tr>\n",
       "\t<tr><td>masculino</td><td>50       </td><td>4        </td><td>11       </td><td>169.4    </td><td>78.0     </td><td>53       </td><td>masculino</td><td>3        </td><td>3        </td><td>NA       </td><td>5        </td><td>170      </td><td>1        </td><td>2        </td><td>1        </td><td>0        </td></tr>\n",
       "\t<tr><td>feminino </td><td>32       </td><td>4        </td><td>11       </td><td>161.5    </td><td>66.8     </td><td>28       </td><td>feminino </td><td>3        </td><td>3        </td><td>NA       </td><td>3        </td><td>163      </td><td>1        </td><td>0        </td><td>0        </td><td>0        </td></tr>\n",
       "</tbody>\n",
       "</table>\n"
      ],
      "text/latex": [
       "\\begin{tabular}{r|lllllllllllllllll}\n",
       " genero\\_c006 & fxetaria & imcclass & estados\\_v0001 & altura\\_w00203 & peso\\_w00103 & idade\\_c008 & sexo\\_c006 & diag\\_diabetes\\_q030 & pressao\\_alta\\_q002 & ativ\\_fisica\\_p035 & exame\\_diab\\_q029 & altura\\_tab & pontos\\_alt\\_peso & pontos\\_idade & pontos\\_sexo & pontos\\_sgrav\\\\\n",
       "\\hline\n",
       "\t masculino & 32        & 3         & 11        & 162.0     & 59.5      & 35        & masculino & 3         & 3         & NA        & 5         & 163       & 0         & 0         & 1         & 0        \\\\\n",
       "\t masculino & 50        & 4         & 11        & 169.0     & 81.2      & 42        & masculino &           &           &  1        & 6         & 170       & 1         & 1         & 1         & 0        \\\\\n",
       "\t feminino  & 32        & 3         & 11        & 170.0     & 55.0      & 32        & feminino  & 3         & 3         & NA        & 3         & 170       & 0         & 0         & 0         & 0        \\\\\n",
       "\t feminino  & 32        & Nenhum    & 11        &    NA     &   NA      & 27        & feminino  & 2         & 2         & NA        & 1         &   0       & 0         & 0         & 0         & 1        \\\\\n",
       "\t masculino & 50        & 4         & 11        & 169.4     & 78.0      & 53        & masculino & 3         & 3         & NA        & 5         & 170       & 1         & 2         & 1         & 0        \\\\\n",
       "\t feminino  & 32        & 4         & 11        & 161.5     & 66.8      & 28        & feminino  & 3         & 3         & NA        & 3         & 163       & 1         & 0         & 0         & 0        \\\\\n",
       "\\end{tabular}\n"
      ],
      "text/markdown": [
       "\n",
       "| genero_c006 | fxetaria | imcclass | estados_v0001 | altura_w00203 | peso_w00103 | idade_c008 | sexo_c006 | diag_diabetes_q030 | pressao_alta_q002 | ativ_fisica_p035 | exame_diab_q029 | altura_tab | pontos_alt_peso | pontos_idade | pontos_sexo | pontos_sgrav |\n",
       "|---|---|---|---|---|---|---|---|---|---|---|---|---|---|---|---|---|\n",
       "| masculino | 32        | 3         | 11        | 162.0     | 59.5      | 35        | masculino | 3         | 3         | NA        | 5         | 163       | 0         | 0         | 1         | 0         |\n",
       "| masculino | 50        | 4         | 11        | 169.0     | 81.2      | 42        | masculino |           |           |  1        | 6         | 170       | 1         | 1         | 1         | 0         |\n",
       "| feminino  | 32        | 3         | 11        | 170.0     | 55.0      | 32        | feminino  | 3         | 3         | NA        | 3         | 170       | 0         | 0         | 0         | 0         |\n",
       "| feminino  | 32        | Nenhum    | 11        |    NA     |   NA      | 27        | feminino  | 2         | 2         | NA        | 1         |   0       | 0         | 0         | 0         | 1         |\n",
       "| masculino | 50        | 4         | 11        | 169.4     | 78.0      | 53        | masculino | 3         | 3         | NA        | 5         | 170       | 1         | 2         | 1         | 0         |\n",
       "| feminino  | 32        | 4         | 11        | 161.5     | 66.8      | 28        | feminino  | 3         | 3         | NA        | 3         | 163       | 1         | 0         | 0         | 0         |\n",
       "\n"
      ],
      "text/plain": [
       "  genero_c006 fxetaria imcclass estados_v0001 altura_w00203 peso_w00103\n",
       "1 masculino   32       3        11            162.0         59.5       \n",
       "2 masculino   50       4        11            169.0         81.2       \n",
       "3 feminino    32       3        11            170.0         55.0       \n",
       "4 feminino    32       Nenhum   11               NA           NA       \n",
       "5 masculino   50       4        11            169.4         78.0       \n",
       "6 feminino    32       4        11            161.5         66.8       \n",
       "  idade_c008 sexo_c006 diag_diabetes_q030 pressao_alta_q002 ativ_fisica_p035\n",
       "1 35         masculino 3                  3                 NA              \n",
       "2 42         masculino                                       1              \n",
       "3 32         feminino  3                  3                 NA              \n",
       "4 27         feminino  2                  2                 NA              \n",
       "5 53         masculino 3                  3                 NA              \n",
       "6 28         feminino  3                  3                 NA              \n",
       "  exame_diab_q029 altura_tab pontos_alt_peso pontos_idade pontos_sexo\n",
       "1 5               163        0               0            1          \n",
       "2 6               170        1               1            1          \n",
       "3 3               170        0               0            0          \n",
       "4 1                 0        0               0            0          \n",
       "5 5               170        1               2            1          \n",
       "6 3               163        1               0            0          \n",
       "  pontos_sgrav\n",
       "1 0           \n",
       "2 0           \n",
       "3 0           \n",
       "4 1           \n",
       "5 0           \n",
       "6 0           "
      ]
     },
     "metadata": {},
     "output_type": "display_data"
    }
   ],
   "source": [
    "head(df_analise$variables)"
   ]
  },
  {
   "cell_type": "markdown",
   "metadata": {},
   "source": [
    "#### Atribuir pesos pelo diagnóstico de hipertensão"
   ]
  },
  {
   "cell_type": "code",
   "execution_count": 33,
   "metadata": {},
   "outputs": [],
   "source": [
    "df_analise <- df_analise %>% \n",
    "     mutate(pontos_hipertensao = case_when(pressao_alta_q002 == \"1\" ~ 1,\n",
    "                               TRUE ~ 0))"
   ]
  },
  {
   "cell_type": "code",
   "execution_count": 34,
   "metadata": {},
   "outputs": [
    {
     "data": {
      "text/html": [
       "<table>\n",
       "<thead><tr><th scope=col>genero_c006</th><th scope=col>fxetaria</th><th scope=col>imcclass</th><th scope=col>estados_v0001</th><th scope=col>altura_w00203</th><th scope=col>peso_w00103</th><th scope=col>idade_c008</th><th scope=col>sexo_c006</th><th scope=col>diag_diabetes_q030</th><th scope=col>pressao_alta_q002</th><th scope=col>ativ_fisica_p035</th><th scope=col>exame_diab_q029</th><th scope=col>altura_tab</th><th scope=col>pontos_alt_peso</th><th scope=col>pontos_idade</th><th scope=col>pontos_sexo</th><th scope=col>pontos_sgrav</th><th scope=col>pontos_hipertensao</th></tr></thead>\n",
       "<tbody>\n",
       "\t<tr><td>masculino</td><td>32       </td><td>3        </td><td>11       </td><td>162.0    </td><td>59.5     </td><td>35       </td><td>masculino</td><td>3        </td><td>3        </td><td>NA       </td><td>5        </td><td>163      </td><td>0        </td><td>0        </td><td>1        </td><td>0        </td><td>0        </td></tr>\n",
       "\t<tr><td>masculino</td><td>50       </td><td>4        </td><td>11       </td><td>169.0    </td><td>81.2     </td><td>42       </td><td>masculino</td><td>         </td><td>         </td><td> 1       </td><td>6        </td><td>170      </td><td>1        </td><td>1        </td><td>1        </td><td>0        </td><td>0        </td></tr>\n",
       "\t<tr><td>feminino </td><td>32       </td><td>3        </td><td>11       </td><td>170.0    </td><td>55.0     </td><td>32       </td><td>feminino </td><td>3        </td><td>3        </td><td>NA       </td><td>3        </td><td>170      </td><td>0        </td><td>0        </td><td>0        </td><td>0        </td><td>0        </td></tr>\n",
       "\t<tr><td>feminino </td><td>32       </td><td>Nenhum   </td><td>11       </td><td>   NA    </td><td>  NA     </td><td>27       </td><td>feminino </td><td>2        </td><td>2        </td><td>NA       </td><td>1        </td><td>  0      </td><td>0        </td><td>0        </td><td>0        </td><td>1        </td><td>0        </td></tr>\n",
       "\t<tr><td>masculino</td><td>50       </td><td>4        </td><td>11       </td><td>169.4    </td><td>78.0     </td><td>53       </td><td>masculino</td><td>3        </td><td>3        </td><td>NA       </td><td>5        </td><td>170      </td><td>1        </td><td>2        </td><td>1        </td><td>0        </td><td>0        </td></tr>\n",
       "\t<tr><td>feminino </td><td>32       </td><td>4        </td><td>11       </td><td>161.5    </td><td>66.8     </td><td>28       </td><td>feminino </td><td>3        </td><td>3        </td><td>NA       </td><td>3        </td><td>163      </td><td>1        </td><td>0        </td><td>0        </td><td>0        </td><td>0        </td></tr>\n",
       "</tbody>\n",
       "</table>\n"
      ],
      "text/latex": [
       "\\begin{tabular}{r|llllllllllllllllll}\n",
       " genero\\_c006 & fxetaria & imcclass & estados\\_v0001 & altura\\_w00203 & peso\\_w00103 & idade\\_c008 & sexo\\_c006 & diag\\_diabetes\\_q030 & pressao\\_alta\\_q002 & ativ\\_fisica\\_p035 & exame\\_diab\\_q029 & altura\\_tab & pontos\\_alt\\_peso & pontos\\_idade & pontos\\_sexo & pontos\\_sgrav & pontos\\_hipertensao\\\\\n",
       "\\hline\n",
       "\t masculino & 32        & 3         & 11        & 162.0     & 59.5      & 35        & masculino & 3         & 3         & NA        & 5         & 163       & 0         & 0         & 1         & 0         & 0        \\\\\n",
       "\t masculino & 50        & 4         & 11        & 169.0     & 81.2      & 42        & masculino &           &           &  1        & 6         & 170       & 1         & 1         & 1         & 0         & 0        \\\\\n",
       "\t feminino  & 32        & 3         & 11        & 170.0     & 55.0      & 32        & feminino  & 3         & 3         & NA        & 3         & 170       & 0         & 0         & 0         & 0         & 0        \\\\\n",
       "\t feminino  & 32        & Nenhum    & 11        &    NA     &   NA      & 27        & feminino  & 2         & 2         & NA        & 1         &   0       & 0         & 0         & 0         & 1         & 0        \\\\\n",
       "\t masculino & 50        & 4         & 11        & 169.4     & 78.0      & 53        & masculino & 3         & 3         & NA        & 5         & 170       & 1         & 2         & 1         & 0         & 0        \\\\\n",
       "\t feminino  & 32        & 4         & 11        & 161.5     & 66.8      & 28        & feminino  & 3         & 3         & NA        & 3         & 163       & 1         & 0         & 0         & 0         & 0        \\\\\n",
       "\\end{tabular}\n"
      ],
      "text/markdown": [
       "\n",
       "| genero_c006 | fxetaria | imcclass | estados_v0001 | altura_w00203 | peso_w00103 | idade_c008 | sexo_c006 | diag_diabetes_q030 | pressao_alta_q002 | ativ_fisica_p035 | exame_diab_q029 | altura_tab | pontos_alt_peso | pontos_idade | pontos_sexo | pontos_sgrav | pontos_hipertensao |\n",
       "|---|---|---|---|---|---|---|---|---|---|---|---|---|---|---|---|---|---|\n",
       "| masculino | 32        | 3         | 11        | 162.0     | 59.5      | 35        | masculino | 3         | 3         | NA        | 5         | 163       | 0         | 0         | 1         | 0         | 0         |\n",
       "| masculino | 50        | 4         | 11        | 169.0     | 81.2      | 42        | masculino |           |           |  1        | 6         | 170       | 1         | 1         | 1         | 0         | 0         |\n",
       "| feminino  | 32        | 3         | 11        | 170.0     | 55.0      | 32        | feminino  | 3         | 3         | NA        | 3         | 170       | 0         | 0         | 0         | 0         | 0         |\n",
       "| feminino  | 32        | Nenhum    | 11        |    NA     |   NA      | 27        | feminino  | 2         | 2         | NA        | 1         |   0       | 0         | 0         | 0         | 1         | 0         |\n",
       "| masculino | 50        | 4         | 11        | 169.4     | 78.0      | 53        | masculino | 3         | 3         | NA        | 5         | 170       | 1         | 2         | 1         | 0         | 0         |\n",
       "| feminino  | 32        | 4         | 11        | 161.5     | 66.8      | 28        | feminino  | 3         | 3         | NA        | 3         | 163       | 1         | 0         | 0         | 0         | 0         |\n",
       "\n"
      ],
      "text/plain": [
       "  genero_c006 fxetaria imcclass estados_v0001 altura_w00203 peso_w00103\n",
       "1 masculino   32       3        11            162.0         59.5       \n",
       "2 masculino   50       4        11            169.0         81.2       \n",
       "3 feminino    32       3        11            170.0         55.0       \n",
       "4 feminino    32       Nenhum   11               NA           NA       \n",
       "5 masculino   50       4        11            169.4         78.0       \n",
       "6 feminino    32       4        11            161.5         66.8       \n",
       "  idade_c008 sexo_c006 diag_diabetes_q030 pressao_alta_q002 ativ_fisica_p035\n",
       "1 35         masculino 3                  3                 NA              \n",
       "2 42         masculino                                       1              \n",
       "3 32         feminino  3                  3                 NA              \n",
       "4 27         feminino  2                  2                 NA              \n",
       "5 53         masculino 3                  3                 NA              \n",
       "6 28         feminino  3                  3                 NA              \n",
       "  exame_diab_q029 altura_tab pontos_alt_peso pontos_idade pontos_sexo\n",
       "1 5               163        0               0            1          \n",
       "2 6               170        1               1            1          \n",
       "3 3               170        0               0            0          \n",
       "4 1                 0        0               0            0          \n",
       "5 5               170        1               2            1          \n",
       "6 3               163        1               0            0          \n",
       "  pontos_sgrav pontos_hipertensao\n",
       "1 0            0                 \n",
       "2 0            0                 \n",
       "3 0            0                 \n",
       "4 1            0                 \n",
       "5 0            0                 \n",
       "6 0            0                 "
      ]
     },
     "metadata": {},
     "output_type": "display_data"
    }
   ],
   "source": [
    "head(df_analise$variables)"
   ]
  },
  {
   "cell_type": "markdown",
   "metadata": {},
   "source": [
    "#### Atribuir pesos pela frequência de atividades físicas"
   ]
  },
  {
   "cell_type": "code",
   "execution_count": 35,
   "metadata": {},
   "outputs": [],
   "source": [
    "df_analise <- df_analise %>% \n",
    "     mutate(pontos_atv_fisica = case_when(ativ_fisica_p035 >= 2 ~ 0,\n",
    "                               TRUE ~ 1))"
   ]
  },
  {
   "cell_type": "code",
   "execution_count": 36,
   "metadata": {},
   "outputs": [
    {
     "data": {
      "text/html": [
       "<table>\n",
       "<thead><tr><th scope=col>genero_c006</th><th scope=col>fxetaria</th><th scope=col>imcclass</th><th scope=col>estados_v0001</th><th scope=col>altura_w00203</th><th scope=col>peso_w00103</th><th scope=col>idade_c008</th><th scope=col>sexo_c006</th><th scope=col>diag_diabetes_q030</th><th scope=col>pressao_alta_q002</th><th scope=col>ativ_fisica_p035</th><th scope=col>exame_diab_q029</th><th scope=col>altura_tab</th><th scope=col>pontos_alt_peso</th><th scope=col>pontos_idade</th><th scope=col>pontos_sexo</th><th scope=col>pontos_sgrav</th><th scope=col>pontos_hipertensao</th><th scope=col>pontos_atv_fisica</th></tr></thead>\n",
       "<tbody>\n",
       "\t<tr><td>masculino</td><td>32       </td><td>3        </td><td>11       </td><td>162.0    </td><td>59.5     </td><td>35       </td><td>masculino</td><td>3        </td><td>3        </td><td>NA       </td><td>5        </td><td>163      </td><td>0        </td><td>0        </td><td>1        </td><td>0        </td><td>0        </td><td>1        </td></tr>\n",
       "\t<tr><td>masculino</td><td>50       </td><td>4        </td><td>11       </td><td>169.0    </td><td>81.2     </td><td>42       </td><td>masculino</td><td>         </td><td>         </td><td> 1       </td><td>6        </td><td>170      </td><td>1        </td><td>1        </td><td>1        </td><td>0        </td><td>0        </td><td>1        </td></tr>\n",
       "\t<tr><td>feminino </td><td>32       </td><td>3        </td><td>11       </td><td>170.0    </td><td>55.0     </td><td>32       </td><td>feminino </td><td>3        </td><td>3        </td><td>NA       </td><td>3        </td><td>170      </td><td>0        </td><td>0        </td><td>0        </td><td>0        </td><td>0        </td><td>1        </td></tr>\n",
       "\t<tr><td>feminino </td><td>32       </td><td>Nenhum   </td><td>11       </td><td>   NA    </td><td>  NA     </td><td>27       </td><td>feminino </td><td>2        </td><td>2        </td><td>NA       </td><td>1        </td><td>  0      </td><td>0        </td><td>0        </td><td>0        </td><td>1        </td><td>0        </td><td>1        </td></tr>\n",
       "\t<tr><td>masculino</td><td>50       </td><td>4        </td><td>11       </td><td>169.4    </td><td>78.0     </td><td>53       </td><td>masculino</td><td>3        </td><td>3        </td><td>NA       </td><td>5        </td><td>170      </td><td>1        </td><td>2        </td><td>1        </td><td>0        </td><td>0        </td><td>1        </td></tr>\n",
       "\t<tr><td>feminino </td><td>32       </td><td>4        </td><td>11       </td><td>161.5    </td><td>66.8     </td><td>28       </td><td>feminino </td><td>3        </td><td>3        </td><td>NA       </td><td>3        </td><td>163      </td><td>1        </td><td>0        </td><td>0        </td><td>0        </td><td>0        </td><td>1        </td></tr>\n",
       "</tbody>\n",
       "</table>\n"
      ],
      "text/latex": [
       "\\begin{tabular}{r|lllllllllllllllllll}\n",
       " genero\\_c006 & fxetaria & imcclass & estados\\_v0001 & altura\\_w00203 & peso\\_w00103 & idade\\_c008 & sexo\\_c006 & diag\\_diabetes\\_q030 & pressao\\_alta\\_q002 & ativ\\_fisica\\_p035 & exame\\_diab\\_q029 & altura\\_tab & pontos\\_alt\\_peso & pontos\\_idade & pontos\\_sexo & pontos\\_sgrav & pontos\\_hipertensao & pontos\\_atv\\_fisica\\\\\n",
       "\\hline\n",
       "\t masculino & 32        & 3         & 11        & 162.0     & 59.5      & 35        & masculino & 3         & 3         & NA        & 5         & 163       & 0         & 0         & 1         & 0         & 0         & 1        \\\\\n",
       "\t masculino & 50        & 4         & 11        & 169.0     & 81.2      & 42        & masculino &           &           &  1        & 6         & 170       & 1         & 1         & 1         & 0         & 0         & 1        \\\\\n",
       "\t feminino  & 32        & 3         & 11        & 170.0     & 55.0      & 32        & feminino  & 3         & 3         & NA        & 3         & 170       & 0         & 0         & 0         & 0         & 0         & 1        \\\\\n",
       "\t feminino  & 32        & Nenhum    & 11        &    NA     &   NA      & 27        & feminino  & 2         & 2         & NA        & 1         &   0       & 0         & 0         & 0         & 1         & 0         & 1        \\\\\n",
       "\t masculino & 50        & 4         & 11        & 169.4     & 78.0      & 53        & masculino & 3         & 3         & NA        & 5         & 170       & 1         & 2         & 1         & 0         & 0         & 1        \\\\\n",
       "\t feminino  & 32        & 4         & 11        & 161.5     & 66.8      & 28        & feminino  & 3         & 3         & NA        & 3         & 163       & 1         & 0         & 0         & 0         & 0         & 1        \\\\\n",
       "\\end{tabular}\n"
      ],
      "text/markdown": [
       "\n",
       "| genero_c006 | fxetaria | imcclass | estados_v0001 | altura_w00203 | peso_w00103 | idade_c008 | sexo_c006 | diag_diabetes_q030 | pressao_alta_q002 | ativ_fisica_p035 | exame_diab_q029 | altura_tab | pontos_alt_peso | pontos_idade | pontos_sexo | pontos_sgrav | pontos_hipertensao | pontos_atv_fisica |\n",
       "|---|---|---|---|---|---|---|---|---|---|---|---|---|---|---|---|---|---|---|\n",
       "| masculino | 32        | 3         | 11        | 162.0     | 59.5      | 35        | masculino | 3         | 3         | NA        | 5         | 163       | 0         | 0         | 1         | 0         | 0         | 1         |\n",
       "| masculino | 50        | 4         | 11        | 169.0     | 81.2      | 42        | masculino |           |           |  1        | 6         | 170       | 1         | 1         | 1         | 0         | 0         | 1         |\n",
       "| feminino  | 32        | 3         | 11        | 170.0     | 55.0      | 32        | feminino  | 3         | 3         | NA        | 3         | 170       | 0         | 0         | 0         | 0         | 0         | 1         |\n",
       "| feminino  | 32        | Nenhum    | 11        |    NA     |   NA      | 27        | feminino  | 2         | 2         | NA        | 1         |   0       | 0         | 0         | 0         | 1         | 0         | 1         |\n",
       "| masculino | 50        | 4         | 11        | 169.4     | 78.0      | 53        | masculino | 3         | 3         | NA        | 5         | 170       | 1         | 2         | 1         | 0         | 0         | 1         |\n",
       "| feminino  | 32        | 4         | 11        | 161.5     | 66.8      | 28        | feminino  | 3         | 3         | NA        | 3         | 163       | 1         | 0         | 0         | 0         | 0         | 1         |\n",
       "\n"
      ],
      "text/plain": [
       "  genero_c006 fxetaria imcclass estados_v0001 altura_w00203 peso_w00103\n",
       "1 masculino   32       3        11            162.0         59.5       \n",
       "2 masculino   50       4        11            169.0         81.2       \n",
       "3 feminino    32       3        11            170.0         55.0       \n",
       "4 feminino    32       Nenhum   11               NA           NA       \n",
       "5 masculino   50       4        11            169.4         78.0       \n",
       "6 feminino    32       4        11            161.5         66.8       \n",
       "  idade_c008 sexo_c006 diag_diabetes_q030 pressao_alta_q002 ativ_fisica_p035\n",
       "1 35         masculino 3                  3                 NA              \n",
       "2 42         masculino                                       1              \n",
       "3 32         feminino  3                  3                 NA              \n",
       "4 27         feminino  2                  2                 NA              \n",
       "5 53         masculino 3                  3                 NA              \n",
       "6 28         feminino  3                  3                 NA              \n",
       "  exame_diab_q029 altura_tab pontos_alt_peso pontos_idade pontos_sexo\n",
       "1 5               163        0               0            1          \n",
       "2 6               170        1               1            1          \n",
       "3 3               170        0               0            0          \n",
       "4 1                 0        0               0            0          \n",
       "5 5               170        1               2            1          \n",
       "6 3               163        1               0            0          \n",
       "  pontos_sgrav pontos_hipertensao pontos_atv_fisica\n",
       "1 0            0                  1                \n",
       "2 0            0                  1                \n",
       "3 0            0                  1                \n",
       "4 1            0                  1                \n",
       "5 0            0                  1                \n",
       "6 0            0                  1                "
      ]
     },
     "metadata": {},
     "output_type": "display_data"
    }
   ],
   "source": [
    "head(df_analise$variables)"
   ]
  },
  {
   "cell_type": "markdown",
   "metadata": {},
   "source": [
    "#### Soma dos pesos"
   ]
  },
  {
   "cell_type": "code",
   "execution_count": 37,
   "metadata": {},
   "outputs": [],
   "source": [
    "df_analise <- df_analise %>% \n",
    "     mutate(pontos = pontos_idade + pontos_sexo + pontos_sgrav + pontos_hipertensao + pontos_atv_fisica + pontos_alt_peso)"
   ]
  },
  {
   "cell_type": "code",
   "execution_count": 38,
   "metadata": {},
   "outputs": [],
   "source": [
    "df_analise$pontos = as.numeric(df_analise$pontos)\n",
    "df_analise <- df_analise %>% \n",
    "     mutate(risco = case_when(pontos >= 5 ~ 1,\n",
    "                               pontos < 5 ~ 0))"
   ]
  },
  {
   "cell_type": "markdown",
   "metadata": {},
   "source": [
    "# Validando os passos da criação do risco"
   ]
  },
  {
   "cell_type": "code",
   "execution_count": 39,
   "metadata": {},
   "outputs": [
    {
     "name": "stderr",
     "output_type": "stream",
     "text": [
      "Warning message in cbind(parts$left, ellip_h, parts$right, deparse.level = 0L):\n",
      "\"number of rows of result is not a multiple of vector length (arg 2)\"Warning message in cbind(parts$left, ellip_h, parts$right, deparse.level = 0L):\n",
      "\"number of rows of result is not a multiple of vector length (arg 2)\"Warning message in cbind(parts$left, ellip_h, parts$right, deparse.level = 0L):\n",
      "\"number of rows of result is not a multiple of vector length (arg 2)\"Warning message in cbind(parts$left, ellip_h, parts$right, deparse.level = 0L):\n",
      "\"number of rows of result is not a multiple of vector length (arg 2)\""
     ]
    },
    {
     "data": {
      "text/html": [
       "<table>\n",
       "<thead><tr><th scope=col>genero_c006</th><th scope=col>fxetaria</th><th scope=col>imcclass</th><th scope=col>estados_v0001</th><th scope=col>altura_w00203</th><th scope=col>peso_w00103</th><th scope=col>idade_c008</th><th scope=col>sexo_c006</th><th scope=col>diag_diabetes_q030</th><th scope=col>pressao_alta_q002</th><th scope=col>...</th><th scope=col>exame_diab_q029</th><th scope=col>altura_tab</th><th scope=col>pontos_alt_peso</th><th scope=col>pontos_idade</th><th scope=col>pontos_sexo</th><th scope=col>pontos_sgrav</th><th scope=col>pontos_hipertensao</th><th scope=col>pontos_atv_fisica</th><th scope=col>pontos</th><th scope=col>risco</th></tr></thead>\n",
       "<tbody>\n",
       "</tbody>\n",
       "</table>\n"
      ],
      "text/latex": [
       "\\begin{tabular}{r|lllllllllllllllllllll}\n",
       " genero\\_c006 & fxetaria & imcclass & estados\\_v0001 & altura\\_w00203 & peso\\_w00103 & idade\\_c008 & sexo\\_c006 & diag\\_diabetes\\_q030 & pressao\\_alta\\_q002 & ... & exame\\_diab\\_q029 & altura\\_tab & pontos\\_alt\\_peso & pontos\\_idade & pontos\\_sexo & pontos\\_sgrav & pontos\\_hipertensao & pontos\\_atv\\_fisica & pontos & risco\\\\\n",
       "\\hline\n",
       "\\end{tabular}\n"
      ],
      "text/markdown": [
       "\n",
       "| genero_c006 | fxetaria | imcclass | estados_v0001 | altura_w00203 | peso_w00103 | idade_c008 | sexo_c006 | diag_diabetes_q030 | pressao_alta_q002 | ... | exame_diab_q029 | altura_tab | pontos_alt_peso | pontos_idade | pontos_sexo | pontos_sgrav | pontos_hipertensao | pontos_atv_fisica | pontos | risco |\n",
       "|---|---|---|---|---|---|---|---|---|---|---|---|---|---|---|---|---|---|---|---|---|\n",
       "\n"
      ],
      "text/plain": [
       "     genero_c006 fxetaria imcclass estados_v0001 altura_w00203 peso_w00103\n",
       "     idade_c008 sexo_c006 diag_diabetes_q030 pressao_alta_q002 ...\n",
       "     exame_diab_q029 altura_tab pontos_alt_peso pontos_idade pontos_sexo\n",
       "     pontos_sgrav pontos_hipertensao pontos_atv_fisica pontos risco"
      ]
     },
     "metadata": {},
     "output_type": "display_data"
    }
   ],
   "source": [
    "head(df_analise$variables[df_analise$variables$pontos >= 5 & df_analise$variables$risco == 0, ])"
   ]
  },
  {
   "cell_type": "code",
   "execution_count": 40,
   "metadata": {},
   "outputs": [
    {
     "data": {
      "text/html": [
       "<table>\n",
       "<thead><tr><th scope=col>genero_c006</th><th scope=col>fxetaria</th><th scope=col>imcclass</th><th scope=col>estados_v0001</th><th scope=col>altura_w00203</th><th scope=col>peso_w00103</th><th scope=col>idade_c008</th><th scope=col>sexo_c006</th><th scope=col>diag_diabetes_q030</th><th scope=col>pressao_alta_q002</th><th scope=col>...</th><th scope=col>exame_diab_q029</th><th scope=col>altura_tab</th><th scope=col>pontos_alt_peso</th><th scope=col>pontos_idade</th><th scope=col>pontos_sexo</th><th scope=col>pontos_sgrav</th><th scope=col>pontos_hipertensao</th><th scope=col>pontos_atv_fisica</th><th scope=col>pontos</th><th scope=col>risco</th></tr></thead>\n",
       "<tbody>\n",
       "\t<tr><td>masculino</td><td>32       </td><td>3        </td><td>11       </td><td>162.0    </td><td>59.5     </td><td>35       </td><td>masculino</td><td>3        </td><td>3        </td><td>...      </td><td>5        </td><td>163      </td><td>0        </td><td>0        </td><td>1        </td><td>0        </td><td>0        </td><td>1        </td><td>2        </td><td>0        </td></tr>\n",
       "\t<tr><td>masculino</td><td>50       </td><td>4        </td><td>11       </td><td>169.0    </td><td>81.2     </td><td>42       </td><td>masculino</td><td>         </td><td>         </td><td>...      </td><td>6        </td><td>170      </td><td>1        </td><td>1        </td><td>1        </td><td>0        </td><td>0        </td><td>1        </td><td>4        </td><td>0        </td></tr>\n",
       "\t<tr><td>feminino </td><td>32       </td><td>3        </td><td>11       </td><td>170.0    </td><td>55.0     </td><td>32       </td><td>feminino </td><td>3        </td><td>3        </td><td>...      </td><td>3        </td><td>170      </td><td>0        </td><td>0        </td><td>0        </td><td>0        </td><td>0        </td><td>1        </td><td>1        </td><td>0        </td></tr>\n",
       "\t<tr><td>feminino </td><td>32       </td><td>Nenhum   </td><td>11       </td><td>   NA    </td><td>  NA     </td><td>27       </td><td>feminino </td><td>2        </td><td>2        </td><td>...      </td><td>1        </td><td>  0      </td><td>0        </td><td>0        </td><td>0        </td><td>1        </td><td>0        </td><td>1        </td><td>2        </td><td>0        </td></tr>\n",
       "\t<tr><td>masculino</td><td>50       </td><td>4        </td><td>11       </td><td>169.4    </td><td>78.0     </td><td>53       </td><td>masculino</td><td>3        </td><td>3        </td><td>...      </td><td>5        </td><td>170      </td><td>1        </td><td>2        </td><td>1        </td><td>0        </td><td>0        </td><td>1        </td><td>5        </td><td>1        </td></tr>\n",
       "\t<tr><td>feminino </td><td>32       </td><td>4        </td><td>11       </td><td>161.5    </td><td>66.8     </td><td>28       </td><td>feminino </td><td>3        </td><td>3        </td><td>...      </td><td>3        </td><td>163      </td><td>1        </td><td>0        </td><td>0        </td><td>0        </td><td>0        </td><td>1        </td><td>2        </td><td>0        </td></tr>\n",
       "</tbody>\n",
       "</table>\n"
      ],
      "text/latex": [
       "\\begin{tabular}{r|lllllllllllllllllllll}\n",
       " genero\\_c006 & fxetaria & imcclass & estados\\_v0001 & altura\\_w00203 & peso\\_w00103 & idade\\_c008 & sexo\\_c006 & diag\\_diabetes\\_q030 & pressao\\_alta\\_q002 & ... & exame\\_diab\\_q029 & altura\\_tab & pontos\\_alt\\_peso & pontos\\_idade & pontos\\_sexo & pontos\\_sgrav & pontos\\_hipertensao & pontos\\_atv\\_fisica & pontos & risco\\\\\n",
       "\\hline\n",
       "\t masculino & 32        & 3         & 11        & 162.0     & 59.5      & 35        & masculino & 3         & 3         & ...       & 5         & 163       & 0         & 0         & 1         & 0         & 0         & 1         & 2         & 0        \\\\\n",
       "\t masculino & 50        & 4         & 11        & 169.0     & 81.2      & 42        & masculino &           &           & ...       & 6         & 170       & 1         & 1         & 1         & 0         & 0         & 1         & 4         & 0        \\\\\n",
       "\t feminino  & 32        & 3         & 11        & 170.0     & 55.0      & 32        & feminino  & 3         & 3         & ...       & 3         & 170       & 0         & 0         & 0         & 0         & 0         & 1         & 1         & 0        \\\\\n",
       "\t feminino  & 32        & Nenhum    & 11        &    NA     &   NA      & 27        & feminino  & 2         & 2         & ...       & 1         &   0       & 0         & 0         & 0         & 1         & 0         & 1         & 2         & 0        \\\\\n",
       "\t masculino & 50        & 4         & 11        & 169.4     & 78.0      & 53        & masculino & 3         & 3         & ...       & 5         & 170       & 1         & 2         & 1         & 0         & 0         & 1         & 5         & 1        \\\\\n",
       "\t feminino  & 32        & 4         & 11        & 161.5     & 66.8      & 28        & feminino  & 3         & 3         & ...       & 3         & 163       & 1         & 0         & 0         & 0         & 0         & 1         & 2         & 0        \\\\\n",
       "\\end{tabular}\n"
      ],
      "text/markdown": [
       "\n",
       "| genero_c006 | fxetaria | imcclass | estados_v0001 | altura_w00203 | peso_w00103 | idade_c008 | sexo_c006 | diag_diabetes_q030 | pressao_alta_q002 | ... | exame_diab_q029 | altura_tab | pontos_alt_peso | pontos_idade | pontos_sexo | pontos_sgrav | pontos_hipertensao | pontos_atv_fisica | pontos | risco |\n",
       "|---|---|---|---|---|---|---|---|---|---|---|---|---|---|---|---|---|---|---|---|---|\n",
       "| masculino | 32        | 3         | 11        | 162.0     | 59.5      | 35        | masculino | 3         | 3         | ...       | 5         | 163       | 0         | 0         | 1         | 0         | 0         | 1         | 2         | 0         |\n",
       "| masculino | 50        | 4         | 11        | 169.0     | 81.2      | 42        | masculino |           |           | ...       | 6         | 170       | 1         | 1         | 1         | 0         | 0         | 1         | 4         | 0         |\n",
       "| feminino  | 32        | 3         | 11        | 170.0     | 55.0      | 32        | feminino  | 3         | 3         | ...       | 3         | 170       | 0         | 0         | 0         | 0         | 0         | 1         | 1         | 0         |\n",
       "| feminino  | 32        | Nenhum    | 11        |    NA     |   NA      | 27        | feminino  | 2         | 2         | ...       | 1         |   0       | 0         | 0         | 0         | 1         | 0         | 1         | 2         | 0         |\n",
       "| masculino | 50        | 4         | 11        | 169.4     | 78.0      | 53        | masculino | 3         | 3         | ...       | 5         | 170       | 1         | 2         | 1         | 0         | 0         | 1         | 5         | 1         |\n",
       "| feminino  | 32        | 4         | 11        | 161.5     | 66.8      | 28        | feminino  | 3         | 3         | ...       | 3         | 163       | 1         | 0         | 0         | 0         | 0         | 1         | 2         | 0         |\n",
       "\n"
      ],
      "text/plain": [
       "  genero_c006 fxetaria imcclass estados_v0001 altura_w00203 peso_w00103\n",
       "1 masculino   32       3        11            162.0         59.5       \n",
       "2 masculino   50       4        11            169.0         81.2       \n",
       "3 feminino    32       3        11            170.0         55.0       \n",
       "4 feminino    32       Nenhum   11               NA           NA       \n",
       "5 masculino   50       4        11            169.4         78.0       \n",
       "6 feminino    32       4        11            161.5         66.8       \n",
       "  idade_c008 sexo_c006 diag_diabetes_q030 pressao_alta_q002 ... exame_diab_q029\n",
       "1 35         masculino 3                  3                 ... 5              \n",
       "2 42         masculino                                      ... 6              \n",
       "3 32         feminino  3                  3                 ... 3              \n",
       "4 27         feminino  2                  2                 ... 1              \n",
       "5 53         masculino 3                  3                 ... 5              \n",
       "6 28         feminino  3                  3                 ... 3              \n",
       "  altura_tab pontos_alt_peso pontos_idade pontos_sexo pontos_sgrav\n",
       "1 163        0               0            1           0           \n",
       "2 170        1               1            1           0           \n",
       "3 170        0               0            0           0           \n",
       "4   0        0               0            0           1           \n",
       "5 170        1               2            1           0           \n",
       "6 163        1               0            0           0           \n",
       "  pontos_hipertensao pontos_atv_fisica pontos risco\n",
       "1 0                  1                 2      0    \n",
       "2 0                  1                 4      0    \n",
       "3 0                  1                 1      0    \n",
       "4 0                  1                 2      0    \n",
       "5 0                  1                 5      1    \n",
       "6 0                  1                 2      0    "
      ]
     },
     "metadata": {},
     "output_type": "display_data"
    }
   ],
   "source": [
    "head(df_analise$variables)"
   ]
  },
  {
   "cell_type": "markdown",
   "metadata": {},
   "source": [
    "### Verificando Inconsistencia"
   ]
  },
  {
   "cell_type": "code",
   "execution_count": 41,
   "metadata": {},
   "outputs": [
    {
     "data": {
      "text/html": [
       "<table>\n",
       "<thead><tr><th scope=col>risco</th><th scope=col>pontos</th><th scope=col>Freq</th></tr></thead>\n",
       "<tbody>\n",
       "\t<tr><td>0          </td><td>0          </td><td> 4860291.78</td></tr>\n",
       "\t<tr><td>1          </td><td>0          </td><td>       0.00</td></tr>\n",
       "\t<tr><td>0          </td><td>1          </td><td>22717718.87</td></tr>\n",
       "\t<tr><td>1          </td><td>1          </td><td>       0.00</td></tr>\n",
       "\t<tr><td>0          </td><td>2          </td><td>29575629.30</td></tr>\n",
       "\t<tr><td>1          </td><td>2          </td><td>       0.00</td></tr>\n",
       "\t<tr><td>0          </td><td>3          </td><td>26724384.04</td></tr>\n",
       "\t<tr><td>1          </td><td>3          </td><td>       0.00</td></tr>\n",
       "\t<tr><td>0          </td><td>4          </td><td>22400607.90</td></tr>\n",
       "\t<tr><td>1          </td><td>4          </td><td>       0.00</td></tr>\n",
       "\t<tr><td>0          </td><td>5          </td><td>       0.00</td></tr>\n",
       "\t<tr><td>1          </td><td>5          </td><td>19583651.25</td></tr>\n",
       "\t<tr><td>0          </td><td>6          </td><td>       0.00</td></tr>\n",
       "\t<tr><td>1          </td><td>6          </td><td>12532246.89</td></tr>\n",
       "\t<tr><td>0          </td><td>7          </td><td>       0.00</td></tr>\n",
       "\t<tr><td>1          </td><td>7          </td><td> 5405174.62</td></tr>\n",
       "\t<tr><td>0          </td><td>8          </td><td>       0.00</td></tr>\n",
       "\t<tr><td>1          </td><td>8          </td><td>  977898.27</td></tr>\n",
       "\t<tr><td>0          </td><td>9          </td><td>       0.00</td></tr>\n",
       "\t<tr><td>1          </td><td>9          </td><td>   67688.31</td></tr>\n",
       "</tbody>\n",
       "</table>\n"
      ],
      "text/latex": [
       "\\begin{tabular}{r|lll}\n",
       " risco & pontos & Freq\\\\\n",
       "\\hline\n",
       "\t 0           & 0           &  4860291.78\\\\\n",
       "\t 1           & 0           &        0.00\\\\\n",
       "\t 0           & 1           & 22717718.87\\\\\n",
       "\t 1           & 1           &        0.00\\\\\n",
       "\t 0           & 2           & 29575629.30\\\\\n",
       "\t 1           & 2           &        0.00\\\\\n",
       "\t 0           & 3           & 26724384.04\\\\\n",
       "\t 1           & 3           &        0.00\\\\\n",
       "\t 0           & 4           & 22400607.90\\\\\n",
       "\t 1           & 4           &        0.00\\\\\n",
       "\t 0           & 5           &        0.00\\\\\n",
       "\t 1           & 5           & 19583651.25\\\\\n",
       "\t 0           & 6           &        0.00\\\\\n",
       "\t 1           & 6           & 12532246.89\\\\\n",
       "\t 0           & 7           &        0.00\\\\\n",
       "\t 1           & 7           &  5405174.62\\\\\n",
       "\t 0           & 8           &        0.00\\\\\n",
       "\t 1           & 8           &   977898.27\\\\\n",
       "\t 0           & 9           &        0.00\\\\\n",
       "\t 1           & 9           &    67688.31\\\\\n",
       "\\end{tabular}\n"
      ],
      "text/markdown": [
       "\n",
       "| risco | pontos | Freq |\n",
       "|---|---|---|\n",
       "| 0           | 0           |  4860291.78 |\n",
       "| 1           | 0           |        0.00 |\n",
       "| 0           | 1           | 22717718.87 |\n",
       "| 1           | 1           |        0.00 |\n",
       "| 0           | 2           | 29575629.30 |\n",
       "| 1           | 2           |        0.00 |\n",
       "| 0           | 3           | 26724384.04 |\n",
       "| 1           | 3           |        0.00 |\n",
       "| 0           | 4           | 22400607.90 |\n",
       "| 1           | 4           |        0.00 |\n",
       "| 0           | 5           |        0.00 |\n",
       "| 1           | 5           | 19583651.25 |\n",
       "| 0           | 6           |        0.00 |\n",
       "| 1           | 6           | 12532246.89 |\n",
       "| 0           | 7           |        0.00 |\n",
       "| 1           | 7           |  5405174.62 |\n",
       "| 0           | 8           |        0.00 |\n",
       "| 1           | 8           |   977898.27 |\n",
       "| 0           | 9           |        0.00 |\n",
       "| 1           | 9           |    67688.31 |\n",
       "\n"
      ],
      "text/plain": [
       "   risco pontos Freq       \n",
       "1  0     0       4860291.78\n",
       "2  1     0             0.00\n",
       "3  0     1      22717718.87\n",
       "4  1     1             0.00\n",
       "5  0     2      29575629.30\n",
       "6  1     2             0.00\n",
       "7  0     3      26724384.04\n",
       "8  1     3             0.00\n",
       "9  0     4      22400607.90\n",
       "10 1     4             0.00\n",
       "11 0     5             0.00\n",
       "12 1     5      19583651.25\n",
       "13 0     6             0.00\n",
       "14 1     6      12532246.89\n",
       "15 0     7             0.00\n",
       "16 1     7       5405174.62\n",
       "17 0     8             0.00\n",
       "18 1     8        977898.27\n",
       "19 0     9             0.00\n",
       "20 1     9         67688.31"
      ]
     },
     "metadata": {},
     "output_type": "display_data"
    }
   ],
   "source": [
    "teste <- as.data.frame(survey::svytable(~ risco + pontos, df_analise))\n",
    "teste"
   ]
  },
  {
   "cell_type": "code",
   "execution_count": 42,
   "metadata": {},
   "outputs": [
    {
     "data": {
      "text/html": [
       "38566659.3404281"
      ],
      "text/latex": [
       "38566659.3404281"
      ],
      "text/markdown": [
       "38566659.3404281"
      ],
      "text/plain": [
       "[1] 38566659"
      ]
     },
     "metadata": {},
     "output_type": "display_data"
    }
   ],
   "source": [
    "sum(teste[teste$risco == 1, \"Freq\"])"
   ]
  },
  {
   "cell_type": "code",
   "execution_count": 43,
   "metadata": {},
   "outputs": [
    {
     "data": {
      "text/html": [
       "<table>\n",
       "<thead><tr><th scope=col>risco</th><th scope=col>pontos</th><th scope=col>diag_diabetes_q030</th><th scope=col>Freq</th></tr></thead>\n",
       "<tbody>\n",
       "\t<tr><td>0        </td><td>0        </td><td>         </td><td> 463338.2</td></tr>\n",
       "\t<tr><td>1        </td><td>0        </td><td>         </td><td>      0.0</td></tr>\n",
       "\t<tr><td>0        </td><td>1        </td><td>         </td><td>3489643.9</td></tr>\n",
       "\t<tr><td>1        </td><td>1        </td><td>         </td><td>      0.0</td></tr>\n",
       "\t<tr><td>0        </td><td>2        </td><td>         </td><td>5003181.3</td></tr>\n",
       "\t<tr><td>1        </td><td>2        </td><td>         </td><td>      0.0</td></tr>\n",
       "</tbody>\n",
       "</table>\n"
      ],
      "text/latex": [
       "\\begin{tabular}{r|llll}\n",
       " risco & pontos & diag\\_diabetes\\_q030 & Freq\\\\\n",
       "\\hline\n",
       "\t 0         & 0         &           &  463338.2\\\\\n",
       "\t 1         & 0         &           &       0.0\\\\\n",
       "\t 0         & 1         &           & 3489643.9\\\\\n",
       "\t 1         & 1         &           &       0.0\\\\\n",
       "\t 0         & 2         &           & 5003181.3\\\\\n",
       "\t 1         & 2         &           &       0.0\\\\\n",
       "\\end{tabular}\n"
      ],
      "text/markdown": [
       "\n",
       "| risco | pontos | diag_diabetes_q030 | Freq |\n",
       "|---|---|---|---|\n",
       "| 0         | 0         |           |  463338.2 |\n",
       "| 1         | 0         |           |       0.0 |\n",
       "| 0         | 1         |           | 3489643.9 |\n",
       "| 1         | 1         |           |       0.0 |\n",
       "| 0         | 2         |           | 5003181.3 |\n",
       "| 1         | 2         |           |       0.0 |\n",
       "\n"
      ],
      "text/plain": [
       "  risco pontos diag_diabetes_q030 Freq     \n",
       "1 0     0                          463338.2\n",
       "2 1     0                               0.0\n",
       "3 0     1                         3489643.9\n",
       "4 1     1                               0.0\n",
       "5 0     2                         5003181.3\n",
       "6 1     2                               0.0"
      ]
     },
     "metadata": {},
     "output_type": "display_data"
    }
   ],
   "source": [
    "pontos_gerais <- as.data.frame(survey::svytable(~ risco + pontos + diag_diabetes_q030, df_analise))\n",
    "head(pontos_gerais)"
   ]
  },
  {
   "cell_type": "code",
   "execution_count": 44,
   "metadata": {},
   "outputs": [
    {
     "data": {
      "text/html": [
       "<table>\n",
       "<thead><tr><th></th><th scope=col>risco</th><th scope=col>pontos</th><th scope=col>diag_diabetes_q030</th><th scope=col>Freq</th></tr></thead>\n",
       "<tbody>\n",
       "\t<tr><th scope=row>9</th><td>0          </td><td> 5         </td><td>           </td><td> 2149214.84</td></tr>\n",
       "\t<tr><th scope=row>11</th><td>0          </td><td> 6         </td><td>           </td><td>       0.00</td></tr>\n",
       "\t<tr><th scope=row>13</th><td>0          </td><td> 7         </td><td>           </td><td>       0.00</td></tr>\n",
       "\t<tr><th scope=row>15</th><td>0          </td><td> 8         </td><td>           </td><td>       0.00</td></tr>\n",
       "\t<tr><th scope=row>17</th><td>0          </td><td> 9         </td><td>           </td><td>       0.00</td></tr>\n",
       "\t<tr><th scope=row>19</th><td>0          </td><td>10         </td><td>           </td><td>       0.00</td></tr>\n",
       "\t<tr><th scope=row>29</th><td>0          </td><td> 5         </td><td>1          </td><td> 1385681.02</td></tr>\n",
       "\t<tr><th scope=row>31</th><td>0          </td><td> 6         </td><td>1          </td><td>       0.00</td></tr>\n",
       "\t<tr><th scope=row>33</th><td>0          </td><td> 7         </td><td>1          </td><td>       0.00</td></tr>\n",
       "\t<tr><th scope=row>35</th><td>0          </td><td> 8         </td><td>1          </td><td>       0.00</td></tr>\n",
       "\t<tr><th scope=row>37</th><td>0          </td><td> 9         </td><td>1          </td><td>       0.00</td></tr>\n",
       "\t<tr><th scope=row>39</th><td>0          </td><td>10         </td><td>1          </td><td>       0.00</td></tr>\n",
       "\t<tr><th scope=row>49</th><td>0          </td><td> 5         </td><td>2          </td><td>   88076.12</td></tr>\n",
       "\t<tr><th scope=row>51</th><td>0          </td><td> 6         </td><td>2          </td><td>       0.00</td></tr>\n",
       "\t<tr><th scope=row>53</th><td>0          </td><td> 7         </td><td>2          </td><td>       0.00</td></tr>\n",
       "\t<tr><th scope=row>55</th><td>0          </td><td> 8         </td><td>2          </td><td>       0.00</td></tr>\n",
       "\t<tr><th scope=row>57</th><td>0          </td><td> 9         </td><td>2          </td><td>       0.00</td></tr>\n",
       "\t<tr><th scope=row>59</th><td>0          </td><td>10         </td><td>2          </td><td>       0.00</td></tr>\n",
       "\t<tr><th scope=row>69</th><td>0          </td><td> 5         </td><td>3          </td><td>18777635.92</td></tr>\n",
       "\t<tr><th scope=row>71</th><td>0          </td><td> 6         </td><td>3          </td><td>       0.00</td></tr>\n",
       "\t<tr><th scope=row>73</th><td>0          </td><td> 7         </td><td>3          </td><td>       0.00</td></tr>\n",
       "\t<tr><th scope=row>75</th><td>0          </td><td> 8         </td><td>3          </td><td>       0.00</td></tr>\n",
       "\t<tr><th scope=row>77</th><td>0          </td><td> 9         </td><td>3          </td><td>       0.00</td></tr>\n",
       "\t<tr><th scope=row>79</th><td>0          </td><td>10         </td><td>3          </td><td>       0.00</td></tr>\n",
       "</tbody>\n",
       "</table>\n"
      ],
      "text/latex": [
       "\\begin{tabular}{r|llll}\n",
       "  & risco & pontos & diag\\_diabetes\\_q030 & Freq\\\\\n",
       "\\hline\n",
       "\t9 & 0           &  5          &             &  2149214.84\\\\\n",
       "\t11 & 0           &  6          &             &        0.00\\\\\n",
       "\t13 & 0           &  7          &             &        0.00\\\\\n",
       "\t15 & 0           &  8          &             &        0.00\\\\\n",
       "\t17 & 0           &  9          &             &        0.00\\\\\n",
       "\t19 & 0           & 10          &             &        0.00\\\\\n",
       "\t29 & 0           &  5          & 1           &  1385681.02\\\\\n",
       "\t31 & 0           &  6          & 1           &        0.00\\\\\n",
       "\t33 & 0           &  7          & 1           &        0.00\\\\\n",
       "\t35 & 0           &  8          & 1           &        0.00\\\\\n",
       "\t37 & 0           &  9          & 1           &        0.00\\\\\n",
       "\t39 & 0           & 10          & 1           &        0.00\\\\\n",
       "\t49 & 0           &  5          & 2           &    88076.12\\\\\n",
       "\t51 & 0           &  6          & 2           &        0.00\\\\\n",
       "\t53 & 0           &  7          & 2           &        0.00\\\\\n",
       "\t55 & 0           &  8          & 2           &        0.00\\\\\n",
       "\t57 & 0           &  9          & 2           &        0.00\\\\\n",
       "\t59 & 0           & 10          & 2           &        0.00\\\\\n",
       "\t69 & 0           &  5          & 3           & 18777635.92\\\\\n",
       "\t71 & 0           &  6          & 3           &        0.00\\\\\n",
       "\t73 & 0           &  7          & 3           &        0.00\\\\\n",
       "\t75 & 0           &  8          & 3           &        0.00\\\\\n",
       "\t77 & 0           &  9          & 3           &        0.00\\\\\n",
       "\t79 & 0           & 10          & 3           &        0.00\\\\\n",
       "\\end{tabular}\n"
      ],
      "text/markdown": [
       "\n",
       "| <!--/--> | risco | pontos | diag_diabetes_q030 | Freq |\n",
       "|---|---|---|---|---|\n",
       "| 9 | 0           |  5          |             |  2149214.84 |\n",
       "| 11 | 0           |  6          |             |        0.00 |\n",
       "| 13 | 0           |  7          |             |        0.00 |\n",
       "| 15 | 0           |  8          |             |        0.00 |\n",
       "| 17 | 0           |  9          |             |        0.00 |\n",
       "| 19 | 0           | 10          |             |        0.00 |\n",
       "| 29 | 0           |  5          | 1           |  1385681.02 |\n",
       "| 31 | 0           |  6          | 1           |        0.00 |\n",
       "| 33 | 0           |  7          | 1           |        0.00 |\n",
       "| 35 | 0           |  8          | 1           |        0.00 |\n",
       "| 37 | 0           |  9          | 1           |        0.00 |\n",
       "| 39 | 0           | 10          | 1           |        0.00 |\n",
       "| 49 | 0           |  5          | 2           |    88076.12 |\n",
       "| 51 | 0           |  6          | 2           |        0.00 |\n",
       "| 53 | 0           |  7          | 2           |        0.00 |\n",
       "| 55 | 0           |  8          | 2           |        0.00 |\n",
       "| 57 | 0           |  9          | 2           |        0.00 |\n",
       "| 59 | 0           | 10          | 2           |        0.00 |\n",
       "| 69 | 0           |  5          | 3           | 18777635.92 |\n",
       "| 71 | 0           |  6          | 3           |        0.00 |\n",
       "| 73 | 0           |  7          | 3           |        0.00 |\n",
       "| 75 | 0           |  8          | 3           |        0.00 |\n",
       "| 77 | 0           |  9          | 3           |        0.00 |\n",
       "| 79 | 0           | 10          | 3           |        0.00 |\n",
       "\n"
      ],
      "text/plain": [
       "   risco pontos diag_diabetes_q030 Freq       \n",
       "9  0      5                         2149214.84\n",
       "11 0      6                               0.00\n",
       "13 0      7                               0.00\n",
       "15 0      8                               0.00\n",
       "17 0      9                               0.00\n",
       "19 0     10                               0.00\n",
       "29 0      5     1                   1385681.02\n",
       "31 0      6     1                         0.00\n",
       "33 0      7     1                         0.00\n",
       "35 0      8     1                         0.00\n",
       "37 0      9     1                         0.00\n",
       "39 0     10     1                         0.00\n",
       "49 0      5     2                     88076.12\n",
       "51 0      6     2                         0.00\n",
       "53 0      7     2                         0.00\n",
       "55 0      8     2                         0.00\n",
       "57 0      9     2                         0.00\n",
       "59 0     10     2                         0.00\n",
       "69 0      5     3                  18777635.92\n",
       "71 0      6     3                         0.00\n",
       "73 0      7     3                         0.00\n",
       "75 0      8     3                         0.00\n",
       "77 0      9     3                         0.00\n",
       "79 0     10     3                         0.00"
      ]
     },
     "metadata": {},
     "output_type": "display_data"
    }
   ],
   "source": [
    "pontos_gerais$pontos = as.numeric(pontos_gerais$pontos)\n",
    "pontos_gerais[pontos_gerais$pontos >= 5 & pontos_gerais$risco == 0,]"
   ]
  },
  {
   "cell_type": "code",
   "execution_count": 45,
   "metadata": {},
   "outputs": [
    {
     "data": {
      "text/html": [
       "144845291.243121"
      ],
      "text/latex": [
       "144845291.243121"
      ],
      "text/markdown": [
       "144845291.243121"
      ],
      "text/plain": [
       "[1] 144845291"
      ]
     },
     "metadata": {},
     "output_type": "display_data"
    }
   ],
   "source": [
    "sum(pontos_gerais$Freq)"
   ]
  },
  {
   "cell_type": "code",
   "execution_count": 46,
   "metadata": {},
   "outputs": [
    {
     "data": {
      "text/html": [
       "60967267.238167"
      ],
      "text/latex": [
       "60967267.238167"
      ],
      "text/markdown": [
       "60967267.238167"
      ],
      "text/plain": [
       "[1] 60967267"
      ]
     },
     "metadata": {},
     "output_type": "display_data"
    }
   ],
   "source": [
    "pontos_gerais$pontos = as.numeric(pontos_gerais$pontos)\n",
    "sum(pontos_gerais[pontos_gerais$pontos >= 5,\"Freq\"])"
   ]
  },
  {
   "cell_type": "code",
   "execution_count": 47,
   "metadata": {},
   "outputs": [],
   "source": [
    "#pontos_gerais[pontos_gerais$risco == 0 & pontos_gerais$pontos >= 5 & pontos_gerais$Freq > 0, ]"
   ]
  },
  {
   "cell_type": "code",
   "execution_count": 48,
   "metadata": {},
   "outputs": [
    {
     "data": {
      "text/html": [
       "38566659.3404281"
      ],
      "text/latex": [
       "38566659.3404281"
      ],
      "text/markdown": [
       "38566659.3404281"
      ],
      "text/plain": [
       "[1] 38566659"
      ]
     },
     "metadata": {},
     "output_type": "display_data"
    }
   ],
   "source": [
    "sum(pontos_gerais[pontos_gerais$risco == 1, \"Freq\"])"
   ]
  },
  {
   "cell_type": "code",
   "execution_count": 49,
   "metadata": {},
   "outputs": [],
   "source": [
    "pontos_n_diab = pontos_gerais[pontos_gerais$diag_diabetes_q030 != \"1\",]"
   ]
  },
  {
   "cell_type": "markdown",
   "metadata": {},
   "source": [
    "### Quantidade total de não diabéticos"
   ]
  },
  {
   "cell_type": "code",
   "execution_count": 50,
   "metadata": {},
   "outputs": [
    {
     "data": {
      "text/html": [
       "135737334.677595"
      ],
      "text/latex": [
       "135737334.677595"
      ],
      "text/markdown": [
       "135737334.677595"
      ],
      "text/plain": [
       "[1] 135737335"
      ]
     },
     "metadata": {},
     "output_type": "display_data"
    }
   ],
   "source": [
    "qtd_n_diab = sum(pontos_n_diab$Freq)\n",
    "qtd_n_diab"
   ]
  },
  {
   "cell_type": "markdown",
   "metadata": {},
   "source": [
    "### Quantidade total de não diabéticos com risco"
   ]
  },
  {
   "cell_type": "code",
   "execution_count": 194,
   "metadata": {},
   "outputs": [
    {
     "data": {
      "text/html": [
       "32210395.1116883"
      ],
      "text/latex": [
       "32210395.1116883"
      ],
      "text/markdown": [
       "32210395.1116883"
      ],
      "text/plain": [
       "[1] 32210395"
      ]
     },
     "metadata": {},
     "output_type": "display_data"
    }
   ],
   "source": [
    "qtd_risco = sum(pontos_n_diab[pontos_n_diab$risco == 1, \"Freq\"])\n",
    "qtd_risco"
   ]
  },
  {
   "cell_type": "code",
   "execution_count": null,
   "metadata": {},
   "outputs": [],
   "source": []
  },
  {
   "cell_type": "code",
   "execution_count": 102,
   "metadata": {},
   "outputs": [
    {
     "data": {
      "text/html": [
       "0.237299451828746"
      ],
      "text/latex": [
       "0.237299451828746"
      ],
      "text/markdown": [
       "0.237299451828746"
      ],
      "text/plain": [
       "[1] 0.2372995"
      ]
     },
     "metadata": {},
     "output_type": "display_data"
    }
   ],
   "source": [
    "qtd_risco / qtd_n_diab"
   ]
  },
  {
   "cell_type": "markdown",
   "metadata": {},
   "source": [
    "#### Validando Resultado Acima"
   ]
  },
  {
   "cell_type": "code",
   "execution_count": 205,
   "metadata": {},
   "outputs": [
    {
     "data": {
      "text/html": [
       "<table>\n",
       "<thead><tr><th scope=col>risco</th><th scope=col>Freq</th></tr></thead>\n",
       "<tbody>\n",
       "\t<tr><td>0        </td><td>103526940</td></tr>\n",
       "\t<tr><td>1        </td><td> 32210395</td></tr>\n",
       "</tbody>\n",
       "</table>\n"
      ],
      "text/latex": [
       "\\begin{tabular}{r|ll}\n",
       " risco & Freq\\\\\n",
       "\\hline\n",
       "\t 0         & 103526940\\\\\n",
       "\t 1         &  32210395\\\\\n",
       "\\end{tabular}\n"
      ],
      "text/markdown": [
       "\n",
       "| risco | Freq |\n",
       "|---|---|\n",
       "| 0         | 103526940 |\n",
       "| 1         |  32210395 |\n",
       "\n"
      ],
      "text/plain": [
       "  risco Freq     \n",
       "1 0     103526940\n",
       "2 1      32210395"
      ]
     },
     "metadata": {},
     "output_type": "display_data"
    }
   ],
   "source": [
    "pontos_n_diab <- as.data.frame(survey::svytable(~ risco, subset(df_analise, diag_diabetes_q030!=\"1\")))\n",
    "head(pontos_n_diab)"
   ]
  },
  {
   "cell_type": "code",
   "execution_count": 206,
   "metadata": {},
   "outputs": [
    {
     "data": {
      "text/html": [
       "135737334.677595"
      ],
      "text/latex": [
       "135737334.677595"
      ],
      "text/markdown": [
       "135737334.677595"
      ],
      "text/plain": [
       "[1] 135737335"
      ]
     },
     "metadata": {},
     "output_type": "display_data"
    }
   ],
   "source": [
    "sum(pontos_n_diab$Freq)"
   ]
  },
  {
   "cell_type": "code",
   "execution_count": 44,
   "metadata": {},
   "outputs": [
    {
     "data": {
      "text/html": [
       "<table>\n",
       "<thead><tr><th scope=col>pontos</th><th scope=col>Freq</th></tr></thead>\n",
       "<tbody>\n",
       "\t<tr><td>0          </td><td> 4843607.74</td></tr>\n",
       "\t<tr><td>1          </td><td>22589379.35</td></tr>\n",
       "\t<tr><td>2          </td><td>29096798.91</td></tr>\n",
       "\t<tr><td>3          </td><td>25982226.69</td></tr>\n",
       "\t<tr><td>4          </td><td>21014926.88</td></tr>\n",
       "\t<tr><td>5          </td><td>17316804.44</td></tr>\n",
       "\t<tr><td>6          </td><td>10207364.69</td></tr>\n",
       "\t<tr><td>7          </td><td> 3979872.58</td></tr>\n",
       "\t<tr><td>8          </td><td>  646752.31</td></tr>\n",
       "\t<tr><td>9          </td><td>   59601.09</td></tr>\n",
       "</tbody>\n",
       "</table>\n"
      ],
      "text/latex": [
       "\\begin{tabular}{r|ll}\n",
       " pontos & Freq\\\\\n",
       "\\hline\n",
       "\t 0           &  4843607.74\\\\\n",
       "\t 1           & 22589379.35\\\\\n",
       "\t 2           & 29096798.91\\\\\n",
       "\t 3           & 25982226.69\\\\\n",
       "\t 4           & 21014926.88\\\\\n",
       "\t 5           & 17316804.44\\\\\n",
       "\t 6           & 10207364.69\\\\\n",
       "\t 7           &  3979872.58\\\\\n",
       "\t 8           &   646752.31\\\\\n",
       "\t 9           &    59601.09\\\\\n",
       "\\end{tabular}\n"
      ],
      "text/markdown": [
       "\n",
       "| pontos | Freq |\n",
       "|---|---|\n",
       "| 0           |  4843607.74 |\n",
       "| 1           | 22589379.35 |\n",
       "| 2           | 29096798.91 |\n",
       "| 3           | 25982226.69 |\n",
       "| 4           | 21014926.88 |\n",
       "| 5           | 17316804.44 |\n",
       "| 6           | 10207364.69 |\n",
       "| 7           |  3979872.58 |\n",
       "| 8           |   646752.31 |\n",
       "| 9           |    59601.09 |\n",
       "\n"
      ],
      "text/plain": [
       "   pontos Freq       \n",
       "1  0       4843607.74\n",
       "2  1      22589379.35\n",
       "3  2      29096798.91\n",
       "4  3      25982226.69\n",
       "5  4      21014926.88\n",
       "6  5      17316804.44\n",
       "7  6      10207364.69\n",
       "8  7       3979872.58\n",
       "9  8        646752.31\n",
       "10 9         59601.09"
      ]
     },
     "metadata": {},
     "output_type": "display_data"
    }
   ],
   "source": [
    "pontos_n_diab <- as.data.frame(survey::svytable(~ pontos, subset(df_analise, diag_diabetes_q030!=\"1\")))\n",
    "(pontos_n_diab)"
   ]
  },
  {
   "cell_type": "markdown",
   "metadata": {},
   "source": [
    "## Genero"
   ]
  },
  {
   "cell_type": "code",
   "execution_count": 52,
   "metadata": {},
   "outputs": [
    {
     "data": {
      "text/html": [
       "<table>\n",
       "<thead><tr><th scope=col>risco</th><th scope=col>sexo_c006</th><th scope=col>Freq</th></tr></thead>\n",
       "<tbody>\n",
       "\t<tr><td>0        </td><td>masculino</td><td>46392077 </td></tr>\n",
       "\t<tr><td>1        </td><td>masculino</td><td>18836024 </td></tr>\n",
       "\t<tr><td>0        </td><td>feminino </td><td>57134862 </td></tr>\n",
       "\t<tr><td>1        </td><td>feminino </td><td>13374371 </td></tr>\n",
       "</tbody>\n",
       "</table>\n"
      ],
      "text/latex": [
       "\\begin{tabular}{r|lll}\n",
       " risco & sexo\\_c006 & Freq\\\\\n",
       "\\hline\n",
       "\t 0         & masculino & 46392077 \\\\\n",
       "\t 1         & masculino & 18836024 \\\\\n",
       "\t 0         & feminino  & 57134862 \\\\\n",
       "\t 1         & feminino  & 13374371 \\\\\n",
       "\\end{tabular}\n"
      ],
      "text/markdown": [
       "\n",
       "| risco | sexo_c006 | Freq |\n",
       "|---|---|---|\n",
       "| 0         | masculino | 46392077  |\n",
       "| 1         | masculino | 18836024  |\n",
       "| 0         | feminino  | 57134862  |\n",
       "| 1         | feminino  | 13374371  |\n",
       "\n"
      ],
      "text/plain": [
       "  risco sexo_c006 Freq    \n",
       "1 0     masculino 46392077\n",
       "2 1     masculino 18836024\n",
       "3 0     feminino  57134862\n",
       "4 1     feminino  13374371"
      ]
     },
     "metadata": {},
     "output_type": "display_data"
    }
   ],
   "source": [
    "pontos_genero <- as.data.frame(survey::svytable(~ risco + sexo_c006, subset(df_analise, diag_diabetes_q030!=\"1\")))\n",
    "head(pontos_genero)"
   ]
  },
  {
   "cell_type": "code",
   "execution_count": 54,
   "metadata": {},
   "outputs": [
    {
     "data": {
      "text/html": [
       "65228100.8617591"
      ],
      "text/latex": [
       "65228100.8617591"
      ],
      "text/markdown": [
       "65228100.8617591"
      ],
      "text/plain": [
       "[1] 65228101"
      ]
     },
     "metadata": {},
     "output_type": "display_data"
    }
   ],
   "source": [
    "sum(pontos_genero[pontos_genero$sexo_c006 == \"masculino\",\"Freq\"])"
   ]
  },
  {
   "cell_type": "code",
   "execution_count": 55,
   "metadata": {},
   "outputs": [
    {
     "data": {
      "text/html": [
       "70509233.8158355"
      ],
      "text/latex": [
       "70509233.8158355"
      ],
      "text/markdown": [
       "70509233.8158355"
      ],
      "text/plain": [
       "[1] 70509234"
      ]
     },
     "metadata": {},
     "output_type": "display_data"
    }
   ],
   "source": [
    "sum(pontos_genero[pontos_genero$sexo_c006 == \"feminino\",\"Freq\"])"
   ]
  },
  {
   "cell_type": "markdown",
   "metadata": {},
   "source": [
    "## Faixa Etária"
   ]
  },
  {
   "cell_type": "code",
   "execution_count": 57,
   "metadata": {},
   "outputs": [
    {
     "data": {
      "text/html": [
       "<table>\n",
       "<thead><tr><th scope=col>risco</th><th scope=col>fxetaria</th><th scope=col>Freq</th></tr></thead>\n",
       "<tbody>\n",
       "\t<tr><td>0          </td><td>18         </td><td> 6922365.31</td></tr>\n",
       "\t<tr><td>1          </td><td>18         </td><td>   16886.72</td></tr>\n",
       "\t<tr><td>0          </td><td>22         </td><td>15640101.21</td></tr>\n",
       "\t<tr><td>1          </td><td>22         </td><td>   95330.20</td></tr>\n",
       "\t<tr><td>0          </td><td>32         </td><td>44277197.31</td></tr>\n",
       "\t<tr><td>1          </td><td>32         </td><td>  746073.54</td></tr>\n",
       "\t<tr><td>0          </td><td>50         </td><td>32584099.49</td></tr>\n",
       "\t<tr><td>1          </td><td>50         </td><td>13827420.55</td></tr>\n",
       "\t<tr><td>0          </td><td>60         </td><td> 4103176.25</td></tr>\n",
       "\t<tr><td>1          </td><td>60         </td><td>17524684.10</td></tr>\n",
       "</tbody>\n",
       "</table>\n"
      ],
      "text/latex": [
       "\\begin{tabular}{r|lll}\n",
       " risco & fxetaria & Freq\\\\\n",
       "\\hline\n",
       "\t 0           & 18          &  6922365.31\\\\\n",
       "\t 1           & 18          &    16886.72\\\\\n",
       "\t 0           & 22          & 15640101.21\\\\\n",
       "\t 1           & 22          &    95330.20\\\\\n",
       "\t 0           & 32          & 44277197.31\\\\\n",
       "\t 1           & 32          &   746073.54\\\\\n",
       "\t 0           & 50          & 32584099.49\\\\\n",
       "\t 1           & 50          & 13827420.55\\\\\n",
       "\t 0           & 60          &  4103176.25\\\\\n",
       "\t 1           & 60          & 17524684.10\\\\\n",
       "\\end{tabular}\n"
      ],
      "text/markdown": [
       "\n",
       "| risco | fxetaria | Freq |\n",
       "|---|---|---|\n",
       "| 0           | 18          |  6922365.31 |\n",
       "| 1           | 18          |    16886.72 |\n",
       "| 0           | 22          | 15640101.21 |\n",
       "| 1           | 22          |    95330.20 |\n",
       "| 0           | 32          | 44277197.31 |\n",
       "| 1           | 32          |   746073.54 |\n",
       "| 0           | 50          | 32584099.49 |\n",
       "| 1           | 50          | 13827420.55 |\n",
       "| 0           | 60          |  4103176.25 |\n",
       "| 1           | 60          | 17524684.10 |\n",
       "\n"
      ],
      "text/plain": [
       "   risco fxetaria Freq       \n",
       "1  0     18        6922365.31\n",
       "2  1     18          16886.72\n",
       "3  0     22       15640101.21\n",
       "4  1     22          95330.20\n",
       "5  0     32       44277197.31\n",
       "6  1     32         746073.54\n",
       "7  0     50       32584099.49\n",
       "8  1     50       13827420.55\n",
       "9  0     60        4103176.25\n",
       "10 1     60       17524684.10"
      ]
     },
     "metadata": {},
     "output_type": "display_data"
    }
   ],
   "source": [
    "pontos_fxetaria <- as.data.frame(survey::svytable(~ risco + fxetaria, subset(df_analise, diag_diabetes_q030!=\"1\")))\n",
    "pontos_fxetaria"
   ]
  },
  {
   "cell_type": "code",
   "execution_count": 58,
   "metadata": {},
   "outputs": [
    {
     "data": {
      "text/html": [
       "<table>\n",
       "<thead><tr><th scope=col>fxetaria</th><th scope=col>freq</th></tr></thead>\n",
       "<tbody>\n",
       "\t<tr><td>18      </td><td> 6939252</td></tr>\n",
       "\t<tr><td>22      </td><td>15735431</td></tr>\n",
       "\t<tr><td>32      </td><td>45023271</td></tr>\n",
       "\t<tr><td>50      </td><td>46411520</td></tr>\n",
       "\t<tr><td>60      </td><td>21627860</td></tr>\n",
       "</tbody>\n",
       "</table>\n"
      ],
      "text/latex": [
       "\\begin{tabular}{r|ll}\n",
       " fxetaria & freq\\\\\n",
       "\\hline\n",
       "\t 18       &  6939252\\\\\n",
       "\t 22       & 15735431\\\\\n",
       "\t 32       & 45023271\\\\\n",
       "\t 50       & 46411520\\\\\n",
       "\t 60       & 21627860\\\\\n",
       "\\end{tabular}\n"
      ],
      "text/markdown": [
       "\n",
       "| fxetaria | freq |\n",
       "|---|---|\n",
       "| 18       |  6939252 |\n",
       "| 22       | 15735431 |\n",
       "| 32       | 45023271 |\n",
       "| 50       | 46411520 |\n",
       "| 60       | 21627860 |\n",
       "\n"
      ],
      "text/plain": [
       "  fxetaria freq    \n",
       "1 18        6939252\n",
       "2 22       15735431\n",
       "3 32       45023271\n",
       "4 50       46411520\n",
       "5 60       21627860"
      ]
     },
     "metadata": {},
     "output_type": "display_data"
    }
   ],
   "source": [
    "group_by(pontos_fxetaria, fxetaria) %>% summarise(freq = sum(Freq))"
   ]
  },
  {
   "cell_type": "code",
   "execution_count": 60,
   "metadata": {},
   "outputs": [
    {
     "data": {
      "text/html": [
       "135737334.677595"
      ],
      "text/latex": [
       "135737334.677595"
      ],
      "text/markdown": [
       "135737334.677595"
      ],
      "text/plain": [
       "[1] 135737335"
      ]
     },
     "metadata": {},
     "output_type": "display_data"
    }
   ],
   "source": [
    "sum(pontos_fxetaria$Freq)"
   ]
  },
  {
   "cell_type": "markdown",
   "metadata": {},
   "source": [
    "## IMC"
   ]
  },
  {
   "cell_type": "code",
   "execution_count": 61,
   "metadata": {},
   "outputs": [
    {
     "data": {
      "text/html": [
       "<table>\n",
       "<thead><tr><th scope=col>risco</th><th scope=col>imcclass</th><th scope=col>Freq</th></tr></thead>\n",
       "<tbody>\n",
       "\t<tr><td>0         </td><td>1         </td><td>  853522.8</td></tr>\n",
       "\t<tr><td>1         </td><td>1         </td><td>  122613.9</td></tr>\n",
       "\t<tr><td>0         </td><td>2         </td><td> 2259597.4</td></tr>\n",
       "\t<tr><td>1         </td><td>2         </td><td>  251325.2</td></tr>\n",
       "\t<tr><td>0         </td><td>3         </td><td>51007810.5</td></tr>\n",
       "\t<tr><td>1         </td><td>3         </td><td> 5622729.8</td></tr>\n",
       "\t<tr><td>0         </td><td>4         </td><td>35718523.3</td></tr>\n",
       "\t<tr><td>1         </td><td>4         </td><td>13145637.1</td></tr>\n",
       "\t<tr><td>0         </td><td>5         </td><td>10104136.4</td></tr>\n",
       "\t<tr><td>1         </td><td>5         </td><td> 9170330.0</td></tr>\n",
       "\t<tr><td>0         </td><td>6         </td><td> 2889766.7</td></tr>\n",
       "\t<tr><td>1         </td><td>6         </td><td> 2545214.6</td></tr>\n",
       "\t<tr><td>0         </td><td>7         </td><td>  693582.5</td></tr>\n",
       "\t<tr><td>1         </td><td>7         </td><td> 1352544.7</td></tr>\n",
       "\t<tr><td>0         </td><td>Nenhum    </td><td>       0.0</td></tr>\n",
       "\t<tr><td>1         </td><td>Nenhum    </td><td>       0.0</td></tr>\n",
       "</tbody>\n",
       "</table>\n"
      ],
      "text/latex": [
       "\\begin{tabular}{r|lll}\n",
       " risco & imcclass & Freq\\\\\n",
       "\\hline\n",
       "\t 0          & 1          &   853522.8\\\\\n",
       "\t 1          & 1          &   122613.9\\\\\n",
       "\t 0          & 2          &  2259597.4\\\\\n",
       "\t 1          & 2          &   251325.2\\\\\n",
       "\t 0          & 3          & 51007810.5\\\\\n",
       "\t 1          & 3          &  5622729.8\\\\\n",
       "\t 0          & 4          & 35718523.3\\\\\n",
       "\t 1          & 4          & 13145637.1\\\\\n",
       "\t 0          & 5          & 10104136.4\\\\\n",
       "\t 1          & 5          &  9170330.0\\\\\n",
       "\t 0          & 6          &  2889766.7\\\\\n",
       "\t 1          & 6          &  2545214.6\\\\\n",
       "\t 0          & 7          &   693582.5\\\\\n",
       "\t 1          & 7          &  1352544.7\\\\\n",
       "\t 0          & Nenhum     &        0.0\\\\\n",
       "\t 1          & Nenhum     &        0.0\\\\\n",
       "\\end{tabular}\n"
      ],
      "text/markdown": [
       "\n",
       "| risco | imcclass | Freq |\n",
       "|---|---|---|\n",
       "| 0          | 1          |   853522.8 |\n",
       "| 1          | 1          |   122613.9 |\n",
       "| 0          | 2          |  2259597.4 |\n",
       "| 1          | 2          |   251325.2 |\n",
       "| 0          | 3          | 51007810.5 |\n",
       "| 1          | 3          |  5622729.8 |\n",
       "| 0          | 4          | 35718523.3 |\n",
       "| 1          | 4          | 13145637.1 |\n",
       "| 0          | 5          | 10104136.4 |\n",
       "| 1          | 5          |  9170330.0 |\n",
       "| 0          | 6          |  2889766.7 |\n",
       "| 1          | 6          |  2545214.6 |\n",
       "| 0          | 7          |   693582.5 |\n",
       "| 1          | 7          |  1352544.7 |\n",
       "| 0          | Nenhum     |        0.0 |\n",
       "| 1          | Nenhum     |        0.0 |\n",
       "\n"
      ],
      "text/plain": [
       "   risco imcclass Freq      \n",
       "1  0     1          853522.8\n",
       "2  1     1          122613.9\n",
       "3  0     2         2259597.4\n",
       "4  1     2          251325.2\n",
       "5  0     3        51007810.5\n",
       "6  1     3         5622729.8\n",
       "7  0     4        35718523.3\n",
       "8  1     4        13145637.1\n",
       "9  0     5        10104136.4\n",
       "10 1     5         9170330.0\n",
       "11 0     6         2889766.7\n",
       "12 1     6         2545214.6\n",
       "13 0     7          693582.5\n",
       "14 1     7         1352544.7\n",
       "15 0     Nenhum          0.0\n",
       "16 1     Nenhum          0.0"
      ]
     },
     "metadata": {},
     "output_type": "display_data"
    }
   ],
   "source": [
    "pontos_imc <- as.data.frame(survey::svytable(~ risco + imcclass, subset(df_analise, diag_diabetes_q030!=\"1\")))\n",
    "pontos_imc"
   ]
  },
  {
   "cell_type": "code",
   "execution_count": 73,
   "metadata": {},
   "outputs": [
    {
     "data": {
      "text/html": [
       "<table>\n",
       "<thead><tr><th></th><th scope=col>risco</th><th scope=col>imcclass</th><th scope=col>Freq</th></tr></thead>\n",
       "<tbody>\n",
       "\t<tr><th scope=row>2</th><td>1       </td><td>1       </td><td>  122614</td></tr>\n",
       "\t<tr><th scope=row>4</th><td>1       </td><td>2       </td><td>  251325</td></tr>\n",
       "\t<tr><th scope=row>6</th><td>1       </td><td>3       </td><td> 5622730</td></tr>\n",
       "\t<tr><th scope=row>8</th><td>1       </td><td>4       </td><td>13145637</td></tr>\n",
       "\t<tr><th scope=row>10</th><td>1       </td><td>5       </td><td> 9170330</td></tr>\n",
       "\t<tr><th scope=row>12</th><td>1       </td><td>6       </td><td> 2545215</td></tr>\n",
       "\t<tr><th scope=row>14</th><td>1       </td><td>7       </td><td> 1352545</td></tr>\n",
       "\t<tr><th scope=row>16</th><td>1       </td><td>Nenhum  </td><td>       0</td></tr>\n",
       "</tbody>\n",
       "</table>\n"
      ],
      "text/latex": [
       "\\begin{tabular}{r|lll}\n",
       "  & risco & imcclass & Freq\\\\\n",
       "\\hline\n",
       "\t2 & 1        & 1        &   122614\\\\\n",
       "\t4 & 1        & 2        &   251325\\\\\n",
       "\t6 & 1        & 3        &  5622730\\\\\n",
       "\t8 & 1        & 4        & 13145637\\\\\n",
       "\t10 & 1        & 5        &  9170330\\\\\n",
       "\t12 & 1        & 6        &  2545215\\\\\n",
       "\t14 & 1        & 7        &  1352545\\\\\n",
       "\t16 & 1        & Nenhum   &        0\\\\\n",
       "\\end{tabular}\n"
      ],
      "text/markdown": [
       "\n",
       "| <!--/--> | risco | imcclass | Freq |\n",
       "|---|---|---|---|\n",
       "| 2 | 1        | 1        |   122614 |\n",
       "| 4 | 1        | 2        |   251325 |\n",
       "| 6 | 1        | 3        |  5622730 |\n",
       "| 8 | 1        | 4        | 13145637 |\n",
       "| 10 | 1        | 5        |  9170330 |\n",
       "| 12 | 1        | 6        |  2545215 |\n",
       "| 14 | 1        | 7        |  1352545 |\n",
       "| 16 | 1        | Nenhum   |        0 |\n",
       "\n"
      ],
      "text/plain": [
       "   risco imcclass Freq    \n",
       "2  1     1          122614\n",
       "4  1     2          251325\n",
       "6  1     3         5622730\n",
       "8  1     4        13145637\n",
       "10 1     5         9170330\n",
       "12 1     6         2545215\n",
       "14 1     7         1352545\n",
       "16 1     Nenhum          0"
      ]
     },
     "metadata": {},
     "output_type": "display_data"
    }
   ],
   "source": [
    "risco_imc = pontos_imc[pontos_imc$risco==1, ]\n",
    "risco_imc$Freq = round(risco_imc$Freq)\n",
    "risco_imc"
   ]
  },
  {
   "cell_type": "code",
   "execution_count": 75,
   "metadata": {},
   "outputs": [
    {
     "data": {
      "text/html": [
       "<table>\n",
       "<thead><tr><th scope=col>imcclass</th><th scope=col>freq</th></tr></thead>\n",
       "<tbody>\n",
       "\t<tr><td>1       </td><td>  976137</td></tr>\n",
       "\t<tr><td>2       </td><td> 2510923</td></tr>\n",
       "\t<tr><td>3       </td><td>56630540</td></tr>\n",
       "\t<tr><td>4       </td><td>48864160</td></tr>\n",
       "\t<tr><td>5       </td><td>19274466</td></tr>\n",
       "\t<tr><td>6       </td><td> 5434981</td></tr>\n",
       "\t<tr><td>7       </td><td> 2046127</td></tr>\n",
       "\t<tr><td>Nenhum  </td><td>       0</td></tr>\n",
       "</tbody>\n",
       "</table>\n"
      ],
      "text/latex": [
       "\\begin{tabular}{r|ll}\n",
       " imcclass & freq\\\\\n",
       "\\hline\n",
       "\t 1        &   976137\\\\\n",
       "\t 2        &  2510923\\\\\n",
       "\t 3        & 56630540\\\\\n",
       "\t 4        & 48864160\\\\\n",
       "\t 5        & 19274466\\\\\n",
       "\t 6        &  5434981\\\\\n",
       "\t 7        &  2046127\\\\\n",
       "\t Nenhum   &        0\\\\\n",
       "\\end{tabular}\n"
      ],
      "text/markdown": [
       "\n",
       "| imcclass | freq |\n",
       "|---|---|\n",
       "| 1        |   976137 |\n",
       "| 2        |  2510923 |\n",
       "| 3        | 56630540 |\n",
       "| 4        | 48864160 |\n",
       "| 5        | 19274466 |\n",
       "| 6        |  5434981 |\n",
       "| 7        |  2046127 |\n",
       "| Nenhum   |        0 |\n",
       "\n"
      ],
      "text/plain": [
       "  imcclass freq    \n",
       "1 1          976137\n",
       "2 2         2510923\n",
       "3 3        56630540\n",
       "4 4        48864160\n",
       "5 5        19274466\n",
       "6 6         5434981\n",
       "7 7         2046127\n",
       "8 Nenhum          0"
      ]
     },
     "metadata": {},
     "output_type": "display_data"
    }
   ],
   "source": [
    "gp_imc = group_by(pontos_imc, imcclass) %>% summarise(freq = sum(Freq))\n",
    "gp_imc$freq = round(gp_imc$freq)\n",
    "gp_imc"
   ]
  },
  {
   "cell_type": "markdown",
   "metadata": {},
   "source": [
    "## Estado"
   ]
  },
  {
   "cell_type": "code",
   "execution_count": 63,
   "metadata": {},
   "outputs": [
    {
     "data": {
      "text/html": [
       "<table>\n",
       "<thead><tr><th scope=col>risco</th><th scope=col>estados_v0001</th><th scope=col>Freq</th></tr></thead>\n",
       "<tbody>\n",
       "\t<tr><td>0          </td><td>11         </td><td>  886318.09</td></tr>\n",
       "\t<tr><td>1          </td><td>11         </td><td>  226984.37</td></tr>\n",
       "\t<tr><td>0          </td><td>12         </td><td>  370290.44</td></tr>\n",
       "\t<tr><td>1          </td><td>12         </td><td>   85009.18</td></tr>\n",
       "\t<tr><td>0          </td><td>13         </td><td> 1750271.83</td></tr>\n",
       "\t<tr><td>1          </td><td>13         </td><td>  380776.66</td></tr>\n",
       "\t<tr><td>0          </td><td>14         </td><td>  218519.73</td></tr>\n",
       "\t<tr><td>1          </td><td>14         </td><td>   40814.25</td></tr>\n",
       "\t<tr><td>0          </td><td>15         </td><td> 4038883.67</td></tr>\n",
       "\t<tr><td>1          </td><td>15         </td><td>  890908.28</td></tr>\n",
       "\t<tr><td>0          </td><td>16         </td><td>  352536.77</td></tr>\n",
       "\t<tr><td>1          </td><td>16         </td><td>   69237.05</td></tr>\n",
       "\t<tr><td>0          </td><td>17         </td><td>  726537.43</td></tr>\n",
       "\t<tr><td>1          </td><td>17         </td><td>  195013.30</td></tr>\n",
       "\t<tr><td>0          </td><td>21         </td><td> 3316089.96</td></tr>\n",
       "\t<tr><td>1          </td><td>21         </td><td>  768329.77</td></tr>\n",
       "\t<tr><td>0          </td><td>22         </td><td> 1643583.91</td></tr>\n",
       "\t<tr><td>1          </td><td>22         </td><td>  447182.15</td></tr>\n",
       "\t<tr><td>0          </td><td>23         </td><td> 4583917.32</td></tr>\n",
       "\t<tr><td>1          </td><td>23         </td><td> 1268368.92</td></tr>\n",
       "\t<tr><td>0          </td><td>24         </td><td> 1720151.36</td></tr>\n",
       "\t<tr><td>1          </td><td>24         </td><td>  522701.22</td></tr>\n",
       "\t<tr><td>0          </td><td>25         </td><td> 1990192.80</td></tr>\n",
       "\t<tr><td>1          </td><td>25         </td><td>  615179.41</td></tr>\n",
       "\t<tr><td>0          </td><td>26         </td><td> 4644098.37</td></tr>\n",
       "\t<tr><td>1          </td><td>26         </td><td> 1371045.05</td></tr>\n",
       "\t<tr><td>0          </td><td>27         </td><td> 1643334.27</td></tr>\n",
       "\t<tr><td>1          </td><td>27         </td><td>  432112.71</td></tr>\n",
       "\t<tr><td>0          </td><td>28         </td><td> 1120940.03</td></tr>\n",
       "\t<tr><td>1          </td><td>28         </td><td>  305788.35</td></tr>\n",
       "\t<tr><td>0          </td><td>29         </td><td> 8044718.47</td></tr>\n",
       "\t<tr><td>1          </td><td>29         </td><td> 2030338.20</td></tr>\n",
       "\t<tr><td>0          </td><td>31         </td><td>10815014.62</td></tr>\n",
       "\t<tr><td>1          </td><td>31         </td><td> 3432789.17</td></tr>\n",
       "\t<tr><td>0          </td><td>32         </td><td> 2047519.07</td></tr>\n",
       "\t<tr><td>1          </td><td>32         </td><td>  560308.94</td></tr>\n",
       "\t<tr><td>0          </td><td>33         </td><td> 8548990.28</td></tr>\n",
       "\t<tr><td>1          </td><td>33         </td><td> 3261918.60</td></tr>\n",
       "\t<tr><td>0          </td><td>35         </td><td>22528602.79</td></tr>\n",
       "\t<tr><td>1          </td><td>35         </td><td> 7872251.05</td></tr>\n",
       "\t<tr><td>0          </td><td>41         </td><td> 5595903.49</td></tr>\n",
       "\t<tr><td>1          </td><td>41         </td><td> 1891682.79</td></tr>\n",
       "\t<tr><td>0          </td><td>42         </td><td> 3602624.12</td></tr>\n",
       "\t<tr><td>1          </td><td>42         </td><td> 1119258.73</td></tr>\n",
       "\t<tr><td>0          </td><td>43         </td><td> 5565702.71</td></tr>\n",
       "\t<tr><td>1          </td><td>43         </td><td> 2241574.50</td></tr>\n",
       "\t<tr><td>0          </td><td>50         </td><td> 1259205.91</td></tr>\n",
       "\t<tr><td>1          </td><td>50         </td><td>  348725.46</td></tr>\n",
       "\t<tr><td>0          </td><td>51         </td><td> 1625302.02</td></tr>\n",
       "\t<tr><td>1          </td><td>51         </td><td>  482019.45</td></tr>\n",
       "\t<tr><td>0          </td><td>52         </td><td> 3339014.18</td></tr>\n",
       "\t<tr><td>1          </td><td>52         </td><td>  995944.51</td></tr>\n",
       "\t<tr><td>0          </td><td>53         </td><td> 1548675.93</td></tr>\n",
       "\t<tr><td>1          </td><td>53         </td><td>  354133.02</td></tr>\n",
       "</tbody>\n",
       "</table>\n"
      ],
      "text/latex": [
       "\\begin{tabular}{r|lll}\n",
       " risco & estados\\_v0001 & Freq\\\\\n",
       "\\hline\n",
       "\t 0           & 11          &   886318.09\\\\\n",
       "\t 1           & 11          &   226984.37\\\\\n",
       "\t 0           & 12          &   370290.44\\\\\n",
       "\t 1           & 12          &    85009.18\\\\\n",
       "\t 0           & 13          &  1750271.83\\\\\n",
       "\t 1           & 13          &   380776.66\\\\\n",
       "\t 0           & 14          &   218519.73\\\\\n",
       "\t 1           & 14          &    40814.25\\\\\n",
       "\t 0           & 15          &  4038883.67\\\\\n",
       "\t 1           & 15          &   890908.28\\\\\n",
       "\t 0           & 16          &   352536.77\\\\\n",
       "\t 1           & 16          &    69237.05\\\\\n",
       "\t 0           & 17          &   726537.43\\\\\n",
       "\t 1           & 17          &   195013.30\\\\\n",
       "\t 0           & 21          &  3316089.96\\\\\n",
       "\t 1           & 21          &   768329.77\\\\\n",
       "\t 0           & 22          &  1643583.91\\\\\n",
       "\t 1           & 22          &   447182.15\\\\\n",
       "\t 0           & 23          &  4583917.32\\\\\n",
       "\t 1           & 23          &  1268368.92\\\\\n",
       "\t 0           & 24          &  1720151.36\\\\\n",
       "\t 1           & 24          &   522701.22\\\\\n",
       "\t 0           & 25          &  1990192.80\\\\\n",
       "\t 1           & 25          &   615179.41\\\\\n",
       "\t 0           & 26          &  4644098.37\\\\\n",
       "\t 1           & 26          &  1371045.05\\\\\n",
       "\t 0           & 27          &  1643334.27\\\\\n",
       "\t 1           & 27          &   432112.71\\\\\n",
       "\t 0           & 28          &  1120940.03\\\\\n",
       "\t 1           & 28          &   305788.35\\\\\n",
       "\t 0           & 29          &  8044718.47\\\\\n",
       "\t 1           & 29          &  2030338.20\\\\\n",
       "\t 0           & 31          & 10815014.62\\\\\n",
       "\t 1           & 31          &  3432789.17\\\\\n",
       "\t 0           & 32          &  2047519.07\\\\\n",
       "\t 1           & 32          &   560308.94\\\\\n",
       "\t 0           & 33          &  8548990.28\\\\\n",
       "\t 1           & 33          &  3261918.60\\\\\n",
       "\t 0           & 35          & 22528602.79\\\\\n",
       "\t 1           & 35          &  7872251.05\\\\\n",
       "\t 0           & 41          &  5595903.49\\\\\n",
       "\t 1           & 41          &  1891682.79\\\\\n",
       "\t 0           & 42          &  3602624.12\\\\\n",
       "\t 1           & 42          &  1119258.73\\\\\n",
       "\t 0           & 43          &  5565702.71\\\\\n",
       "\t 1           & 43          &  2241574.50\\\\\n",
       "\t 0           & 50          &  1259205.91\\\\\n",
       "\t 1           & 50          &   348725.46\\\\\n",
       "\t 0           & 51          &  1625302.02\\\\\n",
       "\t 1           & 51          &   482019.45\\\\\n",
       "\t 0           & 52          &  3339014.18\\\\\n",
       "\t 1           & 52          &   995944.51\\\\\n",
       "\t 0           & 53          &  1548675.93\\\\\n",
       "\t 1           & 53          &   354133.02\\\\\n",
       "\\end{tabular}\n"
      ],
      "text/markdown": [
       "\n",
       "| risco | estados_v0001 | Freq |\n",
       "|---|---|---|\n",
       "| 0           | 11          |   886318.09 |\n",
       "| 1           | 11          |   226984.37 |\n",
       "| 0           | 12          |   370290.44 |\n",
       "| 1           | 12          |    85009.18 |\n",
       "| 0           | 13          |  1750271.83 |\n",
       "| 1           | 13          |   380776.66 |\n",
       "| 0           | 14          |   218519.73 |\n",
       "| 1           | 14          |    40814.25 |\n",
       "| 0           | 15          |  4038883.67 |\n",
       "| 1           | 15          |   890908.28 |\n",
       "| 0           | 16          |   352536.77 |\n",
       "| 1           | 16          |    69237.05 |\n",
       "| 0           | 17          |   726537.43 |\n",
       "| 1           | 17          |   195013.30 |\n",
       "| 0           | 21          |  3316089.96 |\n",
       "| 1           | 21          |   768329.77 |\n",
       "| 0           | 22          |  1643583.91 |\n",
       "| 1           | 22          |   447182.15 |\n",
       "| 0           | 23          |  4583917.32 |\n",
       "| 1           | 23          |  1268368.92 |\n",
       "| 0           | 24          |  1720151.36 |\n",
       "| 1           | 24          |   522701.22 |\n",
       "| 0           | 25          |  1990192.80 |\n",
       "| 1           | 25          |   615179.41 |\n",
       "| 0           | 26          |  4644098.37 |\n",
       "| 1           | 26          |  1371045.05 |\n",
       "| 0           | 27          |  1643334.27 |\n",
       "| 1           | 27          |   432112.71 |\n",
       "| 0           | 28          |  1120940.03 |\n",
       "| 1           | 28          |   305788.35 |\n",
       "| 0           | 29          |  8044718.47 |\n",
       "| 1           | 29          |  2030338.20 |\n",
       "| 0           | 31          | 10815014.62 |\n",
       "| 1           | 31          |  3432789.17 |\n",
       "| 0           | 32          |  2047519.07 |\n",
       "| 1           | 32          |   560308.94 |\n",
       "| 0           | 33          |  8548990.28 |\n",
       "| 1           | 33          |  3261918.60 |\n",
       "| 0           | 35          | 22528602.79 |\n",
       "| 1           | 35          |  7872251.05 |\n",
       "| 0           | 41          |  5595903.49 |\n",
       "| 1           | 41          |  1891682.79 |\n",
       "| 0           | 42          |  3602624.12 |\n",
       "| 1           | 42          |  1119258.73 |\n",
       "| 0           | 43          |  5565702.71 |\n",
       "| 1           | 43          |  2241574.50 |\n",
       "| 0           | 50          |  1259205.91 |\n",
       "| 1           | 50          |   348725.46 |\n",
       "| 0           | 51          |  1625302.02 |\n",
       "| 1           | 51          |   482019.45 |\n",
       "| 0           | 52          |  3339014.18 |\n",
       "| 1           | 52          |   995944.51 |\n",
       "| 0           | 53          |  1548675.93 |\n",
       "| 1           | 53          |   354133.02 |\n",
       "\n"
      ],
      "text/plain": [
       "   risco estados_v0001 Freq       \n",
       "1  0     11              886318.09\n",
       "2  1     11              226984.37\n",
       "3  0     12              370290.44\n",
       "4  1     12               85009.18\n",
       "5  0     13             1750271.83\n",
       "6  1     13              380776.66\n",
       "7  0     14              218519.73\n",
       "8  1     14               40814.25\n",
       "9  0     15             4038883.67\n",
       "10 1     15              890908.28\n",
       "11 0     16              352536.77\n",
       "12 1     16               69237.05\n",
       "13 0     17              726537.43\n",
       "14 1     17              195013.30\n",
       "15 0     21             3316089.96\n",
       "16 1     21              768329.77\n",
       "17 0     22             1643583.91\n",
       "18 1     22              447182.15\n",
       "19 0     23             4583917.32\n",
       "20 1     23             1268368.92\n",
       "21 0     24             1720151.36\n",
       "22 1     24              522701.22\n",
       "23 0     25             1990192.80\n",
       "24 1     25              615179.41\n",
       "25 0     26             4644098.37\n",
       "26 1     26             1371045.05\n",
       "27 0     27             1643334.27\n",
       "28 1     27              432112.71\n",
       "29 0     28             1120940.03\n",
       "30 1     28              305788.35\n",
       "31 0     29             8044718.47\n",
       "32 1     29             2030338.20\n",
       "33 0     31            10815014.62\n",
       "34 1     31             3432789.17\n",
       "35 0     32             2047519.07\n",
       "36 1     32              560308.94\n",
       "37 0     33             8548990.28\n",
       "38 1     33             3261918.60\n",
       "39 0     35            22528602.79\n",
       "40 1     35             7872251.05\n",
       "41 0     41             5595903.49\n",
       "42 1     41             1891682.79\n",
       "43 0     42             3602624.12\n",
       "44 1     42             1119258.73\n",
       "45 0     43             5565702.71\n",
       "46 1     43             2241574.50\n",
       "47 0     50             1259205.91\n",
       "48 1     50              348725.46\n",
       "49 0     51             1625302.02\n",
       "50 1     51              482019.45\n",
       "51 0     52             3339014.18\n",
       "52 1     52              995944.51\n",
       "53 0     53             1548675.93\n",
       "54 1     53              354133.02"
      ]
     },
     "metadata": {},
     "output_type": "display_data"
    }
   ],
   "source": [
    "pontos_est <- as.data.frame(survey::svytable(~ risco + estados_v0001, subset(df_analise, diag_diabetes_q030!=\"1\")))\n",
    "pontos_est"
   ]
  },
  {
   "cell_type": "code",
   "execution_count": 72,
   "metadata": {},
   "outputs": [
    {
     "data": {
      "text/html": [
       "<table>\n",
       "<thead><tr><th></th><th scope=col>risco</th><th scope=col>estados_v0001</th><th scope=col>Freq</th></tr></thead>\n",
       "<tbody>\n",
       "\t<tr><th scope=row>2</th><td>1      </td><td>11     </td><td> 226984</td></tr>\n",
       "\t<tr><th scope=row>4</th><td>1      </td><td>12     </td><td>  85009</td></tr>\n",
       "\t<tr><th scope=row>6</th><td>1      </td><td>13     </td><td> 380777</td></tr>\n",
       "\t<tr><th scope=row>8</th><td>1      </td><td>14     </td><td>  40814</td></tr>\n",
       "\t<tr><th scope=row>10</th><td>1      </td><td>15     </td><td> 890908</td></tr>\n",
       "\t<tr><th scope=row>12</th><td>1      </td><td>16     </td><td>  69237</td></tr>\n",
       "\t<tr><th scope=row>14</th><td>1      </td><td>17     </td><td> 195013</td></tr>\n",
       "\t<tr><th scope=row>16</th><td>1      </td><td>21     </td><td> 768330</td></tr>\n",
       "\t<tr><th scope=row>18</th><td>1      </td><td>22     </td><td> 447182</td></tr>\n",
       "\t<tr><th scope=row>20</th><td>1      </td><td>23     </td><td>1268369</td></tr>\n",
       "\t<tr><th scope=row>22</th><td>1      </td><td>24     </td><td> 522701</td></tr>\n",
       "\t<tr><th scope=row>24</th><td>1      </td><td>25     </td><td> 615179</td></tr>\n",
       "\t<tr><th scope=row>26</th><td>1      </td><td>26     </td><td>1371045</td></tr>\n",
       "\t<tr><th scope=row>28</th><td>1      </td><td>27     </td><td> 432113</td></tr>\n",
       "\t<tr><th scope=row>30</th><td>1      </td><td>28     </td><td> 305788</td></tr>\n",
       "\t<tr><th scope=row>32</th><td>1      </td><td>29     </td><td>2030338</td></tr>\n",
       "\t<tr><th scope=row>34</th><td>1      </td><td>31     </td><td>3432789</td></tr>\n",
       "\t<tr><th scope=row>36</th><td>1      </td><td>32     </td><td> 560309</td></tr>\n",
       "\t<tr><th scope=row>38</th><td>1      </td><td>33     </td><td>3261919</td></tr>\n",
       "\t<tr><th scope=row>40</th><td>1      </td><td>35     </td><td>7872251</td></tr>\n",
       "\t<tr><th scope=row>42</th><td>1      </td><td>41     </td><td>1891683</td></tr>\n",
       "\t<tr><th scope=row>44</th><td>1      </td><td>42     </td><td>1119259</td></tr>\n",
       "\t<tr><th scope=row>46</th><td>1      </td><td>43     </td><td>2241575</td></tr>\n",
       "\t<tr><th scope=row>48</th><td>1      </td><td>50     </td><td> 348725</td></tr>\n",
       "\t<tr><th scope=row>50</th><td>1      </td><td>51     </td><td> 482019</td></tr>\n",
       "\t<tr><th scope=row>52</th><td>1      </td><td>52     </td><td> 995945</td></tr>\n",
       "\t<tr><th scope=row>54</th><td>1      </td><td>53     </td><td> 354133</td></tr>\n",
       "</tbody>\n",
       "</table>\n"
      ],
      "text/latex": [
       "\\begin{tabular}{r|lll}\n",
       "  & risco & estados\\_v0001 & Freq\\\\\n",
       "\\hline\n",
       "\t2 & 1       & 11      &  226984\\\\\n",
       "\t4 & 1       & 12      &   85009\\\\\n",
       "\t6 & 1       & 13      &  380777\\\\\n",
       "\t8 & 1       & 14      &   40814\\\\\n",
       "\t10 & 1       & 15      &  890908\\\\\n",
       "\t12 & 1       & 16      &   69237\\\\\n",
       "\t14 & 1       & 17      &  195013\\\\\n",
       "\t16 & 1       & 21      &  768330\\\\\n",
       "\t18 & 1       & 22      &  447182\\\\\n",
       "\t20 & 1       & 23      & 1268369\\\\\n",
       "\t22 & 1       & 24      &  522701\\\\\n",
       "\t24 & 1       & 25      &  615179\\\\\n",
       "\t26 & 1       & 26      & 1371045\\\\\n",
       "\t28 & 1       & 27      &  432113\\\\\n",
       "\t30 & 1       & 28      &  305788\\\\\n",
       "\t32 & 1       & 29      & 2030338\\\\\n",
       "\t34 & 1       & 31      & 3432789\\\\\n",
       "\t36 & 1       & 32      &  560309\\\\\n",
       "\t38 & 1       & 33      & 3261919\\\\\n",
       "\t40 & 1       & 35      & 7872251\\\\\n",
       "\t42 & 1       & 41      & 1891683\\\\\n",
       "\t44 & 1       & 42      & 1119259\\\\\n",
       "\t46 & 1       & 43      & 2241575\\\\\n",
       "\t48 & 1       & 50      &  348725\\\\\n",
       "\t50 & 1       & 51      &  482019\\\\\n",
       "\t52 & 1       & 52      &  995945\\\\\n",
       "\t54 & 1       & 53      &  354133\\\\\n",
       "\\end{tabular}\n"
      ],
      "text/markdown": [
       "\n",
       "| <!--/--> | risco | estados_v0001 | Freq |\n",
       "|---|---|---|---|\n",
       "| 2 | 1       | 11      |  226984 |\n",
       "| 4 | 1       | 12      |   85009 |\n",
       "| 6 | 1       | 13      |  380777 |\n",
       "| 8 | 1       | 14      |   40814 |\n",
       "| 10 | 1       | 15      |  890908 |\n",
       "| 12 | 1       | 16      |   69237 |\n",
       "| 14 | 1       | 17      |  195013 |\n",
       "| 16 | 1       | 21      |  768330 |\n",
       "| 18 | 1       | 22      |  447182 |\n",
       "| 20 | 1       | 23      | 1268369 |\n",
       "| 22 | 1       | 24      |  522701 |\n",
       "| 24 | 1       | 25      |  615179 |\n",
       "| 26 | 1       | 26      | 1371045 |\n",
       "| 28 | 1       | 27      |  432113 |\n",
       "| 30 | 1       | 28      |  305788 |\n",
       "| 32 | 1       | 29      | 2030338 |\n",
       "| 34 | 1       | 31      | 3432789 |\n",
       "| 36 | 1       | 32      |  560309 |\n",
       "| 38 | 1       | 33      | 3261919 |\n",
       "| 40 | 1       | 35      | 7872251 |\n",
       "| 42 | 1       | 41      | 1891683 |\n",
       "| 44 | 1       | 42      | 1119259 |\n",
       "| 46 | 1       | 43      | 2241575 |\n",
       "| 48 | 1       | 50      |  348725 |\n",
       "| 50 | 1       | 51      |  482019 |\n",
       "| 52 | 1       | 52      |  995945 |\n",
       "| 54 | 1       | 53      |  354133 |\n",
       "\n"
      ],
      "text/plain": [
       "   risco estados_v0001 Freq   \n",
       "2  1     11             226984\n",
       "4  1     12              85009\n",
       "6  1     13             380777\n",
       "8  1     14              40814\n",
       "10 1     15             890908\n",
       "12 1     16              69237\n",
       "14 1     17             195013\n",
       "16 1     21             768330\n",
       "18 1     22             447182\n",
       "20 1     23            1268369\n",
       "22 1     24             522701\n",
       "24 1     25             615179\n",
       "26 1     26            1371045\n",
       "28 1     27             432113\n",
       "30 1     28             305788\n",
       "32 1     29            2030338\n",
       "34 1     31            3432789\n",
       "36 1     32             560309\n",
       "38 1     33            3261919\n",
       "40 1     35            7872251\n",
       "42 1     41            1891683\n",
       "44 1     42            1119259\n",
       "46 1     43            2241575\n",
       "48 1     50             348725\n",
       "50 1     51             482019\n",
       "52 1     52             995945\n",
       "54 1     53             354133"
      ]
     },
     "metadata": {},
     "output_type": "display_data"
    }
   ],
   "source": [
    "risco_est = pontos_est[pontos_est$risco==1, ]\n",
    "risco_est$Freq = round(risco_est$Freq)\n",
    "risco_est"
   ]
  },
  {
   "cell_type": "code",
   "execution_count": 71,
   "metadata": {},
   "outputs": [
    {
     "data": {
      "text/html": [
       "<table>\n",
       "<thead><tr><th scope=col>estados_v0001</th><th scope=col>freq</th></tr></thead>\n",
       "<tbody>\n",
       "\t<tr><td>11      </td><td> 1113302</td></tr>\n",
       "\t<tr><td>12      </td><td>  455300</td></tr>\n",
       "\t<tr><td>13      </td><td> 2131048</td></tr>\n",
       "\t<tr><td>14      </td><td>  259334</td></tr>\n",
       "\t<tr><td>15      </td><td> 4929792</td></tr>\n",
       "\t<tr><td>16      </td><td>  421774</td></tr>\n",
       "\t<tr><td>17      </td><td>  921551</td></tr>\n",
       "\t<tr><td>21      </td><td> 4084420</td></tr>\n",
       "\t<tr><td>22      </td><td> 2090766</td></tr>\n",
       "\t<tr><td>23      </td><td> 5852286</td></tr>\n",
       "\t<tr><td>24      </td><td> 2242853</td></tr>\n",
       "\t<tr><td>25      </td><td> 2605372</td></tr>\n",
       "\t<tr><td>26      </td><td> 6015143</td></tr>\n",
       "\t<tr><td>27      </td><td> 2075447</td></tr>\n",
       "\t<tr><td>28      </td><td> 1426728</td></tr>\n",
       "\t<tr><td>29      </td><td>10075057</td></tr>\n",
       "\t<tr><td>31      </td><td>14247804</td></tr>\n",
       "\t<tr><td>32      </td><td> 2607828</td></tr>\n",
       "\t<tr><td>33      </td><td>11810909</td></tr>\n",
       "\t<tr><td>35      </td><td>30400854</td></tr>\n",
       "\t<tr><td>41      </td><td> 7487586</td></tr>\n",
       "\t<tr><td>42      </td><td> 4721883</td></tr>\n",
       "\t<tr><td>43      </td><td> 7807277</td></tr>\n",
       "\t<tr><td>50      </td><td> 1607931</td></tr>\n",
       "\t<tr><td>51      </td><td> 2107321</td></tr>\n",
       "\t<tr><td>52      </td><td> 4334959</td></tr>\n",
       "\t<tr><td>53      </td><td> 1902809</td></tr>\n",
       "</tbody>\n",
       "</table>\n"
      ],
      "text/latex": [
       "\\begin{tabular}{r|ll}\n",
       " estados\\_v0001 & freq\\\\\n",
       "\\hline\n",
       "\t 11       &  1113302\\\\\n",
       "\t 12       &   455300\\\\\n",
       "\t 13       &  2131048\\\\\n",
       "\t 14       &   259334\\\\\n",
       "\t 15       &  4929792\\\\\n",
       "\t 16       &   421774\\\\\n",
       "\t 17       &   921551\\\\\n",
       "\t 21       &  4084420\\\\\n",
       "\t 22       &  2090766\\\\\n",
       "\t 23       &  5852286\\\\\n",
       "\t 24       &  2242853\\\\\n",
       "\t 25       &  2605372\\\\\n",
       "\t 26       &  6015143\\\\\n",
       "\t 27       &  2075447\\\\\n",
       "\t 28       &  1426728\\\\\n",
       "\t 29       & 10075057\\\\\n",
       "\t 31       & 14247804\\\\\n",
       "\t 32       &  2607828\\\\\n",
       "\t 33       & 11810909\\\\\n",
       "\t 35       & 30400854\\\\\n",
       "\t 41       &  7487586\\\\\n",
       "\t 42       &  4721883\\\\\n",
       "\t 43       &  7807277\\\\\n",
       "\t 50       &  1607931\\\\\n",
       "\t 51       &  2107321\\\\\n",
       "\t 52       &  4334959\\\\\n",
       "\t 53       &  1902809\\\\\n",
       "\\end{tabular}\n"
      ],
      "text/markdown": [
       "\n",
       "| estados_v0001 | freq |\n",
       "|---|---|\n",
       "| 11       |  1113302 |\n",
       "| 12       |   455300 |\n",
       "| 13       |  2131048 |\n",
       "| 14       |   259334 |\n",
       "| 15       |  4929792 |\n",
       "| 16       |   421774 |\n",
       "| 17       |   921551 |\n",
       "| 21       |  4084420 |\n",
       "| 22       |  2090766 |\n",
       "| 23       |  5852286 |\n",
       "| 24       |  2242853 |\n",
       "| 25       |  2605372 |\n",
       "| 26       |  6015143 |\n",
       "| 27       |  2075447 |\n",
       "| 28       |  1426728 |\n",
       "| 29       | 10075057 |\n",
       "| 31       | 14247804 |\n",
       "| 32       |  2607828 |\n",
       "| 33       | 11810909 |\n",
       "| 35       | 30400854 |\n",
       "| 41       |  7487586 |\n",
       "| 42       |  4721883 |\n",
       "| 43       |  7807277 |\n",
       "| 50       |  1607931 |\n",
       "| 51       |  2107321 |\n",
       "| 52       |  4334959 |\n",
       "| 53       |  1902809 |\n",
       "\n"
      ],
      "text/plain": [
       "   estados_v0001 freq    \n",
       "1  11             1113302\n",
       "2  12              455300\n",
       "3  13             2131048\n",
       "4  14              259334\n",
       "5  15             4929792\n",
       "6  16              421774\n",
       "7  17              921551\n",
       "8  21             4084420\n",
       "9  22             2090766\n",
       "10 23             5852286\n",
       "11 24             2242853\n",
       "12 25             2605372\n",
       "13 26             6015143\n",
       "14 27             2075447\n",
       "15 28             1426728\n",
       "16 29            10075057\n",
       "17 31            14247804\n",
       "18 32             2607828\n",
       "19 33            11810909\n",
       "20 35            30400854\n",
       "21 41             7487586\n",
       "22 42             4721883\n",
       "23 43             7807277\n",
       "24 50             1607931\n",
       "25 51             2107321\n",
       "26 52             4334959\n",
       "27 53             1902809"
      ]
     },
     "metadata": {},
     "output_type": "display_data"
    }
   ],
   "source": [
    "gp_estados = group_by(pontos_est, estados_v0001) %>% summarise(freq = sum(Freq))\n",
    "gp_estados$freq = round(gp_estados$freq, 0)\n",
    "gp_estados"
   ]
  },
  {
   "cell_type": "markdown",
   "metadata": {},
   "source": [
    "## Diabéticos"
   ]
  },
  {
   "cell_type": "code",
   "execution_count": 77,
   "metadata": {},
   "outputs": [
    {
     "data": {
      "text/html": [
       "<table>\n",
       "<thead><tr><th scope=col>risco</th><th scope=col>Freq</th></tr></thead>\n",
       "<tbody>\n",
       "\t<tr><td>0      </td><td>2751692</td></tr>\n",
       "\t<tr><td>1      </td><td>6356264</td></tr>\n",
       "</tbody>\n",
       "</table>\n"
      ],
      "text/latex": [
       "\\begin{tabular}{r|ll}\n",
       " risco & Freq\\\\\n",
       "\\hline\n",
       "\t 0       & 2751692\\\\\n",
       "\t 1       & 6356264\\\\\n",
       "\\end{tabular}\n"
      ],
      "text/markdown": [
       "\n",
       "| risco | Freq |\n",
       "|---|---|\n",
       "| 0       | 2751692 |\n",
       "| 1       | 6356264 |\n",
       "\n"
      ],
      "text/plain": [
       "  risco Freq   \n",
       "1 0     2751692\n",
       "2 1     6356264"
      ]
     },
     "metadata": {},
     "output_type": "display_data"
    }
   ],
   "source": [
    "pontos_diab <- as.data.frame(survey::svytable(~ risco, subset(df_analise, diag_diabetes_q030==\"1\")))\n",
    "pontos_diab"
   ]
  },
  {
   "cell_type": "code",
   "execution_count": 78,
   "metadata": {},
   "outputs": [
    {
     "data": {
      "text/html": [
       "9107956.56552619"
      ],
      "text/latex": [
       "9107956.56552619"
      ],
      "text/markdown": [
       "9107956.56552619"
      ],
      "text/plain": [
       "[1] 9107957"
      ]
     },
     "metadata": {},
     "output_type": "display_data"
    }
   ],
   "source": [
    "sum(pontos_diab$Freq)"
   ]
  },
  {
   "cell_type": "markdown",
   "metadata": {},
   "source": [
    "## Exames > 3 anos"
   ]
  },
  {
   "cell_type": "code",
   "execution_count": 83,
   "metadata": {},
   "outputs": [
    {
     "data": {
      "text/html": [
       "<table>\n",
       "<thead><tr><th scope=col>risco</th><th scope=col>Freq</th></tr></thead>\n",
       "<tbody>\n",
       "\t<tr><td>0       </td><td>11762552</td></tr>\n",
       "\t<tr><td>1       </td><td> 2971105</td></tr>\n",
       "</tbody>\n",
       "</table>\n"
      ],
      "text/latex": [
       "\\begin{tabular}{r|ll}\n",
       " risco & Freq\\\\\n",
       "\\hline\n",
       "\t 0        & 11762552\\\\\n",
       "\t 1        &  2971105\\\\\n",
       "\\end{tabular}\n"
      ],
      "text/markdown": [
       "\n",
       "| risco | Freq |\n",
       "|---|---|\n",
       "| 0        | 11762552 |\n",
       "| 1        |  2971105 |\n",
       "\n"
      ],
      "text/plain": [
       "  risco Freq    \n",
       "1 0     11762552\n",
       "2 1      2971105"
      ]
     },
     "metadata": {},
     "output_type": "display_data"
    }
   ],
   "source": [
    "pontos_3 <- as.data.frame(survey::svytable(~ risco, subset(df_analise, diag_diabetes_q030!=\"1\" & exame_diab_q029 == \"5\")))\n",
    "pontos_3"
   ]
  },
  {
   "cell_type": "code",
   "execution_count": 84,
   "metadata": {},
   "outputs": [
    {
     "data": {
      "text/html": [
       "14733657.415086"
      ],
      "text/latex": [
       "14733657.415086"
      ],
      "text/markdown": [
       "14733657.415086"
      ],
      "text/plain": [
       "[1] 14733657"
      ]
     },
     "metadata": {},
     "output_type": "display_data"
    }
   ],
   "source": [
    "sum(pontos_3$Freq)"
   ]
  },
  {
   "cell_type": "markdown",
   "metadata": {},
   "source": [
    "## Sem Exames"
   ]
  },
  {
   "cell_type": "code",
   "execution_count": 85,
   "metadata": {},
   "outputs": [
    {
     "data": {
      "text/html": [
       "<table>\n",
       "<thead><tr><th scope=col>risco</th><th scope=col>Freq</th></tr></thead>\n",
       "<tbody>\n",
       "\t<tr><td>0       </td><td>14512843</td></tr>\n",
       "\t<tr><td>1       </td><td> 2239590</td></tr>\n",
       "</tbody>\n",
       "</table>\n"
      ],
      "text/latex": [
       "\\begin{tabular}{r|ll}\n",
       " risco & Freq\\\\\n",
       "\\hline\n",
       "\t 0        & 14512843\\\\\n",
       "\t 1        &  2239590\\\\\n",
       "\\end{tabular}\n"
      ],
      "text/markdown": [
       "\n",
       "| risco | Freq |\n",
       "|---|---|\n",
       "| 0        | 14512843 |\n",
       "| 1        |  2239590 |\n",
       "\n"
      ],
      "text/plain": [
       "  risco Freq    \n",
       "1 0     14512843\n",
       "2 1      2239590"
      ]
     },
     "metadata": {},
     "output_type": "display_data"
    }
   ],
   "source": [
    "pontos_0 <- as.data.frame(survey::svytable(~ risco, subset(df_analise, diag_diabetes_q030!=\"1\" & exame_diab_q029 == \"6\")))\n",
    "pontos_0"
   ]
  },
  {
   "cell_type": "code",
   "execution_count": 86,
   "metadata": {},
   "outputs": [
    {
     "data": {
      "text/html": [
       "16752433.2626118"
      ],
      "text/latex": [
       "16752433.2626118"
      ],
      "text/markdown": [
       "16752433.2626118"
      ],
      "text/plain": [
       "[1] 16752433"
      ]
     },
     "metadata": {},
     "output_type": "display_data"
    }
   ],
   "source": [
    "sum(pontos_0$Freq)"
   ]
  },
  {
   "cell_type": "markdown",
   "metadata": {},
   "source": [
    "## Sem Exames FXEtaria"
   ]
  },
  {
   "cell_type": "code",
   "execution_count": 89,
   "metadata": {},
   "outputs": [
    {
     "data": {
      "text/html": [
       "<table>\n",
       "<thead><tr><th scope=col>risco</th><th scope=col>fxetaria</th><th scope=col>Freq</th></tr></thead>\n",
       "<tbody>\n",
       "\t<tr><td>0         </td><td>18        </td><td>2004137.12</td></tr>\n",
       "\t<tr><td>1         </td><td>18        </td><td>      0.00</td></tr>\n",
       "\t<tr><td>0         </td><td>22        </td><td>3163204.80</td></tr>\n",
       "\t<tr><td>1         </td><td>22        </td><td>  14621.80</td></tr>\n",
       "\t<tr><td>0         </td><td>32        </td><td>5918967.15</td></tr>\n",
       "\t<tr><td>1         </td><td>32        </td><td>  72289.82</td></tr>\n",
       "\t<tr><td>0         </td><td>50        </td><td>3194043.24</td></tr>\n",
       "\t<tr><td>1         </td><td>50        </td><td>1033470.18</td></tr>\n",
       "\t<tr><td>0         </td><td>60        </td><td> 232491.16</td></tr>\n",
       "\t<tr><td>1         </td><td>60        </td><td>1119207.99</td></tr>\n",
       "</tbody>\n",
       "</table>\n"
      ],
      "text/latex": [
       "\\begin{tabular}{r|lll}\n",
       " risco & fxetaria & Freq\\\\\n",
       "\\hline\n",
       "\t 0          & 18         & 2004137.12\\\\\n",
       "\t 1          & 18         &       0.00\\\\\n",
       "\t 0          & 22         & 3163204.80\\\\\n",
       "\t 1          & 22         &   14621.80\\\\\n",
       "\t 0          & 32         & 5918967.15\\\\\n",
       "\t 1          & 32         &   72289.82\\\\\n",
       "\t 0          & 50         & 3194043.24\\\\\n",
       "\t 1          & 50         & 1033470.18\\\\\n",
       "\t 0          & 60         &  232491.16\\\\\n",
       "\t 1          & 60         & 1119207.99\\\\\n",
       "\\end{tabular}\n"
      ],
      "text/markdown": [
       "\n",
       "| risco | fxetaria | Freq |\n",
       "|---|---|---|\n",
       "| 0          | 18         | 2004137.12 |\n",
       "| 1          | 18         |       0.00 |\n",
       "| 0          | 22         | 3163204.80 |\n",
       "| 1          | 22         |   14621.80 |\n",
       "| 0          | 32         | 5918967.15 |\n",
       "| 1          | 32         |   72289.82 |\n",
       "| 0          | 50         | 3194043.24 |\n",
       "| 1          | 50         | 1033470.18 |\n",
       "| 0          | 60         |  232491.16 |\n",
       "| 1          | 60         | 1119207.99 |\n",
       "\n"
      ],
      "text/plain": [
       "   risco fxetaria Freq      \n",
       "1  0     18       2004137.12\n",
       "2  1     18             0.00\n",
       "3  0     22       3163204.80\n",
       "4  1     22         14621.80\n",
       "5  0     32       5918967.15\n",
       "6  1     32         72289.82\n",
       "7  0     50       3194043.24\n",
       "8  1     50       1033470.18\n",
       "9  0     60        232491.16\n",
       "10 1     60       1119207.99"
      ]
     },
     "metadata": {},
     "output_type": "display_data"
    }
   ],
   "source": [
    "pontos_0_fxetaria <- as.data.frame(survey::svytable(~ risco + fxetaria, subset(df_analise, diag_diabetes_q030!=\"1\" & exame_diab_q029 == \"6\")))\n",
    "pontos_0_fxetaria"
   ]
  },
  {
   "cell_type": "code",
   "execution_count": 90,
   "metadata": {},
   "outputs": [
    {
     "data": {
      "text/html": [
       "16752433.2626118"
      ],
      "text/latex": [
       "16752433.2626118"
      ],
      "text/markdown": [
       "16752433.2626118"
      ],
      "text/plain": [
       "[1] 16752433"
      ]
     },
     "metadata": {},
     "output_type": "display_data"
    }
   ],
   "source": [
    "sum(pontos_0_fxetaria$Freq)"
   ]
  },
  {
   "cell_type": "code",
   "execution_count": 91,
   "metadata": {},
   "outputs": [
    {
     "data": {
      "text/html": [
       "<table>\n",
       "<thead><tr><th scope=col>fxetaria</th><th scope=col>freq</th></tr></thead>\n",
       "<tbody>\n",
       "\t<tr><td>18     </td><td>2004137</td></tr>\n",
       "\t<tr><td>22     </td><td>3177827</td></tr>\n",
       "\t<tr><td>32     </td><td>5991257</td></tr>\n",
       "\t<tr><td>50     </td><td>4227513</td></tr>\n",
       "\t<tr><td>60     </td><td>1351699</td></tr>\n",
       "</tbody>\n",
       "</table>\n"
      ],
      "text/latex": [
       "\\begin{tabular}{r|ll}\n",
       " fxetaria & freq\\\\\n",
       "\\hline\n",
       "\t 18      & 2004137\\\\\n",
       "\t 22      & 3177827\\\\\n",
       "\t 32      & 5991257\\\\\n",
       "\t 50      & 4227513\\\\\n",
       "\t 60      & 1351699\\\\\n",
       "\\end{tabular}\n"
      ],
      "text/markdown": [
       "\n",
       "| fxetaria | freq |\n",
       "|---|---|\n",
       "| 18      | 2004137 |\n",
       "| 22      | 3177827 |\n",
       "| 32      | 5991257 |\n",
       "| 50      | 4227513 |\n",
       "| 60      | 1351699 |\n",
       "\n"
      ],
      "text/plain": [
       "  fxetaria freq   \n",
       "1 18       2004137\n",
       "2 22       3177827\n",
       "3 32       5991257\n",
       "4 50       4227513\n",
       "5 60       1351699"
      ]
     },
     "metadata": {},
     "output_type": "display_data"
    }
   ],
   "source": [
    "gp0_fxetaria = group_by(pontos_0_fxetaria, fxetaria) %>% summarise(freq = sum(Freq))\n",
    "gp0_fxetaria$freq = round(gp0_fxetaria$freq, 0)\n",
    "gp0_fxetaria"
   ]
  },
  {
   "cell_type": "markdown",
   "metadata": {},
   "source": [
    "## Sem Exames Estados"
   ]
  },
  {
   "cell_type": "code",
   "execution_count": 92,
   "metadata": {},
   "outputs": [
    {
     "data": {
      "text/html": [
       "<table>\n",
       "<thead><tr><th scope=col>risco</th><th scope=col>estados_v0001</th><th scope=col>Freq</th></tr></thead>\n",
       "<tbody>\n",
       "\t<tr><td>0          </td><td>11         </td><td> 177874.129</td></tr>\n",
       "\t<tr><td>1          </td><td>11         </td><td>  16441.459</td></tr>\n",
       "\t<tr><td>0          </td><td>12         </td><td> 106766.335</td></tr>\n",
       "\t<tr><td>1          </td><td>12         </td><td>  11011.318</td></tr>\n",
       "\t<tr><td>0          </td><td>13         </td><td> 314101.654</td></tr>\n",
       "\t<tr><td>1          </td><td>13         </td><td>  34648.192</td></tr>\n",
       "\t<tr><td>0          </td><td>14         </td><td>  56549.649</td></tr>\n",
       "\t<tr><td>1          </td><td>14         </td><td>   4947.046</td></tr>\n",
       "\t<tr><td>0          </td><td>15         </td><td> 850860.550</td></tr>\n",
       "\t<tr><td>1          </td><td>15         </td><td> 126268.294</td></tr>\n",
       "\t<tr><td>0          </td><td>16         </td><td>  66505.717</td></tr>\n",
       "\t<tr><td>1          </td><td>16         </td><td>   4841.592</td></tr>\n",
       "\t<tr><td>0          </td><td>17         </td><td> 161529.267</td></tr>\n",
       "\t<tr><td>1          </td><td>17         </td><td>  25657.543</td></tr>\n",
       "\t<tr><td>0          </td><td>21         </td><td> 945594.013</td></tr>\n",
       "\t<tr><td>1          </td><td>21         </td><td> 177112.576</td></tr>\n",
       "\t<tr><td>0          </td><td>22         </td><td> 311526.121</td></tr>\n",
       "\t<tr><td>1          </td><td>22         </td><td>  81830.925</td></tr>\n",
       "\t<tr><td>0          </td><td>23         </td><td>1137900.461</td></tr>\n",
       "\t<tr><td>1          </td><td>23         </td><td> 160207.790</td></tr>\n",
       "\t<tr><td>0          </td><td>24         </td><td> 213925.075</td></tr>\n",
       "\t<tr><td>1          </td><td>24         </td><td>  26593.366</td></tr>\n",
       "\t<tr><td>0          </td><td>25         </td><td> 241622.198</td></tr>\n",
       "\t<tr><td>1          </td><td>25         </td><td>  30480.100</td></tr>\n",
       "\t<tr><td>0          </td><td>26         </td><td> 599985.060</td></tr>\n",
       "\t<tr><td>1          </td><td>26         </td><td> 129372.689</td></tr>\n",
       "\t<tr><td>0          </td><td>27         </td><td> 253506.186</td></tr>\n",
       "\t<tr><td>1          </td><td>27         </td><td>  36223.301</td></tr>\n",
       "\t<tr><td>0          </td><td>28         </td><td> 105995.250</td></tr>\n",
       "\t<tr><td>1          </td><td>28         </td><td>  24384.382</td></tr>\n",
       "\t<tr><td>0          </td><td>29         </td><td>1031959.065</td></tr>\n",
       "\t<tr><td>1          </td><td>29         </td><td> 141667.000</td></tr>\n",
       "\t<tr><td>0          </td><td>31         </td><td>1488960.552</td></tr>\n",
       "\t<tr><td>1          </td><td>31         </td><td> 235766.730</td></tr>\n",
       "\t<tr><td>0          </td><td>32         </td><td> 164371.299</td></tr>\n",
       "\t<tr><td>1          </td><td>32         </td><td>  17194.965</td></tr>\n",
       "\t<tr><td>0          </td><td>33         </td><td> 540221.696</td></tr>\n",
       "\t<tr><td>1          </td><td>33         </td><td> 126438.724</td></tr>\n",
       "\t<tr><td>0          </td><td>35         </td><td>2165157.544</td></tr>\n",
       "\t<tr><td>1          </td><td>35         </td><td> 272445.790</td></tr>\n",
       "\t<tr><td>0          </td><td>41         </td><td> 859017.353</td></tr>\n",
       "\t<tr><td>1          </td><td>41         </td><td> 131207.225</td></tr>\n",
       "\t<tr><td>0          </td><td>42         </td><td> 559829.566</td></tr>\n",
       "\t<tr><td>1          </td><td>42         </td><td>  76872.722</td></tr>\n",
       "\t<tr><td>0          </td><td>43         </td><td> 840476.052</td></tr>\n",
       "\t<tr><td>1          </td><td>43         </td><td> 180284.972</td></tr>\n",
       "\t<tr><td>0          </td><td>50         </td><td> 229753.800</td></tr>\n",
       "\t<tr><td>1          </td><td>50         </td><td>  22393.676</td></tr>\n",
       "\t<tr><td>0          </td><td>51         </td><td> 345193.444</td></tr>\n",
       "\t<tr><td>1          </td><td>51         </td><td>  53789.466</td></tr>\n",
       "\t<tr><td>0          </td><td>52         </td><td> 580153.396</td></tr>\n",
       "\t<tr><td>1          </td><td>52         </td><td>  79471.753</td></tr>\n",
       "\t<tr><td>0          </td><td>53         </td><td> 163508.043</td></tr>\n",
       "\t<tr><td>1          </td><td>53         </td><td>  12036.191</td></tr>\n",
       "</tbody>\n",
       "</table>\n"
      ],
      "text/latex": [
       "\\begin{tabular}{r|lll}\n",
       " risco & estados\\_v0001 & Freq\\\\\n",
       "\\hline\n",
       "\t 0           & 11          &  177874.129\\\\\n",
       "\t 1           & 11          &   16441.459\\\\\n",
       "\t 0           & 12          &  106766.335\\\\\n",
       "\t 1           & 12          &   11011.318\\\\\n",
       "\t 0           & 13          &  314101.654\\\\\n",
       "\t 1           & 13          &   34648.192\\\\\n",
       "\t 0           & 14          &   56549.649\\\\\n",
       "\t 1           & 14          &    4947.046\\\\\n",
       "\t 0           & 15          &  850860.550\\\\\n",
       "\t 1           & 15          &  126268.294\\\\\n",
       "\t 0           & 16          &   66505.717\\\\\n",
       "\t 1           & 16          &    4841.592\\\\\n",
       "\t 0           & 17          &  161529.267\\\\\n",
       "\t 1           & 17          &   25657.543\\\\\n",
       "\t 0           & 21          &  945594.013\\\\\n",
       "\t 1           & 21          &  177112.576\\\\\n",
       "\t 0           & 22          &  311526.121\\\\\n",
       "\t 1           & 22          &   81830.925\\\\\n",
       "\t 0           & 23          & 1137900.461\\\\\n",
       "\t 1           & 23          &  160207.790\\\\\n",
       "\t 0           & 24          &  213925.075\\\\\n",
       "\t 1           & 24          &   26593.366\\\\\n",
       "\t 0           & 25          &  241622.198\\\\\n",
       "\t 1           & 25          &   30480.100\\\\\n",
       "\t 0           & 26          &  599985.060\\\\\n",
       "\t 1           & 26          &  129372.689\\\\\n",
       "\t 0           & 27          &  253506.186\\\\\n",
       "\t 1           & 27          &   36223.301\\\\\n",
       "\t 0           & 28          &  105995.250\\\\\n",
       "\t 1           & 28          &   24384.382\\\\\n",
       "\t 0           & 29          & 1031959.065\\\\\n",
       "\t 1           & 29          &  141667.000\\\\\n",
       "\t 0           & 31          & 1488960.552\\\\\n",
       "\t 1           & 31          &  235766.730\\\\\n",
       "\t 0           & 32          &  164371.299\\\\\n",
       "\t 1           & 32          &   17194.965\\\\\n",
       "\t 0           & 33          &  540221.696\\\\\n",
       "\t 1           & 33          &  126438.724\\\\\n",
       "\t 0           & 35          & 2165157.544\\\\\n",
       "\t 1           & 35          &  272445.790\\\\\n",
       "\t 0           & 41          &  859017.353\\\\\n",
       "\t 1           & 41          &  131207.225\\\\\n",
       "\t 0           & 42          &  559829.566\\\\\n",
       "\t 1           & 42          &   76872.722\\\\\n",
       "\t 0           & 43          &  840476.052\\\\\n",
       "\t 1           & 43          &  180284.972\\\\\n",
       "\t 0           & 50          &  229753.800\\\\\n",
       "\t 1           & 50          &   22393.676\\\\\n",
       "\t 0           & 51          &  345193.444\\\\\n",
       "\t 1           & 51          &   53789.466\\\\\n",
       "\t 0           & 52          &  580153.396\\\\\n",
       "\t 1           & 52          &   79471.753\\\\\n",
       "\t 0           & 53          &  163508.043\\\\\n",
       "\t 1           & 53          &   12036.191\\\\\n",
       "\\end{tabular}\n"
      ],
      "text/markdown": [
       "\n",
       "| risco | estados_v0001 | Freq |\n",
       "|---|---|---|\n",
       "| 0           | 11          |  177874.129 |\n",
       "| 1           | 11          |   16441.459 |\n",
       "| 0           | 12          |  106766.335 |\n",
       "| 1           | 12          |   11011.318 |\n",
       "| 0           | 13          |  314101.654 |\n",
       "| 1           | 13          |   34648.192 |\n",
       "| 0           | 14          |   56549.649 |\n",
       "| 1           | 14          |    4947.046 |\n",
       "| 0           | 15          |  850860.550 |\n",
       "| 1           | 15          |  126268.294 |\n",
       "| 0           | 16          |   66505.717 |\n",
       "| 1           | 16          |    4841.592 |\n",
       "| 0           | 17          |  161529.267 |\n",
       "| 1           | 17          |   25657.543 |\n",
       "| 0           | 21          |  945594.013 |\n",
       "| 1           | 21          |  177112.576 |\n",
       "| 0           | 22          |  311526.121 |\n",
       "| 1           | 22          |   81830.925 |\n",
       "| 0           | 23          | 1137900.461 |\n",
       "| 1           | 23          |  160207.790 |\n",
       "| 0           | 24          |  213925.075 |\n",
       "| 1           | 24          |   26593.366 |\n",
       "| 0           | 25          |  241622.198 |\n",
       "| 1           | 25          |   30480.100 |\n",
       "| 0           | 26          |  599985.060 |\n",
       "| 1           | 26          |  129372.689 |\n",
       "| 0           | 27          |  253506.186 |\n",
       "| 1           | 27          |   36223.301 |\n",
       "| 0           | 28          |  105995.250 |\n",
       "| 1           | 28          |   24384.382 |\n",
       "| 0           | 29          | 1031959.065 |\n",
       "| 1           | 29          |  141667.000 |\n",
       "| 0           | 31          | 1488960.552 |\n",
       "| 1           | 31          |  235766.730 |\n",
       "| 0           | 32          |  164371.299 |\n",
       "| 1           | 32          |   17194.965 |\n",
       "| 0           | 33          |  540221.696 |\n",
       "| 1           | 33          |  126438.724 |\n",
       "| 0           | 35          | 2165157.544 |\n",
       "| 1           | 35          |  272445.790 |\n",
       "| 0           | 41          |  859017.353 |\n",
       "| 1           | 41          |  131207.225 |\n",
       "| 0           | 42          |  559829.566 |\n",
       "| 1           | 42          |   76872.722 |\n",
       "| 0           | 43          |  840476.052 |\n",
       "| 1           | 43          |  180284.972 |\n",
       "| 0           | 50          |  229753.800 |\n",
       "| 1           | 50          |   22393.676 |\n",
       "| 0           | 51          |  345193.444 |\n",
       "| 1           | 51          |   53789.466 |\n",
       "| 0           | 52          |  580153.396 |\n",
       "| 1           | 52          |   79471.753 |\n",
       "| 0           | 53          |  163508.043 |\n",
       "| 1           | 53          |   12036.191 |\n",
       "\n"
      ],
      "text/plain": [
       "   risco estados_v0001 Freq       \n",
       "1  0     11             177874.129\n",
       "2  1     11              16441.459\n",
       "3  0     12             106766.335\n",
       "4  1     12              11011.318\n",
       "5  0     13             314101.654\n",
       "6  1     13              34648.192\n",
       "7  0     14              56549.649\n",
       "8  1     14               4947.046\n",
       "9  0     15             850860.550\n",
       "10 1     15             126268.294\n",
       "11 0     16              66505.717\n",
       "12 1     16               4841.592\n",
       "13 0     17             161529.267\n",
       "14 1     17              25657.543\n",
       "15 0     21             945594.013\n",
       "16 1     21             177112.576\n",
       "17 0     22             311526.121\n",
       "18 1     22              81830.925\n",
       "19 0     23            1137900.461\n",
       "20 1     23             160207.790\n",
       "21 0     24             213925.075\n",
       "22 1     24              26593.366\n",
       "23 0     25             241622.198\n",
       "24 1     25              30480.100\n",
       "25 0     26             599985.060\n",
       "26 1     26             129372.689\n",
       "27 0     27             253506.186\n",
       "28 1     27              36223.301\n",
       "29 0     28             105995.250\n",
       "30 1     28              24384.382\n",
       "31 0     29            1031959.065\n",
       "32 1     29             141667.000\n",
       "33 0     31            1488960.552\n",
       "34 1     31             235766.730\n",
       "35 0     32             164371.299\n",
       "36 1     32              17194.965\n",
       "37 0     33             540221.696\n",
       "38 1     33             126438.724\n",
       "39 0     35            2165157.544\n",
       "40 1     35             272445.790\n",
       "41 0     41             859017.353\n",
       "42 1     41             131207.225\n",
       "43 0     42             559829.566\n",
       "44 1     42              76872.722\n",
       "45 0     43             840476.052\n",
       "46 1     43             180284.972\n",
       "47 0     50             229753.800\n",
       "48 1     50              22393.676\n",
       "49 0     51             345193.444\n",
       "50 1     51              53789.466\n",
       "51 0     52             580153.396\n",
       "52 1     52              79471.753\n",
       "53 0     53             163508.043\n",
       "54 1     53              12036.191"
      ]
     },
     "metadata": {},
     "output_type": "display_data"
    }
   ],
   "source": [
    "pontos_0_est <- as.data.frame(survey::svytable(~ risco + estados_v0001, subset(df_analise, diag_diabetes_q030!=\"1\" & exame_diab_q029 == \"6\")))\n",
    "pontos_0_est"
   ]
  },
  {
   "cell_type": "code",
   "execution_count": 94,
   "metadata": {},
   "outputs": [
    {
     "data": {
      "text/html": [
       "<ol class=list-inline>\n",
       "\t<li>16441</li>\n",
       "\t<li>11011</li>\n",
       "\t<li>34648</li>\n",
       "\t<li>4947</li>\n",
       "\t<li>126268</li>\n",
       "\t<li>4842</li>\n",
       "\t<li>25658</li>\n",
       "\t<li>177113</li>\n",
       "\t<li>81831</li>\n",
       "\t<li>160208</li>\n",
       "\t<li>26593</li>\n",
       "\t<li>30480</li>\n",
       "\t<li>129373</li>\n",
       "\t<li>36223</li>\n",
       "\t<li>24384</li>\n",
       "\t<li>141667</li>\n",
       "\t<li>235767</li>\n",
       "\t<li>17195</li>\n",
       "\t<li>126439</li>\n",
       "\t<li>272446</li>\n",
       "\t<li>131207</li>\n",
       "\t<li>76873</li>\n",
       "\t<li>180285</li>\n",
       "\t<li>22394</li>\n",
       "\t<li>53789</li>\n",
       "\t<li>79472</li>\n",
       "\t<li>12036</li>\n",
       "</ol>\n"
      ],
      "text/latex": [
       "\\begin{enumerate*}\n",
       "\\item 16441\n",
       "\\item 11011\n",
       "\\item 34648\n",
       "\\item 4947\n",
       "\\item 126268\n",
       "\\item 4842\n",
       "\\item 25658\n",
       "\\item 177113\n",
       "\\item 81831\n",
       "\\item 160208\n",
       "\\item 26593\n",
       "\\item 30480\n",
       "\\item 129373\n",
       "\\item 36223\n",
       "\\item 24384\n",
       "\\item 141667\n",
       "\\item 235767\n",
       "\\item 17195\n",
       "\\item 126439\n",
       "\\item 272446\n",
       "\\item 131207\n",
       "\\item 76873\n",
       "\\item 180285\n",
       "\\item 22394\n",
       "\\item 53789\n",
       "\\item 79472\n",
       "\\item 12036\n",
       "\\end{enumerate*}\n"
      ],
      "text/markdown": [
       "1. 16441\n",
       "2. 11011\n",
       "3. 34648\n",
       "4. 4947\n",
       "5. 126268\n",
       "6. 4842\n",
       "7. 25658\n",
       "8. 177113\n",
       "9. 81831\n",
       "10. 160208\n",
       "11. 26593\n",
       "12. 30480\n",
       "13. 129373\n",
       "14. 36223\n",
       "15. 24384\n",
       "16. 141667\n",
       "17. 235767\n",
       "18. 17195\n",
       "19. 126439\n",
       "20. 272446\n",
       "21. 131207\n",
       "22. 76873\n",
       "23. 180285\n",
       "24. 22394\n",
       "25. 53789\n",
       "26. 79472\n",
       "27. 12036\n",
       "\n",
       "\n"
      ],
      "text/plain": [
       " [1]  16441  11011  34648   4947 126268   4842  25658 177113  81831 160208\n",
       "[11]  26593  30480 129373  36223  24384 141667 235767  17195 126439 272446\n",
       "[21] 131207  76873 180285  22394  53789  79472  12036"
      ]
     },
     "metadata": {},
     "output_type": "display_data"
    }
   ],
   "source": [
    "risco_0_est = pontos_0_est[pontos_0_est$risco==1, ]\n",
    "risco_0_est$Freq = round(risco_0_est$Freq)\n",
    "risco_0_est$Freq"
   ]
  },
  {
   "cell_type": "code",
   "execution_count": 95,
   "metadata": {},
   "outputs": [
    {
     "data": {
      "text/html": [
       "16752433.2626118"
      ],
      "text/latex": [
       "16752433.2626118"
      ],
      "text/markdown": [
       "16752433.2626118"
      ],
      "text/plain": [
       "[1] 16752433"
      ]
     },
     "metadata": {},
     "output_type": "display_data"
    }
   ],
   "source": [
    "sum(pontos_0_est$Freq)"
   ]
  },
  {
   "cell_type": "code",
   "execution_count": 97,
   "metadata": {},
   "outputs": [
    {
     "data": {
      "text/html": [
       "<ol class=list-inline>\n",
       "\t<li>194316</li>\n",
       "\t<li>117778</li>\n",
       "\t<li>348750</li>\n",
       "\t<li>61497</li>\n",
       "\t<li>977129</li>\n",
       "\t<li>71347</li>\n",
       "\t<li>187187</li>\n",
       "\t<li>1122707</li>\n",
       "\t<li>393357</li>\n",
       "\t<li>1298108</li>\n",
       "\t<li>240518</li>\n",
       "\t<li>272102</li>\n",
       "\t<li>729358</li>\n",
       "\t<li>289729</li>\n",
       "\t<li>130380</li>\n",
       "\t<li>1173626</li>\n",
       "\t<li>1724727</li>\n",
       "\t<li>181566</li>\n",
       "\t<li>666660</li>\n",
       "\t<li>2437603</li>\n",
       "\t<li>990225</li>\n",
       "\t<li>636702</li>\n",
       "\t<li>1020761</li>\n",
       "\t<li>252147</li>\n",
       "\t<li>398983</li>\n",
       "\t<li>659625</li>\n",
       "\t<li>175544</li>\n",
       "</ol>\n"
      ],
      "text/latex": [
       "\\begin{enumerate*}\n",
       "\\item 194316\n",
       "\\item 117778\n",
       "\\item 348750\n",
       "\\item 61497\n",
       "\\item 977129\n",
       "\\item 71347\n",
       "\\item 187187\n",
       "\\item 1122707\n",
       "\\item 393357\n",
       "\\item 1298108\n",
       "\\item 240518\n",
       "\\item 272102\n",
       "\\item 729358\n",
       "\\item 289729\n",
       "\\item 130380\n",
       "\\item 1173626\n",
       "\\item 1724727\n",
       "\\item 181566\n",
       "\\item 666660\n",
       "\\item 2437603\n",
       "\\item 990225\n",
       "\\item 636702\n",
       "\\item 1020761\n",
       "\\item 252147\n",
       "\\item 398983\n",
       "\\item 659625\n",
       "\\item 175544\n",
       "\\end{enumerate*}\n"
      ],
      "text/markdown": [
       "1. 194316\n",
       "2. 117778\n",
       "3. 348750\n",
       "4. 61497\n",
       "5. 977129\n",
       "6. 71347\n",
       "7. 187187\n",
       "8. 1122707\n",
       "9. 393357\n",
       "10. 1298108\n",
       "11. 240518\n",
       "12. 272102\n",
       "13. 729358\n",
       "14. 289729\n",
       "15. 130380\n",
       "16. 1173626\n",
       "17. 1724727\n",
       "18. 181566\n",
       "19. 666660\n",
       "20. 2437603\n",
       "21. 990225\n",
       "22. 636702\n",
       "23. 1020761\n",
       "24. 252147\n",
       "25. 398983\n",
       "26. 659625\n",
       "27. 175544\n",
       "\n",
       "\n"
      ],
      "text/plain": [
       " [1]  194316  117778  348750   61497  977129   71347  187187 1122707  393357\n",
       "[10] 1298108  240518  272102  729358  289729  130380 1173626 1724727  181566\n",
       "[19]  666660 2437603  990225  636702 1020761  252147  398983  659625  175544"
      ]
     },
     "metadata": {},
     "output_type": "display_data"
    }
   ],
   "source": [
    "gp0_est = group_by(pontos_0_est, estados_v0001) %>% summarise(freq = sum(Freq))\n",
    "gp0_est$freq = round(gp0_est$freq, 0)\n",
    "gp0_est$freq"
   ]
  }
 ],
 "metadata": {
  "jupytext": {
   "cell_metadata_filter": "tags,name,message,warning,-all",
   "main_language": "R",
   "notebook_metadata_filter": "-all"
  },
  "kernelspec": {
   "display_name": "R",
   "language": "R",
   "name": "ir"
  },
  "language_info": {
   "name": ""
  }
 },
 "nbformat": 4,
 "nbformat_minor": 4
}
